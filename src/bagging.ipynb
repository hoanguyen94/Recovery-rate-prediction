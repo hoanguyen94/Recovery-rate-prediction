{
 "cells": [
  {
   "cell_type": "code",
   "execution_count": 1,
   "metadata": {},
   "outputs": [
    {
     "name": "stdout",
     "output_type": "stream",
     "text": [
      "Collecting pytorch_tabular\n",
      "  Downloading pytorch_tabular-1.1.1-py2.py3-none-any.whl.metadata (24 kB)\n",
      "Requirement already satisfied: torch>=1.11.0 in /home/nguyenhoa/miniconda3/envs/.henv/lib/python3.12/site-packages (from pytorch_tabular) (2.3.1)\n",
      "Requirement already satisfied: numpy<2.0,>1.20.0 in /home/nguyenhoa/miniconda3/envs/.henv/lib/python3.12/site-packages (from pytorch_tabular) (1.26.4)\n",
      "Requirement already satisfied: pandas>=1.1.5 in /home/nguyenhoa/miniconda3/envs/.henv/lib/python3.12/site-packages (from pytorch_tabular) (2.2.2)\n",
      "Requirement already satisfied: scikit-learn>=1.3.0 in /home/nguyenhoa/miniconda3/envs/.henv/lib/python3.12/site-packages (from pytorch_tabular) (1.5.1)\n",
      "Collecting pytorch-lightning<2.5.0,>=2.0.0 (from pytorch_tabular)\n",
      "  Downloading pytorch_lightning-2.4.0-py3-none-any.whl.metadata (21 kB)\n",
      "Collecting omegaconf>=2.3.0 (from pytorch_tabular)\n",
      "  Downloading omegaconf-2.3.0-py3-none-any.whl.metadata (3.9 kB)\n",
      "Collecting torchmetrics<1.6.0,>=0.10.0 (from pytorch_tabular)\n",
      "  Downloading torchmetrics-1.5.2-py3-none-any.whl.metadata (20 kB)\n",
      "Collecting tensorboard!=2.5.0,>2.2.0 (from pytorch_tabular)\n",
      "  Downloading tensorboard-2.19.0-py3-none-any.whl.metadata (1.8 kB)\n",
      "Requirement already satisfied: protobuf<5.29.0,>=3.20.0 in /home/nguyenhoa/miniconda3/envs/.henv/lib/python3.12/site-packages (from pytorch_tabular) (5.27.2)\n",
      "Collecting pytorch-tabnet==4.1 (from pytorch_tabular)\n",
      "  Downloading pytorch_tabnet-4.1.0-py3-none-any.whl.metadata (15 kB)\n",
      "Requirement already satisfied: PyYAML<6.1.0,>=5.4 in /home/nguyenhoa/miniconda3/envs/.henv/lib/python3.12/site-packages (from pytorch_tabular) (6.0.1)\n",
      "Requirement already satisfied: matplotlib>3.1 in /home/nguyenhoa/miniconda3/envs/.henv/lib/python3.12/site-packages (from pytorch_tabular) (3.9.3)\n",
      "Collecting ipywidgets (from pytorch_tabular)\n",
      "  Downloading ipywidgets-8.1.5-py3-none-any.whl.metadata (2.3 kB)\n",
      "Collecting einops<0.8.0,>=0.6.0 (from pytorch_tabular)\n",
      "  Downloading einops-0.7.0-py3-none-any.whl.metadata (13 kB)\n",
      "Collecting rich>=11.0.0 (from pytorch_tabular)\n",
      "  Downloading rich-13.9.4-py3-none-any.whl.metadata (18 kB)\n",
      "Requirement already satisfied: scipy>1.4 in /home/nguyenhoa/miniconda3/envs/.henv/lib/python3.12/site-packages (from pytorch-tabnet==4.1->pytorch_tabular) (1.14.0)\n",
      "Requirement already satisfied: tqdm>=4.36 in /home/nguyenhoa/miniconda3/envs/.henv/lib/python3.12/site-packages (from pytorch-tabnet==4.1->pytorch_tabular) (4.66.4)\n",
      "Requirement already satisfied: contourpy>=1.0.1 in /home/nguyenhoa/miniconda3/envs/.henv/lib/python3.12/site-packages (from matplotlib>3.1->pytorch_tabular) (1.3.1)\n",
      "Requirement already satisfied: cycler>=0.10 in /home/nguyenhoa/miniconda3/envs/.henv/lib/python3.12/site-packages (from matplotlib>3.1->pytorch_tabular) (0.12.1)\n",
      "Requirement already satisfied: fonttools>=4.22.0 in /home/nguyenhoa/miniconda3/envs/.henv/lib/python3.12/site-packages (from matplotlib>3.1->pytorch_tabular) (4.55.2)\n",
      "Requirement already satisfied: kiwisolver>=1.3.1 in /home/nguyenhoa/miniconda3/envs/.henv/lib/python3.12/site-packages (from matplotlib>3.1->pytorch_tabular) (1.4.7)\n",
      "Requirement already satisfied: packaging>=20.0 in /home/nguyenhoa/miniconda3/envs/.henv/lib/python3.12/site-packages (from matplotlib>3.1->pytorch_tabular) (24.1)\n",
      "Requirement already satisfied: pillow>=8 in /home/nguyenhoa/miniconda3/envs/.henv/lib/python3.12/site-packages (from matplotlib>3.1->pytorch_tabular) (11.0.0)\n",
      "Requirement already satisfied: pyparsing>=2.3.1 in /home/nguyenhoa/miniconda3/envs/.henv/lib/python3.12/site-packages (from matplotlib>3.1->pytorch_tabular) (3.2.0)\n",
      "Requirement already satisfied: python-dateutil>=2.7 in /home/nguyenhoa/miniconda3/envs/.henv/lib/python3.12/site-packages (from matplotlib>3.1->pytorch_tabular) (2.9.0)\n",
      "Collecting antlr4-python3-runtime==4.9.* (from omegaconf>=2.3.0->pytorch_tabular)\n",
      "  Downloading antlr4-python3-runtime-4.9.3.tar.gz (117 kB)\n",
      "\u001b[2K     \u001b[90m━━━━━━━━━━━━━━━━━━━━━━━━━━━━━━━━━━━━━━\u001b[0m \u001b[32m117.0/117.0 kB\u001b[0m \u001b[31m12.3 MB/s\u001b[0m eta \u001b[36m0:00:00\u001b[0m\n",
      "\u001b[?25h  Preparing metadata (setup.py) ... \u001b[?25ldone\n",
      "\u001b[?25hRequirement already satisfied: pytz>=2020.1 in /home/nguyenhoa/miniconda3/envs/.henv/lib/python3.12/site-packages (from pandas>=1.1.5->pytorch_tabular) (2024.1)\n",
      "Requirement already satisfied: tzdata>=2022.7 in /home/nguyenhoa/miniconda3/envs/.henv/lib/python3.12/site-packages (from pandas>=1.1.5->pytorch_tabular) (2024.1)\n",
      "Requirement already satisfied: fsspec>=2022.5.0 in /home/nguyenhoa/miniconda3/envs/.henv/lib/python3.12/site-packages (from fsspec[http]>=2022.5.0->pytorch-lightning<2.5.0,>=2.0.0->pytorch_tabular) (2024.6.1)\n",
      "Requirement already satisfied: typing-extensions>=4.4.0 in /home/nguyenhoa/miniconda3/envs/.henv/lib/python3.12/site-packages (from pytorch-lightning<2.5.0,>=2.0.0->pytorch_tabular) (4.12.2)\n",
      "Collecting lightning-utilities>=0.10.0 (from pytorch-lightning<2.5.0,>=2.0.0->pytorch_tabular)\n",
      "  Downloading lightning_utilities-0.14.2-py3-none-any.whl.metadata (5.6 kB)\n",
      "Collecting markdown-it-py>=2.2.0 (from rich>=11.0.0->pytorch_tabular)\n",
      "  Using cached markdown_it_py-3.0.0-py3-none-any.whl.metadata (6.9 kB)\n",
      "Requirement already satisfied: pygments<3.0.0,>=2.13.0 in /home/nguyenhoa/miniconda3/envs/.henv/lib/python3.12/site-packages (from rich>=11.0.0->pytorch_tabular) (2.18.0)\n",
      "Requirement already satisfied: joblib>=1.2.0 in /home/nguyenhoa/miniconda3/envs/.henv/lib/python3.12/site-packages (from scikit-learn>=1.3.0->pytorch_tabular) (1.4.2)\n",
      "Requirement already satisfied: threadpoolctl>=3.1.0 in /home/nguyenhoa/miniconda3/envs/.henv/lib/python3.12/site-packages (from scikit-learn>=1.3.0->pytorch_tabular) (3.5.0)\n",
      "Collecting absl-py>=0.4 (from tensorboard!=2.5.0,>2.2.0->pytorch_tabular)\n",
      "  Downloading absl_py-2.2.0-py3-none-any.whl.metadata (2.4 kB)\n",
      "Collecting grpcio>=1.48.2 (from tensorboard!=2.5.0,>2.2.0->pytorch_tabular)\n",
      "  Downloading grpcio-1.71.0-cp312-cp312-manylinux_2_17_x86_64.manylinux2014_x86_64.whl.metadata (3.8 kB)\n",
      "Collecting markdown>=2.6.8 (from tensorboard!=2.5.0,>2.2.0->pytorch_tabular)\n",
      "  Downloading Markdown-3.7-py3-none-any.whl.metadata (7.0 kB)\n",
      "Requirement already satisfied: setuptools>=41.0.0 in /home/nguyenhoa/miniconda3/envs/.henv/lib/python3.12/site-packages (from tensorboard!=2.5.0,>2.2.0->pytorch_tabular) (69.5.1)\n",
      "Requirement already satisfied: six>1.9 in /home/nguyenhoa/miniconda3/envs/.henv/lib/python3.12/site-packages (from tensorboard!=2.5.0,>2.2.0->pytorch_tabular) (1.16.0)\n",
      "Collecting tensorboard-data-server<0.8.0,>=0.7.0 (from tensorboard!=2.5.0,>2.2.0->pytorch_tabular)\n",
      "  Using cached tensorboard_data_server-0.7.2-py3-none-manylinux_2_31_x86_64.whl.metadata (1.1 kB)\n",
      "Collecting werkzeug>=1.0.1 (from tensorboard!=2.5.0,>2.2.0->pytorch_tabular)\n",
      "  Downloading werkzeug-3.1.3-py3-none-any.whl.metadata (3.7 kB)\n",
      "Requirement already satisfied: filelock in /home/nguyenhoa/miniconda3/envs/.henv/lib/python3.12/site-packages (from torch>=1.11.0->pytorch_tabular) (3.15.4)\n",
      "Requirement already satisfied: sympy in /home/nguyenhoa/miniconda3/envs/.henv/lib/python3.12/site-packages (from torch>=1.11.0->pytorch_tabular) (1.13.1)\n",
      "Requirement already satisfied: networkx in /home/nguyenhoa/miniconda3/envs/.henv/lib/python3.12/site-packages (from torch>=1.11.0->pytorch_tabular) (3.3)\n",
      "Requirement already satisfied: jinja2 in /home/nguyenhoa/miniconda3/envs/.henv/lib/python3.12/site-packages (from torch>=1.11.0->pytorch_tabular) (3.1.4)\n",
      "Requirement already satisfied: nvidia-cuda-nvrtc-cu12==12.1.105 in /home/nguyenhoa/miniconda3/envs/.henv/lib/python3.12/site-packages (from torch>=1.11.0->pytorch_tabular) (12.1.105)\n",
      "Requirement already satisfied: nvidia-cuda-runtime-cu12==12.1.105 in /home/nguyenhoa/miniconda3/envs/.henv/lib/python3.12/site-packages (from torch>=1.11.0->pytorch_tabular) (12.1.105)\n",
      "Requirement already satisfied: nvidia-cuda-cupti-cu12==12.1.105 in /home/nguyenhoa/miniconda3/envs/.henv/lib/python3.12/site-packages (from torch>=1.11.0->pytorch_tabular) (12.1.105)\n",
      "Requirement already satisfied: nvidia-cudnn-cu12==8.9.2.26 in /home/nguyenhoa/miniconda3/envs/.henv/lib/python3.12/site-packages (from torch>=1.11.0->pytorch_tabular) (8.9.2.26)\n",
      "Requirement already satisfied: nvidia-cublas-cu12==12.1.3.1 in /home/nguyenhoa/miniconda3/envs/.henv/lib/python3.12/site-packages (from torch>=1.11.0->pytorch_tabular) (12.1.3.1)\n",
      "Requirement already satisfied: nvidia-cufft-cu12==11.0.2.54 in /home/nguyenhoa/miniconda3/envs/.henv/lib/python3.12/site-packages (from torch>=1.11.0->pytorch_tabular) (11.0.2.54)\n",
      "Requirement already satisfied: nvidia-curand-cu12==10.3.2.106 in /home/nguyenhoa/miniconda3/envs/.henv/lib/python3.12/site-packages (from torch>=1.11.0->pytorch_tabular) (10.3.2.106)\n",
      "Requirement already satisfied: nvidia-cusolver-cu12==11.4.5.107 in /home/nguyenhoa/miniconda3/envs/.henv/lib/python3.12/site-packages (from torch>=1.11.0->pytorch_tabular) (11.4.5.107)\n",
      "Requirement already satisfied: nvidia-cusparse-cu12==12.1.0.106 in /home/nguyenhoa/miniconda3/envs/.henv/lib/python3.12/site-packages (from torch>=1.11.0->pytorch_tabular) (12.1.0.106)\n",
      "Requirement already satisfied: nvidia-nccl-cu12==2.20.5 in /home/nguyenhoa/miniconda3/envs/.henv/lib/python3.12/site-packages (from torch>=1.11.0->pytorch_tabular) (2.20.5)\n",
      "Requirement already satisfied: nvidia-nvtx-cu12==12.1.105 in /home/nguyenhoa/miniconda3/envs/.henv/lib/python3.12/site-packages (from torch>=1.11.0->pytorch_tabular) (12.1.105)\n",
      "Requirement already satisfied: nvidia-nvjitlink-cu12 in /home/nguyenhoa/miniconda3/envs/.henv/lib/python3.12/site-packages (from nvidia-cusolver-cu12==11.4.5.107->torch>=1.11.0->pytorch_tabular) (12.5.82)\n",
      "Requirement already satisfied: comm>=0.1.3 in /home/nguyenhoa/miniconda3/envs/.henv/lib/python3.12/site-packages (from ipywidgets->pytorch_tabular) (0.2.2)\n",
      "Requirement already satisfied: ipython>=6.1.0 in /home/nguyenhoa/miniconda3/envs/.henv/lib/python3.12/site-packages (from ipywidgets->pytorch_tabular) (8.26.0)\n",
      "Requirement already satisfied: traitlets>=4.3.1 in /home/nguyenhoa/miniconda3/envs/.henv/lib/python3.12/site-packages (from ipywidgets->pytorch_tabular) (5.14.3)\n",
      "Collecting widgetsnbextension~=4.0.12 (from ipywidgets->pytorch_tabular)\n",
      "  Downloading widgetsnbextension-4.0.13-py3-none-any.whl.metadata (1.6 kB)\n",
      "Collecting jupyterlab-widgets~=3.0.12 (from ipywidgets->pytorch_tabular)\n",
      "  Downloading jupyterlab_widgets-3.0.13-py3-none-any.whl.metadata (4.1 kB)\n",
      "Collecting aiohttp!=4.0.0a0,!=4.0.0a1 (from fsspec[http]>=2022.5.0->pytorch-lightning<2.5.0,>=2.0.0->pytorch_tabular)\n",
      "  Downloading aiohttp-3.11.14-cp312-cp312-manylinux_2_17_x86_64.manylinux2014_x86_64.whl.metadata (7.7 kB)\n",
      "Requirement already satisfied: decorator in /home/nguyenhoa/miniconda3/envs/.henv/lib/python3.12/site-packages (from ipython>=6.1.0->ipywidgets->pytorch_tabular) (5.1.1)\n",
      "Requirement already satisfied: jedi>=0.16 in /home/nguyenhoa/miniconda3/envs/.henv/lib/python3.12/site-packages (from ipython>=6.1.0->ipywidgets->pytorch_tabular) (0.19.1)\n",
      "Requirement already satisfied: matplotlib-inline in /home/nguyenhoa/miniconda3/envs/.henv/lib/python3.12/site-packages (from ipython>=6.1.0->ipywidgets->pytorch_tabular) (0.1.7)\n",
      "Requirement already satisfied: prompt-toolkit<3.1.0,>=3.0.41 in /home/nguyenhoa/miniconda3/envs/.henv/lib/python3.12/site-packages (from ipython>=6.1.0->ipywidgets->pytorch_tabular) (3.0.47)\n",
      "Requirement already satisfied: stack-data in /home/nguyenhoa/miniconda3/envs/.henv/lib/python3.12/site-packages (from ipython>=6.1.0->ipywidgets->pytorch_tabular) (0.6.2)\n",
      "Requirement already satisfied: pexpect>4.3 in /home/nguyenhoa/miniconda3/envs/.henv/lib/python3.12/site-packages (from ipython>=6.1.0->ipywidgets->pytorch_tabular) (4.9.0)\n",
      "Collecting mdurl~=0.1 (from markdown-it-py>=2.2.0->rich>=11.0.0->pytorch_tabular)\n",
      "  Using cached mdurl-0.1.2-py3-none-any.whl.metadata (1.6 kB)\n",
      "Requirement already satisfied: MarkupSafe>=2.1.1 in /home/nguyenhoa/miniconda3/envs/.henv/lib/python3.12/site-packages (from werkzeug>=1.0.1->tensorboard!=2.5.0,>2.2.0->pytorch_tabular) (2.1.5)\n",
      "Requirement already satisfied: mpmath<1.4,>=1.1.0 in /home/nguyenhoa/miniconda3/envs/.henv/lib/python3.12/site-packages (from sympy->torch>=1.11.0->pytorch_tabular) (1.3.0)\n",
      "Collecting aiohappyeyeballs>=2.3.0 (from aiohttp!=4.0.0a0,!=4.0.0a1->fsspec[http]>=2022.5.0->pytorch-lightning<2.5.0,>=2.0.0->pytorch_tabular)\n",
      "  Downloading aiohappyeyeballs-2.6.1-py3-none-any.whl.metadata (5.9 kB)\n",
      "Collecting aiosignal>=1.1.2 (from aiohttp!=4.0.0a0,!=4.0.0a1->fsspec[http]>=2022.5.0->pytorch-lightning<2.5.0,>=2.0.0->pytorch_tabular)\n",
      "  Downloading aiosignal-1.3.2-py2.py3-none-any.whl.metadata (3.8 kB)\n",
      "Collecting attrs>=17.3.0 (from aiohttp!=4.0.0a0,!=4.0.0a1->fsspec[http]>=2022.5.0->pytorch-lightning<2.5.0,>=2.0.0->pytorch_tabular)\n",
      "  Downloading attrs-25.3.0-py3-none-any.whl.metadata (10 kB)\n",
      "Collecting frozenlist>=1.1.1 (from aiohttp!=4.0.0a0,!=4.0.0a1->fsspec[http]>=2022.5.0->pytorch-lightning<2.5.0,>=2.0.0->pytorch_tabular)\n",
      "  Downloading frozenlist-1.5.0-cp312-cp312-manylinux_2_5_x86_64.manylinux1_x86_64.manylinux_2_17_x86_64.manylinux2014_x86_64.whl.metadata (13 kB)\n",
      "Collecting multidict<7.0,>=4.5 (from aiohttp!=4.0.0a0,!=4.0.0a1->fsspec[http]>=2022.5.0->pytorch-lightning<2.5.0,>=2.0.0->pytorch_tabular)\n",
      "  Downloading multidict-6.2.0-cp312-cp312-manylinux_2_17_x86_64.manylinux2014_x86_64.whl.metadata (4.9 kB)\n",
      "Collecting propcache>=0.2.0 (from aiohttp!=4.0.0a0,!=4.0.0a1->fsspec[http]>=2022.5.0->pytorch-lightning<2.5.0,>=2.0.0->pytorch_tabular)\n",
      "  Downloading propcache-0.3.0-cp312-cp312-manylinux_2_17_x86_64.manylinux2014_x86_64.whl.metadata (10 kB)\n",
      "Collecting yarl<2.0,>=1.17.0 (from aiohttp!=4.0.0a0,!=4.0.0a1->fsspec[http]>=2022.5.0->pytorch-lightning<2.5.0,>=2.0.0->pytorch_tabular)\n",
      "  Downloading yarl-1.18.3-cp312-cp312-manylinux_2_17_x86_64.manylinux2014_x86_64.whl.metadata (69 kB)\n",
      "\u001b[2K     \u001b[90m━━━━━━━━━━━━━━━━━━━━━━━━━━━━━━━━━━━━━━━━\u001b[0m \u001b[32m69.2/69.2 kB\u001b[0m \u001b[31m11.3 MB/s\u001b[0m eta \u001b[36m0:00:00\u001b[0m\n",
      "\u001b[?25hRequirement already satisfied: parso<0.9.0,>=0.8.3 in /home/nguyenhoa/miniconda3/envs/.henv/lib/python3.12/site-packages (from jedi>=0.16->ipython>=6.1.0->ipywidgets->pytorch_tabular) (0.8.4)\n",
      "Requirement already satisfied: ptyprocess>=0.5 in /home/nguyenhoa/miniconda3/envs/.henv/lib/python3.12/site-packages (from pexpect>4.3->ipython>=6.1.0->ipywidgets->pytorch_tabular) (0.7.0)\n",
      "Requirement already satisfied: wcwidth in /home/nguyenhoa/miniconda3/envs/.henv/lib/python3.12/site-packages (from prompt-toolkit<3.1.0,>=3.0.41->ipython>=6.1.0->ipywidgets->pytorch_tabular) (0.2.13)\n",
      "Requirement already satisfied: executing>=1.2.0 in /home/nguyenhoa/miniconda3/envs/.henv/lib/python3.12/site-packages (from stack-data->ipython>=6.1.0->ipywidgets->pytorch_tabular) (2.0.1)\n",
      "Requirement already satisfied: asttokens>=2.1.0 in /home/nguyenhoa/miniconda3/envs/.henv/lib/python3.12/site-packages (from stack-data->ipython>=6.1.0->ipywidgets->pytorch_tabular) (2.4.1)\n",
      "Requirement already satisfied: pure-eval in /home/nguyenhoa/miniconda3/envs/.henv/lib/python3.12/site-packages (from stack-data->ipython>=6.1.0->ipywidgets->pytorch_tabular) (0.2.2)\n",
      "Requirement already satisfied: idna>=2.0 in /home/nguyenhoa/miniconda3/envs/.henv/lib/python3.12/site-packages (from yarl<2.0,>=1.17.0->aiohttp!=4.0.0a0,!=4.0.0a1->fsspec[http]>=2022.5.0->pytorch-lightning<2.5.0,>=2.0.0->pytorch_tabular) (3.7)\n",
      "Downloading pytorch_tabular-1.1.1-py2.py3-none-any.whl (163 kB)\n",
      "\u001b[2K   \u001b[90m━━━━━━━━━━━━━━━━━━━━━━━━━━━━━━━━━━━━━━━━\u001b[0m \u001b[32m163.8/163.8 kB\u001b[0m \u001b[31m11.7 MB/s\u001b[0m eta \u001b[36m0:00:00\u001b[0m\n",
      "\u001b[?25hDownloading pytorch_tabnet-4.1.0-py3-none-any.whl (44 kB)\n",
      "\u001b[2K   \u001b[90m━━━━━━━━━━━━━━━━━━━━━━━━━━━━━━━━━━━━━━━━\u001b[0m \u001b[32m44.5/44.5 kB\u001b[0m \u001b[31m11.1 MB/s\u001b[0m eta \u001b[36m0:00:00\u001b[0m\n",
      "\u001b[?25hDownloading einops-0.7.0-py3-none-any.whl (44 kB)\n",
      "\u001b[2K   \u001b[90m━━━━━━━━━━━━━━━━━━━━━━━━━━━━━━━━━━━━━━━━\u001b[0m \u001b[32m44.6/44.6 kB\u001b[0m \u001b[31m12.0 MB/s\u001b[0m eta \u001b[36m0:00:00\u001b[0m\n",
      "\u001b[?25hDownloading omegaconf-2.3.0-py3-none-any.whl (79 kB)\n",
      "\u001b[2K   \u001b[90m━━━━━━━━━━━━━━━━━━━━━━━━━━━━━━━━━━━━━━━━\u001b[0m \u001b[32m79.5/79.5 kB\u001b[0m \u001b[31m11.6 MB/s\u001b[0m eta \u001b[36m0:00:00\u001b[0m\n",
      "\u001b[?25hDownloading pytorch_lightning-2.4.0-py3-none-any.whl (815 kB)\n",
      "\u001b[2K   \u001b[90m━━━━━━━━━━━━━━━━━━━━━━━━━━━━━━━━━━━━━━━━\u001b[0m \u001b[32m815.2/815.2 kB\u001b[0m \u001b[31m10.2 MB/s\u001b[0m eta \u001b[36m0:00:00\u001b[0m00:01\u001b[0m00:01\u001b[0m\n",
      "\u001b[?25hDownloading rich-13.9.4-py3-none-any.whl (242 kB)\n",
      "\u001b[2K   \u001b[90m━━━━━━━━━━━━━━━━━━━━━━━━━━━━━━━━━━━━━━━━\u001b[0m \u001b[32m242.4/242.4 kB\u001b[0m \u001b[31m11.9 MB/s\u001b[0m eta \u001b[36m0:00:00\u001b[0m\n",
      "\u001b[?25hDownloading tensorboard-2.19.0-py3-none-any.whl (5.5 MB)\n",
      "\u001b[2K   \u001b[90m━━━━━━━━━━━━━━━━━━━━━━━━━━━━━━━━━━━━━━━━\u001b[0m \u001b[32m5.5/5.5 MB\u001b[0m \u001b[31m10.9 MB/s\u001b[0m eta \u001b[36m0:00:00\u001b[0m00:01\u001b[0m00:01\u001b[0m\n",
      "\u001b[?25hDownloading torchmetrics-1.5.2-py3-none-any.whl (891 kB)\n",
      "\u001b[2K   \u001b[90m━━━━━━━━━━━━━━━━━━━━━━━━━━━━━━━━━━━━━━━━\u001b[0m \u001b[32m891.4/891.4 kB\u001b[0m \u001b[31m5.8 MB/s\u001b[0m eta \u001b[36m0:00:00\u001b[0m00:01\u001b[0m00:01\u001b[0mm\n",
      "\u001b[?25hDownloading ipywidgets-8.1.5-py3-none-any.whl (139 kB)\n",
      "\u001b[2K   \u001b[90m━━━━━━━━━━━━━━━━━━━━━━━━━━━━━━━━━━━━━━━━\u001b[0m \u001b[32m139.8/139.8 kB\u001b[0m \u001b[31m2.4 MB/s\u001b[0m eta \u001b[36m0:00:00\u001b[0mta \u001b[36m0:00:01\u001b[0m\n",
      "\u001b[?25hDownloading absl_py-2.2.0-py3-none-any.whl (276 kB)\n",
      "\u001b[2K   \u001b[90m━━━━━━━━━━━━━━━━━━━━━━━━━━━━━━━━━━━━━━━━\u001b[0m \u001b[32m277.0/277.0 kB\u001b[0m \u001b[31m4.7 MB/s\u001b[0m eta \u001b[36m0:00:00\u001b[0m:00:01\u001b[0m\n",
      "\u001b[?25hDownloading grpcio-1.71.0-cp312-cp312-manylinux_2_17_x86_64.manylinux2014_x86_64.whl (5.9 MB)\n",
      "\u001b[2K   \u001b[90m━━━━━━━━━━━━━━━━━━━━━━━━━━━━━━━━━━━━━━━━\u001b[0m \u001b[32m5.9/5.9 MB\u001b[0m \u001b[31m7.0 MB/s\u001b[0m eta \u001b[36m0:00:00\u001b[0m00:01\u001b[0m00:01\u001b[0mm\n",
      "\u001b[?25hDownloading jupyterlab_widgets-3.0.13-py3-none-any.whl (214 kB)\n",
      "\u001b[2K   \u001b[90m━━━━━━━━━━━━━━━━━━━━━━━━━━━━━━━━━━━━━━━━\u001b[0m \u001b[32m214.4/214.4 kB\u001b[0m \u001b[31m6.2 MB/s\u001b[0m eta \u001b[36m0:00:00\u001b[0m\n",
      "\u001b[?25hDownloading lightning_utilities-0.14.2-py3-none-any.whl (28 kB)\n",
      "Downloading Markdown-3.7-py3-none-any.whl (106 kB)\n",
      "\u001b[2K   \u001b[90m━━━━━━━━━━━━━━━━━━━━━━━━━━━━━━━━━━━━━━━━\u001b[0m \u001b[32m106.3/106.3 kB\u001b[0m \u001b[31m50.3 MB/s\u001b[0m eta \u001b[36m0:00:00\u001b[0m\n",
      "\u001b[?25hUsing cached markdown_it_py-3.0.0-py3-none-any.whl (87 kB)\n",
      "Using cached tensorboard_data_server-0.7.2-py3-none-manylinux_2_31_x86_64.whl (6.6 MB)\n",
      "Downloading werkzeug-3.1.3-py3-none-any.whl (224 kB)\n",
      "\u001b[2K   \u001b[90m━━━━━━━━━━━━━━━━━━━━━━━━━━━━━━━━━━━━━━━━\u001b[0m \u001b[32m224.5/224.5 kB\u001b[0m \u001b[31m3.0 MB/s\u001b[0m eta \u001b[36m0:00:00\u001b[0m \u001b[36m0:00:01\u001b[0m\n",
      "\u001b[?25hDownloading widgetsnbextension-4.0.13-py3-none-any.whl (2.3 MB)\n",
      "\u001b[2K   \u001b[90m━━━━━━━━━━━━━━━━━━━━━━━━━━━━━━━━━━━━━━━━\u001b[0m \u001b[32m2.3/2.3 MB\u001b[0m \u001b[31m11.4 MB/s\u001b[0m eta \u001b[36m0:00:00\u001b[0ma \u001b[36m0:00:01\u001b[0m\n",
      "\u001b[?25hDownloading aiohttp-3.11.14-cp312-cp312-manylinux_2_17_x86_64.manylinux2014_x86_64.whl (1.7 MB)\n",
      "\u001b[2K   \u001b[90m━━━━━━━━━━━━━━━━━━━━━━━━━━━━━━━━━━━━━━━━\u001b[0m \u001b[32m1.7/1.7 MB\u001b[0m \u001b[31m4.2 MB/s\u001b[0m eta \u001b[36m0:00:00\u001b[0m00:01\u001b[0m00:01\u001b[0mm\n",
      "\u001b[?25hUsing cached mdurl-0.1.2-py3-none-any.whl (10.0 kB)\n",
      "Downloading aiohappyeyeballs-2.6.1-py3-none-any.whl (15 kB)\n",
      "Downloading aiosignal-1.3.2-py2.py3-none-any.whl (7.6 kB)\n",
      "Downloading attrs-25.3.0-py3-none-any.whl (63 kB)\n",
      "\u001b[2K   \u001b[90m━━━━━━━━━━━━━━━━━━━━━━━━━━━━━━━━━━━━━━━━\u001b[0m \u001b[32m63.8/63.8 kB\u001b[0m \u001b[31m3.0 MB/s\u001b[0m eta \u001b[36m0:00:00\u001b[0m\n",
      "\u001b[?25hDownloading frozenlist-1.5.0-cp312-cp312-manylinux_2_5_x86_64.manylinux1_x86_64.manylinux_2_17_x86_64.manylinux2014_x86_64.whl (283 kB)\n",
      "\u001b[2K   \u001b[90m━━━━━━━━━━━━━━━━━━━━━━━━━━━━━━━━━━━━━━━━\u001b[0m \u001b[32m283.6/283.6 kB\u001b[0m \u001b[31m25.3 MB/s\u001b[0m eta \u001b[36m0:00:00\u001b[0m\n",
      "\u001b[?25hDownloading multidict-6.2.0-cp312-cp312-manylinux_2_17_x86_64.manylinux2014_x86_64.whl (132 kB)\n",
      "\u001b[2K   \u001b[90m━━━━━━━━━━━━━━━━━━━━━━━━━━━━━━━━━━━━━━━━\u001b[0m \u001b[32m132.9/132.9 kB\u001b[0m \u001b[31m1.8 MB/s\u001b[0m eta \u001b[36m0:00:00\u001b[0ma \u001b[36m0:00:01\u001b[0m\n",
      "\u001b[?25hDownloading propcache-0.3.0-cp312-cp312-manylinux_2_17_x86_64.manylinux2014_x86_64.whl (243 kB)\n",
      "\u001b[2K   \u001b[90m━━━━━━━━━━━━━━━━━━━━━━━━━━━━━━━━━━━━━━━━\u001b[0m \u001b[32m243.9/243.9 kB\u001b[0m \u001b[31m8.6 MB/s\u001b[0m eta \u001b[36m0:00:00\u001b[0m\n",
      "\u001b[?25hDownloading yarl-1.18.3-cp312-cp312-manylinux_2_17_x86_64.manylinux2014_x86_64.whl (336 kB)\n",
      "\u001b[2K   \u001b[90m━━━━━━━━━━━━━━━━━━━━━━━━━━━━━━━━━━━━━━━━\u001b[0m \u001b[32m336.9/336.9 kB\u001b[0m \u001b[31m4.2 MB/s\u001b[0m eta \u001b[36m0:00:00\u001b[0mta \u001b[36m0:00:01\u001b[0m\n",
      "\u001b[?25hBuilding wheels for collected packages: antlr4-python3-runtime\n",
      "  Building wheel for antlr4-python3-runtime (setup.py) ... \u001b[?25ldone\n",
      "\u001b[?25h  Created wheel for antlr4-python3-runtime: filename=antlr4_python3_runtime-4.9.3-py3-none-any.whl size=144554 sha256=1f93c249bbd3d804884a8ccc542e302ebcdd3b9bebbd4218d40ab38bdf4f58a0\n",
      "  Stored in directory: /home/nguyenhoa/.cache/pip/wheels/1f/be/48/13754633f1d08d1fbfc60d5e80ae1e5d7329500477685286cd\n",
      "Successfully built antlr4-python3-runtime\n",
      "Installing collected packages: antlr4-python3-runtime, widgetsnbextension, werkzeug, tensorboard-data-server, propcache, omegaconf, multidict, mdurl, markdown, lightning-utilities, jupyterlab-widgets, grpcio, frozenlist, einops, attrs, aiohappyeyeballs, absl-py, yarl, tensorboard, markdown-it-py, aiosignal, rich, aiohttp, torchmetrics, pytorch-tabnet, ipywidgets, pytorch-lightning, pytorch_tabular\n",
      "Successfully installed absl-py-2.2.0 aiohappyeyeballs-2.6.1 aiohttp-3.11.14 aiosignal-1.3.2 antlr4-python3-runtime-4.9.3 attrs-25.3.0 einops-0.7.0 frozenlist-1.5.0 grpcio-1.71.0 ipywidgets-8.1.5 jupyterlab-widgets-3.0.13 lightning-utilities-0.14.2 markdown-3.7 markdown-it-py-3.0.0 mdurl-0.1.2 multidict-6.2.0 omegaconf-2.3.0 propcache-0.3.0 pytorch-lightning-2.4.0 pytorch-tabnet-4.1.0 pytorch_tabular-1.1.1 rich-13.9.4 tensorboard-2.19.0 tensorboard-data-server-0.7.2 torchmetrics-1.5.2 werkzeug-3.1.3 widgetsnbextension-4.0.13 yarl-1.18.3\n",
      "Note: you may need to restart the kernel to use updated packages.\n"
     ]
    }
   ],
   "source": [
    "pip install pytorch_tabular"
   ]
  },
  {
   "cell_type": "code",
   "execution_count": 6,
   "metadata": {},
   "outputs": [],
   "source": [
    "import numpy as np\n",
    "import torch\n",
    "import pandas as pd\n",
    "from sklearn.model_selection import train_test_split\n",
    "import joblib\n",
    "\n",
    "from utils import calculate_metric\n",
    "\n",
    "from pytorch_tabular.config import (\n",
    "    DataConfig,\n",
    "    OptimizerConfig,\n",
    "    TrainerConfig,\n",
    "    ExperimentConfig\n",
    ")\n",
    "from pytorch_tabular import model_sweep\n",
    "import joblib"
   ]
  },
  {
   "cell_type": "code",
   "execution_count": 7,
   "metadata": {},
   "outputs": [
    {
     "data": {
      "text/plain": [
       "<torch._C.Generator at 0x7f4b4efb0330>"
      ]
     },
     "execution_count": 7,
     "metadata": {},
     "output_type": "execute_result"
    }
   ],
   "source": [
    "# set random seeds\n",
    "np.random.seed(0)\n",
    "torch.manual_seed(0)"
   ]
  },
  {
   "cell_type": "code",
   "execution_count": 9,
   "metadata": {},
   "outputs": [],
   "source": [
    "INPUT_FILE = \"../data/data_removing_na.xlsx\"\n",
    "BATCH_SIZE = 32\n",
    "PROJECT_NAME = \"run/all\"\n",
    "\n",
    "DEVICE = torch.device('cuda:1' if torch.cuda.is_available() else 'cpu')\n",
    "DEVICE_LIST = [3, 2, 1, 0]"
   ]
  },
  {
   "cell_type": "code",
   "execution_count": 10,
   "metadata": {},
   "outputs": [
    {
     "data": {
      "text/plain": [
       "device(type='cuda', index=1)"
      ]
     },
     "execution_count": 10,
     "metadata": {},
     "output_type": "execute_result"
    }
   ],
   "source": [
    "DEVICE"
   ]
  },
  {
   "cell_type": "code",
   "execution_count": 11,
   "metadata": {},
   "outputs": [],
   "source": [
    "df = pd.read_excel(INPUT_FILE)"
   ]
  },
  {
   "cell_type": "code",
   "execution_count": 12,
   "metadata": {},
   "outputs": [
    {
     "data": {
      "text/html": [
       "<div>\n",
       "<style scoped>\n",
       "    .dataframe tbody tr th:only-of-type {\n",
       "        vertical-align: middle;\n",
       "    }\n",
       "\n",
       "    .dataframe tbody tr th {\n",
       "        vertical-align: top;\n",
       "    }\n",
       "\n",
       "    .dataframe thead th {\n",
       "        text-align: right;\n",
       "    }\n",
       "</style>\n",
       "<table border=\"1\" class=\"dataframe\">\n",
       "  <thead>\n",
       "    <tr style=\"text-align: right;\">\n",
       "      <th></th>\n",
       "      <th>rr1_30</th>\n",
       "      <th>currency</th>\n",
       "      <th>seniorioty_adj</th>\n",
       "      <th>coupon rate</th>\n",
       "      <th>domicile_country</th>\n",
       "      <th>exchange_country</th>\n",
       "      <th>Industry_sector</th>\n",
       "      <th>Industry_group</th>\n",
       "      <th>Industry_subgroup</th>\n",
       "      <th>event_type</th>\n",
       "      <th>...</th>\n",
       "      <th>PD_55_pd</th>\n",
       "      <th>PD_56_pd</th>\n",
       "      <th>PD_57_pd</th>\n",
       "      <th>PD_58_pd</th>\n",
       "      <th>PD_59_pd</th>\n",
       "      <th>PD_60_pd</th>\n",
       "      <th>DTD</th>\n",
       "      <th>NI_Over_TA</th>\n",
       "      <th>Size</th>\n",
       "      <th>defaulted_in_last_6_months</th>\n",
       "    </tr>\n",
       "  </thead>\n",
       "  <tbody>\n",
       "    <tr>\n",
       "      <th>0</th>\n",
       "      <td>0.259908</td>\n",
       "      <td>USD</td>\n",
       "      <td>Senior Subordinated Unsecured</td>\n",
       "      <td>9.000</td>\n",
       "      <td>United States</td>\n",
       "      <td>United States</td>\n",
       "      <td>Consumer Discretionary</td>\n",
       "      <td>Retail &amp; Whsle - Discretionary</td>\n",
       "      <td>E-Commerce Discretionary</td>\n",
       "      <td>Bankruptcy Filing</td>\n",
       "      <td>...</td>\n",
       "      <td>0.396731</td>\n",
       "      <td>0.397453</td>\n",
       "      <td>0.398148</td>\n",
       "      <td>0.398819</td>\n",
       "      <td>0.399467</td>\n",
       "      <td>0.400092</td>\n",
       "      <td>-0.732815</td>\n",
       "      <td>-0.007137</td>\n",
       "      <td>-0.852484</td>\n",
       "      <td>False</td>\n",
       "    </tr>\n",
       "    <tr>\n",
       "      <th>1</th>\n",
       "      <td>0.032729</td>\n",
       "      <td>USD</td>\n",
       "      <td>Senior Subordinated Unsecured</td>\n",
       "      <td>5.750</td>\n",
       "      <td>United States</td>\n",
       "      <td>United States</td>\n",
       "      <td>Health Care</td>\n",
       "      <td>Health Care</td>\n",
       "      <td>Health Care Facilities &amp; Svcs</td>\n",
       "      <td>Default Corp Action</td>\n",
       "      <td>...</td>\n",
       "      <td>0.957454</td>\n",
       "      <td>0.957467</td>\n",
       "      <td>0.957480</td>\n",
       "      <td>0.957492</td>\n",
       "      <td>0.957503</td>\n",
       "      <td>0.957514</td>\n",
       "      <td>-1.666262</td>\n",
       "      <td>-0.000286</td>\n",
       "      <td>-1.186347</td>\n",
       "      <td>False</td>\n",
       "    </tr>\n",
       "    <tr>\n",
       "      <th>2</th>\n",
       "      <td>0.972400</td>\n",
       "      <td>USD</td>\n",
       "      <td>Unsecured</td>\n",
       "      <td>5.675</td>\n",
       "      <td>South Korea</td>\n",
       "      <td>South Korea</td>\n",
       "      <td>Consumer Discretionary</td>\n",
       "      <td>Retail &amp; Whsle - Discretionary</td>\n",
       "      <td>Wholesale - Discretionary</td>\n",
       "      <td>Default Corp Action</td>\n",
       "      <td>...</td>\n",
       "      <td>0.568169</td>\n",
       "      <td>0.568693</td>\n",
       "      <td>0.569197</td>\n",
       "      <td>0.569682</td>\n",
       "      <td>0.570150</td>\n",
       "      <td>0.570600</td>\n",
       "      <td>-1.853366</td>\n",
       "      <td>0.000191</td>\n",
       "      <td>1.053677</td>\n",
       "      <td>False</td>\n",
       "    </tr>\n",
       "    <tr>\n",
       "      <th>3</th>\n",
       "      <td>1.047416</td>\n",
       "      <td>CHF</td>\n",
       "      <td>Unsecured</td>\n",
       "      <td>0.125</td>\n",
       "      <td>South Korea</td>\n",
       "      <td>South Korea</td>\n",
       "      <td>Consumer Discretionary</td>\n",
       "      <td>Retail &amp; Whsle - Discretionary</td>\n",
       "      <td>Wholesale - Discretionary</td>\n",
       "      <td>Default Corp Action</td>\n",
       "      <td>...</td>\n",
       "      <td>0.568169</td>\n",
       "      <td>0.568693</td>\n",
       "      <td>0.569197</td>\n",
       "      <td>0.569682</td>\n",
       "      <td>0.570150</td>\n",
       "      <td>0.570600</td>\n",
       "      <td>-1.853366</td>\n",
       "      <td>0.000191</td>\n",
       "      <td>1.053677</td>\n",
       "      <td>False</td>\n",
       "    </tr>\n",
       "    <tr>\n",
       "      <th>4</th>\n",
       "      <td>0.848872</td>\n",
       "      <td>JPY</td>\n",
       "      <td>Unsecured</td>\n",
       "      <td>1.750</td>\n",
       "      <td>Japan</td>\n",
       "      <td>Japan</td>\n",
       "      <td>Industrials</td>\n",
       "      <td>Industrial Products</td>\n",
       "      <td>Electrical Equipment</td>\n",
       "      <td>Bankruptcy Filing</td>\n",
       "      <td>...</td>\n",
       "      <td>0.130285</td>\n",
       "      <td>0.130688</td>\n",
       "      <td>0.131081</td>\n",
       "      <td>0.131465</td>\n",
       "      <td>0.131840</td>\n",
       "      <td>0.132206</td>\n",
       "      <td>-0.768857</td>\n",
       "      <td>-0.028058</td>\n",
       "      <td>-1.946507</td>\n",
       "      <td>False</td>\n",
       "    </tr>\n",
       "  </tbody>\n",
       "</table>\n",
       "<p>5 rows × 165 columns</p>\n",
       "</div>"
      ],
      "text/plain": [
       "     rr1_30 currency                 seniorioty_adj  coupon rate  \\\n",
       "0  0.259908      USD  Senior Subordinated Unsecured        9.000   \n",
       "1  0.032729      USD  Senior Subordinated Unsecured        5.750   \n",
       "2  0.972400      USD                      Unsecured        5.675   \n",
       "3  1.047416      CHF                      Unsecured        0.125   \n",
       "4  0.848872      JPY                      Unsecured        1.750   \n",
       "\n",
       "  domicile_country exchange_country         Industry_sector  \\\n",
       "0    United States    United States  Consumer Discretionary   \n",
       "1    United States    United States             Health Care   \n",
       "2      South Korea      South Korea  Consumer Discretionary   \n",
       "3      South Korea      South Korea  Consumer Discretionary   \n",
       "4            Japan            Japan             Industrials   \n",
       "\n",
       "                   Industry_group              Industry_subgroup  \\\n",
       "0  Retail & Whsle - Discretionary       E-Commerce Discretionary   \n",
       "1                     Health Care  Health Care Facilities & Svcs   \n",
       "2  Retail & Whsle - Discretionary      Wholesale - Discretionary   \n",
       "3  Retail & Whsle - Discretionary      Wholesale - Discretionary   \n",
       "4             Industrial Products           Electrical Equipment   \n",
       "\n",
       "            event_type  ...  PD_55_pd  PD_56_pd  PD_57_pd  PD_58_pd  PD_59_pd  \\\n",
       "0    Bankruptcy Filing  ...  0.396731  0.397453  0.398148  0.398819  0.399467   \n",
       "1  Default Corp Action  ...  0.957454  0.957467  0.957480  0.957492  0.957503   \n",
       "2  Default Corp Action  ...  0.568169  0.568693  0.569197  0.569682  0.570150   \n",
       "3  Default Corp Action  ...  0.568169  0.568693  0.569197  0.569682  0.570150   \n",
       "4    Bankruptcy Filing  ...  0.130285  0.130688  0.131081  0.131465  0.131840   \n",
       "\n",
       "   PD_60_pd       DTD  NI_Over_TA      Size  defaulted_in_last_6_months  \n",
       "0  0.400092 -0.732815   -0.007137 -0.852484                       False  \n",
       "1  0.957514 -1.666262   -0.000286 -1.186347                       False  \n",
       "2  0.570600 -1.853366    0.000191  1.053677                       False  \n",
       "3  0.570600 -1.853366    0.000191  1.053677                       False  \n",
       "4  0.132206 -0.768857   -0.028058 -1.946507                       False  \n",
       "\n",
       "[5 rows x 165 columns]"
      ]
     },
     "execution_count": 12,
     "metadata": {},
     "output_type": "execute_result"
    }
   ],
   "source": [
    "df.head()"
   ]
  },
  {
   "cell_type": "code",
   "execution_count": 13,
   "metadata": {},
   "outputs": [
    {
     "data": {
      "text/plain": [
       "(1725, 165)"
      ]
     },
     "execution_count": 13,
     "metadata": {},
     "output_type": "execute_result"
    }
   ],
   "source": [
    "df.shape"
   ]
  },
  {
   "cell_type": "code",
   "execution_count": 14,
   "metadata": {},
   "outputs": [],
   "source": [
    "feature_list = df.columns\n",
    "feature_list = feature_list.drop('rr1_30')"
   ]
  },
  {
   "cell_type": "code",
   "execution_count": 15,
   "metadata": {},
   "outputs": [
    {
     "data": {
      "text/plain": [
       "Index(['currency', 'seniorioty_adj', 'coupon rate', 'domicile_country',\n",
       "       'exchange_country', 'Industry_sector', 'Industry_group',\n",
       "       'Industry_subgroup', 'event_type', 'event_type_subcategory_sum',\n",
       "       ...\n",
       "       'PD_55_pd', 'PD_56_pd', 'PD_57_pd', 'PD_58_pd', 'PD_59_pd', 'PD_60_pd',\n",
       "       'DTD', 'NI_Over_TA', 'Size', 'defaulted_in_last_6_months'],\n",
       "      dtype='object', length=164)"
      ]
     },
     "execution_count": 15,
     "metadata": {},
     "output_type": "execute_result"
    }
   ],
   "source": [
    "feature_list"
   ]
  },
  {
   "cell_type": "code",
   "execution_count": 16,
   "metadata": {},
   "outputs": [],
   "source": [
    "category_features = list(df.select_dtypes(include=['object', 'bool']).columns)\n",
    "non_category_features = [i for i in feature_list if i not in category_features]"
   ]
  },
  {
   "cell_type": "code",
   "execution_count": 17,
   "metadata": {},
   "outputs": [
    {
     "name": "stdout",
     "output_type": "stream",
     "text": [
      "153\n",
      "11\n"
     ]
    }
   ],
   "source": [
    "print(len(non_category_features))\n",
    "print(len(category_features))"
   ]
  },
  {
   "cell_type": "code",
   "execution_count": 18,
   "metadata": {},
   "outputs": [
    {
     "data": {
      "text/plain": [
       "['currency',\n",
       " 'seniorioty_adj',\n",
       " 'domicile_country',\n",
       " 'exchange_country',\n",
       " 'Industry_sector',\n",
       " 'Industry_group',\n",
       " 'Industry_subgroup',\n",
       " 'event_type',\n",
       " 'event_type_subcategory_sum',\n",
       " 'defaulted_in_last_5_years',\n",
       " 'defaulted_in_last_6_months']"
      ]
     },
     "execution_count": 18,
     "metadata": {},
     "output_type": "execute_result"
    }
   ],
   "source": [
    "category_features"
   ]
  },
  {
   "cell_type": "code",
   "execution_count": 19,
   "metadata": {},
   "outputs": [],
   "source": [
    "# split data into training and test set\n",
    "test_size = 0.25\n",
    "train, test = train_test_split(df, test_size=test_size, random_state=42)\n",
    "train, valid = train_test_split(train, test_size=test_size, random_state=42)"
   ]
  },
  {
   "cell_type": "code",
   "execution_count": 20,
   "metadata": {},
   "outputs": [
    {
     "data": {
      "text/html": [
       "<div>\n",
       "<style scoped>\n",
       "    .dataframe tbody tr th:only-of-type {\n",
       "        vertical-align: middle;\n",
       "    }\n",
       "\n",
       "    .dataframe tbody tr th {\n",
       "        vertical-align: top;\n",
       "    }\n",
       "\n",
       "    .dataframe thead th {\n",
       "        text-align: right;\n",
       "    }\n",
       "</style>\n",
       "<table border=\"1\" class=\"dataframe\">\n",
       "  <thead>\n",
       "    <tr style=\"text-align: right;\">\n",
       "      <th></th>\n",
       "      <th>rr1_30</th>\n",
       "      <th>currency</th>\n",
       "      <th>seniorioty_adj</th>\n",
       "      <th>coupon rate</th>\n",
       "      <th>domicile_country</th>\n",
       "      <th>exchange_country</th>\n",
       "      <th>Industry_sector</th>\n",
       "      <th>Industry_group</th>\n",
       "      <th>Industry_subgroup</th>\n",
       "      <th>event_type</th>\n",
       "      <th>...</th>\n",
       "      <th>PD_55_pd</th>\n",
       "      <th>PD_56_pd</th>\n",
       "      <th>PD_57_pd</th>\n",
       "      <th>PD_58_pd</th>\n",
       "      <th>PD_59_pd</th>\n",
       "      <th>PD_60_pd</th>\n",
       "      <th>DTD</th>\n",
       "      <th>NI_Over_TA</th>\n",
       "      <th>Size</th>\n",
       "      <th>defaulted_in_last_6_months</th>\n",
       "    </tr>\n",
       "  </thead>\n",
       "  <tbody>\n",
       "    <tr>\n",
       "      <th>536</th>\n",
       "      <td>0.182132</td>\n",
       "      <td>USD</td>\n",
       "      <td>Senior Subordinated Unsecured</td>\n",
       "      <td>2.750</td>\n",
       "      <td>United States</td>\n",
       "      <td>United States</td>\n",
       "      <td>Technology</td>\n",
       "      <td>Tech Hardware &amp; Semiconductors</td>\n",
       "      <td>Technology Hardware</td>\n",
       "      <td>Bankruptcy Filing</td>\n",
       "      <td>...</td>\n",
       "      <td>0.563420</td>\n",
       "      <td>0.563890</td>\n",
       "      <td>0.564342</td>\n",
       "      <td>0.564777</td>\n",
       "      <td>0.565194</td>\n",
       "      <td>0.565597</td>\n",
       "      <td>-1.004436</td>\n",
       "      <td>-0.082341</td>\n",
       "      <td>-3.870640</td>\n",
       "      <td>False</td>\n",
       "    </tr>\n",
       "    <tr>\n",
       "      <th>765</th>\n",
       "      <td>0.056740</td>\n",
       "      <td>USD</td>\n",
       "      <td>Senior Unsecured</td>\n",
       "      <td>8.125</td>\n",
       "      <td>United States</td>\n",
       "      <td>United States</td>\n",
       "      <td>Energy</td>\n",
       "      <td>Oil &amp; Gas</td>\n",
       "      <td>Oil &amp; Gas Producers</td>\n",
       "      <td>Default Corp Action</td>\n",
       "      <td>...</td>\n",
       "      <td>0.691011</td>\n",
       "      <td>0.691382</td>\n",
       "      <td>0.691738</td>\n",
       "      <td>0.692080</td>\n",
       "      <td>0.692408</td>\n",
       "      <td>0.692725</td>\n",
       "      <td>-1.084433</td>\n",
       "      <td>-0.052027</td>\n",
       "      <td>-2.074964</td>\n",
       "      <td>False</td>\n",
       "    </tr>\n",
       "    <tr>\n",
       "      <th>222</th>\n",
       "      <td>0.603846</td>\n",
       "      <td>USD</td>\n",
       "      <td>Senior Unsecured</td>\n",
       "      <td>8.625</td>\n",
       "      <td>United States</td>\n",
       "      <td>United States</td>\n",
       "      <td>Industrials</td>\n",
       "      <td>Industrial Services</td>\n",
       "      <td>Transportation &amp; Logistics</td>\n",
       "      <td>Bankruptcy Filing</td>\n",
       "      <td>...</td>\n",
       "      <td>0.585977</td>\n",
       "      <td>0.586288</td>\n",
       "      <td>0.586585</td>\n",
       "      <td>0.586867</td>\n",
       "      <td>0.587137</td>\n",
       "      <td>0.587395</td>\n",
       "      <td>-1.115711</td>\n",
       "      <td>-0.007636</td>\n",
       "      <td>-4.029905</td>\n",
       "      <td>False</td>\n",
       "    </tr>\n",
       "    <tr>\n",
       "      <th>555</th>\n",
       "      <td>0.836365</td>\n",
       "      <td>USD</td>\n",
       "      <td>Senior Unsecured</td>\n",
       "      <td>9.500</td>\n",
       "      <td>India</td>\n",
       "      <td>India</td>\n",
       "      <td>Utilities</td>\n",
       "      <td>Utilities</td>\n",
       "      <td>Electric Utilities</td>\n",
       "      <td>Default Corp Action</td>\n",
       "      <td>...</td>\n",
       "      <td>0.462222</td>\n",
       "      <td>0.467771</td>\n",
       "      <td>0.473250</td>\n",
       "      <td>0.478659</td>\n",
       "      <td>0.484000</td>\n",
       "      <td>0.489275</td>\n",
       "      <td>-0.751984</td>\n",
       "      <td>-0.000207</td>\n",
       "      <td>3.582827</td>\n",
       "      <td>False</td>\n",
       "    </tr>\n",
       "    <tr>\n",
       "      <th>1527</th>\n",
       "      <td>0.459547</td>\n",
       "      <td>CNY</td>\n",
       "      <td>Senior Unsecured</td>\n",
       "      <td>6.600</td>\n",
       "      <td>China</td>\n",
       "      <td>China</td>\n",
       "      <td>Real Estate</td>\n",
       "      <td>Real Estate</td>\n",
       "      <td>Real Estate Owners &amp; Developers</td>\n",
       "      <td>Default Corp Action</td>\n",
       "      <td>...</td>\n",
       "      <td>0.253968</td>\n",
       "      <td>0.256798</td>\n",
       "      <td>0.259601</td>\n",
       "      <td>0.262379</td>\n",
       "      <td>0.265132</td>\n",
       "      <td>0.267862</td>\n",
       "      <td>-0.427533</td>\n",
       "      <td>0.002135</td>\n",
       "      <td>0.722957</td>\n",
       "      <td>False</td>\n",
       "    </tr>\n",
       "  </tbody>\n",
       "</table>\n",
       "<p>5 rows × 165 columns</p>\n",
       "</div>"
      ],
      "text/plain": [
       "        rr1_30 currency                 seniorioty_adj  coupon rate  \\\n",
       "536   0.182132      USD  Senior Subordinated Unsecured        2.750   \n",
       "765   0.056740      USD               Senior Unsecured        8.125   \n",
       "222   0.603846      USD               Senior Unsecured        8.625   \n",
       "555   0.836365      USD               Senior Unsecured        9.500   \n",
       "1527  0.459547      CNY               Senior Unsecured        6.600   \n",
       "\n",
       "     domicile_country exchange_country Industry_sector  \\\n",
       "536     United States    United States      Technology   \n",
       "765     United States    United States          Energy   \n",
       "222     United States    United States     Industrials   \n",
       "555             India            India       Utilities   \n",
       "1527            China            China     Real Estate   \n",
       "\n",
       "                      Industry_group                Industry_subgroup  \\\n",
       "536   Tech Hardware & Semiconductors              Technology Hardware   \n",
       "765                        Oil & Gas              Oil & Gas Producers   \n",
       "222              Industrial Services       Transportation & Logistics   \n",
       "555                        Utilities               Electric Utilities   \n",
       "1527                     Real Estate  Real Estate Owners & Developers   \n",
       "\n",
       "               event_type  ...  PD_55_pd  PD_56_pd  PD_57_pd  PD_58_pd  \\\n",
       "536     Bankruptcy Filing  ...  0.563420  0.563890  0.564342  0.564777   \n",
       "765   Default Corp Action  ...  0.691011  0.691382  0.691738  0.692080   \n",
       "222     Bankruptcy Filing  ...  0.585977  0.586288  0.586585  0.586867   \n",
       "555   Default Corp Action  ...  0.462222  0.467771  0.473250  0.478659   \n",
       "1527  Default Corp Action  ...  0.253968  0.256798  0.259601  0.262379   \n",
       "\n",
       "      PD_59_pd  PD_60_pd       DTD  NI_Over_TA      Size  \\\n",
       "536   0.565194  0.565597 -1.004436   -0.082341 -3.870640   \n",
       "765   0.692408  0.692725 -1.084433   -0.052027 -2.074964   \n",
       "222   0.587137  0.587395 -1.115711   -0.007636 -4.029905   \n",
       "555   0.484000  0.489275 -0.751984   -0.000207  3.582827   \n",
       "1527  0.265132  0.267862 -0.427533    0.002135  0.722957   \n",
       "\n",
       "      defaulted_in_last_6_months  \n",
       "536                        False  \n",
       "765                        False  \n",
       "222                        False  \n",
       "555                        False  \n",
       "1527                       False  \n",
       "\n",
       "[5 rows x 165 columns]"
      ]
     },
     "execution_count": 20,
     "metadata": {},
     "output_type": "execute_result"
    }
   ],
   "source": [
    "train.head()"
   ]
  },
  {
   "cell_type": "markdown",
   "metadata": {},
   "source": [
    "RUNNING THE MODEL"
   ]
  },
  {
   "cell_type": "code",
   "execution_count": 21,
   "metadata": {},
   "outputs": [],
   "source": [
    "# empty cache first\n",
    "torch.cuda.empty_cache()"
   ]
  },
  {
   "cell_type": "code",
   "execution_count": 23,
   "metadata": {},
   "outputs": [],
   "source": [
    "EPOCHS = 100\n",
    "target_col = 'rr1_30'\n",
    "\n",
    "data_config = DataConfig(\n",
    "    target=[\n",
    "        target_col\n",
    "    ],  # target should always be a list\n",
    "    continuous_cols=non_category_features,\n",
    "    categorical_cols=category_features,\n",
    ")\n",
    "trainer_config = TrainerConfig(\n",
    "    batch_size=BATCH_SIZE,\n",
    "    max_epochs=EPOCHS,\n",
    "    early_stopping=None,\n",
    "    accelerator=\"gpu\",\n",
    "    load_best=True,\n",
    "    devices_list=DEVICE_LIST\n",
    ")\n",
    "optimizer_config = OptimizerConfig()\n",
    "experiment_config = ExperimentConfig(project_name=PROJECT_NAME,exp_watch=\"all\",log_target=\"tensorboard\")"
   ]
  },
  {
   "cell_type": "code",
   "execution_count": 24,
   "metadata": {},
   "outputs": [
    {
     "data": {
      "application/vnd.jupyter.widget-view+json": {
       "model_id": "9092c7e371114af6af5599d970a6d6d4",
       "version_major": 2,
       "version_minor": 0
      },
      "text/plain": [
       "Output()"
      ]
     },
     "metadata": {},
     "output_type": "display_data"
    },
    {
     "name": "stderr",
     "output_type": "stream",
     "text": [
      "/home/nguyenhoa/miniconda3/envs/.henv/lib/python3.12/site-packages/pytorch_tabular/tabular_model_sweep.py:261: UserWarning: Training Progress bar is not `none`. Set `progress_bar=none` in `trainer_config` to remove this warning\n",
      "  warnings.warn(\n",
      "/home/nguyenhoa/miniconda3/envs/.henv/lib/python3.12/site-packages/pytorch_tabular/tabular_model_sweep.py:268: UserWarning: The full model list is quite large and uses a lot of memory. Consider using `lite` or define configs yourselves for a faster run\n",
      "  warnings.warn(\n",
      "/home/nguyenhoa/miniconda3/envs/.henv/lib/python3.12/site-packages/pytorch_tabular/categorical_encoders.py:71: FutureWarning: A value is trying to be set on a copy of a DataFrame or Series through chained assignment using an inplace method.\n",
      "The behavior will change in pandas 3.0. This inplace method will never work because the intermediate object on which we are setting values always behaves as a copy.\n",
      "\n",
      "For example, when doing 'df[col].method(value, inplace=True)', try using 'df.method({col: value}, inplace=True)' or df[col] = df[col].method(value) instead, to perform the operation inplace on the original object.\n",
      "\n",
      "\n",
      "  X_encoded[col].fillna(self._imputed, inplace=True)\n",
      "/home/nguyenhoa/miniconda3/envs/.henv/lib/python3.12/site-packages/pytorch_tabular/categorical_encoders.py:71: FutureWarning: A value is trying to be set on a copy of a DataFrame or Series through chained assignment using an inplace method.\n",
      "The behavior will change in pandas 3.0. This inplace method will never work because the intermediate object on which we are setting values always behaves as a copy.\n",
      "\n",
      "For example, when doing 'df[col].method(value, inplace=True)', try using 'df.method({col: value}, inplace=True)' or df[col] = df[col].method(value) instead, to perform the operation inplace on the original object.\n",
      "\n",
      "\n",
      "  X_encoded[col].fillna(self._imputed, inplace=True)\n",
      "/home/nguyenhoa/miniconda3/envs/.henv/lib/python3.12/site-packages/pytorch_tabular/categorical_encoders.py:71: FutureWarning: A value is trying to be set on a copy of a DataFrame or Series through chained assignment using an inplace method.\n",
      "The behavior will change in pandas 3.0. This inplace method will never work because the intermediate object on which we are setting values always behaves as a copy.\n",
      "\n",
      "For example, when doing 'df[col].method(value, inplace=True)', try using 'df.method({col: value}, inplace=True)' or df[col] = df[col].method(value) instead, to perform the operation inplace on the original object.\n",
      "\n",
      "\n",
      "  X_encoded[col].fillna(self._imputed, inplace=True)\n",
      "/home/nguyenhoa/miniconda3/envs/.henv/lib/python3.12/site-packages/pytorch_tabular/categorical_encoders.py:71: FutureWarning: A value is trying to be set on a copy of a DataFrame or Series through chained assignment using an inplace method.\n",
      "The behavior will change in pandas 3.0. This inplace method will never work because the intermediate object on which we are setting values always behaves as a copy.\n",
      "\n",
      "For example, when doing 'df[col].method(value, inplace=True)', try using 'df.method({col: value}, inplace=True)' or df[col] = df[col].method(value) instead, to perform the operation inplace on the original object.\n",
      "\n",
      "\n",
      "  X_encoded[col].fillna(self._imputed, inplace=True)\n",
      "/home/nguyenhoa/miniconda3/envs/.henv/lib/python3.12/site-packages/pytorch_tabular/categorical_encoders.py:71: FutureWarning: A value is trying to be set on a copy of a DataFrame or Series through chained assignment using an inplace method.\n",
      "The behavior will change in pandas 3.0. This inplace method will never work because the intermediate object on which we are setting values always behaves as a copy.\n",
      "\n",
      "For example, when doing 'df[col].method(value, inplace=True)', try using 'df.method({col: value}, inplace=True)' or df[col] = df[col].method(value) instead, to perform the operation inplace on the original object.\n",
      "\n",
      "\n",
      "  X_encoded[col].fillna(self._imputed, inplace=True)\n",
      "/home/nguyenhoa/miniconda3/envs/.henv/lib/python3.12/site-packages/pytorch_tabular/categorical_encoders.py:71: FutureWarning: A value is trying to be set on a copy of a DataFrame or Series through chained assignment using an inplace method.\n",
      "The behavior will change in pandas 3.0. This inplace method will never work because the intermediate object on which we are setting values always behaves as a copy.\n",
      "\n",
      "For example, when doing 'df[col].method(value, inplace=True)', try using 'df.method({col: value}, inplace=True)' or df[col] = df[col].method(value) instead, to perform the operation inplace on the original object.\n",
      "\n",
      "\n",
      "  X_encoded[col].fillna(self._imputed, inplace=True)\n",
      "/home/nguyenhoa/miniconda3/envs/.henv/lib/python3.12/site-packages/pytorch_tabular/categorical_encoders.py:71: FutureWarning: A value is trying to be set on a copy of a DataFrame or Series through chained assignment using an inplace method.\n",
      "The behavior will change in pandas 3.0. This inplace method will never work because the intermediate object on which we are setting values always behaves as a copy.\n",
      "\n",
      "For example, when doing 'df[col].method(value, inplace=True)', try using 'df.method({col: value}, inplace=True)' or df[col] = df[col].method(value) instead, to perform the operation inplace on the original object.\n",
      "\n",
      "\n",
      "  X_encoded[col].fillna(self._imputed, inplace=True)\n",
      "/home/nguyenhoa/miniconda3/envs/.henv/lib/python3.12/site-packages/pytorch_tabular/categorical_encoders.py:71: FutureWarning: A value is trying to be set on a copy of a DataFrame or Series through chained assignment using an inplace method.\n",
      "The behavior will change in pandas 3.0. This inplace method will never work because the intermediate object on which we are setting values always behaves as a copy.\n",
      "\n",
      "For example, when doing 'df[col].method(value, inplace=True)', try using 'df.method({col: value}, inplace=True)' or df[col] = df[col].method(value) instead, to perform the operation inplace on the original object.\n",
      "\n",
      "\n",
      "  X_encoded[col].fillna(self._imputed, inplace=True)\n",
      "/home/nguyenhoa/miniconda3/envs/.henv/lib/python3.12/site-packages/pytorch_tabular/categorical_encoders.py:71: FutureWarning: A value is trying to be set on a copy of a DataFrame or Series through chained assignment using an inplace method.\n",
      "The behavior will change in pandas 3.0. This inplace method will never work because the intermediate object on which we are setting values always behaves as a copy.\n",
      "\n",
      "For example, when doing 'df[col].method(value, inplace=True)', try using 'df.method({col: value}, inplace=True)' or df[col] = df[col].method(value) instead, to perform the operation inplace on the original object.\n",
      "\n",
      "\n",
      "  X_encoded[col].fillna(self._imputed, inplace=True)\n",
      "/home/nguyenhoa/miniconda3/envs/.henv/lib/python3.12/site-packages/pytorch_tabular/categorical_encoders.py:71: FutureWarning: A value is trying to be set on a copy of a DataFrame or Series through chained assignment using an inplace method.\n",
      "The behavior will change in pandas 3.0. This inplace method will never work because the intermediate object on which we are setting values always behaves as a copy.\n",
      "\n",
      "For example, when doing 'df[col].method(value, inplace=True)', try using 'df.method({col: value}, inplace=True)' or df[col] = df[col].method(value) instead, to perform the operation inplace on the original object.\n",
      "\n",
      "\n",
      "  X_encoded[col].fillna(self._imputed, inplace=True)\n",
      "/home/nguyenhoa/miniconda3/envs/.henv/lib/python3.12/site-packages/pytorch_tabular/categorical_encoders.py:71: FutureWarning: A value is trying to be set on a copy of a DataFrame or Series through chained assignment using an inplace method.\n",
      "The behavior will change in pandas 3.0. This inplace method will never work because the intermediate object on which we are setting values always behaves as a copy.\n",
      "\n",
      "For example, when doing 'df[col].method(value, inplace=True)', try using 'df.method({col: value}, inplace=True)' or df[col] = df[col].method(value) instead, to perform the operation inplace on the original object.\n",
      "\n",
      "\n",
      "  X_encoded[col].fillna(self._imputed, inplace=True)\n",
      "/home/nguyenhoa/miniconda3/envs/.henv/lib/python3.12/site-packages/pytorch_tabular/categorical_encoders.py:71: FutureWarning: A value is trying to be set on a copy of a DataFrame or Series through chained assignment using an inplace method.\n",
      "The behavior will change in pandas 3.0. This inplace method will never work because the intermediate object on which we are setting values always behaves as a copy.\n",
      "\n",
      "For example, when doing 'df[col].method(value, inplace=True)', try using 'df.method({col: value}, inplace=True)' or df[col] = df[col].method(value) instead, to perform the operation inplace on the original object.\n",
      "\n",
      "\n",
      "  X_encoded[col].fillna(self._imputed, inplace=True)\n",
      "/home/nguyenhoa/miniconda3/envs/.henv/lib/python3.12/site-packages/pytorch_tabular/categorical_encoders.py:71: FutureWarning: A value is trying to be set on a copy of a DataFrame or Series through chained assignment using an inplace method.\n",
      "The behavior will change in pandas 3.0. This inplace method will never work because the intermediate object on which we are setting values always behaves as a copy.\n",
      "\n",
      "For example, when doing 'df[col].method(value, inplace=True)', try using 'df.method({col: value}, inplace=True)' or df[col] = df[col].method(value) instead, to perform the operation inplace on the original object.\n",
      "\n",
      "\n",
      "  X_encoded[col].fillna(self._imputed, inplace=True)\n",
      "/home/nguyenhoa/miniconda3/envs/.henv/lib/python3.12/site-packages/pytorch_tabular/categorical_encoders.py:71: FutureWarning: A value is trying to be set on a copy of a DataFrame or Series through chained assignment using an inplace method.\n",
      "The behavior will change in pandas 3.0. This inplace method will never work because the intermediate object on which we are setting values always behaves as a copy.\n",
      "\n",
      "For example, when doing 'df[col].method(value, inplace=True)', try using 'df.method({col: value}, inplace=True)' or df[col] = df[col].method(value) instead, to perform the operation inplace on the original object.\n",
      "\n",
      "\n",
      "  X_encoded[col].fillna(self._imputed, inplace=True)\n",
      "/home/nguyenhoa/miniconda3/envs/.henv/lib/python3.12/site-packages/pytorch_tabular/categorical_encoders.py:71: FutureWarning: A value is trying to be set on a copy of a DataFrame or Series through chained assignment using an inplace method.\n",
      "The behavior will change in pandas 3.0. This inplace method will never work because the intermediate object on which we are setting values always behaves as a copy.\n",
      "\n",
      "For example, when doing 'df[col].method(value, inplace=True)', try using 'df.method({col: value}, inplace=True)' or df[col] = df[col].method(value) instead, to perform the operation inplace on the original object.\n",
      "\n",
      "\n",
      "  X_encoded[col].fillna(self._imputed, inplace=True)\n",
      "/home/nguyenhoa/miniconda3/envs/.henv/lib/python3.12/site-packages/pytorch_tabular/categorical_encoders.py:71: FutureWarning: A value is trying to be set on a copy of a DataFrame or Series through chained assignment using an inplace method.\n",
      "The behavior will change in pandas 3.0. This inplace method will never work because the intermediate object on which we are setting values always behaves as a copy.\n",
      "\n",
      "For example, when doing 'df[col].method(value, inplace=True)', try using 'df.method({col: value}, inplace=True)' or df[col] = df[col].method(value) instead, to perform the operation inplace on the original object.\n",
      "\n",
      "\n",
      "  X_encoded[col].fillna(self._imputed, inplace=True)\n",
      "/home/nguyenhoa/miniconda3/envs/.henv/lib/python3.12/site-packages/pytorch_tabular/categorical_encoders.py:71: FutureWarning: A value is trying to be set on a copy of a DataFrame or Series through chained assignment using an inplace method.\n",
      "The behavior will change in pandas 3.0. This inplace method will never work because the intermediate object on which we are setting values always behaves as a copy.\n",
      "\n",
      "For example, when doing 'df[col].method(value, inplace=True)', try using 'df.method({col: value}, inplace=True)' or df[col] = df[col].method(value) instead, to perform the operation inplace on the original object.\n",
      "\n",
      "\n",
      "  X_encoded[col].fillna(self._imputed, inplace=True)\n",
      "/home/nguyenhoa/miniconda3/envs/.henv/lib/python3.12/site-packages/pytorch_tabular/categorical_encoders.py:71: FutureWarning: A value is trying to be set on a copy of a DataFrame or Series through chained assignment using an inplace method.\n",
      "The behavior will change in pandas 3.0. This inplace method will never work because the intermediate object on which we are setting values always behaves as a copy.\n",
      "\n",
      "For example, when doing 'df[col].method(value, inplace=True)', try using 'df.method({col: value}, inplace=True)' or df[col] = df[col].method(value) instead, to perform the operation inplace on the original object.\n",
      "\n",
      "\n",
      "  X_encoded[col].fillna(self._imputed, inplace=True)\n"
     ]
    },
    {
     "data": {
      "text/html": [
       "<pre style=\"white-space:pre;overflow-x:auto;line-height:normal;font-family:Menlo,'DejaVu Sans Mono',consolas,'Courier New',monospace\"><span style=\"color: #008080; text-decoration-color: #008080; font-weight: bold\">2025</span>-<span style=\"color: #008080; text-decoration-color: #008080; font-weight: bold\">03</span>-<span style=\"color: #008080; text-decoration-color: #008080; font-weight: bold\">24</span> <span style=\"color: #00ff00; text-decoration-color: #00ff00; font-weight: bold\">03:09:25</span>,<span style=\"color: #008080; text-decoration-color: #008080; font-weight: bold\">251</span> - <span style=\"font-weight: bold\">{</span>pytorch_tabular:<span style=\"color: #008080; text-decoration-color: #008080; font-weight: bold\">328</span><span style=\"font-weight: bold\">}</span> - INFO - Training AutoIntModel                                     \n",
       "</pre>\n"
      ],
      "text/plain": [
       "\u001b[1;36m2025\u001b[0m-\u001b[1;36m03\u001b[0m-\u001b[1;36m24\u001b[0m \u001b[1;92m03:09:25\u001b[0m,\u001b[1;36m251\u001b[0m - \u001b[1m{\u001b[0mpytorch_tabular:\u001b[1;36m328\u001b[0m\u001b[1m}\u001b[0m - INFO - Training AutoIntModel                                     \n"
      ]
     },
     "metadata": {},
     "output_type": "display_data"
    },
    {
     "data": {
      "text/html": [
       "<pre style=\"white-space:pre;overflow-x:auto;line-height:normal;font-family:Menlo,'DejaVu Sans Mono',consolas,'Courier New',monospace\">/home/nguyenhoa/miniconda3/envs/.henv/lib/python3.12/site-packages/pytorch_lightning/callbacks/model_checkpoint.py:\n",
       "654: Checkpoint directory /home/nguyenhoa/hoa/up5/final/src/saved_models exists and is not empty.\n",
       "</pre>\n"
      ],
      "text/plain": [
       "/home/nguyenhoa/miniconda3/envs/.henv/lib/python3.12/site-packages/pytorch_lightning/callbacks/model_checkpoint.py:\n",
       "654: Checkpoint directory /home/nguyenhoa/hoa/up5/final/src/saved_models exists and is not empty.\n"
      ]
     },
     "metadata": {},
     "output_type": "display_data"
    },
    {
     "data": {
      "text/html": [
       "<pre style=\"white-space:pre;overflow-x:auto;line-height:normal;font-family:Menlo,'DejaVu Sans Mono',consolas,'Courier New',monospace\">/home/nguyenhoa/miniconda3/envs/.henv/lib/python3.12/site-packages/pytorch_lightning/trainer/connectors/data_connec\n",
       "tor.py:424: The 'val_dataloader' does not have many workers which may be a bottleneck. Consider increasing the \n",
       "value of the `num_workers` argument` to `num_workers=127` in the `DataLoader` to improve performance.\n",
       "</pre>\n"
      ],
      "text/plain": [
       "/home/nguyenhoa/miniconda3/envs/.henv/lib/python3.12/site-packages/pytorch_lightning/trainer/connectors/data_connec\n",
       "tor.py:424: The 'val_dataloader' does not have many workers which may be a bottleneck. Consider increasing the \n",
       "value of the `num_workers` argument` to `num_workers=127` in the `DataLoader` to improve performance.\n"
      ]
     },
     "metadata": {},
     "output_type": "display_data"
    },
    {
     "data": {
      "text/html": [
       "<pre style=\"white-space:pre;overflow-x:auto;line-height:normal;font-family:Menlo,'DejaVu Sans Mono',consolas,'Courier New',monospace\">/home/nguyenhoa/miniconda3/envs/.henv/lib/python3.12/site-packages/pytorch_lightning/trainer/connectors/data_connec\n",
       "tor.py:424: The 'train_dataloader' does not have many workers which may be a bottleneck. Consider increasing the \n",
       "value of the `num_workers` argument` to `num_workers=127` in the `DataLoader` to improve performance.\n",
       "</pre>\n"
      ],
      "text/plain": [
       "/home/nguyenhoa/miniconda3/envs/.henv/lib/python3.12/site-packages/pytorch_lightning/trainer/connectors/data_connec\n",
       "tor.py:424: The 'train_dataloader' does not have many workers which may be a bottleneck. Consider increasing the \n",
       "value of the `num_workers` argument` to `num_workers=127` in the `DataLoader` to improve performance.\n"
      ]
     },
     "metadata": {},
     "output_type": "display_data"
    },
    {
     "data": {
      "text/html": [
       "<pre style=\"white-space:pre;overflow-x:auto;line-height:normal;font-family:Menlo,'DejaVu Sans Mono',consolas,'Courier New',monospace\">/home/nguyenhoa/miniconda3/envs/.henv/lib/python3.12/site-packages/pytorch_lightning/loops/fit_loop.py:298: The \n",
       "number of training batches (25) is smaller than the logging interval Trainer(log_every_n_steps=50). Set a lower \n",
       "value for log_every_n_steps if you want to see logs for the training epoch.\n",
       "</pre>\n"
      ],
      "text/plain": [
       "/home/nguyenhoa/miniconda3/envs/.henv/lib/python3.12/site-packages/pytorch_lightning/loops/fit_loop.py:298: The \n",
       "number of training batches (25) is smaller than the logging interval Trainer(log_every_n_steps=50). Set a lower \n",
       "value for log_every_n_steps if you want to see logs for the training epoch.\n"
      ]
     },
     "metadata": {},
     "output_type": "display_data"
    },
    {
     "data": {
      "text/html": [
       "<pre style=\"white-space:pre;overflow-x:auto;line-height:normal;font-family:Menlo,'DejaVu Sans Mono',consolas,'Courier New',monospace\">/home/nguyenhoa/miniconda3/envs/.henv/lib/python3.12/site-packages/pytorch_tabular/categorical_encoders.py:71: \n",
       "FutureWarning: A value is trying to be set on a copy of a DataFrame or Series through chained assignment using an \n",
       "inplace method.\n",
       "The behavior will change in pandas 3.0. This inplace method will never work because the intermediate object on \n",
       "which we are setting values always behaves as a copy.\n",
       "\n",
       "For example, when doing 'df[col].method(value, inplace=True)', try using 'df.method({col: value}, inplace=True)' or\n",
       "df[col] = df[col].method(value) instead, to perform the operation inplace on the original object.\n",
       "\n",
       "\n",
       "  X_encoded[col].fillna(self._imputed, inplace=True)\n",
       "</pre>\n"
      ],
      "text/plain": [
       "/home/nguyenhoa/miniconda3/envs/.henv/lib/python3.12/site-packages/pytorch_tabular/categorical_encoders.py:71: \n",
       "FutureWarning: A value is trying to be set on a copy of a DataFrame or Series through chained assignment using an \n",
       "inplace method.\n",
       "The behavior will change in pandas 3.0. This inplace method will never work because the intermediate object on \n",
       "which we are setting values always behaves as a copy.\n",
       "\n",
       "For example, when doing 'df[col].method(value, inplace=True)', try using 'df.method({col: value}, inplace=True)' or\n",
       "df[col] = df[col].method(value) instead, to perform the operation inplace on the original object.\n",
       "\n",
       "\n",
       "  X_encoded[col].fillna(self._imputed, inplace=True)\n"
      ]
     },
     "metadata": {},
     "output_type": "display_data"
    },
    {
     "data": {
      "text/html": [
       "<pre style=\"white-space:pre;overflow-x:auto;line-height:normal;font-family:Menlo,'DejaVu Sans Mono',consolas,'Courier New',monospace\">/home/nguyenhoa/miniconda3/envs/.henv/lib/python3.12/site-packages/pytorch_tabular/categorical_encoders.py:71: \n",
       "FutureWarning: A value is trying to be set on a copy of a DataFrame or Series through chained assignment using an \n",
       "inplace method.\n",
       "The behavior will change in pandas 3.0. This inplace method will never work because the intermediate object on \n",
       "which we are setting values always behaves as a copy.\n",
       "\n",
       "For example, when doing 'df[col].method(value, inplace=True)', try using 'df.method({col: value}, inplace=True)' or\n",
       "df[col] = df[col].method(value) instead, to perform the operation inplace on the original object.\n",
       "\n",
       "\n",
       "  X_encoded[col].fillna(self._imputed, inplace=True)\n",
       "</pre>\n"
      ],
      "text/plain": [
       "/home/nguyenhoa/miniconda3/envs/.henv/lib/python3.12/site-packages/pytorch_tabular/categorical_encoders.py:71: \n",
       "FutureWarning: A value is trying to be set on a copy of a DataFrame or Series through chained assignment using an \n",
       "inplace method.\n",
       "The behavior will change in pandas 3.0. This inplace method will never work because the intermediate object on \n",
       "which we are setting values always behaves as a copy.\n",
       "\n",
       "For example, when doing 'df[col].method(value, inplace=True)', try using 'df.method({col: value}, inplace=True)' or\n",
       "df[col] = df[col].method(value) instead, to perform the operation inplace on the original object.\n",
       "\n",
       "\n",
       "  X_encoded[col].fillna(self._imputed, inplace=True)\n"
      ]
     },
     "metadata": {},
     "output_type": "display_data"
    },
    {
     "data": {
      "text/html": [
       "<pre style=\"white-space:pre;overflow-x:auto;line-height:normal;font-family:Menlo,'DejaVu Sans Mono',consolas,'Courier New',monospace\">/home/nguyenhoa/miniconda3/envs/.henv/lib/python3.12/site-packages/pytorch_tabular/categorical_encoders.py:71: \n",
       "FutureWarning: A value is trying to be set on a copy of a DataFrame or Series through chained assignment using an \n",
       "inplace method.\n",
       "The behavior will change in pandas 3.0. This inplace method will never work because the intermediate object on \n",
       "which we are setting values always behaves as a copy.\n",
       "\n",
       "For example, when doing 'df[col].method(value, inplace=True)', try using 'df.method({col: value}, inplace=True)' or\n",
       "df[col] = df[col].method(value) instead, to perform the operation inplace on the original object.\n",
       "\n",
       "\n",
       "  X_encoded[col].fillna(self._imputed, inplace=True)\n",
       "</pre>\n"
      ],
      "text/plain": [
       "/home/nguyenhoa/miniconda3/envs/.henv/lib/python3.12/site-packages/pytorch_tabular/categorical_encoders.py:71: \n",
       "FutureWarning: A value is trying to be set on a copy of a DataFrame or Series through chained assignment using an \n",
       "inplace method.\n",
       "The behavior will change in pandas 3.0. This inplace method will never work because the intermediate object on \n",
       "which we are setting values always behaves as a copy.\n",
       "\n",
       "For example, when doing 'df[col].method(value, inplace=True)', try using 'df.method({col: value}, inplace=True)' or\n",
       "df[col] = df[col].method(value) instead, to perform the operation inplace on the original object.\n",
       "\n",
       "\n",
       "  X_encoded[col].fillna(self._imputed, inplace=True)\n"
      ]
     },
     "metadata": {},
     "output_type": "display_data"
    },
    {
     "data": {
      "text/html": [
       "<pre style=\"white-space:pre;overflow-x:auto;line-height:normal;font-family:Menlo,'DejaVu Sans Mono',consolas,'Courier New',monospace\">/home/nguyenhoa/miniconda3/envs/.henv/lib/python3.12/site-packages/pytorch_tabular/categorical_encoders.py:71: \n",
       "FutureWarning: A value is trying to be set on a copy of a DataFrame or Series through chained assignment using an \n",
       "inplace method.\n",
       "The behavior will change in pandas 3.0. This inplace method will never work because the intermediate object on \n",
       "which we are setting values always behaves as a copy.\n",
       "\n",
       "For example, when doing 'df[col].method(value, inplace=True)', try using 'df.method({col: value}, inplace=True)' or\n",
       "df[col] = df[col].method(value) instead, to perform the operation inplace on the original object.\n",
       "\n",
       "\n",
       "  X_encoded[col].fillna(self._imputed, inplace=True)\n",
       "</pre>\n"
      ],
      "text/plain": [
       "/home/nguyenhoa/miniconda3/envs/.henv/lib/python3.12/site-packages/pytorch_tabular/categorical_encoders.py:71: \n",
       "FutureWarning: A value is trying to be set on a copy of a DataFrame or Series through chained assignment using an \n",
       "inplace method.\n",
       "The behavior will change in pandas 3.0. This inplace method will never work because the intermediate object on \n",
       "which we are setting values always behaves as a copy.\n",
       "\n",
       "For example, when doing 'df[col].method(value, inplace=True)', try using 'df.method({col: value}, inplace=True)' or\n",
       "df[col] = df[col].method(value) instead, to perform the operation inplace on the original object.\n",
       "\n",
       "\n",
       "  X_encoded[col].fillna(self._imputed, inplace=True)\n"
      ]
     },
     "metadata": {},
     "output_type": "display_data"
    },
    {
     "data": {
      "text/html": [
       "<pre style=\"white-space:pre;overflow-x:auto;line-height:normal;font-family:Menlo,'DejaVu Sans Mono',consolas,'Courier New',monospace\">/home/nguyenhoa/miniconda3/envs/.henv/lib/python3.12/site-packages/pytorch_tabular/categorical_encoders.py:71: \n",
       "FutureWarning: A value is trying to be set on a copy of a DataFrame or Series through chained assignment using an \n",
       "inplace method.\n",
       "The behavior will change in pandas 3.0. This inplace method will never work because the intermediate object on \n",
       "which we are setting values always behaves as a copy.\n",
       "\n",
       "For example, when doing 'df[col].method(value, inplace=True)', try using 'df.method({col: value}, inplace=True)' or\n",
       "df[col] = df[col].method(value) instead, to perform the operation inplace on the original object.\n",
       "\n",
       "\n",
       "  X_encoded[col].fillna(self._imputed, inplace=True)\n",
       "</pre>\n"
      ],
      "text/plain": [
       "/home/nguyenhoa/miniconda3/envs/.henv/lib/python3.12/site-packages/pytorch_tabular/categorical_encoders.py:71: \n",
       "FutureWarning: A value is trying to be set on a copy of a DataFrame or Series through chained assignment using an \n",
       "inplace method.\n",
       "The behavior will change in pandas 3.0. This inplace method will never work because the intermediate object on \n",
       "which we are setting values always behaves as a copy.\n",
       "\n",
       "For example, when doing 'df[col].method(value, inplace=True)', try using 'df.method({col: value}, inplace=True)' or\n",
       "df[col] = df[col].method(value) instead, to perform the operation inplace on the original object.\n",
       "\n",
       "\n",
       "  X_encoded[col].fillna(self._imputed, inplace=True)\n"
      ]
     },
     "metadata": {},
     "output_type": "display_data"
    },
    {
     "data": {
      "text/html": [
       "<pre style=\"white-space:pre;overflow-x:auto;line-height:normal;font-family:Menlo,'DejaVu Sans Mono',consolas,'Courier New',monospace\">/home/nguyenhoa/miniconda3/envs/.henv/lib/python3.12/site-packages/pytorch_tabular/categorical_encoders.py:71: \n",
       "FutureWarning: A value is trying to be set on a copy of a DataFrame or Series through chained assignment using an \n",
       "inplace method.\n",
       "The behavior will change in pandas 3.0. This inplace method will never work because the intermediate object on \n",
       "which we are setting values always behaves as a copy.\n",
       "\n",
       "For example, when doing 'df[col].method(value, inplace=True)', try using 'df.method({col: value}, inplace=True)' or\n",
       "df[col] = df[col].method(value) instead, to perform the operation inplace on the original object.\n",
       "\n",
       "\n",
       "  X_encoded[col].fillna(self._imputed, inplace=True)\n",
       "</pre>\n"
      ],
      "text/plain": [
       "/home/nguyenhoa/miniconda3/envs/.henv/lib/python3.12/site-packages/pytorch_tabular/categorical_encoders.py:71: \n",
       "FutureWarning: A value is trying to be set on a copy of a DataFrame or Series through chained assignment using an \n",
       "inplace method.\n",
       "The behavior will change in pandas 3.0. This inplace method will never work because the intermediate object on \n",
       "which we are setting values always behaves as a copy.\n",
       "\n",
       "For example, when doing 'df[col].method(value, inplace=True)', try using 'df.method({col: value}, inplace=True)' or\n",
       "df[col] = df[col].method(value) instead, to perform the operation inplace on the original object.\n",
       "\n",
       "\n",
       "  X_encoded[col].fillna(self._imputed, inplace=True)\n"
      ]
     },
     "metadata": {},
     "output_type": "display_data"
    },
    {
     "data": {
      "text/html": [
       "<pre style=\"white-space:pre;overflow-x:auto;line-height:normal;font-family:Menlo,'DejaVu Sans Mono',consolas,'Courier New',monospace\">/home/nguyenhoa/miniconda3/envs/.henv/lib/python3.12/site-packages/pytorch_tabular/categorical_encoders.py:71: \n",
       "FutureWarning: A value is trying to be set on a copy of a DataFrame or Series through chained assignment using an \n",
       "inplace method.\n",
       "The behavior will change in pandas 3.0. This inplace method will never work because the intermediate object on \n",
       "which we are setting values always behaves as a copy.\n",
       "\n",
       "For example, when doing 'df[col].method(value, inplace=True)', try using 'df.method({col: value}, inplace=True)' or\n",
       "df[col] = df[col].method(value) instead, to perform the operation inplace on the original object.\n",
       "\n",
       "\n",
       "  X_encoded[col].fillna(self._imputed, inplace=True)\n",
       "</pre>\n"
      ],
      "text/plain": [
       "/home/nguyenhoa/miniconda3/envs/.henv/lib/python3.12/site-packages/pytorch_tabular/categorical_encoders.py:71: \n",
       "FutureWarning: A value is trying to be set on a copy of a DataFrame or Series through chained assignment using an \n",
       "inplace method.\n",
       "The behavior will change in pandas 3.0. This inplace method will never work because the intermediate object on \n",
       "which we are setting values always behaves as a copy.\n",
       "\n",
       "For example, when doing 'df[col].method(value, inplace=True)', try using 'df.method({col: value}, inplace=True)' or\n",
       "df[col] = df[col].method(value) instead, to perform the operation inplace on the original object.\n",
       "\n",
       "\n",
       "  X_encoded[col].fillna(self._imputed, inplace=True)\n"
      ]
     },
     "metadata": {},
     "output_type": "display_data"
    },
    {
     "data": {
      "text/html": [
       "<pre style=\"white-space:pre;overflow-x:auto;line-height:normal;font-family:Menlo,'DejaVu Sans Mono',consolas,'Courier New',monospace\">/home/nguyenhoa/miniconda3/envs/.henv/lib/python3.12/site-packages/pytorch_tabular/categorical_encoders.py:71: \n",
       "FutureWarning: A value is trying to be set on a copy of a DataFrame or Series through chained assignment using an \n",
       "inplace method.\n",
       "The behavior will change in pandas 3.0. This inplace method will never work because the intermediate object on \n",
       "which we are setting values always behaves as a copy.\n",
       "\n",
       "For example, when doing 'df[col].method(value, inplace=True)', try using 'df.method({col: value}, inplace=True)' or\n",
       "df[col] = df[col].method(value) instead, to perform the operation inplace on the original object.\n",
       "\n",
       "\n",
       "  X_encoded[col].fillna(self._imputed, inplace=True)\n",
       "</pre>\n"
      ],
      "text/plain": [
       "/home/nguyenhoa/miniconda3/envs/.henv/lib/python3.12/site-packages/pytorch_tabular/categorical_encoders.py:71: \n",
       "FutureWarning: A value is trying to be set on a copy of a DataFrame or Series through chained assignment using an \n",
       "inplace method.\n",
       "The behavior will change in pandas 3.0. This inplace method will never work because the intermediate object on \n",
       "which we are setting values always behaves as a copy.\n",
       "\n",
       "For example, when doing 'df[col].method(value, inplace=True)', try using 'df.method({col: value}, inplace=True)' or\n",
       "df[col] = df[col].method(value) instead, to perform the operation inplace on the original object.\n",
       "\n",
       "\n",
       "  X_encoded[col].fillna(self._imputed, inplace=True)\n"
      ]
     },
     "metadata": {},
     "output_type": "display_data"
    },
    {
     "data": {
      "text/html": [
       "<pre style=\"white-space:pre;overflow-x:auto;line-height:normal;font-family:Menlo,'DejaVu Sans Mono',consolas,'Courier New',monospace\">/home/nguyenhoa/miniconda3/envs/.henv/lib/python3.12/site-packages/pytorch_tabular/categorical_encoders.py:71: \n",
       "FutureWarning: A value is trying to be set on a copy of a DataFrame or Series through chained assignment using an \n",
       "inplace method.\n",
       "The behavior will change in pandas 3.0. This inplace method will never work because the intermediate object on \n",
       "which we are setting values always behaves as a copy.\n",
       "\n",
       "For example, when doing 'df[col].method(value, inplace=True)', try using 'df.method({col: value}, inplace=True)' or\n",
       "df[col] = df[col].method(value) instead, to perform the operation inplace on the original object.\n",
       "\n",
       "\n",
       "  X_encoded[col].fillna(self._imputed, inplace=True)\n",
       "</pre>\n"
      ],
      "text/plain": [
       "/home/nguyenhoa/miniconda3/envs/.henv/lib/python3.12/site-packages/pytorch_tabular/categorical_encoders.py:71: \n",
       "FutureWarning: A value is trying to be set on a copy of a DataFrame or Series through chained assignment using an \n",
       "inplace method.\n",
       "The behavior will change in pandas 3.0. This inplace method will never work because the intermediate object on \n",
       "which we are setting values always behaves as a copy.\n",
       "\n",
       "For example, when doing 'df[col].method(value, inplace=True)', try using 'df.method({col: value}, inplace=True)' or\n",
       "df[col] = df[col].method(value) instead, to perform the operation inplace on the original object.\n",
       "\n",
       "\n",
       "  X_encoded[col].fillna(self._imputed, inplace=True)\n"
      ]
     },
     "metadata": {},
     "output_type": "display_data"
    },
    {
     "data": {
      "text/html": [
       "<pre style=\"white-space:pre;overflow-x:auto;line-height:normal;font-family:Menlo,'DejaVu Sans Mono',consolas,'Courier New',monospace\">/home/nguyenhoa/miniconda3/envs/.henv/lib/python3.12/site-packages/pytorch_lightning/trainer/connectors/data_connec\n",
       "tor.py:424: The 'test_dataloader' does not have many workers which may be a bottleneck. Consider increasing the \n",
       "value of the `num_workers` argument` to `num_workers=127` in the `DataLoader` to improve performance.\n",
       "</pre>\n"
      ],
      "text/plain": [
       "/home/nguyenhoa/miniconda3/envs/.henv/lib/python3.12/site-packages/pytorch_lightning/trainer/connectors/data_connec\n",
       "tor.py:424: The 'test_dataloader' does not have many workers which may be a bottleneck. Consider increasing the \n",
       "value of the `num_workers` argument` to `num_workers=127` in the `DataLoader` to improve performance.\n"
      ]
     },
     "metadata": {},
     "output_type": "display_data"
    },
    {
     "data": {
      "text/html": [
       "<pre style=\"white-space:pre;overflow-x:auto;line-height:normal;font-family:Menlo,'DejaVu Sans Mono',consolas,'Courier New',monospace\"><span style=\"color: #008080; text-decoration-color: #008080; font-weight: bold\">2025</span>-<span style=\"color: #008080; text-decoration-color: #008080; font-weight: bold\">03</span>-<span style=\"color: #008080; text-decoration-color: #008080; font-weight: bold\">24</span> <span style=\"color: #00ff00; text-decoration-color: #00ff00; font-weight: bold\">03:10:16</span>,<span style=\"color: #008080; text-decoration-color: #008080; font-weight: bold\">668</span> - <span style=\"font-weight: bold\">{</span>pytorch_tabular:<span style=\"color: #008080; text-decoration-color: #008080; font-weight: bold\">382</span><span style=\"font-weight: bold\">}</span> - INFO - Finished Training AutoIntModel                            \n",
       "</pre>\n"
      ],
      "text/plain": [
       "\u001b[1;36m2025\u001b[0m-\u001b[1;36m03\u001b[0m-\u001b[1;36m24\u001b[0m \u001b[1;92m03:10:16\u001b[0m,\u001b[1;36m668\u001b[0m - \u001b[1m{\u001b[0mpytorch_tabular:\u001b[1;36m382\u001b[0m\u001b[1m}\u001b[0m - INFO - Finished Training AutoIntModel                            \n"
      ]
     },
     "metadata": {},
     "output_type": "display_data"
    },
    {
     "data": {
      "text/html": [
       "<pre style=\"white-space:pre;overflow-x:auto;line-height:normal;font-family:Menlo,'DejaVu Sans Mono',consolas,'Courier New',monospace\"><span style=\"color: #008080; text-decoration-color: #008080; font-weight: bold\">2025</span>-<span style=\"color: #008080; text-decoration-color: #008080; font-weight: bold\">03</span>-<span style=\"color: #008080; text-decoration-color: #008080; font-weight: bold\">24</span> <span style=\"color: #00ff00; text-decoration-color: #00ff00; font-weight: bold\">03:10:16</span>,<span style=\"color: #008080; text-decoration-color: #008080; font-weight: bold\">669</span> - <span style=\"font-weight: bold\">{</span>pytorch_tabular:<span style=\"color: #008080; text-decoration-color: #008080; font-weight: bold\">383</span><span style=\"font-weight: bold\">}</span> - INFO - Results: model: AutoIntModel, # Params: <span style=\"color: #008080; text-decoration-color: #008080; font-weight: bold\">27</span> T, epochs: <span style=\"color: #008080; text-decoration-color: #008080; font-weight: bold\">100</span>,\n",
       "test_loss: <span style=\"color: #008080; text-decoration-color: #008080; font-weight: bold\">0.08125996589660645</span>, test_mean_squared_error: <span style=\"color: #008080; text-decoration-color: #008080; font-weight: bold\">0.08125996589660645</span>, time_taken: <span style=\"color: #008080; text-decoration-color: #008080; font-weight: bold\">51.42880845069885</span>,       \n",
       "time_taken_per_epoch: <span style=\"color: #008080; text-decoration-color: #008080; font-weight: bold\">0.5142880845069885</span>                                                                           \n",
       "</pre>\n"
      ],
      "text/plain": [
       "\u001b[1;36m2025\u001b[0m-\u001b[1;36m03\u001b[0m-\u001b[1;36m24\u001b[0m \u001b[1;92m03:10:16\u001b[0m,\u001b[1;36m669\u001b[0m - \u001b[1m{\u001b[0mpytorch_tabular:\u001b[1;36m383\u001b[0m\u001b[1m}\u001b[0m - INFO - Results: model: AutoIntModel, # Params: \u001b[1;36m27\u001b[0m T, epochs: \u001b[1;36m100\u001b[0m,\n",
       "test_loss: \u001b[1;36m0.08125996589660645\u001b[0m, test_mean_squared_error: \u001b[1;36m0.08125996589660645\u001b[0m, time_taken: \u001b[1;36m51.42880845069885\u001b[0m,       \n",
       "time_taken_per_epoch: \u001b[1;36m0.5142880845069885\u001b[0m                                                                           \n"
      ]
     },
     "metadata": {},
     "output_type": "display_data"
    },
    {
     "data": {
      "text/html": [
       "<pre style=\"white-space:pre;overflow-x:auto;line-height:normal;font-family:Menlo,'DejaVu Sans Mono',consolas,'Courier New',monospace\"><span style=\"color: #008080; text-decoration-color: #008080; font-weight: bold\">2025</span>-<span style=\"color: #008080; text-decoration-color: #008080; font-weight: bold\">03</span>-<span style=\"color: #008080; text-decoration-color: #008080; font-weight: bold\">24</span> <span style=\"color: #00ff00; text-decoration-color: #00ff00; font-weight: bold\">03:10:16</span>,<span style=\"color: #008080; text-decoration-color: #008080; font-weight: bold\">710</span> - <span style=\"font-weight: bold\">{</span>pytorch_tabular:<span style=\"color: #008080; text-decoration-color: #008080; font-weight: bold\">328</span><span style=\"font-weight: bold\">}</span> - INFO - Training CategoryEmbeddingModel                           \n",
       "</pre>\n"
      ],
      "text/plain": [
       "\u001b[1;36m2025\u001b[0m-\u001b[1;36m03\u001b[0m-\u001b[1;36m24\u001b[0m \u001b[1;92m03:10:16\u001b[0m,\u001b[1;36m710\u001b[0m - \u001b[1m{\u001b[0mpytorch_tabular:\u001b[1;36m328\u001b[0m\u001b[1m}\u001b[0m - INFO - Training CategoryEmbeddingModel                           \n"
      ]
     },
     "metadata": {},
     "output_type": "display_data"
    },
    {
     "data": {
      "text/html": [
       "<pre style=\"white-space:pre;overflow-x:auto;line-height:normal;font-family:Menlo,'DejaVu Sans Mono',consolas,'Courier New',monospace\">/home/nguyenhoa/miniconda3/envs/.henv/lib/python3.12/site-packages/pytorch_lightning/callbacks/model_checkpoint.py:\n",
       "654: Checkpoint directory /home/nguyenhoa/hoa/up5/final/src/saved_models exists and is not empty.\n",
       "</pre>\n"
      ],
      "text/plain": [
       "/home/nguyenhoa/miniconda3/envs/.henv/lib/python3.12/site-packages/pytorch_lightning/callbacks/model_checkpoint.py:\n",
       "654: Checkpoint directory /home/nguyenhoa/hoa/up5/final/src/saved_models exists and is not empty.\n"
      ]
     },
     "metadata": {},
     "output_type": "display_data"
    },
    {
     "data": {
      "text/html": [
       "<pre style=\"white-space:pre;overflow-x:auto;line-height:normal;font-family:Menlo,'DejaVu Sans Mono',consolas,'Courier New',monospace\">/home/nguyenhoa/miniconda3/envs/.henv/lib/python3.12/site-packages/pytorch_lightning/trainer/connectors/data_connec\n",
       "tor.py:424: The 'val_dataloader' does not have many workers which may be a bottleneck. Consider increasing the \n",
       "value of the `num_workers` argument` to `num_workers=127` in the `DataLoader` to improve performance.\n",
       "</pre>\n"
      ],
      "text/plain": [
       "/home/nguyenhoa/miniconda3/envs/.henv/lib/python3.12/site-packages/pytorch_lightning/trainer/connectors/data_connec\n",
       "tor.py:424: The 'val_dataloader' does not have many workers which may be a bottleneck. Consider increasing the \n",
       "value of the `num_workers` argument` to `num_workers=127` in the `DataLoader` to improve performance.\n"
      ]
     },
     "metadata": {},
     "output_type": "display_data"
    },
    {
     "data": {
      "text/html": [
       "<pre style=\"white-space:pre;overflow-x:auto;line-height:normal;font-family:Menlo,'DejaVu Sans Mono',consolas,'Courier New',monospace\">/home/nguyenhoa/miniconda3/envs/.henv/lib/python3.12/site-packages/pytorch_lightning/trainer/connectors/data_connec\n",
       "tor.py:424: The 'train_dataloader' does not have many workers which may be a bottleneck. Consider increasing the \n",
       "value of the `num_workers` argument` to `num_workers=127` in the `DataLoader` to improve performance.\n",
       "</pre>\n"
      ],
      "text/plain": [
       "/home/nguyenhoa/miniconda3/envs/.henv/lib/python3.12/site-packages/pytorch_lightning/trainer/connectors/data_connec\n",
       "tor.py:424: The 'train_dataloader' does not have many workers which may be a bottleneck. Consider increasing the \n",
       "value of the `num_workers` argument` to `num_workers=127` in the `DataLoader` to improve performance.\n"
      ]
     },
     "metadata": {},
     "output_type": "display_data"
    },
    {
     "data": {
      "text/html": [
       "<pre style=\"white-space:pre;overflow-x:auto;line-height:normal;font-family:Menlo,'DejaVu Sans Mono',consolas,'Courier New',monospace\">/home/nguyenhoa/miniconda3/envs/.henv/lib/python3.12/site-packages/pytorch_lightning/loops/fit_loop.py:298: The \n",
       "number of training batches (25) is smaller than the logging interval Trainer(log_every_n_steps=50). Set a lower \n",
       "value for log_every_n_steps if you want to see logs for the training epoch.\n",
       "</pre>\n"
      ],
      "text/plain": [
       "/home/nguyenhoa/miniconda3/envs/.henv/lib/python3.12/site-packages/pytorch_lightning/loops/fit_loop.py:298: The \n",
       "number of training batches (25) is smaller than the logging interval Trainer(log_every_n_steps=50). Set a lower \n",
       "value for log_every_n_steps if you want to see logs for the training epoch.\n"
      ]
     },
     "metadata": {},
     "output_type": "display_data"
    },
    {
     "data": {
      "text/html": [
       "<pre style=\"white-space:pre;overflow-x:auto;line-height:normal;font-family:Menlo,'DejaVu Sans Mono',consolas,'Courier New',monospace\">/home/nguyenhoa/miniconda3/envs/.henv/lib/python3.12/site-packages/pytorch_tabular/categorical_encoders.py:71: \n",
       "FutureWarning: A value is trying to be set on a copy of a DataFrame or Series through chained assignment using an \n",
       "inplace method.\n",
       "The behavior will change in pandas 3.0. This inplace method will never work because the intermediate object on \n",
       "which we are setting values always behaves as a copy.\n",
       "\n",
       "For example, when doing 'df[col].method(value, inplace=True)', try using 'df.method({col: value}, inplace=True)' or\n",
       "df[col] = df[col].method(value) instead, to perform the operation inplace on the original object.\n",
       "\n",
       "\n",
       "  X_encoded[col].fillna(self._imputed, inplace=True)\n",
       "</pre>\n"
      ],
      "text/plain": [
       "/home/nguyenhoa/miniconda3/envs/.henv/lib/python3.12/site-packages/pytorch_tabular/categorical_encoders.py:71: \n",
       "FutureWarning: A value is trying to be set on a copy of a DataFrame or Series through chained assignment using an \n",
       "inplace method.\n",
       "The behavior will change in pandas 3.0. This inplace method will never work because the intermediate object on \n",
       "which we are setting values always behaves as a copy.\n",
       "\n",
       "For example, when doing 'df[col].method(value, inplace=True)', try using 'df.method({col: value}, inplace=True)' or\n",
       "df[col] = df[col].method(value) instead, to perform the operation inplace on the original object.\n",
       "\n",
       "\n",
       "  X_encoded[col].fillna(self._imputed, inplace=True)\n"
      ]
     },
     "metadata": {},
     "output_type": "display_data"
    },
    {
     "data": {
      "text/html": [
       "<pre style=\"white-space:pre;overflow-x:auto;line-height:normal;font-family:Menlo,'DejaVu Sans Mono',consolas,'Courier New',monospace\">/home/nguyenhoa/miniconda3/envs/.henv/lib/python3.12/site-packages/pytorch_tabular/categorical_encoders.py:71: \n",
       "FutureWarning: A value is trying to be set on a copy of a DataFrame or Series through chained assignment using an \n",
       "inplace method.\n",
       "The behavior will change in pandas 3.0. This inplace method will never work because the intermediate object on \n",
       "which we are setting values always behaves as a copy.\n",
       "\n",
       "For example, when doing 'df[col].method(value, inplace=True)', try using 'df.method({col: value}, inplace=True)' or\n",
       "df[col] = df[col].method(value) instead, to perform the operation inplace on the original object.\n",
       "\n",
       "\n",
       "  X_encoded[col].fillna(self._imputed, inplace=True)\n",
       "</pre>\n"
      ],
      "text/plain": [
       "/home/nguyenhoa/miniconda3/envs/.henv/lib/python3.12/site-packages/pytorch_tabular/categorical_encoders.py:71: \n",
       "FutureWarning: A value is trying to be set on a copy of a DataFrame or Series through chained assignment using an \n",
       "inplace method.\n",
       "The behavior will change in pandas 3.0. This inplace method will never work because the intermediate object on \n",
       "which we are setting values always behaves as a copy.\n",
       "\n",
       "For example, when doing 'df[col].method(value, inplace=True)', try using 'df.method({col: value}, inplace=True)' or\n",
       "df[col] = df[col].method(value) instead, to perform the operation inplace on the original object.\n",
       "\n",
       "\n",
       "  X_encoded[col].fillna(self._imputed, inplace=True)\n"
      ]
     },
     "metadata": {},
     "output_type": "display_data"
    },
    {
     "data": {
      "text/html": [
       "<pre style=\"white-space:pre;overflow-x:auto;line-height:normal;font-family:Menlo,'DejaVu Sans Mono',consolas,'Courier New',monospace\">/home/nguyenhoa/miniconda3/envs/.henv/lib/python3.12/site-packages/pytorch_tabular/categorical_encoders.py:71: \n",
       "FutureWarning: A value is trying to be set on a copy of a DataFrame or Series through chained assignment using an \n",
       "inplace method.\n",
       "The behavior will change in pandas 3.0. This inplace method will never work because the intermediate object on \n",
       "which we are setting values always behaves as a copy.\n",
       "\n",
       "For example, when doing 'df[col].method(value, inplace=True)', try using 'df.method({col: value}, inplace=True)' or\n",
       "df[col] = df[col].method(value) instead, to perform the operation inplace on the original object.\n",
       "\n",
       "\n",
       "  X_encoded[col].fillna(self._imputed, inplace=True)\n",
       "</pre>\n"
      ],
      "text/plain": [
       "/home/nguyenhoa/miniconda3/envs/.henv/lib/python3.12/site-packages/pytorch_tabular/categorical_encoders.py:71: \n",
       "FutureWarning: A value is trying to be set on a copy of a DataFrame or Series through chained assignment using an \n",
       "inplace method.\n",
       "The behavior will change in pandas 3.0. This inplace method will never work because the intermediate object on \n",
       "which we are setting values always behaves as a copy.\n",
       "\n",
       "For example, when doing 'df[col].method(value, inplace=True)', try using 'df.method({col: value}, inplace=True)' or\n",
       "df[col] = df[col].method(value) instead, to perform the operation inplace on the original object.\n",
       "\n",
       "\n",
       "  X_encoded[col].fillna(self._imputed, inplace=True)\n"
      ]
     },
     "metadata": {},
     "output_type": "display_data"
    },
    {
     "data": {
      "text/html": [
       "<pre style=\"white-space:pre;overflow-x:auto;line-height:normal;font-family:Menlo,'DejaVu Sans Mono',consolas,'Courier New',monospace\">/home/nguyenhoa/miniconda3/envs/.henv/lib/python3.12/site-packages/pytorch_tabular/categorical_encoders.py:71: \n",
       "FutureWarning: A value is trying to be set on a copy of a DataFrame or Series through chained assignment using an \n",
       "inplace method.\n",
       "The behavior will change in pandas 3.0. This inplace method will never work because the intermediate object on \n",
       "which we are setting values always behaves as a copy.\n",
       "\n",
       "For example, when doing 'df[col].method(value, inplace=True)', try using 'df.method({col: value}, inplace=True)' or\n",
       "df[col] = df[col].method(value) instead, to perform the operation inplace on the original object.\n",
       "\n",
       "\n",
       "  X_encoded[col].fillna(self._imputed, inplace=True)\n",
       "</pre>\n"
      ],
      "text/plain": [
       "/home/nguyenhoa/miniconda3/envs/.henv/lib/python3.12/site-packages/pytorch_tabular/categorical_encoders.py:71: \n",
       "FutureWarning: A value is trying to be set on a copy of a DataFrame or Series through chained assignment using an \n",
       "inplace method.\n",
       "The behavior will change in pandas 3.0. This inplace method will never work because the intermediate object on \n",
       "which we are setting values always behaves as a copy.\n",
       "\n",
       "For example, when doing 'df[col].method(value, inplace=True)', try using 'df.method({col: value}, inplace=True)' or\n",
       "df[col] = df[col].method(value) instead, to perform the operation inplace on the original object.\n",
       "\n",
       "\n",
       "  X_encoded[col].fillna(self._imputed, inplace=True)\n"
      ]
     },
     "metadata": {},
     "output_type": "display_data"
    },
    {
     "data": {
      "text/html": [
       "<pre style=\"white-space:pre;overflow-x:auto;line-height:normal;font-family:Menlo,'DejaVu Sans Mono',consolas,'Courier New',monospace\">/home/nguyenhoa/miniconda3/envs/.henv/lib/python3.12/site-packages/pytorch_tabular/categorical_encoders.py:71: \n",
       "FutureWarning: A value is trying to be set on a copy of a DataFrame or Series through chained assignment using an \n",
       "inplace method.\n",
       "The behavior will change in pandas 3.0. This inplace method will never work because the intermediate object on \n",
       "which we are setting values always behaves as a copy.\n",
       "\n",
       "For example, when doing 'df[col].method(value, inplace=True)', try using 'df.method({col: value}, inplace=True)' or\n",
       "df[col] = df[col].method(value) instead, to perform the operation inplace on the original object.\n",
       "\n",
       "\n",
       "  X_encoded[col].fillna(self._imputed, inplace=True)\n",
       "</pre>\n"
      ],
      "text/plain": [
       "/home/nguyenhoa/miniconda3/envs/.henv/lib/python3.12/site-packages/pytorch_tabular/categorical_encoders.py:71: \n",
       "FutureWarning: A value is trying to be set on a copy of a DataFrame or Series through chained assignment using an \n",
       "inplace method.\n",
       "The behavior will change in pandas 3.0. This inplace method will never work because the intermediate object on \n",
       "which we are setting values always behaves as a copy.\n",
       "\n",
       "For example, when doing 'df[col].method(value, inplace=True)', try using 'df.method({col: value}, inplace=True)' or\n",
       "df[col] = df[col].method(value) instead, to perform the operation inplace on the original object.\n",
       "\n",
       "\n",
       "  X_encoded[col].fillna(self._imputed, inplace=True)\n"
      ]
     },
     "metadata": {},
     "output_type": "display_data"
    },
    {
     "data": {
      "text/html": [
       "<pre style=\"white-space:pre;overflow-x:auto;line-height:normal;font-family:Menlo,'DejaVu Sans Mono',consolas,'Courier New',monospace\">/home/nguyenhoa/miniconda3/envs/.henv/lib/python3.12/site-packages/pytorch_tabular/categorical_encoders.py:71: \n",
       "FutureWarning: A value is trying to be set on a copy of a DataFrame or Series through chained assignment using an \n",
       "inplace method.\n",
       "The behavior will change in pandas 3.0. This inplace method will never work because the intermediate object on \n",
       "which we are setting values always behaves as a copy.\n",
       "\n",
       "For example, when doing 'df[col].method(value, inplace=True)', try using 'df.method({col: value}, inplace=True)' or\n",
       "df[col] = df[col].method(value) instead, to perform the operation inplace on the original object.\n",
       "\n",
       "\n",
       "  X_encoded[col].fillna(self._imputed, inplace=True)\n",
       "</pre>\n"
      ],
      "text/plain": [
       "/home/nguyenhoa/miniconda3/envs/.henv/lib/python3.12/site-packages/pytorch_tabular/categorical_encoders.py:71: \n",
       "FutureWarning: A value is trying to be set on a copy of a DataFrame or Series through chained assignment using an \n",
       "inplace method.\n",
       "The behavior will change in pandas 3.0. This inplace method will never work because the intermediate object on \n",
       "which we are setting values always behaves as a copy.\n",
       "\n",
       "For example, when doing 'df[col].method(value, inplace=True)', try using 'df.method({col: value}, inplace=True)' or\n",
       "df[col] = df[col].method(value) instead, to perform the operation inplace on the original object.\n",
       "\n",
       "\n",
       "  X_encoded[col].fillna(self._imputed, inplace=True)\n"
      ]
     },
     "metadata": {},
     "output_type": "display_data"
    },
    {
     "data": {
      "text/html": [
       "<pre style=\"white-space:pre;overflow-x:auto;line-height:normal;font-family:Menlo,'DejaVu Sans Mono',consolas,'Courier New',monospace\">/home/nguyenhoa/miniconda3/envs/.henv/lib/python3.12/site-packages/pytorch_tabular/categorical_encoders.py:71: \n",
       "FutureWarning: A value is trying to be set on a copy of a DataFrame or Series through chained assignment using an \n",
       "inplace method.\n",
       "The behavior will change in pandas 3.0. This inplace method will never work because the intermediate object on \n",
       "which we are setting values always behaves as a copy.\n",
       "\n",
       "For example, when doing 'df[col].method(value, inplace=True)', try using 'df.method({col: value}, inplace=True)' or\n",
       "df[col] = df[col].method(value) instead, to perform the operation inplace on the original object.\n",
       "\n",
       "\n",
       "  X_encoded[col].fillna(self._imputed, inplace=True)\n",
       "</pre>\n"
      ],
      "text/plain": [
       "/home/nguyenhoa/miniconda3/envs/.henv/lib/python3.12/site-packages/pytorch_tabular/categorical_encoders.py:71: \n",
       "FutureWarning: A value is trying to be set on a copy of a DataFrame or Series through chained assignment using an \n",
       "inplace method.\n",
       "The behavior will change in pandas 3.0. This inplace method will never work because the intermediate object on \n",
       "which we are setting values always behaves as a copy.\n",
       "\n",
       "For example, when doing 'df[col].method(value, inplace=True)', try using 'df.method({col: value}, inplace=True)' or\n",
       "df[col] = df[col].method(value) instead, to perform the operation inplace on the original object.\n",
       "\n",
       "\n",
       "  X_encoded[col].fillna(self._imputed, inplace=True)\n"
      ]
     },
     "metadata": {},
     "output_type": "display_data"
    },
    {
     "data": {
      "text/html": [
       "<pre style=\"white-space:pre;overflow-x:auto;line-height:normal;font-family:Menlo,'DejaVu Sans Mono',consolas,'Courier New',monospace\">/home/nguyenhoa/miniconda3/envs/.henv/lib/python3.12/site-packages/pytorch_tabular/categorical_encoders.py:71: \n",
       "FutureWarning: A value is trying to be set on a copy of a DataFrame or Series through chained assignment using an \n",
       "inplace method.\n",
       "The behavior will change in pandas 3.0. This inplace method will never work because the intermediate object on \n",
       "which we are setting values always behaves as a copy.\n",
       "\n",
       "For example, when doing 'df[col].method(value, inplace=True)', try using 'df.method({col: value}, inplace=True)' or\n",
       "df[col] = df[col].method(value) instead, to perform the operation inplace on the original object.\n",
       "\n",
       "\n",
       "  X_encoded[col].fillna(self._imputed, inplace=True)\n",
       "</pre>\n"
      ],
      "text/plain": [
       "/home/nguyenhoa/miniconda3/envs/.henv/lib/python3.12/site-packages/pytorch_tabular/categorical_encoders.py:71: \n",
       "FutureWarning: A value is trying to be set on a copy of a DataFrame or Series through chained assignment using an \n",
       "inplace method.\n",
       "The behavior will change in pandas 3.0. This inplace method will never work because the intermediate object on \n",
       "which we are setting values always behaves as a copy.\n",
       "\n",
       "For example, when doing 'df[col].method(value, inplace=True)', try using 'df.method({col: value}, inplace=True)' or\n",
       "df[col] = df[col].method(value) instead, to perform the operation inplace on the original object.\n",
       "\n",
       "\n",
       "  X_encoded[col].fillna(self._imputed, inplace=True)\n"
      ]
     },
     "metadata": {},
     "output_type": "display_data"
    },
    {
     "data": {
      "text/html": [
       "<pre style=\"white-space:pre;overflow-x:auto;line-height:normal;font-family:Menlo,'DejaVu Sans Mono',consolas,'Courier New',monospace\">/home/nguyenhoa/miniconda3/envs/.henv/lib/python3.12/site-packages/pytorch_tabular/categorical_encoders.py:71: \n",
       "FutureWarning: A value is trying to be set on a copy of a DataFrame or Series through chained assignment using an \n",
       "inplace method.\n",
       "The behavior will change in pandas 3.0. This inplace method will never work because the intermediate object on \n",
       "which we are setting values always behaves as a copy.\n",
       "\n",
       "For example, when doing 'df[col].method(value, inplace=True)', try using 'df.method({col: value}, inplace=True)' or\n",
       "df[col] = df[col].method(value) instead, to perform the operation inplace on the original object.\n",
       "\n",
       "\n",
       "  X_encoded[col].fillna(self._imputed, inplace=True)\n",
       "</pre>\n"
      ],
      "text/plain": [
       "/home/nguyenhoa/miniconda3/envs/.henv/lib/python3.12/site-packages/pytorch_tabular/categorical_encoders.py:71: \n",
       "FutureWarning: A value is trying to be set on a copy of a DataFrame or Series through chained assignment using an \n",
       "inplace method.\n",
       "The behavior will change in pandas 3.0. This inplace method will never work because the intermediate object on \n",
       "which we are setting values always behaves as a copy.\n",
       "\n",
       "For example, when doing 'df[col].method(value, inplace=True)', try using 'df.method({col: value}, inplace=True)' or\n",
       "df[col] = df[col].method(value) instead, to perform the operation inplace on the original object.\n",
       "\n",
       "\n",
       "  X_encoded[col].fillna(self._imputed, inplace=True)\n"
      ]
     },
     "metadata": {},
     "output_type": "display_data"
    },
    {
     "data": {
      "text/html": [
       "<pre style=\"white-space:pre;overflow-x:auto;line-height:normal;font-family:Menlo,'DejaVu Sans Mono',consolas,'Courier New',monospace\">/home/nguyenhoa/miniconda3/envs/.henv/lib/python3.12/site-packages/pytorch_lightning/trainer/connectors/data_connec\n",
       "tor.py:424: The 'test_dataloader' does not have many workers which may be a bottleneck. Consider increasing the \n",
       "value of the `num_workers` argument` to `num_workers=127` in the `DataLoader` to improve performance.\n",
       "</pre>\n"
      ],
      "text/plain": [
       "/home/nguyenhoa/miniconda3/envs/.henv/lib/python3.12/site-packages/pytorch_lightning/trainer/connectors/data_connec\n",
       "tor.py:424: The 'test_dataloader' does not have many workers which may be a bottleneck. Consider increasing the \n",
       "value of the `num_workers` argument` to `num_workers=127` in the `DataLoader` to improve performance.\n"
      ]
     },
     "metadata": {},
     "output_type": "display_data"
    },
    {
     "data": {
      "text/html": [
       "<pre style=\"white-space:pre;overflow-x:auto;line-height:normal;font-family:Menlo,'DejaVu Sans Mono',consolas,'Courier New',monospace\"><span style=\"color: #008080; text-decoration-color: #008080; font-weight: bold\">2025</span>-<span style=\"color: #008080; text-decoration-color: #008080; font-weight: bold\">03</span>-<span style=\"color: #008080; text-decoration-color: #008080; font-weight: bold\">24</span> <span style=\"color: #00ff00; text-decoration-color: #00ff00; font-weight: bold\">03:10:42</span>,<span style=\"color: #008080; text-decoration-color: #008080; font-weight: bold\">694</span> - <span style=\"font-weight: bold\">{</span>pytorch_tabular:<span style=\"color: #008080; text-decoration-color: #008080; font-weight: bold\">382</span><span style=\"font-weight: bold\">}</span> - INFO - Finished Training CategoryEmbeddingModel                  \n",
       "</pre>\n"
      ],
      "text/plain": [
       "\u001b[1;36m2025\u001b[0m-\u001b[1;36m03\u001b[0m-\u001b[1;36m24\u001b[0m \u001b[1;92m03:10:42\u001b[0m,\u001b[1;36m694\u001b[0m - \u001b[1m{\u001b[0mpytorch_tabular:\u001b[1;36m382\u001b[0m\u001b[1m}\u001b[0m - INFO - Finished Training CategoryEmbeddingModel                  \n"
      ]
     },
     "metadata": {},
     "output_type": "display_data"
    },
    {
     "data": {
      "text/html": [
       "<pre style=\"white-space:pre;overflow-x:auto;line-height:normal;font-family:Menlo,'DejaVu Sans Mono',consolas,'Courier New',monospace\"><span style=\"color: #008080; text-decoration-color: #008080; font-weight: bold\">2025</span>-<span style=\"color: #008080; text-decoration-color: #008080; font-weight: bold\">03</span>-<span style=\"color: #008080; text-decoration-color: #008080; font-weight: bold\">24</span> <span style=\"color: #00ff00; text-decoration-color: #00ff00; font-weight: bold\">03:10:42</span>,<span style=\"color: #008080; text-decoration-color: #008080; font-weight: bold\">695</span> - <span style=\"font-weight: bold\">{</span>pytorch_tabular:<span style=\"color: #008080; text-decoration-color: #008080; font-weight: bold\">383</span><span style=\"font-weight: bold\">}</span> - INFO - Results: model: CategoryEmbeddingModel, # Params: <span style=\"color: #008080; text-decoration-color: #008080; font-weight: bold\">43</span> T,   \n",
       "epochs: <span style=\"color: #008080; text-decoration-color: #008080; font-weight: bold\">100</span>, test_loss: <span style=\"color: #008080; text-decoration-color: #008080; font-weight: bold\">0.06729211658239365</span>, test_mean_squared_error: <span style=\"color: #008080; text-decoration-color: #008080; font-weight: bold\">0.06729211658239365</span>, time_taken:             \n",
       "<span style=\"color: #008080; text-decoration-color: #008080; font-weight: bold\">25.864566564559937</span>, time_taken_per_epoch: <span style=\"color: #008080; text-decoration-color: #008080; font-weight: bold\">0.2586456656455994</span>                                                       \n",
       "</pre>\n"
      ],
      "text/plain": [
       "\u001b[1;36m2025\u001b[0m-\u001b[1;36m03\u001b[0m-\u001b[1;36m24\u001b[0m \u001b[1;92m03:10:42\u001b[0m,\u001b[1;36m695\u001b[0m - \u001b[1m{\u001b[0mpytorch_tabular:\u001b[1;36m383\u001b[0m\u001b[1m}\u001b[0m - INFO - Results: model: CategoryEmbeddingModel, # Params: \u001b[1;36m43\u001b[0m T,   \n",
       "epochs: \u001b[1;36m100\u001b[0m, test_loss: \u001b[1;36m0.06729211658239365\u001b[0m, test_mean_squared_error: \u001b[1;36m0.06729211658239365\u001b[0m, time_taken:             \n",
       "\u001b[1;36m25.864566564559937\u001b[0m, time_taken_per_epoch: \u001b[1;36m0.2586456656455994\u001b[0m                                                       \n"
      ]
     },
     "metadata": {},
     "output_type": "display_data"
    },
    {
     "data": {
      "text/html": [
       "<pre style=\"white-space:pre;overflow-x:auto;line-height:normal;font-family:Menlo,'DejaVu Sans Mono',consolas,'Courier New',monospace\"><span style=\"color: #008080; text-decoration-color: #008080; font-weight: bold\">2025</span>-<span style=\"color: #008080; text-decoration-color: #008080; font-weight: bold\">03</span>-<span style=\"color: #008080; text-decoration-color: #008080; font-weight: bold\">24</span> <span style=\"color: #00ff00; text-decoration-color: #00ff00; font-weight: bold\">03:10:42</span>,<span style=\"color: #008080; text-decoration-color: #008080; font-weight: bold\">731</span> - <span style=\"font-weight: bold\">{</span>pytorch_tabular:<span style=\"color: #008080; text-decoration-color: #008080; font-weight: bold\">328</span><span style=\"font-weight: bold\">}</span> - INFO - Training DANetModel                                       \n",
       "</pre>\n"
      ],
      "text/plain": [
       "\u001b[1;36m2025\u001b[0m-\u001b[1;36m03\u001b[0m-\u001b[1;36m24\u001b[0m \u001b[1;92m03:10:42\u001b[0m,\u001b[1;36m731\u001b[0m - \u001b[1m{\u001b[0mpytorch_tabular:\u001b[1;36m328\u001b[0m\u001b[1m}\u001b[0m - INFO - Training DANetModel                                       \n"
      ]
     },
     "metadata": {},
     "output_type": "display_data"
    },
    {
     "data": {
      "text/html": [
       "<pre style=\"white-space:pre;overflow-x:auto;line-height:normal;font-family:Menlo,'DejaVu Sans Mono',consolas,'Courier New',monospace\">/home/nguyenhoa/miniconda3/envs/.henv/lib/python3.12/site-packages/pytorch_tabular/models/danet/danet.py:115: \n",
       "UserWarning: virtual_batch_size(256) is greater than batch_size (32). Setting virtual_batch_size to 32. DANet uses \n",
       "Ghost Batch Normalization, which works best when virtual_batch_size is small. Consider setting virtual_batch_size \n",
       "to something like 256 or 512.\n",
       "  warnings.warn(\n",
       "</pre>\n"
      ],
      "text/plain": [
       "/home/nguyenhoa/miniconda3/envs/.henv/lib/python3.12/site-packages/pytorch_tabular/models/danet/danet.py:115: \n",
       "UserWarning: virtual_batch_size(256) is greater than batch_size (32). Setting virtual_batch_size to 32. DANet uses \n",
       "Ghost Batch Normalization, which works best when virtual_batch_size is small. Consider setting virtual_batch_size \n",
       "to something like 256 or 512.\n",
       "  warnings.warn(\n"
      ]
     },
     "metadata": {},
     "output_type": "display_data"
    },
    {
     "data": {
      "text/html": [
       "<pre style=\"white-space:pre;overflow-x:auto;line-height:normal;font-family:Menlo,'DejaVu Sans Mono',consolas,'Courier New',monospace\">/home/nguyenhoa/miniconda3/envs/.henv/lib/python3.12/site-packages/pytorch_lightning/callbacks/model_checkpoint.py:\n",
       "654: Checkpoint directory /home/nguyenhoa/hoa/up5/final/src/saved_models exists and is not empty.\n",
       "</pre>\n"
      ],
      "text/plain": [
       "/home/nguyenhoa/miniconda3/envs/.henv/lib/python3.12/site-packages/pytorch_lightning/callbacks/model_checkpoint.py:\n",
       "654: Checkpoint directory /home/nguyenhoa/hoa/up5/final/src/saved_models exists and is not empty.\n"
      ]
     },
     "metadata": {},
     "output_type": "display_data"
    },
    {
     "data": {
      "text/html": [
       "<pre style=\"white-space:pre;overflow-x:auto;line-height:normal;font-family:Menlo,'DejaVu Sans Mono',consolas,'Courier New',monospace\">/home/nguyenhoa/miniconda3/envs/.henv/lib/python3.12/site-packages/pytorch_lightning/trainer/connectors/data_connec\n",
       "tor.py:424: The 'val_dataloader' does not have many workers which may be a bottleneck. Consider increasing the \n",
       "value of the `num_workers` argument` to `num_workers=127` in the `DataLoader` to improve performance.\n",
       "</pre>\n"
      ],
      "text/plain": [
       "/home/nguyenhoa/miniconda3/envs/.henv/lib/python3.12/site-packages/pytorch_lightning/trainer/connectors/data_connec\n",
       "tor.py:424: The 'val_dataloader' does not have many workers which may be a bottleneck. Consider increasing the \n",
       "value of the `num_workers` argument` to `num_workers=127` in the `DataLoader` to improve performance.\n"
      ]
     },
     "metadata": {},
     "output_type": "display_data"
    },
    {
     "data": {
      "text/html": [
       "<pre style=\"white-space:pre;overflow-x:auto;line-height:normal;font-family:Menlo,'DejaVu Sans Mono',consolas,'Courier New',monospace\">/home/nguyenhoa/miniconda3/envs/.henv/lib/python3.12/site-packages/pytorch_lightning/trainer/connectors/data_connec\n",
       "tor.py:424: The 'train_dataloader' does not have many workers which may be a bottleneck. Consider increasing the \n",
       "value of the `num_workers` argument` to `num_workers=127` in the `DataLoader` to improve performance.\n",
       "</pre>\n"
      ],
      "text/plain": [
       "/home/nguyenhoa/miniconda3/envs/.henv/lib/python3.12/site-packages/pytorch_lightning/trainer/connectors/data_connec\n",
       "tor.py:424: The 'train_dataloader' does not have many workers which may be a bottleneck. Consider increasing the \n",
       "value of the `num_workers` argument` to `num_workers=127` in the `DataLoader` to improve performance.\n"
      ]
     },
     "metadata": {},
     "output_type": "display_data"
    },
    {
     "data": {
      "text/html": [
       "<pre style=\"white-space:pre;overflow-x:auto;line-height:normal;font-family:Menlo,'DejaVu Sans Mono',consolas,'Courier New',monospace\">/home/nguyenhoa/miniconda3/envs/.henv/lib/python3.12/site-packages/pytorch_lightning/loops/fit_loop.py:298: The \n",
       "number of training batches (25) is smaller than the logging interval Trainer(log_every_n_steps=50). Set a lower \n",
       "value for log_every_n_steps if you want to see logs for the training epoch.\n",
       "</pre>\n"
      ],
      "text/plain": [
       "/home/nguyenhoa/miniconda3/envs/.henv/lib/python3.12/site-packages/pytorch_lightning/loops/fit_loop.py:298: The \n",
       "number of training batches (25) is smaller than the logging interval Trainer(log_every_n_steps=50). Set a lower \n",
       "value for log_every_n_steps if you want to see logs for the training epoch.\n"
      ]
     },
     "metadata": {},
     "output_type": "display_data"
    },
    {
     "data": {
      "text/html": [
       "<pre style=\"white-space:pre;overflow-x:auto;line-height:normal;font-family:Menlo,'DejaVu Sans Mono',consolas,'Courier New',monospace\">/home/nguyenhoa/miniconda3/envs/.henv/lib/python3.12/site-packages/pytorch_tabular/categorical_encoders.py:71: \n",
       "FutureWarning: A value is trying to be set on a copy of a DataFrame or Series through chained assignment using an \n",
       "inplace method.\n",
       "The behavior will change in pandas 3.0. This inplace method will never work because the intermediate object on \n",
       "which we are setting values always behaves as a copy.\n",
       "\n",
       "For example, when doing 'df[col].method(value, inplace=True)', try using 'df.method({col: value}, inplace=True)' or\n",
       "df[col] = df[col].method(value) instead, to perform the operation inplace on the original object.\n",
       "\n",
       "\n",
       "  X_encoded[col].fillna(self._imputed, inplace=True)\n",
       "</pre>\n"
      ],
      "text/plain": [
       "/home/nguyenhoa/miniconda3/envs/.henv/lib/python3.12/site-packages/pytorch_tabular/categorical_encoders.py:71: \n",
       "FutureWarning: A value is trying to be set on a copy of a DataFrame or Series through chained assignment using an \n",
       "inplace method.\n",
       "The behavior will change in pandas 3.0. This inplace method will never work because the intermediate object on \n",
       "which we are setting values always behaves as a copy.\n",
       "\n",
       "For example, when doing 'df[col].method(value, inplace=True)', try using 'df.method({col: value}, inplace=True)' or\n",
       "df[col] = df[col].method(value) instead, to perform the operation inplace on the original object.\n",
       "\n",
       "\n",
       "  X_encoded[col].fillna(self._imputed, inplace=True)\n"
      ]
     },
     "metadata": {},
     "output_type": "display_data"
    },
    {
     "data": {
      "text/html": [
       "<pre style=\"white-space:pre;overflow-x:auto;line-height:normal;font-family:Menlo,'DejaVu Sans Mono',consolas,'Courier New',monospace\">/home/nguyenhoa/miniconda3/envs/.henv/lib/python3.12/site-packages/pytorch_tabular/categorical_encoders.py:71: \n",
       "FutureWarning: A value is trying to be set on a copy of a DataFrame or Series through chained assignment using an \n",
       "inplace method.\n",
       "The behavior will change in pandas 3.0. This inplace method will never work because the intermediate object on \n",
       "which we are setting values always behaves as a copy.\n",
       "\n",
       "For example, when doing 'df[col].method(value, inplace=True)', try using 'df.method({col: value}, inplace=True)' or\n",
       "df[col] = df[col].method(value) instead, to perform the operation inplace on the original object.\n",
       "\n",
       "\n",
       "  X_encoded[col].fillna(self._imputed, inplace=True)\n",
       "</pre>\n"
      ],
      "text/plain": [
       "/home/nguyenhoa/miniconda3/envs/.henv/lib/python3.12/site-packages/pytorch_tabular/categorical_encoders.py:71: \n",
       "FutureWarning: A value is trying to be set on a copy of a DataFrame or Series through chained assignment using an \n",
       "inplace method.\n",
       "The behavior will change in pandas 3.0. This inplace method will never work because the intermediate object on \n",
       "which we are setting values always behaves as a copy.\n",
       "\n",
       "For example, when doing 'df[col].method(value, inplace=True)', try using 'df.method({col: value}, inplace=True)' or\n",
       "df[col] = df[col].method(value) instead, to perform the operation inplace on the original object.\n",
       "\n",
       "\n",
       "  X_encoded[col].fillna(self._imputed, inplace=True)\n"
      ]
     },
     "metadata": {},
     "output_type": "display_data"
    },
    {
     "data": {
      "text/html": [
       "<pre style=\"white-space:pre;overflow-x:auto;line-height:normal;font-family:Menlo,'DejaVu Sans Mono',consolas,'Courier New',monospace\">/home/nguyenhoa/miniconda3/envs/.henv/lib/python3.12/site-packages/pytorch_tabular/categorical_encoders.py:71: \n",
       "FutureWarning: A value is trying to be set on a copy of a DataFrame or Series through chained assignment using an \n",
       "inplace method.\n",
       "The behavior will change in pandas 3.0. This inplace method will never work because the intermediate object on \n",
       "which we are setting values always behaves as a copy.\n",
       "\n",
       "For example, when doing 'df[col].method(value, inplace=True)', try using 'df.method({col: value}, inplace=True)' or\n",
       "df[col] = df[col].method(value) instead, to perform the operation inplace on the original object.\n",
       "\n",
       "\n",
       "  X_encoded[col].fillna(self._imputed, inplace=True)\n",
       "</pre>\n"
      ],
      "text/plain": [
       "/home/nguyenhoa/miniconda3/envs/.henv/lib/python3.12/site-packages/pytorch_tabular/categorical_encoders.py:71: \n",
       "FutureWarning: A value is trying to be set on a copy of a DataFrame or Series through chained assignment using an \n",
       "inplace method.\n",
       "The behavior will change in pandas 3.0. This inplace method will never work because the intermediate object on \n",
       "which we are setting values always behaves as a copy.\n",
       "\n",
       "For example, when doing 'df[col].method(value, inplace=True)', try using 'df.method({col: value}, inplace=True)' or\n",
       "df[col] = df[col].method(value) instead, to perform the operation inplace on the original object.\n",
       "\n",
       "\n",
       "  X_encoded[col].fillna(self._imputed, inplace=True)\n"
      ]
     },
     "metadata": {},
     "output_type": "display_data"
    },
    {
     "data": {
      "text/html": [
       "<pre style=\"white-space:pre;overflow-x:auto;line-height:normal;font-family:Menlo,'DejaVu Sans Mono',consolas,'Courier New',monospace\">/home/nguyenhoa/miniconda3/envs/.henv/lib/python3.12/site-packages/pytorch_tabular/categorical_encoders.py:71: \n",
       "FutureWarning: A value is trying to be set on a copy of a DataFrame or Series through chained assignment using an \n",
       "inplace method.\n",
       "The behavior will change in pandas 3.0. This inplace method will never work because the intermediate object on \n",
       "which we are setting values always behaves as a copy.\n",
       "\n",
       "For example, when doing 'df[col].method(value, inplace=True)', try using 'df.method({col: value}, inplace=True)' or\n",
       "df[col] = df[col].method(value) instead, to perform the operation inplace on the original object.\n",
       "\n",
       "\n",
       "  X_encoded[col].fillna(self._imputed, inplace=True)\n",
       "</pre>\n"
      ],
      "text/plain": [
       "/home/nguyenhoa/miniconda3/envs/.henv/lib/python3.12/site-packages/pytorch_tabular/categorical_encoders.py:71: \n",
       "FutureWarning: A value is trying to be set on a copy of a DataFrame or Series through chained assignment using an \n",
       "inplace method.\n",
       "The behavior will change in pandas 3.0. This inplace method will never work because the intermediate object on \n",
       "which we are setting values always behaves as a copy.\n",
       "\n",
       "For example, when doing 'df[col].method(value, inplace=True)', try using 'df.method({col: value}, inplace=True)' or\n",
       "df[col] = df[col].method(value) instead, to perform the operation inplace on the original object.\n",
       "\n",
       "\n",
       "  X_encoded[col].fillna(self._imputed, inplace=True)\n"
      ]
     },
     "metadata": {},
     "output_type": "display_data"
    },
    {
     "data": {
      "text/html": [
       "<pre style=\"white-space:pre;overflow-x:auto;line-height:normal;font-family:Menlo,'DejaVu Sans Mono',consolas,'Courier New',monospace\">/home/nguyenhoa/miniconda3/envs/.henv/lib/python3.12/site-packages/pytorch_tabular/categorical_encoders.py:71: \n",
       "FutureWarning: A value is trying to be set on a copy of a DataFrame or Series through chained assignment using an \n",
       "inplace method.\n",
       "The behavior will change in pandas 3.0. This inplace method will never work because the intermediate object on \n",
       "which we are setting values always behaves as a copy.\n",
       "\n",
       "For example, when doing 'df[col].method(value, inplace=True)', try using 'df.method({col: value}, inplace=True)' or\n",
       "df[col] = df[col].method(value) instead, to perform the operation inplace on the original object.\n",
       "\n",
       "\n",
       "  X_encoded[col].fillna(self._imputed, inplace=True)\n",
       "</pre>\n"
      ],
      "text/plain": [
       "/home/nguyenhoa/miniconda3/envs/.henv/lib/python3.12/site-packages/pytorch_tabular/categorical_encoders.py:71: \n",
       "FutureWarning: A value is trying to be set on a copy of a DataFrame or Series through chained assignment using an \n",
       "inplace method.\n",
       "The behavior will change in pandas 3.0. This inplace method will never work because the intermediate object on \n",
       "which we are setting values always behaves as a copy.\n",
       "\n",
       "For example, when doing 'df[col].method(value, inplace=True)', try using 'df.method({col: value}, inplace=True)' or\n",
       "df[col] = df[col].method(value) instead, to perform the operation inplace on the original object.\n",
       "\n",
       "\n",
       "  X_encoded[col].fillna(self._imputed, inplace=True)\n"
      ]
     },
     "metadata": {},
     "output_type": "display_data"
    },
    {
     "data": {
      "text/html": [
       "<pre style=\"white-space:pre;overflow-x:auto;line-height:normal;font-family:Menlo,'DejaVu Sans Mono',consolas,'Courier New',monospace\">/home/nguyenhoa/miniconda3/envs/.henv/lib/python3.12/site-packages/pytorch_tabular/categorical_encoders.py:71: \n",
       "FutureWarning: A value is trying to be set on a copy of a DataFrame or Series through chained assignment using an \n",
       "inplace method.\n",
       "The behavior will change in pandas 3.0. This inplace method will never work because the intermediate object on \n",
       "which we are setting values always behaves as a copy.\n",
       "\n",
       "For example, when doing 'df[col].method(value, inplace=True)', try using 'df.method({col: value}, inplace=True)' or\n",
       "df[col] = df[col].method(value) instead, to perform the operation inplace on the original object.\n",
       "\n",
       "\n",
       "  X_encoded[col].fillna(self._imputed, inplace=True)\n",
       "</pre>\n"
      ],
      "text/plain": [
       "/home/nguyenhoa/miniconda3/envs/.henv/lib/python3.12/site-packages/pytorch_tabular/categorical_encoders.py:71: \n",
       "FutureWarning: A value is trying to be set on a copy of a DataFrame or Series through chained assignment using an \n",
       "inplace method.\n",
       "The behavior will change in pandas 3.0. This inplace method will never work because the intermediate object on \n",
       "which we are setting values always behaves as a copy.\n",
       "\n",
       "For example, when doing 'df[col].method(value, inplace=True)', try using 'df.method({col: value}, inplace=True)' or\n",
       "df[col] = df[col].method(value) instead, to perform the operation inplace on the original object.\n",
       "\n",
       "\n",
       "  X_encoded[col].fillna(self._imputed, inplace=True)\n"
      ]
     },
     "metadata": {},
     "output_type": "display_data"
    },
    {
     "data": {
      "text/html": [
       "<pre style=\"white-space:pre;overflow-x:auto;line-height:normal;font-family:Menlo,'DejaVu Sans Mono',consolas,'Courier New',monospace\">/home/nguyenhoa/miniconda3/envs/.henv/lib/python3.12/site-packages/pytorch_tabular/categorical_encoders.py:71: \n",
       "FutureWarning: A value is trying to be set on a copy of a DataFrame or Series through chained assignment using an \n",
       "inplace method.\n",
       "The behavior will change in pandas 3.0. This inplace method will never work because the intermediate object on \n",
       "which we are setting values always behaves as a copy.\n",
       "\n",
       "For example, when doing 'df[col].method(value, inplace=True)', try using 'df.method({col: value}, inplace=True)' or\n",
       "df[col] = df[col].method(value) instead, to perform the operation inplace on the original object.\n",
       "\n",
       "\n",
       "  X_encoded[col].fillna(self._imputed, inplace=True)\n",
       "</pre>\n"
      ],
      "text/plain": [
       "/home/nguyenhoa/miniconda3/envs/.henv/lib/python3.12/site-packages/pytorch_tabular/categorical_encoders.py:71: \n",
       "FutureWarning: A value is trying to be set on a copy of a DataFrame or Series through chained assignment using an \n",
       "inplace method.\n",
       "The behavior will change in pandas 3.0. This inplace method will never work because the intermediate object on \n",
       "which we are setting values always behaves as a copy.\n",
       "\n",
       "For example, when doing 'df[col].method(value, inplace=True)', try using 'df.method({col: value}, inplace=True)' or\n",
       "df[col] = df[col].method(value) instead, to perform the operation inplace on the original object.\n",
       "\n",
       "\n",
       "  X_encoded[col].fillna(self._imputed, inplace=True)\n"
      ]
     },
     "metadata": {},
     "output_type": "display_data"
    },
    {
     "data": {
      "text/html": [
       "<pre style=\"white-space:pre;overflow-x:auto;line-height:normal;font-family:Menlo,'DejaVu Sans Mono',consolas,'Courier New',monospace\">/home/nguyenhoa/miniconda3/envs/.henv/lib/python3.12/site-packages/pytorch_tabular/categorical_encoders.py:71: \n",
       "FutureWarning: A value is trying to be set on a copy of a DataFrame or Series through chained assignment using an \n",
       "inplace method.\n",
       "The behavior will change in pandas 3.0. This inplace method will never work because the intermediate object on \n",
       "which we are setting values always behaves as a copy.\n",
       "\n",
       "For example, when doing 'df[col].method(value, inplace=True)', try using 'df.method({col: value}, inplace=True)' or\n",
       "df[col] = df[col].method(value) instead, to perform the operation inplace on the original object.\n",
       "\n",
       "\n",
       "  X_encoded[col].fillna(self._imputed, inplace=True)\n",
       "</pre>\n"
      ],
      "text/plain": [
       "/home/nguyenhoa/miniconda3/envs/.henv/lib/python3.12/site-packages/pytorch_tabular/categorical_encoders.py:71: \n",
       "FutureWarning: A value is trying to be set on a copy of a DataFrame or Series through chained assignment using an \n",
       "inplace method.\n",
       "The behavior will change in pandas 3.0. This inplace method will never work because the intermediate object on \n",
       "which we are setting values always behaves as a copy.\n",
       "\n",
       "For example, when doing 'df[col].method(value, inplace=True)', try using 'df.method({col: value}, inplace=True)' or\n",
       "df[col] = df[col].method(value) instead, to perform the operation inplace on the original object.\n",
       "\n",
       "\n",
       "  X_encoded[col].fillna(self._imputed, inplace=True)\n"
      ]
     },
     "metadata": {},
     "output_type": "display_data"
    },
    {
     "data": {
      "text/html": [
       "<pre style=\"white-space:pre;overflow-x:auto;line-height:normal;font-family:Menlo,'DejaVu Sans Mono',consolas,'Courier New',monospace\">/home/nguyenhoa/miniconda3/envs/.henv/lib/python3.12/site-packages/pytorch_tabular/categorical_encoders.py:71: \n",
       "FutureWarning: A value is trying to be set on a copy of a DataFrame or Series through chained assignment using an \n",
       "inplace method.\n",
       "The behavior will change in pandas 3.0. This inplace method will never work because the intermediate object on \n",
       "which we are setting values always behaves as a copy.\n",
       "\n",
       "For example, when doing 'df[col].method(value, inplace=True)', try using 'df.method({col: value}, inplace=True)' or\n",
       "df[col] = df[col].method(value) instead, to perform the operation inplace on the original object.\n",
       "\n",
       "\n",
       "  X_encoded[col].fillna(self._imputed, inplace=True)\n",
       "</pre>\n"
      ],
      "text/plain": [
       "/home/nguyenhoa/miniconda3/envs/.henv/lib/python3.12/site-packages/pytorch_tabular/categorical_encoders.py:71: \n",
       "FutureWarning: A value is trying to be set on a copy of a DataFrame or Series through chained assignment using an \n",
       "inplace method.\n",
       "The behavior will change in pandas 3.0. This inplace method will never work because the intermediate object on \n",
       "which we are setting values always behaves as a copy.\n",
       "\n",
       "For example, when doing 'df[col].method(value, inplace=True)', try using 'df.method({col: value}, inplace=True)' or\n",
       "df[col] = df[col].method(value) instead, to perform the operation inplace on the original object.\n",
       "\n",
       "\n",
       "  X_encoded[col].fillna(self._imputed, inplace=True)\n"
      ]
     },
     "metadata": {},
     "output_type": "display_data"
    },
    {
     "data": {
      "text/html": [
       "<pre style=\"white-space:pre;overflow-x:auto;line-height:normal;font-family:Menlo,'DejaVu Sans Mono',consolas,'Courier New',monospace\">/home/nguyenhoa/miniconda3/envs/.henv/lib/python3.12/site-packages/pytorch_lightning/trainer/connectors/data_connec\n",
       "tor.py:424: The 'test_dataloader' does not have many workers which may be a bottleneck. Consider increasing the \n",
       "value of the `num_workers` argument` to `num_workers=127` in the `DataLoader` to improve performance.\n",
       "</pre>\n"
      ],
      "text/plain": [
       "/home/nguyenhoa/miniconda3/envs/.henv/lib/python3.12/site-packages/pytorch_lightning/trainer/connectors/data_connec\n",
       "tor.py:424: The 'test_dataloader' does not have many workers which may be a bottleneck. Consider increasing the \n",
       "value of the `num_workers` argument` to `num_workers=127` in the `DataLoader` to improve performance.\n"
      ]
     },
     "metadata": {},
     "output_type": "display_data"
    },
    {
     "data": {
      "text/html": [
       "<pre style=\"white-space:pre;overflow-x:auto;line-height:normal;font-family:Menlo,'DejaVu Sans Mono',consolas,'Courier New',monospace\"><span style=\"color: #008080; text-decoration-color: #008080; font-weight: bold\">2025</span>-<span style=\"color: #008080; text-decoration-color: #008080; font-weight: bold\">03</span>-<span style=\"color: #008080; text-decoration-color: #008080; font-weight: bold\">24</span> <span style=\"color: #00ff00; text-decoration-color: #00ff00; font-weight: bold\">03:16:49</span>,<span style=\"color: #008080; text-decoration-color: #008080; font-weight: bold\">502</span> - <span style=\"font-weight: bold\">{</span>pytorch_tabular:<span style=\"color: #008080; text-decoration-color: #008080; font-weight: bold\">382</span><span style=\"font-weight: bold\">}</span> - INFO - Finished Training DANetModel                              \n",
       "</pre>\n"
      ],
      "text/plain": [
       "\u001b[1;36m2025\u001b[0m-\u001b[1;36m03\u001b[0m-\u001b[1;36m24\u001b[0m \u001b[1;92m03:16:49\u001b[0m,\u001b[1;36m502\u001b[0m - \u001b[1m{\u001b[0mpytorch_tabular:\u001b[1;36m382\u001b[0m\u001b[1m}\u001b[0m - INFO - Finished Training DANetModel                              \n"
      ]
     },
     "metadata": {},
     "output_type": "display_data"
    },
    {
     "data": {
      "text/html": [
       "<pre style=\"white-space:pre;overflow-x:auto;line-height:normal;font-family:Menlo,'DejaVu Sans Mono',consolas,'Courier New',monospace\"><span style=\"color: #008080; text-decoration-color: #008080; font-weight: bold\">2025</span>-<span style=\"color: #008080; text-decoration-color: #008080; font-weight: bold\">03</span>-<span style=\"color: #008080; text-decoration-color: #008080; font-weight: bold\">24</span> <span style=\"color: #00ff00; text-decoration-color: #00ff00; font-weight: bold\">03:16:49</span>,<span style=\"color: #008080; text-decoration-color: #008080; font-weight: bold\">504</span> - <span style=\"font-weight: bold\">{</span>pytorch_tabular:<span style=\"color: #008080; text-decoration-color: #008080; font-weight: bold\">383</span><span style=\"font-weight: bold\">}</span> - INFO - Results: model: DANetModel, # Params: <span style=\"color: #008080; text-decoration-color: #008080; font-weight: bold\">1</span> M, epochs: <span style=\"color: #008080; text-decoration-color: #008080; font-weight: bold\">100</span>,   \n",
       "test_loss: <span style=\"color: #008080; text-decoration-color: #008080; font-weight: bold\">0.12786802649497986</span>, test_mean_squared_error: <span style=\"color: #008080; text-decoration-color: #008080; font-weight: bold\">0.12786802649497986</span>, time_taken: <span style=\"color: #008080; text-decoration-color: #008080; font-weight: bold\">366.8056607246399</span>,       \n",
       "time_taken_per_epoch: <span style=\"color: #008080; text-decoration-color: #008080; font-weight: bold\">3.668056607246399</span>                                                                            \n",
       "</pre>\n"
      ],
      "text/plain": [
       "\u001b[1;36m2025\u001b[0m-\u001b[1;36m03\u001b[0m-\u001b[1;36m24\u001b[0m \u001b[1;92m03:16:49\u001b[0m,\u001b[1;36m504\u001b[0m - \u001b[1m{\u001b[0mpytorch_tabular:\u001b[1;36m383\u001b[0m\u001b[1m}\u001b[0m - INFO - Results: model: DANetModel, # Params: \u001b[1;36m1\u001b[0m M, epochs: \u001b[1;36m100\u001b[0m,   \n",
       "test_loss: \u001b[1;36m0.12786802649497986\u001b[0m, test_mean_squared_error: \u001b[1;36m0.12786802649497986\u001b[0m, time_taken: \u001b[1;36m366.8056607246399\u001b[0m,       \n",
       "time_taken_per_epoch: \u001b[1;36m3.668056607246399\u001b[0m                                                                            \n"
      ]
     },
     "metadata": {},
     "output_type": "display_data"
    },
    {
     "data": {
      "text/html": [
       "<pre style=\"white-space:pre;overflow-x:auto;line-height:normal;font-family:Menlo,'DejaVu Sans Mono',consolas,'Courier New',monospace\"><span style=\"color: #008080; text-decoration-color: #008080; font-weight: bold\">2025</span>-<span style=\"color: #008080; text-decoration-color: #008080; font-weight: bold\">03</span>-<span style=\"color: #008080; text-decoration-color: #008080; font-weight: bold\">24</span> <span style=\"color: #00ff00; text-decoration-color: #00ff00; font-weight: bold\">03:16:49</span>,<span style=\"color: #008080; text-decoration-color: #008080; font-weight: bold\">546</span> - <span style=\"font-weight: bold\">{</span>pytorch_tabular:<span style=\"color: #008080; text-decoration-color: #008080; font-weight: bold\">328</span><span style=\"font-weight: bold\">}</span> - INFO - Training FTTransformerModel                               \n",
       "</pre>\n"
      ],
      "text/plain": [
       "\u001b[1;36m2025\u001b[0m-\u001b[1;36m03\u001b[0m-\u001b[1;36m24\u001b[0m \u001b[1;92m03:16:49\u001b[0m,\u001b[1;36m546\u001b[0m - \u001b[1m{\u001b[0mpytorch_tabular:\u001b[1;36m328\u001b[0m\u001b[1m}\u001b[0m - INFO - Training FTTransformerModel                               \n"
      ]
     },
     "metadata": {},
     "output_type": "display_data"
    },
    {
     "data": {
      "text/html": [
       "<pre style=\"white-space:pre;overflow-x:auto;line-height:normal;font-family:Menlo,'DejaVu Sans Mono',consolas,'Courier New',monospace\">/home/nguyenhoa/miniconda3/envs/.henv/lib/python3.12/site-packages/pytorch_lightning/callbacks/model_checkpoint.py:\n",
       "654: Checkpoint directory /home/nguyenhoa/hoa/up5/final/src/saved_models exists and is not empty.\n",
       "</pre>\n"
      ],
      "text/plain": [
       "/home/nguyenhoa/miniconda3/envs/.henv/lib/python3.12/site-packages/pytorch_lightning/callbacks/model_checkpoint.py:\n",
       "654: Checkpoint directory /home/nguyenhoa/hoa/up5/final/src/saved_models exists and is not empty.\n"
      ]
     },
     "metadata": {},
     "output_type": "display_data"
    },
    {
     "data": {
      "text/html": [
       "<pre style=\"white-space:pre;overflow-x:auto;line-height:normal;font-family:Menlo,'DejaVu Sans Mono',consolas,'Courier New',monospace\">/home/nguyenhoa/miniconda3/envs/.henv/lib/python3.12/site-packages/pytorch_lightning/trainer/connectors/data_connec\n",
       "tor.py:424: The 'val_dataloader' does not have many workers which may be a bottleneck. Consider increasing the \n",
       "value of the `num_workers` argument` to `num_workers=127` in the `DataLoader` to improve performance.\n",
       "</pre>\n"
      ],
      "text/plain": [
       "/home/nguyenhoa/miniconda3/envs/.henv/lib/python3.12/site-packages/pytorch_lightning/trainer/connectors/data_connec\n",
       "tor.py:424: The 'val_dataloader' does not have many workers which may be a bottleneck. Consider increasing the \n",
       "value of the `num_workers` argument` to `num_workers=127` in the `DataLoader` to improve performance.\n"
      ]
     },
     "metadata": {},
     "output_type": "display_data"
    },
    {
     "data": {
      "text/html": [
       "<pre style=\"white-space:pre;overflow-x:auto;line-height:normal;font-family:Menlo,'DejaVu Sans Mono',consolas,'Courier New',monospace\">/home/nguyenhoa/miniconda3/envs/.henv/lib/python3.12/site-packages/pytorch_lightning/trainer/connectors/data_connec\n",
       "tor.py:424: The 'train_dataloader' does not have many workers which may be a bottleneck. Consider increasing the \n",
       "value of the `num_workers` argument` to `num_workers=127` in the `DataLoader` to improve performance.\n",
       "</pre>\n"
      ],
      "text/plain": [
       "/home/nguyenhoa/miniconda3/envs/.henv/lib/python3.12/site-packages/pytorch_lightning/trainer/connectors/data_connec\n",
       "tor.py:424: The 'train_dataloader' does not have many workers which may be a bottleneck. Consider increasing the \n",
       "value of the `num_workers` argument` to `num_workers=127` in the `DataLoader` to improve performance.\n"
      ]
     },
     "metadata": {},
     "output_type": "display_data"
    },
    {
     "data": {
      "text/html": [
       "<pre style=\"white-space:pre;overflow-x:auto;line-height:normal;font-family:Menlo,'DejaVu Sans Mono',consolas,'Courier New',monospace\">/home/nguyenhoa/miniconda3/envs/.henv/lib/python3.12/site-packages/pytorch_lightning/loops/fit_loop.py:298: The \n",
       "number of training batches (25) is smaller than the logging interval Trainer(log_every_n_steps=50). Set a lower \n",
       "value for log_every_n_steps if you want to see logs for the training epoch.\n",
       "</pre>\n"
      ],
      "text/plain": [
       "/home/nguyenhoa/miniconda3/envs/.henv/lib/python3.12/site-packages/pytorch_lightning/loops/fit_loop.py:298: The \n",
       "number of training batches (25) is smaller than the logging interval Trainer(log_every_n_steps=50). Set a lower \n",
       "value for log_every_n_steps if you want to see logs for the training epoch.\n"
      ]
     },
     "metadata": {},
     "output_type": "display_data"
    },
    {
     "data": {
      "text/html": [
       "<pre style=\"white-space:pre;overflow-x:auto;line-height:normal;font-family:Menlo,'DejaVu Sans Mono',consolas,'Courier New',monospace\">/home/nguyenhoa/miniconda3/envs/.henv/lib/python3.12/site-packages/pytorch_tabular/categorical_encoders.py:71: \n",
       "FutureWarning: A value is trying to be set on a copy of a DataFrame or Series through chained assignment using an \n",
       "inplace method.\n",
       "The behavior will change in pandas 3.0. This inplace method will never work because the intermediate object on \n",
       "which we are setting values always behaves as a copy.\n",
       "\n",
       "For example, when doing 'df[col].method(value, inplace=True)', try using 'df.method({col: value}, inplace=True)' or\n",
       "df[col] = df[col].method(value) instead, to perform the operation inplace on the original object.\n",
       "\n",
       "\n",
       "  X_encoded[col].fillna(self._imputed, inplace=True)\n",
       "</pre>\n"
      ],
      "text/plain": [
       "/home/nguyenhoa/miniconda3/envs/.henv/lib/python3.12/site-packages/pytorch_tabular/categorical_encoders.py:71: \n",
       "FutureWarning: A value is trying to be set on a copy of a DataFrame or Series through chained assignment using an \n",
       "inplace method.\n",
       "The behavior will change in pandas 3.0. This inplace method will never work because the intermediate object on \n",
       "which we are setting values always behaves as a copy.\n",
       "\n",
       "For example, when doing 'df[col].method(value, inplace=True)', try using 'df.method({col: value}, inplace=True)' or\n",
       "df[col] = df[col].method(value) instead, to perform the operation inplace on the original object.\n",
       "\n",
       "\n",
       "  X_encoded[col].fillna(self._imputed, inplace=True)\n"
      ]
     },
     "metadata": {},
     "output_type": "display_data"
    },
    {
     "data": {
      "text/html": [
       "<pre style=\"white-space:pre;overflow-x:auto;line-height:normal;font-family:Menlo,'DejaVu Sans Mono',consolas,'Courier New',monospace\">/home/nguyenhoa/miniconda3/envs/.henv/lib/python3.12/site-packages/pytorch_tabular/categorical_encoders.py:71: \n",
       "FutureWarning: A value is trying to be set on a copy of a DataFrame or Series through chained assignment using an \n",
       "inplace method.\n",
       "The behavior will change in pandas 3.0. This inplace method will never work because the intermediate object on \n",
       "which we are setting values always behaves as a copy.\n",
       "\n",
       "For example, when doing 'df[col].method(value, inplace=True)', try using 'df.method({col: value}, inplace=True)' or\n",
       "df[col] = df[col].method(value) instead, to perform the operation inplace on the original object.\n",
       "\n",
       "\n",
       "  X_encoded[col].fillna(self._imputed, inplace=True)\n",
       "</pre>\n"
      ],
      "text/plain": [
       "/home/nguyenhoa/miniconda3/envs/.henv/lib/python3.12/site-packages/pytorch_tabular/categorical_encoders.py:71: \n",
       "FutureWarning: A value is trying to be set on a copy of a DataFrame or Series through chained assignment using an \n",
       "inplace method.\n",
       "The behavior will change in pandas 3.0. This inplace method will never work because the intermediate object on \n",
       "which we are setting values always behaves as a copy.\n",
       "\n",
       "For example, when doing 'df[col].method(value, inplace=True)', try using 'df.method({col: value}, inplace=True)' or\n",
       "df[col] = df[col].method(value) instead, to perform the operation inplace on the original object.\n",
       "\n",
       "\n",
       "  X_encoded[col].fillna(self._imputed, inplace=True)\n"
      ]
     },
     "metadata": {},
     "output_type": "display_data"
    },
    {
     "data": {
      "text/html": [
       "<pre style=\"white-space:pre;overflow-x:auto;line-height:normal;font-family:Menlo,'DejaVu Sans Mono',consolas,'Courier New',monospace\">/home/nguyenhoa/miniconda3/envs/.henv/lib/python3.12/site-packages/pytorch_tabular/categorical_encoders.py:71: \n",
       "FutureWarning: A value is trying to be set on a copy of a DataFrame or Series through chained assignment using an \n",
       "inplace method.\n",
       "The behavior will change in pandas 3.0. This inplace method will never work because the intermediate object on \n",
       "which we are setting values always behaves as a copy.\n",
       "\n",
       "For example, when doing 'df[col].method(value, inplace=True)', try using 'df.method({col: value}, inplace=True)' or\n",
       "df[col] = df[col].method(value) instead, to perform the operation inplace on the original object.\n",
       "\n",
       "\n",
       "  X_encoded[col].fillna(self._imputed, inplace=True)\n",
       "</pre>\n"
      ],
      "text/plain": [
       "/home/nguyenhoa/miniconda3/envs/.henv/lib/python3.12/site-packages/pytorch_tabular/categorical_encoders.py:71: \n",
       "FutureWarning: A value is trying to be set on a copy of a DataFrame or Series through chained assignment using an \n",
       "inplace method.\n",
       "The behavior will change in pandas 3.0. This inplace method will never work because the intermediate object on \n",
       "which we are setting values always behaves as a copy.\n",
       "\n",
       "For example, when doing 'df[col].method(value, inplace=True)', try using 'df.method({col: value}, inplace=True)' or\n",
       "df[col] = df[col].method(value) instead, to perform the operation inplace on the original object.\n",
       "\n",
       "\n",
       "  X_encoded[col].fillna(self._imputed, inplace=True)\n"
      ]
     },
     "metadata": {},
     "output_type": "display_data"
    },
    {
     "data": {
      "text/html": [
       "<pre style=\"white-space:pre;overflow-x:auto;line-height:normal;font-family:Menlo,'DejaVu Sans Mono',consolas,'Courier New',monospace\">/home/nguyenhoa/miniconda3/envs/.henv/lib/python3.12/site-packages/pytorch_tabular/categorical_encoders.py:71: \n",
       "FutureWarning: A value is trying to be set on a copy of a DataFrame or Series through chained assignment using an \n",
       "inplace method.\n",
       "The behavior will change in pandas 3.0. This inplace method will never work because the intermediate object on \n",
       "which we are setting values always behaves as a copy.\n",
       "\n",
       "For example, when doing 'df[col].method(value, inplace=True)', try using 'df.method({col: value}, inplace=True)' or\n",
       "df[col] = df[col].method(value) instead, to perform the operation inplace on the original object.\n",
       "\n",
       "\n",
       "  X_encoded[col].fillna(self._imputed, inplace=True)\n",
       "</pre>\n"
      ],
      "text/plain": [
       "/home/nguyenhoa/miniconda3/envs/.henv/lib/python3.12/site-packages/pytorch_tabular/categorical_encoders.py:71: \n",
       "FutureWarning: A value is trying to be set on a copy of a DataFrame or Series through chained assignment using an \n",
       "inplace method.\n",
       "The behavior will change in pandas 3.0. This inplace method will never work because the intermediate object on \n",
       "which we are setting values always behaves as a copy.\n",
       "\n",
       "For example, when doing 'df[col].method(value, inplace=True)', try using 'df.method({col: value}, inplace=True)' or\n",
       "df[col] = df[col].method(value) instead, to perform the operation inplace on the original object.\n",
       "\n",
       "\n",
       "  X_encoded[col].fillna(self._imputed, inplace=True)\n"
      ]
     },
     "metadata": {},
     "output_type": "display_data"
    },
    {
     "data": {
      "text/html": [
       "<pre style=\"white-space:pre;overflow-x:auto;line-height:normal;font-family:Menlo,'DejaVu Sans Mono',consolas,'Courier New',monospace\">/home/nguyenhoa/miniconda3/envs/.henv/lib/python3.12/site-packages/pytorch_tabular/categorical_encoders.py:71: \n",
       "FutureWarning: A value is trying to be set on a copy of a DataFrame or Series through chained assignment using an \n",
       "inplace method.\n",
       "The behavior will change in pandas 3.0. This inplace method will never work because the intermediate object on \n",
       "which we are setting values always behaves as a copy.\n",
       "\n",
       "For example, when doing 'df[col].method(value, inplace=True)', try using 'df.method({col: value}, inplace=True)' or\n",
       "df[col] = df[col].method(value) instead, to perform the operation inplace on the original object.\n",
       "\n",
       "\n",
       "  X_encoded[col].fillna(self._imputed, inplace=True)\n",
       "</pre>\n"
      ],
      "text/plain": [
       "/home/nguyenhoa/miniconda3/envs/.henv/lib/python3.12/site-packages/pytorch_tabular/categorical_encoders.py:71: \n",
       "FutureWarning: A value is trying to be set on a copy of a DataFrame or Series through chained assignment using an \n",
       "inplace method.\n",
       "The behavior will change in pandas 3.0. This inplace method will never work because the intermediate object on \n",
       "which we are setting values always behaves as a copy.\n",
       "\n",
       "For example, when doing 'df[col].method(value, inplace=True)', try using 'df.method({col: value}, inplace=True)' or\n",
       "df[col] = df[col].method(value) instead, to perform the operation inplace on the original object.\n",
       "\n",
       "\n",
       "  X_encoded[col].fillna(self._imputed, inplace=True)\n"
      ]
     },
     "metadata": {},
     "output_type": "display_data"
    },
    {
     "data": {
      "text/html": [
       "<pre style=\"white-space:pre;overflow-x:auto;line-height:normal;font-family:Menlo,'DejaVu Sans Mono',consolas,'Courier New',monospace\">/home/nguyenhoa/miniconda3/envs/.henv/lib/python3.12/site-packages/pytorch_tabular/categorical_encoders.py:71: \n",
       "FutureWarning: A value is trying to be set on a copy of a DataFrame or Series through chained assignment using an \n",
       "inplace method.\n",
       "The behavior will change in pandas 3.0. This inplace method will never work because the intermediate object on \n",
       "which we are setting values always behaves as a copy.\n",
       "\n",
       "For example, when doing 'df[col].method(value, inplace=True)', try using 'df.method({col: value}, inplace=True)' or\n",
       "df[col] = df[col].method(value) instead, to perform the operation inplace on the original object.\n",
       "\n",
       "\n",
       "  X_encoded[col].fillna(self._imputed, inplace=True)\n",
       "</pre>\n"
      ],
      "text/plain": [
       "/home/nguyenhoa/miniconda3/envs/.henv/lib/python3.12/site-packages/pytorch_tabular/categorical_encoders.py:71: \n",
       "FutureWarning: A value is trying to be set on a copy of a DataFrame or Series through chained assignment using an \n",
       "inplace method.\n",
       "The behavior will change in pandas 3.0. This inplace method will never work because the intermediate object on \n",
       "which we are setting values always behaves as a copy.\n",
       "\n",
       "For example, when doing 'df[col].method(value, inplace=True)', try using 'df.method({col: value}, inplace=True)' or\n",
       "df[col] = df[col].method(value) instead, to perform the operation inplace on the original object.\n",
       "\n",
       "\n",
       "  X_encoded[col].fillna(self._imputed, inplace=True)\n"
      ]
     },
     "metadata": {},
     "output_type": "display_data"
    },
    {
     "data": {
      "text/html": [
       "<pre style=\"white-space:pre;overflow-x:auto;line-height:normal;font-family:Menlo,'DejaVu Sans Mono',consolas,'Courier New',monospace\">/home/nguyenhoa/miniconda3/envs/.henv/lib/python3.12/site-packages/pytorch_tabular/categorical_encoders.py:71: \n",
       "FutureWarning: A value is trying to be set on a copy of a DataFrame or Series through chained assignment using an \n",
       "inplace method.\n",
       "The behavior will change in pandas 3.0. This inplace method will never work because the intermediate object on \n",
       "which we are setting values always behaves as a copy.\n",
       "\n",
       "For example, when doing 'df[col].method(value, inplace=True)', try using 'df.method({col: value}, inplace=True)' or\n",
       "df[col] = df[col].method(value) instead, to perform the operation inplace on the original object.\n",
       "\n",
       "\n",
       "  X_encoded[col].fillna(self._imputed, inplace=True)\n",
       "</pre>\n"
      ],
      "text/plain": [
       "/home/nguyenhoa/miniconda3/envs/.henv/lib/python3.12/site-packages/pytorch_tabular/categorical_encoders.py:71: \n",
       "FutureWarning: A value is trying to be set on a copy of a DataFrame or Series through chained assignment using an \n",
       "inplace method.\n",
       "The behavior will change in pandas 3.0. This inplace method will never work because the intermediate object on \n",
       "which we are setting values always behaves as a copy.\n",
       "\n",
       "For example, when doing 'df[col].method(value, inplace=True)', try using 'df.method({col: value}, inplace=True)' or\n",
       "df[col] = df[col].method(value) instead, to perform the operation inplace on the original object.\n",
       "\n",
       "\n",
       "  X_encoded[col].fillna(self._imputed, inplace=True)\n"
      ]
     },
     "metadata": {},
     "output_type": "display_data"
    },
    {
     "data": {
      "text/html": [
       "<pre style=\"white-space:pre;overflow-x:auto;line-height:normal;font-family:Menlo,'DejaVu Sans Mono',consolas,'Courier New',monospace\">/home/nguyenhoa/miniconda3/envs/.henv/lib/python3.12/site-packages/pytorch_tabular/categorical_encoders.py:71: \n",
       "FutureWarning: A value is trying to be set on a copy of a DataFrame or Series through chained assignment using an \n",
       "inplace method.\n",
       "The behavior will change in pandas 3.0. This inplace method will never work because the intermediate object on \n",
       "which we are setting values always behaves as a copy.\n",
       "\n",
       "For example, when doing 'df[col].method(value, inplace=True)', try using 'df.method({col: value}, inplace=True)' or\n",
       "df[col] = df[col].method(value) instead, to perform the operation inplace on the original object.\n",
       "\n",
       "\n",
       "  X_encoded[col].fillna(self._imputed, inplace=True)\n",
       "</pre>\n"
      ],
      "text/plain": [
       "/home/nguyenhoa/miniconda3/envs/.henv/lib/python3.12/site-packages/pytorch_tabular/categorical_encoders.py:71: \n",
       "FutureWarning: A value is trying to be set on a copy of a DataFrame or Series through chained assignment using an \n",
       "inplace method.\n",
       "The behavior will change in pandas 3.0. This inplace method will never work because the intermediate object on \n",
       "which we are setting values always behaves as a copy.\n",
       "\n",
       "For example, when doing 'df[col].method(value, inplace=True)', try using 'df.method({col: value}, inplace=True)' or\n",
       "df[col] = df[col].method(value) instead, to perform the operation inplace on the original object.\n",
       "\n",
       "\n",
       "  X_encoded[col].fillna(self._imputed, inplace=True)\n"
      ]
     },
     "metadata": {},
     "output_type": "display_data"
    },
    {
     "data": {
      "text/html": [
       "<pre style=\"white-space:pre;overflow-x:auto;line-height:normal;font-family:Menlo,'DejaVu Sans Mono',consolas,'Courier New',monospace\">/home/nguyenhoa/miniconda3/envs/.henv/lib/python3.12/site-packages/pytorch_tabular/categorical_encoders.py:71: \n",
       "FutureWarning: A value is trying to be set on a copy of a DataFrame or Series through chained assignment using an \n",
       "inplace method.\n",
       "The behavior will change in pandas 3.0. This inplace method will never work because the intermediate object on \n",
       "which we are setting values always behaves as a copy.\n",
       "\n",
       "For example, when doing 'df[col].method(value, inplace=True)', try using 'df.method({col: value}, inplace=True)' or\n",
       "df[col] = df[col].method(value) instead, to perform the operation inplace on the original object.\n",
       "\n",
       "\n",
       "  X_encoded[col].fillna(self._imputed, inplace=True)\n",
       "</pre>\n"
      ],
      "text/plain": [
       "/home/nguyenhoa/miniconda3/envs/.henv/lib/python3.12/site-packages/pytorch_tabular/categorical_encoders.py:71: \n",
       "FutureWarning: A value is trying to be set on a copy of a DataFrame or Series through chained assignment using an \n",
       "inplace method.\n",
       "The behavior will change in pandas 3.0. This inplace method will never work because the intermediate object on \n",
       "which we are setting values always behaves as a copy.\n",
       "\n",
       "For example, when doing 'df[col].method(value, inplace=True)', try using 'df.method({col: value}, inplace=True)' or\n",
       "df[col] = df[col].method(value) instead, to perform the operation inplace on the original object.\n",
       "\n",
       "\n",
       "  X_encoded[col].fillna(self._imputed, inplace=True)\n"
      ]
     },
     "metadata": {},
     "output_type": "display_data"
    },
    {
     "data": {
      "text/html": [
       "<pre style=\"white-space:pre;overflow-x:auto;line-height:normal;font-family:Menlo,'DejaVu Sans Mono',consolas,'Courier New',monospace\">/home/nguyenhoa/miniconda3/envs/.henv/lib/python3.12/site-packages/pytorch_lightning/trainer/connectors/data_connec\n",
       "tor.py:424: The 'test_dataloader' does not have many workers which may be a bottleneck. Consider increasing the \n",
       "value of the `num_workers` argument` to `num_workers=127` in the `DataLoader` to improve performance.\n",
       "</pre>\n"
      ],
      "text/plain": [
       "/home/nguyenhoa/miniconda3/envs/.henv/lib/python3.12/site-packages/pytorch_lightning/trainer/connectors/data_connec\n",
       "tor.py:424: The 'test_dataloader' does not have many workers which may be a bottleneck. Consider increasing the \n",
       "value of the `num_workers` argument` to `num_workers=127` in the `DataLoader` to improve performance.\n"
      ]
     },
     "metadata": {},
     "output_type": "display_data"
    },
    {
     "data": {
      "text/html": [
       "<pre style=\"white-space:pre;overflow-x:auto;line-height:normal;font-family:Menlo,'DejaVu Sans Mono',consolas,'Courier New',monospace\"><span style=\"color: #008080; text-decoration-color: #008080; font-weight: bold\">2025</span>-<span style=\"color: #008080; text-decoration-color: #008080; font-weight: bold\">03</span>-<span style=\"color: #008080; text-decoration-color: #008080; font-weight: bold\">24</span> <span style=\"color: #00ff00; text-decoration-color: #00ff00; font-weight: bold\">03:19:07</span>,<span style=\"color: #008080; text-decoration-color: #008080; font-weight: bold\">234</span> - <span style=\"font-weight: bold\">{</span>pytorch_tabular:<span style=\"color: #008080; text-decoration-color: #008080; font-weight: bold\">382</span><span style=\"font-weight: bold\">}</span> - INFO - Finished Training FTTransformerModel                      \n",
       "</pre>\n"
      ],
      "text/plain": [
       "\u001b[1;36m2025\u001b[0m-\u001b[1;36m03\u001b[0m-\u001b[1;36m24\u001b[0m \u001b[1;92m03:19:07\u001b[0m,\u001b[1;36m234\u001b[0m - \u001b[1m{\u001b[0mpytorch_tabular:\u001b[1;36m382\u001b[0m\u001b[1m}\u001b[0m - INFO - Finished Training FTTransformerModel                      \n"
      ]
     },
     "metadata": {},
     "output_type": "display_data"
    },
    {
     "data": {
      "text/html": [
       "<pre style=\"white-space:pre;overflow-x:auto;line-height:normal;font-family:Menlo,'DejaVu Sans Mono',consolas,'Courier New',monospace\"><span style=\"color: #008080; text-decoration-color: #008080; font-weight: bold\">2025</span>-<span style=\"color: #008080; text-decoration-color: #008080; font-weight: bold\">03</span>-<span style=\"color: #008080; text-decoration-color: #008080; font-weight: bold\">24</span> <span style=\"color: #00ff00; text-decoration-color: #00ff00; font-weight: bold\">03:19:07</span>,<span style=\"color: #008080; text-decoration-color: #008080; font-weight: bold\">247</span> - <span style=\"font-weight: bold\">{</span>pytorch_tabular:<span style=\"color: #008080; text-decoration-color: #008080; font-weight: bold\">383</span><span style=\"font-weight: bold\">}</span> - INFO - Results: model: FTTransformerModel, # Params: <span style=\"color: #008080; text-decoration-color: #008080; font-weight: bold\">287</span> T,      \n",
       "epochs: <span style=\"color: #008080; text-decoration-color: #008080; font-weight: bold\">100</span>, test_loss: <span style=\"color: #008080; text-decoration-color: #008080; font-weight: bold\">0.06883318722248077</span>, test_mean_squared_error: <span style=\"color: #008080; text-decoration-color: #008080; font-weight: bold\">0.06883318722248077</span>, time_taken:             \n",
       "<span style=\"color: #008080; text-decoration-color: #008080; font-weight: bold\">137.72875785827637</span>, time_taken_per_epoch: <span style=\"color: #008080; text-decoration-color: #008080; font-weight: bold\">1.3772875785827636</span>                                                       \n",
       "</pre>\n"
      ],
      "text/plain": [
       "\u001b[1;36m2025\u001b[0m-\u001b[1;36m03\u001b[0m-\u001b[1;36m24\u001b[0m \u001b[1;92m03:19:07\u001b[0m,\u001b[1;36m247\u001b[0m - \u001b[1m{\u001b[0mpytorch_tabular:\u001b[1;36m383\u001b[0m\u001b[1m}\u001b[0m - INFO - Results: model: FTTransformerModel, # Params: \u001b[1;36m287\u001b[0m T,      \n",
       "epochs: \u001b[1;36m100\u001b[0m, test_loss: \u001b[1;36m0.06883318722248077\u001b[0m, test_mean_squared_error: \u001b[1;36m0.06883318722248077\u001b[0m, time_taken:             \n",
       "\u001b[1;36m137.72875785827637\u001b[0m, time_taken_per_epoch: \u001b[1;36m1.3772875785827636\u001b[0m                                                       \n"
      ]
     },
     "metadata": {},
     "output_type": "display_data"
    },
    {
     "data": {
      "text/html": [
       "<pre style=\"white-space:pre;overflow-x:auto;line-height:normal;font-family:Menlo,'DejaVu Sans Mono',consolas,'Courier New',monospace\"><span style=\"color: #008080; text-decoration-color: #008080; font-weight: bold\">2025</span>-<span style=\"color: #008080; text-decoration-color: #008080; font-weight: bold\">03</span>-<span style=\"color: #008080; text-decoration-color: #008080; font-weight: bold\">24</span> <span style=\"color: #00ff00; text-decoration-color: #00ff00; font-weight: bold\">03:19:07</span>,<span style=\"color: #008080; text-decoration-color: #008080; font-weight: bold\">363</span> - <span style=\"font-weight: bold\">{</span>pytorch_tabular:<span style=\"color: #008080; text-decoration-color: #008080; font-weight: bold\">328</span><span style=\"font-weight: bold\">}</span> - INFO - Training GANDALFModel                                     \n",
       "</pre>\n"
      ],
      "text/plain": [
       "\u001b[1;36m2025\u001b[0m-\u001b[1;36m03\u001b[0m-\u001b[1;36m24\u001b[0m \u001b[1;92m03:19:07\u001b[0m,\u001b[1;36m363\u001b[0m - \u001b[1m{\u001b[0mpytorch_tabular:\u001b[1;36m328\u001b[0m\u001b[1m}\u001b[0m - INFO - Training GANDALFModel                                     \n"
      ]
     },
     "metadata": {},
     "output_type": "display_data"
    },
    {
     "data": {
      "text/html": [
       "<pre style=\"white-space:pre;overflow-x:auto;line-height:normal;font-family:Menlo,'DejaVu Sans Mono',consolas,'Courier New',monospace\"><span style=\"color: #008080; text-decoration-color: #008080; font-weight: bold\">2025</span>-<span style=\"color: #008080; text-decoration-color: #008080; font-weight: bold\">03</span>-<span style=\"color: #008080; text-decoration-color: #008080; font-weight: bold\">24</span> <span style=\"color: #00ff00; text-decoration-color: #00ff00; font-weight: bold\">03:19:07</span>,<span style=\"color: #008080; text-decoration-color: #008080; font-weight: bold\">469</span> - <span style=\"font-weight: bold\">{</span>pytorch_tabular.models.gandalf.gandal<span style=\"color: #00ff00; text-decoration-color: #00ff00; font-weight: bold\">f:109</span><span style=\"font-weight: bold\">}</span> - INFO - Data Aware Initialization of T0    \n",
       "</pre>\n"
      ],
      "text/plain": [
       "\u001b[1;36m2025\u001b[0m-\u001b[1;36m03\u001b[0m-\u001b[1;36m24\u001b[0m \u001b[1;92m03:19:07\u001b[0m,\u001b[1;36m469\u001b[0m - \u001b[1m{\u001b[0mpytorch_tabular.models.gandalf.gandal\u001b[1;92mf:109\u001b[0m\u001b[1m}\u001b[0m - INFO - Data Aware Initialization of T0    \n"
      ]
     },
     "metadata": {},
     "output_type": "display_data"
    },
    {
     "data": {
      "text/html": [
       "<pre style=\"white-space:pre;overflow-x:auto;line-height:normal;font-family:Menlo,'DejaVu Sans Mono',consolas,'Courier New',monospace\">/home/nguyenhoa/miniconda3/envs/.henv/lib/python3.12/site-packages/pytorch_lightning/callbacks/model_checkpoint.py:\n",
       "654: Checkpoint directory /home/nguyenhoa/hoa/up5/final/src/saved_models exists and is not empty.\n",
       "</pre>\n"
      ],
      "text/plain": [
       "/home/nguyenhoa/miniconda3/envs/.henv/lib/python3.12/site-packages/pytorch_lightning/callbacks/model_checkpoint.py:\n",
       "654: Checkpoint directory /home/nguyenhoa/hoa/up5/final/src/saved_models exists and is not empty.\n"
      ]
     },
     "metadata": {},
     "output_type": "display_data"
    },
    {
     "data": {
      "text/html": [
       "<pre style=\"white-space:pre;overflow-x:auto;line-height:normal;font-family:Menlo,'DejaVu Sans Mono',consolas,'Courier New',monospace\">/home/nguyenhoa/miniconda3/envs/.henv/lib/python3.12/site-packages/pytorch_lightning/trainer/connectors/data_connec\n",
       "tor.py:424: The 'val_dataloader' does not have many workers which may be a bottleneck. Consider increasing the \n",
       "value of the `num_workers` argument` to `num_workers=127` in the `DataLoader` to improve performance.\n",
       "</pre>\n"
      ],
      "text/plain": [
       "/home/nguyenhoa/miniconda3/envs/.henv/lib/python3.12/site-packages/pytorch_lightning/trainer/connectors/data_connec\n",
       "tor.py:424: The 'val_dataloader' does not have many workers which may be a bottleneck. Consider increasing the \n",
       "value of the `num_workers` argument` to `num_workers=127` in the `DataLoader` to improve performance.\n"
      ]
     },
     "metadata": {},
     "output_type": "display_data"
    },
    {
     "data": {
      "text/html": [
       "<pre style=\"white-space:pre;overflow-x:auto;line-height:normal;font-family:Menlo,'DejaVu Sans Mono',consolas,'Courier New',monospace\">/home/nguyenhoa/miniconda3/envs/.henv/lib/python3.12/site-packages/pytorch_lightning/trainer/connectors/data_connec\n",
       "tor.py:424: The 'train_dataloader' does not have many workers which may be a bottleneck. Consider increasing the \n",
       "value of the `num_workers` argument` to `num_workers=127` in the `DataLoader` to improve performance.\n",
       "</pre>\n"
      ],
      "text/plain": [
       "/home/nguyenhoa/miniconda3/envs/.henv/lib/python3.12/site-packages/pytorch_lightning/trainer/connectors/data_connec\n",
       "tor.py:424: The 'train_dataloader' does not have many workers which may be a bottleneck. Consider increasing the \n",
       "value of the `num_workers` argument` to `num_workers=127` in the `DataLoader` to improve performance.\n"
      ]
     },
     "metadata": {},
     "output_type": "display_data"
    },
    {
     "data": {
      "text/html": [
       "<pre style=\"white-space:pre;overflow-x:auto;line-height:normal;font-family:Menlo,'DejaVu Sans Mono',consolas,'Courier New',monospace\">/home/nguyenhoa/miniconda3/envs/.henv/lib/python3.12/site-packages/pytorch_lightning/loops/fit_loop.py:298: The \n",
       "number of training batches (25) is smaller than the logging interval Trainer(log_every_n_steps=50). Set a lower \n",
       "value for log_every_n_steps if you want to see logs for the training epoch.\n",
       "</pre>\n"
      ],
      "text/plain": [
       "/home/nguyenhoa/miniconda3/envs/.henv/lib/python3.12/site-packages/pytorch_lightning/loops/fit_loop.py:298: The \n",
       "number of training batches (25) is smaller than the logging interval Trainer(log_every_n_steps=50). Set a lower \n",
       "value for log_every_n_steps if you want to see logs for the training epoch.\n"
      ]
     },
     "metadata": {},
     "output_type": "display_data"
    },
    {
     "data": {
      "text/html": [
       "<pre style=\"white-space:pre;overflow-x:auto;line-height:normal;font-family:Menlo,'DejaVu Sans Mono',consolas,'Courier New',monospace\">/home/nguyenhoa/miniconda3/envs/.henv/lib/python3.12/site-packages/pytorch_tabular/categorical_encoders.py:71: \n",
       "FutureWarning: A value is trying to be set on a copy of a DataFrame or Series through chained assignment using an \n",
       "inplace method.\n",
       "The behavior will change in pandas 3.0. This inplace method will never work because the intermediate object on \n",
       "which we are setting values always behaves as a copy.\n",
       "\n",
       "For example, when doing 'df[col].method(value, inplace=True)', try using 'df.method({col: value}, inplace=True)' or\n",
       "df[col] = df[col].method(value) instead, to perform the operation inplace on the original object.\n",
       "\n",
       "\n",
       "  X_encoded[col].fillna(self._imputed, inplace=True)\n",
       "</pre>\n"
      ],
      "text/plain": [
       "/home/nguyenhoa/miniconda3/envs/.henv/lib/python3.12/site-packages/pytorch_tabular/categorical_encoders.py:71: \n",
       "FutureWarning: A value is trying to be set on a copy of a DataFrame or Series through chained assignment using an \n",
       "inplace method.\n",
       "The behavior will change in pandas 3.0. This inplace method will never work because the intermediate object on \n",
       "which we are setting values always behaves as a copy.\n",
       "\n",
       "For example, when doing 'df[col].method(value, inplace=True)', try using 'df.method({col: value}, inplace=True)' or\n",
       "df[col] = df[col].method(value) instead, to perform the operation inplace on the original object.\n",
       "\n",
       "\n",
       "  X_encoded[col].fillna(self._imputed, inplace=True)\n"
      ]
     },
     "metadata": {},
     "output_type": "display_data"
    },
    {
     "data": {
      "text/html": [
       "<pre style=\"white-space:pre;overflow-x:auto;line-height:normal;font-family:Menlo,'DejaVu Sans Mono',consolas,'Courier New',monospace\">/home/nguyenhoa/miniconda3/envs/.henv/lib/python3.12/site-packages/pytorch_tabular/categorical_encoders.py:71: \n",
       "FutureWarning: A value is trying to be set on a copy of a DataFrame or Series through chained assignment using an \n",
       "inplace method.\n",
       "The behavior will change in pandas 3.0. This inplace method will never work because the intermediate object on \n",
       "which we are setting values always behaves as a copy.\n",
       "\n",
       "For example, when doing 'df[col].method(value, inplace=True)', try using 'df.method({col: value}, inplace=True)' or\n",
       "df[col] = df[col].method(value) instead, to perform the operation inplace on the original object.\n",
       "\n",
       "\n",
       "  X_encoded[col].fillna(self._imputed, inplace=True)\n",
       "</pre>\n"
      ],
      "text/plain": [
       "/home/nguyenhoa/miniconda3/envs/.henv/lib/python3.12/site-packages/pytorch_tabular/categorical_encoders.py:71: \n",
       "FutureWarning: A value is trying to be set on a copy of a DataFrame or Series through chained assignment using an \n",
       "inplace method.\n",
       "The behavior will change in pandas 3.0. This inplace method will never work because the intermediate object on \n",
       "which we are setting values always behaves as a copy.\n",
       "\n",
       "For example, when doing 'df[col].method(value, inplace=True)', try using 'df.method({col: value}, inplace=True)' or\n",
       "df[col] = df[col].method(value) instead, to perform the operation inplace on the original object.\n",
       "\n",
       "\n",
       "  X_encoded[col].fillna(self._imputed, inplace=True)\n"
      ]
     },
     "metadata": {},
     "output_type": "display_data"
    },
    {
     "data": {
      "text/html": [
       "<pre style=\"white-space:pre;overflow-x:auto;line-height:normal;font-family:Menlo,'DejaVu Sans Mono',consolas,'Courier New',monospace\">/home/nguyenhoa/miniconda3/envs/.henv/lib/python3.12/site-packages/pytorch_tabular/categorical_encoders.py:71: \n",
       "FutureWarning: A value is trying to be set on a copy of a DataFrame or Series through chained assignment using an \n",
       "inplace method.\n",
       "The behavior will change in pandas 3.0. This inplace method will never work because the intermediate object on \n",
       "which we are setting values always behaves as a copy.\n",
       "\n",
       "For example, when doing 'df[col].method(value, inplace=True)', try using 'df.method({col: value}, inplace=True)' or\n",
       "df[col] = df[col].method(value) instead, to perform the operation inplace on the original object.\n",
       "\n",
       "\n",
       "  X_encoded[col].fillna(self._imputed, inplace=True)\n",
       "</pre>\n"
      ],
      "text/plain": [
       "/home/nguyenhoa/miniconda3/envs/.henv/lib/python3.12/site-packages/pytorch_tabular/categorical_encoders.py:71: \n",
       "FutureWarning: A value is trying to be set on a copy of a DataFrame or Series through chained assignment using an \n",
       "inplace method.\n",
       "The behavior will change in pandas 3.0. This inplace method will never work because the intermediate object on \n",
       "which we are setting values always behaves as a copy.\n",
       "\n",
       "For example, when doing 'df[col].method(value, inplace=True)', try using 'df.method({col: value}, inplace=True)' or\n",
       "df[col] = df[col].method(value) instead, to perform the operation inplace on the original object.\n",
       "\n",
       "\n",
       "  X_encoded[col].fillna(self._imputed, inplace=True)\n"
      ]
     },
     "metadata": {},
     "output_type": "display_data"
    },
    {
     "data": {
      "text/html": [
       "<pre style=\"white-space:pre;overflow-x:auto;line-height:normal;font-family:Menlo,'DejaVu Sans Mono',consolas,'Courier New',monospace\">/home/nguyenhoa/miniconda3/envs/.henv/lib/python3.12/site-packages/pytorch_tabular/categorical_encoders.py:71: \n",
       "FutureWarning: A value is trying to be set on a copy of a DataFrame or Series through chained assignment using an \n",
       "inplace method.\n",
       "The behavior will change in pandas 3.0. This inplace method will never work because the intermediate object on \n",
       "which we are setting values always behaves as a copy.\n",
       "\n",
       "For example, when doing 'df[col].method(value, inplace=True)', try using 'df.method({col: value}, inplace=True)' or\n",
       "df[col] = df[col].method(value) instead, to perform the operation inplace on the original object.\n",
       "\n",
       "\n",
       "  X_encoded[col].fillna(self._imputed, inplace=True)\n",
       "</pre>\n"
      ],
      "text/plain": [
       "/home/nguyenhoa/miniconda3/envs/.henv/lib/python3.12/site-packages/pytorch_tabular/categorical_encoders.py:71: \n",
       "FutureWarning: A value is trying to be set on a copy of a DataFrame or Series through chained assignment using an \n",
       "inplace method.\n",
       "The behavior will change in pandas 3.0. This inplace method will never work because the intermediate object on \n",
       "which we are setting values always behaves as a copy.\n",
       "\n",
       "For example, when doing 'df[col].method(value, inplace=True)', try using 'df.method({col: value}, inplace=True)' or\n",
       "df[col] = df[col].method(value) instead, to perform the operation inplace on the original object.\n",
       "\n",
       "\n",
       "  X_encoded[col].fillna(self._imputed, inplace=True)\n"
      ]
     },
     "metadata": {},
     "output_type": "display_data"
    },
    {
     "data": {
      "text/html": [
       "<pre style=\"white-space:pre;overflow-x:auto;line-height:normal;font-family:Menlo,'DejaVu Sans Mono',consolas,'Courier New',monospace\">/home/nguyenhoa/miniconda3/envs/.henv/lib/python3.12/site-packages/pytorch_tabular/categorical_encoders.py:71: \n",
       "FutureWarning: A value is trying to be set on a copy of a DataFrame or Series through chained assignment using an \n",
       "inplace method.\n",
       "The behavior will change in pandas 3.0. This inplace method will never work because the intermediate object on \n",
       "which we are setting values always behaves as a copy.\n",
       "\n",
       "For example, when doing 'df[col].method(value, inplace=True)', try using 'df.method({col: value}, inplace=True)' or\n",
       "df[col] = df[col].method(value) instead, to perform the operation inplace on the original object.\n",
       "\n",
       "\n",
       "  X_encoded[col].fillna(self._imputed, inplace=True)\n",
       "</pre>\n"
      ],
      "text/plain": [
       "/home/nguyenhoa/miniconda3/envs/.henv/lib/python3.12/site-packages/pytorch_tabular/categorical_encoders.py:71: \n",
       "FutureWarning: A value is trying to be set on a copy of a DataFrame or Series through chained assignment using an \n",
       "inplace method.\n",
       "The behavior will change in pandas 3.0. This inplace method will never work because the intermediate object on \n",
       "which we are setting values always behaves as a copy.\n",
       "\n",
       "For example, when doing 'df[col].method(value, inplace=True)', try using 'df.method({col: value}, inplace=True)' or\n",
       "df[col] = df[col].method(value) instead, to perform the operation inplace on the original object.\n",
       "\n",
       "\n",
       "  X_encoded[col].fillna(self._imputed, inplace=True)\n"
      ]
     },
     "metadata": {},
     "output_type": "display_data"
    },
    {
     "data": {
      "text/html": [
       "<pre style=\"white-space:pre;overflow-x:auto;line-height:normal;font-family:Menlo,'DejaVu Sans Mono',consolas,'Courier New',monospace\">/home/nguyenhoa/miniconda3/envs/.henv/lib/python3.12/site-packages/pytorch_lightning/trainer/connectors/data_connec\n",
       "tor.py:424: The 'test_dataloader' does not have many workers which may be a bottleneck. Consider increasing the \n",
       "value of the `num_workers` argument` to `num_workers=127` in the `DataLoader` to improve performance.\n",
       "</pre>\n"
      ],
      "text/plain": [
       "/home/nguyenhoa/miniconda3/envs/.henv/lib/python3.12/site-packages/pytorch_lightning/trainer/connectors/data_connec\n",
       "tor.py:424: The 'test_dataloader' does not have many workers which may be a bottleneck. Consider increasing the \n",
       "value of the `num_workers` argument` to `num_workers=127` in the `DataLoader` to improve performance.\n"
      ]
     },
     "metadata": {},
     "output_type": "display_data"
    },
    {
     "data": {
      "text/html": [
       "<pre style=\"white-space:pre;overflow-x:auto;line-height:normal;font-family:Menlo,'DejaVu Sans Mono',consolas,'Courier New',monospace\"><span style=\"color: #008080; text-decoration-color: #008080; font-weight: bold\">2025</span>-<span style=\"color: #008080; text-decoration-color: #008080; font-weight: bold\">03</span>-<span style=\"color: #008080; text-decoration-color: #008080; font-weight: bold\">24</span> <span style=\"color: #00ff00; text-decoration-color: #00ff00; font-weight: bold\">03:20:47</span>,<span style=\"color: #008080; text-decoration-color: #008080; font-weight: bold\">488</span> - <span style=\"font-weight: bold\">{</span>pytorch_tabular:<span style=\"color: #008080; text-decoration-color: #008080; font-weight: bold\">382</span><span style=\"font-weight: bold\">}</span> - INFO - Finished Training GANDALFModel                            \n",
       "</pre>\n"
      ],
      "text/plain": [
       "\u001b[1;36m2025\u001b[0m-\u001b[1;36m03\u001b[0m-\u001b[1;36m24\u001b[0m \u001b[1;92m03:20:47\u001b[0m,\u001b[1;36m488\u001b[0m - \u001b[1m{\u001b[0mpytorch_tabular:\u001b[1;36m382\u001b[0m\u001b[1m}\u001b[0m - INFO - Finished Training GANDALFModel                            \n"
      ]
     },
     "metadata": {},
     "output_type": "display_data"
    },
    {
     "data": {
      "text/html": [
       "<pre style=\"white-space:pre;overflow-x:auto;line-height:normal;font-family:Menlo,'DejaVu Sans Mono',consolas,'Courier New',monospace\"><span style=\"color: #008080; text-decoration-color: #008080; font-weight: bold\">2025</span>-<span style=\"color: #008080; text-decoration-color: #008080; font-weight: bold\">03</span>-<span style=\"color: #008080; text-decoration-color: #008080; font-weight: bold\">24</span> <span style=\"color: #00ff00; text-decoration-color: #00ff00; font-weight: bold\">03:20:47</span>,<span style=\"color: #008080; text-decoration-color: #008080; font-weight: bold\">490</span> - <span style=\"font-weight: bold\">{</span>pytorch_tabular:<span style=\"color: #008080; text-decoration-color: #008080; font-weight: bold\">383</span><span style=\"font-weight: bold\">}</span> - INFO - Results: model: GANDALFModel, # Params: <span style=\"color: #008080; text-decoration-color: #008080; font-weight: bold\">2</span> M, epochs: <span style=\"color: #008080; text-decoration-color: #008080; font-weight: bold\">100</span>, \n",
       "test_loss: <span style=\"color: #008080; text-decoration-color: #008080; font-weight: bold\">0.06294029951095581</span>, test_mean_squared_error: <span style=\"color: #008080; text-decoration-color: #008080; font-weight: bold\">0.06294029951095581</span>, time_taken: <span style=\"color: #008080; text-decoration-color: #008080; font-weight: bold\">99.18182158470154</span>,       \n",
       "time_taken_per_epoch: <span style=\"color: #008080; text-decoration-color: #008080; font-weight: bold\">0.9918182158470153</span>                                                                           \n",
       "</pre>\n"
      ],
      "text/plain": [
       "\u001b[1;36m2025\u001b[0m-\u001b[1;36m03\u001b[0m-\u001b[1;36m24\u001b[0m \u001b[1;92m03:20:47\u001b[0m,\u001b[1;36m490\u001b[0m - \u001b[1m{\u001b[0mpytorch_tabular:\u001b[1;36m383\u001b[0m\u001b[1m}\u001b[0m - INFO - Results: model: GANDALFModel, # Params: \u001b[1;36m2\u001b[0m M, epochs: \u001b[1;36m100\u001b[0m, \n",
       "test_loss: \u001b[1;36m0.06294029951095581\u001b[0m, test_mean_squared_error: \u001b[1;36m0.06294029951095581\u001b[0m, time_taken: \u001b[1;36m99.18182158470154\u001b[0m,       \n",
       "time_taken_per_epoch: \u001b[1;36m0.9918182158470153\u001b[0m                                                                           \n"
      ]
     },
     "metadata": {},
     "output_type": "display_data"
    },
    {
     "data": {
      "text/html": [
       "<pre style=\"white-space:pre;overflow-x:auto;line-height:normal;font-family:Menlo,'DejaVu Sans Mono',consolas,'Courier New',monospace\"><span style=\"color: #008080; text-decoration-color: #008080; font-weight: bold\">2025</span>-<span style=\"color: #008080; text-decoration-color: #008080; font-weight: bold\">03</span>-<span style=\"color: #008080; text-decoration-color: #008080; font-weight: bold\">24</span> <span style=\"color: #00ff00; text-decoration-color: #00ff00; font-weight: bold\">03:20:47</span>,<span style=\"color: #008080; text-decoration-color: #008080; font-weight: bold\">545</span> - <span style=\"font-weight: bold\">{</span>pytorch_tabular:<span style=\"color: #008080; text-decoration-color: #008080; font-weight: bold\">328</span><span style=\"font-weight: bold\">}</span> - INFO - Training GatedAdditiveTreeEnsembleModel                   \n",
       "</pre>\n"
      ],
      "text/plain": [
       "\u001b[1;36m2025\u001b[0m-\u001b[1;36m03\u001b[0m-\u001b[1;36m24\u001b[0m \u001b[1;92m03:20:47\u001b[0m,\u001b[1;36m545\u001b[0m - \u001b[1m{\u001b[0mpytorch_tabular:\u001b[1;36m328\u001b[0m\u001b[1m}\u001b[0m - INFO - Training GatedAdditiveTreeEnsembleModel                   \n"
      ]
     },
     "metadata": {},
     "output_type": "display_data"
    },
    {
     "data": {
      "text/html": [
       "<pre style=\"white-space:pre;overflow-x:auto;line-height:normal;font-family:Menlo,'DejaVu Sans Mono',consolas,'Courier New',monospace\"><span style=\"color: #008080; text-decoration-color: #008080; font-weight: bold\">2025</span>-<span style=\"color: #008080; text-decoration-color: #008080; font-weight: bold\">03</span>-<span style=\"color: #008080; text-decoration-color: #008080; font-weight: bold\">24</span> <span style=\"color: #00ff00; text-decoration-color: #00ff00; font-weight: bold\">03:20:47</span>,<span style=\"color: #008080; text-decoration-color: #008080; font-weight: bold\">821</span> - <span style=\"font-weight: bold\">{</span>pytorch_tabular.models.gate.gate_model:<span style=\"color: #008080; text-decoration-color: #008080; font-weight: bold\">255</span><span style=\"font-weight: bold\">}</span> - INFO - Data Aware Initialization of T0    \n",
       "</pre>\n"
      ],
      "text/plain": [
       "\u001b[1;36m2025\u001b[0m-\u001b[1;36m03\u001b[0m-\u001b[1;36m24\u001b[0m \u001b[1;92m03:20:47\u001b[0m,\u001b[1;36m821\u001b[0m - \u001b[1m{\u001b[0mpytorch_tabular.models.gate.gate_model:\u001b[1;36m255\u001b[0m\u001b[1m}\u001b[0m - INFO - Data Aware Initialization of T0    \n"
      ]
     },
     "metadata": {},
     "output_type": "display_data"
    },
    {
     "data": {
      "text/html": [
       "<pre style=\"white-space:pre;overflow-x:auto;line-height:normal;font-family:Menlo,'DejaVu Sans Mono',consolas,'Courier New',monospace\">/home/nguyenhoa/miniconda3/envs/.henv/lib/python3.12/site-packages/pytorch_lightning/callbacks/model_checkpoint.py:\n",
       "654: Checkpoint directory /home/nguyenhoa/hoa/up5/final/src/saved_models exists and is not empty.\n",
       "</pre>\n"
      ],
      "text/plain": [
       "/home/nguyenhoa/miniconda3/envs/.henv/lib/python3.12/site-packages/pytorch_lightning/callbacks/model_checkpoint.py:\n",
       "654: Checkpoint directory /home/nguyenhoa/hoa/up5/final/src/saved_models exists and is not empty.\n"
      ]
     },
     "metadata": {},
     "output_type": "display_data"
    },
    {
     "data": {
      "text/html": [
       "<pre style=\"white-space:pre;overflow-x:auto;line-height:normal;font-family:Menlo,'DejaVu Sans Mono',consolas,'Courier New',monospace\">/home/nguyenhoa/miniconda3/envs/.henv/lib/python3.12/site-packages/pytorch_lightning/trainer/connectors/data_connec\n",
       "tor.py:424: The 'val_dataloader' does not have many workers which may be a bottleneck. Consider increasing the \n",
       "value of the `num_workers` argument` to `num_workers=127` in the `DataLoader` to improve performance.\n",
       "</pre>\n"
      ],
      "text/plain": [
       "/home/nguyenhoa/miniconda3/envs/.henv/lib/python3.12/site-packages/pytorch_lightning/trainer/connectors/data_connec\n",
       "tor.py:424: The 'val_dataloader' does not have many workers which may be a bottleneck. Consider increasing the \n",
       "value of the `num_workers` argument` to `num_workers=127` in the `DataLoader` to improve performance.\n"
      ]
     },
     "metadata": {},
     "output_type": "display_data"
    },
    {
     "data": {
      "text/html": [
       "<pre style=\"white-space:pre;overflow-x:auto;line-height:normal;font-family:Menlo,'DejaVu Sans Mono',consolas,'Courier New',monospace\">/home/nguyenhoa/miniconda3/envs/.henv/lib/python3.12/site-packages/pytorch_lightning/trainer/connectors/data_connec\n",
       "tor.py:424: The 'train_dataloader' does not have many workers which may be a bottleneck. Consider increasing the \n",
       "value of the `num_workers` argument` to `num_workers=127` in the `DataLoader` to improve performance.\n",
       "</pre>\n"
      ],
      "text/plain": [
       "/home/nguyenhoa/miniconda3/envs/.henv/lib/python3.12/site-packages/pytorch_lightning/trainer/connectors/data_connec\n",
       "tor.py:424: The 'train_dataloader' does not have many workers which may be a bottleneck. Consider increasing the \n",
       "value of the `num_workers` argument` to `num_workers=127` in the `DataLoader` to improve performance.\n"
      ]
     },
     "metadata": {},
     "output_type": "display_data"
    },
    {
     "data": {
      "text/html": [
       "<pre style=\"white-space:pre;overflow-x:auto;line-height:normal;font-family:Menlo,'DejaVu Sans Mono',consolas,'Courier New',monospace\">/home/nguyenhoa/miniconda3/envs/.henv/lib/python3.12/site-packages/pytorch_lightning/loops/fit_loop.py:298: The \n",
       "number of training batches (25) is smaller than the logging interval Trainer(log_every_n_steps=50). Set a lower \n",
       "value for log_every_n_steps if you want to see logs for the training epoch.\n",
       "</pre>\n"
      ],
      "text/plain": [
       "/home/nguyenhoa/miniconda3/envs/.henv/lib/python3.12/site-packages/pytorch_lightning/loops/fit_loop.py:298: The \n",
       "number of training batches (25) is smaller than the logging interval Trainer(log_every_n_steps=50). Set a lower \n",
       "value for log_every_n_steps if you want to see logs for the training epoch.\n"
      ]
     },
     "metadata": {},
     "output_type": "display_data"
    },
    {
     "data": {
      "text/html": [
       "<pre style=\"white-space:pre;overflow-x:auto;line-height:normal;font-family:Menlo,'DejaVu Sans Mono',consolas,'Courier New',monospace\">/home/nguyenhoa/miniconda3/envs/.henv/lib/python3.12/site-packages/pytorch_tabular/categorical_encoders.py:71: \n",
       "FutureWarning: A value is trying to be set on a copy of a DataFrame or Series through chained assignment using an \n",
       "inplace method.\n",
       "The behavior will change in pandas 3.0. This inplace method will never work because the intermediate object on \n",
       "which we are setting values always behaves as a copy.\n",
       "\n",
       "For example, when doing 'df[col].method(value, inplace=True)', try using 'df.method({col: value}, inplace=True)' or\n",
       "df[col] = df[col].method(value) instead, to perform the operation inplace on the original object.\n",
       "\n",
       "\n",
       "  X_encoded[col].fillna(self._imputed, inplace=True)\n",
       "</pre>\n"
      ],
      "text/plain": [
       "/home/nguyenhoa/miniconda3/envs/.henv/lib/python3.12/site-packages/pytorch_tabular/categorical_encoders.py:71: \n",
       "FutureWarning: A value is trying to be set on a copy of a DataFrame or Series through chained assignment using an \n",
       "inplace method.\n",
       "The behavior will change in pandas 3.0. This inplace method will never work because the intermediate object on \n",
       "which we are setting values always behaves as a copy.\n",
       "\n",
       "For example, when doing 'df[col].method(value, inplace=True)', try using 'df.method({col: value}, inplace=True)' or\n",
       "df[col] = df[col].method(value) instead, to perform the operation inplace on the original object.\n",
       "\n",
       "\n",
       "  X_encoded[col].fillna(self._imputed, inplace=True)\n"
      ]
     },
     "metadata": {},
     "output_type": "display_data"
    },
    {
     "data": {
      "text/html": [
       "<pre style=\"white-space:pre;overflow-x:auto;line-height:normal;font-family:Menlo,'DejaVu Sans Mono',consolas,'Courier New',monospace\">/home/nguyenhoa/miniconda3/envs/.henv/lib/python3.12/site-packages/pytorch_tabular/categorical_encoders.py:71: \n",
       "FutureWarning: A value is trying to be set on a copy of a DataFrame or Series through chained assignment using an \n",
       "inplace method.\n",
       "The behavior will change in pandas 3.0. This inplace method will never work because the intermediate object on \n",
       "which we are setting values always behaves as a copy.\n",
       "\n",
       "For example, when doing 'df[col].method(value, inplace=True)', try using 'df.method({col: value}, inplace=True)' or\n",
       "df[col] = df[col].method(value) instead, to perform the operation inplace on the original object.\n",
       "\n",
       "\n",
       "  X_encoded[col].fillna(self._imputed, inplace=True)\n",
       "</pre>\n"
      ],
      "text/plain": [
       "/home/nguyenhoa/miniconda3/envs/.henv/lib/python3.12/site-packages/pytorch_tabular/categorical_encoders.py:71: \n",
       "FutureWarning: A value is trying to be set on a copy of a DataFrame or Series through chained assignment using an \n",
       "inplace method.\n",
       "The behavior will change in pandas 3.0. This inplace method will never work because the intermediate object on \n",
       "which we are setting values always behaves as a copy.\n",
       "\n",
       "For example, when doing 'df[col].method(value, inplace=True)', try using 'df.method({col: value}, inplace=True)' or\n",
       "df[col] = df[col].method(value) instead, to perform the operation inplace on the original object.\n",
       "\n",
       "\n",
       "  X_encoded[col].fillna(self._imputed, inplace=True)\n"
      ]
     },
     "metadata": {},
     "output_type": "display_data"
    },
    {
     "data": {
      "text/html": [
       "<pre style=\"white-space:pre;overflow-x:auto;line-height:normal;font-family:Menlo,'DejaVu Sans Mono',consolas,'Courier New',monospace\">/home/nguyenhoa/miniconda3/envs/.henv/lib/python3.12/site-packages/pytorch_tabular/categorical_encoders.py:71: \n",
       "FutureWarning: A value is trying to be set on a copy of a DataFrame or Series through chained assignment using an \n",
       "inplace method.\n",
       "The behavior will change in pandas 3.0. This inplace method will never work because the intermediate object on \n",
       "which we are setting values always behaves as a copy.\n",
       "\n",
       "For example, when doing 'df[col].method(value, inplace=True)', try using 'df.method({col: value}, inplace=True)' or\n",
       "df[col] = df[col].method(value) instead, to perform the operation inplace on the original object.\n",
       "\n",
       "\n",
       "  X_encoded[col].fillna(self._imputed, inplace=True)\n",
       "</pre>\n"
      ],
      "text/plain": [
       "/home/nguyenhoa/miniconda3/envs/.henv/lib/python3.12/site-packages/pytorch_tabular/categorical_encoders.py:71: \n",
       "FutureWarning: A value is trying to be set on a copy of a DataFrame or Series through chained assignment using an \n",
       "inplace method.\n",
       "The behavior will change in pandas 3.0. This inplace method will never work because the intermediate object on \n",
       "which we are setting values always behaves as a copy.\n",
       "\n",
       "For example, when doing 'df[col].method(value, inplace=True)', try using 'df.method({col: value}, inplace=True)' or\n",
       "df[col] = df[col].method(value) instead, to perform the operation inplace on the original object.\n",
       "\n",
       "\n",
       "  X_encoded[col].fillna(self._imputed, inplace=True)\n"
      ]
     },
     "metadata": {},
     "output_type": "display_data"
    },
    {
     "data": {
      "text/html": [
       "<pre style=\"white-space:pre;overflow-x:auto;line-height:normal;font-family:Menlo,'DejaVu Sans Mono',consolas,'Courier New',monospace\">/home/nguyenhoa/miniconda3/envs/.henv/lib/python3.12/site-packages/pytorch_tabular/categorical_encoders.py:71: \n",
       "FutureWarning: A value is trying to be set on a copy of a DataFrame or Series through chained assignment using an \n",
       "inplace method.\n",
       "The behavior will change in pandas 3.0. This inplace method will never work because the intermediate object on \n",
       "which we are setting values always behaves as a copy.\n",
       "\n",
       "For example, when doing 'df[col].method(value, inplace=True)', try using 'df.method({col: value}, inplace=True)' or\n",
       "df[col] = df[col].method(value) instead, to perform the operation inplace on the original object.\n",
       "\n",
       "\n",
       "  X_encoded[col].fillna(self._imputed, inplace=True)\n",
       "</pre>\n"
      ],
      "text/plain": [
       "/home/nguyenhoa/miniconda3/envs/.henv/lib/python3.12/site-packages/pytorch_tabular/categorical_encoders.py:71: \n",
       "FutureWarning: A value is trying to be set on a copy of a DataFrame or Series through chained assignment using an \n",
       "inplace method.\n",
       "The behavior will change in pandas 3.0. This inplace method will never work because the intermediate object on \n",
       "which we are setting values always behaves as a copy.\n",
       "\n",
       "For example, when doing 'df[col].method(value, inplace=True)', try using 'df.method({col: value}, inplace=True)' or\n",
       "df[col] = df[col].method(value) instead, to perform the operation inplace on the original object.\n",
       "\n",
       "\n",
       "  X_encoded[col].fillna(self._imputed, inplace=True)\n"
      ]
     },
     "metadata": {},
     "output_type": "display_data"
    },
    {
     "data": {
      "text/html": [
       "<pre style=\"white-space:pre;overflow-x:auto;line-height:normal;font-family:Menlo,'DejaVu Sans Mono',consolas,'Courier New',monospace\">/home/nguyenhoa/miniconda3/envs/.henv/lib/python3.12/site-packages/pytorch_tabular/categorical_encoders.py:71: \n",
       "FutureWarning: A value is trying to be set on a copy of a DataFrame or Series through chained assignment using an \n",
       "inplace method.\n",
       "The behavior will change in pandas 3.0. This inplace method will never work because the intermediate object on \n",
       "which we are setting values always behaves as a copy.\n",
       "\n",
       "For example, when doing 'df[col].method(value, inplace=True)', try using 'df.method({col: value}, inplace=True)' or\n",
       "df[col] = df[col].method(value) instead, to perform the operation inplace on the original object.\n",
       "\n",
       "\n",
       "  X_encoded[col].fillna(self._imputed, inplace=True)\n",
       "</pre>\n"
      ],
      "text/plain": [
       "/home/nguyenhoa/miniconda3/envs/.henv/lib/python3.12/site-packages/pytorch_tabular/categorical_encoders.py:71: \n",
       "FutureWarning: A value is trying to be set on a copy of a DataFrame or Series through chained assignment using an \n",
       "inplace method.\n",
       "The behavior will change in pandas 3.0. This inplace method will never work because the intermediate object on \n",
       "which we are setting values always behaves as a copy.\n",
       "\n",
       "For example, when doing 'df[col].method(value, inplace=True)', try using 'df.method({col: value}, inplace=True)' or\n",
       "df[col] = df[col].method(value) instead, to perform the operation inplace on the original object.\n",
       "\n",
       "\n",
       "  X_encoded[col].fillna(self._imputed, inplace=True)\n"
      ]
     },
     "metadata": {},
     "output_type": "display_data"
    },
    {
     "data": {
      "text/html": [
       "<pre style=\"white-space:pre;overflow-x:auto;line-height:normal;font-family:Menlo,'DejaVu Sans Mono',consolas,'Courier New',monospace\">/home/nguyenhoa/miniconda3/envs/.henv/lib/python3.12/site-packages/pytorch_tabular/categorical_encoders.py:71: \n",
       "FutureWarning: A value is trying to be set on a copy of a DataFrame or Series through chained assignment using an \n",
       "inplace method.\n",
       "The behavior will change in pandas 3.0. This inplace method will never work because the intermediate object on \n",
       "which we are setting values always behaves as a copy.\n",
       "\n",
       "For example, when doing 'df[col].method(value, inplace=True)', try using 'df.method({col: value}, inplace=True)' or\n",
       "df[col] = df[col].method(value) instead, to perform the operation inplace on the original object.\n",
       "\n",
       "\n",
       "  X_encoded[col].fillna(self._imputed, inplace=True)\n",
       "</pre>\n"
      ],
      "text/plain": [
       "/home/nguyenhoa/miniconda3/envs/.henv/lib/python3.12/site-packages/pytorch_tabular/categorical_encoders.py:71: \n",
       "FutureWarning: A value is trying to be set on a copy of a DataFrame or Series through chained assignment using an \n",
       "inplace method.\n",
       "The behavior will change in pandas 3.0. This inplace method will never work because the intermediate object on \n",
       "which we are setting values always behaves as a copy.\n",
       "\n",
       "For example, when doing 'df[col].method(value, inplace=True)', try using 'df.method({col: value}, inplace=True)' or\n",
       "df[col] = df[col].method(value) instead, to perform the operation inplace on the original object.\n",
       "\n",
       "\n",
       "  X_encoded[col].fillna(self._imputed, inplace=True)\n"
      ]
     },
     "metadata": {},
     "output_type": "display_data"
    },
    {
     "data": {
      "text/html": [
       "<pre style=\"white-space:pre;overflow-x:auto;line-height:normal;font-family:Menlo,'DejaVu Sans Mono',consolas,'Courier New',monospace\">/home/nguyenhoa/miniconda3/envs/.henv/lib/python3.12/site-packages/pytorch_tabular/categorical_encoders.py:71: \n",
       "FutureWarning: A value is trying to be set on a copy of a DataFrame or Series through chained assignment using an \n",
       "inplace method.\n",
       "The behavior will change in pandas 3.0. This inplace method will never work because the intermediate object on \n",
       "which we are setting values always behaves as a copy.\n",
       "\n",
       "For example, when doing 'df[col].method(value, inplace=True)', try using 'df.method({col: value}, inplace=True)' or\n",
       "df[col] = df[col].method(value) instead, to perform the operation inplace on the original object.\n",
       "\n",
       "\n",
       "  X_encoded[col].fillna(self._imputed, inplace=True)\n",
       "</pre>\n"
      ],
      "text/plain": [
       "/home/nguyenhoa/miniconda3/envs/.henv/lib/python3.12/site-packages/pytorch_tabular/categorical_encoders.py:71: \n",
       "FutureWarning: A value is trying to be set on a copy of a DataFrame or Series through chained assignment using an \n",
       "inplace method.\n",
       "The behavior will change in pandas 3.0. This inplace method will never work because the intermediate object on \n",
       "which we are setting values always behaves as a copy.\n",
       "\n",
       "For example, when doing 'df[col].method(value, inplace=True)', try using 'df.method({col: value}, inplace=True)' or\n",
       "df[col] = df[col].method(value) instead, to perform the operation inplace on the original object.\n",
       "\n",
       "\n",
       "  X_encoded[col].fillna(self._imputed, inplace=True)\n"
      ]
     },
     "metadata": {},
     "output_type": "display_data"
    },
    {
     "data": {
      "text/html": [
       "<pre style=\"white-space:pre;overflow-x:auto;line-height:normal;font-family:Menlo,'DejaVu Sans Mono',consolas,'Courier New',monospace\">/home/nguyenhoa/miniconda3/envs/.henv/lib/python3.12/site-packages/pytorch_tabular/categorical_encoders.py:71: \n",
       "FutureWarning: A value is trying to be set on a copy of a DataFrame or Series through chained assignment using an \n",
       "inplace method.\n",
       "The behavior will change in pandas 3.0. This inplace method will never work because the intermediate object on \n",
       "which we are setting values always behaves as a copy.\n",
       "\n",
       "For example, when doing 'df[col].method(value, inplace=True)', try using 'df.method({col: value}, inplace=True)' or\n",
       "df[col] = df[col].method(value) instead, to perform the operation inplace on the original object.\n",
       "\n",
       "\n",
       "  X_encoded[col].fillna(self._imputed, inplace=True)\n",
       "</pre>\n"
      ],
      "text/plain": [
       "/home/nguyenhoa/miniconda3/envs/.henv/lib/python3.12/site-packages/pytorch_tabular/categorical_encoders.py:71: \n",
       "FutureWarning: A value is trying to be set on a copy of a DataFrame or Series through chained assignment using an \n",
       "inplace method.\n",
       "The behavior will change in pandas 3.0. This inplace method will never work because the intermediate object on \n",
       "which we are setting values always behaves as a copy.\n",
       "\n",
       "For example, when doing 'df[col].method(value, inplace=True)', try using 'df.method({col: value}, inplace=True)' or\n",
       "df[col] = df[col].method(value) instead, to perform the operation inplace on the original object.\n",
       "\n",
       "\n",
       "  X_encoded[col].fillna(self._imputed, inplace=True)\n"
      ]
     },
     "metadata": {},
     "output_type": "display_data"
    },
    {
     "data": {
      "text/html": [
       "<pre style=\"white-space:pre;overflow-x:auto;line-height:normal;font-family:Menlo,'DejaVu Sans Mono',consolas,'Courier New',monospace\">/home/nguyenhoa/miniconda3/envs/.henv/lib/python3.12/site-packages/pytorch_tabular/categorical_encoders.py:71: \n",
       "FutureWarning: A value is trying to be set on a copy of a DataFrame or Series through chained assignment using an \n",
       "inplace method.\n",
       "The behavior will change in pandas 3.0. This inplace method will never work because the intermediate object on \n",
       "which we are setting values always behaves as a copy.\n",
       "\n",
       "For example, when doing 'df[col].method(value, inplace=True)', try using 'df.method({col: value}, inplace=True)' or\n",
       "df[col] = df[col].method(value) instead, to perform the operation inplace on the original object.\n",
       "\n",
       "\n",
       "  X_encoded[col].fillna(self._imputed, inplace=True)\n",
       "</pre>\n"
      ],
      "text/plain": [
       "/home/nguyenhoa/miniconda3/envs/.henv/lib/python3.12/site-packages/pytorch_tabular/categorical_encoders.py:71: \n",
       "FutureWarning: A value is trying to be set on a copy of a DataFrame or Series through chained assignment using an \n",
       "inplace method.\n",
       "The behavior will change in pandas 3.0. This inplace method will never work because the intermediate object on \n",
       "which we are setting values always behaves as a copy.\n",
       "\n",
       "For example, when doing 'df[col].method(value, inplace=True)', try using 'df.method({col: value}, inplace=True)' or\n",
       "df[col] = df[col].method(value) instead, to perform the operation inplace on the original object.\n",
       "\n",
       "\n",
       "  X_encoded[col].fillna(self._imputed, inplace=True)\n"
      ]
     },
     "metadata": {},
     "output_type": "display_data"
    },
    {
     "data": {
      "text/html": [
       "<pre style=\"white-space:pre;overflow-x:auto;line-height:normal;font-family:Menlo,'DejaVu Sans Mono',consolas,'Courier New',monospace\">/home/nguyenhoa/miniconda3/envs/.henv/lib/python3.12/site-packages/pytorch_lightning/trainer/connectors/data_connec\n",
       "tor.py:424: The 'test_dataloader' does not have many workers which may be a bottleneck. Consider increasing the \n",
       "value of the `num_workers` argument` to `num_workers=127` in the `DataLoader` to improve performance.\n",
       "</pre>\n"
      ],
      "text/plain": [
       "/home/nguyenhoa/miniconda3/envs/.henv/lib/python3.12/site-packages/pytorch_lightning/trainer/connectors/data_connec\n",
       "tor.py:424: The 'test_dataloader' does not have many workers which may be a bottleneck. Consider increasing the \n",
       "value of the `num_workers` argument` to `num_workers=127` in the `DataLoader` to improve performance.\n"
      ]
     },
     "metadata": {},
     "output_type": "display_data"
    },
    {
     "data": {
      "text/html": [
       "<pre style=\"white-space:pre;overflow-x:auto;line-height:normal;font-family:Menlo,'DejaVu Sans Mono',consolas,'Courier New',monospace\"><span style=\"color: #008080; text-decoration-color: #008080; font-weight: bold\">2025</span>-<span style=\"color: #008080; text-decoration-color: #008080; font-weight: bold\">03</span>-<span style=\"color: #008080; text-decoration-color: #008080; font-weight: bold\">24</span> <span style=\"color: #00ff00; text-decoration-color: #00ff00; font-weight: bold\">03:41:07</span>,<span style=\"color: #008080; text-decoration-color: #008080; font-weight: bold\">487</span> - <span style=\"font-weight: bold\">{</span>pytorch_tabular:<span style=\"color: #008080; text-decoration-color: #008080; font-weight: bold\">382</span><span style=\"font-weight: bold\">}</span> - INFO - Finished Training GatedAdditiveTreeEnsembleModel          \n",
       "</pre>\n"
      ],
      "text/plain": [
       "\u001b[1;36m2025\u001b[0m-\u001b[1;36m03\u001b[0m-\u001b[1;36m24\u001b[0m \u001b[1;92m03:41:07\u001b[0m,\u001b[1;36m487\u001b[0m - \u001b[1m{\u001b[0mpytorch_tabular:\u001b[1;36m382\u001b[0m\u001b[1m}\u001b[0m - INFO - Finished Training GatedAdditiveTreeEnsembleModel          \n"
      ]
     },
     "metadata": {},
     "output_type": "display_data"
    },
    {
     "data": {
      "text/html": [
       "<pre style=\"white-space:pre;overflow-x:auto;line-height:normal;font-family:Menlo,'DejaVu Sans Mono',consolas,'Courier New',monospace\"><span style=\"color: #008080; text-decoration-color: #008080; font-weight: bold\">2025</span>-<span style=\"color: #008080; text-decoration-color: #008080; font-weight: bold\">03</span>-<span style=\"color: #008080; text-decoration-color: #008080; font-weight: bold\">24</span> <span style=\"color: #00ff00; text-decoration-color: #00ff00; font-weight: bold\">03:41:07</span>,<span style=\"color: #008080; text-decoration-color: #008080; font-weight: bold\">489</span> - <span style=\"font-weight: bold\">{</span>pytorch_tabular:<span style=\"color: #008080; text-decoration-color: #008080; font-weight: bold\">383</span><span style=\"font-weight: bold\">}</span> - INFO - Results: model: GatedAdditiveTreeEnsembleModel, # Params: \n",
       "<span style=\"color: #008080; text-decoration-color: #008080; font-weight: bold\">2</span> M, epochs: <span style=\"color: #008080; text-decoration-color: #008080; font-weight: bold\">100</span>, test_loss: <span style=\"color: #008080; text-decoration-color: #008080; font-weight: bold\">0.06517665088176727</span>, test_mean_squared_error: <span style=\"color: #008080; text-decoration-color: #008080; font-weight: bold\">0.06517665088176727</span>, time_taken:        \n",
       "<span style=\"color: #008080; text-decoration-color: #008080; font-weight: bold\">1219.9957642555237</span>, time_taken_per_epoch: <span style=\"color: #008080; text-decoration-color: #008080; font-weight: bold\">12.199957642555237</span>                                                       \n",
       "</pre>\n"
      ],
      "text/plain": [
       "\u001b[1;36m2025\u001b[0m-\u001b[1;36m03\u001b[0m-\u001b[1;36m24\u001b[0m \u001b[1;92m03:41:07\u001b[0m,\u001b[1;36m489\u001b[0m - \u001b[1m{\u001b[0mpytorch_tabular:\u001b[1;36m383\u001b[0m\u001b[1m}\u001b[0m - INFO - Results: model: GatedAdditiveTreeEnsembleModel, # Params: \n",
       "\u001b[1;36m2\u001b[0m M, epochs: \u001b[1;36m100\u001b[0m, test_loss: \u001b[1;36m0.06517665088176727\u001b[0m, test_mean_squared_error: \u001b[1;36m0.06517665088176727\u001b[0m, time_taken:        \n",
       "\u001b[1;36m1219.9957642555237\u001b[0m, time_taken_per_epoch: \u001b[1;36m12.199957642555237\u001b[0m                                                       \n"
      ]
     },
     "metadata": {},
     "output_type": "display_data"
    },
    {
     "data": {
      "text/html": [
       "<pre style=\"white-space:pre;overflow-x:auto;line-height:normal;font-family:Menlo,'DejaVu Sans Mono',consolas,'Courier New',monospace\"><span style=\"color: #008080; text-decoration-color: #008080; font-weight: bold\">2025</span>-<span style=\"color: #008080; text-decoration-color: #008080; font-weight: bold\">03</span>-<span style=\"color: #008080; text-decoration-color: #008080; font-weight: bold\">24</span> <span style=\"color: #00ff00; text-decoration-color: #00ff00; font-weight: bold\">03:41:07</span>,<span style=\"color: #008080; text-decoration-color: #008080; font-weight: bold\">529</span> - <span style=\"font-weight: bold\">{</span>pytorch_tabular:<span style=\"color: #008080; text-decoration-color: #008080; font-weight: bold\">328</span><span style=\"font-weight: bold\">}</span> - INFO - Training NODEModel                                        \n",
       "</pre>\n"
      ],
      "text/plain": [
       "\u001b[1;36m2025\u001b[0m-\u001b[1;36m03\u001b[0m-\u001b[1;36m24\u001b[0m \u001b[1;92m03:41:07\u001b[0m,\u001b[1;36m529\u001b[0m - \u001b[1m{\u001b[0mpytorch_tabular:\u001b[1;36m328\u001b[0m\u001b[1m}\u001b[0m - INFO - Training NODEModel                                        \n"
      ]
     },
     "metadata": {},
     "output_type": "display_data"
    },
    {
     "data": {
      "text/html": [
       "<pre style=\"white-space:pre;overflow-x:auto;line-height:normal;font-family:Menlo,'DejaVu Sans Mono',consolas,'Courier New',monospace\">/home/nguyenhoa/miniconda3/envs/.henv/lib/python3.12/site-packages/pytorch_tabular/models/node/node_model.py:111: \n",
       "UserWarning: Ignoring head config because NODE has a specific head which subsets the tree outputs\n",
       "  warnings.warn(\"Ignoring head config because NODE has a specific head which subsets the tree outputs\")\n",
       "</pre>\n"
      ],
      "text/plain": [
       "/home/nguyenhoa/miniconda3/envs/.henv/lib/python3.12/site-packages/pytorch_tabular/models/node/node_model.py:111: \n",
       "UserWarning: Ignoring head config because NODE has a specific head which subsets the tree outputs\n",
       "  warnings.warn(\"Ignoring head config because NODE has a specific head which subsets the tree outputs\")\n"
      ]
     },
     "metadata": {},
     "output_type": "display_data"
    },
    {
     "data": {
      "text/html": [
       "<pre style=\"white-space:pre;overflow-x:auto;line-height:normal;font-family:Menlo,'DejaVu Sans Mono',consolas,'Courier New',monospace\"><span style=\"color: #008080; text-decoration-color: #008080; font-weight: bold\">2025</span>-<span style=\"color: #008080; text-decoration-color: #008080; font-weight: bold\">03</span>-<span style=\"color: #008080; text-decoration-color: #008080; font-weight: bold\">24</span> <span style=\"color: #00ff00; text-decoration-color: #00ff00; font-weight: bold\">03:41:07</span>,<span style=\"color: #008080; text-decoration-color: #008080; font-weight: bold\">705</span> - <span style=\"font-weight: bold\">{</span>pytorch_tabular.models.node.node_model:<span style=\"color: #008080; text-decoration-color: #008080; font-weight: bold\">74</span><span style=\"font-weight: bold\">}</span> - INFO - Data Aware Initialization of NODE   \n",
       "using a forward pass with <span style=\"color: #008080; text-decoration-color: #008080; font-weight: bold\">2000</span> batch size<span style=\"color: #808000; text-decoration-color: #808000\">...</span>.                                                                      \n",
       "</pre>\n"
      ],
      "text/plain": [
       "\u001b[1;36m2025\u001b[0m-\u001b[1;36m03\u001b[0m-\u001b[1;36m24\u001b[0m \u001b[1;92m03:41:07\u001b[0m,\u001b[1;36m705\u001b[0m - \u001b[1m{\u001b[0mpytorch_tabular.models.node.node_model:\u001b[1;36m74\u001b[0m\u001b[1m}\u001b[0m - INFO - Data Aware Initialization of NODE   \n",
       "using a forward pass with \u001b[1;36m2000\u001b[0m batch size\u001b[33m...\u001b[0m.                                                                      \n"
      ]
     },
     "metadata": {},
     "output_type": "display_data"
    },
    {
     "data": {
      "text/html": [
       "<pre style=\"white-space:pre;overflow-x:auto;line-height:normal;font-family:Menlo,'DejaVu Sans Mono',consolas,'Courier New',monospace\">/home/nguyenhoa/miniconda3/envs/.henv/lib/python3.12/site-packages/pytorch_tabular/models/common/layers/soft_trees.\n",
       "py:138: UserWarning: Data-aware initialization is performed on less than 1000 data points. This may cause \n",
       "instability.To avoid potential problems, run this model on a data batch with at least 1000 data samples.You can do \n",
       "so manually before training. Use with torch.no_grad() for memory efficiency.\n",
       "  warn(\n",
       "</pre>\n"
      ],
      "text/plain": [
       "/home/nguyenhoa/miniconda3/envs/.henv/lib/python3.12/site-packages/pytorch_tabular/models/common/layers/soft_trees.\n",
       "py:138: UserWarning: Data-aware initialization is performed on less than 1000 data points. This may cause \n",
       "instability.To avoid potential problems, run this model on a data batch with at least 1000 data samples.You can do \n",
       "so manually before training. Use with torch.no_grad() for memory efficiency.\n",
       "  warn(\n"
      ]
     },
     "metadata": {},
     "output_type": "display_data"
    },
    {
     "data": {
      "text/html": [
       "<pre style=\"white-space:pre;overflow-x:auto;line-height:normal;font-family:Menlo,'DejaVu Sans Mono',consolas,'Courier New',monospace\">/home/nguyenhoa/miniconda3/envs/.henv/lib/python3.12/site-packages/pytorch_lightning/callbacks/model_checkpoint.py:\n",
       "654: Checkpoint directory /home/nguyenhoa/hoa/up5/final/src/saved_models exists and is not empty.\n",
       "</pre>\n"
      ],
      "text/plain": [
       "/home/nguyenhoa/miniconda3/envs/.henv/lib/python3.12/site-packages/pytorch_lightning/callbacks/model_checkpoint.py:\n",
       "654: Checkpoint directory /home/nguyenhoa/hoa/up5/final/src/saved_models exists and is not empty.\n"
      ]
     },
     "metadata": {},
     "output_type": "display_data"
    },
    {
     "data": {
      "text/html": [
       "<pre style=\"white-space:pre;overflow-x:auto;line-height:normal;font-family:Menlo,'DejaVu Sans Mono',consolas,'Courier New',monospace\">/home/nguyenhoa/miniconda3/envs/.henv/lib/python3.12/site-packages/pytorch_lightning/trainer/connectors/data_connec\n",
       "tor.py:424: The 'val_dataloader' does not have many workers which may be a bottleneck. Consider increasing the \n",
       "value of the `num_workers` argument` to `num_workers=127` in the `DataLoader` to improve performance.\n",
       "</pre>\n"
      ],
      "text/plain": [
       "/home/nguyenhoa/miniconda3/envs/.henv/lib/python3.12/site-packages/pytorch_lightning/trainer/connectors/data_connec\n",
       "tor.py:424: The 'val_dataloader' does not have many workers which may be a bottleneck. Consider increasing the \n",
       "value of the `num_workers` argument` to `num_workers=127` in the `DataLoader` to improve performance.\n"
      ]
     },
     "metadata": {},
     "output_type": "display_data"
    },
    {
     "data": {
      "text/html": [
       "<pre style=\"white-space:pre;overflow-x:auto;line-height:normal;font-family:Menlo,'DejaVu Sans Mono',consolas,'Courier New',monospace\">/home/nguyenhoa/miniconda3/envs/.henv/lib/python3.12/site-packages/pytorch_lightning/trainer/connectors/data_connec\n",
       "tor.py:424: The 'train_dataloader' does not have many workers which may be a bottleneck. Consider increasing the \n",
       "value of the `num_workers` argument` to `num_workers=127` in the `DataLoader` to improve performance.\n",
       "</pre>\n"
      ],
      "text/plain": [
       "/home/nguyenhoa/miniconda3/envs/.henv/lib/python3.12/site-packages/pytorch_lightning/trainer/connectors/data_connec\n",
       "tor.py:424: The 'train_dataloader' does not have many workers which may be a bottleneck. Consider increasing the \n",
       "value of the `num_workers` argument` to `num_workers=127` in the `DataLoader` to improve performance.\n"
      ]
     },
     "metadata": {},
     "output_type": "display_data"
    },
    {
     "data": {
      "text/html": [
       "<pre style=\"white-space:pre;overflow-x:auto;line-height:normal;font-family:Menlo,'DejaVu Sans Mono',consolas,'Courier New',monospace\">/home/nguyenhoa/miniconda3/envs/.henv/lib/python3.12/site-packages/pytorch_lightning/loops/fit_loop.py:298: The \n",
       "number of training batches (25) is smaller than the logging interval Trainer(log_every_n_steps=50). Set a lower \n",
       "value for log_every_n_steps if you want to see logs for the training epoch.\n",
       "</pre>\n"
      ],
      "text/plain": [
       "/home/nguyenhoa/miniconda3/envs/.henv/lib/python3.12/site-packages/pytorch_lightning/loops/fit_loop.py:298: The \n",
       "number of training batches (25) is smaller than the logging interval Trainer(log_every_n_steps=50). Set a lower \n",
       "value for log_every_n_steps if you want to see logs for the training epoch.\n"
      ]
     },
     "metadata": {},
     "output_type": "display_data"
    },
    {
     "data": {
      "text/html": [
       "<pre style=\"white-space:pre;overflow-x:auto;line-height:normal;font-family:Menlo,'DejaVu Sans Mono',consolas,'Courier New',monospace\">/home/nguyenhoa/miniconda3/envs/.henv/lib/python3.12/site-packages/pytorch_tabular/categorical_encoders.py:71: \n",
       "FutureWarning: A value is trying to be set on a copy of a DataFrame or Series through chained assignment using an \n",
       "inplace method.\n",
       "The behavior will change in pandas 3.0. This inplace method will never work because the intermediate object on \n",
       "which we are setting values always behaves as a copy.\n",
       "\n",
       "For example, when doing 'df[col].method(value, inplace=True)', try using 'df.method({col: value}, inplace=True)' or\n",
       "df[col] = df[col].method(value) instead, to perform the operation inplace on the original object.\n",
       "\n",
       "\n",
       "  X_encoded[col].fillna(self._imputed, inplace=True)\n",
       "</pre>\n"
      ],
      "text/plain": [
       "/home/nguyenhoa/miniconda3/envs/.henv/lib/python3.12/site-packages/pytorch_tabular/categorical_encoders.py:71: \n",
       "FutureWarning: A value is trying to be set on a copy of a DataFrame or Series through chained assignment using an \n",
       "inplace method.\n",
       "The behavior will change in pandas 3.0. This inplace method will never work because the intermediate object on \n",
       "which we are setting values always behaves as a copy.\n",
       "\n",
       "For example, when doing 'df[col].method(value, inplace=True)', try using 'df.method({col: value}, inplace=True)' or\n",
       "df[col] = df[col].method(value) instead, to perform the operation inplace on the original object.\n",
       "\n",
       "\n",
       "  X_encoded[col].fillna(self._imputed, inplace=True)\n"
      ]
     },
     "metadata": {},
     "output_type": "display_data"
    },
    {
     "data": {
      "text/html": [
       "<pre style=\"white-space:pre;overflow-x:auto;line-height:normal;font-family:Menlo,'DejaVu Sans Mono',consolas,'Courier New',monospace\">/home/nguyenhoa/miniconda3/envs/.henv/lib/python3.12/site-packages/pytorch_tabular/categorical_encoders.py:71: \n",
       "FutureWarning: A value is trying to be set on a copy of a DataFrame or Series through chained assignment using an \n",
       "inplace method.\n",
       "The behavior will change in pandas 3.0. This inplace method will never work because the intermediate object on \n",
       "which we are setting values always behaves as a copy.\n",
       "\n",
       "For example, when doing 'df[col].method(value, inplace=True)', try using 'df.method({col: value}, inplace=True)' or\n",
       "df[col] = df[col].method(value) instead, to perform the operation inplace on the original object.\n",
       "\n",
       "\n",
       "  X_encoded[col].fillna(self._imputed, inplace=True)\n",
       "</pre>\n"
      ],
      "text/plain": [
       "/home/nguyenhoa/miniconda3/envs/.henv/lib/python3.12/site-packages/pytorch_tabular/categorical_encoders.py:71: \n",
       "FutureWarning: A value is trying to be set on a copy of a DataFrame or Series through chained assignment using an \n",
       "inplace method.\n",
       "The behavior will change in pandas 3.0. This inplace method will never work because the intermediate object on \n",
       "which we are setting values always behaves as a copy.\n",
       "\n",
       "For example, when doing 'df[col].method(value, inplace=True)', try using 'df.method({col: value}, inplace=True)' or\n",
       "df[col] = df[col].method(value) instead, to perform the operation inplace on the original object.\n",
       "\n",
       "\n",
       "  X_encoded[col].fillna(self._imputed, inplace=True)\n"
      ]
     },
     "metadata": {},
     "output_type": "display_data"
    },
    {
     "data": {
      "text/html": [
       "<pre style=\"white-space:pre;overflow-x:auto;line-height:normal;font-family:Menlo,'DejaVu Sans Mono',consolas,'Courier New',monospace\">/home/nguyenhoa/miniconda3/envs/.henv/lib/python3.12/site-packages/pytorch_tabular/categorical_encoders.py:71: \n",
       "FutureWarning: A value is trying to be set on a copy of a DataFrame or Series through chained assignment using an \n",
       "inplace method.\n",
       "The behavior will change in pandas 3.0. This inplace method will never work because the intermediate object on \n",
       "which we are setting values always behaves as a copy.\n",
       "\n",
       "For example, when doing 'df[col].method(value, inplace=True)', try using 'df.method({col: value}, inplace=True)' or\n",
       "df[col] = df[col].method(value) instead, to perform the operation inplace on the original object.\n",
       "\n",
       "\n",
       "  X_encoded[col].fillna(self._imputed, inplace=True)\n",
       "</pre>\n"
      ],
      "text/plain": [
       "/home/nguyenhoa/miniconda3/envs/.henv/lib/python3.12/site-packages/pytorch_tabular/categorical_encoders.py:71: \n",
       "FutureWarning: A value is trying to be set on a copy of a DataFrame or Series through chained assignment using an \n",
       "inplace method.\n",
       "The behavior will change in pandas 3.0. This inplace method will never work because the intermediate object on \n",
       "which we are setting values always behaves as a copy.\n",
       "\n",
       "For example, when doing 'df[col].method(value, inplace=True)', try using 'df.method({col: value}, inplace=True)' or\n",
       "df[col] = df[col].method(value) instead, to perform the operation inplace on the original object.\n",
       "\n",
       "\n",
       "  X_encoded[col].fillna(self._imputed, inplace=True)\n"
      ]
     },
     "metadata": {},
     "output_type": "display_data"
    },
    {
     "data": {
      "text/html": [
       "<pre style=\"white-space:pre;overflow-x:auto;line-height:normal;font-family:Menlo,'DejaVu Sans Mono',consolas,'Courier New',monospace\">/home/nguyenhoa/miniconda3/envs/.henv/lib/python3.12/site-packages/pytorch_tabular/categorical_encoders.py:71: \n",
       "FutureWarning: A value is trying to be set on a copy of a DataFrame or Series through chained assignment using an \n",
       "inplace method.\n",
       "The behavior will change in pandas 3.0. This inplace method will never work because the intermediate object on \n",
       "which we are setting values always behaves as a copy.\n",
       "\n",
       "For example, when doing 'df[col].method(value, inplace=True)', try using 'df.method({col: value}, inplace=True)' or\n",
       "df[col] = df[col].method(value) instead, to perform the operation inplace on the original object.\n",
       "\n",
       "\n",
       "  X_encoded[col].fillna(self._imputed, inplace=True)\n",
       "</pre>\n"
      ],
      "text/plain": [
       "/home/nguyenhoa/miniconda3/envs/.henv/lib/python3.12/site-packages/pytorch_tabular/categorical_encoders.py:71: \n",
       "FutureWarning: A value is trying to be set on a copy of a DataFrame or Series through chained assignment using an \n",
       "inplace method.\n",
       "The behavior will change in pandas 3.0. This inplace method will never work because the intermediate object on \n",
       "which we are setting values always behaves as a copy.\n",
       "\n",
       "For example, when doing 'df[col].method(value, inplace=True)', try using 'df.method({col: value}, inplace=True)' or\n",
       "df[col] = df[col].method(value) instead, to perform the operation inplace on the original object.\n",
       "\n",
       "\n",
       "  X_encoded[col].fillna(self._imputed, inplace=True)\n"
      ]
     },
     "metadata": {},
     "output_type": "display_data"
    },
    {
     "data": {
      "text/html": [
       "<pre style=\"white-space:pre;overflow-x:auto;line-height:normal;font-family:Menlo,'DejaVu Sans Mono',consolas,'Courier New',monospace\">/home/nguyenhoa/miniconda3/envs/.henv/lib/python3.12/site-packages/pytorch_tabular/categorical_encoders.py:71: \n",
       "FutureWarning: A value is trying to be set on a copy of a DataFrame or Series through chained assignment using an \n",
       "inplace method.\n",
       "The behavior will change in pandas 3.0. This inplace method will never work because the intermediate object on \n",
       "which we are setting values always behaves as a copy.\n",
       "\n",
       "For example, when doing 'df[col].method(value, inplace=True)', try using 'df.method({col: value}, inplace=True)' or\n",
       "df[col] = df[col].method(value) instead, to perform the operation inplace on the original object.\n",
       "\n",
       "\n",
       "  X_encoded[col].fillna(self._imputed, inplace=True)\n",
       "</pre>\n"
      ],
      "text/plain": [
       "/home/nguyenhoa/miniconda3/envs/.henv/lib/python3.12/site-packages/pytorch_tabular/categorical_encoders.py:71: \n",
       "FutureWarning: A value is trying to be set on a copy of a DataFrame or Series through chained assignment using an \n",
       "inplace method.\n",
       "The behavior will change in pandas 3.0. This inplace method will never work because the intermediate object on \n",
       "which we are setting values always behaves as a copy.\n",
       "\n",
       "For example, when doing 'df[col].method(value, inplace=True)', try using 'df.method({col: value}, inplace=True)' or\n",
       "df[col] = df[col].method(value) instead, to perform the operation inplace on the original object.\n",
       "\n",
       "\n",
       "  X_encoded[col].fillna(self._imputed, inplace=True)\n"
      ]
     },
     "metadata": {},
     "output_type": "display_data"
    },
    {
     "data": {
      "text/html": [
       "<pre style=\"white-space:pre;overflow-x:auto;line-height:normal;font-family:Menlo,'DejaVu Sans Mono',consolas,'Courier New',monospace\">/home/nguyenhoa/miniconda3/envs/.henv/lib/python3.12/site-packages/pytorch_tabular/categorical_encoders.py:71: \n",
       "FutureWarning: A value is trying to be set on a copy of a DataFrame or Series through chained assignment using an \n",
       "inplace method.\n",
       "The behavior will change in pandas 3.0. This inplace method will never work because the intermediate object on \n",
       "which we are setting values always behaves as a copy.\n",
       "\n",
       "For example, when doing 'df[col].method(value, inplace=True)', try using 'df.method({col: value}, inplace=True)' or\n",
       "df[col] = df[col].method(value) instead, to perform the operation inplace on the original object.\n",
       "\n",
       "\n",
       "  X_encoded[col].fillna(self._imputed, inplace=True)\n",
       "</pre>\n"
      ],
      "text/plain": [
       "/home/nguyenhoa/miniconda3/envs/.henv/lib/python3.12/site-packages/pytorch_tabular/categorical_encoders.py:71: \n",
       "FutureWarning: A value is trying to be set on a copy of a DataFrame or Series through chained assignment using an \n",
       "inplace method.\n",
       "The behavior will change in pandas 3.0. This inplace method will never work because the intermediate object on \n",
       "which we are setting values always behaves as a copy.\n",
       "\n",
       "For example, when doing 'df[col].method(value, inplace=True)', try using 'df.method({col: value}, inplace=True)' or\n",
       "df[col] = df[col].method(value) instead, to perform the operation inplace on the original object.\n",
       "\n",
       "\n",
       "  X_encoded[col].fillna(self._imputed, inplace=True)\n"
      ]
     },
     "metadata": {},
     "output_type": "display_data"
    },
    {
     "data": {
      "text/html": [
       "<pre style=\"white-space:pre;overflow-x:auto;line-height:normal;font-family:Menlo,'DejaVu Sans Mono',consolas,'Courier New',monospace\">/home/nguyenhoa/miniconda3/envs/.henv/lib/python3.12/site-packages/pytorch_tabular/categorical_encoders.py:71: \n",
       "FutureWarning: A value is trying to be set on a copy of a DataFrame or Series through chained assignment using an \n",
       "inplace method.\n",
       "The behavior will change in pandas 3.0. This inplace method will never work because the intermediate object on \n",
       "which we are setting values always behaves as a copy.\n",
       "\n",
       "For example, when doing 'df[col].method(value, inplace=True)', try using 'df.method({col: value}, inplace=True)' or\n",
       "df[col] = df[col].method(value) instead, to perform the operation inplace on the original object.\n",
       "\n",
       "\n",
       "  X_encoded[col].fillna(self._imputed, inplace=True)\n",
       "</pre>\n"
      ],
      "text/plain": [
       "/home/nguyenhoa/miniconda3/envs/.henv/lib/python3.12/site-packages/pytorch_tabular/categorical_encoders.py:71: \n",
       "FutureWarning: A value is trying to be set on a copy of a DataFrame or Series through chained assignment using an \n",
       "inplace method.\n",
       "The behavior will change in pandas 3.0. This inplace method will never work because the intermediate object on \n",
       "which we are setting values always behaves as a copy.\n",
       "\n",
       "For example, when doing 'df[col].method(value, inplace=True)', try using 'df.method({col: value}, inplace=True)' or\n",
       "df[col] = df[col].method(value) instead, to perform the operation inplace on the original object.\n",
       "\n",
       "\n",
       "  X_encoded[col].fillna(self._imputed, inplace=True)\n"
      ]
     },
     "metadata": {},
     "output_type": "display_data"
    },
    {
     "data": {
      "text/html": [
       "<pre style=\"white-space:pre;overflow-x:auto;line-height:normal;font-family:Menlo,'DejaVu Sans Mono',consolas,'Courier New',monospace\">/home/nguyenhoa/miniconda3/envs/.henv/lib/python3.12/site-packages/pytorch_tabular/categorical_encoders.py:71: \n",
       "FutureWarning: A value is trying to be set on a copy of a DataFrame or Series through chained assignment using an \n",
       "inplace method.\n",
       "The behavior will change in pandas 3.0. This inplace method will never work because the intermediate object on \n",
       "which we are setting values always behaves as a copy.\n",
       "\n",
       "For example, when doing 'df[col].method(value, inplace=True)', try using 'df.method({col: value}, inplace=True)' or\n",
       "df[col] = df[col].method(value) instead, to perform the operation inplace on the original object.\n",
       "\n",
       "\n",
       "  X_encoded[col].fillna(self._imputed, inplace=True)\n",
       "</pre>\n"
      ],
      "text/plain": [
       "/home/nguyenhoa/miniconda3/envs/.henv/lib/python3.12/site-packages/pytorch_tabular/categorical_encoders.py:71: \n",
       "FutureWarning: A value is trying to be set on a copy of a DataFrame or Series through chained assignment using an \n",
       "inplace method.\n",
       "The behavior will change in pandas 3.0. This inplace method will never work because the intermediate object on \n",
       "which we are setting values always behaves as a copy.\n",
       "\n",
       "For example, when doing 'df[col].method(value, inplace=True)', try using 'df.method({col: value}, inplace=True)' or\n",
       "df[col] = df[col].method(value) instead, to perform the operation inplace on the original object.\n",
       "\n",
       "\n",
       "  X_encoded[col].fillna(self._imputed, inplace=True)\n"
      ]
     },
     "metadata": {},
     "output_type": "display_data"
    },
    {
     "data": {
      "text/html": [
       "<pre style=\"white-space:pre;overflow-x:auto;line-height:normal;font-family:Menlo,'DejaVu Sans Mono',consolas,'Courier New',monospace\">/home/nguyenhoa/miniconda3/envs/.henv/lib/python3.12/site-packages/pytorch_tabular/categorical_encoders.py:71: \n",
       "FutureWarning: A value is trying to be set on a copy of a DataFrame or Series through chained assignment using an \n",
       "inplace method.\n",
       "The behavior will change in pandas 3.0. This inplace method will never work because the intermediate object on \n",
       "which we are setting values always behaves as a copy.\n",
       "\n",
       "For example, when doing 'df[col].method(value, inplace=True)', try using 'df.method({col: value}, inplace=True)' or\n",
       "df[col] = df[col].method(value) instead, to perform the operation inplace on the original object.\n",
       "\n",
       "\n",
       "  X_encoded[col].fillna(self._imputed, inplace=True)\n",
       "</pre>\n"
      ],
      "text/plain": [
       "/home/nguyenhoa/miniconda3/envs/.henv/lib/python3.12/site-packages/pytorch_tabular/categorical_encoders.py:71: \n",
       "FutureWarning: A value is trying to be set on a copy of a DataFrame or Series through chained assignment using an \n",
       "inplace method.\n",
       "The behavior will change in pandas 3.0. This inplace method will never work because the intermediate object on \n",
       "which we are setting values always behaves as a copy.\n",
       "\n",
       "For example, when doing 'df[col].method(value, inplace=True)', try using 'df.method({col: value}, inplace=True)' or\n",
       "df[col] = df[col].method(value) instead, to perform the operation inplace on the original object.\n",
       "\n",
       "\n",
       "  X_encoded[col].fillna(self._imputed, inplace=True)\n"
      ]
     },
     "metadata": {},
     "output_type": "display_data"
    },
    {
     "data": {
      "text/html": [
       "<pre style=\"white-space:pre;overflow-x:auto;line-height:normal;font-family:Menlo,'DejaVu Sans Mono',consolas,'Courier New',monospace\">/home/nguyenhoa/miniconda3/envs/.henv/lib/python3.12/site-packages/pytorch_lightning/trainer/connectors/data_connec\n",
       "tor.py:424: The 'test_dataloader' does not have many workers which may be a bottleneck. Consider increasing the \n",
       "value of the `num_workers` argument` to `num_workers=127` in the `DataLoader` to improve performance.\n",
       "</pre>\n"
      ],
      "text/plain": [
       "/home/nguyenhoa/miniconda3/envs/.henv/lib/python3.12/site-packages/pytorch_lightning/trainer/connectors/data_connec\n",
       "tor.py:424: The 'test_dataloader' does not have many workers which may be a bottleneck. Consider increasing the \n",
       "value of the `num_workers` argument` to `num_workers=127` in the `DataLoader` to improve performance.\n"
      ]
     },
     "metadata": {},
     "output_type": "display_data"
    },
    {
     "data": {
      "text/html": [
       "<pre style=\"white-space:pre;overflow-x:auto;line-height:normal;font-family:Menlo,'DejaVu Sans Mono',consolas,'Courier New',monospace\"><span style=\"color: #008080; text-decoration-color: #008080; font-weight: bold\">2025</span>-<span style=\"color: #008080; text-decoration-color: #008080; font-weight: bold\">03</span>-<span style=\"color: #008080; text-decoration-color: #008080; font-weight: bold\">24</span> <span style=\"color: #00ff00; text-decoration-color: #00ff00; font-weight: bold\">03:42:29</span>,<span style=\"color: #008080; text-decoration-color: #008080; font-weight: bold\">483</span> - <span style=\"font-weight: bold\">{</span>pytorch_tabular:<span style=\"color: #008080; text-decoration-color: #008080; font-weight: bold\">382</span><span style=\"font-weight: bold\">}</span> - INFO - Finished Training NODEModel                               \n",
       "</pre>\n"
      ],
      "text/plain": [
       "\u001b[1;36m2025\u001b[0m-\u001b[1;36m03\u001b[0m-\u001b[1;36m24\u001b[0m \u001b[1;92m03:42:29\u001b[0m,\u001b[1;36m483\u001b[0m - \u001b[1m{\u001b[0mpytorch_tabular:\u001b[1;36m382\u001b[0m\u001b[1m}\u001b[0m - INFO - Finished Training NODEModel                               \n"
      ]
     },
     "metadata": {},
     "output_type": "display_data"
    },
    {
     "data": {
      "text/html": [
       "<pre style=\"white-space:pre;overflow-x:auto;line-height:normal;font-family:Menlo,'DejaVu Sans Mono',consolas,'Courier New',monospace\"><span style=\"color: #008080; text-decoration-color: #008080; font-weight: bold\">2025</span>-<span style=\"color: #008080; text-decoration-color: #008080; font-weight: bold\">03</span>-<span style=\"color: #008080; text-decoration-color: #008080; font-weight: bold\">24</span> <span style=\"color: #00ff00; text-decoration-color: #00ff00; font-weight: bold\">03:42:29</span>,<span style=\"color: #008080; text-decoration-color: #008080; font-weight: bold\">557</span> - <span style=\"font-weight: bold\">{</span>pytorch_tabular:<span style=\"color: #008080; text-decoration-color: #008080; font-weight: bold\">383</span><span style=\"font-weight: bold\">}</span> - INFO - Results: model: NODEModel, # Params: <span style=\"color: #008080; text-decoration-color: #008080; font-weight: bold\">3</span> M, epochs: <span style=\"color: #008080; text-decoration-color: #008080; font-weight: bold\">100</span>,    \n",
       "test_loss: <span style=\"color: #008080; text-decoration-color: #008080; font-weight: bold\">0.06832613795995712</span>, test_mean_squared_error: <span style=\"color: #008080; text-decoration-color: #008080; font-weight: bold\">0.06832613795995712</span>, time_taken: <span style=\"color: #008080; text-decoration-color: #008080; font-weight: bold\">81.989905834198</span>,         \n",
       "time_taken_per_epoch: <span style=\"color: #008080; text-decoration-color: #008080; font-weight: bold\">0.81989905834198</span>                                                                             \n",
       "</pre>\n"
      ],
      "text/plain": [
       "\u001b[1;36m2025\u001b[0m-\u001b[1;36m03\u001b[0m-\u001b[1;36m24\u001b[0m \u001b[1;92m03:42:29\u001b[0m,\u001b[1;36m557\u001b[0m - \u001b[1m{\u001b[0mpytorch_tabular:\u001b[1;36m383\u001b[0m\u001b[1m}\u001b[0m - INFO - Results: model: NODEModel, # Params: \u001b[1;36m3\u001b[0m M, epochs: \u001b[1;36m100\u001b[0m,    \n",
       "test_loss: \u001b[1;36m0.06832613795995712\u001b[0m, test_mean_squared_error: \u001b[1;36m0.06832613795995712\u001b[0m, time_taken: \u001b[1;36m81.989905834198\u001b[0m,         \n",
       "time_taken_per_epoch: \u001b[1;36m0.81989905834198\u001b[0m                                                                             \n"
      ]
     },
     "metadata": {},
     "output_type": "display_data"
    },
    {
     "data": {
      "text/html": [
       "<pre style=\"white-space:pre;overflow-x:auto;line-height:normal;font-family:Menlo,'DejaVu Sans Mono',consolas,'Courier New',monospace\">/home/nguyenhoa/miniconda3/envs/.henv/lib/python3.12/site-packages/pytorch_lightning/callbacks/model_checkpoint.py:\n",
       "654: Checkpoint directory /home/nguyenhoa/hoa/up5/final/src/saved_models exists and is not empty.\n",
       "</pre>\n"
      ],
      "text/plain": [
       "/home/nguyenhoa/miniconda3/envs/.henv/lib/python3.12/site-packages/pytorch_lightning/callbacks/model_checkpoint.py:\n",
       "654: Checkpoint directory /home/nguyenhoa/hoa/up5/final/src/saved_models exists and is not empty.\n"
      ]
     },
     "metadata": {},
     "output_type": "display_data"
    },
    {
     "data": {
      "text/html": [
       "<pre style=\"white-space:pre;overflow-x:auto;line-height:normal;font-family:Menlo,'DejaVu Sans Mono',consolas,'Courier New',monospace\">/home/nguyenhoa/miniconda3/envs/.henv/lib/python3.12/site-packages/pytorch_lightning/trainer/connectors/data_connec\n",
       "tor.py:424: The 'val_dataloader' does not have many workers which may be a bottleneck. Consider increasing the \n",
       "value of the `num_workers` argument` to `num_workers=127` in the `DataLoader` to improve performance.\n",
       "</pre>\n"
      ],
      "text/plain": [
       "/home/nguyenhoa/miniconda3/envs/.henv/lib/python3.12/site-packages/pytorch_lightning/trainer/connectors/data_connec\n",
       "tor.py:424: The 'val_dataloader' does not have many workers which may be a bottleneck. Consider increasing the \n",
       "value of the `num_workers` argument` to `num_workers=127` in the `DataLoader` to improve performance.\n"
      ]
     },
     "metadata": {},
     "output_type": "display_data"
    },
    {
     "data": {
      "text/html": [
       "<pre style=\"white-space:pre;overflow-x:auto;line-height:normal;font-family:Menlo,'DejaVu Sans Mono',consolas,'Courier New',monospace\">/home/nguyenhoa/miniconda3/envs/.henv/lib/python3.12/site-packages/pytorch_lightning/trainer/connectors/data_connec\n",
       "tor.py:424: The 'train_dataloader' does not have many workers which may be a bottleneck. Consider increasing the \n",
       "value of the `num_workers` argument` to `num_workers=127` in the `DataLoader` to improve performance.\n",
       "</pre>\n"
      ],
      "text/plain": [
       "/home/nguyenhoa/miniconda3/envs/.henv/lib/python3.12/site-packages/pytorch_lightning/trainer/connectors/data_connec\n",
       "tor.py:424: The 'train_dataloader' does not have many workers which may be a bottleneck. Consider increasing the \n",
       "value of the `num_workers` argument` to `num_workers=127` in the `DataLoader` to improve performance.\n"
      ]
     },
     "metadata": {},
     "output_type": "display_data"
    },
    {
     "data": {
      "text/html": [
       "<pre style=\"white-space:pre;overflow-x:auto;line-height:normal;font-family:Menlo,'DejaVu Sans Mono',consolas,'Courier New',monospace\">/home/nguyenhoa/miniconda3/envs/.henv/lib/python3.12/site-packages/pytorch_lightning/loops/fit_loop.py:298: The \n",
       "number of training batches (25) is smaller than the logging interval Trainer(log_every_n_steps=50). Set a lower \n",
       "value for log_every_n_steps if you want to see logs for the training epoch.\n",
       "</pre>\n"
      ],
      "text/plain": [
       "/home/nguyenhoa/miniconda3/envs/.henv/lib/python3.12/site-packages/pytorch_lightning/loops/fit_loop.py:298: The \n",
       "number of training batches (25) is smaller than the logging interval Trainer(log_every_n_steps=50). Set a lower \n",
       "value for log_every_n_steps if you want to see logs for the training epoch.\n"
      ]
     },
     "metadata": {},
     "output_type": "display_data"
    },
    {
     "data": {
      "text/html": [
       "<pre style=\"white-space:pre;overflow-x:auto;line-height:normal;font-family:Menlo,'DejaVu Sans Mono',consolas,'Courier New',monospace\">/home/nguyenhoa/miniconda3/envs/.henv/lib/python3.12/site-packages/pytorch_tabular/categorical_encoders.py:71: \n",
       "FutureWarning: A value is trying to be set on a copy of a DataFrame or Series through chained assignment using an \n",
       "inplace method.\n",
       "The behavior will change in pandas 3.0. This inplace method will never work because the intermediate object on \n",
       "which we are setting values always behaves as a copy.\n",
       "\n",
       "For example, when doing 'df[col].method(value, inplace=True)', try using 'df.method({col: value}, inplace=True)' or\n",
       "df[col] = df[col].method(value) instead, to perform the operation inplace on the original object.\n",
       "\n",
       "\n",
       "  X_encoded[col].fillna(self._imputed, inplace=True)\n",
       "</pre>\n"
      ],
      "text/plain": [
       "/home/nguyenhoa/miniconda3/envs/.henv/lib/python3.12/site-packages/pytorch_tabular/categorical_encoders.py:71: \n",
       "FutureWarning: A value is trying to be set on a copy of a DataFrame or Series through chained assignment using an \n",
       "inplace method.\n",
       "The behavior will change in pandas 3.0. This inplace method will never work because the intermediate object on \n",
       "which we are setting values always behaves as a copy.\n",
       "\n",
       "For example, when doing 'df[col].method(value, inplace=True)', try using 'df.method({col: value}, inplace=True)' or\n",
       "df[col] = df[col].method(value) instead, to perform the operation inplace on the original object.\n",
       "\n",
       "\n",
       "  X_encoded[col].fillna(self._imputed, inplace=True)\n"
      ]
     },
     "metadata": {},
     "output_type": "display_data"
    },
    {
     "data": {
      "text/html": [
       "<pre style=\"white-space:pre;overflow-x:auto;line-height:normal;font-family:Menlo,'DejaVu Sans Mono',consolas,'Courier New',monospace\">/home/nguyenhoa/miniconda3/envs/.henv/lib/python3.12/site-packages/pytorch_tabular/categorical_encoders.py:71: \n",
       "FutureWarning: A value is trying to be set on a copy of a DataFrame or Series through chained assignment using an \n",
       "inplace method.\n",
       "The behavior will change in pandas 3.0. This inplace method will never work because the intermediate object on \n",
       "which we are setting values always behaves as a copy.\n",
       "\n",
       "For example, when doing 'df[col].method(value, inplace=True)', try using 'df.method({col: value}, inplace=True)' or\n",
       "df[col] = df[col].method(value) instead, to perform the operation inplace on the original object.\n",
       "\n",
       "\n",
       "  X_encoded[col].fillna(self._imputed, inplace=True)\n",
       "</pre>\n"
      ],
      "text/plain": [
       "/home/nguyenhoa/miniconda3/envs/.henv/lib/python3.12/site-packages/pytorch_tabular/categorical_encoders.py:71: \n",
       "FutureWarning: A value is trying to be set on a copy of a DataFrame or Series through chained assignment using an \n",
       "inplace method.\n",
       "The behavior will change in pandas 3.0. This inplace method will never work because the intermediate object on \n",
       "which we are setting values always behaves as a copy.\n",
       "\n",
       "For example, when doing 'df[col].method(value, inplace=True)', try using 'df.method({col: value}, inplace=True)' or\n",
       "df[col] = df[col].method(value) instead, to perform the operation inplace on the original object.\n",
       "\n",
       "\n",
       "  X_encoded[col].fillna(self._imputed, inplace=True)\n"
      ]
     },
     "metadata": {},
     "output_type": "display_data"
    },
    {
     "data": {
      "text/html": [
       "<pre style=\"white-space:pre;overflow-x:auto;line-height:normal;font-family:Menlo,'DejaVu Sans Mono',consolas,'Courier New',monospace\">/home/nguyenhoa/miniconda3/envs/.henv/lib/python3.12/site-packages/pytorch_tabular/categorical_encoders.py:71: \n",
       "FutureWarning: A value is trying to be set on a copy of a DataFrame or Series through chained assignment using an \n",
       "inplace method.\n",
       "The behavior will change in pandas 3.0. This inplace method will never work because the intermediate object on \n",
       "which we are setting values always behaves as a copy.\n",
       "\n",
       "For example, when doing 'df[col].method(value, inplace=True)', try using 'df.method({col: value}, inplace=True)' or\n",
       "df[col] = df[col].method(value) instead, to perform the operation inplace on the original object.\n",
       "\n",
       "\n",
       "  X_encoded[col].fillna(self._imputed, inplace=True)\n",
       "</pre>\n"
      ],
      "text/plain": [
       "/home/nguyenhoa/miniconda3/envs/.henv/lib/python3.12/site-packages/pytorch_tabular/categorical_encoders.py:71: \n",
       "FutureWarning: A value is trying to be set on a copy of a DataFrame or Series through chained assignment using an \n",
       "inplace method.\n",
       "The behavior will change in pandas 3.0. This inplace method will never work because the intermediate object on \n",
       "which we are setting values always behaves as a copy.\n",
       "\n",
       "For example, when doing 'df[col].method(value, inplace=True)', try using 'df.method({col: value}, inplace=True)' or\n",
       "df[col] = df[col].method(value) instead, to perform the operation inplace on the original object.\n",
       "\n",
       "\n",
       "  X_encoded[col].fillna(self._imputed, inplace=True)\n"
      ]
     },
     "metadata": {},
     "output_type": "display_data"
    },
    {
     "data": {
      "text/html": [
       "<pre style=\"white-space:pre;overflow-x:auto;line-height:normal;font-family:Menlo,'DejaVu Sans Mono',consolas,'Courier New',monospace\">/home/nguyenhoa/miniconda3/envs/.henv/lib/python3.12/site-packages/pytorch_tabular/categorical_encoders.py:71: \n",
       "FutureWarning: A value is trying to be set on a copy of a DataFrame or Series through chained assignment using an \n",
       "inplace method.\n",
       "The behavior will change in pandas 3.0. This inplace method will never work because the intermediate object on \n",
       "which we are setting values always behaves as a copy.\n",
       "\n",
       "For example, when doing 'df[col].method(value, inplace=True)', try using 'df.method({col: value}, inplace=True)' or\n",
       "df[col] = df[col].method(value) instead, to perform the operation inplace on the original object.\n",
       "\n",
       "\n",
       "  X_encoded[col].fillna(self._imputed, inplace=True)\n",
       "</pre>\n"
      ],
      "text/plain": [
       "/home/nguyenhoa/miniconda3/envs/.henv/lib/python3.12/site-packages/pytorch_tabular/categorical_encoders.py:71: \n",
       "FutureWarning: A value is trying to be set on a copy of a DataFrame or Series through chained assignment using an \n",
       "inplace method.\n",
       "The behavior will change in pandas 3.0. This inplace method will never work because the intermediate object on \n",
       "which we are setting values always behaves as a copy.\n",
       "\n",
       "For example, when doing 'df[col].method(value, inplace=True)', try using 'df.method({col: value}, inplace=True)' or\n",
       "df[col] = df[col].method(value) instead, to perform the operation inplace on the original object.\n",
       "\n",
       "\n",
       "  X_encoded[col].fillna(self._imputed, inplace=True)\n"
      ]
     },
     "metadata": {},
     "output_type": "display_data"
    },
    {
     "data": {
      "text/html": [
       "<pre style=\"white-space:pre;overflow-x:auto;line-height:normal;font-family:Menlo,'DejaVu Sans Mono',consolas,'Courier New',monospace\">/home/nguyenhoa/miniconda3/envs/.henv/lib/python3.12/site-packages/pytorch_tabular/categorical_encoders.py:71: \n",
       "FutureWarning: A value is trying to be set on a copy of a DataFrame or Series through chained assignment using an \n",
       "inplace method.\n",
       "The behavior will change in pandas 3.0. This inplace method will never work because the intermediate object on \n",
       "which we are setting values always behaves as a copy.\n",
       "\n",
       "For example, when doing 'df[col].method(value, inplace=True)', try using 'df.method({col: value}, inplace=True)' or\n",
       "df[col] = df[col].method(value) instead, to perform the operation inplace on the original object.\n",
       "\n",
       "\n",
       "  X_encoded[col].fillna(self._imputed, inplace=True)\n",
       "</pre>\n"
      ],
      "text/plain": [
       "/home/nguyenhoa/miniconda3/envs/.henv/lib/python3.12/site-packages/pytorch_tabular/categorical_encoders.py:71: \n",
       "FutureWarning: A value is trying to be set on a copy of a DataFrame or Series through chained assignment using an \n",
       "inplace method.\n",
       "The behavior will change in pandas 3.0. This inplace method will never work because the intermediate object on \n",
       "which we are setting values always behaves as a copy.\n",
       "\n",
       "For example, when doing 'df[col].method(value, inplace=True)', try using 'df.method({col: value}, inplace=True)' or\n",
       "df[col] = df[col].method(value) instead, to perform the operation inplace on the original object.\n",
       "\n",
       "\n",
       "  X_encoded[col].fillna(self._imputed, inplace=True)\n"
      ]
     },
     "metadata": {},
     "output_type": "display_data"
    },
    {
     "data": {
      "text/html": [
       "<pre style=\"white-space:pre;overflow-x:auto;line-height:normal;font-family:Menlo,'DejaVu Sans Mono',consolas,'Courier New',monospace\">/home/nguyenhoa/miniconda3/envs/.henv/lib/python3.12/site-packages/pytorch_tabular/categorical_encoders.py:71: \n",
       "FutureWarning: A value is trying to be set on a copy of a DataFrame or Series through chained assignment using an \n",
       "inplace method.\n",
       "The behavior will change in pandas 3.0. This inplace method will never work because the intermediate object on \n",
       "which we are setting values always behaves as a copy.\n",
       "\n",
       "For example, when doing 'df[col].method(value, inplace=True)', try using 'df.method({col: value}, inplace=True)' or\n",
       "df[col] = df[col].method(value) instead, to perform the operation inplace on the original object.\n",
       "\n",
       "\n",
       "  X_encoded[col].fillna(self._imputed, inplace=True)\n",
       "</pre>\n"
      ],
      "text/plain": [
       "/home/nguyenhoa/miniconda3/envs/.henv/lib/python3.12/site-packages/pytorch_tabular/categorical_encoders.py:71: \n",
       "FutureWarning: A value is trying to be set on a copy of a DataFrame or Series through chained assignment using an \n",
       "inplace method.\n",
       "The behavior will change in pandas 3.0. This inplace method will never work because the intermediate object on \n",
       "which we are setting values always behaves as a copy.\n",
       "\n",
       "For example, when doing 'df[col].method(value, inplace=True)', try using 'df.method({col: value}, inplace=True)' or\n",
       "df[col] = df[col].method(value) instead, to perform the operation inplace on the original object.\n",
       "\n",
       "\n",
       "  X_encoded[col].fillna(self._imputed, inplace=True)\n"
      ]
     },
     "metadata": {},
     "output_type": "display_data"
    },
    {
     "data": {
      "text/html": [
       "<pre style=\"white-space:pre;overflow-x:auto;line-height:normal;font-family:Menlo,'DejaVu Sans Mono',consolas,'Courier New',monospace\">/home/nguyenhoa/miniconda3/envs/.henv/lib/python3.12/site-packages/pytorch_tabular/categorical_encoders.py:71: \n",
       "FutureWarning: A value is trying to be set on a copy of a DataFrame or Series through chained assignment using an \n",
       "inplace method.\n",
       "The behavior will change in pandas 3.0. This inplace method will never work because the intermediate object on \n",
       "which we are setting values always behaves as a copy.\n",
       "\n",
       "For example, when doing 'df[col].method(value, inplace=True)', try using 'df.method({col: value}, inplace=True)' or\n",
       "df[col] = df[col].method(value) instead, to perform the operation inplace on the original object.\n",
       "\n",
       "\n",
       "  X_encoded[col].fillna(self._imputed, inplace=True)\n",
       "</pre>\n"
      ],
      "text/plain": [
       "/home/nguyenhoa/miniconda3/envs/.henv/lib/python3.12/site-packages/pytorch_tabular/categorical_encoders.py:71: \n",
       "FutureWarning: A value is trying to be set on a copy of a DataFrame or Series through chained assignment using an \n",
       "inplace method.\n",
       "The behavior will change in pandas 3.0. This inplace method will never work because the intermediate object on \n",
       "which we are setting values always behaves as a copy.\n",
       "\n",
       "For example, when doing 'df[col].method(value, inplace=True)', try using 'df.method({col: value}, inplace=True)' or\n",
       "df[col] = df[col].method(value) instead, to perform the operation inplace on the original object.\n",
       "\n",
       "\n",
       "  X_encoded[col].fillna(self._imputed, inplace=True)\n"
      ]
     },
     "metadata": {},
     "output_type": "display_data"
    },
    {
     "data": {
      "text/html": [
       "<pre style=\"white-space:pre;overflow-x:auto;line-height:normal;font-family:Menlo,'DejaVu Sans Mono',consolas,'Courier New',monospace\">/home/nguyenhoa/miniconda3/envs/.henv/lib/python3.12/site-packages/pytorch_tabular/categorical_encoders.py:71: \n",
       "FutureWarning: A value is trying to be set on a copy of a DataFrame or Series through chained assignment using an \n",
       "inplace method.\n",
       "The behavior will change in pandas 3.0. This inplace method will never work because the intermediate object on \n",
       "which we are setting values always behaves as a copy.\n",
       "\n",
       "For example, when doing 'df[col].method(value, inplace=True)', try using 'df.method({col: value}, inplace=True)' or\n",
       "df[col] = df[col].method(value) instead, to perform the operation inplace on the original object.\n",
       "\n",
       "\n",
       "  X_encoded[col].fillna(self._imputed, inplace=True)\n",
       "</pre>\n"
      ],
      "text/plain": [
       "/home/nguyenhoa/miniconda3/envs/.henv/lib/python3.12/site-packages/pytorch_tabular/categorical_encoders.py:71: \n",
       "FutureWarning: A value is trying to be set on a copy of a DataFrame or Series through chained assignment using an \n",
       "inplace method.\n",
       "The behavior will change in pandas 3.0. This inplace method will never work because the intermediate object on \n",
       "which we are setting values always behaves as a copy.\n",
       "\n",
       "For example, when doing 'df[col].method(value, inplace=True)', try using 'df.method({col: value}, inplace=True)' or\n",
       "df[col] = df[col].method(value) instead, to perform the operation inplace on the original object.\n",
       "\n",
       "\n",
       "  X_encoded[col].fillna(self._imputed, inplace=True)\n"
      ]
     },
     "metadata": {},
     "output_type": "display_data"
    },
    {
     "data": {
      "text/html": [
       "<pre style=\"white-space:pre;overflow-x:auto;line-height:normal;font-family:Menlo,'DejaVu Sans Mono',consolas,'Courier New',monospace\">/home/nguyenhoa/miniconda3/envs/.henv/lib/python3.12/site-packages/pytorch_tabular/categorical_encoders.py:71: \n",
       "FutureWarning: A value is trying to be set on a copy of a DataFrame or Series through chained assignment using an \n",
       "inplace method.\n",
       "The behavior will change in pandas 3.0. This inplace method will never work because the intermediate object on \n",
       "which we are setting values always behaves as a copy.\n",
       "\n",
       "For example, when doing 'df[col].method(value, inplace=True)', try using 'df.method({col: value}, inplace=True)' or\n",
       "df[col] = df[col].method(value) instead, to perform the operation inplace on the original object.\n",
       "\n",
       "\n",
       "  X_encoded[col].fillna(self._imputed, inplace=True)\n",
       "</pre>\n"
      ],
      "text/plain": [
       "/home/nguyenhoa/miniconda3/envs/.henv/lib/python3.12/site-packages/pytorch_tabular/categorical_encoders.py:71: \n",
       "FutureWarning: A value is trying to be set on a copy of a DataFrame or Series through chained assignment using an \n",
       "inplace method.\n",
       "The behavior will change in pandas 3.0. This inplace method will never work because the intermediate object on \n",
       "which we are setting values always behaves as a copy.\n",
       "\n",
       "For example, when doing 'df[col].method(value, inplace=True)', try using 'df.method({col: value}, inplace=True)' or\n",
       "df[col] = df[col].method(value) instead, to perform the operation inplace on the original object.\n",
       "\n",
       "\n",
       "  X_encoded[col].fillna(self._imputed, inplace=True)\n"
      ]
     },
     "metadata": {},
     "output_type": "display_data"
    },
    {
     "data": {
      "text/html": [
       "<pre style=\"white-space:pre;overflow-x:auto;line-height:normal;font-family:Menlo,'DejaVu Sans Mono',consolas,'Courier New',monospace\">/home/nguyenhoa/miniconda3/envs/.henv/lib/python3.12/site-packages/pytorch_lightning/trainer/connectors/data_connec\n",
       "tor.py:424: The 'test_dataloader' does not have many workers which may be a bottleneck. Consider increasing the \n",
       "value of the `num_workers` argument` to `num_workers=127` in the `DataLoader` to improve performance.\n",
       "</pre>\n"
      ],
      "text/plain": [
       "/home/nguyenhoa/miniconda3/envs/.henv/lib/python3.12/site-packages/pytorch_lightning/trainer/connectors/data_connec\n",
       "tor.py:424: The 'test_dataloader' does not have many workers which may be a bottleneck. Consider increasing the \n",
       "value of the `num_workers` argument` to `num_workers=127` in the `DataLoader` to improve performance.\n"
      ]
     },
     "metadata": {},
     "output_type": "display_data"
    },
    {
     "data": {
      "text/html": [
       "<pre style=\"white-space:pre;overflow-x:auto;line-height:normal;font-family:Menlo,'DejaVu Sans Mono',consolas,'Courier New',monospace\"><span style=\"color: #008080; text-decoration-color: #008080; font-weight: bold\">2025</span>-<span style=\"color: #008080; text-decoration-color: #008080; font-weight: bold\">03</span>-<span style=\"color: #008080; text-decoration-color: #008080; font-weight: bold\">24</span> <span style=\"color: #00ff00; text-decoration-color: #00ff00; font-weight: bold\">03:45:06</span>,<span style=\"color: #008080; text-decoration-color: #008080; font-weight: bold\">552</span> - <span style=\"font-weight: bold\">{</span>pytorch_tabular:<span style=\"color: #008080; text-decoration-color: #008080; font-weight: bold\">382</span><span style=\"font-weight: bold\">}</span> - INFO - Finished Training TabNetModel                             \n",
       "</pre>\n"
      ],
      "text/plain": [
       "\u001b[1;36m2025\u001b[0m-\u001b[1;36m03\u001b[0m-\u001b[1;36m24\u001b[0m \u001b[1;92m03:45:06\u001b[0m,\u001b[1;36m552\u001b[0m - \u001b[1m{\u001b[0mpytorch_tabular:\u001b[1;36m382\u001b[0m\u001b[1m}\u001b[0m - INFO - Finished Training TabNetModel                             \n"
      ]
     },
     "metadata": {},
     "output_type": "display_data"
    },
    {
     "data": {
      "text/html": [
       "<pre style=\"white-space:pre;overflow-x:auto;line-height:normal;font-family:Menlo,'DejaVu Sans Mono',consolas,'Courier New',monospace\"><span style=\"color: #008080; text-decoration-color: #008080; font-weight: bold\">2025</span>-<span style=\"color: #008080; text-decoration-color: #008080; font-weight: bold\">03</span>-<span style=\"color: #008080; text-decoration-color: #008080; font-weight: bold\">24</span> <span style=\"color: #00ff00; text-decoration-color: #00ff00; font-weight: bold\">03:45:06</span>,<span style=\"color: #008080; text-decoration-color: #008080; font-weight: bold\">553</span> - <span style=\"font-weight: bold\">{</span>pytorch_tabular:<span style=\"color: #008080; text-decoration-color: #008080; font-weight: bold\">383</span><span style=\"font-weight: bold\">}</span> - INFO - Results: model: TabNetModel, # Params: <span style=\"color: #008080; text-decoration-color: #008080; font-weight: bold\">21</span> T, epochs: <span style=\"color: #008080; text-decoration-color: #008080; font-weight: bold\">100</span>, \n",
       "test_loss: <span style=\"color: #008080; text-decoration-color: #008080; font-weight: bold\">0.12789128720760345</span>, test_mean_squared_error: <span style=\"color: #008080; text-decoration-color: #008080; font-weight: bold\">0.12789128720760345</span>, time_taken: <span style=\"color: #008080; text-decoration-color: #008080; font-weight: bold\">156.9506058692932</span>,       \n",
       "time_taken_per_epoch: <span style=\"color: #008080; text-decoration-color: #008080; font-weight: bold\">1.5695060586929321</span>                                                                           \n",
       "</pre>\n"
      ],
      "text/plain": [
       "\u001b[1;36m2025\u001b[0m-\u001b[1;36m03\u001b[0m-\u001b[1;36m24\u001b[0m \u001b[1;92m03:45:06\u001b[0m,\u001b[1;36m553\u001b[0m - \u001b[1m{\u001b[0mpytorch_tabular:\u001b[1;36m383\u001b[0m\u001b[1m}\u001b[0m - INFO - Results: model: TabNetModel, # Params: \u001b[1;36m21\u001b[0m T, epochs: \u001b[1;36m100\u001b[0m, \n",
       "test_loss: \u001b[1;36m0.12789128720760345\u001b[0m, test_mean_squared_error: \u001b[1;36m0.12789128720760345\u001b[0m, time_taken: \u001b[1;36m156.9506058692932\u001b[0m,       \n",
       "time_taken_per_epoch: \u001b[1;36m1.5695060586929321\u001b[0m                                                                           \n"
      ]
     },
     "metadata": {},
     "output_type": "display_data"
    },
    {
     "data": {
      "text/html": [
       "<pre style=\"white-space:pre;overflow-x:auto;line-height:normal;font-family:Menlo,'DejaVu Sans Mono',consolas,'Courier New',monospace\"><span style=\"color: #008080; text-decoration-color: #008080; font-weight: bold\">2025</span>-<span style=\"color: #008080; text-decoration-color: #008080; font-weight: bold\">03</span>-<span style=\"color: #008080; text-decoration-color: #008080; font-weight: bold\">24</span> <span style=\"color: #00ff00; text-decoration-color: #00ff00; font-weight: bold\">03:45:06</span>,<span style=\"color: #008080; text-decoration-color: #008080; font-weight: bold\">598</span> - <span style=\"font-weight: bold\">{</span>pytorch_tabular:<span style=\"color: #008080; text-decoration-color: #008080; font-weight: bold\">328</span><span style=\"font-weight: bold\">}</span> - INFO - Training TabTransformerModel                              \n",
       "</pre>\n"
      ],
      "text/plain": [
       "\u001b[1;36m2025\u001b[0m-\u001b[1;36m03\u001b[0m-\u001b[1;36m24\u001b[0m \u001b[1;92m03:45:06\u001b[0m,\u001b[1;36m598\u001b[0m - \u001b[1m{\u001b[0mpytorch_tabular:\u001b[1;36m328\u001b[0m\u001b[1m}\u001b[0m - INFO - Training TabTransformerModel                              \n"
      ]
     },
     "metadata": {},
     "output_type": "display_data"
    },
    {
     "data": {
      "text/html": [
       "<pre style=\"white-space:pre;overflow-x:auto;line-height:normal;font-family:Menlo,'DejaVu Sans Mono',consolas,'Courier New',monospace\">/home/nguyenhoa/miniconda3/envs/.henv/lib/python3.12/site-packages/pytorch_lightning/trainer/connectors/data_connec\n",
       "tor.py:424: The 'val_dataloader' does not have many workers which may be a bottleneck. Consider increasing the \n",
       "value of the `num_workers` argument` to `num_workers=127` in the `DataLoader` to improve performance.\n",
       "</pre>\n"
      ],
      "text/plain": [
       "/home/nguyenhoa/miniconda3/envs/.henv/lib/python3.12/site-packages/pytorch_lightning/trainer/connectors/data_connec\n",
       "tor.py:424: The 'val_dataloader' does not have many workers which may be a bottleneck. Consider increasing the \n",
       "value of the `num_workers` argument` to `num_workers=127` in the `DataLoader` to improve performance.\n"
      ]
     },
     "metadata": {},
     "output_type": "display_data"
    },
    {
     "data": {
      "text/html": [
       "<pre style=\"white-space:pre;overflow-x:auto;line-height:normal;font-family:Menlo,'DejaVu Sans Mono',consolas,'Courier New',monospace\">/home/nguyenhoa/miniconda3/envs/.henv/lib/python3.12/site-packages/pytorch_lightning/trainer/connectors/data_connec\n",
       "tor.py:424: The 'train_dataloader' does not have many workers which may be a bottleneck. Consider increasing the \n",
       "value of the `num_workers` argument` to `num_workers=127` in the `DataLoader` to improve performance.\n",
       "</pre>\n"
      ],
      "text/plain": [
       "/home/nguyenhoa/miniconda3/envs/.henv/lib/python3.12/site-packages/pytorch_lightning/trainer/connectors/data_connec\n",
       "tor.py:424: The 'train_dataloader' does not have many workers which may be a bottleneck. Consider increasing the \n",
       "value of the `num_workers` argument` to `num_workers=127` in the `DataLoader` to improve performance.\n"
      ]
     },
     "metadata": {},
     "output_type": "display_data"
    },
    {
     "data": {
      "text/html": [
       "<pre style=\"white-space:pre;overflow-x:auto;line-height:normal;font-family:Menlo,'DejaVu Sans Mono',consolas,'Courier New',monospace\">/home/nguyenhoa/miniconda3/envs/.henv/lib/python3.12/site-packages/pytorch_lightning/loops/fit_loop.py:298: The \n",
       "number of training batches (25) is smaller than the logging interval Trainer(log_every_n_steps=50). Set a lower \n",
       "value for log_every_n_steps if you want to see logs for the training epoch.\n",
       "</pre>\n"
      ],
      "text/plain": [
       "/home/nguyenhoa/miniconda3/envs/.henv/lib/python3.12/site-packages/pytorch_lightning/loops/fit_loop.py:298: The \n",
       "number of training batches (25) is smaller than the logging interval Trainer(log_every_n_steps=50). Set a lower \n",
       "value for log_every_n_steps if you want to see logs for the training epoch.\n"
      ]
     },
     "metadata": {},
     "output_type": "display_data"
    },
    {
     "data": {
      "text/html": [
       "<pre style=\"white-space:pre;overflow-x:auto;line-height:normal;font-family:Menlo,'DejaVu Sans Mono',consolas,'Courier New',monospace\">/home/nguyenhoa/miniconda3/envs/.henv/lib/python3.12/site-packages/pytorch_tabular/categorical_encoders.py:71: \n",
       "FutureWarning: A value is trying to be set on a copy of a DataFrame or Series through chained assignment using an \n",
       "inplace method.\n",
       "The behavior will change in pandas 3.0. This inplace method will never work because the intermediate object on \n",
       "which we are setting values always behaves as a copy.\n",
       "\n",
       "For example, when doing 'df[col].method(value, inplace=True)', try using 'df.method({col: value}, inplace=True)' or\n",
       "df[col] = df[col].method(value) instead, to perform the operation inplace on the original object.\n",
       "\n",
       "\n",
       "  X_encoded[col].fillna(self._imputed, inplace=True)\n",
       "</pre>\n"
      ],
      "text/plain": [
       "/home/nguyenhoa/miniconda3/envs/.henv/lib/python3.12/site-packages/pytorch_tabular/categorical_encoders.py:71: \n",
       "FutureWarning: A value is trying to be set on a copy of a DataFrame or Series through chained assignment using an \n",
       "inplace method.\n",
       "The behavior will change in pandas 3.0. This inplace method will never work because the intermediate object on \n",
       "which we are setting values always behaves as a copy.\n",
       "\n",
       "For example, when doing 'df[col].method(value, inplace=True)', try using 'df.method({col: value}, inplace=True)' or\n",
       "df[col] = df[col].method(value) instead, to perform the operation inplace on the original object.\n",
       "\n",
       "\n",
       "  X_encoded[col].fillna(self._imputed, inplace=True)\n"
      ]
     },
     "metadata": {},
     "output_type": "display_data"
    },
    {
     "data": {
      "text/html": [
       "<pre style=\"white-space:pre;overflow-x:auto;line-height:normal;font-family:Menlo,'DejaVu Sans Mono',consolas,'Courier New',monospace\">/home/nguyenhoa/miniconda3/envs/.henv/lib/python3.12/site-packages/pytorch_tabular/categorical_encoders.py:71: \n",
       "FutureWarning: A value is trying to be set on a copy of a DataFrame or Series through chained assignment using an \n",
       "inplace method.\n",
       "The behavior will change in pandas 3.0. This inplace method will never work because the intermediate object on \n",
       "which we are setting values always behaves as a copy.\n",
       "\n",
       "For example, when doing 'df[col].method(value, inplace=True)', try using 'df.method({col: value}, inplace=True)' or\n",
       "df[col] = df[col].method(value) instead, to perform the operation inplace on the original object.\n",
       "\n",
       "\n",
       "  X_encoded[col].fillna(self._imputed, inplace=True)\n",
       "</pre>\n"
      ],
      "text/plain": [
       "/home/nguyenhoa/miniconda3/envs/.henv/lib/python3.12/site-packages/pytorch_tabular/categorical_encoders.py:71: \n",
       "FutureWarning: A value is trying to be set on a copy of a DataFrame or Series through chained assignment using an \n",
       "inplace method.\n",
       "The behavior will change in pandas 3.0. This inplace method will never work because the intermediate object on \n",
       "which we are setting values always behaves as a copy.\n",
       "\n",
       "For example, when doing 'df[col].method(value, inplace=True)', try using 'df.method({col: value}, inplace=True)' or\n",
       "df[col] = df[col].method(value) instead, to perform the operation inplace on the original object.\n",
       "\n",
       "\n",
       "  X_encoded[col].fillna(self._imputed, inplace=True)\n"
      ]
     },
     "metadata": {},
     "output_type": "display_data"
    },
    {
     "data": {
      "text/html": [
       "<pre style=\"white-space:pre;overflow-x:auto;line-height:normal;font-family:Menlo,'DejaVu Sans Mono',consolas,'Courier New',monospace\">/home/nguyenhoa/miniconda3/envs/.henv/lib/python3.12/site-packages/pytorch_tabular/categorical_encoders.py:71: \n",
       "FutureWarning: A value is trying to be set on a copy of a DataFrame or Series through chained assignment using an \n",
       "inplace method.\n",
       "The behavior will change in pandas 3.0. This inplace method will never work because the intermediate object on \n",
       "which we are setting values always behaves as a copy.\n",
       "\n",
       "For example, when doing 'df[col].method(value, inplace=True)', try using 'df.method({col: value}, inplace=True)' or\n",
       "df[col] = df[col].method(value) instead, to perform the operation inplace on the original object.\n",
       "\n",
       "\n",
       "  X_encoded[col].fillna(self._imputed, inplace=True)\n",
       "</pre>\n"
      ],
      "text/plain": [
       "/home/nguyenhoa/miniconda3/envs/.henv/lib/python3.12/site-packages/pytorch_tabular/categorical_encoders.py:71: \n",
       "FutureWarning: A value is trying to be set on a copy of a DataFrame or Series through chained assignment using an \n",
       "inplace method.\n",
       "The behavior will change in pandas 3.0. This inplace method will never work because the intermediate object on \n",
       "which we are setting values always behaves as a copy.\n",
       "\n",
       "For example, when doing 'df[col].method(value, inplace=True)', try using 'df.method({col: value}, inplace=True)' or\n",
       "df[col] = df[col].method(value) instead, to perform the operation inplace on the original object.\n",
       "\n",
       "\n",
       "  X_encoded[col].fillna(self._imputed, inplace=True)\n"
      ]
     },
     "metadata": {},
     "output_type": "display_data"
    },
    {
     "data": {
      "text/html": [
       "<pre style=\"white-space:pre;overflow-x:auto;line-height:normal;font-family:Menlo,'DejaVu Sans Mono',consolas,'Courier New',monospace\">/home/nguyenhoa/miniconda3/envs/.henv/lib/python3.12/site-packages/pytorch_tabular/categorical_encoders.py:71: \n",
       "FutureWarning: A value is trying to be set on a copy of a DataFrame or Series through chained assignment using an \n",
       "inplace method.\n",
       "The behavior will change in pandas 3.0. This inplace method will never work because the intermediate object on \n",
       "which we are setting values always behaves as a copy.\n",
       "\n",
       "For example, when doing 'df[col].method(value, inplace=True)', try using 'df.method({col: value}, inplace=True)' or\n",
       "df[col] = df[col].method(value) instead, to perform the operation inplace on the original object.\n",
       "\n",
       "\n",
       "  X_encoded[col].fillna(self._imputed, inplace=True)\n",
       "</pre>\n"
      ],
      "text/plain": [
       "/home/nguyenhoa/miniconda3/envs/.henv/lib/python3.12/site-packages/pytorch_tabular/categorical_encoders.py:71: \n",
       "FutureWarning: A value is trying to be set on a copy of a DataFrame or Series through chained assignment using an \n",
       "inplace method.\n",
       "The behavior will change in pandas 3.0. This inplace method will never work because the intermediate object on \n",
       "which we are setting values always behaves as a copy.\n",
       "\n",
       "For example, when doing 'df[col].method(value, inplace=True)', try using 'df.method({col: value}, inplace=True)' or\n",
       "df[col] = df[col].method(value) instead, to perform the operation inplace on the original object.\n",
       "\n",
       "\n",
       "  X_encoded[col].fillna(self._imputed, inplace=True)\n"
      ]
     },
     "metadata": {},
     "output_type": "display_data"
    },
    {
     "data": {
      "text/html": [
       "<pre style=\"white-space:pre;overflow-x:auto;line-height:normal;font-family:Menlo,'DejaVu Sans Mono',consolas,'Courier New',monospace\">/home/nguyenhoa/miniconda3/envs/.henv/lib/python3.12/site-packages/pytorch_tabular/categorical_encoders.py:71: \n",
       "FutureWarning: A value is trying to be set on a copy of a DataFrame or Series through chained assignment using an \n",
       "inplace method.\n",
       "The behavior will change in pandas 3.0. This inplace method will never work because the intermediate object on \n",
       "which we are setting values always behaves as a copy.\n",
       "\n",
       "For example, when doing 'df[col].method(value, inplace=True)', try using 'df.method({col: value}, inplace=True)' or\n",
       "df[col] = df[col].method(value) instead, to perform the operation inplace on the original object.\n",
       "\n",
       "\n",
       "  X_encoded[col].fillna(self._imputed, inplace=True)\n",
       "</pre>\n"
      ],
      "text/plain": [
       "/home/nguyenhoa/miniconda3/envs/.henv/lib/python3.12/site-packages/pytorch_tabular/categorical_encoders.py:71: \n",
       "FutureWarning: A value is trying to be set on a copy of a DataFrame or Series through chained assignment using an \n",
       "inplace method.\n",
       "The behavior will change in pandas 3.0. This inplace method will never work because the intermediate object on \n",
       "which we are setting values always behaves as a copy.\n",
       "\n",
       "For example, when doing 'df[col].method(value, inplace=True)', try using 'df.method({col: value}, inplace=True)' or\n",
       "df[col] = df[col].method(value) instead, to perform the operation inplace on the original object.\n",
       "\n",
       "\n",
       "  X_encoded[col].fillna(self._imputed, inplace=True)\n"
      ]
     },
     "metadata": {},
     "output_type": "display_data"
    },
    {
     "data": {
      "text/html": [
       "<pre style=\"white-space:pre;overflow-x:auto;line-height:normal;font-family:Menlo,'DejaVu Sans Mono',consolas,'Courier New',monospace\">/home/nguyenhoa/miniconda3/envs/.henv/lib/python3.12/site-packages/pytorch_tabular/categorical_encoders.py:71: \n",
       "FutureWarning: A value is trying to be set on a copy of a DataFrame or Series through chained assignment using an \n",
       "inplace method.\n",
       "The behavior will change in pandas 3.0. This inplace method will never work because the intermediate object on \n",
       "which we are setting values always behaves as a copy.\n",
       "\n",
       "For example, when doing 'df[col].method(value, inplace=True)', try using 'df.method({col: value}, inplace=True)' or\n",
       "df[col] = df[col].method(value) instead, to perform the operation inplace on the original object.\n",
       "\n",
       "\n",
       "  X_encoded[col].fillna(self._imputed, inplace=True)\n",
       "</pre>\n"
      ],
      "text/plain": [
       "/home/nguyenhoa/miniconda3/envs/.henv/lib/python3.12/site-packages/pytorch_tabular/categorical_encoders.py:71: \n",
       "FutureWarning: A value is trying to be set on a copy of a DataFrame or Series through chained assignment using an \n",
       "inplace method.\n",
       "The behavior will change in pandas 3.0. This inplace method will never work because the intermediate object on \n",
       "which we are setting values always behaves as a copy.\n",
       "\n",
       "For example, when doing 'df[col].method(value, inplace=True)', try using 'df.method({col: value}, inplace=True)' or\n",
       "df[col] = df[col].method(value) instead, to perform the operation inplace on the original object.\n",
       "\n",
       "\n",
       "  X_encoded[col].fillna(self._imputed, inplace=True)\n"
      ]
     },
     "metadata": {},
     "output_type": "display_data"
    },
    {
     "data": {
      "text/html": [
       "<pre style=\"white-space:pre;overflow-x:auto;line-height:normal;font-family:Menlo,'DejaVu Sans Mono',consolas,'Courier New',monospace\">/home/nguyenhoa/miniconda3/envs/.henv/lib/python3.12/site-packages/pytorch_tabular/categorical_encoders.py:71: \n",
       "FutureWarning: A value is trying to be set on a copy of a DataFrame or Series through chained assignment using an \n",
       "inplace method.\n",
       "The behavior will change in pandas 3.0. This inplace method will never work because the intermediate object on \n",
       "which we are setting values always behaves as a copy.\n",
       "\n",
       "For example, when doing 'df[col].method(value, inplace=True)', try using 'df.method({col: value}, inplace=True)' or\n",
       "df[col] = df[col].method(value) instead, to perform the operation inplace on the original object.\n",
       "\n",
       "\n",
       "  X_encoded[col].fillna(self._imputed, inplace=True)\n",
       "</pre>\n"
      ],
      "text/plain": [
       "/home/nguyenhoa/miniconda3/envs/.henv/lib/python3.12/site-packages/pytorch_tabular/categorical_encoders.py:71: \n",
       "FutureWarning: A value is trying to be set on a copy of a DataFrame or Series through chained assignment using an \n",
       "inplace method.\n",
       "The behavior will change in pandas 3.0. This inplace method will never work because the intermediate object on \n",
       "which we are setting values always behaves as a copy.\n",
       "\n",
       "For example, when doing 'df[col].method(value, inplace=True)', try using 'df.method({col: value}, inplace=True)' or\n",
       "df[col] = df[col].method(value) instead, to perform the operation inplace on the original object.\n",
       "\n",
       "\n",
       "  X_encoded[col].fillna(self._imputed, inplace=True)\n"
      ]
     },
     "metadata": {},
     "output_type": "display_data"
    },
    {
     "data": {
      "text/html": [
       "<pre style=\"white-space:pre;overflow-x:auto;line-height:normal;font-family:Menlo,'DejaVu Sans Mono',consolas,'Courier New',monospace\">/home/nguyenhoa/miniconda3/envs/.henv/lib/python3.12/site-packages/pytorch_tabular/categorical_encoders.py:71: \n",
       "FutureWarning: A value is trying to be set on a copy of a DataFrame or Series through chained assignment using an \n",
       "inplace method.\n",
       "The behavior will change in pandas 3.0. This inplace method will never work because the intermediate object on \n",
       "which we are setting values always behaves as a copy.\n",
       "\n",
       "For example, when doing 'df[col].method(value, inplace=True)', try using 'df.method({col: value}, inplace=True)' or\n",
       "df[col] = df[col].method(value) instead, to perform the operation inplace on the original object.\n",
       "\n",
       "\n",
       "  X_encoded[col].fillna(self._imputed, inplace=True)\n",
       "</pre>\n"
      ],
      "text/plain": [
       "/home/nguyenhoa/miniconda3/envs/.henv/lib/python3.12/site-packages/pytorch_tabular/categorical_encoders.py:71: \n",
       "FutureWarning: A value is trying to be set on a copy of a DataFrame or Series through chained assignment using an \n",
       "inplace method.\n",
       "The behavior will change in pandas 3.0. This inplace method will never work because the intermediate object on \n",
       "which we are setting values always behaves as a copy.\n",
       "\n",
       "For example, when doing 'df[col].method(value, inplace=True)', try using 'df.method({col: value}, inplace=True)' or\n",
       "df[col] = df[col].method(value) instead, to perform the operation inplace on the original object.\n",
       "\n",
       "\n",
       "  X_encoded[col].fillna(self._imputed, inplace=True)\n"
      ]
     },
     "metadata": {},
     "output_type": "display_data"
    },
    {
     "data": {
      "text/html": [
       "<pre style=\"white-space:pre;overflow-x:auto;line-height:normal;font-family:Menlo,'DejaVu Sans Mono',consolas,'Courier New',monospace\">/home/nguyenhoa/miniconda3/envs/.henv/lib/python3.12/site-packages/pytorch_tabular/categorical_encoders.py:71: \n",
       "FutureWarning: A value is trying to be set on a copy of a DataFrame or Series through chained assignment using an \n",
       "inplace method.\n",
       "The behavior will change in pandas 3.0. This inplace method will never work because the intermediate object on \n",
       "which we are setting values always behaves as a copy.\n",
       "\n",
       "For example, when doing 'df[col].method(value, inplace=True)', try using 'df.method({col: value}, inplace=True)' or\n",
       "df[col] = df[col].method(value) instead, to perform the operation inplace on the original object.\n",
       "\n",
       "\n",
       "  X_encoded[col].fillna(self._imputed, inplace=True)\n",
       "</pre>\n"
      ],
      "text/plain": [
       "/home/nguyenhoa/miniconda3/envs/.henv/lib/python3.12/site-packages/pytorch_tabular/categorical_encoders.py:71: \n",
       "FutureWarning: A value is trying to be set on a copy of a DataFrame or Series through chained assignment using an \n",
       "inplace method.\n",
       "The behavior will change in pandas 3.0. This inplace method will never work because the intermediate object on \n",
       "which we are setting values always behaves as a copy.\n",
       "\n",
       "For example, when doing 'df[col].method(value, inplace=True)', try using 'df.method({col: value}, inplace=True)' or\n",
       "df[col] = df[col].method(value) instead, to perform the operation inplace on the original object.\n",
       "\n",
       "\n",
       "  X_encoded[col].fillna(self._imputed, inplace=True)\n"
      ]
     },
     "metadata": {},
     "output_type": "display_data"
    },
    {
     "data": {
      "text/html": [
       "<pre style=\"white-space:pre;overflow-x:auto;line-height:normal;font-family:Menlo,'DejaVu Sans Mono',consolas,'Courier New',monospace\">/home/nguyenhoa/miniconda3/envs/.henv/lib/python3.12/site-packages/pytorch_lightning/trainer/connectors/data_connec\n",
       "tor.py:424: The 'test_dataloader' does not have many workers which may be a bottleneck. Consider increasing the \n",
       "value of the `num_workers` argument` to `num_workers=127` in the `DataLoader` to improve performance.\n",
       "</pre>\n"
      ],
      "text/plain": [
       "/home/nguyenhoa/miniconda3/envs/.henv/lib/python3.12/site-packages/pytorch_lightning/trainer/connectors/data_connec\n",
       "tor.py:424: The 'test_dataloader' does not have many workers which may be a bottleneck. Consider increasing the \n",
       "value of the `num_workers` argument` to `num_workers=127` in the `DataLoader` to improve performance.\n"
      ]
     },
     "metadata": {},
     "output_type": "display_data"
    },
    {
     "data": {
      "text/html": [
       "<pre style=\"white-space:pre;overflow-x:auto;line-height:normal;font-family:Menlo,'DejaVu Sans Mono',consolas,'Courier New',monospace\"><span style=\"color: #008080; text-decoration-color: #008080; font-weight: bold\">2025</span>-<span style=\"color: #008080; text-decoration-color: #008080; font-weight: bold\">03</span>-<span style=\"color: #008080; text-decoration-color: #008080; font-weight: bold\">24</span> <span style=\"color: #00ff00; text-decoration-color: #00ff00; font-weight: bold\">03:46:51</span>,<span style=\"color: #008080; text-decoration-color: #008080; font-weight: bold\">986</span> - <span style=\"font-weight: bold\">{</span>pytorch_tabular:<span style=\"color: #008080; text-decoration-color: #008080; font-weight: bold\">382</span><span style=\"font-weight: bold\">}</span> - INFO - Finished Training TabTransformerModel                     \n",
       "</pre>\n"
      ],
      "text/plain": [
       "\u001b[1;36m2025\u001b[0m-\u001b[1;36m03\u001b[0m-\u001b[1;36m24\u001b[0m \u001b[1;92m03:46:51\u001b[0m,\u001b[1;36m986\u001b[0m - \u001b[1m{\u001b[0mpytorch_tabular:\u001b[1;36m382\u001b[0m\u001b[1m}\u001b[0m - INFO - Finished Training TabTransformerModel                     \n"
      ]
     },
     "metadata": {},
     "output_type": "display_data"
    },
    {
     "data": {
      "text/html": [
       "<pre style=\"white-space:pre;overflow-x:auto;line-height:normal;font-family:Menlo,'DejaVu Sans Mono',consolas,'Courier New',monospace\"><span style=\"color: #008080; text-decoration-color: #008080; font-weight: bold\">2025</span>-<span style=\"color: #008080; text-decoration-color: #008080; font-weight: bold\">03</span>-<span style=\"color: #008080; text-decoration-color: #008080; font-weight: bold\">24</span> <span style=\"color: #00ff00; text-decoration-color: #00ff00; font-weight: bold\">03:46:51</span>,<span style=\"color: #008080; text-decoration-color: #008080; font-weight: bold\">989</span> - <span style=\"font-weight: bold\">{</span>pytorch_tabular:<span style=\"color: #008080; text-decoration-color: #008080; font-weight: bold\">383</span><span style=\"font-weight: bold\">}</span> - INFO - Results: model: TabTransformerModel, # Params: <span style=\"color: #008080; text-decoration-color: #008080; font-weight: bold\">277</span> T,     \n",
       "epochs: <span style=\"color: #008080; text-decoration-color: #008080; font-weight: bold\">100</span>, test_loss: <span style=\"color: #008080; text-decoration-color: #008080; font-weight: bold\">0.06665383279323578</span>, test_mean_squared_error: <span style=\"color: #008080; text-decoration-color: #008080; font-weight: bold\">0.06665383279323578</span>, time_taken:             \n",
       "<span style=\"color: #008080; text-decoration-color: #008080; font-weight: bold\">105.43194341659546</span>, time_taken_per_epoch: <span style=\"color: #008080; text-decoration-color: #008080; font-weight: bold\">1.0543194341659545</span>                                                       \n",
       "</pre>\n"
      ],
      "text/plain": [
       "\u001b[1;36m2025\u001b[0m-\u001b[1;36m03\u001b[0m-\u001b[1;36m24\u001b[0m \u001b[1;92m03:46:51\u001b[0m,\u001b[1;36m989\u001b[0m - \u001b[1m{\u001b[0mpytorch_tabular:\u001b[1;36m383\u001b[0m\u001b[1m}\u001b[0m - INFO - Results: model: TabTransformerModel, # Params: \u001b[1;36m277\u001b[0m T,     \n",
       "epochs: \u001b[1;36m100\u001b[0m, test_loss: \u001b[1;36m0.06665383279323578\u001b[0m, test_mean_squared_error: \u001b[1;36m0.06665383279323578\u001b[0m, time_taken:             \n",
       "\u001b[1;36m105.43194341659546\u001b[0m, time_taken_per_epoch: \u001b[1;36m1.0543194341659545\u001b[0m                                                       \n"
      ]
     },
     "metadata": {},
     "output_type": "display_data"
    },
    {
     "data": {
      "text/html": [
       "<pre style=\"white-space:pre;overflow-x:auto;line-height:normal;font-family:Menlo,'DejaVu Sans Mono',consolas,'Courier New',monospace\"></pre>\n"
      ],
      "text/plain": []
     },
     "metadata": {},
     "output_type": "display_data"
    },
    {
     "data": {
      "text/html": [
       "<pre style=\"white-space:pre;overflow-x:auto;line-height:normal;font-family:Menlo,'DejaVu Sans Mono',consolas,'Courier New',monospace\"><span style=\"color: #008080; text-decoration-color: #008080; font-weight: bold\">2025</span>-<span style=\"color: #008080; text-decoration-color: #008080; font-weight: bold\">03</span>-<span style=\"color: #008080; text-decoration-color: #008080; font-weight: bold\">24</span> <span style=\"color: #00ff00; text-decoration-color: #00ff00; font-weight: bold\">03:46:51</span>,<span style=\"color: #008080; text-decoration-color: #008080; font-weight: bold\">998</span> - <span style=\"font-weight: bold\">{</span>pytorch_tabular:<span style=\"color: #008080; text-decoration-color: #008080; font-weight: bold\">388</span><span style=\"font-weight: bold\">}</span> - INFO - Model Sweep Finished                                      \n",
       "</pre>\n"
      ],
      "text/plain": [
       "\u001b[1;36m2025\u001b[0m-\u001b[1;36m03\u001b[0m-\u001b[1;36m24\u001b[0m \u001b[1;92m03:46:51\u001b[0m,\u001b[1;36m998\u001b[0m - \u001b[1m{\u001b[0mpytorch_tabular:\u001b[1;36m388\u001b[0m\u001b[1m}\u001b[0m - INFO - Model Sweep Finished                                      \n"
      ]
     },
     "metadata": {},
     "output_type": "display_data"
    },
    {
     "data": {
      "text/html": [
       "<pre style=\"white-space:pre;overflow-x:auto;line-height:normal;font-family:Menlo,'DejaVu Sans Mono',consolas,'Courier New',monospace\"><span style=\"color: #008080; text-decoration-color: #008080; font-weight: bold\">2025</span>-<span style=\"color: #008080; text-decoration-color: #008080; font-weight: bold\">03</span>-<span style=\"color: #008080; text-decoration-color: #008080; font-weight: bold\">24</span> <span style=\"color: #00ff00; text-decoration-color: #00ff00; font-weight: bold\">03:46:52</span>,<span style=\"color: #008080; text-decoration-color: #008080; font-weight: bold\">000</span> - <span style=\"font-weight: bold\">{</span>pytorch_tabular:<span style=\"color: #008080; text-decoration-color: #008080; font-weight: bold\">389</span><span style=\"font-weight: bold\">}</span> - INFO - Best Model: GANDALFModel                                  \n",
       "</pre>\n"
      ],
      "text/plain": [
       "\u001b[1;36m2025\u001b[0m-\u001b[1;36m03\u001b[0m-\u001b[1;36m24\u001b[0m \u001b[1;92m03:46:52\u001b[0m,\u001b[1;36m000\u001b[0m - \u001b[1m{\u001b[0mpytorch_tabular:\u001b[1;36m389\u001b[0m\u001b[1m}\u001b[0m - INFO - Best Model: GANDALFModel                                  \n"
      ]
     },
     "metadata": {},
     "output_type": "display_data"
    }
   ],
   "source": [
    "EPOCHS = 100\n",
    "\n",
    "trainer_config = TrainerConfig(\n",
    "    batch_size=BATCH_SIZE,\n",
    "    max_epochs=EPOCHS,\n",
    "    early_stopping=None\n",
    ")\n",
    "\n",
    "\n",
    "sweep_df, best_model = model_sweep(\n",
    "                            task=\"regression\",\n",
    "                            train=train,\n",
    "                            test=valid,\n",
    "                            data_config=data_config,\n",
    "                            optimizer_config=optimizer_config,\n",
    "                            trainer_config=trainer_config,\n",
    "                            model_list=\"high_memory\",\n",
    "                            verbose=True # Make True if you want to log metrics and params each trial\n",
    "                        )\n"
   ]
  },
  {
   "cell_type": "code",
   "execution_count": 25,
   "metadata": {},
   "outputs": [
    {
     "data": {
      "text/html": [
       "<div>\n",
       "<style scoped>\n",
       "    .dataframe tbody tr th:only-of-type {\n",
       "        vertical-align: middle;\n",
       "    }\n",
       "\n",
       "    .dataframe tbody tr th {\n",
       "        vertical-align: top;\n",
       "    }\n",
       "\n",
       "    .dataframe thead th {\n",
       "        text-align: right;\n",
       "    }\n",
       "</style>\n",
       "<table border=\"1\" class=\"dataframe\">\n",
       "  <thead>\n",
       "    <tr style=\"text-align: right;\">\n",
       "      <th></th>\n",
       "      <th>model</th>\n",
       "      <th># Params</th>\n",
       "      <th>epochs</th>\n",
       "      <th>test_loss</th>\n",
       "      <th>test_mean_squared_error</th>\n",
       "      <th>time_taken</th>\n",
       "      <th>time_taken_per_epoch</th>\n",
       "      <th>params</th>\n",
       "    </tr>\n",
       "  </thead>\n",
       "  <tbody>\n",
       "    <tr>\n",
       "      <th>4</th>\n",
       "      <td>GANDALFModel</td>\n",
       "      <td>2 M</td>\n",
       "      <td>100</td>\n",
       "      <td>0.062940</td>\n",
       "      <td>0.062940</td>\n",
       "      <td>99.181822</td>\n",
       "      <td>0.991818</td>\n",
       "      <td>{'task': 'regression', 'head': 'LinearHead', '...</td>\n",
       "    </tr>\n",
       "    <tr>\n",
       "      <th>5</th>\n",
       "      <td>GatedAdditiveTreeEnsembleModel</td>\n",
       "      <td>2 M</td>\n",
       "      <td>100</td>\n",
       "      <td>0.065177</td>\n",
       "      <td>0.065177</td>\n",
       "      <td>1219.995764</td>\n",
       "      <td>12.199958</td>\n",
       "      <td>{'task': 'regression', 'head': 'LinearHead', '...</td>\n",
       "    </tr>\n",
       "    <tr>\n",
       "      <th>8</th>\n",
       "      <td>TabTransformerModel</td>\n",
       "      <td>277 T</td>\n",
       "      <td>100</td>\n",
       "      <td>0.066654</td>\n",
       "      <td>0.066654</td>\n",
       "      <td>105.431943</td>\n",
       "      <td>1.054319</td>\n",
       "      <td>{'task': 'regression', 'head': 'LinearHead', '...</td>\n",
       "    </tr>\n",
       "    <tr>\n",
       "      <th>1</th>\n",
       "      <td>CategoryEmbeddingModel</td>\n",
       "      <td>43 T</td>\n",
       "      <td>100</td>\n",
       "      <td>0.067292</td>\n",
       "      <td>0.067292</td>\n",
       "      <td>25.864567</td>\n",
       "      <td>0.258646</td>\n",
       "      <td>{'task': 'regression', 'head': 'LinearHead', '...</td>\n",
       "    </tr>\n",
       "    <tr>\n",
       "      <th>6</th>\n",
       "      <td>NODEModel</td>\n",
       "      <td>3 M</td>\n",
       "      <td>100</td>\n",
       "      <td>0.068326</td>\n",
       "      <td>0.068326</td>\n",
       "      <td>81.989906</td>\n",
       "      <td>0.819899</td>\n",
       "      <td>{'task': 'regression', 'head': 'LinearHead', '...</td>\n",
       "    </tr>\n",
       "    <tr>\n",
       "      <th>3</th>\n",
       "      <td>FTTransformerModel</td>\n",
       "      <td>287 T</td>\n",
       "      <td>100</td>\n",
       "      <td>0.068833</td>\n",
       "      <td>0.068833</td>\n",
       "      <td>137.728758</td>\n",
       "      <td>1.377288</td>\n",
       "      <td>{'task': 'regression', 'head': 'LinearHead', '...</td>\n",
       "    </tr>\n",
       "    <tr>\n",
       "      <th>0</th>\n",
       "      <td>AutoIntModel</td>\n",
       "      <td>27 T</td>\n",
       "      <td>100</td>\n",
       "      <td>0.081260</td>\n",
       "      <td>0.081260</td>\n",
       "      <td>51.428808</td>\n",
       "      <td>0.514288</td>\n",
       "      <td>{'task': 'regression', 'head': 'LinearHead', '...</td>\n",
       "    </tr>\n",
       "    <tr>\n",
       "      <th>2</th>\n",
       "      <td>DANetModel</td>\n",
       "      <td>1 M</td>\n",
       "      <td>100</td>\n",
       "      <td>0.127868</td>\n",
       "      <td>0.127868</td>\n",
       "      <td>366.805661</td>\n",
       "      <td>3.668057</td>\n",
       "      <td>{'task': 'regression', 'head': 'LinearHead', '...</td>\n",
       "    </tr>\n",
       "    <tr>\n",
       "      <th>7</th>\n",
       "      <td>TabNetModel</td>\n",
       "      <td>21 T</td>\n",
       "      <td>100</td>\n",
       "      <td>0.127891</td>\n",
       "      <td>0.127891</td>\n",
       "      <td>156.950606</td>\n",
       "      <td>1.569506</td>\n",
       "      <td>{'task': 'regression', 'head': 'LinearHead', '...</td>\n",
       "    </tr>\n",
       "  </tbody>\n",
       "</table>\n",
       "</div>"
      ],
      "text/plain": [
       "                            model # Params  epochs  test_loss  \\\n",
       "4                    GANDALFModel      2 M     100   0.062940   \n",
       "5  GatedAdditiveTreeEnsembleModel      2 M     100   0.065177   \n",
       "8             TabTransformerModel    277 T     100   0.066654   \n",
       "1          CategoryEmbeddingModel     43 T     100   0.067292   \n",
       "6                       NODEModel      3 M     100   0.068326   \n",
       "3              FTTransformerModel    287 T     100   0.068833   \n",
       "0                    AutoIntModel     27 T     100   0.081260   \n",
       "2                      DANetModel      1 M     100   0.127868   \n",
       "7                     TabNetModel     21 T     100   0.127891   \n",
       "\n",
       "   test_mean_squared_error   time_taken  time_taken_per_epoch  \\\n",
       "4                 0.062940    99.181822              0.991818   \n",
       "5                 0.065177  1219.995764             12.199958   \n",
       "8                 0.066654   105.431943              1.054319   \n",
       "1                 0.067292    25.864567              0.258646   \n",
       "6                 0.068326    81.989906              0.819899   \n",
       "3                 0.068833   137.728758              1.377288   \n",
       "0                 0.081260    51.428808              0.514288   \n",
       "2                 0.127868   366.805661              3.668057   \n",
       "7                 0.127891   156.950606              1.569506   \n",
       "\n",
       "                                              params  \n",
       "4  {'task': 'regression', 'head': 'LinearHead', '...  \n",
       "5  {'task': 'regression', 'head': 'LinearHead', '...  \n",
       "8  {'task': 'regression', 'head': 'LinearHead', '...  \n",
       "1  {'task': 'regression', 'head': 'LinearHead', '...  \n",
       "6  {'task': 'regression', 'head': 'LinearHead', '...  \n",
       "3  {'task': 'regression', 'head': 'LinearHead', '...  \n",
       "0  {'task': 'regression', 'head': 'LinearHead', '...  \n",
       "2  {'task': 'regression', 'head': 'LinearHead', '...  \n",
       "7  {'task': 'regression', 'head': 'LinearHead', '...  "
      ]
     },
     "execution_count": 25,
     "metadata": {},
     "output_type": "execute_result"
    }
   ],
   "source": [
    "sweep_df"
   ]
  },
  {
   "cell_type": "code",
   "execution_count": 30,
   "metadata": {},
   "outputs": [],
   "source": [
    "sweep_df[\"rmse\"] = sweep_df[\"test_mean_squared_error\"]**0.5"
   ]
  },
  {
   "cell_type": "code",
   "execution_count": 31,
   "metadata": {},
   "outputs": [
    {
     "data": {
      "text/html": [
       "<div>\n",
       "<style scoped>\n",
       "    .dataframe tbody tr th:only-of-type {\n",
       "        vertical-align: middle;\n",
       "    }\n",
       "\n",
       "    .dataframe tbody tr th {\n",
       "        vertical-align: top;\n",
       "    }\n",
       "\n",
       "    .dataframe thead th {\n",
       "        text-align: right;\n",
       "    }\n",
       "</style>\n",
       "<table border=\"1\" class=\"dataframe\">\n",
       "  <thead>\n",
       "    <tr style=\"text-align: right;\">\n",
       "      <th></th>\n",
       "      <th>model</th>\n",
       "      <th># Params</th>\n",
       "      <th>epochs</th>\n",
       "      <th>test_loss</th>\n",
       "      <th>test_mean_squared_error</th>\n",
       "      <th>time_taken</th>\n",
       "      <th>time_taken_per_epoch</th>\n",
       "      <th>params</th>\n",
       "      <th>rmse</th>\n",
       "    </tr>\n",
       "  </thead>\n",
       "  <tbody>\n",
       "    <tr>\n",
       "      <th>4</th>\n",
       "      <td>GANDALFModel</td>\n",
       "      <td>2 M</td>\n",
       "      <td>100</td>\n",
       "      <td>0.062940</td>\n",
       "      <td>0.062940</td>\n",
       "      <td>99.181822</td>\n",
       "      <td>0.991818</td>\n",
       "      <td>{'task': 'regression', 'head': 'LinearHead', '...</td>\n",
       "      <td>0.250879</td>\n",
       "    </tr>\n",
       "    <tr>\n",
       "      <th>5</th>\n",
       "      <td>GatedAdditiveTreeEnsembleModel</td>\n",
       "      <td>2 M</td>\n",
       "      <td>100</td>\n",
       "      <td>0.065177</td>\n",
       "      <td>0.065177</td>\n",
       "      <td>1219.995764</td>\n",
       "      <td>12.199958</td>\n",
       "      <td>{'task': 'regression', 'head': 'LinearHead', '...</td>\n",
       "      <td>0.255297</td>\n",
       "    </tr>\n",
       "    <tr>\n",
       "      <th>8</th>\n",
       "      <td>TabTransformerModel</td>\n",
       "      <td>277 T</td>\n",
       "      <td>100</td>\n",
       "      <td>0.066654</td>\n",
       "      <td>0.066654</td>\n",
       "      <td>105.431943</td>\n",
       "      <td>1.054319</td>\n",
       "      <td>{'task': 'regression', 'head': 'LinearHead', '...</td>\n",
       "      <td>0.258174</td>\n",
       "    </tr>\n",
       "    <tr>\n",
       "      <th>1</th>\n",
       "      <td>CategoryEmbeddingModel</td>\n",
       "      <td>43 T</td>\n",
       "      <td>100</td>\n",
       "      <td>0.067292</td>\n",
       "      <td>0.067292</td>\n",
       "      <td>25.864567</td>\n",
       "      <td>0.258646</td>\n",
       "      <td>{'task': 'regression', 'head': 'LinearHead', '...</td>\n",
       "      <td>0.259407</td>\n",
       "    </tr>\n",
       "    <tr>\n",
       "      <th>6</th>\n",
       "      <td>NODEModel</td>\n",
       "      <td>3 M</td>\n",
       "      <td>100</td>\n",
       "      <td>0.068326</td>\n",
       "      <td>0.068326</td>\n",
       "      <td>81.989906</td>\n",
       "      <td>0.819899</td>\n",
       "      <td>{'task': 'regression', 'head': 'LinearHead', '...</td>\n",
       "      <td>0.261393</td>\n",
       "    </tr>\n",
       "    <tr>\n",
       "      <th>3</th>\n",
       "      <td>FTTransformerModel</td>\n",
       "      <td>287 T</td>\n",
       "      <td>100</td>\n",
       "      <td>0.068833</td>\n",
       "      <td>0.068833</td>\n",
       "      <td>137.728758</td>\n",
       "      <td>1.377288</td>\n",
       "      <td>{'task': 'regression', 'head': 'LinearHead', '...</td>\n",
       "      <td>0.262361</td>\n",
       "    </tr>\n",
       "    <tr>\n",
       "      <th>0</th>\n",
       "      <td>AutoIntModel</td>\n",
       "      <td>27 T</td>\n",
       "      <td>100</td>\n",
       "      <td>0.081260</td>\n",
       "      <td>0.081260</td>\n",
       "      <td>51.428808</td>\n",
       "      <td>0.514288</td>\n",
       "      <td>{'task': 'regression', 'head': 'LinearHead', '...</td>\n",
       "      <td>0.285061</td>\n",
       "    </tr>\n",
       "    <tr>\n",
       "      <th>2</th>\n",
       "      <td>DANetModel</td>\n",
       "      <td>1 M</td>\n",
       "      <td>100</td>\n",
       "      <td>0.127868</td>\n",
       "      <td>0.127868</td>\n",
       "      <td>366.805661</td>\n",
       "      <td>3.668057</td>\n",
       "      <td>{'task': 'regression', 'head': 'LinearHead', '...</td>\n",
       "      <td>0.357586</td>\n",
       "    </tr>\n",
       "    <tr>\n",
       "      <th>7</th>\n",
       "      <td>TabNetModel</td>\n",
       "      <td>21 T</td>\n",
       "      <td>100</td>\n",
       "      <td>0.127891</td>\n",
       "      <td>0.127891</td>\n",
       "      <td>156.950606</td>\n",
       "      <td>1.569506</td>\n",
       "      <td>{'task': 'regression', 'head': 'LinearHead', '...</td>\n",
       "      <td>0.357619</td>\n",
       "    </tr>\n",
       "  </tbody>\n",
       "</table>\n",
       "</div>"
      ],
      "text/plain": [
       "                            model # Params  epochs  test_loss  \\\n",
       "4                    GANDALFModel      2 M     100   0.062940   \n",
       "5  GatedAdditiveTreeEnsembleModel      2 M     100   0.065177   \n",
       "8             TabTransformerModel    277 T     100   0.066654   \n",
       "1          CategoryEmbeddingModel     43 T     100   0.067292   \n",
       "6                       NODEModel      3 M     100   0.068326   \n",
       "3              FTTransformerModel    287 T     100   0.068833   \n",
       "0                    AutoIntModel     27 T     100   0.081260   \n",
       "2                      DANetModel      1 M     100   0.127868   \n",
       "7                     TabNetModel     21 T     100   0.127891   \n",
       "\n",
       "   test_mean_squared_error   time_taken  time_taken_per_epoch  \\\n",
       "4                 0.062940    99.181822              0.991818   \n",
       "5                 0.065177  1219.995764             12.199958   \n",
       "8                 0.066654   105.431943              1.054319   \n",
       "1                 0.067292    25.864567              0.258646   \n",
       "6                 0.068326    81.989906              0.819899   \n",
       "3                 0.068833   137.728758              1.377288   \n",
       "0                 0.081260    51.428808              0.514288   \n",
       "2                 0.127868   366.805661              3.668057   \n",
       "7                 0.127891   156.950606              1.569506   \n",
       "\n",
       "                                              params      rmse  \n",
       "4  {'task': 'regression', 'head': 'LinearHead', '...  0.250879  \n",
       "5  {'task': 'regression', 'head': 'LinearHead', '...  0.255297  \n",
       "8  {'task': 'regression', 'head': 'LinearHead', '...  0.258174  \n",
       "1  {'task': 'regression', 'head': 'LinearHead', '...  0.259407  \n",
       "6  {'task': 'regression', 'head': 'LinearHead', '...  0.261393  \n",
       "3  {'task': 'regression', 'head': 'LinearHead', '...  0.262361  \n",
       "0  {'task': 'regression', 'head': 'LinearHead', '...  0.285061  \n",
       "2  {'task': 'regression', 'head': 'LinearHead', '...  0.357586  \n",
       "7  {'task': 'regression', 'head': 'LinearHead', '...  0.357619  "
      ]
     },
     "execution_count": 31,
     "metadata": {},
     "output_type": "execute_result"
    }
   ],
   "source": [
    "sweep_df"
   ]
  },
  {
   "cell_type": "code",
   "execution_count": 26,
   "metadata": {},
   "outputs": [
    {
     "data": {
      "text/plain": [
       "{'task': 'regression',\n",
       " 'head': 'LinearHead',\n",
       " 'head_config': {'layers': ''},\n",
       " 'embedding_dims': None,\n",
       " 'embedding_dropout': 0.0,\n",
       " 'batch_norm_continuous_input': True,\n",
       " 'learning_rate': 0.001,\n",
       " 'loss': 'MSELoss',\n",
       " 'metrics': ['mean_squared_error'],\n",
       " 'metrics_prob_input': [False],\n",
       " 'metrics_params': [{}],\n",
       " 'target_range': None,\n",
       " 'virtual_batch_size': None,\n",
       " 'seed': 42,\n",
       " '_module_src': 'models.autoint',\n",
       " '_model_name': 'AutoIntModel',\n",
       " '_backbone_name': 'AutoIntBackbone',\n",
       " '_config_name': 'AutoIntConfig',\n",
       " 'attn_embed_dim': 32,\n",
       " 'num_heads': 2,\n",
       " 'num_attn_blocks': 3,\n",
       " 'attn_dropouts': 0.0,\n",
       " 'has_residuals': True,\n",
       " 'embedding_dim': 16,\n",
       " 'embedding_initialization': 'kaiming_uniform',\n",
       " 'embedding_bias': True,\n",
       " 'share_embedding': False,\n",
       " 'share_embedding_strategy': 'fraction',\n",
       " 'shared_embedding_fraction': 0.25,\n",
       " 'deep_layers': False,\n",
       " 'layers': '128-64-32',\n",
       " 'activation': 'ReLU',\n",
       " 'use_batch_norm': False,\n",
       " 'initialization': 'kaiming',\n",
       " 'dropout': 0.0,\n",
       " 'attention_pooling': False}"
      ]
     },
     "execution_count": 26,
     "metadata": {},
     "output_type": "execute_result"
    }
   ],
   "source": [
    "sweep_df[\"params\"][0]"
   ]
  },
  {
   "cell_type": "code",
   "execution_count": 32,
   "metadata": {},
   "outputs": [
    {
     "name": "stderr",
     "output_type": "stream",
     "text": [
      "/home/nguyenhoa/miniconda3/envs/.henv/lib/python3.12/site-packages/pytorch_tabular/categorical_encoders.py:71: FutureWarning: A value is trying to be set on a copy of a DataFrame or Series through chained assignment using an inplace method.\n",
      "The behavior will change in pandas 3.0. This inplace method will never work because the intermediate object on which we are setting values always behaves as a copy.\n",
      "\n",
      "For example, when doing 'df[col].method(value, inplace=True)', try using 'df.method({col: value}, inplace=True)' or df[col] = df[col].method(value) instead, to perform the operation inplace on the original object.\n",
      "\n",
      "\n",
      "  X_encoded[col].fillna(self._imputed, inplace=True)\n",
      "/home/nguyenhoa/miniconda3/envs/.henv/lib/python3.12/site-packages/pytorch_tabular/categorical_encoders.py:71: FutureWarning: A value is trying to be set on a copy of a DataFrame or Series through chained assignment using an inplace method.\n",
      "The behavior will change in pandas 3.0. This inplace method will never work because the intermediate object on which we are setting values always behaves as a copy.\n",
      "\n",
      "For example, when doing 'df[col].method(value, inplace=True)', try using 'df.method({col: value}, inplace=True)' or df[col] = df[col].method(value) instead, to perform the operation inplace on the original object.\n",
      "\n",
      "\n",
      "  X_encoded[col].fillna(self._imputed, inplace=True)\n",
      "/home/nguyenhoa/miniconda3/envs/.henv/lib/python3.12/site-packages/pytorch_tabular/categorical_encoders.py:71: FutureWarning: A value is trying to be set on a copy of a DataFrame or Series through chained assignment using an inplace method.\n",
      "The behavior will change in pandas 3.0. This inplace method will never work because the intermediate object on which we are setting values always behaves as a copy.\n",
      "\n",
      "For example, when doing 'df[col].method(value, inplace=True)', try using 'df.method({col: value}, inplace=True)' or df[col] = df[col].method(value) instead, to perform the operation inplace on the original object.\n",
      "\n",
      "\n",
      "  X_encoded[col].fillna(self._imputed, inplace=True)\n",
      "/home/nguyenhoa/miniconda3/envs/.henv/lib/python3.12/site-packages/pytorch_tabular/categorical_encoders.py:71: FutureWarning: A value is trying to be set on a copy of a DataFrame or Series through chained assignment using an inplace method.\n",
      "The behavior will change in pandas 3.0. This inplace method will never work because the intermediate object on which we are setting values always behaves as a copy.\n",
      "\n",
      "For example, when doing 'df[col].method(value, inplace=True)', try using 'df.method({col: value}, inplace=True)' or df[col] = df[col].method(value) instead, to perform the operation inplace on the original object.\n",
      "\n",
      "\n",
      "  X_encoded[col].fillna(self._imputed, inplace=True)\n",
      "/home/nguyenhoa/miniconda3/envs/.henv/lib/python3.12/site-packages/pytorch_tabular/categorical_encoders.py:71: FutureWarning: A value is trying to be set on a copy of a DataFrame or Series through chained assignment using an inplace method.\n",
      "The behavior will change in pandas 3.0. This inplace method will never work because the intermediate object on which we are setting values always behaves as a copy.\n",
      "\n",
      "For example, when doing 'df[col].method(value, inplace=True)', try using 'df.method({col: value}, inplace=True)' or df[col] = df[col].method(value) instead, to perform the operation inplace on the original object.\n",
      "\n",
      "\n",
      "  X_encoded[col].fillna(self._imputed, inplace=True)\n",
      "/home/nguyenhoa/miniconda3/envs/.henv/lib/python3.12/site-packages/pytorch_tabular/categorical_encoders.py:71: FutureWarning: A value is trying to be set on a copy of a DataFrame or Series through chained assignment using an inplace method.\n",
      "The behavior will change in pandas 3.0. This inplace method will never work because the intermediate object on which we are setting values always behaves as a copy.\n",
      "\n",
      "For example, when doing 'df[col].method(value, inplace=True)', try using 'df.method({col: value}, inplace=True)' or df[col] = df[col].method(value) instead, to perform the operation inplace on the original object.\n",
      "\n",
      "\n",
      "  X_encoded[col].fillna(self._imputed, inplace=True)\n",
      "/home/nguyenhoa/miniconda3/envs/.henv/lib/python3.12/site-packages/pytorch_tabular/categorical_encoders.py:71: FutureWarning: A value is trying to be set on a copy of a DataFrame or Series through chained assignment using an inplace method.\n",
      "The behavior will change in pandas 3.0. This inplace method will never work because the intermediate object on which we are setting values always behaves as a copy.\n",
      "\n",
      "For example, when doing 'df[col].method(value, inplace=True)', try using 'df.method({col: value}, inplace=True)' or df[col] = df[col].method(value) instead, to perform the operation inplace on the original object.\n",
      "\n",
      "\n",
      "  X_encoded[col].fillna(self._imputed, inplace=True)\n",
      "/home/nguyenhoa/miniconda3/envs/.henv/lib/python3.12/site-packages/pytorch_tabular/categorical_encoders.py:71: FutureWarning: A value is trying to be set on a copy of a DataFrame or Series through chained assignment using an inplace method.\n",
      "The behavior will change in pandas 3.0. This inplace method will never work because the intermediate object on which we are setting values always behaves as a copy.\n",
      "\n",
      "For example, when doing 'df[col].method(value, inplace=True)', try using 'df.method({col: value}, inplace=True)' or df[col] = df[col].method(value) instead, to perform the operation inplace on the original object.\n",
      "\n",
      "\n",
      "  X_encoded[col].fillna(self._imputed, inplace=True)\n",
      "/home/nguyenhoa/miniconda3/envs/.henv/lib/python3.12/site-packages/pytorch_tabular/categorical_encoders.py:71: FutureWarning: A value is trying to be set on a copy of a DataFrame or Series through chained assignment using an inplace method.\n",
      "The behavior will change in pandas 3.0. This inplace method will never work because the intermediate object on which we are setting values always behaves as a copy.\n",
      "\n",
      "For example, when doing 'df[col].method(value, inplace=True)', try using 'df.method({col: value}, inplace=True)' or df[col] = df[col].method(value) instead, to perform the operation inplace on the original object.\n",
      "\n",
      "\n",
      "  X_encoded[col].fillna(self._imputed, inplace=True)\n",
      "/home/nguyenhoa/miniconda3/envs/.henv/lib/python3.12/site-packages/pytorch_lightning/trainer/connectors/data_connector.py:424: The 'test_dataloader' does not have many workers which may be a bottleneck. Consider increasing the value of the `num_workers` argument` to `num_workers=127` in the `DataLoader` to improve performance.\n"
     ]
    },
    {
     "data": {
      "text/html": [
       "<pre style=\"white-space:pre;overflow-x:auto;line-height:normal;font-family:Menlo,'DejaVu Sans Mono',consolas,'Courier New',monospace\">┏━━━━━━━━━━━━━━━━━━━━━━━━━━━┳━━━━━━━━━━━━━━━━━━━━━━━━━━━┓\n",
       "┃<span style=\"font-weight: bold\">        Test metric        </span>┃<span style=\"font-weight: bold\">       DataLoader 0        </span>┃\n",
       "┡━━━━━━━━━━━━━━━━━━━━━━━━━━━╇━━━━━━━━━━━━━━━━━━━━━━━━━━━┩\n",
       "│<span style=\"color: #008080; text-decoration-color: #008080\">         test_loss         </span>│<span style=\"color: #800080; text-decoration-color: #800080\">    0.06673388183116913    </span>│\n",
       "│<span style=\"color: #008080; text-decoration-color: #008080\">  test_mean_squared_error  </span>│<span style=\"color: #800080; text-decoration-color: #800080\">    0.06673388183116913    </span>│\n",
       "└───────────────────────────┴───────────────────────────┘\n",
       "</pre>\n"
      ],
      "text/plain": [
       "┏━━━━━━━━━━━━━━━━━━━━━━━━━━━┳━━━━━━━━━━━━━━━━━━━━━━━━━━━┓\n",
       "┃\u001b[1m \u001b[0m\u001b[1m       Test metric       \u001b[0m\u001b[1m \u001b[0m┃\u001b[1m \u001b[0m\u001b[1m      DataLoader 0       \u001b[0m\u001b[1m \u001b[0m┃\n",
       "┡━━━━━━━━━━━━━━━━━━━━━━━━━━━╇━━━━━━━━━━━━━━━━━━━━━━━━━━━┩\n",
       "│\u001b[36m \u001b[0m\u001b[36m        test_loss        \u001b[0m\u001b[36m \u001b[0m│\u001b[35m \u001b[0m\u001b[35m   0.06673388183116913   \u001b[0m\u001b[35m \u001b[0m│\n",
       "│\u001b[36m \u001b[0m\u001b[36m test_mean_squared_error \u001b[0m\u001b[36m \u001b[0m│\u001b[35m \u001b[0m\u001b[35m   0.06673388183116913   \u001b[0m\u001b[35m \u001b[0m│\n",
       "└───────────────────────────┴───────────────────────────┘\n"
      ]
     },
     "metadata": {},
     "output_type": "display_data"
    },
    {
     "data": {
      "text/plain": [
       "[{'test_loss': 0.06673388183116913,\n",
       "  'test_mean_squared_error': 0.06673388183116913}]"
      ]
     },
     "execution_count": 32,
     "metadata": {},
     "output_type": "execute_result"
    }
   ],
   "source": [
    "test_result = best_model.evaluate(test)\n",
    "test_result"
   ]
  },
  {
   "cell_type": "code",
   "execution_count": 34,
   "metadata": {},
   "outputs": [
    {
     "data": {
      "text/plain": [
       "0.25832901856192836"
      ]
     },
     "execution_count": 34,
     "metadata": {},
     "output_type": "execute_result"
    }
   ],
   "source": [
    "test_result[0][\"test_mean_squared_error\"]**0.5"
   ]
  },
  {
   "cell_type": "code",
   "execution_count": 28,
   "metadata": {},
   "outputs": [
    {
     "data": {
      "text/html": [
       "\n",
       "        \n",
       "        <style>\n",
       "        .main-container {\n",
       "            font-family: Arial, sans-serif;\n",
       "            font-size: 14px;\n",
       "            border: 1px dashed #ccc;\n",
       "            padding: 10px;\n",
       "            margin: 10px;\n",
       "            background-color: #f9f9f9;\n",
       "        }\n",
       "        .header {\n",
       "            background-color: #e8f4fc;\n",
       "            padding: 5px;\n",
       "            font-weight: bold;\n",
       "            text-align: center;\n",
       "            border-bottom: 1px solid #ccc;\n",
       "        }\n",
       "        .section {\n",
       "            margin: 10px 0;\n",
       "            padding: 10px;\n",
       "            border: 1px solid #ccc;\n",
       "            background-color: #ffffff;\n",
       "        }\n",
       "        .step {\n",
       "            border: 1px solid #ccc;\n",
       "            background-color: #f0f8ff;\n",
       "            margin: 5px 0;\n",
       "            padding: 5px;\n",
       "        }\n",
       "        .sub-step {\n",
       "            margin-left: 20px;\n",
       "            border: 1px solid #ddd;\n",
       "            background-color: #f9f9f9;\n",
       "            padding: 5px;\n",
       "        }\n",
       "        .toggle-button {\n",
       "            cursor: pointer;\n",
       "            font-size: 12px;\n",
       "            margin-right: 5px;\n",
       "        }\n",
       "        .toggle-button:hover {\n",
       "            color: #0056b3;\n",
       "        }\n",
       "        .hidden {\n",
       "            display: none;\n",
       "        }\n",
       "        table {\n",
       "            width: 100%;\n",
       "            border-collapse: collapse;\n",
       "        }\n",
       "        table, th, td {\n",
       "            border: 1px solid black;\n",
       "        }\n",
       "        th, td {\n",
       "            padding: 5px;\n",
       "            text-align: left;\n",
       "        }\n",
       "        </style>\n",
       "        <script>\n",
       "        function toggleVisibility(id) {\n",
       "            var element = document.getElementById(id);\n",
       "            if (element.classList.contains('hidden')) {\n",
       "                element.classList.remove('hidden');\n",
       "            } else {\n",
       "                element.classList.add('hidden');\n",
       "            }\n",
       "        }\n",
       "        </script>\n",
       "        \n",
       "        <div class='main-container'>\n",
       "            <div class='header'>GANDALFModel</div>\n",
       "            \n",
       "        <div>\n",
       "            <span\n",
       "            class=\"toggle-button\"\n",
       "            onclick=\"toggleVisibility('model_configeb0e7831-95d8-4037-98ca-c9198ba56e4e')\"\n",
       "            >\n",
       "            &#9654;\n",
       "            </span>\n",
       "            <strong>Model Config</strong>\n",
       "            <div id=\"model_configeb0e7831-95d8-4037-98ca-c9198ba56e4e\" class=\"hidden section\">\n",
       "                <div><strong>target:</strong> [&#x27;rr1_30&#x27;]</div><div><strong>continuous_cols:</strong> [&#x27;coupon rate&#x27;, &#x27;SP500 MD&#x27;, &#x27;Average daily 1-year SP500 return&#x27;, &#x27;Ratio to MA&#x27;, &#x27;US Corporate Bond Yield Spread&#x27;, &#x27;US Corporate Bond Yield Spread(3-5 year)&#x27;, &#x27;US Corporate Bond Yield Spread(5-7 year)&#x27;, &#x27;US Corporate Bond Yield Spread(7-10 year)&#x27;, &#x27;US Corporate Bond Yield Spread(10+ year)&#x27;, &#x27;US Generic Govt 3 Month Yield&#x27;, &#x27;US Generic Govt 6 Month Yield&#x27;, &#x27;US Generic Govt 12 Month Yield&#x27;, &#x27;US Generic Govt 2 Year Yield&#x27;, &#x27;US Generic Govt 3 Year Yield&#x27;, &#x27;US Generic Govt 5 Year Yield&#x27;, &#x27;US Generic Govt 7 Year Yield&#x27;, &#x27;US Generic Govt 10 Year Yield&#x27;, &#x27;marketcap&#x27;, &#x27;sector_domicile_dtd&#x27;, &#x27;sector_exchange_dtd&#x27;, &#x27;sector_dtd&#x27;, &#x27;PD_1_domicile_sector&#x27;, &#x27;PD_3_domicile_sector&#x27;, &#x27;PD_12_domicile_sector&#x27;, &#x27;PD_1_domicile_subsec&#x27;, &#x27;PD_3_domicile_subsec&#x27;, &#x27;PD_12_domicile_subsec&#x27;, &#x27;PD_1_exch_sector&#x27;, &#x27;PD_3_exch_sector&#x27;, &#x27;PD_12_exch_sector&#x27;, &#x27;PD_1_exch_subsector&#x27;, &#x27;PD_3_exch_subsector&#x27;, &#x27;PD_12_exch_subsector&#x27;, &#x27;PD_1_global_sector&#x27;, &#x27;PD_3_global_sector&#x27;, &#x27;PD_12_global_sector&#x27;, &#x27;PD_1_global_subsector&#x27;, &#x27;PD_3_global_subsector&#x27;, &#x27;PD_12_global_subsector&#x27;, &#x27;domicile_subsec_dtd&#x27;, &#x27;exch_subsector_dtd&#x27;, &#x27;subsector_dtd&#x27;, &#x27;Stock_Index_Return&#x27;, &#x27;Three_Month_Rate_After_Demean&#x27;, &#x27;DTD_Level&#x27;, &#x27;M_Over_B&#x27;, &#x27;Sigma&#x27;, &#x27;1-year_GDP_growth&#x27;, &#x27;1-year_CPI_growth&#x27;, &#x27;1-year_PPI_growth&#x27;, &#x27;1-year_M1_growth&#x27;, &#x27;1-year_M2_growth&#x27;, &#x27;employment_rate&#x27;, &#x27;treasury_rate&#x27;, &#x27;interest_rate&#x27;, &#x27;economic_policy_uncertainty&#x27;, &#x27;1-year_housing&#x27;, &#x27;mktcap_median&#x27;, &#x27;ROA&#x27;, &#x27;shares_out_outstanding_shares&#x27;, &#x27;relative_size&#x27;, &#x27;current ratio&#x27;, &#x27;quick_ratio&#x27;, &#x27;debt_to_equity&#x27;, &#x27;liquidity_ratio&#x27;, &#x27;operating_margin&#x27;, &#x27;duration_in_years&#x27;, &#x27;ROE&#x27;, &#x27;Long-term_ratio&#x27;, &#x27;MA_Index_ratio&#x27;, &#x27;PD_1_sector_median&#x27;, &#x27;PD_3_sector_median&#x27;, &#x27;PD_12_sector_median&#x27;, &#x27;dtd_sector_median&#x27;, &#x27;dtd_median_exch&#x27;, &#x27;PD_1_median_exch&#x27;, &#x27;PD_3_median_exch&#x27;, &#x27;PD_12_median_exch&#x27;, &#x27;PD_1_median_domicile&#x27;, &#x27;PD_3_median_domicile&#x27;, &#x27;PD_12_median_domicile&#x27;, &#x27;equity_market_volatility_tracker_financial_crises&#x27;, &#x27;equity_market_volatility_tracker_financial_regulation&#x27;, &#x27;1_month_financial_uncertainty&#x27;, &#x27;3_month_financial_certainty&#x27;, &#x27;12_month_financial_certainty&#x27;, &#x27;consumer_sentiment_index&#x27;, &#x27;consumer_opinion_confidence_indicator&#x27;, &#x27;last price_new&#x27;, &#x27;dtd_sigma&#x27;, &#x27;PD_1_pd&#x27;, &#x27;PD_2_pd&#x27;, &#x27;PD_3_pd&#x27;, &#x27;PD_4_pd&#x27;, &#x27;PD_5_pd&#x27;, &#x27;PD_6_pd&#x27;, &#x27;PD_7_pd&#x27;, &#x27;PD_8_pd&#x27;, &#x27;PD_9_pd&#x27;, &#x27;PD_10_pd&#x27;, &#x27;PD_11_pd&#x27;, &#x27;PD_12_pd&#x27;, &#x27;PD_13_pd&#x27;, &#x27;PD_14_pd&#x27;, &#x27;PD_15_pd&#x27;, &#x27;PD_16_pd&#x27;, &#x27;PD_17_pd&#x27;, &#x27;PD_18_pd&#x27;, &#x27;PD_19_pd&#x27;, &#x27;PD_20_pd&#x27;, &#x27;PD_21_pd&#x27;, &#x27;PD_22_pd&#x27;, &#x27;PD_23_pd&#x27;, &#x27;PD_24_pd&#x27;, &#x27;PD_25_pd&#x27;, &#x27;PD_26_pd&#x27;, &#x27;PD_27_pd&#x27;, &#x27;PD_28_pd&#x27;, &#x27;PD_29_pd&#x27;, &#x27;PD_30_pd&#x27;, &#x27;PD_31_pd&#x27;, &#x27;PD_32_pd&#x27;, &#x27;PD_33_pd&#x27;, &#x27;PD_34_pd&#x27;, &#x27;PD_35_pd&#x27;, &#x27;PD_36_pd&#x27;, &#x27;PD_37_pd&#x27;, &#x27;PD_38_pd&#x27;, &#x27;PD_39_pd&#x27;, &#x27;PD_40_pd&#x27;, &#x27;PD_41_pd&#x27;, &#x27;PD_42_pd&#x27;, &#x27;PD_43_pd&#x27;, &#x27;PD_44_pd&#x27;, &#x27;PD_45_pd&#x27;, &#x27;PD_46_pd&#x27;, &#x27;PD_47_pd&#x27;, &#x27;PD_48_pd&#x27;, &#x27;PD_49_pd&#x27;, &#x27;PD_50_pd&#x27;, &#x27;PD_51_pd&#x27;, &#x27;PD_52_pd&#x27;, &#x27;PD_53_pd&#x27;, &#x27;PD_54_pd&#x27;, &#x27;PD_55_pd&#x27;, &#x27;PD_56_pd&#x27;, &#x27;PD_57_pd&#x27;, &#x27;PD_58_pd&#x27;, &#x27;PD_59_pd&#x27;, &#x27;PD_60_pd&#x27;, &#x27;DTD&#x27;, &#x27;NI_Over_TA&#x27;, &#x27;Size&#x27;]</div><div><strong>categorical_cols:</strong> [&#x27;currency&#x27;, &#x27;seniorioty_adj&#x27;, &#x27;domicile_country&#x27;, &#x27;exchange_country&#x27;, &#x27;Industry_sector&#x27;, &#x27;Industry_group&#x27;, &#x27;Industry_subgroup&#x27;, &#x27;event_type&#x27;, &#x27;event_type_subcategory_sum&#x27;, &#x27;defaulted_in_last_5_years&#x27;, &#x27;defaulted_in_last_6_months&#x27;]</div><div><strong>date_columns:</strong> []</div><div><strong>encode_date_columns:</strong> True</div><div><strong>validation_split:</strong> 0.2</div><div><strong>continuous_feature_transform:</strong> None</div><div><strong>normalize_continuous_features:</strong> True</div><div><strong>quantile_noise:</strong> 0</div><div><strong>num_workers:</strong> 0</div><div><strong>pin_memory:</strong> True</div><div><strong>handle_unknown_categories:</strong> True</div><div><strong>handle_missing_values:</strong> True</div>\n",
       "                <div>\n",
       "                    <span\n",
       "                    class=\"toggle-button\"\n",
       "                    onclick=\"toggleVisibility('model_configeb0e7831-95d8-4037-98ca-c9198ba56e4e_dataloader_kwargs421bece5-c50f-4415-9943-967fe9526412')\"\n",
       "                    >\n",
       "                    &#9654;\n",
       "                    </span>\n",
       "                    <strong>dataloader_kwargs</strong>\n",
       "                    <div id=\"model_configeb0e7831-95d8-4037-98ca-c9198ba56e4e_dataloader_kwargs421bece5-c50f-4415-9943-967fe9526412\" class=\"hidden section\">\n",
       "                        \n",
       "                    </div>\n",
       "                </div>\n",
       "                <div><strong>task:</strong> regression</div><div><strong>head:</strong> LinearHead</div>\n",
       "                <div>\n",
       "                    <span\n",
       "                    class=\"toggle-button\"\n",
       "                    onclick=\"toggleVisibility('model_configeb0e7831-95d8-4037-98ca-c9198ba56e4e_head_config696f5f77-0514-4056-8c29-fcfbecaa3e14')\"\n",
       "                    >\n",
       "                    &#9654;\n",
       "                    </span>\n",
       "                    <strong>head_config</strong>\n",
       "                    <div id=\"model_configeb0e7831-95d8-4037-98ca-c9198ba56e4e_head_config696f5f77-0514-4056-8c29-fcfbecaa3e14\" class=\"hidden section\">\n",
       "                        <div><strong>layers:</strong> </div>\n",
       "                    </div>\n",
       "                </div>\n",
       "                <div><strong>embedding_dims:</strong> None</div><div><strong>embedding_dropout:</strong> 0.0</div><div><strong>batch_norm_continuous_input:</strong> True</div><div><strong>learning_rate:</strong> 0.001</div><div><strong>loss:</strong> MSELoss</div><div><strong>metrics:</strong> [&#x27;mean_squared_error&#x27;]</div><div><strong>metrics_prob_input:</strong> [False]</div><div><strong>metrics_params:</strong> [{}]</div><div><strong>target_range:</strong> None</div><div><strong>virtual_batch_size:</strong> None</div><div><strong>seed:</strong> 42</div><div><strong>_module_src:</strong> models.gandalf</div><div><strong>_model_name:</strong> GANDALFModel</div><div><strong>_backbone_name:</strong> GANDALFBackbone</div><div><strong>_config_name:</strong> GANDALFConfig</div><div><strong>gflu_stages:</strong> 6</div><div><strong>gflu_dropout:</strong> 0.0</div><div><strong>gflu_feature_init_sparsity:</strong> 0.3</div><div><strong>learnable_sparsity:</strong> True</div><div><strong>batch_size:</strong> 32</div><div><strong>data_aware_init_batch_size:</strong> 2000</div><div><strong>fast_dev_run:</strong> False</div><div><strong>max_epochs:</strong> 100</div><div><strong>min_epochs:</strong> 1</div><div><strong>max_time:</strong> None</div><div><strong>accelerator:</strong> auto</div><div><strong>devices:</strong> -1</div><div><strong>devices_list:</strong> None</div><div><strong>accumulate_grad_batches:</strong> 1</div><div><strong>auto_lr_find:</strong> False</div><div><strong>auto_select_gpus:</strong> True</div><div><strong>check_val_every_n_epoch:</strong> 1</div><div><strong>gradient_clip_val:</strong> 0.0</div><div><strong>overfit_batches:</strong> 0.0</div><div><strong>deterministic:</strong> False</div><div><strong>profiler:</strong> None</div><div><strong>early_stopping:</strong> None</div><div><strong>early_stopping_min_delta:</strong> 0.001</div><div><strong>early_stopping_mode:</strong> min</div><div><strong>early_stopping_patience:</strong> 3</div>\n",
       "                <div>\n",
       "                    <span\n",
       "                    class=\"toggle-button\"\n",
       "                    onclick=\"toggleVisibility('model_configeb0e7831-95d8-4037-98ca-c9198ba56e4e_early_stopping_kwargs5be3773e-38dd-4ad5-9c0b-0a989c31cca1')\"\n",
       "                    >\n",
       "                    &#9654;\n",
       "                    </span>\n",
       "                    <strong>early_stopping_kwargs</strong>\n",
       "                    <div id=\"model_configeb0e7831-95d8-4037-98ca-c9198ba56e4e_early_stopping_kwargs5be3773e-38dd-4ad5-9c0b-0a989c31cca1\" class=\"hidden section\">\n",
       "                        \n",
       "                    </div>\n",
       "                </div>\n",
       "                <div><strong>checkpoints:</strong> valid_loss</div><div><strong>checkpoints_path:</strong> saved_models</div><div><strong>checkpoints_every_n_epochs:</strong> 1</div><div><strong>checkpoints_name:</strong> None</div><div><strong>checkpoints_mode:</strong> min</div><div><strong>checkpoints_save_top_k:</strong> 1</div>\n",
       "                <div>\n",
       "                    <span\n",
       "                    class=\"toggle-button\"\n",
       "                    onclick=\"toggleVisibility('model_configeb0e7831-95d8-4037-98ca-c9198ba56e4e_checkpoints_kwargse3f00532-4f6d-4ae8-bc4c-fc6cbf254ec1')\"\n",
       "                    >\n",
       "                    &#9654;\n",
       "                    </span>\n",
       "                    <strong>checkpoints_kwargs</strong>\n",
       "                    <div id=\"model_configeb0e7831-95d8-4037-98ca-c9198ba56e4e_checkpoints_kwargse3f00532-4f6d-4ae8-bc4c-fc6cbf254ec1\" class=\"hidden section\">\n",
       "                        \n",
       "                    </div>\n",
       "                </div>\n",
       "                <div><strong>load_best:</strong> True</div><div><strong>track_grad_norm:</strong> -1</div><div><strong>progress_bar:</strong> none</div><div><strong>precision:</strong> 32</div>\n",
       "                <div>\n",
       "                    <span\n",
       "                    class=\"toggle-button\"\n",
       "                    onclick=\"toggleVisibility('model_configeb0e7831-95d8-4037-98ca-c9198ba56e4e_trainer_kwargsa8e9fa99-bad8-414b-8aaa-3c4282aa915c')\"\n",
       "                    >\n",
       "                    &#9654;\n",
       "                    </span>\n",
       "                    <strong>trainer_kwargs</strong>\n",
       "                    <div id=\"model_configeb0e7831-95d8-4037-98ca-c9198ba56e4e_trainer_kwargsa8e9fa99-bad8-414b-8aaa-3c4282aa915c\" class=\"hidden section\">\n",
       "                        \n",
       "                    </div>\n",
       "                </div>\n",
       "                <div><strong>optimizer:</strong> Adam</div>\n",
       "                <div>\n",
       "                    <span\n",
       "                    class=\"toggle-button\"\n",
       "                    onclick=\"toggleVisibility('model_configeb0e7831-95d8-4037-98ca-c9198ba56e4e_optimizer_params48e56fba-58be-4787-bbf2-37f605768735')\"\n",
       "                    >\n",
       "                    &#9654;\n",
       "                    </span>\n",
       "                    <strong>optimizer_params</strong>\n",
       "                    <div id=\"model_configeb0e7831-95d8-4037-98ca-c9198ba56e4e_optimizer_params48e56fba-58be-4787-bbf2-37f605768735\" class=\"hidden section\">\n",
       "                        \n",
       "                    </div>\n",
       "                </div>\n",
       "                <div><strong>lr_scheduler:</strong> None</div>\n",
       "                <div>\n",
       "                    <span\n",
       "                    class=\"toggle-button\"\n",
       "                    onclick=\"toggleVisibility('model_configeb0e7831-95d8-4037-98ca-c9198ba56e4e_lr_scheduler_paramsd6e71beb-7062-4204-a401-30d8809d2454')\"\n",
       "                    >\n",
       "                    &#9654;\n",
       "                    </span>\n",
       "                    <strong>lr_scheduler_params</strong>\n",
       "                    <div id=\"model_configeb0e7831-95d8-4037-98ca-c9198ba56e4e_lr_scheduler_paramsd6e71beb-7062-4204-a401-30d8809d2454\" class=\"hidden section\">\n",
       "                        \n",
       "                    </div>\n",
       "                </div>\n",
       "                <div><strong>lr_scheduler_monitor_metric:</strong> valid_loss</div><div><strong>enable_checkpointing:</strong> True</div>\n",
       "            </div>\n",
       "        </div>\n",
       "        \n",
       "            \n",
       "        <div>\n",
       "            <span\n",
       "            class=\"toggle-button\"\n",
       "            onclick=\"toggleVisibility('model_summaryeb0e7831-95d8-4037-98ca-c9198ba56e4e')\"\n",
       "            >\n",
       "            &#9654;\n",
       "            </span>\n",
       "            <strong>Model Summary</strong>\n",
       "            <div id=\"model_summaryeb0e7831-95d8-4037-98ca-c9198ba56e4e\" class=\"hidden section\">\n",
       "                \n",
       "        <table>\n",
       "            <tr>\n",
       "                <th><b>Layer</b></th>\n",
       "                <th><b>Type</b></th>\n",
       "                <th><b>Params</b></th>\n",
       "                <th><b>In sizes</b></th>\n",
       "                <th><b>Out sizes</b></th>\n",
       "            </tr>\n",
       "        \n",
       "                <tr>\n",
       "                    <td>_backbone</td>\n",
       "                    <td>GANDALFBackbone</td>\n",
       "                    <td>2027778</td>\n",
       "                    <td>?</td>\n",
       "                    <td>?</td>\n",
       "                </tr>\n",
       "            \n",
       "                <tr>\n",
       "                    <td>_embedding_layer</td>\n",
       "                    <td>Embedding1dLayer</td>\n",
       "                    <td>2385</td>\n",
       "                    <td>?</td>\n",
       "                    <td>?</td>\n",
       "                </tr>\n",
       "            \n",
       "                <tr>\n",
       "                    <td>_head</td>\n",
       "                    <td>Sequential</td>\n",
       "                    <td>239</td>\n",
       "                    <td>?</td>\n",
       "                    <td>?</td>\n",
       "                </tr>\n",
       "            \n",
       "                <tr>\n",
       "                    <td>loss</td>\n",
       "                    <td>MSELoss</td>\n",
       "                    <td>0</td>\n",
       "                    <td>?</td>\n",
       "                    <td>?</td>\n",
       "                </tr>\n",
       "            </table>\n",
       "            </div>\n",
       "        </div>\n",
       "        \n",
       "        </div>\n",
       "        "
      ],
      "text/plain": [
       "TabularModel(\n",
       "  model=GANDALFModel,\n",
       "  config={\n",
       "    \"target\": [\n",
       "        \"rr1_30\"\n",
       "    ],\n",
       "    \"continuous_cols\": [\n",
       "        \"coupon rate\",\n",
       "        \"SP500 MD\",\n",
       "        \"Average daily 1-year SP500 return\",\n",
       "        \"Ratio to MA\",\n",
       "        \"US Corporate Bond Yield Spread\",\n",
       "        \"US Corporate Bond Yield Spread(3-5 year)\",\n",
       "        \"US Corporate Bond Yield Spread(5-7 year)\",\n",
       "        \"US Corporate Bond Yield Spread(7-10 year)\",\n",
       "        \"US Corporate Bond Yield Spread(10+ year)\",\n",
       "        \"US Generic Govt 3 Month Yield\",\n",
       "        \"US Generic Govt 6 Month Yield\",\n",
       "        \"US Generic Govt 12 Month Yield\",\n",
       "        \"US Generic Govt 2 Year Yield\",\n",
       "        \"US Generic Govt 3 Year Yield\",\n",
       "        \"US Generic Govt 5 Year Yield\",\n",
       "        \"US Generic Govt 7 Year Yield\",\n",
       "        \"US Generic Govt 10 Year Yield\",\n",
       "        \"marketcap\",\n",
       "        \"sector_domicile_dtd\",\n",
       "        \"sector_exchange_dtd\",\n",
       "        \"sector_dtd\",\n",
       "        \"PD_1_domicile_sector\",\n",
       "        \"PD_3_domicile_sector\",\n",
       "        \"PD_12_domicile_sector\",\n",
       "        \"PD_1_domicile_subsec\",\n",
       "        \"PD_3_domicile_subsec\",\n",
       "        \"PD_12_domicile_subsec\",\n",
       "        \"PD_1_exch_sector\",\n",
       "        \"PD_3_exch_sector\",\n",
       "        \"PD_12_exch_sector\",\n",
       "        \"PD_1_exch_subsector\",\n",
       "        \"PD_3_exch_subsector\",\n",
       "        \"PD_12_exch_subsector\",\n",
       "        \"PD_1_global_sector\",\n",
       "        \"PD_3_global_sector\",\n",
       "        \"PD_12_global_sector\",\n",
       "        \"PD_1_global_subsector\",\n",
       "        \"PD_3_global_subsector\",\n",
       "        \"PD_12_global_subsector\",\n",
       "        \"domicile_subsec_dtd\",\n",
       "        \"exch_subsector_dtd\",\n",
       "        \"subsector_dtd\",\n",
       "        \"Stock_Index_Return\",\n",
       "        \"Three_Month_Rate_After_Demean\",\n",
       "        \"DTD_Level\",\n",
       "        \"M_Over_B\",\n",
       "        \"Sigma\",\n",
       "        \"1-year_GDP_growth\",\n",
       "        \"1-year_CPI_growth\",\n",
       "        \"1-year_PPI_growth\",\n",
       "        \"1-year_M1_growth\",\n",
       "        \"1-year_M2_growth\",\n",
       "        \"employment_rate\",\n",
       "        \"treasury_rate\",\n",
       "        \"interest_rate\",\n",
       "        \"economic_policy_uncertainty\",\n",
       "        \"1-year_housing\",\n",
       "        \"mktcap_median\",\n",
       "        \"ROA\",\n",
       "        \"shares_out_outstanding_shares\",\n",
       "        \"relative_size\",\n",
       "        \"current ratio\",\n",
       "        \"quick_ratio\",\n",
       "        \"debt_to_equity\",\n",
       "        \"liquidity_ratio\",\n",
       "        \"operating_margin\",\n",
       "        \"duration_in_years\",\n",
       "        \"ROE\",\n",
       "        \"Long-term_ratio\",\n",
       "        \"MA_Index_ratio\",\n",
       "        \"PD_1_sector_median\",\n",
       "        \"PD_3_sector_median\",\n",
       "        \"PD_12_sector_median\",\n",
       "        \"dtd_sector_median\",\n",
       "        \"dtd_median_exch\",\n",
       "        \"PD_1_median_exch\",\n",
       "        \"PD_3_median_exch\",\n",
       "        \"PD_12_median_exch\",\n",
       "        \"PD_1_median_domicile\",\n",
       "        \"PD_3_median_domicile\",\n",
       "        \"PD_12_median_domicile\",\n",
       "        \"equity_market_volatility_tracker_financial_crises\",\n",
       "        \"equity_market_volatility_tracker_financial_regulation\",\n",
       "        \"1_month_financial_uncertainty\",\n",
       "        \"3_month_financial_certainty\",\n",
       "        \"12_month_financial_certainty\",\n",
       "        \"consumer_sentiment_index\",\n",
       "        \"consumer_opinion_confidence_indicator\",\n",
       "        \"last price_new\",\n",
       "        \"dtd_sigma\",\n",
       "        \"PD_1_pd\",\n",
       "        \"PD_2_pd\",\n",
       "        \"PD_3_pd\",\n",
       "        \"PD_4_pd\",\n",
       "        \"PD_5_pd\",\n",
       "        \"PD_6_pd\",\n",
       "        \"PD_7_pd\",\n",
       "        \"PD_8_pd\",\n",
       "        \"PD_9_pd\",\n",
       "        \"PD_10_pd\",\n",
       "        \"PD_11_pd\",\n",
       "        \"PD_12_pd\",\n",
       "        \"PD_13_pd\",\n",
       "        \"PD_14_pd\",\n",
       "        \"PD_15_pd\",\n",
       "        \"PD_16_pd\",\n",
       "        \"PD_17_pd\",\n",
       "        \"PD_18_pd\",\n",
       "        \"PD_19_pd\",\n",
       "        \"PD_20_pd\",\n",
       "        \"PD_21_pd\",\n",
       "        \"PD_22_pd\",\n",
       "        \"PD_23_pd\",\n",
       "        \"PD_24_pd\",\n",
       "        \"PD_25_pd\",\n",
       "        \"PD_26_pd\",\n",
       "        \"PD_27_pd\",\n",
       "        \"PD_28_pd\",\n",
       "        \"PD_29_pd\",\n",
       "        \"PD_30_pd\",\n",
       "        \"PD_31_pd\",\n",
       "        \"PD_32_pd\",\n",
       "        \"PD_33_pd\",\n",
       "        \"PD_34_pd\",\n",
       "        \"PD_35_pd\",\n",
       "        \"PD_36_pd\",\n",
       "        \"PD_37_pd\",\n",
       "        \"PD_38_pd\",\n",
       "        \"PD_39_pd\",\n",
       "        \"PD_40_pd\",\n",
       "        \"PD_41_pd\",\n",
       "        \"PD_42_pd\",\n",
       "        \"PD_43_pd\",\n",
       "        \"PD_44_pd\",\n",
       "        \"PD_45_pd\",\n",
       "        \"PD_46_pd\",\n",
       "        \"PD_47_pd\",\n",
       "        \"PD_48_pd\",\n",
       "        \"PD_49_pd\",\n",
       "        \"PD_50_pd\",\n",
       "        \"PD_51_pd\",\n",
       "        \"PD_52_pd\",\n",
       "        \"PD_53_pd\",\n",
       "        \"PD_54_pd\",\n",
       "        \"PD_55_pd\",\n",
       "        \"PD_56_pd\",\n",
       "        \"PD_57_pd\",\n",
       "        \"PD_58_pd\",\n",
       "        \"PD_59_pd\",\n",
       "        \"PD_60_pd\",\n",
       "        \"DTD\",\n",
       "        \"NI_Over_TA\",\n",
       "        \"Size\"\n",
       "    ],\n",
       "    \"categorical_cols\": [\n",
       "        \"currency\",\n",
       "        \"seniorioty_adj\",\n",
       "        \"domicile_country\",\n",
       "        \"exchange_country\",\n",
       "        \"Industry_sector\",\n",
       "        \"Industry_group\",\n",
       "        \"Industry_subgroup\",\n",
       "        \"event_type\",\n",
       "        \"event_type_subcategory_sum\",\n",
       "        \"defaulted_in_last_5_years\",\n",
       "        \"defaulted_in_last_6_months\"\n",
       "    ],\n",
       "    \"date_columns\": [],\n",
       "    \"encode_date_columns\": true,\n",
       "    \"validation_split\": 0.2,\n",
       "    \"continuous_feature_transform\": null,\n",
       "    \"normalize_continuous_features\": true,\n",
       "    \"quantile_noise\": 0,\n",
       "    \"num_workers\": 0,\n",
       "    \"pin_memory\": true,\n",
       "    \"handle_unknown_categories\": true,\n",
       "    \"handle_missing_values\": true,\n",
       "    \"dataloader_kwargs\": {},\n",
       "    \"task\": \"regression\",\n",
       "    \"head\": \"LinearHead\",\n",
       "    \"head_config\": {\n",
       "        \"layers\": \"\"\n",
       "    },\n",
       "    \"embedding_dims\": null,\n",
       "    \"embedding_dropout\": 0.0,\n",
       "    \"batch_norm_continuous_input\": true,\n",
       "    \"learning_rate\": 0.001,\n",
       "    \"loss\": \"MSELoss\",\n",
       "    \"metrics\": [\n",
       "        \"mean_squared_error\"\n",
       "    ],\n",
       "    \"metrics_prob_input\": [\n",
       "        false\n",
       "    ],\n",
       "    \"metrics_params\": [\n",
       "        {}\n",
       "    ],\n",
       "    \"target_range\": null,\n",
       "    \"virtual_batch_size\": null,\n",
       "    \"seed\": 42,\n",
       "    \"_module_src\": \"models.gandalf\",\n",
       "    \"_model_name\": \"GANDALFModel\",\n",
       "    \"_backbone_name\": \"GANDALFBackbone\",\n",
       "    \"_config_name\": \"GANDALFConfig\",\n",
       "    \"gflu_stages\": 6,\n",
       "    \"gflu_dropout\": 0.0,\n",
       "    \"gflu_feature_init_sparsity\": 0.3,\n",
       "    \"learnable_sparsity\": true,\n",
       "    \"batch_size\": 32,\n",
       "    \"data_aware_init_batch_size\": 2000,\n",
       "    \"fast_dev_run\": false,\n",
       "    \"max_epochs\": 100,\n",
       "    \"min_epochs\": 1,\n",
       "    \"max_time\": null,\n",
       "    \"accelerator\": \"auto\",\n",
       "    \"devices\": -1,\n",
       "    \"devices_list\": null,\n",
       "    \"accumulate_grad_batches\": 1,\n",
       "    \"auto_lr_find\": false,\n",
       "    \"auto_select_gpus\": true,\n",
       "    \"check_val_every_n_epoch\": 1,\n",
       "    \"gradient_clip_val\": 0.0,\n",
       "    \"overfit_batches\": 0.0,\n",
       "    \"deterministic\": false,\n",
       "    \"profiler\": null,\n",
       "    \"early_stopping\": null,\n",
       "    \"early_stopping_min_delta\": 0.001,\n",
       "    \"early_stopping_mode\": \"min\",\n",
       "    \"early_stopping_patience\": 3,\n",
       "    \"early_stopping_kwargs\": {},\n",
       "    \"checkpoints\": \"valid_loss\",\n",
       "    \"checkpoints_path\": \"saved_models\",\n",
       "    \"checkpoints_every_n_epochs\": 1,\n",
       "    \"checkpoints_name\": null,\n",
       "    \"checkpoints_mode\": \"min\",\n",
       "    \"checkpoints_save_top_k\": 1,\n",
       "    \"checkpoints_kwargs\": {},\n",
       "    \"load_best\": true,\n",
       "    \"track_grad_norm\": -1,\n",
       "    \"progress_bar\": \"none\",\n",
       "    \"precision\": 32,\n",
       "    \"trainer_kwargs\": {},\n",
       "    \"optimizer\": \"Adam\",\n",
       "    \"optimizer_params\": {},\n",
       "    \"lr_scheduler\": null,\n",
       "    \"lr_scheduler_params\": {},\n",
       "    \"lr_scheduler_monitor_metric\": \"valid_loss\",\n",
       "    \"enable_checkpointing\": true\n",
       "},"
      ]
     },
     "execution_count": 28,
     "metadata": {},
     "output_type": "execute_result"
    }
   ],
   "source": [
    "best_model"
   ]
  },
  {
   "cell_type": "code",
   "execution_count": 29,
   "metadata": {},
   "outputs": [
    {
     "data": {
      "text/plain": [
       "['run/all/final_models/final.joblib']"
      ]
     },
     "execution_count": 29,
     "metadata": {},
     "output_type": "execute_result"
    }
   ],
   "source": [
    "# saving model\n",
    "joblib.dump(best_model, f\"{PROJECT_NAME}/final_models/final.joblib\")"
   ]
  }
 ],
 "metadata": {
  "kernelspec": {
   "display_name": ".henv",
   "language": "python",
   "name": "python3"
  },
  "language_info": {
   "codemirror_mode": {
    "name": "ipython",
    "version": 3
   },
   "file_extension": ".py",
   "mimetype": "text/x-python",
   "name": "python",
   "nbconvert_exporter": "python",
   "pygments_lexer": "ipython3",
   "version": "3.12.3"
  }
 },
 "nbformat": 4,
 "nbformat_minor": 2
}
