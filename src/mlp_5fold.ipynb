{
 "cells": [
  {
   "cell_type": "code",
   "execution_count": 1,
   "metadata": {},
   "outputs": [],
   "source": [
    "import math\n",
    "from typing import List\n",
    "import sys\n",
    "import os\n",
    "from pathlib import Path\n",
    "import numpy as np\n",
    "import torch\n",
    "import torch.nn as nn\n",
    "import torch.nn.functional as F\n",
    "from tqdm import tqdm\n",
    "from torch.utils.data import DataLoader, Dataset\n",
    "import pandas as pd\n",
    "from sklearn.compose import ColumnTransformer\n",
    "from sklearn.discriminant_analysis import StandardScaler\n",
    "from copy import deepcopy\n",
    "import torch.optim as optim\n",
    "import optuna\n",
    "from optuna.trial import TrialState\n",
    "import statistics\n",
    "from sklearn.model_selection import KFold\n",
    "import time\n",
    "from mlp import MLP, CustomDataset\n",
    "from utils import calculate_metric"
   ]
  },
  {
   "cell_type": "code",
   "execution_count": 2,
   "metadata": {},
   "outputs": [],
   "source": [
    "sys.path.insert(0, os.path.abspath(os.path.join(os.getcwd(), \"..\")))"
   ]
  },
  {
   "cell_type": "code",
   "execution_count": 19,
   "metadata": {},
   "outputs": [],
   "source": [
    "DATA_FOLDER = \"../data\"\n",
    "TRAIN_FEATURES = DATA_FOLDER + '/train_features2.xlsx'\n",
    "TRAIN_LABELS = DATA_FOLDER + \"/train_labels2.xlsx\"\n",
    "TEST_FEATURES = DATA_FOLDER + \"/test_features2.xlsx\"\n",
    "TEST_LABELS = DATA_FOLDER + \"/test_labels2.xlsx\"\n",
    "\n",
    "OUTPUT_PATH = '../output/mlp'\n",
    "\n",
    "TRAINING_OUTPUT_FILE = '../output/train_predictions.xlsx'\n",
    "TEST_OUTPUT_FILE = '../output/test_predictions.xlsx'\n",
    "SHEET_NAME = \"mlp\"\n",
    "OOF_PREDICTIONS_FILE = '../output/oof_predictions.xlsx'\n",
    "\n",
    "MODEL_PATH = OUTPUT_PATH + '/best_mlp_model.pth'\n",
    "BATCH_SIZE = 1\n",
    "\n",
    "DEVICE = torch.device('cuda:1' if torch.cuda.is_available() else 'cpu')\n",
    "DEVICE_LIST = [1, 3, 2, 0]\n",
    "\n",
    "Path(OUTPUT_PATH).mkdir(parents=True, exist_ok=True)"
   ]
  },
  {
   "cell_type": "code",
   "execution_count": 18,
   "metadata": {},
   "outputs": [
    {
     "data": {
      "text/plain": [
       "device(type='cuda', index=0)"
      ]
     },
     "execution_count": 18,
     "metadata": {},
     "output_type": "execute_result"
    }
   ],
   "source": [
    "DEVICE"
   ]
  },
  {
   "cell_type": "code",
   "execution_count": 5,
   "metadata": {},
   "outputs": [],
   "source": [
    "train_feature_df = pd.read_excel(TRAIN_FEATURES)\n",
    "train_label_df = pd.read_excel(TRAIN_LABELS)\n",
    "test_feature_df = pd.read_excel(TEST_FEATURES)\n",
    "test_label_df = pd.read_excel(TEST_LABELS)"
   ]
  },
  {
   "cell_type": "code",
   "execution_count": 6,
   "metadata": {},
   "outputs": [
    {
     "name": "stdout",
     "output_type": "stream",
     "text": [
      "162\n",
      "155\n"
     ]
    }
   ],
   "source": [
    "feature_list = train_feature_df.columns\n",
    "category_feature_key = ['currency', 'seniorioty_adj', 'domicile_country',\t'exchange_country',\t'Industry_sector',\t'Industry_group',\t'Industry_subgroup', 'event_type',\n",
    "                        'event_type_subcategory_sum']\n",
    "category_features = [i for i in feature_list if any(sub in i for sub in category_feature_key)]\n",
    "non_category_features = [i for i in feature_list if i not in category_features]\n",
    "\n",
    "print(len(category_features))\n",
    "print(len(non_category_features))"
   ]
  },
  {
   "cell_type": "code",
   "execution_count": 7,
   "metadata": {},
   "outputs": [],
   "source": [
    "# Normalize the data\n",
    "# Prepare the ColumnTransformer\n",
    "scaler = ColumnTransformer(\n",
    "    transformers=[\n",
    "        ('num', StandardScaler(), non_category_features)   # StandardScaler()\n",
    "    ],\n",
    "    remainder='passthrough'  # Leave categorical features untouched\n",
    ")\n",
    "\n"
   ]
  },
  {
   "cell_type": "markdown",
   "metadata": {},
   "source": [
    "TUNING PARAMETERS"
   ]
  },
  {
   "cell_type": "code",
   "execution_count": 8,
   "metadata": {},
   "outputs": [],
   "source": [
    "EPOCHS = 50"
   ]
  },
  {
   "cell_type": "code",
   "execution_count": 9,
   "metadata": {},
   "outputs": [],
   "source": [
    "def objective(trial):\n",
    "    # Define hyperparameters\n",
    "    num_blocks = trial.suggest_int('num_blocks', 1, 5)\n",
    "    \n",
    "    out_features_list = []\n",
    "    for i in range(num_blocks):\n",
    "        out_features = trial.suggest_int(f'out_features_{i}', 10, 128)\n",
    "        out_features_list.append(out_features)\n",
    "\n",
    "    p = trial.suggest_float(\"dropout_l{}\".format(i), 0, 0.5)\n",
    "    activation_name = trial.suggest_categorical(f'activation_{i}', ['ReLU', 'Tanh', 'LeakyReLU'])\n",
    "    negative_slope = 0.01\n",
    "    if activation_name == 'LeakyReLU':\n",
    "        negative_slope = trial.suggest_float(f\"negative_slope_{i}\", 0.01, 1)\n",
    "\n",
    "    # Generate the optimizers.\n",
    "    optimizer_name = trial.suggest_categorical(\"optimizer\", [\"Adam\", \"RMSprop\", \"SGD\"])\n",
    "    lr = trial.suggest_float(\"lr\", 1e-5, 1e-1, log=True)\n",
    "    weight_decay = trial.suggest_float(\"weight_decay\", 1e-9, 1e-1, log=True)\n",
    "\n",
    "    # Define cross-validation setup\n",
    "    kf = KFold(n_splits=5, shuffle=True, random_state=42)\n",
    "    val_losses = []\n",
    "\n",
    "    for train_idx, val_idx in kf.split(train_feature_df):\n",
    "        # Create training and validation datasets for the current fold\n",
    "        X_train_fold, X_val_fold = train_feature_df.iloc[train_idx], train_feature_df.iloc[val_idx]\n",
    "        y_train_fold, y_val_fold = train_label_df.iloc[train_idx], train_label_df.iloc[val_idx]\n",
    "        \n",
    "        # scaling features\n",
    "        X_train_fold = scaler.fit_transform(X_train_fold)\n",
    "        X_val_fold = scaler.transform(X_val_fold)\n",
    "            \n",
    "        # Initialize the model for this fold\n",
    "        model = MLP(d_in=X_train_fold.shape[1], d_layers=out_features_list, dropout=p, d_out=1, activation_name=activation_name, negative_slope=negative_slope)\n",
    "        model = nn.DataParallel(model, device_ids = DEVICE_LIST)\n",
    "        model.to(DEVICE)\n",
    "        \n",
    "        # define optimizer\n",
    "        if optimizer_name == \"Adam\":\n",
    "         optimizer = getattr(optim, optimizer_name)(model.parameters(), lr=lr, weight_decay=weight_decay)\n",
    "        else:\n",
    "            momentum = trial.suggest_float(\"momentum\", 1e-9, 0.95, log=True)\n",
    "            optimizer = getattr(optim, optimizer_name)(model.parameters(), lr=lr, weight_decay=weight_decay, momentum=momentum)\n",
    "        \n",
    "        # Define the loss function and optimizer\n",
    "        criterion = nn.MSELoss()\n",
    "        \n",
    "        # Prepare DataLoader for training\n",
    "        train_dataset = CustomDataset(X_train_fold, y_train_fold.to_numpy())\n",
    "        val_dataset = CustomDataset(X_val_fold, y_val_fold.to_numpy())\n",
    "        train_loader = DataLoader(train_dataset, batch_size=BATCH_SIZE, shuffle=True)\n",
    "        val_loader = DataLoader(val_dataset, batch_size=BATCH_SIZE, shuffle=True)\n",
    "            \n",
    "        # Training of the model.\n",
    "        model.train()\n",
    "        for epoch in range(EPOCHS):\n",
    "            for batch_idx, (data, target) in enumerate(train_loader):\n",
    "                data, target = data.to(DEVICE), target.to(DEVICE)\n",
    "\n",
    "                optimizer.zero_grad()\n",
    "                output = model(data)\n",
    "                # print(\"shape\", output.shape, target.shape)\n",
    "                loss = criterion(output, target)\n",
    "                loss.backward()\n",
    "                optimizer.step()\n",
    "\n",
    "        # Validation of the model.\n",
    "        model.eval()\n",
    "        val_loss = 0\n",
    "        with torch.no_grad():\n",
    "            for batch_idx, (data, target) in enumerate(val_loader):\n",
    "                data, target = data.to(DEVICE), target.to(DEVICE)\n",
    "                output = model(data)\n",
    "                val_loss = criterion(output, target).item()\n",
    "                val_losses.append(val_loss**0.5) #rmse\n",
    "\n",
    "        trial.report(val_loss, epoch)\n",
    "\n",
    "    # Return the average validation loss across all folds\n",
    "    # return torch.stack(val_losses).mean()\n",
    "    return np.mean(val_losses)\n"
   ]
  },
  {
   "cell_type": "code",
   "execution_count": 19,
   "metadata": {},
   "outputs": [
    {
     "name": "stderr",
     "output_type": "stream",
     "text": [
      "[I 2024-08-25 15:54:44,673] A new study created in memory with name: no-name-eb8841d3-adf5-46ea-926a-11e0f35b94ac\n",
      "/home/nguyenhoa/miniconda3/envs/.henv/lib/python3.12/site-packages/optuna/trial/_trial.py:493: UserWarning: The reported value is ignored because this `step` 49 is already reported.\n",
      "  warnings.warn(\n",
      "/home/nguyenhoa/miniconda3/envs/.henv/lib/python3.12/site-packages/optuna/trial/_trial.py:493: UserWarning: The reported value is ignored because this `step` 49 is already reported.\n",
      "  warnings.warn(\n",
      "/home/nguyenhoa/miniconda3/envs/.henv/lib/python3.12/site-packages/optuna/trial/_trial.py:493: UserWarning: The reported value is ignored because this `step` 49 is already reported.\n",
      "  warnings.warn(\n",
      "/home/nguyenhoa/miniconda3/envs/.henv/lib/python3.12/site-packages/optuna/trial/_trial.py:493: UserWarning: The reported value is ignored because this `step` 49 is already reported.\n",
      "  warnings.warn(\n",
      "[I 2024-08-25 16:01:49,560] Trial 0 finished with value: 2432.6910608637604 and parameters: {'num_blocks': 2, 'out_features_0': 61, 'out_features_1': 114, 'dropout_l1': 0.4013008178333556, 'activation_1': 'LeakyReLU', 'negative_slope_1': 0.10978292580633606, 'optimizer': 'Adam', 'lr': 0.017973157849776145, 'weight_decay': 1.838324949772914e-07}. Best is trial 0 with value: 2432.6910608637604.\n",
      "/home/nguyenhoa/miniconda3/envs/.henv/lib/python3.12/site-packages/optuna/trial/_trial.py:493: UserWarning: The reported value is ignored because this `step` 49 is already reported.\n",
      "  warnings.warn(\n",
      "/home/nguyenhoa/miniconda3/envs/.henv/lib/python3.12/site-packages/optuna/trial/_trial.py:493: UserWarning: The reported value is ignored because this `step` 49 is already reported.\n",
      "  warnings.warn(\n",
      "/home/nguyenhoa/miniconda3/envs/.henv/lib/python3.12/site-packages/optuna/trial/_trial.py:493: UserWarning: The reported value is ignored because this `step` 49 is already reported.\n",
      "  warnings.warn(\n",
      "/home/nguyenhoa/miniconda3/envs/.henv/lib/python3.12/site-packages/optuna/trial/_trial.py:493: UserWarning: The reported value is ignored because this `step` 49 is already reported.\n",
      "  warnings.warn(\n",
      "[I 2024-08-25 16:11:06,716] Trial 1 finished with value: 0.26464127320230924 and parameters: {'num_blocks': 5, 'out_features_0': 125, 'out_features_1': 97, 'out_features_2': 35, 'out_features_3': 43, 'out_features_4': 33, 'dropout_l4': 0.027688994176150394, 'activation_4': 'LeakyReLU', 'negative_slope_4': 0.5381973959626298, 'optimizer': 'SGD', 'lr': 0.00030180928303074906, 'weight_decay': 3.347848174151389e-05, 'momentum': 0.00030930595636861923}. Best is trial 1 with value: 0.26464127320230924.\n"
     ]
    },
    {
     "name": "stdout",
     "output_type": "stream",
     "text": [
      "Study statistics: \n",
      "  Number of finished trials:  2\n",
      "  Number of pruned trials:  0\n",
      "  Number of complete trials:  2\n",
      "Best trial:\n",
      "  Value:  0.26464127320230924\n",
      "  Params: \n",
      "    num_blocks: 5\n",
      "    out_features_0: 125\n",
      "    out_features_1: 97\n",
      "    out_features_2: 35\n",
      "    out_features_3: 43\n",
      "    out_features_4: 33\n",
      "    dropout_l4: 0.027688994176150394\n",
      "    activation_4: LeakyReLU\n",
      "    negative_slope_4: 0.5381973959626298\n",
      "    optimizer: SGD\n",
      "    lr: 0.00030180928303074906\n",
      "    weight_decay: 3.347848174151389e-05\n",
      "    momentum: 0.00030930595636861923\n"
     ]
    }
   ],
   "source": [
    "# 3. Create a study object and optimize the objective function.\n",
    "study = optuna.create_study(direction=\"minimize\")\n",
    "study.optimize(objective, n_trials=100, timeout=600)\n",
    "\n",
    "pruned_trials = study.get_trials(deepcopy=False, states=[TrialState.PRUNED])\n",
    "complete_trials = study.get_trials(deepcopy=False, states=[TrialState.COMPLETE])\n",
    "\n",
    "print(\"Study statistics: \")\n",
    "print(\"  Number of finished trials: \", len(study.trials))\n",
    "print(\"  Number of pruned trials: \", len(pruned_trials))\n",
    "print(\"  Number of complete trials: \", len(complete_trials))\n",
    "\n",
    "print(\"Best trial:\")\n",
    "trial = study.best_trial\n",
    "\n",
    "print(\"  Value: \", trial.value)\n",
    "\n",
    "print(\"  Params: \")\n",
    "for key, value in trial.params.items():\n",
    "    print(\"    {}: {}\".format(key, value))\n"
   ]
  },
  {
   "cell_type": "code",
   "execution_count": null,
   "metadata": {},
   "outputs": [
    {
     "data": {
      "text/plain": [
       "{'num_blocks': 4,\n",
       " 'out_features_0': 68,\n",
       " 'out_features_1': 18,\n",
       " 'out_features_2': 43,\n",
       " 'out_features_3': 30,\n",
       " 'dropout_l3': 0.36051593533006826,\n",
       " 'activation_3': 'Tanh',\n",
       " 'optimizer': 'Adam',\n",
       " 'lr': 0.0012567816952842909,\n",
       " 'weight_decay': 2.0076983019785407e-06}"
      ]
     },
     "execution_count": 39,
     "metadata": {},
     "output_type": "execute_result"
    }
   ],
   "source": [
    "trial.params"
   ]
  },
  {
   "cell_type": "code",
   "execution_count": 10,
   "metadata": {},
   "outputs": [],
   "source": [
    "# best_params = trial.params\n",
    "best_params = {'num_blocks': 4,\n",
    " 'out_features_0': 68,\n",
    " 'out_features_1': 18,\n",
    " 'out_features_2': 43,\n",
    " 'out_features_3': 30,\n",
    " 'dropout_l3': 0.36051593533006826,\n",
    " 'activation_3': 'Tanh',\n",
    " 'optimizer': 'Adam',\n",
    " 'lr': 0.0012567816952842909,\n",
    " 'weight_decay': 2.0076983019785407e-06}"
   ]
  },
  {
   "cell_type": "code",
   "execution_count": 11,
   "metadata": {},
   "outputs": [],
   "source": [
    "MODEL_CONFIG = {\"linear\": [], \"dropout\": 0, \"optimizer\": {}, \"negative_slope\": 0.01, \"activation_name\": \"\"}\n",
    "\n",
    "for key, value in best_params.items():\n",
    "    if \"out_features\" in key:\n",
    "        MODEL_CONFIG[\"linear\"].append(value)\n",
    "    elif \"dropout\" in key:\n",
    "        MODEL_CONFIG[\"dropout\"] = value\n",
    "    elif \"negative_slope\" in key:\n",
    "        MODEL_CONFIG[\"negative_slope\"] = value\n",
    "    elif \"activation\" in key:\n",
    "        MODEL_CONFIG[\"activation_name\"] = value\n",
    "    elif \"num_blocks\" in key:\n",
    "        continue\n",
    "    else:\n",
    "        MODEL_CONFIG[\"optimizer\"][key] = value"
   ]
  },
  {
   "cell_type": "code",
   "execution_count": 12,
   "metadata": {},
   "outputs": [
    {
     "data": {
      "text/plain": [
       "{'linear': [68, 18, 43, 30],\n",
       " 'dropout': 0.36051593533006826,\n",
       " 'optimizer': {'optimizer': 'Adam',\n",
       "  'lr': 0.0012567816952842909,\n",
       "  'weight_decay': 2.0076983019785407e-06},\n",
       " 'negative_slope': 0.01,\n",
       " 'activation_name': 'Tanh'}"
      ]
     },
     "execution_count": 12,
     "metadata": {},
     "output_type": "execute_result"
    }
   ],
   "source": [
    "MODEL_CONFIG"
   ]
  },
  {
   "cell_type": "markdown",
   "metadata": {},
   "source": [
    "RUNNING THE MODEL"
   ]
  },
  {
   "cell_type": "code",
   "execution_count": 13,
   "metadata": {},
   "outputs": [],
   "source": [
    "# Transform training data\n",
    "train_features = scaler.fit_transform(train_feature_df)\n",
    "test_features = scaler.transform(test_feature_df)\n",
    "\n",
    "new_feature_list = non_category_features + category_features"
   ]
  },
  {
   "cell_type": "code",
   "execution_count": 14,
   "metadata": {},
   "outputs": [],
   "source": [
    "# Create dataset instances\n",
    "train_dataset = CustomDataset(train_features, train_label_df.to_numpy())\n",
    "test_dataset = CustomDataset(test_features, test_label_df.to_numpy())\n",
    "\n",
    "train_loader = DataLoader(train_dataset, batch_size=BATCH_SIZE, shuffle=False)\n",
    "test_loader = DataLoader(test_dataset, batch_size=test_feature_df.shape[0], shuffle=False)"
   ]
  },
  {
   "cell_type": "code",
   "execution_count": 23,
   "metadata": {},
   "outputs": [
    {
     "data": {
      "text/plain": [
       "MLP(\n",
       "  (linear_layers): ModuleList(\n",
       "    (0): Linear(in_features=317, out_features=68, bias=True)\n",
       "    (1): Linear(in_features=68, out_features=18, bias=True)\n",
       "    (2): Linear(in_features=18, out_features=43, bias=True)\n",
       "    (3): Linear(in_features=43, out_features=30, bias=True)\n",
       "  )\n",
       "  (dropout_layer): Dropout(p=0.36051593533006826, inplace=False)\n",
       "  (head): Linear(in_features=30, out_features=1, bias=True)\n",
       "  (activation_layer): Tanh()\n",
       ")"
      ]
     },
     "execution_count": 23,
     "metadata": {},
     "output_type": "execute_result"
    }
   ],
   "source": [
    "# model = MLP(d_in=train_features.shape[1], d_layers=MODEL_CONFIG[\"linear\"], dropout=MODEL_CONFIG[\"dropout\"], d_out=1).to(DEVICE)\n",
    "model = MLP(d_in=train_features.shape[1], d_layers=MODEL_CONFIG[\"linear\"], dropout=MODEL_CONFIG[\"dropout\"], d_out=1, activation_name=MODEL_CONFIG[\"activation_name\"], negative_slope=MODEL_CONFIG['negative_slope'])\n",
    "model"
   ]
  },
  {
   "cell_type": "code",
   "execution_count": 21,
   "metadata": {},
   "outputs": [],
   "source": [
    "# empty cache first\n",
    "torch.cuda.empty_cache()"
   ]
  },
  {
   "cell_type": "code",
   "execution_count": 22,
   "metadata": {},
   "outputs": [
    {
     "data": {
      "text/plain": [
       "DataParallel(\n",
       "  (module): MLP(\n",
       "    (linear_layers): ModuleList(\n",
       "      (0): Linear(in_features=317, out_features=68, bias=True)\n",
       "      (1): Linear(in_features=68, out_features=18, bias=True)\n",
       "      (2): Linear(in_features=18, out_features=43, bias=True)\n",
       "      (3): Linear(in_features=43, out_features=30, bias=True)\n",
       "    )\n",
       "    (dropout_layer): Dropout(p=0.36051593533006826, inplace=False)\n",
       "    (head): Linear(in_features=30, out_features=1, bias=True)\n",
       "    (activation_layer): Tanh()\n",
       "  )\n",
       ")"
      ]
     },
     "execution_count": 22,
     "metadata": {},
     "output_type": "execute_result"
    }
   ],
   "source": [
    "model = nn.DataParallel(model, device_ids = DEVICE_LIST)\n",
    "model.to(DEVICE)"
   ]
  },
  {
   "cell_type": "code",
   "execution_count": 21,
   "metadata": {},
   "outputs": [
    {
     "data": {
      "text/plain": [
       "Adam (\n",
       "Parameter Group 0\n",
       "    amsgrad: False\n",
       "    betas: (0.9, 0.999)\n",
       "    capturable: False\n",
       "    differentiable: False\n",
       "    eps: 1e-08\n",
       "    foreach: None\n",
       "    fused: None\n",
       "    lr: 0.0012567816952842909\n",
       "    maximize: False\n",
       "    weight_decay: 2.0076983019785407e-06\n",
       ")"
      ]
     },
     "execution_count": 21,
     "metadata": {},
     "output_type": "execute_result"
    }
   ],
   "source": [
    "# define optimizer\n",
    "optim_config = deepcopy(MODEL_CONFIG[\"optimizer\"])\n",
    "del optim_config[\"optimizer\"]\n",
    "\n",
    "optimizer = getattr(optim, MODEL_CONFIG[\"optimizer\"][\"optimizer\"])(model.parameters(), **optim_config)\n",
    "optimizer"
   ]
  },
  {
   "cell_type": "code",
   "execution_count": 30,
   "metadata": {},
   "outputs": [
    {
     "name": "stderr",
     "output_type": "stream",
     "text": [
      "  0%|          | 0/500 [00:00<?, ?it/s]/Library/Frameworks/Python.framework/Versions/3.12/lib/python3.12/site-packages/torch/nn/modules/loss.py:608: UserWarning: Using a target size (torch.Size([1, 1])) that is different to the input size (torch.Size([1])). This will likely lead to incorrect results due to broadcasting. Please ensure they have the same size.\n",
      "  return F.mse_loss(input, target, reduction=self.reduction)\n"
     ]
    },
    {
     "name": "stdout",
     "output_type": "stream",
     "text": [
      "[1,   100] loss: 0.055\n",
      "[1,   200] loss: 0.098\n",
      "[1,   300] loss: 0.139\n",
      "[1,   400] loss: 0.190\n",
      "[1,   500] loss: 0.244\n",
      "[1,   600] loss: 0.280\n",
      "[1,   700] loss: 0.314\n",
      "[1,   800] loss: 0.358\n",
      "[1,   900] loss: 0.414\n",
      "[1,  1000] loss: 0.470\n",
      "[1,  1100] loss: 0.535\n",
      "[1,  1200] loss: 0.574\n"
     ]
    },
    {
     "name": "stderr",
     "output_type": "stream",
     "text": [
      "  0%|          | 1/500 [00:02<23:36,  2.84s/it]"
     ]
    },
    {
     "name": "stdout",
     "output_type": "stream",
     "text": [
      "[2,   100] loss: 0.043\n",
      "[2,   200] loss: 0.080\n",
      "[2,   300] loss: 0.130\n",
      "[2,   400] loss: 0.161\n",
      "[2,   500] loss: 0.224\n",
      "[2,   600] loss: 0.275\n",
      "[2,   700] loss: 0.342\n",
      "[2,   800] loss: 0.396\n",
      "[2,   900] loss: 0.446\n",
      "[2,  1000] loss: 0.489\n",
      "[2,  1100] loss: 0.553\n",
      "[2,  1200] loss: 0.593\n"
     ]
    },
    {
     "name": "stderr",
     "output_type": "stream",
     "text": [
      "  0%|          | 2/500 [00:06<25:54,  3.12s/it]"
     ]
    },
    {
     "name": "stdout",
     "output_type": "stream",
     "text": [
      "[3,   100] loss: 0.036\n",
      "[3,   200] loss: 0.081\n",
      "[3,   300] loss: 0.121\n",
      "[3,   400] loss: 0.169\n",
      "[3,   500] loss: 0.225\n",
      "[3,   600] loss: 0.280\n",
      "[3,   700] loss: 0.322\n",
      "[3,   800] loss: 0.377\n",
      "[3,   900] loss: 0.434\n",
      "[3,  1000] loss: 0.477\n",
      "[3,  1100] loss: 0.518\n",
      "[3,  1200] loss: 0.592\n"
     ]
    },
    {
     "name": "stderr",
     "output_type": "stream",
     "text": [
      "  1%|          | 3/500 [00:10<29:06,  3.51s/it]"
     ]
    },
    {
     "name": "stdout",
     "output_type": "stream",
     "text": [
      "[4,   100] loss: 0.052\n",
      "[4,   200] loss: 0.098\n",
      "[4,   300] loss: 0.147\n",
      "[4,   400] loss: 0.200\n",
      "[4,   500] loss: 0.249\n",
      "[4,   600] loss: 0.301\n",
      "[4,   700] loss: 0.351\n",
      "[4,   800] loss: 0.394\n",
      "[4,   900] loss: 0.452\n",
      "[4,  1000] loss: 0.494\n",
      "[4,  1100] loss: 0.537\n",
      "[4,  1200] loss: 0.600\n"
     ]
    },
    {
     "name": "stderr",
     "output_type": "stream",
     "text": [
      "  1%|          | 4/500 [00:14<32:00,  3.87s/it]"
     ]
    },
    {
     "name": "stdout",
     "output_type": "stream",
     "text": [
      "[5,   100] loss: 0.048\n",
      "[5,   200] loss: 0.100\n",
      "[5,   300] loss: 0.139\n",
      "[5,   400] loss: 0.194\n",
      "[5,   500] loss: 0.267\n",
      "[5,   600] loss: 0.317\n",
      "[5,   700] loss: 0.377\n",
      "[5,   800] loss: 0.435\n",
      "[5,   900] loss: 0.474\n",
      "[5,  1000] loss: 0.535\n",
      "[5,  1100] loss: 0.560\n",
      "[5,  1200] loss: 0.603\n"
     ]
    },
    {
     "name": "stderr",
     "output_type": "stream",
     "text": [
      "  1%|          | 5/500 [00:18<31:16,  3.79s/it]"
     ]
    },
    {
     "name": "stdout",
     "output_type": "stream",
     "text": [
      "[6,   100] loss: 0.052\n",
      "[6,   200] loss: 0.106\n",
      "[6,   300] loss: 0.163\n",
      "[6,   400] loss: 0.202\n",
      "[6,   500] loss: 0.243\n",
      "[6,   600] loss: 0.288\n",
      "[6,   700] loss: 0.340\n",
      "[6,   800] loss: 0.384\n",
      "[6,   900] loss: 0.428\n",
      "[6,  1000] loss: 0.485\n",
      "[6,  1100] loss: 0.540\n",
      "[6,  1200] loss: 0.576\n"
     ]
    },
    {
     "name": "stderr",
     "output_type": "stream",
     "text": [
      "  1%|          | 6/500 [00:22<31:22,  3.81s/it]"
     ]
    },
    {
     "name": "stdout",
     "output_type": "stream",
     "text": [
      "[7,   100] loss: 0.060\n",
      "[7,   200] loss: 0.115\n",
      "[7,   300] loss: 0.149\n",
      "[7,   400] loss: 0.194\n",
      "[7,   500] loss: 0.248\n",
      "[7,   600] loss: 0.301\n",
      "[7,   700] loss: 0.355\n",
      "[7,   800] loss: 0.391\n",
      "[7,   900] loss: 0.443\n",
      "[7,  1000] loss: 0.497\n",
      "[7,  1100] loss: 0.548\n",
      "[7,  1200] loss: 0.596\n"
     ]
    },
    {
     "name": "stderr",
     "output_type": "stream",
     "text": [
      "  1%|▏         | 7/500 [00:25<30:40,  3.73s/it]"
     ]
    },
    {
     "name": "stdout",
     "output_type": "stream",
     "text": [
      "[8,   100] loss: 0.038\n",
      "[8,   200] loss: 0.091\n",
      "[8,   300] loss: 0.140\n",
      "[8,   400] loss: 0.198\n",
      "[8,   500] loss: 0.253\n",
      "[8,   600] loss: 0.312\n",
      "[8,   700] loss: 0.363\n",
      "[8,   800] loss: 0.406\n",
      "[8,   900] loss: 0.456\n",
      "[8,  1000] loss: 0.513\n",
      "[8,  1100] loss: 0.562\n",
      "[8,  1200] loss: 0.605\n"
     ]
    },
    {
     "name": "stderr",
     "output_type": "stream",
     "text": [
      "  2%|▏         | 8/500 [00:29<30:33,  3.73s/it]"
     ]
    },
    {
     "name": "stdout",
     "output_type": "stream",
     "text": [
      "[9,   100] loss: 0.040\n",
      "[9,   200] loss: 0.085\n",
      "[9,   300] loss: 0.129\n",
      "[9,   400] loss: 0.174\n",
      "[9,   500] loss: 0.221\n",
      "[9,   600] loss: 0.264\n",
      "[9,   700] loss: 0.304\n",
      "[9,   800] loss: 0.363\n",
      "[9,   900] loss: 0.409\n",
      "[9,  1000] loss: 0.463\n",
      "[9,  1100] loss: 0.518\n",
      "[9,  1200] loss: 0.572\n"
     ]
    },
    {
     "name": "stderr",
     "output_type": "stream",
     "text": [
      "  2%|▏         | 9/500 [00:33<32:20,  3.95s/it]"
     ]
    },
    {
     "name": "stdout",
     "output_type": "stream",
     "text": [
      "[10,   100] loss: 0.050\n",
      "[10,   200] loss: 0.114\n",
      "[10,   300] loss: 0.158\n",
      "[10,   400] loss: 0.193\n",
      "[10,   500] loss: 0.234\n",
      "[10,   600] loss: 0.294\n",
      "[10,   700] loss: 0.338\n",
      "[10,   800] loss: 0.387\n",
      "[10,   900] loss: 0.433\n",
      "[10,  1000] loss: 0.480\n",
      "[10,  1100] loss: 0.527\n",
      "[10,  1200] loss: 0.583\n"
     ]
    },
    {
     "name": "stderr",
     "output_type": "stream",
     "text": [
      "  2%|▏         | 10/500 [00:37<31:53,  3.91s/it]"
     ]
    },
    {
     "name": "stdout",
     "output_type": "stream",
     "text": [
      "[11,   100] loss: 0.040\n",
      "[11,   200] loss: 0.107\n",
      "[11,   300] loss: 0.147\n",
      "[11,   400] loss: 0.206\n",
      "[11,   500] loss: 0.251\n",
      "[11,   600] loss: 0.309\n",
      "[11,   700] loss: 0.376\n",
      "[11,   800] loss: 0.415\n",
      "[11,   900] loss: 0.450\n",
      "[11,  1000] loss: 0.483\n",
      "[11,  1100] loss: 0.529\n",
      "[11,  1200] loss: 0.582\n"
     ]
    },
    {
     "name": "stderr",
     "output_type": "stream",
     "text": [
      "  2%|▏         | 11/500 [00:42<33:15,  4.08s/it]"
     ]
    },
    {
     "name": "stdout",
     "output_type": "stream",
     "text": [
      "[12,   100] loss: 0.053\n",
      "[12,   200] loss: 0.105\n",
      "[12,   300] loss: 0.156\n",
      "[12,   400] loss: 0.186\n",
      "[12,   500] loss: 0.234\n",
      "[12,   600] loss: 0.273\n",
      "[12,   700] loss: 0.309\n",
      "[12,   800] loss: 0.354\n",
      "[12,   900] loss: 0.410\n",
      "[12,  1000] loss: 0.470\n",
      "[12,  1100] loss: 0.520\n",
      "[12,  1200] loss: 0.582\n"
     ]
    },
    {
     "name": "stderr",
     "output_type": "stream",
     "text": [
      "  2%|▏         | 12/500 [00:45<32:28,  3.99s/it]"
     ]
    },
    {
     "name": "stdout",
     "output_type": "stream",
     "text": [
      "[13,   100] loss: 0.048\n",
      "[13,   200] loss: 0.101\n",
      "[13,   300] loss: 0.148\n",
      "[13,   400] loss: 0.202\n",
      "[13,   500] loss: 0.274\n",
      "[13,   600] loss: 0.328\n",
      "[13,   700] loss: 0.366\n",
      "[13,   800] loss: 0.426\n",
      "[13,   900] loss: 0.464\n",
      "[13,  1000] loss: 0.536\n",
      "[13,  1100] loss: 0.578\n",
      "[13,  1200] loss: 0.616\n"
     ]
    },
    {
     "name": "stderr",
     "output_type": "stream",
     "text": [
      "  3%|▎         | 13/500 [00:49<31:25,  3.87s/it]"
     ]
    },
    {
     "name": "stdout",
     "output_type": "stream",
     "text": [
      "[14,   100] loss: 0.057\n",
      "[14,   200] loss: 0.095\n",
      "[14,   300] loss: 0.156\n",
      "[14,   400] loss: 0.209\n",
      "[14,   500] loss: 0.263\n",
      "[14,   600] loss: 0.308\n",
      "[14,   700] loss: 0.350\n",
      "[14,   800] loss: 0.403\n",
      "[14,   900] loss: 0.448\n",
      "[14,  1000] loss: 0.500\n",
      "[14,  1100] loss: 0.549\n",
      "[14,  1200] loss: 0.590\n"
     ]
    },
    {
     "name": "stderr",
     "output_type": "stream",
     "text": [
      "  3%|▎         | 14/500 [00:53<31:18,  3.86s/it]"
     ]
    },
    {
     "name": "stdout",
     "output_type": "stream",
     "text": [
      "[15,   100] loss: 0.044\n",
      "[15,   200] loss: 0.089\n",
      "[15,   300] loss: 0.143\n",
      "[15,   400] loss: 0.183\n",
      "[15,   500] loss: 0.216\n",
      "[15,   600] loss: 0.271\n",
      "[15,   700] loss: 0.324\n",
      "[15,   800] loss: 0.383\n",
      "[15,   900] loss: 0.437\n",
      "[15,  1000] loss: 0.475\n",
      "[15,  1100] loss: 0.514\n",
      "[15,  1200] loss: 0.572\n"
     ]
    },
    {
     "name": "stderr",
     "output_type": "stream",
     "text": [
      "  3%|▎         | 15/500 [00:57<33:08,  4.10s/it]"
     ]
    },
    {
     "name": "stdout",
     "output_type": "stream",
     "text": [
      "[16,   100] loss: 0.045\n",
      "[16,   200] loss: 0.092\n",
      "[16,   300] loss: 0.136\n",
      "[16,   400] loss: 0.191\n",
      "[16,   500] loss: 0.222\n",
      "[16,   600] loss: 0.266\n",
      "[16,   700] loss: 0.331\n",
      "[16,   800] loss: 0.387\n",
      "[16,   900] loss: 0.454\n",
      "[16,  1000] loss: 0.500\n",
      "[16,  1100] loss: 0.547\n",
      "[16,  1200] loss: 0.604\n"
     ]
    },
    {
     "name": "stderr",
     "output_type": "stream",
     "text": [
      "  3%|▎         | 16/500 [01:02<33:18,  4.13s/it]"
     ]
    },
    {
     "name": "stdout",
     "output_type": "stream",
     "text": [
      "[17,   100] loss: 0.053\n",
      "[17,   200] loss: 0.108\n",
      "[17,   300] loss: 0.157\n",
      "[17,   400] loss: 0.209\n",
      "[17,   500] loss: 0.263\n",
      "[17,   600] loss: 0.317\n",
      "[17,   700] loss: 0.359\n",
      "[17,   800] loss: 0.411\n",
      "[17,   900] loss: 0.447\n",
      "[17,  1000] loss: 0.500\n",
      "[17,  1100] loss: 0.550\n"
     ]
    },
    {
     "name": "stderr",
     "output_type": "stream",
     "text": [
      "  3%|▎         | 17/500 [01:06<32:46,  4.07s/it]"
     ]
    },
    {
     "name": "stdout",
     "output_type": "stream",
     "text": [
      "[17,  1200] loss: 0.596\n",
      "[18,   100] loss: 0.049\n",
      "[18,   200] loss: 0.103\n",
      "[18,   300] loss: 0.157\n",
      "[18,   400] loss: 0.214\n",
      "[18,   500] loss: 0.260\n",
      "[18,   600] loss: 0.317\n",
      "[18,   700] loss: 0.372\n",
      "[18,   800] loss: 0.420\n",
      "[18,   900] loss: 0.460\n",
      "[18,  1000] loss: 0.515\n",
      "[18,  1100] loss: 0.566\n",
      "[18,  1200] loss: 0.618\n"
     ]
    },
    {
     "name": "stderr",
     "output_type": "stream",
     "text": [
      "  4%|▎         | 18/500 [01:09<32:17,  4.02s/it]"
     ]
    },
    {
     "name": "stdout",
     "output_type": "stream",
     "text": [
      "[19,   100] loss: 0.067\n",
      "[19,   200] loss: 0.133\n",
      "[19,   300] loss: 0.173\n",
      "[19,   400] loss: 0.203\n",
      "[19,   500] loss: 0.254\n",
      "[19,   600] loss: 0.306\n",
      "[19,   700] loss: 0.350\n",
      "[19,   800] loss: 0.395\n",
      "[19,   900] loss: 0.459\n",
      "[19,  1000] loss: 0.519\n",
      "[19,  1100] loss: 0.557\n",
      "[19,  1200] loss: 0.614\n"
     ]
    },
    {
     "name": "stderr",
     "output_type": "stream",
     "text": [
      "  4%|▍         | 19/500 [01:14<32:58,  4.11s/it]"
     ]
    },
    {
     "name": "stdout",
     "output_type": "stream",
     "text": [
      "[20,   100] loss: 0.049\n",
      "[20,   200] loss: 0.095\n",
      "[20,   300] loss: 0.134\n",
      "[20,   400] loss: 0.194\n",
      "[20,   500] loss: 0.240\n",
      "[20,   600] loss: 0.272\n",
      "[20,   700] loss: 0.338\n",
      "[20,   800] loss: 0.385\n",
      "[20,   900] loss: 0.433\n",
      "[20,  1000] loss: 0.487\n",
      "[20,  1100] loss: 0.544\n",
      "[20,  1200] loss: 0.587\n"
     ]
    },
    {
     "name": "stderr",
     "output_type": "stream",
     "text": [
      "  4%|▍         | 20/500 [01:19<34:49,  4.35s/it]"
     ]
    },
    {
     "name": "stdout",
     "output_type": "stream",
     "text": [
      "[21,   100] loss: 0.050\n",
      "[21,   200] loss: 0.093\n",
      "[21,   300] loss: 0.137\n",
      "[21,   400] loss: 0.195\n",
      "[21,   500] loss: 0.241\n",
      "[21,   600] loss: 0.305\n",
      "[21,   700] loss: 0.352\n",
      "[21,   800] loss: 0.401\n",
      "[21,   900] loss: 0.450\n",
      "[21,  1000] loss: 0.509\n",
      "[21,  1100] loss: 0.576\n",
      "[21,  1200] loss: 0.623\n"
     ]
    },
    {
     "name": "stderr",
     "output_type": "stream",
     "text": [
      "  4%|▍         | 21/500 [01:23<34:50,  4.36s/it]"
     ]
    },
    {
     "name": "stdout",
     "output_type": "stream",
     "text": [
      "[22,   100] loss: 0.051\n",
      "[22,   200] loss: 0.093\n",
      "[22,   300] loss: 0.138\n",
      "[22,   400] loss: 0.180\n",
      "[22,   500] loss: 0.236\n",
      "[22,   600] loss: 0.282\n",
      "[22,   700] loss: 0.325\n",
      "[22,   800] loss: 0.371\n",
      "[22,   900] loss: 0.426\n",
      "[22,  1000] loss: 0.469\n",
      "[22,  1100] loss: 0.516\n",
      "[22,  1200] loss: 0.556\n"
     ]
    },
    {
     "name": "stderr",
     "output_type": "stream",
     "text": [
      "  4%|▍         | 22/500 [01:27<33:47,  4.24s/it]"
     ]
    },
    {
     "name": "stdout",
     "output_type": "stream",
     "text": [
      "[23,   100] loss: 0.038\n",
      "[23,   200] loss: 0.084\n",
      "[23,   300] loss: 0.127\n",
      "[23,   400] loss: 0.186\n",
      "[23,   500] loss: 0.232\n",
      "[23,   600] loss: 0.281\n",
      "[23,   700] loss: 0.337\n",
      "[23,   800] loss: 0.379\n",
      "[23,   900] loss: 0.434\n",
      "[23,  1000] loss: 0.472\n",
      "[23,  1100] loss: 0.526\n",
      "[23,  1200] loss: 0.589\n"
     ]
    },
    {
     "name": "stderr",
     "output_type": "stream",
     "text": [
      "  5%|▍         | 23/500 [01:31<32:48,  4.13s/it]"
     ]
    },
    {
     "name": "stdout",
     "output_type": "stream",
     "text": [
      "[24,   100] loss: 0.035\n",
      "[24,   200] loss: 0.070\n",
      "[24,   300] loss: 0.120\n",
      "[24,   400] loss: 0.160\n",
      "[24,   500] loss: 0.218\n",
      "[24,   600] loss: 0.281\n",
      "[24,   700] loss: 0.324\n",
      "[24,   800] loss: 0.389\n",
      "[24,   900] loss: 0.447\n",
      "[24,  1000] loss: 0.500\n",
      "[24,  1100] loss: 0.562\n",
      "[24,  1200] loss: 0.615\n"
     ]
    },
    {
     "name": "stderr",
     "output_type": "stream",
     "text": [
      "  5%|▍         | 24/500 [01:35<31:41,  3.99s/it]"
     ]
    },
    {
     "name": "stdout",
     "output_type": "stream",
     "text": [
      "[25,   100] loss: 0.041\n",
      "[25,   200] loss: 0.094\n",
      "[25,   300] loss: 0.153\n",
      "[25,   400] loss: 0.214\n",
      "[25,   500] loss: 0.269\n",
      "[25,   600] loss: 0.314\n",
      "[25,   700] loss: 0.352\n",
      "[25,   800] loss: 0.415\n",
      "[25,   900] loss: 0.473\n",
      "[25,  1000] loss: 0.545\n",
      "[25,  1100] loss: 0.610\n",
      "[25,  1200] loss: 0.692\n"
     ]
    },
    {
     "name": "stderr",
     "output_type": "stream",
     "text": [
      "  5%|▌         | 25/500 [01:38<30:28,  3.85s/it]"
     ]
    },
    {
     "name": "stdout",
     "output_type": "stream",
     "text": [
      "[26,   100] loss: 0.052\n",
      "[26,   200] loss: 0.130\n",
      "[26,   300] loss: 0.174\n",
      "[26,   400] loss: 0.212\n",
      "[26,   500] loss: 0.260\n",
      "[26,   600] loss: 0.315\n",
      "[26,   700] loss: 0.372\n",
      "[26,   800] loss: 0.410\n",
      "[26,   900] loss: 0.456\n",
      "[26,  1000] loss: 0.514\n",
      "[26,  1100] loss: 0.563\n",
      "[26,  1200] loss: 0.610\n"
     ]
    },
    {
     "name": "stderr",
     "output_type": "stream",
     "text": [
      "  5%|▌         | 26/500 [01:42<31:13,  3.95s/it]"
     ]
    },
    {
     "name": "stdout",
     "output_type": "stream",
     "text": [
      "[27,   100] loss: 0.057\n",
      "[27,   200] loss: 0.109\n",
      "[27,   300] loss: 0.155\n",
      "[27,   400] loss: 0.192\n",
      "[27,   500] loss: 0.234\n",
      "[27,   600] loss: 0.279\n",
      "[27,   700] loss: 0.335\n",
      "[27,   800] loss: 0.379\n",
      "[27,   900] loss: 0.431\n",
      "[27,  1000] loss: 0.479\n",
      "[27,  1100] loss: 0.525\n",
      "[27,  1200] loss: 0.560\n"
     ]
    },
    {
     "name": "stderr",
     "output_type": "stream",
     "text": [
      "  5%|▌         | 27/500 [01:46<31:15,  3.96s/it]"
     ]
    },
    {
     "name": "stdout",
     "output_type": "stream",
     "text": [
      "[28,   100] loss: 0.036\n",
      "[28,   200] loss: 0.106\n",
      "[28,   300] loss: 0.163\n",
      "[28,   400] loss: 0.206\n",
      "[28,   500] loss: 0.244\n",
      "[28,   600] loss: 0.280\n",
      "[28,   700] loss: 0.320\n",
      "[28,   800] loss: 0.376\n",
      "[28,   900] loss: 0.433\n",
      "[28,  1000] loss: 0.489\n",
      "[28,  1100] loss: 0.529\n",
      "[28,  1200] loss: 0.590\n"
     ]
    },
    {
     "name": "stderr",
     "output_type": "stream",
     "text": [
      "  6%|▌         | 28/500 [01:50<31:03,  3.95s/it]"
     ]
    },
    {
     "name": "stdout",
     "output_type": "stream",
     "text": [
      "[29,   100] loss: 0.053\n",
      "[29,   200] loss: 0.094\n",
      "[29,   300] loss: 0.148\n",
      "[29,   400] loss: 0.201\n",
      "[29,   500] loss: 0.249\n",
      "[29,   600] loss: 0.304\n",
      "[29,   700] loss: 0.354\n",
      "[29,   800] loss: 0.407\n",
      "[29,   900] loss: 0.445\n",
      "[29,  1000] loss: 0.493\n",
      "[29,  1100] loss: 0.541\n",
      "[29,  1200] loss: 0.595\n"
     ]
    },
    {
     "name": "stderr",
     "output_type": "stream",
     "text": [
      "  6%|▌         | 29/500 [01:55<32:10,  4.10s/it]"
     ]
    },
    {
     "name": "stdout",
     "output_type": "stream",
     "text": [
      "[30,   100] loss: 0.060\n",
      "[30,   200] loss: 0.139\n",
      "[30,   300] loss: 0.181\n",
      "[30,   400] loss: 0.218\n",
      "[30,   500] loss: 0.264\n",
      "[30,   600] loss: 0.315\n",
      "[30,   700] loss: 0.358\n",
      "[30,   800] loss: 0.395\n",
      "[30,   900] loss: 0.444\n",
      "[30,  1000] loss: 0.488\n",
      "[30,  1100] loss: 0.539\n",
      "[30,  1200] loss: 0.592\n"
     ]
    },
    {
     "name": "stderr",
     "output_type": "stream",
     "text": [
      "  6%|▌         | 30/500 [01:58<31:00,  3.96s/it]"
     ]
    },
    {
     "name": "stdout",
     "output_type": "stream",
     "text": [
      "[31,   100] loss: 0.042\n",
      "[31,   200] loss: 0.093\n",
      "[31,   300] loss: 0.152\n",
      "[31,   400] loss: 0.200\n",
      "[31,   500] loss: 0.242\n",
      "[31,   600] loss: 0.280\n",
      "[31,   700] loss: 0.330\n",
      "[31,   800] loss: 0.362\n",
      "[31,   900] loss: 0.424\n",
      "[31,  1000] loss: 0.476\n",
      "[31,  1100] loss: 0.542\n",
      "[31,  1200] loss: 0.590\n"
     ]
    },
    {
     "name": "stderr",
     "output_type": "stream",
     "text": [
      "  6%|▌         | 31/500 [02:02<30:14,  3.87s/it]"
     ]
    },
    {
     "name": "stdout",
     "output_type": "stream",
     "text": [
      "[32,   100] loss: 0.053\n",
      "[32,   200] loss: 0.097\n",
      "[32,   300] loss: 0.150\n",
      "[32,   400] loss: 0.202\n",
      "[32,   500] loss: 0.243\n",
      "[32,   600] loss: 0.303\n",
      "[32,   700] loss: 0.354\n",
      "[32,   800] loss: 0.392\n",
      "[32,   900] loss: 0.437\n",
      "[32,  1000] loss: 0.490\n",
      "[32,  1100] loss: 0.533\n",
      "[32,  1200] loss: 0.578\n"
     ]
    },
    {
     "name": "stderr",
     "output_type": "stream",
     "text": [
      "  6%|▋         | 32/500 [02:06<30:28,  3.91s/it]"
     ]
    },
    {
     "name": "stdout",
     "output_type": "stream",
     "text": [
      "[33,   100] loss: 0.054\n",
      "[33,   200] loss: 0.096\n",
      "[33,   300] loss: 0.139\n",
      "[33,   400] loss: 0.190\n",
      "[33,   500] loss: 0.233\n",
      "[33,   600] loss: 0.297\n",
      "[33,   700] loss: 0.336\n",
      "[33,   800] loss: 0.380\n",
      "[33,   900] loss: 0.418\n",
      "[33,  1000] loss: 0.467\n",
      "[33,  1100] loss: 0.546\n",
      "[33,  1200] loss: 0.610\n"
     ]
    },
    {
     "name": "stderr",
     "output_type": "stream",
     "text": [
      "  7%|▋         | 33/500 [02:10<31:32,  4.05s/it]"
     ]
    },
    {
     "name": "stdout",
     "output_type": "stream",
     "text": [
      "[34,   100] loss: 0.059\n",
      "[34,   200] loss: 0.106\n",
      "[34,   300] loss: 0.153\n",
      "[34,   400] loss: 0.193\n",
      "[34,   500] loss: 0.256\n",
      "[34,   600] loss: 0.312\n",
      "[34,   700] loss: 0.361\n",
      "[34,   800] loss: 0.424\n",
      "[34,   900] loss: 0.491\n",
      "[34,  1000] loss: 0.526\n",
      "[34,  1100] loss: 0.576\n",
      "[34,  1200] loss: 0.635\n"
     ]
    },
    {
     "name": "stderr",
     "output_type": "stream",
     "text": [
      "  7%|▋         | 34/500 [02:15<32:03,  4.13s/it]"
     ]
    },
    {
     "name": "stdout",
     "output_type": "stream",
     "text": [
      "[35,   100] loss: 0.043\n",
      "[35,   200] loss: 0.091\n",
      "[35,   300] loss: 0.148\n",
      "[35,   400] loss: 0.187\n",
      "[35,   500] loss: 0.242\n",
      "[35,   600] loss: 0.282\n",
      "[35,   700] loss: 0.339\n",
      "[35,   800] loss: 0.387\n",
      "[35,   900] loss: 0.437\n",
      "[35,  1000] loss: 0.486\n",
      "[35,  1100] loss: 0.541\n",
      "[35,  1200] loss: 0.586\n"
     ]
    },
    {
     "name": "stderr",
     "output_type": "stream",
     "text": [
      "  7%|▋         | 35/500 [02:18<31:14,  4.03s/it]"
     ]
    },
    {
     "name": "stdout",
     "output_type": "stream",
     "text": [
      "[36,   100] loss: 0.047\n",
      "[36,   200] loss: 0.107\n",
      "[36,   300] loss: 0.158\n",
      "[36,   400] loss: 0.201\n",
      "[36,   500] loss: 0.244\n",
      "[36,   600] loss: 0.300\n",
      "[36,   700] loss: 0.351\n",
      "[36,   800] loss: 0.397\n",
      "[36,   900] loss: 0.463\n",
      "[36,  1000] loss: 0.500\n",
      "[36,  1100] loss: 0.550\n",
      "[36,  1200] loss: 0.597\n"
     ]
    },
    {
     "name": "stderr",
     "output_type": "stream",
     "text": [
      "  7%|▋         | 36/500 [02:22<30:40,  3.97s/it]"
     ]
    },
    {
     "name": "stdout",
     "output_type": "stream",
     "text": [
      "[37,   100] loss: 0.041\n",
      "[37,   200] loss: 0.092\n",
      "[37,   300] loss: 0.151\n",
      "[37,   400] loss: 0.195\n",
      "[37,   500] loss: 0.250\n",
      "[37,   600] loss: 0.292\n",
      "[37,   700] loss: 0.341\n",
      "[37,   800] loss: 0.385\n",
      "[37,   900] loss: 0.439\n",
      "[37,  1000] loss: 0.492\n",
      "[37,  1100] loss: 0.526\n",
      "[37,  1200] loss: 0.565\n"
     ]
    },
    {
     "name": "stderr",
     "output_type": "stream",
     "text": [
      "  7%|▋         | 37/500 [02:26<29:40,  3.84s/it]"
     ]
    },
    {
     "name": "stdout",
     "output_type": "stream",
     "text": [
      "[38,   100] loss: 0.051\n",
      "[38,   200] loss: 0.100\n",
      "[38,   300] loss: 0.147\n",
      "[38,   400] loss: 0.199\n",
      "[38,   500] loss: 0.246\n",
      "[38,   600] loss: 0.288\n",
      "[38,   700] loss: 0.341\n",
      "[38,   800] loss: 0.387\n",
      "[38,   900] loss: 0.436\n",
      "[38,  1000] loss: 0.490\n",
      "[38,  1100] loss: 0.546\n",
      "[38,  1200] loss: 0.606\n"
     ]
    },
    {
     "name": "stderr",
     "output_type": "stream",
     "text": [
      "  8%|▊         | 38/500 [02:30<30:55,  4.02s/it]"
     ]
    },
    {
     "name": "stdout",
     "output_type": "stream",
     "text": [
      "[39,   100] loss: 0.046\n",
      "[39,   200] loss: 0.106\n",
      "[39,   300] loss: 0.168\n",
      "[39,   400] loss: 0.221\n",
      "[39,   500] loss: 0.269\n",
      "[39,   600] loss: 0.314\n",
      "[39,   700] loss: 0.356\n",
      "[39,   800] loss: 0.408\n",
      "[39,   900] loss: 0.458\n",
      "[39,  1000] loss: 0.502\n",
      "[39,  1100] loss: 0.560\n",
      "[39,  1200] loss: 0.597\n"
     ]
    },
    {
     "name": "stderr",
     "output_type": "stream",
     "text": [
      "  8%|▊         | 39/500 [02:34<30:54,  4.02s/it]"
     ]
    },
    {
     "name": "stdout",
     "output_type": "stream",
     "text": [
      "[40,   100] loss: 0.049\n",
      "[40,   200] loss: 0.092\n",
      "[40,   300] loss: 0.151\n",
      "[40,   400] loss: 0.190\n",
      "[40,   500] loss: 0.233\n",
      "[40,   600] loss: 0.293\n",
      "[40,   700] loss: 0.332\n",
      "[40,   800] loss: 0.382\n",
      "[40,   900] loss: 0.428\n",
      "[40,  1000] loss: 0.470\n",
      "[40,  1100] loss: 0.521\n",
      "[40,  1200] loss: 0.575\n"
     ]
    },
    {
     "name": "stderr",
     "output_type": "stream",
     "text": [
      "  8%|▊         | 40/500 [02:38<30:48,  4.02s/it]"
     ]
    },
    {
     "name": "stdout",
     "output_type": "stream",
     "text": [
      "[41,   100] loss: 0.047\n",
      "[41,   200] loss: 0.105\n",
      "[41,   300] loss: 0.153\n",
      "[41,   400] loss: 0.203\n",
      "[41,   500] loss: 0.256\n",
      "[41,   600] loss: 0.304\n",
      "[41,   700] loss: 0.349\n",
      "[41,   800] loss: 0.404\n",
      "[41,   900] loss: 0.466\n",
      "[41,  1000] loss: 0.523\n",
      "[41,  1100] loss: 0.569\n",
      "[41,  1200] loss: 0.626\n"
     ]
    },
    {
     "name": "stderr",
     "output_type": "stream",
     "text": [
      "  8%|▊         | 41/500 [02:42<30:15,  3.96s/it]"
     ]
    },
    {
     "name": "stdout",
     "output_type": "stream",
     "text": [
      "[42,   100] loss: 0.053\n",
      "[42,   200] loss: 0.105\n",
      "[42,   300] loss: 0.145\n",
      "[42,   400] loss: 0.206\n",
      "[42,   500] loss: 0.252\n",
      "[42,   600] loss: 0.291\n",
      "[42,   700] loss: 0.341\n",
      "[42,   800] loss: 0.391\n",
      "[42,   900] loss: 0.447\n",
      "[42,  1000] loss: 0.504\n",
      "[42,  1100] loss: 0.542\n",
      "[42,  1200] loss: 0.602\n"
     ]
    },
    {
     "name": "stderr",
     "output_type": "stream",
     "text": [
      "  8%|▊         | 42/500 [02:46<30:03,  3.94s/it]"
     ]
    },
    {
     "name": "stdout",
     "output_type": "stream",
     "text": [
      "[43,   100] loss: 0.039\n",
      "[43,   200] loss: 0.097\n",
      "[43,   300] loss: 0.172\n",
      "[43,   400] loss: 0.214\n",
      "[43,   500] loss: 0.270\n",
      "[43,   600] loss: 0.330\n",
      "[43,   700] loss: 0.387\n",
      "[43,   800] loss: 0.453\n",
      "[43,   900] loss: 0.497\n",
      "[43,  1000] loss: 0.555\n",
      "[43,  1100] loss: 0.590\n",
      "[43,  1200] loss: 0.628\n"
     ]
    },
    {
     "name": "stderr",
     "output_type": "stream",
     "text": [
      "  9%|▊         | 43/500 [02:50<30:17,  3.98s/it]"
     ]
    },
    {
     "name": "stdout",
     "output_type": "stream",
     "text": [
      "[44,   100] loss: 0.055\n",
      "[44,   200] loss: 0.102\n",
      "[44,   300] loss: 0.146\n",
      "[44,   400] loss: 0.206\n",
      "[44,   500] loss: 0.248\n",
      "[44,   600] loss: 0.286\n",
      "[44,   700] loss: 0.329\n",
      "[44,   800] loss: 0.371\n",
      "[44,   900] loss: 0.433\n",
      "[44,  1000] loss: 0.479\n",
      "[44,  1100] loss: 0.527\n"
     ]
    },
    {
     "name": "stderr",
     "output_type": "stream",
     "text": [
      "  9%|▉         | 44/500 [02:54<30:00,  3.95s/it]"
     ]
    },
    {
     "name": "stdout",
     "output_type": "stream",
     "text": [
      "[44,  1200] loss: 0.601\n",
      "[45,   100] loss: 0.047\n",
      "[45,   200] loss: 0.094\n",
      "[45,   300] loss: 0.137\n",
      "[45,   400] loss: 0.190\n",
      "[45,   500] loss: 0.231\n",
      "[45,   600] loss: 0.292\n",
      "[45,   700] loss: 0.342\n",
      "[45,   800] loss: 0.386\n",
      "[45,   900] loss: 0.442\n",
      "[45,  1000] loss: 0.501\n",
      "[45,  1100] loss: 0.557\n",
      "[45,  1200] loss: 0.618\n"
     ]
    },
    {
     "name": "stderr",
     "output_type": "stream",
     "text": [
      "  9%|▉         | 45/500 [02:58<30:22,  4.01s/it]"
     ]
    },
    {
     "name": "stdout",
     "output_type": "stream",
     "text": [
      "[46,   100] loss: 0.045\n",
      "[46,   200] loss: 0.107\n",
      "[46,   300] loss: 0.157\n",
      "[46,   400] loss: 0.197\n",
      "[46,   500] loss: 0.253\n",
      "[46,   600] loss: 0.301\n",
      "[46,   700] loss: 0.353\n",
      "[46,   800] loss: 0.406\n",
      "[46,   900] loss: 0.447\n",
      "[46,  1000] loss: 0.496\n",
      "[46,  1100] loss: 0.536\n",
      "[46,  1200] loss: 0.586\n"
     ]
    },
    {
     "name": "stderr",
     "output_type": "stream",
     "text": [
      "  9%|▉         | 46/500 [03:02<30:55,  4.09s/it]"
     ]
    },
    {
     "name": "stdout",
     "output_type": "stream",
     "text": [
      "[47,   100] loss: 0.045\n",
      "[47,   200] loss: 0.098\n",
      "[47,   300] loss: 0.157\n",
      "[47,   400] loss: 0.192\n",
      "[47,   500] loss: 0.231\n",
      "[47,   600] loss: 0.282\n",
      "[47,   700] loss: 0.335\n",
      "[47,   800] loss: 0.404\n",
      "[47,   900] loss: 0.467\n",
      "[47,  1000] loss: 0.508\n",
      "[47,  1100] loss: 0.573\n",
      "[47,  1200] loss: 0.627\n"
     ]
    },
    {
     "name": "stderr",
     "output_type": "stream",
     "text": [
      "  9%|▉         | 47/500 [03:06<30:34,  4.05s/it]"
     ]
    },
    {
     "name": "stdout",
     "output_type": "stream",
     "text": [
      "[48,   100] loss: 0.032\n",
      "[48,   200] loss: 0.080\n",
      "[48,   300] loss: 0.130\n",
      "[48,   400] loss: 0.175\n",
      "[48,   500] loss: 0.216\n",
      "[48,   600] loss: 0.261\n",
      "[48,   700] loss: 0.328\n",
      "[48,   800] loss: 0.389\n",
      "[48,   900] loss: 0.442\n",
      "[48,  1000] loss: 0.484\n",
      "[48,  1100] loss: 0.522\n"
     ]
    },
    {
     "name": "stderr",
     "output_type": "stream",
     "text": [
      " 10%|▉         | 48/500 [03:11<31:24,  4.17s/it]"
     ]
    },
    {
     "name": "stdout",
     "output_type": "stream",
     "text": [
      "[48,  1200] loss: 0.580\n",
      "[49,   100] loss: 0.051\n",
      "[49,   200] loss: 0.095\n",
      "[49,   300] loss: 0.147\n",
      "[49,   400] loss: 0.195\n",
      "[49,   500] loss: 0.233\n",
      "[49,   600] loss: 0.283\n",
      "[49,   700] loss: 0.329\n",
      "[49,   800] loss: 0.379\n",
      "[49,   900] loss: 0.426\n",
      "[49,  1000] loss: 0.480\n",
      "[49,  1100] loss: 0.528\n",
      "[49,  1200] loss: 0.561\n"
     ]
    },
    {
     "name": "stderr",
     "output_type": "stream",
     "text": [
      " 10%|▉         | 49/500 [03:15<32:05,  4.27s/it]"
     ]
    },
    {
     "name": "stdout",
     "output_type": "stream",
     "text": [
      "[50,   100] loss: 0.047\n",
      "[50,   200] loss: 0.088\n",
      "[50,   300] loss: 0.141\n",
      "[50,   400] loss: 0.182\n",
      "[50,   500] loss: 0.238\n",
      "[50,   600] loss: 0.307\n",
      "[50,   700] loss: 0.353\n",
      "[50,   800] loss: 0.389\n",
      "[50,   900] loss: 0.441\n",
      "[50,  1000] loss: 0.488\n",
      "[50,  1100] loss: 0.527\n",
      "[50,  1200] loss: 0.585\n"
     ]
    },
    {
     "name": "stderr",
     "output_type": "stream",
     "text": [
      " 10%|█         | 50/500 [03:19<31:07,  4.15s/it]"
     ]
    },
    {
     "name": "stdout",
     "output_type": "stream",
     "text": [
      "[51,   100] loss: 0.057\n",
      "[51,   200] loss: 0.120\n",
      "[51,   300] loss: 0.162\n",
      "[51,   400] loss: 0.208\n",
      "[51,   500] loss: 0.266\n",
      "[51,   600] loss: 0.309\n",
      "[51,   700] loss: 0.362\n",
      "[51,   800] loss: 0.418\n",
      "[51,   900] loss: 0.483\n",
      "[51,  1000] loss: 0.529\n",
      "[51,  1100] loss: 0.599\n",
      "[51,  1200] loss: 0.636\n"
     ]
    },
    {
     "name": "stderr",
     "output_type": "stream",
     "text": [
      " 10%|█         | 51/500 [03:23<30:59,  4.14s/it]"
     ]
    },
    {
     "name": "stdout",
     "output_type": "stream",
     "text": [
      "[52,   100] loss: 0.044\n",
      "[52,   200] loss: 0.085\n",
      "[52,   300] loss: 0.134\n",
      "[52,   400] loss: 0.188\n",
      "[52,   500] loss: 0.243\n",
      "[52,   600] loss: 0.307\n",
      "[52,   700] loss: 0.356\n",
      "[52,   800] loss: 0.403\n",
      "[52,   900] loss: 0.455\n",
      "[52,  1000] loss: 0.517\n",
      "[52,  1100] loss: 0.567\n",
      "[52,  1200] loss: 0.617\n"
     ]
    },
    {
     "name": "stderr",
     "output_type": "stream",
     "text": [
      " 10%|█         | 52/500 [03:27<29:42,  3.98s/it]"
     ]
    },
    {
     "name": "stdout",
     "output_type": "stream",
     "text": [
      "[53,   100] loss: 0.038\n",
      "[53,   200] loss: 0.095\n",
      "[53,   300] loss: 0.146\n",
      "[53,   400] loss: 0.192\n",
      "[53,   500] loss: 0.241\n",
      "[53,   600] loss: 0.307\n",
      "[53,   700] loss: 0.372\n",
      "[53,   800] loss: 0.429\n",
      "[53,   900] loss: 0.479\n",
      "[53,  1000] loss: 0.520\n",
      "[53,  1100] loss: 0.561\n",
      "[53,  1200] loss: 0.619\n"
     ]
    },
    {
     "name": "stderr",
     "output_type": "stream",
     "text": [
      " 11%|█         | 53/500 [03:32<32:30,  4.36s/it]"
     ]
    },
    {
     "name": "stdout",
     "output_type": "stream",
     "text": [
      "[54,   100] loss: 0.051\n",
      "[54,   200] loss: 0.106\n",
      "[54,   300] loss: 0.154\n",
      "[54,   400] loss: 0.207\n",
      "[54,   500] loss: 0.264\n",
      "[54,   600] loss: 0.321\n",
      "[54,   700] loss: 0.367\n",
      "[54,   800] loss: 0.402\n",
      "[54,   900] loss: 0.456\n",
      "[54,  1000] loss: 0.506\n",
      "[54,  1100] loss: 0.551\n",
      "[54,  1200] loss: 0.600\n"
     ]
    },
    {
     "name": "stderr",
     "output_type": "stream",
     "text": [
      " 11%|█         | 54/500 [03:37<32:38,  4.39s/it]"
     ]
    },
    {
     "name": "stdout",
     "output_type": "stream",
     "text": [
      "[55,   100] loss: 0.059\n",
      "[55,   200] loss: 0.123\n",
      "[55,   300] loss: 0.165\n",
      "[55,   400] loss: 0.223\n",
      "[55,   500] loss: 0.261\n",
      "[55,   600] loss: 0.311\n",
      "[55,   700] loss: 0.368\n",
      "[55,   800] loss: 0.410\n",
      "[55,   900] loss: 0.467\n",
      "[55,  1000] loss: 0.520\n",
      "[55,  1100] loss: 0.568\n",
      "[55,  1200] loss: 0.615\n"
     ]
    },
    {
     "name": "stderr",
     "output_type": "stream",
     "text": [
      " 11%|█         | 55/500 [03:41<32:44,  4.42s/it]"
     ]
    },
    {
     "name": "stdout",
     "output_type": "stream",
     "text": [
      "[56,   100] loss: 0.053\n",
      "[56,   200] loss: 0.110\n",
      "[56,   300] loss: 0.166\n",
      "[56,   400] loss: 0.237\n",
      "[56,   500] loss: 0.290\n",
      "[56,   600] loss: 0.349\n",
      "[56,   700] loss: 0.394\n",
      "[56,   800] loss: 0.441\n",
      "[56,   900] loss: 0.513\n",
      "[56,  1000] loss: 0.562\n",
      "[56,  1100] loss: 0.608\n",
      "[56,  1200] loss: 0.652\n"
     ]
    },
    {
     "name": "stderr",
     "output_type": "stream",
     "text": [
      " 11%|█         | 56/500 [03:45<31:40,  4.28s/it]"
     ]
    },
    {
     "name": "stdout",
     "output_type": "stream",
     "text": [
      "[57,   100] loss: 0.061\n",
      "[57,   200] loss: 0.121\n",
      "[57,   300] loss: 0.156\n",
      "[57,   400] loss: 0.203\n",
      "[57,   500] loss: 0.248\n",
      "[57,   600] loss: 0.294\n",
      "[57,   700] loss: 0.341\n",
      "[57,   800] loss: 0.398\n",
      "[57,   900] loss: 0.444\n",
      "[57,  1000] loss: 0.487\n",
      "[57,  1100] loss: 0.539\n",
      "[57,  1200] loss: 0.591\n"
     ]
    },
    {
     "name": "stderr",
     "output_type": "stream",
     "text": [
      " 11%|█▏        | 57/500 [03:49<31:22,  4.25s/it]"
     ]
    },
    {
     "name": "stdout",
     "output_type": "stream",
     "text": [
      "[58,   100] loss: 0.042\n",
      "[58,   200] loss: 0.081\n",
      "[58,   300] loss: 0.132\n",
      "[58,   400] loss: 0.200\n",
      "[58,   500] loss: 0.238\n",
      "[58,   600] loss: 0.307\n",
      "[58,   700] loss: 0.359\n",
      "[58,   800] loss: 0.409\n",
      "[58,   900] loss: 0.458\n",
      "[58,  1000] loss: 0.512\n",
      "[58,  1100] loss: 0.549\n",
      "[58,  1200] loss: 0.602\n"
     ]
    },
    {
     "name": "stderr",
     "output_type": "stream",
     "text": [
      " 12%|█▏        | 58/500 [03:52<29:10,  3.96s/it]"
     ]
    },
    {
     "name": "stdout",
     "output_type": "stream",
     "text": [
      "[59,   100] loss: 0.055\n",
      "[59,   200] loss: 0.099\n",
      "[59,   300] loss: 0.166\n",
      "[59,   400] loss: 0.210\n",
      "[59,   500] loss: 0.250\n",
      "[59,   600] loss: 0.298\n",
      "[59,   700] loss: 0.340\n",
      "[59,   800] loss: 0.385\n",
      "[59,   900] loss: 0.446\n",
      "[59,  1000] loss: 0.491\n",
      "[59,  1100] loss: 0.541\n",
      "[59,  1200] loss: 0.599\n"
     ]
    },
    {
     "name": "stderr",
     "output_type": "stream",
     "text": [
      " 12%|█▏        | 59/500 [03:57<30:18,  4.12s/it]"
     ]
    },
    {
     "name": "stdout",
     "output_type": "stream",
     "text": [
      "[60,   100] loss: 0.059\n",
      "[60,   200] loss: 0.112\n",
      "[60,   300] loss: 0.164\n",
      "[60,   400] loss: 0.215\n",
      "[60,   500] loss: 0.265\n",
      "[60,   600] loss: 0.310\n",
      "[60,   700] loss: 0.356\n",
      "[60,   800] loss: 0.414\n",
      "[60,   900] loss: 0.463\n",
      "[60,  1000] loss: 0.509\n",
      "[60,  1100] loss: 0.554\n",
      "[60,  1200] loss: 0.624\n"
     ]
    },
    {
     "name": "stderr",
     "output_type": "stream",
     "text": [
      " 12%|█▏        | 60/500 [04:04<36:33,  4.99s/it]"
     ]
    },
    {
     "name": "stdout",
     "output_type": "stream",
     "text": [
      "[61,   100] loss: 0.044\n",
      "[61,   200] loss: 0.089\n",
      "[61,   300] loss: 0.142\n",
      "[61,   400] loss: 0.207\n",
      "[61,   500] loss: 0.255\n",
      "[61,   600] loss: 0.300\n",
      "[61,   700] loss: 0.354\n",
      "[61,   800] loss: 0.393\n",
      "[61,   900] loss: 0.440\n",
      "[61,  1000] loss: 0.487\n",
      "[61,  1100] loss: 0.539\n",
      "[61,  1200] loss: 0.585\n"
     ]
    },
    {
     "name": "stderr",
     "output_type": "stream",
     "text": [
      " 12%|█▏        | 61/500 [04:08<34:32,  4.72s/it]"
     ]
    },
    {
     "name": "stdout",
     "output_type": "stream",
     "text": [
      "[62,   100] loss: 0.041\n",
      "[62,   200] loss: 0.092\n",
      "[62,   300] loss: 0.137\n",
      "[62,   400] loss: 0.181\n",
      "[62,   500] loss: 0.222\n",
      "[62,   600] loss: 0.273\n",
      "[62,   700] loss: 0.322\n",
      "[62,   800] loss: 0.366\n",
      "[62,   900] loss: 0.417\n",
      "[62,  1000] loss: 0.474\n",
      "[62,  1100] loss: 0.522\n",
      "[62,  1200] loss: 0.572\n"
     ]
    },
    {
     "name": "stderr",
     "output_type": "stream",
     "text": [
      " 12%|█▏        | 62/500 [04:13<34:37,  4.74s/it]"
     ]
    },
    {
     "name": "stdout",
     "output_type": "stream",
     "text": [
      "[63,   100] loss: 0.069\n",
      "[63,   200] loss: 0.116\n",
      "[63,   300] loss: 0.167\n",
      "[63,   400] loss: 0.221\n",
      "[63,   500] loss: 0.262\n",
      "[63,   600] loss: 0.307\n",
      "[63,   700] loss: 0.353\n",
      "[63,   800] loss: 0.393\n",
      "[63,   900] loss: 0.433\n",
      "[63,  1000] loss: 0.477\n",
      "[63,  1100] loss: 0.527\n",
      "[63,  1200] loss: 0.578\n"
     ]
    },
    {
     "name": "stderr",
     "output_type": "stream",
     "text": [
      " 13%|█▎        | 63/500 [04:17<33:16,  4.57s/it]"
     ]
    },
    {
     "name": "stdout",
     "output_type": "stream",
     "text": [
      "[64,   100] loss: 0.038\n",
      "[64,   200] loss: 0.073\n",
      "[64,   300] loss: 0.122\n",
      "[64,   400] loss: 0.164\n",
      "[64,   500] loss: 0.220\n",
      "[64,   600] loss: 0.293\n",
      "[64,   700] loss: 0.355\n",
      "[64,   800] loss: 0.393\n",
      "[64,   900] loss: 0.446\n",
      "[64,  1000] loss: 0.490\n",
      "[64,  1100] loss: 0.541\n",
      "[64,  1200] loss: 0.592\n"
     ]
    },
    {
     "name": "stderr",
     "output_type": "stream",
     "text": [
      " 13%|█▎        | 64/500 [04:20<30:33,  4.20s/it]"
     ]
    },
    {
     "name": "stdout",
     "output_type": "stream",
     "text": [
      "[65,   100] loss: 0.044\n",
      "[65,   200] loss: 0.097\n",
      "[65,   300] loss: 0.141\n",
      "[65,   400] loss: 0.180\n",
      "[65,   500] loss: 0.230\n",
      "[65,   600] loss: 0.273\n",
      "[65,   700] loss: 0.318\n",
      "[65,   800] loss: 0.366\n",
      "[65,   900] loss: 0.429\n",
      "[65,  1000] loss: 0.486\n",
      "[65,  1100] loss: 0.541\n",
      "[65,  1200] loss: 0.599\n"
     ]
    },
    {
     "name": "stderr",
     "output_type": "stream",
     "text": [
      " 13%|█▎        | 65/500 [04:24<29:47,  4.11s/it]"
     ]
    },
    {
     "name": "stdout",
     "output_type": "stream",
     "text": [
      "[66,   100] loss: 0.044\n",
      "[66,   200] loss: 0.086\n",
      "[66,   300] loss: 0.143\n",
      "[66,   400] loss: 0.197\n",
      "[66,   500] loss: 0.246\n",
      "[66,   600] loss: 0.291\n",
      "[66,   700] loss: 0.327\n",
      "[66,   800] loss: 0.370\n",
      "[66,   900] loss: 0.425\n",
      "[66,  1000] loss: 0.502\n",
      "[66,  1100] loss: 0.564\n",
      "[66,  1200] loss: 0.615\n"
     ]
    },
    {
     "name": "stderr",
     "output_type": "stream",
     "text": [
      " 13%|█▎        | 66/500 [04:28<29:09,  4.03s/it]"
     ]
    },
    {
     "name": "stdout",
     "output_type": "stream",
     "text": [
      "[67,   100] loss: 0.063\n",
      "[67,   200] loss: 0.112\n",
      "[67,   300] loss: 0.162\n",
      "[67,   400] loss: 0.208\n",
      "[67,   500] loss: 0.254\n",
      "[67,   600] loss: 0.312\n",
      "[67,   700] loss: 0.363\n",
      "[67,   800] loss: 0.398\n",
      "[67,   900] loss: 0.431\n",
      "[67,  1000] loss: 0.482\n",
      "[67,  1100] loss: 0.537\n",
      "[67,  1200] loss: 0.581\n"
     ]
    },
    {
     "name": "stderr",
     "output_type": "stream",
     "text": [
      " 13%|█▎        | 67/500 [04:32<29:09,  4.04s/it]"
     ]
    },
    {
     "name": "stdout",
     "output_type": "stream",
     "text": [
      "[68,   100] loss: 0.063\n",
      "[68,   200] loss: 0.113\n",
      "[68,   300] loss: 0.174\n",
      "[68,   400] loss: 0.230\n",
      "[68,   500] loss: 0.277\n",
      "[68,   600] loss: 0.332\n",
      "[68,   700] loss: 0.389\n",
      "[68,   800] loss: 0.434\n",
      "[68,   900] loss: 0.491\n",
      "[68,  1000] loss: 0.533\n",
      "[68,  1100] loss: 0.595\n",
      "[68,  1200] loss: 0.643\n"
     ]
    },
    {
     "name": "stderr",
     "output_type": "stream",
     "text": [
      " 14%|█▎        | 68/500 [04:37<29:46,  4.14s/it]"
     ]
    },
    {
     "name": "stdout",
     "output_type": "stream",
     "text": [
      "[69,   100] loss: 0.049\n",
      "[69,   200] loss: 0.095\n",
      "[69,   300] loss: 0.147\n",
      "[69,   400] loss: 0.212\n",
      "[69,   500] loss: 0.269\n",
      "[69,   600] loss: 0.310\n",
      "[69,   700] loss: 0.356\n",
      "[69,   800] loss: 0.408\n",
      "[69,   900] loss: 0.474\n",
      "[69,  1000] loss: 0.545\n",
      "[69,  1100] loss: 0.600\n",
      "[69,  1200] loss: 0.666\n"
     ]
    },
    {
     "name": "stderr",
     "output_type": "stream",
     "text": [
      " 14%|█▍        | 69/500 [04:40<28:13,  3.93s/it]"
     ]
    },
    {
     "name": "stdout",
     "output_type": "stream",
     "text": [
      "[70,   100] loss: 0.066\n",
      "[70,   200] loss: 0.120\n",
      "[70,   300] loss: 0.189\n",
      "[70,   400] loss: 0.228\n",
      "[70,   500] loss: 0.284\n",
      "[70,   600] loss: 0.325\n",
      "[70,   700] loss: 0.395\n",
      "[70,   800] loss: 0.449\n",
      "[70,   900] loss: 0.507\n",
      "[70,  1000] loss: 0.545\n",
      "[70,  1100] loss: 0.584\n",
      "[70,  1200] loss: 0.617\n"
     ]
    },
    {
     "name": "stderr",
     "output_type": "stream",
     "text": [
      " 14%|█▍        | 70/500 [04:43<27:11,  3.79s/it]"
     ]
    },
    {
     "name": "stdout",
     "output_type": "stream",
     "text": [
      "[71,   100] loss: 0.057\n",
      "[71,   200] loss: 0.102\n",
      "[71,   300] loss: 0.153\n",
      "[71,   400] loss: 0.212\n",
      "[71,   500] loss: 0.269\n",
      "[71,   600] loss: 0.312\n",
      "[71,   700] loss: 0.356\n",
      "[71,   800] loss: 0.413\n",
      "[71,   900] loss: 0.453\n",
      "[71,  1000] loss: 0.495\n",
      "[71,  1100] loss: 0.543\n",
      "[71,  1200] loss: 0.584\n"
     ]
    },
    {
     "name": "stderr",
     "output_type": "stream",
     "text": [
      " 14%|█▍        | 71/500 [04:48<28:48,  4.03s/it]"
     ]
    },
    {
     "name": "stdout",
     "output_type": "stream",
     "text": [
      "[72,   100] loss: 0.028\n",
      "[72,   200] loss: 0.071\n",
      "[72,   300] loss: 0.119\n",
      "[72,   400] loss: 0.172\n",
      "[72,   500] loss: 0.204\n",
      "[72,   600] loss: 0.242\n",
      "[72,   700] loss: 0.290\n",
      "[72,   800] loss: 0.330\n",
      "[72,   900] loss: 0.377\n",
      "[72,  1000] loss: 0.442\n",
      "[72,  1100] loss: 0.501\n",
      "[72,  1200] loss: 0.555\n"
     ]
    },
    {
     "name": "stderr",
     "output_type": "stream",
     "text": [
      " 14%|█▍        | 72/500 [04:52<29:19,  4.11s/it]"
     ]
    },
    {
     "name": "stdout",
     "output_type": "stream",
     "text": [
      "[73,   100] loss: 0.048\n",
      "[73,   200] loss: 0.092\n",
      "[73,   300] loss: 0.138\n",
      "[73,   400] loss: 0.179\n",
      "[73,   500] loss: 0.224\n",
      "[73,   600] loss: 0.276\n",
      "[73,   700] loss: 0.348\n",
      "[73,   800] loss: 0.403\n",
      "[73,   900] loss: 0.457\n",
      "[73,  1000] loss: 0.506\n",
      "[73,  1100] loss: 0.550\n",
      "[73,  1200] loss: 0.604\n"
     ]
    },
    {
     "name": "stderr",
     "output_type": "stream",
     "text": [
      " 15%|█▍        | 73/500 [04:56<28:45,  4.04s/it]"
     ]
    },
    {
     "name": "stdout",
     "output_type": "stream",
     "text": [
      "[74,   100] loss: 0.032\n",
      "[74,   200] loss: 0.072\n",
      "[74,   300] loss: 0.120\n",
      "[74,   400] loss: 0.183\n",
      "[74,   500] loss: 0.218\n",
      "[74,   600] loss: 0.273\n",
      "[74,   700] loss: 0.319\n",
      "[74,   800] loss: 0.376\n",
      "[74,   900] loss: 0.410\n",
      "[74,  1000] loss: 0.469\n",
      "[74,  1100] loss: 0.534\n",
      "[74,  1200] loss: 0.579\n"
     ]
    },
    {
     "name": "stderr",
     "output_type": "stream",
     "text": [
      " 15%|█▍        | 74/500 [05:00<29:05,  4.10s/it]"
     ]
    },
    {
     "name": "stdout",
     "output_type": "stream",
     "text": [
      "[75,   100] loss: 0.046\n",
      "[75,   200] loss: 0.108\n",
      "[75,   300] loss: 0.166\n",
      "[75,   400] loss: 0.219\n",
      "[75,   500] loss: 0.264\n",
      "[75,   600] loss: 0.329\n",
      "[75,   700] loss: 0.389\n",
      "[75,   800] loss: 0.451\n",
      "[75,   900] loss: 0.496\n",
      "[75,  1000] loss: 0.545\n",
      "[75,  1100] loss: 0.582\n",
      "[75,  1200] loss: 0.633\n"
     ]
    },
    {
     "name": "stderr",
     "output_type": "stream",
     "text": [
      " 15%|█▌        | 75/500 [05:04<27:40,  3.91s/it]"
     ]
    },
    {
     "name": "stdout",
     "output_type": "stream",
     "text": [
      "[76,   100] loss: 0.040\n",
      "[76,   200] loss: 0.085\n",
      "[76,   300] loss: 0.145\n",
      "[76,   400] loss: 0.200\n",
      "[76,   500] loss: 0.248\n",
      "[76,   600] loss: 0.297\n",
      "[76,   700] loss: 0.353\n",
      "[76,   800] loss: 0.410\n",
      "[76,   900] loss: 0.459\n",
      "[76,  1000] loss: 0.531\n",
      "[76,  1100] loss: 0.582\n",
      "[76,  1200] loss: 0.639\n"
     ]
    },
    {
     "name": "stderr",
     "output_type": "stream",
     "text": [
      " 15%|█▌        | 76/500 [05:08<26:56,  3.81s/it]"
     ]
    },
    {
     "name": "stdout",
     "output_type": "stream",
     "text": [
      "[77,   100] loss: 0.053\n",
      "[77,   200] loss: 0.100\n",
      "[77,   300] loss: 0.134\n",
      "[77,   400] loss: 0.207\n",
      "[77,   500] loss: 0.245\n",
      "[77,   600] loss: 0.302\n",
      "[77,   700] loss: 0.348\n",
      "[77,   800] loss: 0.396\n",
      "[77,   900] loss: 0.446\n",
      "[77,  1000] loss: 0.497\n",
      "[77,  1100] loss: 0.564\n",
      "[77,  1200] loss: 0.614\n"
     ]
    },
    {
     "name": "stderr",
     "output_type": "stream",
     "text": [
      " 15%|█▌        | 77/500 [05:12<27:36,  3.92s/it]"
     ]
    },
    {
     "name": "stdout",
     "output_type": "stream",
     "text": [
      "[78,   100] loss: 0.032\n",
      "[78,   200] loss: 0.074\n",
      "[78,   300] loss: 0.114\n",
      "[78,   400] loss: 0.175\n",
      "[78,   500] loss: 0.231\n",
      "[78,   600] loss: 0.287\n",
      "[78,   700] loss: 0.328\n",
      "[78,   800] loss: 0.379\n",
      "[78,   900] loss: 0.417\n",
      "[78,  1000] loss: 0.461\n",
      "[78,  1100] loss: 0.517\n",
      "[78,  1200] loss: 0.569\n"
     ]
    },
    {
     "name": "stderr",
     "output_type": "stream",
     "text": [
      " 16%|█▌        | 78/500 [05:17<30:02,  4.27s/it]"
     ]
    },
    {
     "name": "stdout",
     "output_type": "stream",
     "text": [
      "[79,   100] loss: 0.044\n",
      "[79,   200] loss: 0.099\n",
      "[79,   300] loss: 0.147\n",
      "[79,   400] loss: 0.191\n",
      "[79,   500] loss: 0.222\n",
      "[79,   600] loss: 0.283\n",
      "[79,   700] loss: 0.335\n",
      "[79,   800] loss: 0.380\n",
      "[79,   900] loss: 0.438\n",
      "[79,  1000] loss: 0.484\n",
      "[79,  1100] loss: 0.530\n",
      "[79,  1200] loss: 0.585\n"
     ]
    },
    {
     "name": "stderr",
     "output_type": "stream",
     "text": [
      " 16%|█▌        | 79/500 [05:21<29:06,  4.15s/it]"
     ]
    },
    {
     "name": "stdout",
     "output_type": "stream",
     "text": [
      "[80,   100] loss: 0.056\n",
      "[80,   200] loss: 0.112\n",
      "[80,   300] loss: 0.167\n",
      "[80,   400] loss: 0.214\n",
      "[80,   500] loss: 0.255\n",
      "[80,   600] loss: 0.282\n",
      "[80,   700] loss: 0.324\n",
      "[80,   800] loss: 0.378\n",
      "[80,   900] loss: 0.417\n",
      "[80,  1000] loss: 0.467\n",
      "[80,  1100] loss: 0.531\n",
      "[80,  1200] loss: 0.572\n"
     ]
    },
    {
     "name": "stderr",
     "output_type": "stream",
     "text": [
      " 16%|█▌        | 80/500 [05:25<28:57,  4.14s/it]"
     ]
    },
    {
     "name": "stdout",
     "output_type": "stream",
     "text": [
      "[81,   100] loss: 0.057\n",
      "[81,   200] loss: 0.094\n",
      "[81,   300] loss: 0.145\n",
      "[81,   400] loss: 0.195\n",
      "[81,   500] loss: 0.255\n",
      "[81,   600] loss: 0.297\n",
      "[81,   700] loss: 0.358\n",
      "[81,   800] loss: 0.408\n",
      "[81,   900] loss: 0.447\n",
      "[81,  1000] loss: 0.503\n",
      "[81,  1100] loss: 0.554\n",
      "[81,  1200] loss: 0.607\n"
     ]
    },
    {
     "name": "stderr",
     "output_type": "stream",
     "text": [
      " 16%|█▌        | 81/500 [05:28<27:59,  4.01s/it]"
     ]
    },
    {
     "name": "stdout",
     "output_type": "stream",
     "text": [
      "[82,   100] loss: 0.045\n",
      "[82,   200] loss: 0.098\n",
      "[82,   300] loss: 0.149\n",
      "[82,   400] loss: 0.203\n",
      "[82,   500] loss: 0.250\n",
      "[82,   600] loss: 0.305\n",
      "[82,   700] loss: 0.367\n",
      "[82,   800] loss: 0.410\n",
      "[82,   900] loss: 0.465\n",
      "[82,  1000] loss: 0.517\n",
      "[82,  1100] loss: 0.567\n",
      "[82,  1200] loss: 0.614\n"
     ]
    },
    {
     "name": "stderr",
     "output_type": "stream",
     "text": [
      " 16%|█▋        | 82/500 [05:32<27:10,  3.90s/it]"
     ]
    },
    {
     "name": "stdout",
     "output_type": "stream",
     "text": [
      "[83,   100] loss: 0.045\n",
      "[83,   200] loss: 0.104\n",
      "[83,   300] loss: 0.149\n",
      "[83,   400] loss: 0.178\n",
      "[83,   500] loss: 0.221\n",
      "[83,   600] loss: 0.271\n",
      "[83,   700] loss: 0.328\n",
      "[83,   800] loss: 0.396\n",
      "[83,   900] loss: 0.429\n",
      "[83,  1000] loss: 0.487\n",
      "[83,  1100] loss: 0.535\n",
      "[83,  1200] loss: 0.596\n"
     ]
    },
    {
     "name": "stderr",
     "output_type": "stream",
     "text": [
      " 17%|█▋        | 83/500 [05:36<27:47,  4.00s/it]"
     ]
    },
    {
     "name": "stdout",
     "output_type": "stream",
     "text": [
      "[84,   100] loss: 0.052\n",
      "[84,   200] loss: 0.097\n",
      "[84,   300] loss: 0.179\n",
      "[84,   400] loss: 0.224\n",
      "[84,   500] loss: 0.273\n",
      "[84,   600] loss: 0.341\n",
      "[84,   700] loss: 0.379\n",
      "[84,   800] loss: 0.443\n",
      "[84,   900] loss: 0.494\n",
      "[84,  1000] loss: 0.541\n",
      "[84,  1100] loss: 0.594\n",
      "[84,  1200] loss: 0.646\n"
     ]
    },
    {
     "name": "stderr",
     "output_type": "stream",
     "text": [
      " 17%|█▋        | 84/500 [05:40<27:49,  4.01s/it]"
     ]
    },
    {
     "name": "stdout",
     "output_type": "stream",
     "text": [
      "[85,   100] loss: 0.049\n",
      "[85,   200] loss: 0.093\n",
      "[85,   300] loss: 0.136\n",
      "[85,   400] loss: 0.190\n",
      "[85,   500] loss: 0.239\n",
      "[85,   600] loss: 0.296\n",
      "[85,   700] loss: 0.339\n",
      "[85,   800] loss: 0.405\n",
      "[85,   900] loss: 0.472\n",
      "[85,  1000] loss: 0.513\n",
      "[85,  1100] loss: 0.572\n"
     ]
    },
    {
     "name": "stderr",
     "output_type": "stream",
     "text": [
      " 17%|█▋        | 85/500 [05:45<28:24,  4.11s/it]"
     ]
    },
    {
     "name": "stdout",
     "output_type": "stream",
     "text": [
      "[85,  1200] loss: 0.629\n",
      "[86,   100] loss: 0.045\n",
      "[86,   200] loss: 0.096\n",
      "[86,   300] loss: 0.135\n",
      "[86,   400] loss: 0.191\n",
      "[86,   500] loss: 0.258\n",
      "[86,   600] loss: 0.317\n",
      "[86,   700] loss: 0.363\n",
      "[86,   800] loss: 0.420\n",
      "[86,   900] loss: 0.472\n",
      "[86,  1000] loss: 0.539\n",
      "[86,  1100] loss: 0.611\n",
      "[86,  1200] loss: 0.661\n"
     ]
    },
    {
     "name": "stderr",
     "output_type": "stream",
     "text": [
      " 17%|█▋        | 86/500 [05:49<27:43,  4.02s/it]"
     ]
    },
    {
     "name": "stdout",
     "output_type": "stream",
     "text": [
      "[87,   100] loss: 0.052\n",
      "[87,   200] loss: 0.102\n",
      "[87,   300] loss: 0.156\n",
      "[87,   400] loss: 0.209\n",
      "[87,   500] loss: 0.244\n",
      "[87,   600] loss: 0.301\n",
      "[87,   700] loss: 0.347\n",
      "[87,   800] loss: 0.391\n",
      "[87,   900] loss: 0.440\n",
      "[87,  1000] loss: 0.503\n",
      "[87,  1100] loss: 0.545\n",
      "[87,  1200] loss: 0.591\n"
     ]
    },
    {
     "name": "stderr",
     "output_type": "stream",
     "text": [
      " 17%|█▋        | 87/500 [05:52<26:48,  3.89s/it]"
     ]
    },
    {
     "name": "stdout",
     "output_type": "stream",
     "text": [
      "[88,   100] loss: 0.062\n",
      "[88,   200] loss: 0.127\n",
      "[88,   300] loss: 0.176\n",
      "[88,   400] loss: 0.222\n",
      "[88,   500] loss: 0.256\n",
      "[88,   600] loss: 0.305\n",
      "[88,   700] loss: 0.371\n",
      "[88,   800] loss: 0.408\n",
      "[88,   900] loss: 0.451\n",
      "[88,  1000] loss: 0.516\n",
      "[88,  1100] loss: 0.558\n",
      "[88,  1200] loss: 0.621\n"
     ]
    },
    {
     "name": "stderr",
     "output_type": "stream",
     "text": [
      " 18%|█▊        | 88/500 [05:56<27:09,  3.96s/it]"
     ]
    },
    {
     "name": "stdout",
     "output_type": "stream",
     "text": [
      "[89,   100] loss: 0.049\n",
      "[89,   200] loss: 0.083\n",
      "[89,   300] loss: 0.136\n",
      "[89,   400] loss: 0.194\n",
      "[89,   500] loss: 0.258\n",
      "[89,   600] loss: 0.300\n",
      "[89,   700] loss: 0.342\n",
      "[89,   800] loss: 0.406\n",
      "[89,   900] loss: 0.458\n",
      "[89,  1000] loss: 0.518\n",
      "[89,  1100] loss: 0.563\n",
      "[89,  1200] loss: 0.606\n"
     ]
    },
    {
     "name": "stderr",
     "output_type": "stream",
     "text": [
      " 18%|█▊        | 89/500 [06:01<28:18,  4.13s/it]"
     ]
    },
    {
     "name": "stdout",
     "output_type": "stream",
     "text": [
      "[90,   100] loss: 0.035\n",
      "[90,   200] loss: 0.104\n",
      "[90,   300] loss: 0.143\n",
      "[90,   400] loss: 0.195\n",
      "[90,   500] loss: 0.251\n",
      "[90,   600] loss: 0.306\n",
      "[90,   700] loss: 0.351\n",
      "[90,   800] loss: 0.400\n",
      "[90,   900] loss: 0.442\n",
      "[90,  1000] loss: 0.506\n",
      "[90,  1100] loss: 0.574\n",
      "[90,  1200] loss: 0.622\n"
     ]
    },
    {
     "name": "stderr",
     "output_type": "stream",
     "text": [
      " 18%|█▊        | 90/500 [06:05<28:19,  4.14s/it]"
     ]
    },
    {
     "name": "stdout",
     "output_type": "stream",
     "text": [
      "[91,   100] loss: 0.041\n",
      "[91,   200] loss: 0.081\n",
      "[91,   300] loss: 0.121\n",
      "[91,   400] loss: 0.165\n",
      "[91,   500] loss: 0.214\n",
      "[91,   600] loss: 0.264\n",
      "[91,   700] loss: 0.319\n",
      "[91,   800] loss: 0.374\n",
      "[91,   900] loss: 0.416\n",
      "[91,  1000] loss: 0.460\n",
      "[91,  1100] loss: 0.507\n",
      "[91,  1200] loss: 0.571\n"
     ]
    },
    {
     "name": "stderr",
     "output_type": "stream",
     "text": [
      " 18%|█▊        | 91/500 [06:09<28:27,  4.17s/it]"
     ]
    },
    {
     "name": "stdout",
     "output_type": "stream",
     "text": [
      "[92,   100] loss: 0.044\n",
      "[92,   200] loss: 0.085\n",
      "[92,   300] loss: 0.130\n",
      "[92,   400] loss: 0.180\n",
      "[92,   500] loss: 0.223\n",
      "[92,   600] loss: 0.260\n",
      "[92,   700] loss: 0.300\n",
      "[92,   800] loss: 0.361\n",
      "[92,   900] loss: 0.426\n",
      "[92,  1000] loss: 0.487\n",
      "[92,  1100] loss: 0.532\n",
      "[92,  1200] loss: 0.586\n"
     ]
    },
    {
     "name": "stderr",
     "output_type": "stream",
     "text": [
      " 18%|█▊        | 92/500 [06:13<27:37,  4.06s/it]"
     ]
    },
    {
     "name": "stdout",
     "output_type": "stream",
     "text": [
      "[93,   100] loss: 0.038\n",
      "[93,   200] loss: 0.090\n",
      "[93,   300] loss: 0.152\n",
      "[93,   400] loss: 0.201\n",
      "[93,   500] loss: 0.267\n",
      "[93,   600] loss: 0.315\n",
      "[93,   700] loss: 0.361\n",
      "[93,   800] loss: 0.418\n",
      "[93,   900] loss: 0.452\n",
      "[93,  1000] loss: 0.501\n",
      "[93,  1100] loss: 0.556\n"
     ]
    },
    {
     "name": "stderr",
     "output_type": "stream",
     "text": [
      " 19%|█▊        | 93/500 [06:17<26:34,  3.92s/it]"
     ]
    },
    {
     "name": "stdout",
     "output_type": "stream",
     "text": [
      "[93,  1200] loss: 0.604\n",
      "[94,   100] loss: 0.049\n",
      "[94,   200] loss: 0.092\n",
      "[94,   300] loss: 0.148\n",
      "[94,   400] loss: 0.205\n",
      "[94,   500] loss: 0.251\n",
      "[94,   600] loss: 0.306\n",
      "[94,   700] loss: 0.351\n",
      "[94,   800] loss: 0.406\n",
      "[94,   900] loss: 0.456\n",
      "[94,  1000] loss: 0.512\n",
      "[94,  1100] loss: 0.568\n",
      "[94,  1200] loss: 0.646\n"
     ]
    },
    {
     "name": "stderr",
     "output_type": "stream",
     "text": [
      " 19%|█▉        | 94/500 [06:21<27:37,  4.08s/it]"
     ]
    },
    {
     "name": "stdout",
     "output_type": "stream",
     "text": [
      "[95,   100] loss: 0.064\n",
      "[95,   200] loss: 0.105\n",
      "[95,   300] loss: 0.149\n",
      "[95,   400] loss: 0.193\n",
      "[95,   500] loss: 0.237\n",
      "[95,   600] loss: 0.290\n",
      "[95,   700] loss: 0.342\n",
      "[95,   800] loss: 0.389\n",
      "[95,   900] loss: 0.444\n",
      "[95,  1000] loss: 0.492\n",
      "[95,  1100] loss: 0.555\n",
      "[95,  1200] loss: 0.607\n"
     ]
    },
    {
     "name": "stderr",
     "output_type": "stream",
     "text": [
      " 19%|█▉        | 95/500 [06:25<27:21,  4.05s/it]"
     ]
    },
    {
     "name": "stdout",
     "output_type": "stream",
     "text": [
      "[96,   100] loss: 0.053\n",
      "[96,   200] loss: 0.099\n",
      "[96,   300] loss: 0.142\n",
      "[96,   400] loss: 0.198\n",
      "[96,   500] loss: 0.262\n",
      "[96,   600] loss: 0.304\n",
      "[96,   700] loss: 0.351\n",
      "[96,   800] loss: 0.408\n",
      "[96,   900] loss: 0.471\n",
      "[96,  1000] loss: 0.531\n",
      "[96,  1100] loss: 0.579\n",
      "[96,  1200] loss: 0.637\n"
     ]
    },
    {
     "name": "stderr",
     "output_type": "stream",
     "text": [
      " 19%|█▉        | 96/500 [06:29<26:32,  3.94s/it]"
     ]
    },
    {
     "name": "stdout",
     "output_type": "stream",
     "text": [
      "[97,   100] loss: 0.043\n",
      "[97,   200] loss: 0.089\n",
      "[97,   300] loss: 0.156\n",
      "[97,   400] loss: 0.203\n",
      "[97,   500] loss: 0.251\n",
      "[97,   600] loss: 0.286\n",
      "[97,   700] loss: 0.343\n",
      "[97,   800] loss: 0.404\n",
      "[97,   900] loss: 0.452\n",
      "[97,  1000] loss: 0.502\n",
      "[97,  1100] loss: 0.569\n",
      "[97,  1200] loss: 0.615\n"
     ]
    },
    {
     "name": "stderr",
     "output_type": "stream",
     "text": [
      " 19%|█▉        | 97/500 [06:33<27:04,  4.03s/it]"
     ]
    },
    {
     "name": "stdout",
     "output_type": "stream",
     "text": [
      "[98,   100] loss: 0.059\n",
      "[98,   200] loss: 0.118\n",
      "[98,   300] loss: 0.160\n",
      "[98,   400] loss: 0.208\n",
      "[98,   500] loss: 0.259\n",
      "[98,   600] loss: 0.302\n",
      "[98,   700] loss: 0.367\n",
      "[98,   800] loss: 0.416\n",
      "[98,   900] loss: 0.476\n",
      "[98,  1000] loss: 0.527\n",
      "[98,  1100] loss: 0.572\n",
      "[98,  1200] loss: 0.614\n"
     ]
    },
    {
     "name": "stderr",
     "output_type": "stream",
     "text": [
      " 20%|█▉        | 98/500 [06:38<28:22,  4.24s/it]"
     ]
    },
    {
     "name": "stdout",
     "output_type": "stream",
     "text": [
      "[99,   100] loss: 0.054\n",
      "[99,   200] loss: 0.101\n",
      "[99,   300] loss: 0.142\n",
      "[99,   400] loss: 0.197\n",
      "[99,   500] loss: 0.256\n",
      "[99,   600] loss: 0.311\n",
      "[99,   700] loss: 0.345\n",
      "[99,   800] loss: 0.398\n",
      "[99,   900] loss: 0.453\n",
      "[99,  1000] loss: 0.497\n",
      "[99,  1100] loss: 0.538\n",
      "[99,  1200] loss: 0.594\n"
     ]
    },
    {
     "name": "stderr",
     "output_type": "stream",
     "text": [
      " 20%|█▉        | 99/500 [06:43<30:34,  4.58s/it]"
     ]
    },
    {
     "name": "stdout",
     "output_type": "stream",
     "text": [
      "[100,   100] loss: 0.056\n",
      "[100,   200] loss: 0.102\n",
      "[100,   300] loss: 0.145\n",
      "[100,   400] loss: 0.179\n",
      "[100,   500] loss: 0.228\n",
      "[100,   600] loss: 0.284\n",
      "[100,   700] loss: 0.337\n",
      "[100,   800] loss: 0.396\n",
      "[100,   900] loss: 0.453\n",
      "[100,  1000] loss: 0.500\n",
      "[100,  1100] loss: 0.543\n",
      "[100,  1200] loss: 0.588\n"
     ]
    },
    {
     "name": "stderr",
     "output_type": "stream",
     "text": [
      " 20%|██        | 100/500 [06:49<32:50,  4.93s/it]"
     ]
    },
    {
     "name": "stdout",
     "output_type": "stream",
     "text": [
      "[101,   100] loss: 0.044\n",
      "[101,   200] loss: 0.093\n",
      "[101,   300] loss: 0.157\n",
      "[101,   400] loss: 0.217\n",
      "[101,   500] loss: 0.278\n",
      "[101,   600] loss: 0.323\n",
      "[101,   700] loss: 0.382\n",
      "[101,   800] loss: 0.450\n",
      "[101,   900] loss: 0.501\n",
      "[101,  1000] loss: 0.551\n",
      "[101,  1100] loss: 0.594\n",
      "[101,  1200] loss: 0.642\n"
     ]
    },
    {
     "name": "stderr",
     "output_type": "stream",
     "text": [
      " 20%|██        | 101/500 [06:54<34:01,  5.12s/it]"
     ]
    },
    {
     "name": "stdout",
     "output_type": "stream",
     "text": [
      "[102,   100] loss: 0.035\n",
      "[102,   200] loss: 0.093\n",
      "[102,   300] loss: 0.149\n",
      "[102,   400] loss: 0.179\n",
      "[102,   500] loss: 0.233\n",
      "[102,   600] loss: 0.314\n",
      "[102,   700] loss: 0.369\n",
      "[102,   800] loss: 0.425\n",
      "[102,   900] loss: 0.466\n",
      "[102,  1000] loss: 0.511\n",
      "[102,  1100] loss: 0.557\n",
      "[102,  1200] loss: 0.608\n"
     ]
    },
    {
     "name": "stderr",
     "output_type": "stream",
     "text": [
      " 20%|██        | 102/500 [06:59<33:36,  5.07s/it]"
     ]
    },
    {
     "name": "stdout",
     "output_type": "stream",
     "text": [
      "[103,   100] loss: 0.051\n",
      "[103,   200] loss: 0.103\n",
      "[103,   300] loss: 0.144\n",
      "[103,   400] loss: 0.192\n",
      "[103,   500] loss: 0.254\n",
      "[103,   600] loss: 0.318\n",
      "[103,   700] loss: 0.413\n",
      "[103,   800] loss: 0.468\n",
      "[103,   900] loss: 0.521\n",
      "[103,  1000] loss: 0.586\n",
      "[103,  1100] loss: 0.644\n",
      "[103,  1200] loss: 0.688\n"
     ]
    },
    {
     "name": "stderr",
     "output_type": "stream",
     "text": [
      " 21%|██        | 103/500 [07:03<31:02,  4.69s/it]"
     ]
    },
    {
     "name": "stdout",
     "output_type": "stream",
     "text": [
      "[104,   100] loss: 0.051\n",
      "[104,   200] loss: 0.090\n",
      "[104,   300] loss: 0.152\n",
      "[104,   400] loss: 0.202\n",
      "[104,   500] loss: 0.245\n",
      "[104,   600] loss: 0.297\n",
      "[104,   700] loss: 0.353\n",
      "[104,   800] loss: 0.419\n",
      "[104,   900] loss: 0.469\n",
      "[104,  1000] loss: 0.536\n",
      "[104,  1100] loss: 0.588\n",
      "[104,  1200] loss: 0.647\n"
     ]
    },
    {
     "name": "stderr",
     "output_type": "stream",
     "text": [
      " 21%|██        | 104/500 [07:08<32:17,  4.89s/it]"
     ]
    },
    {
     "name": "stdout",
     "output_type": "stream",
     "text": [
      "[105,   100] loss: 0.046\n",
      "[105,   200] loss: 0.085\n",
      "[105,   300] loss: 0.147\n",
      "[105,   400] loss: 0.212\n",
      "[105,   500] loss: 0.261\n",
      "[105,   600] loss: 0.333\n",
      "[105,   700] loss: 0.379\n",
      "[105,   800] loss: 0.439\n",
      "[105,   900] loss: 0.476\n",
      "[105,  1000] loss: 0.518\n",
      "[105,  1100] loss: 0.559\n",
      "[105,  1200] loss: 0.616\n"
     ]
    },
    {
     "name": "stderr",
     "output_type": "stream",
     "text": [
      " 21%|██        | 105/500 [07:15<35:25,  5.38s/it]"
     ]
    },
    {
     "name": "stdout",
     "output_type": "stream",
     "text": [
      "[106,   100] loss: 0.067\n",
      "[106,   200] loss: 0.106\n",
      "[106,   300] loss: 0.160\n",
      "[106,   400] loss: 0.210\n",
      "[106,   500] loss: 0.249\n",
      "[106,   600] loss: 0.295\n",
      "[106,   700] loss: 0.363\n",
      "[106,   800] loss: 0.397\n",
      "[106,   900] loss: 0.455\n",
      "[106,  1000] loss: 0.505\n",
      "[106,  1100] loss: 0.550\n",
      "[106,  1200] loss: 0.605\n"
     ]
    },
    {
     "name": "stderr",
     "output_type": "stream",
     "text": [
      " 21%|██        | 106/500 [07:19<33:20,  5.08s/it]"
     ]
    },
    {
     "name": "stdout",
     "output_type": "stream",
     "text": [
      "[107,   100] loss: 0.046\n",
      "[107,   200] loss: 0.101\n",
      "[107,   300] loss: 0.160\n",
      "[107,   400] loss: 0.207\n",
      "[107,   500] loss: 0.257\n",
      "[107,   600] loss: 0.309\n",
      "[107,   700] loss: 0.366\n",
      "[107,   800] loss: 0.425\n",
      "[107,   900] loss: 0.475\n",
      "[107,  1000] loss: 0.515\n",
      "[107,  1100] loss: 0.561\n"
     ]
    },
    {
     "name": "stderr",
     "output_type": "stream",
     "text": [
      " 21%|██▏       | 107/500 [07:23<30:43,  4.69s/it]"
     ]
    },
    {
     "name": "stdout",
     "output_type": "stream",
     "text": [
      "[107,  1200] loss: 0.615\n",
      "[108,   100] loss: 0.056\n",
      "[108,   200] loss: 0.120\n",
      "[108,   300] loss: 0.172\n",
      "[108,   400] loss: 0.218\n",
      "[108,   500] loss: 0.265\n",
      "[108,   600] loss: 0.314\n",
      "[108,   700] loss: 0.362\n",
      "[108,   800] loss: 0.420\n",
      "[108,   900] loss: 0.473\n",
      "[108,  1000] loss: 0.537\n",
      "[108,  1100] loss: 0.578\n",
      "[108,  1200] loss: 0.628\n"
     ]
    },
    {
     "name": "stderr",
     "output_type": "stream",
     "text": [
      " 22%|██▏       | 108/500 [07:28<30:20,  4.64s/it]"
     ]
    },
    {
     "name": "stdout",
     "output_type": "stream",
     "text": [
      "[109,   100] loss: 0.049\n",
      "[109,   200] loss: 0.119\n",
      "[109,   300] loss: 0.181\n",
      "[109,   400] loss: 0.232\n",
      "[109,   500] loss: 0.286\n",
      "[109,   600] loss: 0.327\n",
      "[109,   700] loss: 0.390\n",
      "[109,   800] loss: 0.438\n",
      "[109,   900] loss: 0.494\n",
      "[109,  1000] loss: 0.567\n",
      "[109,  1100] loss: 0.617\n",
      "[109,  1200] loss: 0.646\n"
     ]
    },
    {
     "name": "stderr",
     "output_type": "stream",
     "text": [
      " 22%|██▏       | 109/500 [07:32<29:02,  4.46s/it]"
     ]
    },
    {
     "name": "stdout",
     "output_type": "stream",
     "text": [
      "[110,   100] loss: 0.064\n",
      "[110,   200] loss: 0.121\n",
      "[110,   300] loss: 0.167\n",
      "[110,   400] loss: 0.220\n",
      "[110,   500] loss: 0.260\n",
      "[110,   600] loss: 0.323\n",
      "[110,   700] loss: 0.378\n",
      "[110,   800] loss: 0.441\n",
      "[110,   900] loss: 0.494\n",
      "[110,  1000] loss: 0.551\n",
      "[110,  1100] loss: 0.603\n",
      "[110,  1200] loss: 0.661\n"
     ]
    },
    {
     "name": "stderr",
     "output_type": "stream",
     "text": [
      " 22%|██▏       | 110/500 [07:37<30:34,  4.70s/it]"
     ]
    },
    {
     "name": "stdout",
     "output_type": "stream",
     "text": [
      "[111,   100] loss: 0.045\n",
      "[111,   200] loss: 0.093\n",
      "[111,   300] loss: 0.135\n",
      "[111,   400] loss: 0.183\n",
      "[111,   500] loss: 0.238\n",
      "[111,   600] loss: 0.289\n",
      "[111,   700] loss: 0.352\n",
      "[111,   800] loss: 0.409\n",
      "[111,   900] loss: 0.452\n",
      "[111,  1000] loss: 0.494\n",
      "[111,  1100] loss: 0.544\n",
      "[111,  1200] loss: 0.605\n"
     ]
    },
    {
     "name": "stderr",
     "output_type": "stream",
     "text": [
      " 22%|██▏       | 111/500 [07:43<32:19,  4.99s/it]"
     ]
    },
    {
     "name": "stdout",
     "output_type": "stream",
     "text": [
      "[112,   100] loss: 0.050\n",
      "[112,   200] loss: 0.110\n",
      "[112,   300] loss: 0.166\n",
      "[112,   400] loss: 0.214\n",
      "[112,   500] loss: 0.252\n",
      "[112,   600] loss: 0.296\n",
      "[112,   700] loss: 0.348\n",
      "[112,   800] loss: 0.402\n",
      "[112,   900] loss: 0.449\n",
      "[112,  1000] loss: 0.512\n",
      "[112,  1100] loss: 0.555\n",
      "[112,  1200] loss: 0.617\n"
     ]
    },
    {
     "name": "stderr",
     "output_type": "stream",
     "text": [
      " 22%|██▏       | 112/500 [07:50<37:37,  5.82s/it]"
     ]
    },
    {
     "name": "stdout",
     "output_type": "stream",
     "text": [
      "[113,   100] loss: 0.047\n",
      "[113,   200] loss: 0.105\n",
      "[113,   300] loss: 0.167\n",
      "[113,   400] loss: 0.224\n",
      "[113,   500] loss: 0.282\n",
      "[113,   600] loss: 0.355\n",
      "[113,   700] loss: 0.416\n",
      "[113,   800] loss: 0.457\n",
      "[113,   900] loss: 0.500\n",
      "[113,  1000] loss: 0.553\n",
      "[113,  1100] loss: 0.610\n",
      "[113,  1200] loss: 0.649\n"
     ]
    },
    {
     "name": "stderr",
     "output_type": "stream",
     "text": [
      " 23%|██▎       | 113/500 [07:55<34:59,  5.43s/it]"
     ]
    },
    {
     "name": "stdout",
     "output_type": "stream",
     "text": [
      "[114,   100] loss: 0.051\n",
      "[114,   200] loss: 0.098\n",
      "[114,   300] loss: 0.157\n",
      "[114,   400] loss: 0.207\n",
      "[114,   500] loss: 0.279\n",
      "[114,   600] loss: 0.337\n",
      "[114,   700] loss: 0.383\n",
      "[114,   800] loss: 0.441\n",
      "[114,   900] loss: 0.485\n",
      "[114,  1000] loss: 0.528\n",
      "[114,  1100] loss: 0.567\n",
      "[114,  1200] loss: 0.632\n"
     ]
    },
    {
     "name": "stderr",
     "output_type": "stream",
     "text": [
      " 23%|██▎       | 114/500 [08:00<34:05,  5.30s/it]"
     ]
    },
    {
     "name": "stdout",
     "output_type": "stream",
     "text": [
      "[115,   100] loss: 0.033\n",
      "[115,   200] loss: 0.091\n",
      "[115,   300] loss: 0.157\n",
      "[115,   400] loss: 0.206\n",
      "[115,   500] loss: 0.269\n",
      "[115,   600] loss: 0.320\n",
      "[115,   700] loss: 0.372\n",
      "[115,   800] loss: 0.450\n",
      "[115,   900] loss: 0.496\n",
      "[115,  1000] loss: 0.553\n",
      "[115,  1100] loss: 0.593\n",
      "[115,  1200] loss: 0.650\n"
     ]
    },
    {
     "name": "stderr",
     "output_type": "stream",
     "text": [
      " 23%|██▎       | 115/500 [08:04<31:07,  4.85s/it]"
     ]
    },
    {
     "name": "stdout",
     "output_type": "stream",
     "text": [
      "[116,   100] loss: 0.047\n",
      "[116,   200] loss: 0.093\n",
      "[116,   300] loss: 0.167\n",
      "[116,   400] loss: 0.229\n",
      "[116,   500] loss: 0.267\n",
      "[116,   600] loss: 0.315\n",
      "[116,   700] loss: 0.371\n",
      "[116,   800] loss: 0.443\n",
      "[116,   900] loss: 0.504\n",
      "[116,  1000] loss: 0.575\n",
      "[116,  1100] loss: 0.615\n",
      "[116,  1200] loss: 0.665\n"
     ]
    },
    {
     "name": "stderr",
     "output_type": "stream",
     "text": [
      " 23%|██▎       | 116/500 [08:08<29:34,  4.62s/it]"
     ]
    },
    {
     "name": "stdout",
     "output_type": "stream",
     "text": [
      "[117,   100] loss: 0.047\n",
      "[117,   200] loss: 0.103\n",
      "[117,   300] loss: 0.164\n",
      "[117,   400] loss: 0.212\n",
      "[117,   500] loss: 0.263\n",
      "[117,   600] loss: 0.306\n",
      "[117,   700] loss: 0.357\n",
      "[117,   800] loss: 0.417\n",
      "[117,   900] loss: 0.473\n",
      "[117,  1000] loss: 0.533\n",
      "[117,  1100] loss: 0.578\n"
     ]
    },
    {
     "name": "stderr",
     "output_type": "stream",
     "text": [
      " 23%|██▎       | 117/500 [08:14<32:22,  5.07s/it]"
     ]
    },
    {
     "name": "stdout",
     "output_type": "stream",
     "text": [
      "[117,  1200] loss: 0.631\n",
      "[118,   100] loss: 0.055\n",
      "[118,   200] loss: 0.110\n",
      "[118,   300] loss: 0.161\n",
      "[118,   400] loss: 0.208\n",
      "[118,   500] loss: 0.262\n",
      "[118,   600] loss: 0.303\n",
      "[118,   700] loss: 0.352\n",
      "[118,   800] loss: 0.412\n",
      "[118,   900] loss: 0.457\n",
      "[118,  1000] loss: 0.522\n",
      "[118,  1100] loss: 0.557\n",
      "[118,  1200] loss: 0.612\n"
     ]
    },
    {
     "name": "stderr",
     "output_type": "stream",
     "text": [
      " 24%|██▎       | 118/500 [08:19<32:25,  5.09s/it]"
     ]
    },
    {
     "name": "stdout",
     "output_type": "stream",
     "text": [
      "[119,   100] loss: 0.055\n",
      "[119,   200] loss: 0.117\n",
      "[119,   300] loss: 0.175\n",
      "[119,   400] loss: 0.240\n",
      "[119,   500] loss: 0.278\n",
      "[119,   600] loss: 0.340\n",
      "[119,   700] loss: 0.385\n",
      "[119,   800] loss: 0.421\n",
      "[119,   900] loss: 0.471\n",
      "[119,  1000] loss: 0.524\n",
      "[119,  1100] loss: 0.575\n",
      "[119,  1200] loss: 0.617\n"
     ]
    },
    {
     "name": "stderr",
     "output_type": "stream",
     "text": [
      " 24%|██▍       | 119/500 [08:25<33:25,  5.26s/it]"
     ]
    },
    {
     "name": "stdout",
     "output_type": "stream",
     "text": [
      "[120,   100] loss: 0.047\n",
      "[120,   200] loss: 0.092\n",
      "[120,   300] loss: 0.152\n",
      "[120,   400] loss: 0.200\n",
      "[120,   500] loss: 0.250\n",
      "[120,   600] loss: 0.302\n",
      "[120,   700] loss: 0.359\n",
      "[120,   800] loss: 0.395\n",
      "[120,   900] loss: 0.448\n",
      "[120,  1000] loss: 0.498\n",
      "[120,  1100] loss: 0.540\n",
      "[120,  1200] loss: 0.575\n"
     ]
    },
    {
     "name": "stderr",
     "output_type": "stream",
     "text": [
      " 24%|██▍       | 120/500 [08:29<32:15,  5.09s/it]"
     ]
    },
    {
     "name": "stdout",
     "output_type": "stream",
     "text": [
      "[121,   100] loss: 0.051\n",
      "[121,   200] loss: 0.095\n",
      "[121,   300] loss: 0.140\n",
      "[121,   400] loss: 0.197\n",
      "[121,   500] loss: 0.242\n",
      "[121,   600] loss: 0.297\n",
      "[121,   700] loss: 0.340\n",
      "[121,   800] loss: 0.383\n",
      "[121,   900] loss: 0.429\n",
      "[121,  1000] loss: 0.482\n",
      "[121,  1100] loss: 0.546\n",
      "[121,  1200] loss: 0.610\n"
     ]
    },
    {
     "name": "stderr",
     "output_type": "stream",
     "text": [
      " 24%|██▍       | 121/500 [08:34<31:27,  4.98s/it]"
     ]
    },
    {
     "name": "stdout",
     "output_type": "stream",
     "text": [
      "[122,   100] loss: 0.036\n",
      "[122,   200] loss: 0.090\n",
      "[122,   300] loss: 0.153\n",
      "[122,   400] loss: 0.207\n",
      "[122,   500] loss: 0.247\n",
      "[122,   600] loss: 0.298\n",
      "[122,   700] loss: 0.352\n",
      "[122,   800] loss: 0.415\n",
      "[122,   900] loss: 0.473\n",
      "[122,  1000] loss: 0.546\n",
      "[122,  1100] loss: 0.617\n",
      "[122,  1200] loss: 0.666\n"
     ]
    },
    {
     "name": "stderr",
     "output_type": "stream",
     "text": [
      " 24%|██▍       | 122/500 [08:38<29:56,  4.75s/it]"
     ]
    },
    {
     "name": "stdout",
     "output_type": "stream",
     "text": [
      "[123,   100] loss: 0.049\n",
      "[123,   200] loss: 0.089\n",
      "[123,   300] loss: 0.136\n",
      "[123,   400] loss: 0.188\n",
      "[123,   500] loss: 0.244\n",
      "[123,   600] loss: 0.303\n",
      "[123,   700] loss: 0.353\n",
      "[123,   800] loss: 0.412\n",
      "[123,   900] loss: 0.466\n",
      "[123,  1000] loss: 0.517\n",
      "[123,  1100] loss: 0.571\n"
     ]
    },
    {
     "name": "stderr",
     "output_type": "stream",
     "text": [
      " 25%|██▍       | 123/500 [08:43<29:54,  4.76s/it]"
     ]
    },
    {
     "name": "stdout",
     "output_type": "stream",
     "text": [
      "[123,  1200] loss: 0.618\n",
      "[124,   100] loss: 0.054\n",
      "[124,   200] loss: 0.115\n",
      "[124,   300] loss: 0.156\n",
      "[124,   400] loss: 0.201\n",
      "[124,   500] loss: 0.252\n",
      "[124,   600] loss: 0.295\n",
      "[124,   700] loss: 0.334\n",
      "[124,   800] loss: 0.395\n",
      "[124,   900] loss: 0.448\n",
      "[124,  1000] loss: 0.506\n",
      "[124,  1100] loss: 0.553\n",
      "[124,  1200] loss: 0.610\n"
     ]
    },
    {
     "name": "stderr",
     "output_type": "stream",
     "text": [
      " 25%|██▍       | 124/500 [08:48<30:11,  4.82s/it]"
     ]
    },
    {
     "name": "stdout",
     "output_type": "stream",
     "text": [
      "[125,   100] loss: 0.055\n",
      "[125,   200] loss: 0.102\n",
      "[125,   300] loss: 0.144\n",
      "[125,   400] loss: 0.192\n",
      "[125,   500] loss: 0.241\n",
      "[125,   600] loss: 0.285\n",
      "[125,   700] loss: 0.337\n",
      "[125,   800] loss: 0.371\n",
      "[125,   900] loss: 0.432\n",
      "[125,  1000] loss: 0.491\n",
      "[125,  1100] loss: 0.529\n",
      "[125,  1200] loss: 0.574\n"
     ]
    },
    {
     "name": "stderr",
     "output_type": "stream",
     "text": [
      " 25%|██▌       | 125/500 [08:52<29:07,  4.66s/it]"
     ]
    },
    {
     "name": "stdout",
     "output_type": "stream",
     "text": [
      "[126,   100] loss: 0.059\n",
      "[126,   200] loss: 0.097\n",
      "[126,   300] loss: 0.154\n",
      "[126,   400] loss: 0.203\n",
      "[126,   500] loss: 0.263\n",
      "[126,   600] loss: 0.304\n",
      "[126,   700] loss: 0.361\n",
      "[126,   800] loss: 0.417\n",
      "[126,   900] loss: 0.473\n",
      "[126,  1000] loss: 0.513\n",
      "[126,  1100] loss: 0.569\n",
      "[126,  1200] loss: 0.621\n"
     ]
    },
    {
     "name": "stderr",
     "output_type": "stream",
     "text": [
      " 25%|██▌       | 126/500 [08:56<27:17,  4.38s/it]"
     ]
    },
    {
     "name": "stdout",
     "output_type": "stream",
     "text": [
      "[127,   100] loss: 0.045\n",
      "[127,   200] loss: 0.096\n",
      "[127,   300] loss: 0.146\n",
      "[127,   400] loss: 0.186\n",
      "[127,   500] loss: 0.242\n",
      "[127,   600] loss: 0.284\n",
      "[127,   700] loss: 0.346\n",
      "[127,   800] loss: 0.406\n",
      "[127,   900] loss: 0.462\n",
      "[127,  1000] loss: 0.504\n",
      "[127,  1100] loss: 0.564\n",
      "[127,  1200] loss: 0.621\n"
     ]
    },
    {
     "name": "stderr",
     "output_type": "stream",
     "text": [
      " 25%|██▌       | 127/500 [09:00<26:15,  4.22s/it]"
     ]
    },
    {
     "name": "stdout",
     "output_type": "stream",
     "text": [
      "[128,   100] loss: 0.037\n",
      "[128,   200] loss: 0.094\n",
      "[128,   300] loss: 0.132\n",
      "[128,   400] loss: 0.182\n",
      "[128,   500] loss: 0.228\n",
      "[128,   600] loss: 0.264\n",
      "[128,   700] loss: 0.294\n",
      "[128,   800] loss: 0.349\n",
      "[128,   900] loss: 0.399\n",
      "[128,  1000] loss: 0.445\n",
      "[128,  1100] loss: 0.524\n",
      "[128,  1200] loss: 0.573\n"
     ]
    },
    {
     "name": "stderr",
     "output_type": "stream",
     "text": [
      " 26%|██▌       | 128/500 [09:05<27:49,  4.49s/it]"
     ]
    },
    {
     "name": "stdout",
     "output_type": "stream",
     "text": [
      "[129,   100] loss: 0.055\n",
      "[129,   200] loss: 0.107\n",
      "[129,   300] loss: 0.175\n",
      "[129,   400] loss: 0.236\n",
      "[129,   500] loss: 0.284\n",
      "[129,   600] loss: 0.328\n",
      "[129,   700] loss: 0.374\n",
      "[129,   800] loss: 0.413\n",
      "[129,   900] loss: 0.474\n",
      "[129,  1000] loss: 0.522\n",
      "[129,  1100] loss: 0.574\n",
      "[129,  1200] loss: 0.636\n"
     ]
    },
    {
     "name": "stderr",
     "output_type": "stream",
     "text": [
      " 26%|██▌       | 129/500 [09:11<30:40,  4.96s/it]"
     ]
    },
    {
     "name": "stdout",
     "output_type": "stream",
     "text": [
      "[130,   100] loss: 0.050\n",
      "[130,   200] loss: 0.105\n",
      "[130,   300] loss: 0.167\n",
      "[130,   400] loss: 0.214\n",
      "[130,   500] loss: 0.265\n",
      "[130,   600] loss: 0.314\n",
      "[130,   700] loss: 0.357\n",
      "[130,   800] loss: 0.409\n",
      "[130,   900] loss: 0.452\n",
      "[130,  1000] loss: 0.514\n",
      "[130,  1100] loss: 0.574\n",
      "[130,  1200] loss: 0.616\n"
     ]
    },
    {
     "name": "stderr",
     "output_type": "stream",
     "text": [
      " 26%|██▌       | 130/500 [09:20<37:43,  6.12s/it]"
     ]
    },
    {
     "name": "stdout",
     "output_type": "stream",
     "text": [
      "[131,   100] loss: 0.041\n",
      "[131,   200] loss: 0.092\n",
      "[131,   300] loss: 0.134\n",
      "[131,   400] loss: 0.177\n",
      "[131,   500] loss: 0.233\n",
      "[131,   600] loss: 0.288\n",
      "[131,   700] loss: 0.345\n",
      "[131,   800] loss: 0.408\n",
      "[131,   900] loss: 0.463\n",
      "[131,  1000] loss: 0.509\n",
      "[131,  1100] loss: 0.550\n",
      "[131,  1200] loss: 0.602\n"
     ]
    },
    {
     "name": "stderr",
     "output_type": "stream",
     "text": [
      " 26%|██▌       | 131/500 [09:30<44:01,  7.16s/it]"
     ]
    },
    {
     "name": "stdout",
     "output_type": "stream",
     "text": [
      "[132,   100] loss: 0.035\n",
      "[132,   200] loss: 0.093\n",
      "[132,   300] loss: 0.138\n",
      "[132,   400] loss: 0.195\n",
      "[132,   500] loss: 0.250\n",
      "[132,   600] loss: 0.297\n",
      "[132,   700] loss: 0.345\n",
      "[132,   800] loss: 0.396\n",
      "[132,   900] loss: 0.443\n",
      "[132,  1000] loss: 0.486\n",
      "[132,  1100] loss: 0.524\n",
      "[132,  1200] loss: 0.581\n"
     ]
    },
    {
     "name": "stderr",
     "output_type": "stream",
     "text": [
      " 26%|██▋       | 132/500 [09:34<39:28,  6.44s/it]"
     ]
    },
    {
     "name": "stdout",
     "output_type": "stream",
     "text": [
      "[133,   100] loss: 0.049\n",
      "[133,   200] loss: 0.108\n",
      "[133,   300] loss: 0.154\n",
      "[133,   400] loss: 0.204\n",
      "[133,   500] loss: 0.266\n",
      "[133,   600] loss: 0.323\n",
      "[133,   700] loss: 0.358\n",
      "[133,   800] loss: 0.403\n",
      "[133,   900] loss: 0.464\n",
      "[133,  1000] loss: 0.507\n",
      "[133,  1100] loss: 0.557\n",
      "[133,  1200] loss: 0.599\n"
     ]
    },
    {
     "name": "stderr",
     "output_type": "stream",
     "text": [
      " 27%|██▋       | 133/500 [09:39<35:41,  5.83s/it]"
     ]
    },
    {
     "name": "stdout",
     "output_type": "stream",
     "text": [
      "[134,   100] loss: 0.041\n",
      "[134,   200] loss: 0.093\n",
      "[134,   300] loss: 0.140\n",
      "[134,   400] loss: 0.190\n",
      "[134,   500] loss: 0.236\n",
      "[134,   600] loss: 0.288\n",
      "[134,   700] loss: 0.342\n",
      "[134,   800] loss: 0.404\n",
      "[134,   900] loss: 0.454\n",
      "[134,  1000] loss: 0.508\n",
      "[134,  1100] loss: 0.548\n",
      "[134,  1200] loss: 0.616\n"
     ]
    },
    {
     "name": "stderr",
     "output_type": "stream",
     "text": [
      " 27%|██▋       | 134/500 [09:44<35:04,  5.75s/it]"
     ]
    },
    {
     "name": "stdout",
     "output_type": "stream",
     "text": [
      "[135,   100] loss: 0.049\n",
      "[135,   200] loss: 0.111\n",
      "[135,   300] loss: 0.147\n",
      "[135,   400] loss: 0.184\n",
      "[135,   500] loss: 0.239\n",
      "[135,   600] loss: 0.295\n",
      "[135,   700] loss: 0.358\n",
      "[135,   800] loss: 0.419\n",
      "[135,   900] loss: 0.461\n",
      "[135,  1000] loss: 0.505\n",
      "[135,  1100] loss: 0.566\n",
      "[135,  1200] loss: 0.613\n"
     ]
    },
    {
     "name": "stderr",
     "output_type": "stream",
     "text": [
      " 27%|██▋       | 135/500 [09:49<33:39,  5.53s/it]"
     ]
    },
    {
     "name": "stdout",
     "output_type": "stream",
     "text": [
      "[136,   100] loss: 0.049\n",
      "[136,   200] loss: 0.102\n",
      "[136,   300] loss: 0.148\n",
      "[136,   400] loss: 0.190\n",
      "[136,   500] loss: 0.228\n",
      "[136,   600] loss: 0.282\n",
      "[136,   700] loss: 0.329\n",
      "[136,   800] loss: 0.389\n",
      "[136,   900] loss: 0.436\n",
      "[136,  1000] loss: 0.496\n",
      "[136,  1100] loss: 0.548\n",
      "[136,  1200] loss: 0.599\n"
     ]
    },
    {
     "name": "stderr",
     "output_type": "stream",
     "text": [
      " 27%|██▋       | 136/500 [09:54<31:27,  5.19s/it]"
     ]
    },
    {
     "name": "stdout",
     "output_type": "stream",
     "text": [
      "[137,   100] loss: 0.060\n",
      "[137,   200] loss: 0.107\n",
      "[137,   300] loss: 0.150\n",
      "[137,   400] loss: 0.199\n",
      "[137,   500] loss: 0.238\n",
      "[137,   600] loss: 0.284\n",
      "[137,   700] loss: 0.329\n",
      "[137,   800] loss: 0.394\n",
      "[137,   900] loss: 0.441\n",
      "[137,  1000] loss: 0.497\n",
      "[137,  1100] loss: 0.545\n",
      "[137,  1200] loss: 0.591\n"
     ]
    },
    {
     "name": "stderr",
     "output_type": "stream",
     "text": [
      " 27%|██▋       | 137/500 [09:58<28:58,  4.79s/it]"
     ]
    },
    {
     "name": "stdout",
     "output_type": "stream",
     "text": [
      "[138,   100] loss: 0.060\n",
      "[138,   200] loss: 0.105\n",
      "[138,   300] loss: 0.185\n",
      "[138,   400] loss: 0.228\n",
      "[138,   500] loss: 0.275\n",
      "[138,   600] loss: 0.312\n",
      "[138,   700] loss: 0.370\n",
      "[138,   800] loss: 0.436\n",
      "[138,   900] loss: 0.485\n",
      "[138,  1000] loss: 0.541\n",
      "[138,  1100] loss: 0.588\n",
      "[138,  1200] loss: 0.628\n"
     ]
    },
    {
     "name": "stderr",
     "output_type": "stream",
     "text": [
      " 28%|██▊       | 138/500 [10:03<29:29,  4.89s/it]"
     ]
    },
    {
     "name": "stdout",
     "output_type": "stream",
     "text": [
      "[139,   100] loss: 0.052\n",
      "[139,   200] loss: 0.078\n",
      "[139,   300] loss: 0.127\n",
      "[139,   400] loss: 0.188\n",
      "[139,   500] loss: 0.246\n",
      "[139,   600] loss: 0.284\n",
      "[139,   700] loss: 0.331\n",
      "[139,   800] loss: 0.384\n",
      "[139,   900] loss: 0.413\n",
      "[139,  1000] loss: 0.466\n",
      "[139,  1100] loss: 0.507\n",
      "[139,  1200] loss: 0.560\n"
     ]
    },
    {
     "name": "stderr",
     "output_type": "stream",
     "text": [
      " 28%|██▊       | 139/500 [10:08<30:01,  4.99s/it]"
     ]
    },
    {
     "name": "stdout",
     "output_type": "stream",
     "text": [
      "[140,   100] loss: 0.047\n",
      "[140,   200] loss: 0.109\n",
      "[140,   300] loss: 0.150\n",
      "[140,   400] loss: 0.206\n",
      "[140,   500] loss: 0.253\n",
      "[140,   600] loss: 0.293\n",
      "[140,   700] loss: 0.332\n",
      "[140,   800] loss: 0.382\n",
      "[140,   900] loss: 0.425\n",
      "[140,  1000] loss: 0.475\n",
      "[140,  1100] loss: 0.525\n",
      "[140,  1200] loss: 0.606\n"
     ]
    },
    {
     "name": "stderr",
     "output_type": "stream",
     "text": [
      " 28%|██▊       | 140/500 [10:13<29:58,  4.99s/it]"
     ]
    },
    {
     "name": "stdout",
     "output_type": "stream",
     "text": [
      "[141,   100] loss: 0.049\n",
      "[141,   200] loss: 0.081\n",
      "[141,   300] loss: 0.128\n",
      "[141,   400] loss: 0.174\n",
      "[141,   500] loss: 0.227\n",
      "[141,   600] loss: 0.290\n",
      "[141,   700] loss: 0.335\n",
      "[141,   800] loss: 0.384\n",
      "[141,   900] loss: 0.427\n",
      "[141,  1000] loss: 0.476\n",
      "[141,  1100] loss: 0.540\n",
      "[141,  1200] loss: 0.591\n"
     ]
    },
    {
     "name": "stderr",
     "output_type": "stream",
     "text": [
      " 28%|██▊       | 141/500 [10:17<28:04,  4.69s/it]"
     ]
    },
    {
     "name": "stdout",
     "output_type": "stream",
     "text": [
      "[142,   100] loss: 0.052\n",
      "[142,   200] loss: 0.121\n",
      "[142,   300] loss: 0.183\n",
      "[142,   400] loss: 0.227\n",
      "[142,   500] loss: 0.277\n",
      "[142,   600] loss: 0.318\n",
      "[142,   700] loss: 0.352\n",
      "[142,   800] loss: 0.402\n",
      "[142,   900] loss: 0.449\n",
      "[142,  1000] loss: 0.503\n",
      "[142,  1100] loss: 0.554\n"
     ]
    },
    {
     "name": "stderr",
     "output_type": "stream",
     "text": [
      " 28%|██▊       | 142/500 [10:20<25:50,  4.33s/it]"
     ]
    },
    {
     "name": "stdout",
     "output_type": "stream",
     "text": [
      "[142,  1200] loss: 0.614\n",
      "[143,   100] loss: 0.048\n",
      "[143,   200] loss: 0.100\n",
      "[143,   300] loss: 0.151\n",
      "[143,   400] loss: 0.205\n",
      "[143,   500] loss: 0.248\n",
      "[143,   600] loss: 0.303\n",
      "[143,   700] loss: 0.341\n",
      "[143,   800] loss: 0.379\n",
      "[143,   900] loss: 0.440\n",
      "[143,  1000] loss: 0.507\n",
      "[143,  1100] loss: 0.565\n",
      "[143,  1200] loss: 0.605\n"
     ]
    },
    {
     "name": "stderr",
     "output_type": "stream",
     "text": [
      " 29%|██▊       | 143/500 [10:24<24:31,  4.12s/it]"
     ]
    },
    {
     "name": "stdout",
     "output_type": "stream",
     "text": [
      "[144,   100] loss: 0.040\n",
      "[144,   200] loss: 0.079\n",
      "[144,   300] loss: 0.120\n",
      "[144,   400] loss: 0.157\n",
      "[144,   500] loss: 0.215\n",
      "[144,   600] loss: 0.283\n",
      "[144,   700] loss: 0.337\n",
      "[144,   800] loss: 0.389\n",
      "[144,   900] loss: 0.450\n",
      "[144,  1000] loss: 0.506\n",
      "[144,  1100] loss: 0.545\n",
      "[144,  1200] loss: 0.596\n"
     ]
    },
    {
     "name": "stderr",
     "output_type": "stream",
     "text": [
      " 29%|██▉       | 144/500 [10:28<24:57,  4.21s/it]"
     ]
    },
    {
     "name": "stdout",
     "output_type": "stream",
     "text": [
      "[145,   100] loss: 0.053\n",
      "[145,   200] loss: 0.095\n",
      "[145,   300] loss: 0.161\n",
      "[145,   400] loss: 0.216\n",
      "[145,   500] loss: 0.269\n",
      "[145,   600] loss: 0.328\n",
      "[145,   700] loss: 0.370\n",
      "[145,   800] loss: 0.423\n",
      "[145,   900] loss: 0.461\n",
      "[145,  1000] loss: 0.522\n",
      "[145,  1100] loss: 0.569\n",
      "[145,  1200] loss: 0.631\n"
     ]
    },
    {
     "name": "stderr",
     "output_type": "stream",
     "text": [
      " 29%|██▉       | 145/500 [10:33<25:06,  4.24s/it]"
     ]
    },
    {
     "name": "stdout",
     "output_type": "stream",
     "text": [
      "[146,   100] loss: 0.049\n",
      "[146,   200] loss: 0.106\n",
      "[146,   300] loss: 0.165\n",
      "[146,   400] loss: 0.240\n",
      "[146,   500] loss: 0.293\n",
      "[146,   600] loss: 0.329\n",
      "[146,   700] loss: 0.379\n",
      "[146,   800] loss: 0.423\n",
      "[146,   900] loss: 0.453\n",
      "[146,  1000] loss: 0.507\n",
      "[146,  1100] loss: 0.562\n"
     ]
    },
    {
     "name": "stderr",
     "output_type": "stream",
     "text": [
      " 29%|██▉       | 146/500 [10:37<25:44,  4.36s/it]"
     ]
    },
    {
     "name": "stdout",
     "output_type": "stream",
     "text": [
      "[146,  1200] loss: 0.617\n",
      "[147,   100] loss: 0.057\n",
      "[147,   200] loss: 0.120\n",
      "[147,   300] loss: 0.175\n",
      "[147,   400] loss: 0.225\n",
      "[147,   500] loss: 0.275\n",
      "[147,   600] loss: 0.330\n",
      "[147,   700] loss: 0.385\n",
      "[147,   800] loss: 0.441\n",
      "[147,   900] loss: 0.490\n",
      "[147,  1000] loss: 0.543\n",
      "[147,  1100] loss: 0.592\n",
      "[147,  1200] loss: 0.644\n"
     ]
    },
    {
     "name": "stderr",
     "output_type": "stream",
     "text": [
      " 29%|██▉       | 147/500 [10:41<24:33,  4.17s/it]"
     ]
    },
    {
     "name": "stdout",
     "output_type": "stream",
     "text": [
      "[148,   100] loss: 0.049\n",
      "[148,   200] loss: 0.111\n",
      "[148,   300] loss: 0.168\n",
      "[148,   400] loss: 0.237\n",
      "[148,   500] loss: 0.298\n",
      "[148,   600] loss: 0.356\n",
      "[148,   700] loss: 0.409\n",
      "[148,   800] loss: 0.459\n",
      "[148,   900] loss: 0.513\n",
      "[148,  1000] loss: 0.569\n",
      "[148,  1100] loss: 0.635\n",
      "[148,  1200] loss: 0.693\n"
     ]
    },
    {
     "name": "stderr",
     "output_type": "stream",
     "text": [
      " 30%|██▉       | 148/500 [10:45<24:01,  4.10s/it]"
     ]
    },
    {
     "name": "stdout",
     "output_type": "stream",
     "text": [
      "[149,   100] loss: 0.049\n",
      "[149,   200] loss: 0.108\n",
      "[149,   300] loss: 0.149\n",
      "[149,   400] loss: 0.195\n",
      "[149,   500] loss: 0.252\n",
      "[149,   600] loss: 0.303\n",
      "[149,   700] loss: 0.349\n",
      "[149,   800] loss: 0.393\n",
      "[149,   900] loss: 0.448\n",
      "[149,  1000] loss: 0.494\n",
      "[149,  1100] loss: 0.545\n",
      "[149,  1200] loss: 0.590\n"
     ]
    },
    {
     "name": "stderr",
     "output_type": "stream",
     "text": [
      " 30%|██▉       | 149/500 [10:49<23:10,  3.96s/it]"
     ]
    },
    {
     "name": "stdout",
     "output_type": "stream",
     "text": [
      "[150,   100] loss: 0.058\n",
      "[150,   200] loss: 0.112\n",
      "[150,   300] loss: 0.181\n",
      "[150,   400] loss: 0.218\n",
      "[150,   500] loss: 0.263\n",
      "[150,   600] loss: 0.322\n",
      "[150,   700] loss: 0.365\n",
      "[150,   800] loss: 0.409\n",
      "[150,   900] loss: 0.471\n",
      "[150,  1000] loss: 0.517\n",
      "[150,  1100] loss: 0.581\n"
     ]
    },
    {
     "name": "stderr",
     "output_type": "stream",
     "text": [
      " 30%|███       | 150/500 [10:54<24:40,  4.23s/it]"
     ]
    },
    {
     "name": "stdout",
     "output_type": "stream",
     "text": [
      "[150,  1200] loss: 0.640\n",
      "[151,   100] loss: 0.053\n",
      "[151,   200] loss: 0.107\n",
      "[151,   300] loss: 0.165\n",
      "[151,   400] loss: 0.211\n",
      "[151,   500] loss: 0.266\n",
      "[151,   600] loss: 0.323\n",
      "[151,   700] loss: 0.374\n",
      "[151,   800] loss: 0.428\n",
      "[151,   900] loss: 0.470\n",
      "[151,  1000] loss: 0.515\n",
      "[151,  1100] loss: 0.559\n",
      "[151,  1200] loss: 0.605\n"
     ]
    },
    {
     "name": "stderr",
     "output_type": "stream",
     "text": [
      " 30%|███       | 151/500 [10:58<25:00,  4.30s/it]"
     ]
    },
    {
     "name": "stdout",
     "output_type": "stream",
     "text": [
      "[152,   100] loss: 0.041\n",
      "[152,   200] loss: 0.104\n",
      "[152,   300] loss: 0.148\n",
      "[152,   400] loss: 0.194\n",
      "[152,   500] loss: 0.239\n",
      "[152,   600] loss: 0.290\n",
      "[152,   700] loss: 0.333\n",
      "[152,   800] loss: 0.393\n",
      "[152,   900] loss: 0.447\n",
      "[152,  1000] loss: 0.494\n",
      "[152,  1100] loss: 0.544\n",
      "[152,  1200] loss: 0.590\n"
     ]
    },
    {
     "name": "stderr",
     "output_type": "stream",
     "text": [
      " 30%|███       | 152/500 [11:03<26:29,  4.57s/it]"
     ]
    },
    {
     "name": "stdout",
     "output_type": "stream",
     "text": [
      "[153,   100] loss: 0.037\n",
      "[153,   200] loss: 0.084\n",
      "[153,   300] loss: 0.131\n",
      "[153,   400] loss: 0.188\n",
      "[153,   500] loss: 0.236\n",
      "[153,   600] loss: 0.279\n",
      "[153,   700] loss: 0.328\n",
      "[153,   800] loss: 0.381\n",
      "[153,   900] loss: 0.436\n",
      "[153,  1000] loss: 0.480\n",
      "[153,  1100] loss: 0.533\n",
      "[153,  1200] loss: 0.593\n"
     ]
    },
    {
     "name": "stderr",
     "output_type": "stream",
     "text": [
      " 31%|███       | 153/500 [11:07<25:19,  4.38s/it]"
     ]
    },
    {
     "name": "stdout",
     "output_type": "stream",
     "text": [
      "[154,   100] loss: 0.030\n",
      "[154,   200] loss: 0.066\n",
      "[154,   300] loss: 0.133\n",
      "[154,   400] loss: 0.181\n",
      "[154,   500] loss: 0.237\n",
      "[154,   600] loss: 0.284\n",
      "[154,   700] loss: 0.323\n",
      "[154,   800] loss: 0.375\n",
      "[154,   900] loss: 0.430\n",
      "[154,  1000] loss: 0.478\n",
      "[154,  1100] loss: 0.532\n",
      "[154,  1200] loss: 0.567\n"
     ]
    },
    {
     "name": "stderr",
     "output_type": "stream",
     "text": [
      " 31%|███       | 154/500 [11:11<24:17,  4.21s/it]"
     ]
    },
    {
     "name": "stdout",
     "output_type": "stream",
     "text": [
      "[155,   100] loss: 0.053\n",
      "[155,   200] loss: 0.126\n",
      "[155,   300] loss: 0.177\n",
      "[155,   400] loss: 0.215\n",
      "[155,   500] loss: 0.255\n",
      "[155,   600] loss: 0.286\n",
      "[155,   700] loss: 0.336\n",
      "[155,   800] loss: 0.389\n",
      "[155,   900] loss: 0.428\n",
      "[155,  1000] loss: 0.477\n",
      "[155,  1100] loss: 0.530\n",
      "[155,  1200] loss: 0.575\n"
     ]
    },
    {
     "name": "stderr",
     "output_type": "stream",
     "text": [
      " 31%|███       | 155/500 [11:15<24:16,  4.22s/it]"
     ]
    },
    {
     "name": "stdout",
     "output_type": "stream",
     "text": [
      "[156,   100] loss: 0.045\n",
      "[156,   200] loss: 0.090\n",
      "[156,   300] loss: 0.156\n",
      "[156,   400] loss: 0.191\n",
      "[156,   500] loss: 0.248\n",
      "[156,   600] loss: 0.287\n",
      "[156,   700] loss: 0.331\n",
      "[156,   800] loss: 0.385\n",
      "[156,   900] loss: 0.433\n",
      "[156,  1000] loss: 0.473\n",
      "[156,  1100] loss: 0.527\n",
      "[156,  1200] loss: 0.580\n"
     ]
    },
    {
     "name": "stderr",
     "output_type": "stream",
     "text": [
      " 31%|███       | 156/500 [11:19<23:41,  4.13s/it]"
     ]
    },
    {
     "name": "stdout",
     "output_type": "stream",
     "text": [
      "[157,   100] loss: 0.049\n",
      "[157,   200] loss: 0.108\n",
      "[157,   300] loss: 0.161\n",
      "[157,   400] loss: 0.216\n",
      "[157,   500] loss: 0.267\n",
      "[157,   600] loss: 0.316\n",
      "[157,   700] loss: 0.372\n",
      "[157,   800] loss: 0.413\n",
      "[157,   900] loss: 0.473\n",
      "[157,  1000] loss: 0.533\n",
      "[157,  1100] loss: 0.570\n",
      "[157,  1200] loss: 0.624\n"
     ]
    },
    {
     "name": "stderr",
     "output_type": "stream",
     "text": [
      " 31%|███▏      | 157/500 [11:23<23:08,  4.05s/it]"
     ]
    },
    {
     "name": "stdout",
     "output_type": "stream",
     "text": [
      "[158,   100] loss: 0.053\n",
      "[158,   200] loss: 0.107\n",
      "[158,   300] loss: 0.165\n",
      "[158,   400] loss: 0.199\n",
      "[158,   500] loss: 0.245\n",
      "[158,   600] loss: 0.324\n",
      "[158,   700] loss: 0.385\n",
      "[158,   800] loss: 0.423\n",
      "[158,   900] loss: 0.462\n",
      "[158,  1000] loss: 0.499\n",
      "[158,  1100] loss: 0.540\n",
      "[158,  1200] loss: 0.584\n"
     ]
    },
    {
     "name": "stderr",
     "output_type": "stream",
     "text": [
      " 32%|███▏      | 158/500 [11:27<23:17,  4.09s/it]"
     ]
    },
    {
     "name": "stdout",
     "output_type": "stream",
     "text": [
      "[159,   100] loss: 0.031\n",
      "[159,   200] loss: 0.071\n",
      "[159,   300] loss: 0.108\n",
      "[159,   400] loss: 0.153\n",
      "[159,   500] loss: 0.198\n",
      "[159,   600] loss: 0.238\n",
      "[159,   700] loss: 0.289\n",
      "[159,   800] loss: 0.342\n",
      "[159,   900] loss: 0.394\n",
      "[159,  1000] loss: 0.448\n",
      "[159,  1100] loss: 0.497\n",
      "[159,  1200] loss: 0.578\n"
     ]
    },
    {
     "name": "stderr",
     "output_type": "stream",
     "text": [
      " 32%|███▏      | 159/500 [11:31<22:54,  4.03s/it]"
     ]
    },
    {
     "name": "stdout",
     "output_type": "stream",
     "text": [
      "[160,   100] loss: 0.049\n",
      "[160,   200] loss: 0.099\n",
      "[160,   300] loss: 0.153\n",
      "[160,   400] loss: 0.214\n",
      "[160,   500] loss: 0.280\n",
      "[160,   600] loss: 0.338\n",
      "[160,   700] loss: 0.398\n",
      "[160,   800] loss: 0.458\n",
      "[160,   900] loss: 0.503\n",
      "[160,  1000] loss: 0.553\n",
      "[160,  1100] loss: 0.601\n",
      "[160,  1200] loss: 0.650\n"
     ]
    },
    {
     "name": "stderr",
     "output_type": "stream",
     "text": [
      " 32%|███▏      | 160/500 [11:35<22:15,  3.93s/it]"
     ]
    },
    {
     "name": "stdout",
     "output_type": "stream",
     "text": [
      "[161,   100] loss: 0.063\n",
      "[161,   200] loss: 0.113\n",
      "[161,   300] loss: 0.164\n",
      "[161,   400] loss: 0.214\n",
      "[161,   500] loss: 0.267\n",
      "[161,   600] loss: 0.329\n",
      "[161,   700] loss: 0.389\n",
      "[161,   800] loss: 0.437\n",
      "[161,   900] loss: 0.495\n",
      "[161,  1000] loss: 0.540\n",
      "[161,  1100] loss: 0.585\n",
      "[161,  1200] loss: 0.638\n"
     ]
    },
    {
     "name": "stderr",
     "output_type": "stream",
     "text": [
      " 32%|███▏      | 161/500 [11:38<21:47,  3.86s/it]"
     ]
    },
    {
     "name": "stdout",
     "output_type": "stream",
     "text": [
      "[162,   100] loss: 0.038\n",
      "[162,   200] loss: 0.111\n",
      "[162,   300] loss: 0.180\n",
      "[162,   400] loss: 0.230\n",
      "[162,   500] loss: 0.279\n",
      "[162,   600] loss: 0.344\n",
      "[162,   700] loss: 0.393\n",
      "[162,   800] loss: 0.447\n",
      "[162,   900] loss: 0.491\n",
      "[162,  1000] loss: 0.550\n",
      "[162,  1100] loss: 0.589\n"
     ]
    },
    {
     "name": "stderr",
     "output_type": "stream",
     "text": [
      " 32%|███▏      | 162/500 [11:43<22:35,  4.01s/it]"
     ]
    },
    {
     "name": "stdout",
     "output_type": "stream",
     "text": [
      "[162,  1200] loss: 0.648\n",
      "[163,   100] loss: 0.057\n",
      "[163,   200] loss: 0.105\n",
      "[163,   300] loss: 0.156\n",
      "[163,   400] loss: 0.199\n",
      "[163,   500] loss: 0.247\n",
      "[163,   600] loss: 0.297\n",
      "[163,   700] loss: 0.347\n",
      "[163,   800] loss: 0.412\n",
      "[163,   900] loss: 0.470\n",
      "[163,  1000] loss: 0.524\n",
      "[163,  1100] loss: 0.582\n",
      "[163,  1200] loss: 0.653\n"
     ]
    },
    {
     "name": "stderr",
     "output_type": "stream",
     "text": [
      " 33%|███▎      | 163/500 [11:47<22:37,  4.03s/it]"
     ]
    },
    {
     "name": "stdout",
     "output_type": "stream",
     "text": [
      "[164,   100] loss: 0.049\n",
      "[164,   200] loss: 0.127\n",
      "[164,   300] loss: 0.183\n",
      "[164,   400] loss: 0.240\n",
      "[164,   500] loss: 0.283\n",
      "[164,   600] loss: 0.343\n",
      "[164,   700] loss: 0.399\n",
      "[164,   800] loss: 0.457\n",
      "[164,   900] loss: 0.506\n",
      "[164,  1000] loss: 0.555\n",
      "[164,  1100] loss: 0.596\n",
      "[164,  1200] loss: 0.645\n"
     ]
    },
    {
     "name": "stderr",
     "output_type": "stream",
     "text": [
      " 33%|███▎      | 164/500 [11:52<24:23,  4.36s/it]"
     ]
    },
    {
     "name": "stdout",
     "output_type": "stream",
     "text": [
      "[165,   100] loss: 0.052\n",
      "[165,   200] loss: 0.089\n",
      "[165,   300] loss: 0.132\n",
      "[165,   400] loss: 0.196\n",
      "[165,   500] loss: 0.245\n",
      "[165,   600] loss: 0.313\n",
      "[165,   700] loss: 0.367\n",
      "[165,   800] loss: 0.415\n",
      "[165,   900] loss: 0.460\n",
      "[165,  1000] loss: 0.498\n",
      "[165,  1100] loss: 0.553\n",
      "[165,  1200] loss: 0.598\n"
     ]
    },
    {
     "name": "stderr",
     "output_type": "stream",
     "text": [
      " 33%|███▎      | 165/500 [11:56<24:21,  4.36s/it]"
     ]
    },
    {
     "name": "stdout",
     "output_type": "stream",
     "text": [
      "[166,   100] loss: 0.045\n",
      "[166,   200] loss: 0.098\n",
      "[166,   300] loss: 0.142\n",
      "[166,   400] loss: 0.204\n",
      "[166,   500] loss: 0.248\n",
      "[166,   600] loss: 0.310\n",
      "[166,   700] loss: 0.370\n",
      "[166,   800] loss: 0.432\n",
      "[166,   900] loss: 0.487\n",
      "[166,  1000] loss: 0.523\n",
      "[166,  1100] loss: 0.565\n",
      "[166,  1200] loss: 0.615\n"
     ]
    },
    {
     "name": "stderr",
     "output_type": "stream",
     "text": [
      " 33%|███▎      | 166/500 [12:00<23:55,  4.30s/it]"
     ]
    },
    {
     "name": "stdout",
     "output_type": "stream",
     "text": [
      "[167,   100] loss: 0.041\n",
      "[167,   200] loss: 0.098\n",
      "[167,   300] loss: 0.149\n",
      "[167,   400] loss: 0.216\n",
      "[167,   500] loss: 0.254\n",
      "[167,   600] loss: 0.300\n",
      "[167,   700] loss: 0.351\n",
      "[167,   800] loss: 0.429\n",
      "[167,   900] loss: 0.467\n",
      "[167,  1000] loss: 0.497\n",
      "[167,  1100] loss: 0.558\n",
      "[167,  1200] loss: 0.606\n"
     ]
    },
    {
     "name": "stderr",
     "output_type": "stream",
     "text": [
      " 33%|███▎      | 167/500 [12:04<23:05,  4.16s/it]"
     ]
    },
    {
     "name": "stdout",
     "output_type": "stream",
     "text": [
      "[168,   100] loss: 0.050\n",
      "[168,   200] loss: 0.095\n",
      "[168,   300] loss: 0.153\n",
      "[168,   400] loss: 0.207\n",
      "[168,   500] loss: 0.262\n",
      "[168,   600] loss: 0.319\n",
      "[168,   700] loss: 0.372\n",
      "[168,   800] loss: 0.415\n",
      "[168,   900] loss: 0.460\n",
      "[168,  1000] loss: 0.499\n",
      "[168,  1100] loss: 0.546\n"
     ]
    },
    {
     "name": "stderr",
     "output_type": "stream",
     "text": [
      " 34%|███▎      | 168/500 [12:08<22:26,  4.06s/it]"
     ]
    },
    {
     "name": "stdout",
     "output_type": "stream",
     "text": [
      "[168,  1200] loss: 0.600\n",
      "[169,   100] loss: 0.060\n",
      "[169,   200] loss: 0.104\n",
      "[169,   300] loss: 0.149\n",
      "[169,   400] loss: 0.203\n",
      "[169,   500] loss: 0.258\n",
      "[169,   600] loss: 0.314\n",
      "[169,   700] loss: 0.361\n",
      "[169,   800] loss: 0.413\n",
      "[169,   900] loss: 0.458\n",
      "[169,  1000] loss: 0.507\n",
      "[169,  1100] loss: 0.551\n",
      "[169,  1200] loss: 0.608\n"
     ]
    },
    {
     "name": "stderr",
     "output_type": "stream",
     "text": [
      " 34%|███▍      | 169/500 [12:13<23:15,  4.22s/it]"
     ]
    },
    {
     "name": "stdout",
     "output_type": "stream",
     "text": [
      "[170,   100] loss: 0.048\n",
      "[170,   200] loss: 0.101\n",
      "[170,   300] loss: 0.138\n",
      "[170,   400] loss: 0.185\n",
      "[170,   500] loss: 0.232\n",
      "[170,   600] loss: 0.296\n",
      "[170,   700] loss: 0.348\n",
      "[170,   800] loss: 0.393\n",
      "[170,   900] loss: 0.444\n",
      "[170,  1000] loss: 0.489\n",
      "[170,  1100] loss: 0.550\n",
      "[170,  1200] loss: 0.610\n"
     ]
    },
    {
     "name": "stderr",
     "output_type": "stream",
     "text": [
      " 34%|███▍      | 170/500 [12:17<23:42,  4.31s/it]"
     ]
    },
    {
     "name": "stdout",
     "output_type": "stream",
     "text": [
      "[171,   100] loss: 0.059\n",
      "[171,   200] loss: 0.117\n",
      "[171,   300] loss: 0.172\n",
      "[171,   400] loss: 0.239\n",
      "[171,   500] loss: 0.284\n",
      "[171,   600] loss: 0.339\n",
      "[171,   700] loss: 0.382\n",
      "[171,   800] loss: 0.443\n",
      "[171,   900] loss: 0.493\n",
      "[171,  1000] loss: 0.544\n",
      "[171,  1100] loss: 0.595\n",
      "[171,  1200] loss: 0.637\n"
     ]
    },
    {
     "name": "stderr",
     "output_type": "stream",
     "text": [
      " 34%|███▍      | 171/500 [12:21<23:23,  4.27s/it]"
     ]
    },
    {
     "name": "stdout",
     "output_type": "stream",
     "text": [
      "[172,   100] loss: 0.045\n",
      "[172,   200] loss: 0.094\n",
      "[172,   300] loss: 0.151\n",
      "[172,   400] loss: 0.207\n",
      "[172,   500] loss: 0.284\n",
      "[172,   600] loss: 0.329\n",
      "[172,   700] loss: 0.380\n",
      "[172,   800] loss: 0.432\n",
      "[172,   900] loss: 0.466\n",
      "[172,  1000] loss: 0.505\n",
      "[172,  1100] loss: 0.551\n",
      "[172,  1200] loss: 0.617\n"
     ]
    },
    {
     "name": "stderr",
     "output_type": "stream",
     "text": [
      " 34%|███▍      | 172/500 [12:26<23:49,  4.36s/it]"
     ]
    },
    {
     "name": "stdout",
     "output_type": "stream",
     "text": [
      "[173,   100] loss: 0.052\n",
      "[173,   200] loss: 0.101\n",
      "[173,   300] loss: 0.152\n",
      "[173,   400] loss: 0.212\n",
      "[173,   500] loss: 0.263\n",
      "[173,   600] loss: 0.308\n",
      "[173,   700] loss: 0.353\n",
      "[173,   800] loss: 0.417\n",
      "[173,   900] loss: 0.469\n",
      "[173,  1000] loss: 0.513\n",
      "[173,  1100] loss: 0.586\n",
      "[173,  1200] loss: 0.638\n"
     ]
    },
    {
     "name": "stderr",
     "output_type": "stream",
     "text": [
      " 35%|███▍      | 173/500 [12:31<24:20,  4.47s/it]"
     ]
    },
    {
     "name": "stdout",
     "output_type": "stream",
     "text": [
      "[174,   100] loss: 0.061\n",
      "[174,   200] loss: 0.129\n",
      "[174,   300] loss: 0.185\n",
      "[174,   400] loss: 0.250\n",
      "[174,   500] loss: 0.289\n",
      "[174,   600] loss: 0.333\n",
      "[174,   700] loss: 0.392\n",
      "[174,   800] loss: 0.468\n",
      "[174,   900] loss: 0.522\n",
      "[174,  1000] loss: 0.561\n",
      "[174,  1100] loss: 0.623\n",
      "[174,  1200] loss: 0.679\n"
     ]
    },
    {
     "name": "stderr",
     "output_type": "stream",
     "text": [
      " 35%|███▍      | 174/500 [12:35<23:25,  4.31s/it]"
     ]
    },
    {
     "name": "stdout",
     "output_type": "stream",
     "text": [
      "[175,   100] loss: 0.056\n",
      "[175,   200] loss: 0.117\n",
      "[175,   300] loss: 0.168\n",
      "[175,   400] loss: 0.211\n",
      "[175,   500] loss: 0.280\n",
      "[175,   600] loss: 0.320\n",
      "[175,   700] loss: 0.380\n",
      "[175,   800] loss: 0.429\n",
      "[175,   900] loss: 0.479\n",
      "[175,  1000] loss: 0.544\n",
      "[175,  1100] loss: 0.584\n",
      "[175,  1200] loss: 0.640\n"
     ]
    },
    {
     "name": "stderr",
     "output_type": "stream",
     "text": [
      " 35%|███▌      | 175/500 [12:41<25:56,  4.79s/it]"
     ]
    },
    {
     "name": "stdout",
     "output_type": "stream",
     "text": [
      "[176,   100] loss: 0.041\n",
      "[176,   200] loss: 0.087\n",
      "[176,   300] loss: 0.120\n",
      "[176,   400] loss: 0.172\n",
      "[176,   500] loss: 0.211\n",
      "[176,   600] loss: 0.258\n",
      "[176,   700] loss: 0.334\n",
      "[176,   800] loss: 0.373\n",
      "[176,   900] loss: 0.427\n",
      "[176,  1000] loss: 0.493\n",
      "[176,  1100] loss: 0.545\n",
      "[176,  1200] loss: 0.612\n"
     ]
    },
    {
     "name": "stderr",
     "output_type": "stream",
     "text": [
      " 35%|███▌      | 176/500 [12:46<26:44,  4.95s/it]"
     ]
    },
    {
     "name": "stdout",
     "output_type": "stream",
     "text": [
      "[177,   100] loss: 0.060\n",
      "[177,   200] loss: 0.100\n",
      "[177,   300] loss: 0.156\n",
      "[177,   400] loss: 0.216\n",
      "[177,   500] loss: 0.277\n",
      "[177,   600] loss: 0.329\n",
      "[177,   700] loss: 0.371\n",
      "[177,   800] loss: 0.417\n",
      "[177,   900] loss: 0.487\n",
      "[177,  1000] loss: 0.539\n",
      "[177,  1100] loss: 0.604\n",
      "[177,  1200] loss: 0.653\n"
     ]
    },
    {
     "name": "stderr",
     "output_type": "stream",
     "text": [
      " 35%|███▌      | 177/500 [12:50<24:45,  4.60s/it]"
     ]
    },
    {
     "name": "stdout",
     "output_type": "stream",
     "text": [
      "[178,   100] loss: 0.059\n",
      "[178,   200] loss: 0.110\n",
      "[178,   300] loss: 0.142\n",
      "[178,   400] loss: 0.190\n",
      "[178,   500] loss: 0.236\n",
      "[178,   600] loss: 0.292\n",
      "[178,   700] loss: 0.343\n",
      "[178,   800] loss: 0.381\n",
      "[178,   900] loss: 0.432\n",
      "[178,  1000] loss: 0.484\n",
      "[178,  1100] loss: 0.525\n",
      "[178,  1200] loss: 0.577\n"
     ]
    },
    {
     "name": "stderr",
     "output_type": "stream",
     "text": [
      " 36%|███▌      | 178/500 [12:54<24:44,  4.61s/it]"
     ]
    },
    {
     "name": "stdout",
     "output_type": "stream",
     "text": [
      "[179,   100] loss: 0.064\n",
      "[179,   200] loss: 0.120\n",
      "[179,   300] loss: 0.165\n",
      "[179,   400] loss: 0.213\n",
      "[179,   500] loss: 0.259\n",
      "[179,   600] loss: 0.337\n",
      "[179,   700] loss: 0.398\n",
      "[179,   800] loss: 0.457\n",
      "[179,   900] loss: 0.509\n",
      "[179,  1000] loss: 0.554\n",
      "[179,  1100] loss: 0.611\n",
      "[179,  1200] loss: 0.641\n"
     ]
    },
    {
     "name": "stderr",
     "output_type": "stream",
     "text": [
      " 36%|███▌      | 179/500 [12:59<24:17,  4.54s/it]"
     ]
    },
    {
     "name": "stdout",
     "output_type": "stream",
     "text": [
      "[180,   100] loss: 0.055\n",
      "[180,   200] loss: 0.103\n",
      "[180,   300] loss: 0.159\n",
      "[180,   400] loss: 0.206\n",
      "[180,   500] loss: 0.251\n",
      "[180,   600] loss: 0.290\n",
      "[180,   700] loss: 0.340\n",
      "[180,   800] loss: 0.385\n",
      "[180,   900] loss: 0.444\n",
      "[180,  1000] loss: 0.488\n",
      "[180,  1100] loss: 0.535\n",
      "[180,  1200] loss: 0.582\n"
     ]
    },
    {
     "name": "stderr",
     "output_type": "stream",
     "text": [
      " 36%|███▌      | 180/500 [13:03<24:01,  4.50s/it]"
     ]
    },
    {
     "name": "stdout",
     "output_type": "stream",
     "text": [
      "[181,   100] loss: 0.055\n",
      "[181,   200] loss: 0.104\n",
      "[181,   300] loss: 0.152\n",
      "[181,   400] loss: 0.208\n",
      "[181,   500] loss: 0.250\n",
      "[181,   600] loss: 0.321\n",
      "[181,   700] loss: 0.380\n",
      "[181,   800] loss: 0.415\n",
      "[181,   900] loss: 0.468\n",
      "[181,  1000] loss: 0.521\n",
      "[181,  1100] loss: 0.568\n",
      "[181,  1200] loss: 0.605\n"
     ]
    },
    {
     "name": "stderr",
     "output_type": "stream",
     "text": [
      " 36%|███▌      | 181/500 [13:09<26:00,  4.89s/it]"
     ]
    },
    {
     "name": "stdout",
     "output_type": "stream",
     "text": [
      "[182,   100] loss: 0.056\n",
      "[182,   200] loss: 0.109\n",
      "[182,   300] loss: 0.160\n",
      "[182,   400] loss: 0.197\n",
      "[182,   500] loss: 0.243\n",
      "[182,   600] loss: 0.316\n",
      "[182,   700] loss: 0.369\n",
      "[182,   800] loss: 0.423\n",
      "[182,   900] loss: 0.470\n",
      "[182,  1000] loss: 0.522\n",
      "[182,  1100] loss: 0.581\n",
      "[182,  1200] loss: 0.642\n"
     ]
    },
    {
     "name": "stderr",
     "output_type": "stream",
     "text": [
      " 36%|███▋      | 182/500 [13:14<26:21,  4.97s/it]"
     ]
    },
    {
     "name": "stdout",
     "output_type": "stream",
     "text": [
      "[183,   100] loss: 0.039\n",
      "[183,   200] loss: 0.082\n",
      "[183,   300] loss: 0.127\n",
      "[183,   400] loss: 0.196\n",
      "[183,   500] loss: 0.241\n",
      "[183,   600] loss: 0.287\n",
      "[183,   700] loss: 0.342\n",
      "[183,   800] loss: 0.404\n",
      "[183,   900] loss: 0.456\n",
      "[183,  1000] loss: 0.516\n",
      "[183,  1100] loss: 0.576\n",
      "[183,  1200] loss: 0.639\n"
     ]
    },
    {
     "name": "stderr",
     "output_type": "stream",
     "text": [
      " 37%|███▋      | 183/500 [13:18<25:04,  4.75s/it]"
     ]
    },
    {
     "name": "stdout",
     "output_type": "stream",
     "text": [
      "[184,   100] loss: 0.053\n",
      "[184,   200] loss: 0.107\n",
      "[184,   300] loss: 0.163\n",
      "[184,   400] loss: 0.232\n",
      "[184,   500] loss: 0.276\n",
      "[184,   600] loss: 0.316\n",
      "[184,   700] loss: 0.373\n",
      "[184,   800] loss: 0.429\n",
      "[184,   900] loss: 0.474\n",
      "[184,  1000] loss: 0.525\n",
      "[184,  1100] loss: 0.593\n",
      "[184,  1200] loss: 0.649\n"
     ]
    },
    {
     "name": "stderr",
     "output_type": "stream",
     "text": [
      " 37%|███▋      | 184/500 [13:23<24:09,  4.59s/it]"
     ]
    },
    {
     "name": "stdout",
     "output_type": "stream",
     "text": [
      "[185,   100] loss: 0.034\n",
      "[185,   200] loss: 0.105\n",
      "[185,   300] loss: 0.167\n",
      "[185,   400] loss: 0.227\n",
      "[185,   500] loss: 0.264\n",
      "[185,   600] loss: 0.306\n",
      "[185,   700] loss: 0.353\n",
      "[185,   800] loss: 0.411\n",
      "[185,   900] loss: 0.455\n",
      "[185,  1000] loss: 0.512\n",
      "[185,  1100] loss: 0.573\n",
      "[185,  1200] loss: 0.616\n"
     ]
    },
    {
     "name": "stderr",
     "output_type": "stream",
     "text": [
      " 37%|███▋      | 185/500 [13:26<22:53,  4.36s/it]"
     ]
    },
    {
     "name": "stdout",
     "output_type": "stream",
     "text": [
      "[186,   100] loss: 0.040\n",
      "[186,   200] loss: 0.087\n",
      "[186,   300] loss: 0.137\n",
      "[186,   400] loss: 0.197\n",
      "[186,   500] loss: 0.257\n",
      "[186,   600] loss: 0.323\n",
      "[186,   700] loss: 0.366\n",
      "[186,   800] loss: 0.410\n",
      "[186,   900] loss: 0.464\n",
      "[186,  1000] loss: 0.500\n",
      "[186,  1100] loss: 0.564\n",
      "[186,  1200] loss: 0.619\n"
     ]
    },
    {
     "name": "stderr",
     "output_type": "stream",
     "text": [
      " 37%|███▋      | 186/500 [13:30<22:22,  4.27s/it]"
     ]
    },
    {
     "name": "stdout",
     "output_type": "stream",
     "text": [
      "[187,   100] loss: 0.064\n",
      "[187,   200] loss: 0.119\n",
      "[187,   300] loss: 0.169\n",
      "[187,   400] loss: 0.211\n",
      "[187,   500] loss: 0.272\n",
      "[187,   600] loss: 0.332\n",
      "[187,   700] loss: 0.388\n",
      "[187,   800] loss: 0.453\n",
      "[187,   900] loss: 0.501\n",
      "[187,  1000] loss: 0.553\n",
      "[187,  1100] loss: 0.602\n",
      "[187,  1200] loss: 0.653\n"
     ]
    },
    {
     "name": "stderr",
     "output_type": "stream",
     "text": [
      " 37%|███▋      | 187/500 [13:35<23:07,  4.43s/it]"
     ]
    },
    {
     "name": "stdout",
     "output_type": "stream",
     "text": [
      "[188,   100] loss: 0.061\n",
      "[188,   200] loss: 0.101\n",
      "[188,   300] loss: 0.135\n",
      "[188,   400] loss: 0.192\n",
      "[188,   500] loss: 0.245\n",
      "[188,   600] loss: 0.287\n",
      "[188,   700] loss: 0.346\n",
      "[188,   800] loss: 0.388\n",
      "[188,   900] loss: 0.452\n",
      "[188,  1000] loss: 0.509\n",
      "[188,  1100] loss: 0.574\n",
      "[188,  1200] loss: 0.612\n"
     ]
    },
    {
     "name": "stderr",
     "output_type": "stream",
     "text": [
      " 38%|███▊      | 188/500 [13:39<22:04,  4.24s/it]"
     ]
    },
    {
     "name": "stdout",
     "output_type": "stream",
     "text": [
      "[189,   100] loss: 0.041\n",
      "[189,   200] loss: 0.093\n",
      "[189,   300] loss: 0.132\n",
      "[189,   400] loss: 0.179\n",
      "[189,   500] loss: 0.229\n",
      "[189,   600] loss: 0.261\n",
      "[189,   700] loss: 0.317\n",
      "[189,   800] loss: 0.351\n",
      "[189,   900] loss: 0.428\n",
      "[189,  1000] loss: 0.475\n",
      "[189,  1100] loss: 0.528\n",
      "[189,  1200] loss: 0.585\n"
     ]
    },
    {
     "name": "stderr",
     "output_type": "stream",
     "text": [
      " 38%|███▊      | 189/500 [13:43<21:35,  4.17s/it]"
     ]
    },
    {
     "name": "stdout",
     "output_type": "stream",
     "text": [
      "[190,   100] loss: 0.058\n",
      "[190,   200] loss: 0.094\n",
      "[190,   300] loss: 0.135\n",
      "[190,   400] loss: 0.184\n",
      "[190,   500] loss: 0.234\n",
      "[190,   600] loss: 0.288\n",
      "[190,   700] loss: 0.336\n",
      "[190,   800] loss: 0.381\n",
      "[190,   900] loss: 0.433\n",
      "[190,  1000] loss: 0.500\n",
      "[190,  1100] loss: 0.537\n",
      "[190,  1200] loss: 0.592\n"
     ]
    },
    {
     "name": "stderr",
     "output_type": "stream",
     "text": [
      " 38%|███▊      | 190/500 [13:47<21:07,  4.09s/it]"
     ]
    },
    {
     "name": "stdout",
     "output_type": "stream",
     "text": [
      "[191,   100] loss: 0.041\n",
      "[191,   200] loss: 0.111\n",
      "[191,   300] loss: 0.161\n",
      "[191,   400] loss: 0.221\n",
      "[191,   500] loss: 0.281\n",
      "[191,   600] loss: 0.325\n",
      "[191,   700] loss: 0.369\n",
      "[191,   800] loss: 0.441\n",
      "[191,   900] loss: 0.500\n",
      "[191,  1000] loss: 0.547\n",
      "[191,  1100] loss: 0.598\n",
      "[191,  1200] loss: 0.636\n"
     ]
    },
    {
     "name": "stderr",
     "output_type": "stream",
     "text": [
      " 38%|███▊      | 191/500 [13:51<21:11,  4.11s/it]"
     ]
    },
    {
     "name": "stdout",
     "output_type": "stream",
     "text": [
      "[192,   100] loss: 0.043\n",
      "[192,   200] loss: 0.103\n",
      "[192,   300] loss: 0.162\n",
      "[192,   400] loss: 0.215\n",
      "[192,   500] loss: 0.269\n",
      "[192,   600] loss: 0.305\n",
      "[192,   700] loss: 0.346\n",
      "[192,   800] loss: 0.388\n",
      "[192,   900] loss: 0.460\n",
      "[192,  1000] loss: 0.494\n",
      "[192,  1100] loss: 0.539\n",
      "[192,  1200] loss: 0.580\n"
     ]
    },
    {
     "name": "stderr",
     "output_type": "stream",
     "text": [
      " 38%|███▊      | 192/500 [13:55<20:42,  4.04s/it]"
     ]
    },
    {
     "name": "stdout",
     "output_type": "stream",
     "text": [
      "[193,   100] loss: 0.049\n",
      "[193,   200] loss: 0.098\n",
      "[193,   300] loss: 0.156\n",
      "[193,   400] loss: 0.221\n",
      "[193,   500] loss: 0.281\n",
      "[193,   600] loss: 0.327\n",
      "[193,   700] loss: 0.387\n",
      "[193,   800] loss: 0.436\n",
      "[193,   900] loss: 0.486\n",
      "[193,  1000] loss: 0.537\n",
      "[193,  1100] loss: 0.606\n",
      "[193,  1200] loss: 0.662\n"
     ]
    },
    {
     "name": "stderr",
     "output_type": "stream",
     "text": [
      " 39%|███▊      | 193/500 [13:59<20:24,  3.99s/it]"
     ]
    },
    {
     "name": "stdout",
     "output_type": "stream",
     "text": [
      "[194,   100] loss: 0.047\n",
      "[194,   200] loss: 0.098\n",
      "[194,   300] loss: 0.145\n",
      "[194,   400] loss: 0.204\n",
      "[194,   500] loss: 0.245\n",
      "[194,   600] loss: 0.297\n",
      "[194,   700] loss: 0.354\n",
      "[194,   800] loss: 0.389\n",
      "[194,   900] loss: 0.446\n",
      "[194,  1000] loss: 0.485\n",
      "[194,  1100] loss: 0.546\n",
      "[194,  1200] loss: 0.594\n"
     ]
    },
    {
     "name": "stderr",
     "output_type": "stream",
     "text": [
      " 39%|███▉      | 194/500 [14:03<20:34,  4.03s/it]"
     ]
    },
    {
     "name": "stdout",
     "output_type": "stream",
     "text": [
      "[195,   100] loss: 0.051\n",
      "[195,   200] loss: 0.109\n",
      "[195,   300] loss: 0.149\n",
      "[195,   400] loss: 0.202\n",
      "[195,   500] loss: 0.251\n",
      "[195,   600] loss: 0.302\n",
      "[195,   700] loss: 0.344\n",
      "[195,   800] loss: 0.396\n",
      "[195,   900] loss: 0.460\n",
      "[195,  1000] loss: 0.533\n",
      "[195,  1100] loss: 0.587\n",
      "[195,  1200] loss: 0.625\n"
     ]
    },
    {
     "name": "stderr",
     "output_type": "stream",
     "text": [
      " 39%|███▉      | 195/500 [14:07<20:07,  3.96s/it]"
     ]
    },
    {
     "name": "stdout",
     "output_type": "stream",
     "text": [
      "[196,   100] loss: 0.065\n",
      "[196,   200] loss: 0.106\n",
      "[196,   300] loss: 0.175\n",
      "[196,   400] loss: 0.223\n",
      "[196,   500] loss: 0.276\n",
      "[196,   600] loss: 0.318\n",
      "[196,   700] loss: 0.383\n",
      "[196,   800] loss: 0.424\n",
      "[196,   900] loss: 0.472\n",
      "[196,  1000] loss: 0.529\n",
      "[196,  1100] loss: 0.576\n",
      "[196,  1200] loss: 0.639\n"
     ]
    },
    {
     "name": "stderr",
     "output_type": "stream",
     "text": [
      " 39%|███▉      | 196/500 [14:11<20:09,  3.98s/it]"
     ]
    },
    {
     "name": "stdout",
     "output_type": "stream",
     "text": [
      "[197,   100] loss: 0.066\n",
      "[197,   200] loss: 0.107\n",
      "[197,   300] loss: 0.162\n",
      "[197,   400] loss: 0.208\n",
      "[197,   500] loss: 0.258\n",
      "[197,   600] loss: 0.300\n",
      "[197,   700] loss: 0.363\n",
      "[197,   800] loss: 0.428\n",
      "[197,   900] loss: 0.488\n",
      "[197,  1000] loss: 0.528\n",
      "[197,  1100] loss: 0.591\n",
      "[197,  1200] loss: 0.651\n"
     ]
    },
    {
     "name": "stderr",
     "output_type": "stream",
     "text": [
      " 39%|███▉      | 197/500 [14:15<21:14,  4.21s/it]"
     ]
    },
    {
     "name": "stdout",
     "output_type": "stream",
     "text": [
      "[198,   100] loss: 0.069\n",
      "[198,   200] loss: 0.145\n",
      "[198,   300] loss: 0.202\n",
      "[198,   400] loss: 0.255\n",
      "[198,   500] loss: 0.298\n",
      "[198,   600] loss: 0.337\n",
      "[198,   700] loss: 0.383\n",
      "[198,   800] loss: 0.422\n",
      "[198,   900] loss: 0.476\n",
      "[198,  1000] loss: 0.521\n",
      "[198,  1100] loss: 0.593\n"
     ]
    },
    {
     "name": "stderr",
     "output_type": "stream",
     "text": [
      " 40%|███▉      | 198/500 [14:19<20:16,  4.03s/it]"
     ]
    },
    {
     "name": "stdout",
     "output_type": "stream",
     "text": [
      "[198,  1200] loss: 0.648\n",
      "[199,   100] loss: 0.053\n",
      "[199,   200] loss: 0.110\n",
      "[199,   300] loss: 0.165\n",
      "[199,   400] loss: 0.224\n",
      "[199,   500] loss: 0.279\n",
      "[199,   600] loss: 0.340\n",
      "[199,   700] loss: 0.388\n",
      "[199,   800] loss: 0.446\n",
      "[199,   900] loss: 0.493\n",
      "[199,  1000] loss: 0.542\n",
      "[199,  1100] loss: 0.622\n",
      "[199,  1200] loss: 0.679\n"
     ]
    },
    {
     "name": "stderr",
     "output_type": "stream",
     "text": [
      " 40%|███▉      | 199/500 [14:23<20:09,  4.02s/it]"
     ]
    },
    {
     "name": "stdout",
     "output_type": "stream",
     "text": [
      "[200,   100] loss: 0.044\n",
      "[200,   200] loss: 0.088\n",
      "[200,   300] loss: 0.121\n",
      "[200,   400] loss: 0.187\n",
      "[200,   500] loss: 0.252\n",
      "[200,   600] loss: 0.302\n",
      "[200,   700] loss: 0.364\n",
      "[200,   800] loss: 0.402\n",
      "[200,   900] loss: 0.458\n",
      "[200,  1000] loss: 0.516\n",
      "[200,  1100] loss: 0.575\n",
      "[200,  1200] loss: 0.626\n"
     ]
    },
    {
     "name": "stderr",
     "output_type": "stream",
     "text": [
      " 40%|████      | 200/500 [14:27<19:30,  3.90s/it]"
     ]
    },
    {
     "name": "stdout",
     "output_type": "stream",
     "text": [
      "[201,   100] loss: 0.044\n",
      "[201,   200] loss: 0.101\n",
      "[201,   300] loss: 0.166\n",
      "[201,   400] loss: 0.213\n",
      "[201,   500] loss: 0.266\n",
      "[201,   600] loss: 0.323\n",
      "[201,   700] loss: 0.365\n",
      "[201,   800] loss: 0.433\n",
      "[201,   900] loss: 0.487\n",
      "[201,  1000] loss: 0.519\n",
      "[201,  1100] loss: 0.554\n",
      "[201,  1200] loss: 0.604\n"
     ]
    },
    {
     "name": "stderr",
     "output_type": "stream",
     "text": [
      " 40%|████      | 201/500 [14:30<18:55,  3.80s/it]"
     ]
    },
    {
     "name": "stdout",
     "output_type": "stream",
     "text": [
      "[202,   100] loss: 0.042\n",
      "[202,   200] loss: 0.076\n",
      "[202,   300] loss: 0.143\n",
      "[202,   400] loss: 0.184\n",
      "[202,   500] loss: 0.241\n",
      "[202,   600] loss: 0.290\n",
      "[202,   700] loss: 0.343\n",
      "[202,   800] loss: 0.400\n",
      "[202,   900] loss: 0.453\n",
      "[202,  1000] loss: 0.494\n",
      "[202,  1100] loss: 0.546\n",
      "[202,  1200] loss: 0.584\n"
     ]
    },
    {
     "name": "stderr",
     "output_type": "stream",
     "text": [
      " 40%|████      | 202/500 [14:34<18:50,  3.79s/it]"
     ]
    },
    {
     "name": "stdout",
     "output_type": "stream",
     "text": [
      "[203,   100] loss: 0.067\n",
      "[203,   200] loss: 0.116\n",
      "[203,   300] loss: 0.166\n",
      "[203,   400] loss: 0.217\n",
      "[203,   500] loss: 0.277\n",
      "[203,   600] loss: 0.328\n",
      "[203,   700] loss: 0.385\n",
      "[203,   800] loss: 0.450\n",
      "[203,   900] loss: 0.506\n",
      "[203,  1000] loss: 0.569\n",
      "[203,  1100] loss: 0.616\n",
      "[203,  1200] loss: 0.693\n"
     ]
    },
    {
     "name": "stderr",
     "output_type": "stream",
     "text": [
      " 41%|████      | 203/500 [14:38<18:49,  3.80s/it]"
     ]
    },
    {
     "name": "stdout",
     "output_type": "stream",
     "text": [
      "[204,   100] loss: 0.067\n",
      "[204,   200] loss: 0.126\n",
      "[204,   300] loss: 0.181\n",
      "[204,   400] loss: 0.235\n",
      "[204,   500] loss: 0.298\n",
      "[204,   600] loss: 0.348\n",
      "[204,   700] loss: 0.410\n",
      "[204,   800] loss: 0.461\n",
      "[204,   900] loss: 0.512\n",
      "[204,  1000] loss: 0.564\n",
      "[204,  1100] loss: 0.623\n",
      "[204,  1200] loss: 0.666\n"
     ]
    },
    {
     "name": "stderr",
     "output_type": "stream",
     "text": [
      " 41%|████      | 204/500 [14:42<18:42,  3.79s/it]"
     ]
    },
    {
     "name": "stdout",
     "output_type": "stream",
     "text": [
      "[205,   100] loss: 0.044\n",
      "[205,   200] loss: 0.102\n",
      "[205,   300] loss: 0.154\n",
      "[205,   400] loss: 0.207\n",
      "[205,   500] loss: 0.253\n",
      "[205,   600] loss: 0.294\n",
      "[205,   700] loss: 0.347\n",
      "[205,   800] loss: 0.396\n",
      "[205,   900] loss: 0.456\n",
      "[205,  1000] loss: 0.513\n",
      "[205,  1100] loss: 0.569\n"
     ]
    },
    {
     "name": "stderr",
     "output_type": "stream",
     "text": [
      " 41%|████      | 205/500 [14:45<18:31,  3.77s/it]"
     ]
    },
    {
     "name": "stdout",
     "output_type": "stream",
     "text": [
      "[205,  1200] loss: 0.643\n",
      "[206,   100] loss: 0.058\n",
      "[206,   200] loss: 0.091\n",
      "[206,   300] loss: 0.160\n",
      "[206,   400] loss: 0.219\n",
      "[206,   500] loss: 0.278\n",
      "[206,   600] loss: 0.322\n",
      "[206,   700] loss: 0.362\n",
      "[206,   800] loss: 0.414\n",
      "[206,   900] loss: 0.462\n",
      "[206,  1000] loss: 0.509\n",
      "[206,  1100] loss: 0.573\n"
     ]
    },
    {
     "name": "stderr",
     "output_type": "stream",
     "text": [
      " 41%|████      | 206/500 [14:49<17:53,  3.65s/it]"
     ]
    },
    {
     "name": "stdout",
     "output_type": "stream",
     "text": [
      "[206,  1200] loss: 0.632\n",
      "[207,   100] loss: 0.069\n",
      "[207,   200] loss: 0.120\n",
      "[207,   300] loss: 0.173\n",
      "[207,   400] loss: 0.239\n",
      "[207,   500] loss: 0.297\n",
      "[207,   600] loss: 0.339\n",
      "[207,   700] loss: 0.384\n",
      "[207,   800] loss: 0.435\n",
      "[207,   900] loss: 0.483\n",
      "[207,  1000] loss: 0.524\n",
      "[207,  1100] loss: 0.567\n",
      "[207,  1200] loss: 0.623\n"
     ]
    },
    {
     "name": "stderr",
     "output_type": "stream",
     "text": [
      " 41%|████▏     | 207/500 [14:52<17:57,  3.68s/it]"
     ]
    },
    {
     "name": "stdout",
     "output_type": "stream",
     "text": [
      "[208,   100] loss: 0.039\n",
      "[208,   200] loss: 0.090\n",
      "[208,   300] loss: 0.136\n",
      "[208,   400] loss: 0.175\n",
      "[208,   500] loss: 0.223\n",
      "[208,   600] loss: 0.284\n",
      "[208,   700] loss: 0.350\n",
      "[208,   800] loss: 0.399\n",
      "[208,   900] loss: 0.459\n",
      "[208,  1000] loss: 0.512\n",
      "[208,  1100] loss: 0.567\n"
     ]
    },
    {
     "name": "stderr",
     "output_type": "stream",
     "text": [
      " 42%|████▏     | 208/500 [14:56<18:15,  3.75s/it]"
     ]
    },
    {
     "name": "stdout",
     "output_type": "stream",
     "text": [
      "[208,  1200] loss: 0.599\n",
      "[209,   100] loss: 0.058\n",
      "[209,   200] loss: 0.108\n",
      "[209,   300] loss: 0.152\n",
      "[209,   400] loss: 0.206\n",
      "[209,   500] loss: 0.244\n",
      "[209,   600] loss: 0.298\n",
      "[209,   700] loss: 0.354\n",
      "[209,   800] loss: 0.395\n",
      "[209,   900] loss: 0.440\n",
      "[209,  1000] loss: 0.494\n",
      "[209,  1100] loss: 0.544\n",
      "[209,  1200] loss: 0.588\n"
     ]
    },
    {
     "name": "stderr",
     "output_type": "stream",
     "text": [
      " 42%|████▏     | 209/500 [15:00<18:15,  3.76s/it]"
     ]
    },
    {
     "name": "stdout",
     "output_type": "stream",
     "text": [
      "[210,   100] loss: 0.056\n",
      "[210,   200] loss: 0.124\n",
      "[210,   300] loss: 0.158\n",
      "[210,   400] loss: 0.217\n",
      "[210,   500] loss: 0.270\n",
      "[210,   600] loss: 0.319\n",
      "[210,   700] loss: 0.364\n",
      "[210,   800] loss: 0.427\n",
      "[210,   900] loss: 0.468\n",
      "[210,  1000] loss: 0.508\n",
      "[210,  1100] loss: 0.563\n",
      "[210,  1200] loss: 0.619\n"
     ]
    },
    {
     "name": "stderr",
     "output_type": "stream",
     "text": [
      " 42%|████▏     | 210/500 [15:04<18:16,  3.78s/it]"
     ]
    },
    {
     "name": "stdout",
     "output_type": "stream",
     "text": [
      "[211,   100] loss: 0.054\n",
      "[211,   200] loss: 0.115\n",
      "[211,   300] loss: 0.155\n",
      "[211,   400] loss: 0.204\n",
      "[211,   500] loss: 0.246\n",
      "[211,   600] loss: 0.291\n",
      "[211,   700] loss: 0.347\n",
      "[211,   800] loss: 0.383\n",
      "[211,   900] loss: 0.435\n",
      "[211,  1000] loss: 0.484\n",
      "[211,  1100] loss: 0.533\n",
      "[211,  1200] loss: 0.581\n"
     ]
    },
    {
     "name": "stderr",
     "output_type": "stream",
     "text": [
      " 42%|████▏     | 211/500 [15:08<18:23,  3.82s/it]"
     ]
    },
    {
     "name": "stdout",
     "output_type": "stream",
     "text": [
      "[212,   100] loss: 0.031\n",
      "[212,   200] loss: 0.090\n",
      "[212,   300] loss: 0.136\n",
      "[212,   400] loss: 0.182\n",
      "[212,   500] loss: 0.237\n",
      "[212,   600] loss: 0.289\n",
      "[212,   700] loss: 0.352\n",
      "[212,   800] loss: 0.396\n",
      "[212,   900] loss: 0.448\n",
      "[212,  1000] loss: 0.505\n",
      "[212,  1100] loss: 0.560\n",
      "[212,  1200] loss: 0.612\n"
     ]
    },
    {
     "name": "stderr",
     "output_type": "stream",
     "text": [
      " 42%|████▏     | 212/500 [15:12<18:07,  3.78s/it]"
     ]
    },
    {
     "name": "stdout",
     "output_type": "stream",
     "text": [
      "[213,   100] loss: 0.035\n",
      "[213,   200] loss: 0.104\n",
      "[213,   300] loss: 0.169\n",
      "[213,   400] loss: 0.227\n",
      "[213,   500] loss: 0.273\n",
      "[213,   600] loss: 0.316\n",
      "[213,   700] loss: 0.350\n",
      "[213,   800] loss: 0.409\n",
      "[213,   900] loss: 0.445\n",
      "[213,  1000] loss: 0.510\n",
      "[213,  1100] loss: 0.563\n",
      "[213,  1200] loss: 0.612\n"
     ]
    },
    {
     "name": "stderr",
     "output_type": "stream",
     "text": [
      " 43%|████▎     | 213/500 [15:16<18:48,  3.93s/it]"
     ]
    },
    {
     "name": "stdout",
     "output_type": "stream",
     "text": [
      "[214,   100] loss: 0.067\n",
      "[214,   200] loss: 0.119\n",
      "[214,   300] loss: 0.167\n",
      "[214,   400] loss: 0.206\n",
      "[214,   500] loss: 0.252\n",
      "[214,   600] loss: 0.310\n",
      "[214,   700] loss: 0.361\n",
      "[214,   800] loss: 0.411\n",
      "[214,   900] loss: 0.458\n",
      "[214,  1000] loss: 0.503\n",
      "[214,  1100] loss: 0.540\n",
      "[214,  1200] loss: 0.580\n"
     ]
    },
    {
     "name": "stderr",
     "output_type": "stream",
     "text": [
      " 43%|████▎     | 214/500 [15:20<18:40,  3.92s/it]"
     ]
    },
    {
     "name": "stdout",
     "output_type": "stream",
     "text": [
      "[215,   100] loss: 0.045\n",
      "[215,   200] loss: 0.089\n",
      "[215,   300] loss: 0.163\n",
      "[215,   400] loss: 0.226\n",
      "[215,   500] loss: 0.286\n",
      "[215,   600] loss: 0.341\n",
      "[215,   700] loss: 0.401\n",
      "[215,   800] loss: 0.452\n",
      "[215,   900] loss: 0.503\n",
      "[215,  1000] loss: 0.555\n",
      "[215,  1100] loss: 0.609\n",
      "[215,  1200] loss: 0.652\n"
     ]
    },
    {
     "name": "stderr",
     "output_type": "stream",
     "text": [
      " 43%|████▎     | 215/500 [15:24<18:30,  3.90s/it]"
     ]
    },
    {
     "name": "stdout",
     "output_type": "stream",
     "text": [
      "[216,   100] loss: 0.089\n",
      "[216,   200] loss: 0.146\n",
      "[216,   300] loss: 0.205\n",
      "[216,   400] loss: 0.248\n",
      "[216,   500] loss: 0.300\n",
      "[216,   600] loss: 0.353\n",
      "[216,   700] loss: 0.412\n",
      "[216,   800] loss: 0.461\n",
      "[216,   900] loss: 0.522\n",
      "[216,  1000] loss: 0.569\n",
      "[216,  1100] loss: 0.617\n",
      "[216,  1200] loss: 0.676\n"
     ]
    },
    {
     "name": "stderr",
     "output_type": "stream",
     "text": [
      " 43%|████▎     | 216/500 [15:28<19:17,  4.08s/it]"
     ]
    },
    {
     "name": "stdout",
     "output_type": "stream",
     "text": [
      "[217,   100] loss: 0.046\n",
      "[217,   200] loss: 0.092\n",
      "[217,   300] loss: 0.147\n",
      "[217,   400] loss: 0.215\n",
      "[217,   500] loss: 0.272\n",
      "[217,   600] loss: 0.311\n",
      "[217,   700] loss: 0.349\n",
      "[217,   800] loss: 0.401\n",
      "[217,   900] loss: 0.459\n",
      "[217,  1000] loss: 0.519\n",
      "[217,  1100] loss: 0.562\n",
      "[217,  1200] loss: 0.611\n"
     ]
    },
    {
     "name": "stderr",
     "output_type": "stream",
     "text": [
      " 43%|████▎     | 217/500 [15:32<18:52,  4.00s/it]"
     ]
    },
    {
     "name": "stdout",
     "output_type": "stream",
     "text": [
      "[218,   100] loss: 0.049\n",
      "[218,   200] loss: 0.096\n",
      "[218,   300] loss: 0.143\n",
      "[218,   400] loss: 0.199\n",
      "[218,   500] loss: 0.251\n",
      "[218,   600] loss: 0.310\n",
      "[218,   700] loss: 0.371\n",
      "[218,   800] loss: 0.429\n",
      "[218,   900] loss: 0.477\n",
      "[218,  1000] loss: 0.527\n",
      "[218,  1100] loss: 0.596\n",
      "[218,  1200] loss: 0.643\n"
     ]
    },
    {
     "name": "stderr",
     "output_type": "stream",
     "text": [
      " 44%|████▎     | 218/500 [15:35<18:00,  3.83s/it]"
     ]
    },
    {
     "name": "stdout",
     "output_type": "stream",
     "text": [
      "[219,   100] loss: 0.053\n",
      "[219,   200] loss: 0.103\n",
      "[219,   300] loss: 0.159\n",
      "[219,   400] loss: 0.209\n",
      "[219,   500] loss: 0.267\n",
      "[219,   600] loss: 0.324\n",
      "[219,   700] loss: 0.378\n",
      "[219,   800] loss: 0.420\n",
      "[219,   900] loss: 0.463\n",
      "[219,  1000] loss: 0.525\n",
      "[219,  1100] loss: 0.577\n",
      "[219,  1200] loss: 0.625\n"
     ]
    },
    {
     "name": "stderr",
     "output_type": "stream",
     "text": [
      " 44%|████▍     | 219/500 [15:39<18:03,  3.86s/it]"
     ]
    },
    {
     "name": "stdout",
     "output_type": "stream",
     "text": [
      "[220,   100] loss: 0.055\n",
      "[220,   200] loss: 0.107\n",
      "[220,   300] loss: 0.147\n",
      "[220,   400] loss: 0.205\n",
      "[220,   500] loss: 0.257\n",
      "[220,   600] loss: 0.319\n",
      "[220,   700] loss: 0.382\n",
      "[220,   800] loss: 0.432\n",
      "[220,   900] loss: 0.476\n",
      "[220,  1000] loss: 0.516\n",
      "[220,  1100] loss: 0.569\n",
      "[220,  1200] loss: 0.618\n"
     ]
    },
    {
     "name": "stderr",
     "output_type": "stream",
     "text": [
      " 44%|████▍     | 220/500 [15:43<18:25,  3.95s/it]"
     ]
    },
    {
     "name": "stdout",
     "output_type": "stream",
     "text": [
      "[221,   100] loss: 0.075\n",
      "[221,   200] loss: 0.125\n",
      "[221,   300] loss: 0.175\n",
      "[221,   400] loss: 0.226\n",
      "[221,   500] loss: 0.286\n",
      "[221,   600] loss: 0.334\n",
      "[221,   700] loss: 0.373\n",
      "[221,   800] loss: 0.436\n",
      "[221,   900] loss: 0.491\n",
      "[221,  1000] loss: 0.545\n",
      "[221,  1100] loss: 0.594\n"
     ]
    },
    {
     "name": "stderr",
     "output_type": "stream",
     "text": [
      " 44%|████▍     | 221/500 [15:47<18:04,  3.89s/it]"
     ]
    },
    {
     "name": "stdout",
     "output_type": "stream",
     "text": [
      "[221,  1200] loss: 0.668\n",
      "[222,   100] loss: 0.050\n",
      "[222,   200] loss: 0.103\n",
      "[222,   300] loss: 0.135\n",
      "[222,   400] loss: 0.182\n",
      "[222,   500] loss: 0.248\n",
      "[222,   600] loss: 0.318\n",
      "[222,   700] loss: 0.352\n",
      "[222,   800] loss: 0.416\n",
      "[222,   900] loss: 0.474\n",
      "[222,  1000] loss: 0.527\n",
      "[222,  1100] loss: 0.592\n",
      "[222,  1200] loss: 0.652\n"
     ]
    },
    {
     "name": "stderr",
     "output_type": "stream",
     "text": [
      " 44%|████▍     | 222/500 [15:51<18:16,  3.94s/it]"
     ]
    },
    {
     "name": "stdout",
     "output_type": "stream",
     "text": [
      "[223,   100] loss: 0.046\n",
      "[223,   200] loss: 0.111\n",
      "[223,   300] loss: 0.156\n",
      "[223,   400] loss: 0.211\n",
      "[223,   500] loss: 0.275\n",
      "[223,   600] loss: 0.320\n",
      "[223,   700] loss: 0.367\n",
      "[223,   800] loss: 0.410\n",
      "[223,   900] loss: 0.464\n",
      "[223,  1000] loss: 0.521\n",
      "[223,  1100] loss: 0.575\n",
      "[223,  1200] loss: 0.626\n"
     ]
    },
    {
     "name": "stderr",
     "output_type": "stream",
     "text": [
      " 45%|████▍     | 223/500 [15:55<17:47,  3.86s/it]"
     ]
    },
    {
     "name": "stdout",
     "output_type": "stream",
     "text": [
      "[224,   100] loss: 0.064\n",
      "[224,   200] loss: 0.103\n",
      "[224,   300] loss: 0.166\n",
      "[224,   400] loss: 0.219\n",
      "[224,   500] loss: 0.265\n",
      "[224,   600] loss: 0.319\n",
      "[224,   700] loss: 0.375\n",
      "[224,   800] loss: 0.422\n",
      "[224,   900] loss: 0.472\n",
      "[224,  1000] loss: 0.541\n",
      "[224,  1100] loss: 0.612\n",
      "[224,  1200] loss: 0.671\n"
     ]
    },
    {
     "name": "stderr",
     "output_type": "stream",
     "text": [
      " 45%|████▍     | 224/500 [15:59<18:17,  3.97s/it]"
     ]
    },
    {
     "name": "stdout",
     "output_type": "stream",
     "text": [
      "[225,   100] loss: 0.053\n",
      "[225,   200] loss: 0.108\n",
      "[225,   300] loss: 0.167\n",
      "[225,   400] loss: 0.214\n",
      "[225,   500] loss: 0.271\n",
      "[225,   600] loss: 0.326\n",
      "[225,   700] loss: 0.398\n",
      "[225,   800] loss: 0.459\n",
      "[225,   900] loss: 0.514\n",
      "[225,  1000] loss: 0.558\n",
      "[225,  1100] loss: 0.620\n",
      "[225,  1200] loss: 0.658\n"
     ]
    },
    {
     "name": "stderr",
     "output_type": "stream",
     "text": [
      " 45%|████▌     | 225/500 [16:03<18:14,  3.98s/it]"
     ]
    },
    {
     "name": "stdout",
     "output_type": "stream",
     "text": [
      "[226,   100] loss: 0.063\n",
      "[226,   200] loss: 0.116\n",
      "[226,   300] loss: 0.163\n",
      "[226,   400] loss: 0.221\n",
      "[226,   500] loss: 0.274\n",
      "[226,   600] loss: 0.339\n",
      "[226,   700] loss: 0.409\n",
      "[226,   800] loss: 0.465\n",
      "[226,   900] loss: 0.512\n",
      "[226,  1000] loss: 0.553\n",
      "[226,  1100] loss: 0.609\n",
      "[226,  1200] loss: 0.668\n"
     ]
    },
    {
     "name": "stderr",
     "output_type": "stream",
     "text": [
      " 45%|████▌     | 226/500 [16:07<17:47,  3.90s/it]"
     ]
    },
    {
     "name": "stdout",
     "output_type": "stream",
     "text": [
      "[227,   100] loss: 0.052\n",
      "[227,   200] loss: 0.097\n",
      "[227,   300] loss: 0.158\n",
      "[227,   400] loss: 0.208\n",
      "[227,   500] loss: 0.248\n",
      "[227,   600] loss: 0.293\n",
      "[227,   700] loss: 0.348\n",
      "[227,   800] loss: 0.406\n",
      "[227,   900] loss: 0.454\n",
      "[227,  1000] loss: 0.509\n",
      "[227,  1100] loss: 0.577\n",
      "[227,  1200] loss: 0.617\n"
     ]
    },
    {
     "name": "stderr",
     "output_type": "stream",
     "text": [
      " 45%|████▌     | 227/500 [16:11<17:50,  3.92s/it]"
     ]
    },
    {
     "name": "stdout",
     "output_type": "stream",
     "text": [
      "[228,   100] loss: 0.046\n",
      "[228,   200] loss: 0.101\n",
      "[228,   300] loss: 0.160\n",
      "[228,   400] loss: 0.207\n",
      "[228,   500] loss: 0.254\n",
      "[228,   600] loss: 0.291\n",
      "[228,   700] loss: 0.357\n",
      "[228,   800] loss: 0.421\n",
      "[228,   900] loss: 0.453\n",
      "[228,  1000] loss: 0.510\n",
      "[228,  1100] loss: 0.558\n",
      "[228,  1200] loss: 0.630\n"
     ]
    },
    {
     "name": "stderr",
     "output_type": "stream",
     "text": [
      " 46%|████▌     | 228/500 [16:15<18:17,  4.04s/it]"
     ]
    },
    {
     "name": "stdout",
     "output_type": "stream",
     "text": [
      "[229,   100] loss: 0.056\n",
      "[229,   200] loss: 0.102\n",
      "[229,   300] loss: 0.166\n",
      "[229,   400] loss: 0.210\n",
      "[229,   500] loss: 0.251\n",
      "[229,   600] loss: 0.304\n",
      "[229,   700] loss: 0.375\n",
      "[229,   800] loss: 0.426\n",
      "[229,   900] loss: 0.466\n",
      "[229,  1000] loss: 0.510\n",
      "[229,  1100] loss: 0.556\n",
      "[229,  1200] loss: 0.622\n"
     ]
    },
    {
     "name": "stderr",
     "output_type": "stream",
     "text": [
      " 46%|████▌     | 229/500 [16:19<18:00,  3.99s/it]"
     ]
    },
    {
     "name": "stdout",
     "output_type": "stream",
     "text": [
      "[230,   100] loss: 0.073\n",
      "[230,   200] loss: 0.133\n",
      "[230,   300] loss: 0.174\n",
      "[230,   400] loss: 0.225\n",
      "[230,   500] loss: 0.260\n",
      "[230,   600] loss: 0.301\n",
      "[230,   700] loss: 0.349\n",
      "[230,   800] loss: 0.391\n",
      "[230,   900] loss: 0.433\n",
      "[230,  1000] loss: 0.476\n",
      "[230,  1100] loss: 0.525\n",
      "[230,  1200] loss: 0.576\n"
     ]
    },
    {
     "name": "stderr",
     "output_type": "stream",
     "text": [
      " 46%|████▌     | 230/500 [16:24<18:45,  4.17s/it]"
     ]
    },
    {
     "name": "stdout",
     "output_type": "stream",
     "text": [
      "[231,   100] loss: 0.049\n",
      "[231,   200] loss: 0.097\n",
      "[231,   300] loss: 0.167\n",
      "[231,   400] loss: 0.220\n",
      "[231,   500] loss: 0.269\n",
      "[231,   600] loss: 0.321\n",
      "[231,   700] loss: 0.379\n",
      "[231,   800] loss: 0.437\n",
      "[231,   900] loss: 0.489\n",
      "[231,  1000] loss: 0.560\n",
      "[231,  1100] loss: 0.608\n",
      "[231,  1200] loss: 0.642\n"
     ]
    },
    {
     "name": "stderr",
     "output_type": "stream",
     "text": [
      " 46%|████▌     | 231/500 [16:28<19:06,  4.26s/it]"
     ]
    },
    {
     "name": "stdout",
     "output_type": "stream",
     "text": [
      "[232,   100] loss: 0.045\n",
      "[232,   200] loss: 0.094\n",
      "[232,   300] loss: 0.159\n",
      "[232,   400] loss: 0.202\n",
      "[232,   500] loss: 0.252\n",
      "[232,   600] loss: 0.289\n",
      "[232,   700] loss: 0.353\n",
      "[232,   800] loss: 0.395\n",
      "[232,   900] loss: 0.464\n",
      "[232,  1000] loss: 0.506\n",
      "[232,  1100] loss: 0.560\n",
      "[232,  1200] loss: 0.601\n"
     ]
    },
    {
     "name": "stderr",
     "output_type": "stream",
     "text": [
      " 46%|████▋     | 232/500 [16:33<20:06,  4.50s/it]"
     ]
    },
    {
     "name": "stdout",
     "output_type": "stream",
     "text": [
      "[233,   100] loss: 0.050\n",
      "[233,   200] loss: 0.109\n",
      "[233,   300] loss: 0.146\n",
      "[233,   400] loss: 0.200\n",
      "[233,   500] loss: 0.246\n",
      "[233,   600] loss: 0.300\n",
      "[233,   700] loss: 0.359\n",
      "[233,   800] loss: 0.419\n",
      "[233,   900] loss: 0.463\n",
      "[233,  1000] loss: 0.510\n",
      "[233,  1100] loss: 0.543\n",
      "[233,  1200] loss: 0.600\n"
     ]
    },
    {
     "name": "stderr",
     "output_type": "stream",
     "text": [
      " 47%|████▋     | 233/500 [16:38<19:57,  4.49s/it]"
     ]
    },
    {
     "name": "stdout",
     "output_type": "stream",
     "text": [
      "[234,   100] loss: 0.048\n",
      "[234,   200] loss: 0.113\n",
      "[234,   300] loss: 0.168\n",
      "[234,   400] loss: 0.214\n",
      "[234,   500] loss: 0.261\n",
      "[234,   600] loss: 0.303\n",
      "[234,   700] loss: 0.365\n",
      "[234,   800] loss: 0.406\n",
      "[234,   900] loss: 0.455\n",
      "[234,  1000] loss: 0.493\n",
      "[234,  1100] loss: 0.547\n",
      "[234,  1200] loss: 0.602\n"
     ]
    },
    {
     "name": "stderr",
     "output_type": "stream",
     "text": [
      " 47%|████▋     | 234/500 [16:42<19:34,  4.41s/it]"
     ]
    },
    {
     "name": "stdout",
     "output_type": "stream",
     "text": [
      "[235,   100] loss: 0.051\n",
      "[235,   200] loss: 0.095\n",
      "[235,   300] loss: 0.149\n",
      "[235,   400] loss: 0.203\n",
      "[235,   500] loss: 0.261\n",
      "[235,   600] loss: 0.292\n",
      "[235,   700] loss: 0.347\n",
      "[235,   800] loss: 0.400\n",
      "[235,   900] loss: 0.437\n",
      "[235,  1000] loss: 0.485\n",
      "[235,  1100] loss: 0.541\n",
      "[235,  1200] loss: 0.578\n"
     ]
    },
    {
     "name": "stderr",
     "output_type": "stream",
     "text": [
      " 47%|████▋     | 235/500 [16:46<19:43,  4.47s/it]"
     ]
    },
    {
     "name": "stdout",
     "output_type": "stream",
     "text": [
      "[236,   100] loss: 0.053\n",
      "[236,   200] loss: 0.096\n",
      "[236,   300] loss: 0.148\n",
      "[236,   400] loss: 0.199\n",
      "[236,   500] loss: 0.253\n",
      "[236,   600] loss: 0.295\n",
      "[236,   700] loss: 0.348\n",
      "[236,   800] loss: 0.415\n",
      "[236,   900] loss: 0.473\n",
      "[236,  1000] loss: 0.535\n",
      "[236,  1100] loss: 0.588\n",
      "[236,  1200] loss: 0.634\n"
     ]
    },
    {
     "name": "stderr",
     "output_type": "stream",
     "text": [
      " 47%|████▋     | 236/500 [16:50<18:55,  4.30s/it]"
     ]
    },
    {
     "name": "stdout",
     "output_type": "stream",
     "text": [
      "[237,   100] loss: 0.057\n",
      "[237,   200] loss: 0.113\n",
      "[237,   300] loss: 0.155\n",
      "[237,   400] loss: 0.201\n",
      "[237,   500] loss: 0.269\n",
      "[237,   600] loss: 0.325\n",
      "[237,   700] loss: 0.371\n",
      "[237,   800] loss: 0.409\n",
      "[237,   900] loss: 0.449\n",
      "[237,  1000] loss: 0.512\n",
      "[237,  1100] loss: 0.583\n",
      "[237,  1200] loss: 0.633\n"
     ]
    },
    {
     "name": "stderr",
     "output_type": "stream",
     "text": [
      " 47%|████▋     | 237/500 [16:55<19:11,  4.38s/it]"
     ]
    },
    {
     "name": "stdout",
     "output_type": "stream",
     "text": [
      "[238,   100] loss: 0.043\n",
      "[238,   200] loss: 0.088\n",
      "[238,   300] loss: 0.135\n",
      "[238,   400] loss: 0.201\n",
      "[238,   500] loss: 0.249\n",
      "[238,   600] loss: 0.290\n",
      "[238,   700] loss: 0.368\n",
      "[238,   800] loss: 0.416\n",
      "[238,   900] loss: 0.479\n",
      "[238,  1000] loss: 0.531\n",
      "[238,  1100] loss: 0.583\n",
      "[238,  1200] loss: 0.629\n"
     ]
    },
    {
     "name": "stderr",
     "output_type": "stream",
     "text": [
      " 48%|████▊     | 238/500 [17:00<19:34,  4.48s/it]"
     ]
    },
    {
     "name": "stdout",
     "output_type": "stream",
     "text": [
      "[239,   100] loss: 0.050\n",
      "[239,   200] loss: 0.112\n",
      "[239,   300] loss: 0.164\n",
      "[239,   400] loss: 0.212\n",
      "[239,   500] loss: 0.258\n",
      "[239,   600] loss: 0.312\n",
      "[239,   700] loss: 0.372\n",
      "[239,   800] loss: 0.411\n",
      "[239,   900] loss: 0.479\n",
      "[239,  1000] loss: 0.532\n",
      "[239,  1100] loss: 0.589\n",
      "[239,  1200] loss: 0.640\n"
     ]
    },
    {
     "name": "stderr",
     "output_type": "stream",
     "text": [
      " 48%|████▊     | 239/500 [17:05<20:16,  4.66s/it]"
     ]
    },
    {
     "name": "stdout",
     "output_type": "stream",
     "text": [
      "[240,   100] loss: 0.057\n",
      "[240,   200] loss: 0.100\n",
      "[240,   300] loss: 0.147\n",
      "[240,   400] loss: 0.208\n",
      "[240,   500] loss: 0.262\n",
      "[240,   600] loss: 0.309\n",
      "[240,   700] loss: 0.361\n",
      "[240,   800] loss: 0.402\n",
      "[240,   900] loss: 0.472\n",
      "[240,  1000] loss: 0.526\n",
      "[240,  1100] loss: 0.584\n",
      "[240,  1200] loss: 0.641\n"
     ]
    },
    {
     "name": "stderr",
     "output_type": "stream",
     "text": [
      " 48%|████▊     | 240/500 [17:09<19:36,  4.52s/it]"
     ]
    },
    {
     "name": "stdout",
     "output_type": "stream",
     "text": [
      "[241,   100] loss: 0.041\n",
      "[241,   200] loss: 0.094\n",
      "[241,   300] loss: 0.137\n",
      "[241,   400] loss: 0.182\n",
      "[241,   500] loss: 0.222\n",
      "[241,   600] loss: 0.290\n",
      "[241,   700] loss: 0.348\n",
      "[241,   800] loss: 0.396\n",
      "[241,   900] loss: 0.456\n",
      "[241,  1000] loss: 0.506\n",
      "[241,  1100] loss: 0.573\n",
      "[241,  1200] loss: 0.629\n"
     ]
    },
    {
     "name": "stderr",
     "output_type": "stream",
     "text": [
      " 48%|████▊     | 241/500 [17:14<20:05,  4.65s/it]"
     ]
    },
    {
     "name": "stdout",
     "output_type": "stream",
     "text": [
      "[242,   100] loss: 0.056\n",
      "[242,   200] loss: 0.105\n",
      "[242,   300] loss: 0.159\n",
      "[242,   400] loss: 0.210\n",
      "[242,   500] loss: 0.274\n",
      "[242,   600] loss: 0.323\n",
      "[242,   700] loss: 0.380\n",
      "[242,   800] loss: 0.429\n",
      "[242,   900] loss: 0.485\n",
      "[242,  1000] loss: 0.541\n",
      "[242,  1100] loss: 0.578\n",
      "[242,  1200] loss: 0.629\n"
     ]
    },
    {
     "name": "stderr",
     "output_type": "stream",
     "text": [
      " 48%|████▊     | 242/500 [17:20<21:17,  4.95s/it]"
     ]
    },
    {
     "name": "stdout",
     "output_type": "stream",
     "text": [
      "[243,   100] loss: 0.052\n",
      "[243,   200] loss: 0.100\n",
      "[243,   300] loss: 0.143\n",
      "[243,   400] loss: 0.178\n",
      "[243,   500] loss: 0.229\n",
      "[243,   600] loss: 0.307\n",
      "[243,   700] loss: 0.372\n",
      "[243,   800] loss: 0.434\n",
      "[243,   900] loss: 0.497\n",
      "[243,  1000] loss: 0.555\n",
      "[243,  1100] loss: 0.602\n",
      "[243,  1200] loss: 0.666\n"
     ]
    },
    {
     "name": "stderr",
     "output_type": "stream",
     "text": [
      " 49%|████▊     | 243/500 [17:24<20:50,  4.86s/it]"
     ]
    },
    {
     "name": "stdout",
     "output_type": "stream",
     "text": [
      "[244,   100] loss: 0.047\n",
      "[244,   200] loss: 0.100\n",
      "[244,   300] loss: 0.158\n",
      "[244,   400] loss: 0.205\n",
      "[244,   500] loss: 0.260\n",
      "[244,   600] loss: 0.316\n",
      "[244,   700] loss: 0.364\n",
      "[244,   800] loss: 0.415\n",
      "[244,   900] loss: 0.464\n",
      "[244,  1000] loss: 0.520\n",
      "[244,  1100] loss: 0.568\n",
      "[244,  1200] loss: 0.609\n"
     ]
    },
    {
     "name": "stderr",
     "output_type": "stream",
     "text": [
      " 49%|████▉     | 244/500 [17:29<20:58,  4.92s/it]"
     ]
    },
    {
     "name": "stdout",
     "output_type": "stream",
     "text": [
      "[245,   100] loss: 0.052\n",
      "[245,   200] loss: 0.101\n",
      "[245,   300] loss: 0.158\n",
      "[245,   400] loss: 0.202\n",
      "[245,   500] loss: 0.240\n",
      "[245,   600] loss: 0.317\n",
      "[245,   700] loss: 0.361\n",
      "[245,   800] loss: 0.407\n",
      "[245,   900] loss: 0.474\n",
      "[245,  1000] loss: 0.527\n",
      "[245,  1100] loss: 0.594\n",
      "[245,  1200] loss: 0.646\n"
     ]
    },
    {
     "name": "stderr",
     "output_type": "stream",
     "text": [
      " 49%|████▉     | 245/500 [17:34<20:57,  4.93s/it]"
     ]
    },
    {
     "name": "stdout",
     "output_type": "stream",
     "text": [
      "[246,   100] loss: 0.039\n",
      "[246,   200] loss: 0.073\n",
      "[246,   300] loss: 0.139\n",
      "[246,   400] loss: 0.196\n",
      "[246,   500] loss: 0.248\n",
      "[246,   600] loss: 0.298\n",
      "[246,   700] loss: 0.348\n",
      "[246,   800] loss: 0.395\n",
      "[246,   900] loss: 0.446\n",
      "[246,  1000] loss: 0.500\n",
      "[246,  1100] loss: 0.572\n",
      "[246,  1200] loss: 0.624\n"
     ]
    },
    {
     "name": "stderr",
     "output_type": "stream",
     "text": [
      " 49%|████▉     | 246/500 [17:38<19:56,  4.71s/it]"
     ]
    },
    {
     "name": "stdout",
     "output_type": "stream",
     "text": [
      "[247,   100] loss: 0.051\n",
      "[247,   200] loss: 0.092\n",
      "[247,   300] loss: 0.144\n",
      "[247,   400] loss: 0.195\n",
      "[247,   500] loss: 0.227\n",
      "[247,   600] loss: 0.287\n",
      "[247,   700] loss: 0.365\n",
      "[247,   800] loss: 0.404\n",
      "[247,   900] loss: 0.474\n",
      "[247,  1000] loss: 0.532\n",
      "[247,  1100] loss: 0.581\n",
      "[247,  1200] loss: 0.641\n"
     ]
    },
    {
     "name": "stderr",
     "output_type": "stream",
     "text": [
      " 49%|████▉     | 247/500 [17:42<18:41,  4.43s/it]"
     ]
    },
    {
     "name": "stdout",
     "output_type": "stream",
     "text": [
      "[248,   100] loss: 0.033\n",
      "[248,   200] loss: 0.079\n",
      "[248,   300] loss: 0.130\n",
      "[248,   400] loss: 0.180\n",
      "[248,   500] loss: 0.226\n",
      "[248,   600] loss: 0.278\n",
      "[248,   700] loss: 0.337\n",
      "[248,   800] loss: 0.396\n",
      "[248,   900] loss: 0.441\n",
      "[248,  1000] loss: 0.479\n",
      "[248,  1100] loss: 0.520\n",
      "[248,  1200] loss: 0.589\n"
     ]
    },
    {
     "name": "stderr",
     "output_type": "stream",
     "text": [
      " 50%|████▉     | 248/500 [17:47<19:03,  4.54s/it]"
     ]
    },
    {
     "name": "stdout",
     "output_type": "stream",
     "text": [
      "[249,   100] loss: 0.074\n",
      "[249,   200] loss: 0.135\n",
      "[249,   300] loss: 0.179\n",
      "[249,   400] loss: 0.231\n",
      "[249,   500] loss: 0.266\n",
      "[249,   600] loss: 0.304\n",
      "[249,   700] loss: 0.352\n",
      "[249,   800] loss: 0.391\n",
      "[249,   900] loss: 0.442\n",
      "[249,  1000] loss: 0.494\n",
      "[249,  1100] loss: 0.534\n",
      "[249,  1200] loss: 0.586\n"
     ]
    },
    {
     "name": "stderr",
     "output_type": "stream",
     "text": [
      " 50%|████▉     | 249/500 [17:52<19:42,  4.71s/it]"
     ]
    },
    {
     "name": "stdout",
     "output_type": "stream",
     "text": [
      "[250,   100] loss: 0.057\n",
      "[250,   200] loss: 0.112\n",
      "[250,   300] loss: 0.180\n",
      "[250,   400] loss: 0.224\n",
      "[250,   500] loss: 0.274\n",
      "[250,   600] loss: 0.325\n",
      "[250,   700] loss: 0.375\n",
      "[250,   800] loss: 0.421\n",
      "[250,   900] loss: 0.483\n",
      "[250,  1000] loss: 0.536\n",
      "[250,  1100] loss: 0.598\n",
      "[250,  1200] loss: 0.654\n"
     ]
    },
    {
     "name": "stderr",
     "output_type": "stream",
     "text": [
      " 50%|█████     | 250/500 [17:57<19:31,  4.68s/it]"
     ]
    },
    {
     "name": "stdout",
     "output_type": "stream",
     "text": [
      "[251,   100] loss: 0.061\n",
      "[251,   200] loss: 0.120\n",
      "[251,   300] loss: 0.175\n",
      "[251,   400] loss: 0.223\n",
      "[251,   500] loss: 0.281\n",
      "[251,   600] loss: 0.336\n",
      "[251,   700] loss: 0.392\n",
      "[251,   800] loss: 0.434\n",
      "[251,   900] loss: 0.489\n",
      "[251,  1000] loss: 0.550\n",
      "[251,  1100] loss: 0.592\n",
      "[251,  1200] loss: 0.641\n"
     ]
    },
    {
     "name": "stderr",
     "output_type": "stream",
     "text": [
      " 50%|█████     | 251/500 [18:01<18:42,  4.51s/it]"
     ]
    },
    {
     "name": "stdout",
     "output_type": "stream",
     "text": [
      "[252,   100] loss: 0.047\n",
      "[252,   200] loss: 0.119\n",
      "[252,   300] loss: 0.174\n",
      "[252,   400] loss: 0.214\n",
      "[252,   500] loss: 0.274\n",
      "[252,   600] loss: 0.325\n",
      "[252,   700] loss: 0.385\n",
      "[252,   800] loss: 0.423\n",
      "[252,   900] loss: 0.478\n",
      "[252,  1000] loss: 0.534\n",
      "[252,  1100] loss: 0.594\n",
      "[252,  1200] loss: 0.662\n"
     ]
    },
    {
     "name": "stderr",
     "output_type": "stream",
     "text": [
      " 50%|█████     | 252/500 [18:05<17:45,  4.30s/it]"
     ]
    },
    {
     "name": "stdout",
     "output_type": "stream",
     "text": [
      "[253,   100] loss: 0.046\n",
      "[253,   200] loss: 0.094\n",
      "[253,   300] loss: 0.163\n",
      "[253,   400] loss: 0.214\n",
      "[253,   500] loss: 0.274\n",
      "[253,   600] loss: 0.328\n",
      "[253,   700] loss: 0.372\n",
      "[253,   800] loss: 0.413\n",
      "[253,   900] loss: 0.467\n",
      "[253,  1000] loss: 0.516\n",
      "[253,  1100] loss: 0.562\n",
      "[253,  1200] loss: 0.604\n"
     ]
    },
    {
     "name": "stderr",
     "output_type": "stream",
     "text": [
      " 51%|█████     | 253/500 [18:09<17:56,  4.36s/it]"
     ]
    },
    {
     "name": "stdout",
     "output_type": "stream",
     "text": [
      "[254,   100] loss: 0.060\n",
      "[254,   200] loss: 0.108\n",
      "[254,   300] loss: 0.150\n",
      "[254,   400] loss: 0.198\n",
      "[254,   500] loss: 0.250\n",
      "[254,   600] loss: 0.303\n",
      "[254,   700] loss: 0.354\n",
      "[254,   800] loss: 0.401\n",
      "[254,   900] loss: 0.459\n",
      "[254,  1000] loss: 0.486\n",
      "[254,  1100] loss: 0.533\n",
      "[254,  1200] loss: 0.593\n"
     ]
    },
    {
     "name": "stderr",
     "output_type": "stream",
     "text": [
      " 51%|█████     | 254/500 [18:14<18:46,  4.58s/it]"
     ]
    },
    {
     "name": "stdout",
     "output_type": "stream",
     "text": [
      "[255,   100] loss: 0.039\n",
      "[255,   200] loss: 0.095\n",
      "[255,   300] loss: 0.132\n",
      "[255,   400] loss: 0.182\n",
      "[255,   500] loss: 0.225\n",
      "[255,   600] loss: 0.272\n",
      "[255,   700] loss: 0.340\n",
      "[255,   800] loss: 0.408\n",
      "[255,   900] loss: 0.458\n",
      "[255,  1000] loss: 0.515\n",
      "[255,  1100] loss: 0.569\n",
      "[255,  1200] loss: 0.607\n"
     ]
    },
    {
     "name": "stderr",
     "output_type": "stream",
     "text": [
      " 51%|█████     | 255/500 [18:19<19:04,  4.67s/it]"
     ]
    },
    {
     "name": "stdout",
     "output_type": "stream",
     "text": [
      "[256,   100] loss: 0.061\n",
      "[256,   200] loss: 0.126\n",
      "[256,   300] loss: 0.180\n",
      "[256,   400] loss: 0.229\n",
      "[256,   500] loss: 0.279\n",
      "[256,   600] loss: 0.323\n",
      "[256,   700] loss: 0.365\n",
      "[256,   800] loss: 0.421\n",
      "[256,   900] loss: 0.472\n",
      "[256,  1000] loss: 0.543\n",
      "[256,  1100] loss: 0.623\n",
      "[256,  1200] loss: 0.671\n"
     ]
    },
    {
     "name": "stderr",
     "output_type": "stream",
     "text": [
      " 51%|█████     | 256/500 [18:23<18:13,  4.48s/it]"
     ]
    },
    {
     "name": "stdout",
     "output_type": "stream",
     "text": [
      "[257,   100] loss: 0.041\n",
      "[257,   200] loss: 0.090\n",
      "[257,   300] loss: 0.145\n",
      "[257,   400] loss: 0.207\n",
      "[257,   500] loss: 0.267\n",
      "[257,   600] loss: 0.307\n",
      "[257,   700] loss: 0.344\n",
      "[257,   800] loss: 0.395\n",
      "[257,   900] loss: 0.436\n",
      "[257,  1000] loss: 0.498\n",
      "[257,  1100] loss: 0.551\n",
      "[257,  1200] loss: 0.610\n"
     ]
    },
    {
     "name": "stderr",
     "output_type": "stream",
     "text": [
      " 51%|█████▏    | 257/500 [18:27<17:32,  4.33s/it]"
     ]
    },
    {
     "name": "stdout",
     "output_type": "stream",
     "text": [
      "[258,   100] loss: 0.052\n",
      "[258,   200] loss: 0.094\n",
      "[258,   300] loss: 0.170\n",
      "[258,   400] loss: 0.214\n",
      "[258,   500] loss: 0.262\n",
      "[258,   600] loss: 0.324\n",
      "[258,   700] loss: 0.378\n",
      "[258,   800] loss: 0.435\n",
      "[258,   900] loss: 0.479\n",
      "[258,  1000] loss: 0.519\n",
      "[258,  1100] loss: 0.573\n",
      "[258,  1200] loss: 0.622\n"
     ]
    },
    {
     "name": "stderr",
     "output_type": "stream",
     "text": [
      " 52%|█████▏    | 258/500 [18:31<17:16,  4.28s/it]"
     ]
    },
    {
     "name": "stdout",
     "output_type": "stream",
     "text": [
      "[259,   100] loss: 0.051\n",
      "[259,   200] loss: 0.093\n",
      "[259,   300] loss: 0.138\n",
      "[259,   400] loss: 0.198\n",
      "[259,   500] loss: 0.248\n",
      "[259,   600] loss: 0.292\n",
      "[259,   700] loss: 0.347\n",
      "[259,   800] loss: 0.402\n",
      "[259,   900] loss: 0.472\n",
      "[259,  1000] loss: 0.521\n",
      "[259,  1100] loss: 0.595\n",
      "[259,  1200] loss: 0.640\n"
     ]
    },
    {
     "name": "stderr",
     "output_type": "stream",
     "text": [
      " 52%|█████▏    | 259/500 [18:35<17:03,  4.25s/it]"
     ]
    },
    {
     "name": "stdout",
     "output_type": "stream",
     "text": [
      "[260,   100] loss: 0.043\n",
      "[260,   200] loss: 0.105\n",
      "[260,   300] loss: 0.158\n",
      "[260,   400] loss: 0.207\n",
      "[260,   500] loss: 0.257\n",
      "[260,   600] loss: 0.330\n",
      "[260,   700] loss: 0.384\n",
      "[260,   800] loss: 0.433\n",
      "[260,   900] loss: 0.493\n",
      "[260,  1000] loss: 0.557\n",
      "[260,  1100] loss: 0.619\n",
      "[260,  1200] loss: 0.657\n"
     ]
    },
    {
     "name": "stderr",
     "output_type": "stream",
     "text": [
      " 52%|█████▏    | 260/500 [18:40<16:56,  4.24s/it]"
     ]
    },
    {
     "name": "stdout",
     "output_type": "stream",
     "text": [
      "[261,   100] loss: 0.060\n",
      "[261,   200] loss: 0.101\n",
      "[261,   300] loss: 0.158\n",
      "[261,   400] loss: 0.216\n",
      "[261,   500] loss: 0.283\n",
      "[261,   600] loss: 0.336\n",
      "[261,   700] loss: 0.385\n",
      "[261,   800] loss: 0.437\n",
      "[261,   900] loss: 0.482\n",
      "[261,  1000] loss: 0.525\n",
      "[261,  1100] loss: 0.585\n",
      "[261,  1200] loss: 0.635\n"
     ]
    },
    {
     "name": "stderr",
     "output_type": "stream",
     "text": [
      " 52%|█████▏    | 261/500 [18:43<16:21,  4.11s/it]"
     ]
    },
    {
     "name": "stdout",
     "output_type": "stream",
     "text": [
      "[262,   100] loss: 0.048\n",
      "[262,   200] loss: 0.103\n",
      "[262,   300] loss: 0.160\n",
      "[262,   400] loss: 0.209\n",
      "[262,   500] loss: 0.258\n",
      "[262,   600] loss: 0.318\n",
      "[262,   700] loss: 0.363\n",
      "[262,   800] loss: 0.425\n",
      "[262,   900] loss: 0.472\n",
      "[262,  1000] loss: 0.532\n",
      "[262,  1100] loss: 0.574\n",
      "[262,  1200] loss: 0.625\n"
     ]
    },
    {
     "name": "stderr",
     "output_type": "stream",
     "text": [
      " 52%|█████▏    | 262/500 [18:47<16:01,  4.04s/it]"
     ]
    },
    {
     "name": "stdout",
     "output_type": "stream",
     "text": [
      "[263,   100] loss: 0.051\n",
      "[263,   200] loss: 0.107\n",
      "[263,   300] loss: 0.160\n",
      "[263,   400] loss: 0.216\n",
      "[263,   500] loss: 0.256\n",
      "[263,   600] loss: 0.312\n",
      "[263,   700] loss: 0.367\n",
      "[263,   800] loss: 0.427\n",
      "[263,   900] loss: 0.485\n",
      "[263,  1000] loss: 0.530\n",
      "[263,  1100] loss: 0.592\n",
      "[263,  1200] loss: 0.652\n"
     ]
    },
    {
     "name": "stderr",
     "output_type": "stream",
     "text": [
      " 53%|█████▎    | 263/500 [18:51<15:43,  3.98s/it]"
     ]
    },
    {
     "name": "stdout",
     "output_type": "stream",
     "text": [
      "[264,   100] loss: 0.049\n",
      "[264,   200] loss: 0.104\n",
      "[264,   300] loss: 0.166\n",
      "[264,   400] loss: 0.220\n",
      "[264,   500] loss: 0.283\n",
      "[264,   600] loss: 0.335\n",
      "[264,   700] loss: 0.379\n",
      "[264,   800] loss: 0.431\n",
      "[264,   900] loss: 0.487\n",
      "[264,  1000] loss: 0.536\n",
      "[264,  1100] loss: 0.606\n",
      "[264,  1200] loss: 0.665\n"
     ]
    },
    {
     "name": "stderr",
     "output_type": "stream",
     "text": [
      " 53%|█████▎    | 264/500 [18:57<17:21,  4.41s/it]"
     ]
    },
    {
     "name": "stdout",
     "output_type": "stream",
     "text": [
      "[265,   100] loss: 0.068\n",
      "[265,   200] loss: 0.117\n",
      "[265,   300] loss: 0.168\n",
      "[265,   400] loss: 0.225\n",
      "[265,   500] loss: 0.270\n",
      "[265,   600] loss: 0.304\n",
      "[265,   700] loss: 0.354\n",
      "[265,   800] loss: 0.413\n",
      "[265,   900] loss: 0.476\n",
      "[265,  1000] loss: 0.515\n",
      "[265,  1100] loss: 0.571\n",
      "[265,  1200] loss: 0.609\n"
     ]
    },
    {
     "name": "stderr",
     "output_type": "stream",
     "text": [
      " 53%|█████▎    | 265/500 [19:01<16:54,  4.32s/it]"
     ]
    },
    {
     "name": "stdout",
     "output_type": "stream",
     "text": [
      "[266,   100] loss: 0.049\n",
      "[266,   200] loss: 0.102\n",
      "[266,   300] loss: 0.161\n",
      "[266,   400] loss: 0.197\n",
      "[266,   500] loss: 0.258\n",
      "[266,   600] loss: 0.318\n",
      "[266,   700] loss: 0.370\n",
      "[266,   800] loss: 0.426\n",
      "[266,   900] loss: 0.472\n",
      "[266,  1000] loss: 0.513\n",
      "[266,  1100] loss: 0.563\n",
      "[266,  1200] loss: 0.610\n"
     ]
    },
    {
     "name": "stderr",
     "output_type": "stream",
     "text": [
      " 53%|█████▎    | 266/500 [19:06<17:41,  4.54s/it]"
     ]
    },
    {
     "name": "stdout",
     "output_type": "stream",
     "text": [
      "[267,   100] loss: 0.032\n",
      "[267,   200] loss: 0.069\n",
      "[267,   300] loss: 0.115\n",
      "[267,   400] loss: 0.171\n",
      "[267,   500] loss: 0.236\n",
      "[267,   600] loss: 0.294\n",
      "[267,   700] loss: 0.340\n",
      "[267,   800] loss: 0.386\n",
      "[267,   900] loss: 0.436\n",
      "[267,  1000] loss: 0.490\n",
      "[267,  1100] loss: 0.541\n",
      "[267,  1200] loss: 0.599\n"
     ]
    },
    {
     "name": "stderr",
     "output_type": "stream",
     "text": [
      " 53%|█████▎    | 267/500 [19:10<17:46,  4.58s/it]"
     ]
    },
    {
     "name": "stdout",
     "output_type": "stream",
     "text": [
      "[268,   100] loss: 0.051\n",
      "[268,   200] loss: 0.107\n",
      "[268,   300] loss: 0.152\n",
      "[268,   400] loss: 0.204\n",
      "[268,   500] loss: 0.263\n",
      "[268,   600] loss: 0.310\n",
      "[268,   700] loss: 0.359\n",
      "[268,   800] loss: 0.395\n",
      "[268,   900] loss: 0.450\n",
      "[268,  1000] loss: 0.517\n",
      "[268,  1100] loss: 0.568\n",
      "[268,  1200] loss: 0.610\n"
     ]
    },
    {
     "name": "stderr",
     "output_type": "stream",
     "text": [
      " 54%|█████▎    | 268/500 [19:14<16:53,  4.37s/it]"
     ]
    },
    {
     "name": "stdout",
     "output_type": "stream",
     "text": [
      "[269,   100] loss: 0.065\n",
      "[269,   200] loss: 0.128\n",
      "[269,   300] loss: 0.206\n",
      "[269,   400] loss: 0.259\n",
      "[269,   500] loss: 0.305\n",
      "[269,   600] loss: 0.375\n",
      "[269,   700] loss: 0.429\n",
      "[269,   800] loss: 0.475\n",
      "[269,   900] loss: 0.528\n",
      "[269,  1000] loss: 0.592\n",
      "[269,  1100] loss: 0.655\n",
      "[269,  1200] loss: 0.698\n"
     ]
    },
    {
     "name": "stderr",
     "output_type": "stream",
     "text": [
      " 54%|█████▍    | 269/500 [19:19<16:54,  4.39s/it]"
     ]
    },
    {
     "name": "stdout",
     "output_type": "stream",
     "text": [
      "[270,   100] loss: 0.048\n",
      "[270,   200] loss: 0.106\n",
      "[270,   300] loss: 0.156\n",
      "[270,   400] loss: 0.193\n",
      "[270,   500] loss: 0.261\n",
      "[270,   600] loss: 0.319\n",
      "[270,   700] loss: 0.375\n",
      "[270,   800] loss: 0.424\n",
      "[270,   900] loss: 0.475\n",
      "[270,  1000] loss: 0.538\n",
      "[270,  1100] loss: 0.606\n",
      "[270,  1200] loss: 0.660\n"
     ]
    },
    {
     "name": "stderr",
     "output_type": "stream",
     "text": [
      " 54%|█████▍    | 270/500 [19:23<16:50,  4.39s/it]"
     ]
    },
    {
     "name": "stdout",
     "output_type": "stream",
     "text": [
      "[271,   100] loss: 0.047\n",
      "[271,   200] loss: 0.093\n",
      "[271,   300] loss: 0.142\n",
      "[271,   400] loss: 0.205\n",
      "[271,   500] loss: 0.249\n",
      "[271,   600] loss: 0.300\n",
      "[271,   700] loss: 0.357\n",
      "[271,   800] loss: 0.400\n",
      "[271,   900] loss: 0.455\n",
      "[271,  1000] loss: 0.506\n",
      "[271,  1100] loss: 0.559\n",
      "[271,  1200] loss: 0.606\n"
     ]
    },
    {
     "name": "stderr",
     "output_type": "stream",
     "text": [
      " 54%|█████▍    | 271/500 [19:28<16:47,  4.40s/it]"
     ]
    },
    {
     "name": "stdout",
     "output_type": "stream",
     "text": [
      "[272,   100] loss: 0.049\n",
      "[272,   200] loss: 0.099\n",
      "[272,   300] loss: 0.173\n",
      "[272,   400] loss: 0.212\n",
      "[272,   500] loss: 0.262\n",
      "[272,   600] loss: 0.332\n",
      "[272,   700] loss: 0.377\n",
      "[272,   800] loss: 0.423\n",
      "[272,   900] loss: 0.482\n",
      "[272,  1000] loss: 0.534\n",
      "[272,  1100] loss: 0.585\n",
      "[272,  1200] loss: 0.628\n"
     ]
    },
    {
     "name": "stderr",
     "output_type": "stream",
     "text": [
      " 54%|█████▍    | 272/500 [19:32<16:33,  4.36s/it]"
     ]
    },
    {
     "name": "stdout",
     "output_type": "stream",
     "text": [
      "[273,   100] loss: 0.062\n",
      "[273,   200] loss: 0.108\n",
      "[273,   300] loss: 0.151\n",
      "[273,   400] loss: 0.215\n",
      "[273,   500] loss: 0.273\n",
      "[273,   600] loss: 0.323\n",
      "[273,   700] loss: 0.370\n",
      "[273,   800] loss: 0.432\n",
      "[273,   900] loss: 0.485\n",
      "[273,  1000] loss: 0.528\n",
      "[273,  1100] loss: 0.588\n",
      "[273,  1200] loss: 0.651\n"
     ]
    },
    {
     "name": "stderr",
     "output_type": "stream",
     "text": [
      " 55%|█████▍    | 273/500 [19:36<16:02,  4.24s/it]"
     ]
    },
    {
     "name": "stdout",
     "output_type": "stream",
     "text": [
      "[274,   100] loss: 0.055\n",
      "[274,   200] loss: 0.100\n",
      "[274,   300] loss: 0.141\n",
      "[274,   400] loss: 0.205\n",
      "[274,   500] loss: 0.253\n",
      "[274,   600] loss: 0.313\n",
      "[274,   700] loss: 0.350\n",
      "[274,   800] loss: 0.402\n",
      "[274,   900] loss: 0.433\n",
      "[274,  1000] loss: 0.478\n",
      "[274,  1100] loss: 0.529\n",
      "[274,  1200] loss: 0.584\n"
     ]
    },
    {
     "name": "stderr",
     "output_type": "stream",
     "text": [
      " 55%|█████▍    | 274/500 [19:40<15:47,  4.19s/it]"
     ]
    },
    {
     "name": "stdout",
     "output_type": "stream",
     "text": [
      "[275,   100] loss: 0.061\n",
      "[275,   200] loss: 0.123\n",
      "[275,   300] loss: 0.165\n",
      "[275,   400] loss: 0.197\n",
      "[275,   500] loss: 0.247\n",
      "[275,   600] loss: 0.287\n",
      "[275,   700] loss: 0.347\n",
      "[275,   800] loss: 0.398\n",
      "[275,   900] loss: 0.470\n",
      "[275,  1000] loss: 0.528\n",
      "[275,  1100] loss: 0.585\n",
      "[275,  1200] loss: 0.634\n"
     ]
    },
    {
     "name": "stderr",
     "output_type": "stream",
     "text": [
      " 55%|█████▌    | 275/500 [19:44<15:41,  4.19s/it]"
     ]
    },
    {
     "name": "stdout",
     "output_type": "stream",
     "text": [
      "[276,   100] loss: 0.050\n",
      "[276,   200] loss: 0.106\n",
      "[276,   300] loss: 0.171\n",
      "[276,   400] loss: 0.226\n",
      "[276,   500] loss: 0.286\n",
      "[276,   600] loss: 0.329\n",
      "[276,   700] loss: 0.379\n",
      "[276,   800] loss: 0.430\n",
      "[276,   900] loss: 0.473\n",
      "[276,  1000] loss: 0.519\n",
      "[276,  1100] loss: 0.571\n",
      "[276,  1200] loss: 0.607\n"
     ]
    },
    {
     "name": "stderr",
     "output_type": "stream",
     "text": [
      " 55%|█████▌    | 276/500 [19:48<14:54,  4.00s/it]"
     ]
    },
    {
     "name": "stdout",
     "output_type": "stream",
     "text": [
      "[277,   100] loss: 0.065\n",
      "[277,   200] loss: 0.116\n",
      "[277,   300] loss: 0.154\n",
      "[277,   400] loss: 0.191\n",
      "[277,   500] loss: 0.233\n",
      "[277,   600] loss: 0.293\n",
      "[277,   700] loss: 0.334\n",
      "[277,   800] loss: 0.382\n",
      "[277,   900] loss: 0.437\n",
      "[277,  1000] loss: 0.477\n",
      "[277,  1100] loss: 0.542\n",
      "[277,  1200] loss: 0.603\n"
     ]
    },
    {
     "name": "stderr",
     "output_type": "stream",
     "text": [
      " 55%|█████▌    | 277/500 [19:52<15:29,  4.17s/it]"
     ]
    },
    {
     "name": "stdout",
     "output_type": "stream",
     "text": [
      "[278,   100] loss: 0.068\n",
      "[278,   200] loss: 0.138\n",
      "[278,   300] loss: 0.188\n",
      "[278,   400] loss: 0.228\n",
      "[278,   500] loss: 0.277\n",
      "[278,   600] loss: 0.336\n",
      "[278,   700] loss: 0.383\n",
      "[278,   800] loss: 0.446\n",
      "[278,   900] loss: 0.499\n",
      "[278,  1000] loss: 0.541\n",
      "[278,  1100] loss: 0.599\n",
      "[278,  1200] loss: 0.664\n"
     ]
    },
    {
     "name": "stderr",
     "output_type": "stream",
     "text": [
      " 56%|█████▌    | 278/500 [19:56<15:21,  4.15s/it]"
     ]
    },
    {
     "name": "stdout",
     "output_type": "stream",
     "text": [
      "[279,   100] loss: 0.040\n",
      "[279,   200] loss: 0.094\n",
      "[279,   300] loss: 0.155\n",
      "[279,   400] loss: 0.234\n",
      "[279,   500] loss: 0.288\n",
      "[279,   600] loss: 0.334\n",
      "[279,   700] loss: 0.389\n",
      "[279,   800] loss: 0.438\n",
      "[279,   900] loss: 0.492\n",
      "[279,  1000] loss: 0.528\n",
      "[279,  1100] loss: 0.576\n",
      "[279,  1200] loss: 0.610\n"
     ]
    },
    {
     "name": "stderr",
     "output_type": "stream",
     "text": [
      " 56%|█████▌    | 279/500 [20:01<15:48,  4.29s/it]"
     ]
    },
    {
     "name": "stdout",
     "output_type": "stream",
     "text": [
      "[280,   100] loss: 0.049\n",
      "[280,   200] loss: 0.115\n",
      "[280,   300] loss: 0.163\n",
      "[280,   400] loss: 0.219\n",
      "[280,   500] loss: 0.287\n",
      "[280,   600] loss: 0.333\n",
      "[280,   700] loss: 0.394\n",
      "[280,   800] loss: 0.433\n",
      "[280,   900] loss: 0.507\n",
      "[280,  1000] loss: 0.551\n",
      "[280,  1100] loss: 0.605\n",
      "[280,  1200] loss: 0.669\n"
     ]
    },
    {
     "name": "stderr",
     "output_type": "stream",
     "text": [
      " 56%|█████▌    | 280/500 [20:05<15:37,  4.26s/it]"
     ]
    },
    {
     "name": "stdout",
     "output_type": "stream",
     "text": [
      "[281,   100] loss: 0.057\n",
      "[281,   200] loss: 0.109\n",
      "[281,   300] loss: 0.173\n",
      "[281,   400] loss: 0.235\n",
      "[281,   500] loss: 0.285\n",
      "[281,   600] loss: 0.350\n",
      "[281,   700] loss: 0.400\n",
      "[281,   800] loss: 0.435\n",
      "[281,   900] loss: 0.477\n",
      "[281,  1000] loss: 0.546\n",
      "[281,  1100] loss: 0.603\n",
      "[281,  1200] loss: 0.652\n"
     ]
    },
    {
     "name": "stderr",
     "output_type": "stream",
     "text": [
      " 56%|█████▌    | 281/500 [20:09<15:38,  4.28s/it]"
     ]
    },
    {
     "name": "stdout",
     "output_type": "stream",
     "text": [
      "[282,   100] loss: 0.053\n",
      "[282,   200] loss: 0.106\n",
      "[282,   300] loss: 0.160\n",
      "[282,   400] loss: 0.205\n",
      "[282,   500] loss: 0.262\n",
      "[282,   600] loss: 0.318\n",
      "[282,   700] loss: 0.349\n",
      "[282,   800] loss: 0.398\n",
      "[282,   900] loss: 0.446\n",
      "[282,  1000] loss: 0.486\n",
      "[282,  1100] loss: 0.545\n",
      "[282,  1200] loss: 0.595\n"
     ]
    },
    {
     "name": "stderr",
     "output_type": "stream",
     "text": [
      " 56%|█████▋    | 282/500 [20:14<15:39,  4.31s/it]"
     ]
    },
    {
     "name": "stdout",
     "output_type": "stream",
     "text": [
      "[283,   100] loss: 0.062\n",
      "[283,   200] loss: 0.106\n",
      "[283,   300] loss: 0.153\n",
      "[283,   400] loss: 0.193\n",
      "[283,   500] loss: 0.225\n",
      "[283,   600] loss: 0.280\n",
      "[283,   700] loss: 0.338\n",
      "[283,   800] loss: 0.410\n",
      "[283,   900] loss: 0.465\n",
      "[283,  1000] loss: 0.529\n",
      "[283,  1100] loss: 0.574\n",
      "[283,  1200] loss: 0.627\n"
     ]
    },
    {
     "name": "stderr",
     "output_type": "stream",
     "text": [
      " 57%|█████▋    | 283/500 [20:17<14:38,  4.05s/it]"
     ]
    },
    {
     "name": "stdout",
     "output_type": "stream",
     "text": [
      "[284,   100] loss: 0.037\n",
      "[284,   200] loss: 0.102\n",
      "[284,   300] loss: 0.154\n",
      "[284,   400] loss: 0.223\n",
      "[284,   500] loss: 0.277\n",
      "[284,   600] loss: 0.339\n",
      "[284,   700] loss: 0.394\n",
      "[284,   800] loss: 0.443\n",
      "[284,   900] loss: 0.501\n",
      "[284,  1000] loss: 0.537\n",
      "[284,  1100] loss: 0.585\n",
      "[284,  1200] loss: 0.632\n"
     ]
    },
    {
     "name": "stderr",
     "output_type": "stream",
     "text": [
      " 57%|█████▋    | 284/500 [20:22<15:15,  4.24s/it]"
     ]
    },
    {
     "name": "stdout",
     "output_type": "stream",
     "text": [
      "[285,   100] loss: 0.047\n",
      "[285,   200] loss: 0.085\n",
      "[285,   300] loss: 0.138\n",
      "[285,   400] loss: 0.183\n",
      "[285,   500] loss: 0.227\n",
      "[285,   600] loss: 0.280\n",
      "[285,   700] loss: 0.321\n",
      "[285,   800] loss: 0.384\n",
      "[285,   900] loss: 0.416\n",
      "[285,  1000] loss: 0.461\n",
      "[285,  1100] loss: 0.528\n",
      "[285,  1200] loss: 0.582\n"
     ]
    },
    {
     "name": "stderr",
     "output_type": "stream",
     "text": [
      " 57%|█████▋    | 285/500 [20:25<13:54,  3.88s/it]"
     ]
    },
    {
     "name": "stdout",
     "output_type": "stream",
     "text": [
      "[286,   100] loss: 0.054\n",
      "[286,   200] loss: 0.082\n",
      "[286,   300] loss: 0.119\n",
      "[286,   400] loss: 0.159\n",
      "[286,   500] loss: 0.199\n",
      "[286,   600] loss: 0.244\n",
      "[286,   700] loss: 0.295\n",
      "[286,   800] loss: 0.365\n",
      "[286,   900] loss: 0.405\n",
      "[286,  1000] loss: 0.462\n",
      "[286,  1100] loss: 0.529\n",
      "[286,  1200] loss: 0.569\n"
     ]
    },
    {
     "name": "stderr",
     "output_type": "stream",
     "text": [
      " 57%|█████▋    | 286/500 [20:29<13:46,  3.86s/it]"
     ]
    },
    {
     "name": "stdout",
     "output_type": "stream",
     "text": [
      "[287,   100] loss: 0.052\n",
      "[287,   200] loss: 0.112\n",
      "[287,   300] loss: 0.150\n",
      "[287,   400] loss: 0.198\n",
      "[287,   500] loss: 0.234\n",
      "[287,   600] loss: 0.276\n",
      "[287,   700] loss: 0.318\n",
      "[287,   800] loss: 0.373\n",
      "[287,   900] loss: 0.427\n",
      "[287,  1000] loss: 0.478\n",
      "[287,  1100] loss: 0.538\n",
      "[287,  1200] loss: 0.593\n"
     ]
    },
    {
     "name": "stderr",
     "output_type": "stream",
     "text": [
      " 57%|█████▋    | 287/500 [20:33<14:12,  4.00s/it]"
     ]
    },
    {
     "name": "stdout",
     "output_type": "stream",
     "text": [
      "[288,   100] loss: 0.048\n",
      "[288,   200] loss: 0.099\n",
      "[288,   300] loss: 0.166\n",
      "[288,   400] loss: 0.203\n",
      "[288,   500] loss: 0.252\n",
      "[288,   600] loss: 0.310\n",
      "[288,   700] loss: 0.378\n",
      "[288,   800] loss: 0.435\n",
      "[288,   900] loss: 0.511\n",
      "[288,  1000] loss: 0.565\n",
      "[288,  1100] loss: 0.620\n",
      "[288,  1200] loss: 0.666\n"
     ]
    },
    {
     "name": "stderr",
     "output_type": "stream",
     "text": [
      " 58%|█████▊    | 288/500 [20:37<13:53,  3.93s/it]"
     ]
    },
    {
     "name": "stdout",
     "output_type": "stream",
     "text": [
      "[289,   100] loss: 0.059\n",
      "[289,   200] loss: 0.125\n",
      "[289,   300] loss: 0.176\n",
      "[289,   400] loss: 0.232\n",
      "[289,   500] loss: 0.282\n",
      "[289,   600] loss: 0.333\n",
      "[289,   700] loss: 0.393\n",
      "[289,   800] loss: 0.435\n",
      "[289,   900] loss: 0.501\n",
      "[289,  1000] loss: 0.564\n",
      "[289,  1100] loss: 0.619\n"
     ]
    },
    {
     "name": "stderr",
     "output_type": "stream",
     "text": [
      " 58%|█████▊    | 289/500 [20:41<13:42,  3.90s/it]"
     ]
    },
    {
     "name": "stdout",
     "output_type": "stream",
     "text": [
      "[289,  1200] loss: 0.672\n",
      "[290,   100] loss: 0.061\n",
      "[290,   200] loss: 0.104\n",
      "[290,   300] loss: 0.164\n",
      "[290,   400] loss: 0.210\n",
      "[290,   500] loss: 0.268\n",
      "[290,   600] loss: 0.317\n",
      "[290,   700] loss: 0.353\n",
      "[290,   800] loss: 0.410\n",
      "[290,   900] loss: 0.459\n",
      "[290,  1000] loss: 0.511\n",
      "[290,  1100] loss: 0.558\n",
      "[290,  1200] loss: 0.620\n"
     ]
    },
    {
     "name": "stderr",
     "output_type": "stream",
     "text": [
      " 58%|█████▊    | 290/500 [20:46<14:41,  4.20s/it]"
     ]
    },
    {
     "name": "stdout",
     "output_type": "stream",
     "text": [
      "[291,   100] loss: 0.056\n",
      "[291,   200] loss: 0.105\n",
      "[291,   300] loss: 0.143\n",
      "[291,   400] loss: 0.209\n",
      "[291,   500] loss: 0.252\n",
      "[291,   600] loss: 0.311\n",
      "[291,   700] loss: 0.351\n",
      "[291,   800] loss: 0.398\n",
      "[291,   900] loss: 0.452\n",
      "[291,  1000] loss: 0.495\n",
      "[291,  1100] loss: 0.563\n",
      "[291,  1200] loss: 0.619\n"
     ]
    },
    {
     "name": "stderr",
     "output_type": "stream",
     "text": [
      " 58%|█████▊    | 291/500 [20:50<14:31,  4.17s/it]"
     ]
    },
    {
     "name": "stdout",
     "output_type": "stream",
     "text": [
      "[292,   100] loss: 0.053\n",
      "[292,   200] loss: 0.110\n",
      "[292,   300] loss: 0.158\n",
      "[292,   400] loss: 0.210\n",
      "[292,   500] loss: 0.280\n",
      "[292,   600] loss: 0.323\n",
      "[292,   700] loss: 0.360\n",
      "[292,   800] loss: 0.402\n",
      "[292,   900] loss: 0.459\n",
      "[292,  1000] loss: 0.502\n",
      "[292,  1100] loss: 0.549\n",
      "[292,  1200] loss: 0.592\n"
     ]
    },
    {
     "name": "stderr",
     "output_type": "stream",
     "text": [
      " 58%|█████▊    | 292/500 [20:55<15:18,  4.42s/it]"
     ]
    },
    {
     "name": "stdout",
     "output_type": "stream",
     "text": [
      "[293,   100] loss: 0.059\n",
      "[293,   200] loss: 0.110\n",
      "[293,   300] loss: 0.164\n",
      "[293,   400] loss: 0.200\n",
      "[293,   500] loss: 0.248\n",
      "[293,   600] loss: 0.305\n",
      "[293,   700] loss: 0.353\n",
      "[293,   800] loss: 0.390\n",
      "[293,   900] loss: 0.434\n",
      "[293,  1000] loss: 0.488\n",
      "[293,  1100] loss: 0.536\n",
      "[293,  1200] loss: 0.593\n"
     ]
    },
    {
     "name": "stderr",
     "output_type": "stream",
     "text": [
      " 59%|█████▊    | 293/500 [21:00<16:18,  4.73s/it]"
     ]
    },
    {
     "name": "stdout",
     "output_type": "stream",
     "text": [
      "[294,   100] loss: 0.046\n",
      "[294,   200] loss: 0.097\n",
      "[294,   300] loss: 0.143\n",
      "[294,   400] loss: 0.199\n",
      "[294,   500] loss: 0.249\n",
      "[294,   600] loss: 0.299\n",
      "[294,   700] loss: 0.352\n",
      "[294,   800] loss: 0.400\n",
      "[294,   900] loss: 0.437\n",
      "[294,  1000] loss: 0.481\n",
      "[294,  1100] loss: 0.539\n",
      "[294,  1200] loss: 0.585\n"
     ]
    },
    {
     "name": "stderr",
     "output_type": "stream",
     "text": [
      " 59%|█████▉    | 294/500 [21:04<15:24,  4.49s/it]"
     ]
    },
    {
     "name": "stdout",
     "output_type": "stream",
     "text": [
      "[295,   100] loss: 0.042\n",
      "[295,   200] loss: 0.086\n",
      "[295,   300] loss: 0.130\n",
      "[295,   400] loss: 0.177\n",
      "[295,   500] loss: 0.215\n",
      "[295,   600] loss: 0.263\n",
      "[295,   700] loss: 0.319\n",
      "[295,   800] loss: 0.370\n",
      "[295,   900] loss: 0.422\n",
      "[295,  1000] loss: 0.479\n",
      "[295,  1100] loss: 0.550\n",
      "[295,  1200] loss: 0.605\n"
     ]
    },
    {
     "name": "stderr",
     "output_type": "stream",
     "text": [
      " 59%|█████▉    | 295/500 [21:08<14:36,  4.28s/it]"
     ]
    },
    {
     "name": "stdout",
     "output_type": "stream",
     "text": [
      "[296,   100] loss: 0.063\n",
      "[296,   200] loss: 0.112\n",
      "[296,   300] loss: 0.153\n",
      "[296,   400] loss: 0.219\n",
      "[296,   500] loss: 0.275\n",
      "[296,   600] loss: 0.318\n",
      "[296,   700] loss: 0.362\n",
      "[296,   800] loss: 0.422\n",
      "[296,   900] loss: 0.480\n",
      "[296,  1000] loss: 0.526\n",
      "[296,  1100] loss: 0.567\n",
      "[296,  1200] loss: 0.606\n"
     ]
    },
    {
     "name": "stderr",
     "output_type": "stream",
     "text": [
      " 59%|█████▉    | 296/500 [21:13<15:16,  4.49s/it]"
     ]
    },
    {
     "name": "stdout",
     "output_type": "stream",
     "text": [
      "[297,   100] loss: 0.040\n",
      "[297,   200] loss: 0.098\n",
      "[297,   300] loss: 0.154\n",
      "[297,   400] loss: 0.202\n",
      "[297,   500] loss: 0.264\n",
      "[297,   600] loss: 0.306\n",
      "[297,   700] loss: 0.372\n",
      "[297,   800] loss: 0.418\n",
      "[297,   900] loss: 0.462\n",
      "[297,  1000] loss: 0.505\n",
      "[297,  1100] loss: 0.555\n",
      "[297,  1200] loss: 0.601\n"
     ]
    },
    {
     "name": "stderr",
     "output_type": "stream",
     "text": [
      " 59%|█████▉    | 297/500 [21:17<14:43,  4.35s/it]"
     ]
    },
    {
     "name": "stdout",
     "output_type": "stream",
     "text": [
      "[298,   100] loss: 0.051\n",
      "[298,   200] loss: 0.105\n",
      "[298,   300] loss: 0.168\n",
      "[298,   400] loss: 0.220\n",
      "[298,   500] loss: 0.267\n",
      "[298,   600] loss: 0.312\n",
      "[298,   700] loss: 0.361\n",
      "[298,   800] loss: 0.413\n",
      "[298,   900] loss: 0.470\n",
      "[298,  1000] loss: 0.513\n",
      "[298,  1100] loss: 0.578\n",
      "[298,  1200] loss: 0.623\n"
     ]
    },
    {
     "name": "stderr",
     "output_type": "stream",
     "text": [
      " 60%|█████▉    | 298/500 [21:21<14:33,  4.33s/it]"
     ]
    },
    {
     "name": "stdout",
     "output_type": "stream",
     "text": [
      "[299,   100] loss: 0.052\n",
      "[299,   200] loss: 0.098\n",
      "[299,   300] loss: 0.141\n",
      "[299,   400] loss: 0.191\n",
      "[299,   500] loss: 0.234\n",
      "[299,   600] loss: 0.287\n",
      "[299,   700] loss: 0.335\n",
      "[299,   800] loss: 0.378\n",
      "[299,   900] loss: 0.428\n",
      "[299,  1000] loss: 0.507\n",
      "[299,  1100] loss: 0.556\n",
      "[299,  1200] loss: 0.609\n"
     ]
    },
    {
     "name": "stderr",
     "output_type": "stream",
     "text": [
      " 60%|█████▉    | 299/500 [21:25<14:06,  4.21s/it]"
     ]
    },
    {
     "name": "stdout",
     "output_type": "stream",
     "text": [
      "[300,   100] loss: 0.053\n",
      "[300,   200] loss: 0.102\n",
      "[300,   300] loss: 0.164\n",
      "[300,   400] loss: 0.229\n",
      "[300,   500] loss: 0.285\n",
      "[300,   600] loss: 0.317\n",
      "[300,   700] loss: 0.376\n",
      "[300,   800] loss: 0.440\n",
      "[300,   900] loss: 0.496\n",
      "[300,  1000] loss: 0.542\n",
      "[300,  1100] loss: 0.597\n",
      "[300,  1200] loss: 0.653\n"
     ]
    },
    {
     "name": "stderr",
     "output_type": "stream",
     "text": [
      " 60%|██████    | 300/500 [21:29<13:46,  4.13s/it]"
     ]
    },
    {
     "name": "stdout",
     "output_type": "stream",
     "text": [
      "[301,   100] loss: 0.047\n",
      "[301,   200] loss: 0.106\n",
      "[301,   300] loss: 0.158\n",
      "[301,   400] loss: 0.213\n",
      "[301,   500] loss: 0.261\n",
      "[301,   600] loss: 0.290\n",
      "[301,   700] loss: 0.345\n",
      "[301,   800] loss: 0.405\n",
      "[301,   900] loss: 0.462\n",
      "[301,  1000] loss: 0.512\n",
      "[301,  1100] loss: 0.584\n",
      "[301,  1200] loss: 0.633\n"
     ]
    },
    {
     "name": "stderr",
     "output_type": "stream",
     "text": [
      " 60%|██████    | 301/500 [21:34<14:53,  4.49s/it]"
     ]
    },
    {
     "name": "stdout",
     "output_type": "stream",
     "text": [
      "[302,   100] loss: 0.058\n",
      "[302,   200] loss: 0.117\n",
      "[302,   300] loss: 0.158\n",
      "[302,   400] loss: 0.211\n",
      "[302,   500] loss: 0.252\n",
      "[302,   600] loss: 0.298\n",
      "[302,   700] loss: 0.338\n",
      "[302,   800] loss: 0.412\n",
      "[302,   900] loss: 0.455\n",
      "[302,  1000] loss: 0.495\n",
      "[302,  1100] loss: 0.529\n",
      "[302,  1200] loss: 0.576\n"
     ]
    },
    {
     "name": "stderr",
     "output_type": "stream",
     "text": [
      " 60%|██████    | 302/500 [21:40<15:40,  4.75s/it]"
     ]
    },
    {
     "name": "stdout",
     "output_type": "stream",
     "text": [
      "[303,   100] loss: 0.046\n",
      "[303,   200] loss: 0.110\n",
      "[303,   300] loss: 0.164\n",
      "[303,   400] loss: 0.207\n",
      "[303,   500] loss: 0.269\n",
      "[303,   600] loss: 0.315\n",
      "[303,   700] loss: 0.364\n",
      "[303,   800] loss: 0.421\n",
      "[303,   900] loss: 0.470\n",
      "[303,  1000] loss: 0.516\n",
      "[303,  1100] loss: 0.568\n",
      "[303,  1200] loss: 0.601\n"
     ]
    },
    {
     "name": "stderr",
     "output_type": "stream",
     "text": [
      " 61%|██████    | 303/500 [21:44<15:01,  4.57s/it]"
     ]
    },
    {
     "name": "stdout",
     "output_type": "stream",
     "text": [
      "[304,   100] loss: 0.048\n",
      "[304,   200] loss: 0.089\n",
      "[304,   300] loss: 0.140\n",
      "[304,   400] loss: 0.195\n",
      "[304,   500] loss: 0.245\n",
      "[304,   600] loss: 0.291\n",
      "[304,   700] loss: 0.326\n",
      "[304,   800] loss: 0.373\n",
      "[304,   900] loss: 0.431\n",
      "[304,  1000] loss: 0.473\n",
      "[304,  1100] loss: 0.531\n",
      "[304,  1200] loss: 0.583\n"
     ]
    },
    {
     "name": "stderr",
     "output_type": "stream",
     "text": [
      " 61%|██████    | 304/500 [21:49<15:53,  4.86s/it]"
     ]
    },
    {
     "name": "stdout",
     "output_type": "stream",
     "text": [
      "[305,   100] loss: 0.046\n",
      "[305,   200] loss: 0.091\n",
      "[305,   300] loss: 0.140\n",
      "[305,   400] loss: 0.190\n",
      "[305,   500] loss: 0.225\n",
      "[305,   600] loss: 0.266\n",
      "[305,   700] loss: 0.336\n",
      "[305,   800] loss: 0.399\n",
      "[305,   900] loss: 0.454\n",
      "[305,  1000] loss: 0.511\n",
      "[305,  1100] loss: 0.545\n",
      "[305,  1200] loss: 0.589\n"
     ]
    },
    {
     "name": "stderr",
     "output_type": "stream",
     "text": [
      " 61%|██████    | 305/500 [21:54<15:33,  4.79s/it]"
     ]
    },
    {
     "name": "stdout",
     "output_type": "stream",
     "text": [
      "[306,   100] loss: 0.051\n",
      "[306,   200] loss: 0.131\n",
      "[306,   300] loss: 0.182\n",
      "[306,   400] loss: 0.257\n",
      "[306,   500] loss: 0.307\n",
      "[306,   600] loss: 0.362\n",
      "[306,   700] loss: 0.408\n",
      "[306,   800] loss: 0.438\n",
      "[306,   900] loss: 0.494\n",
      "[306,  1000] loss: 0.550\n",
      "[306,  1100] loss: 0.591\n",
      "[306,  1200] loss: 0.649\n"
     ]
    },
    {
     "name": "stderr",
     "output_type": "stream",
     "text": [
      " 61%|██████    | 306/500 [21:58<14:52,  4.60s/it]"
     ]
    },
    {
     "name": "stdout",
     "output_type": "stream",
     "text": [
      "[307,   100] loss: 0.053\n",
      "[307,   200] loss: 0.096\n",
      "[307,   300] loss: 0.150\n",
      "[307,   400] loss: 0.207\n",
      "[307,   500] loss: 0.257\n",
      "[307,   600] loss: 0.310\n",
      "[307,   700] loss: 0.358\n",
      "[307,   800] loss: 0.409\n",
      "[307,   900] loss: 0.456\n",
      "[307,  1000] loss: 0.509\n",
      "[307,  1100] loss: 0.559\n",
      "[307,  1200] loss: 0.612\n"
     ]
    },
    {
     "name": "stderr",
     "output_type": "stream",
     "text": [
      " 61%|██████▏   | 307/500 [22:02<14:19,  4.45s/it]"
     ]
    },
    {
     "name": "stdout",
     "output_type": "stream",
     "text": [
      "[308,   100] loss: 0.050\n",
      "[308,   200] loss: 0.092\n",
      "[308,   300] loss: 0.136\n",
      "[308,   400] loss: 0.193\n",
      "[308,   500] loss: 0.240\n",
      "[308,   600] loss: 0.295\n",
      "[308,   700] loss: 0.348\n",
      "[308,   800] loss: 0.386\n",
      "[308,   900] loss: 0.446\n",
      "[308,  1000] loss: 0.517\n",
      "[308,  1100] loss: 0.584\n",
      "[308,  1200] loss: 0.631\n"
     ]
    },
    {
     "name": "stderr",
     "output_type": "stream",
     "text": [
      " 62%|██████▏   | 308/500 [22:07<14:00,  4.38s/it]"
     ]
    },
    {
     "name": "stdout",
     "output_type": "stream",
     "text": [
      "[309,   100] loss: 0.049\n",
      "[309,   200] loss: 0.095\n",
      "[309,   300] loss: 0.143\n",
      "[309,   400] loss: 0.206\n",
      "[309,   500] loss: 0.266\n",
      "[309,   600] loss: 0.318\n",
      "[309,   700] loss: 0.373\n",
      "[309,   800] loss: 0.427\n",
      "[309,   900] loss: 0.473\n",
      "[309,  1000] loss: 0.507\n",
      "[309,  1100] loss: 0.568\n",
      "[309,  1200] loss: 0.619\n"
     ]
    },
    {
     "name": "stderr",
     "output_type": "stream",
     "text": [
      " 62%|██████▏   | 309/500 [22:11<13:38,  4.29s/it]"
     ]
    },
    {
     "name": "stdout",
     "output_type": "stream",
     "text": [
      "[310,   100] loss: 0.047\n",
      "[310,   200] loss: 0.097\n",
      "[310,   300] loss: 0.139\n",
      "[310,   400] loss: 0.181\n",
      "[310,   500] loss: 0.216\n",
      "[310,   600] loss: 0.268\n",
      "[310,   700] loss: 0.328\n",
      "[310,   800] loss: 0.368\n",
      "[310,   900] loss: 0.443\n",
      "[310,  1000] loss: 0.511\n",
      "[310,  1100] loss: 0.550\n",
      "[310,  1200] loss: 0.584\n"
     ]
    },
    {
     "name": "stderr",
     "output_type": "stream",
     "text": [
      " 62%|██████▏   | 310/500 [22:14<13:09,  4.16s/it]"
     ]
    },
    {
     "name": "stdout",
     "output_type": "stream",
     "text": [
      "[311,   100] loss: 0.054\n",
      "[311,   200] loss: 0.118\n",
      "[311,   300] loss: 0.173\n",
      "[311,   400] loss: 0.240\n",
      "[311,   500] loss: 0.295\n",
      "[311,   600] loss: 0.352\n",
      "[311,   700] loss: 0.396\n",
      "[311,   800] loss: 0.434\n",
      "[311,   900] loss: 0.499\n",
      "[311,  1000] loss: 0.547\n",
      "[311,  1100] loss: 0.605\n",
      "[311,  1200] loss: 0.668\n"
     ]
    },
    {
     "name": "stderr",
     "output_type": "stream",
     "text": [
      " 62%|██████▏   | 311/500 [22:19<13:08,  4.17s/it]"
     ]
    },
    {
     "name": "stdout",
     "output_type": "stream",
     "text": [
      "[312,   100] loss: 0.050\n",
      "[312,   200] loss: 0.098\n",
      "[312,   300] loss: 0.147\n",
      "[312,   400] loss: 0.205\n",
      "[312,   500] loss: 0.245\n",
      "[312,   600] loss: 0.294\n",
      "[312,   700] loss: 0.343\n",
      "[312,   800] loss: 0.409\n",
      "[312,   900] loss: 0.454\n",
      "[312,  1000] loss: 0.510\n",
      "[312,  1100] loss: 0.552\n",
      "[312,  1200] loss: 0.601\n"
     ]
    },
    {
     "name": "stderr",
     "output_type": "stream",
     "text": [
      " 62%|██████▏   | 312/500 [22:24<14:13,  4.54s/it]"
     ]
    },
    {
     "name": "stdout",
     "output_type": "stream",
     "text": [
      "[313,   100] loss: 0.049\n",
      "[313,   200] loss: 0.091\n",
      "[313,   300] loss: 0.131\n",
      "[313,   400] loss: 0.192\n",
      "[313,   500] loss: 0.251\n",
      "[313,   600] loss: 0.299\n",
      "[313,   700] loss: 0.355\n",
      "[313,   800] loss: 0.409\n",
      "[313,   900] loss: 0.465\n",
      "[313,  1000] loss: 0.529\n",
      "[313,  1100] loss: 0.580\n",
      "[313,  1200] loss: 0.620\n"
     ]
    },
    {
     "name": "stderr",
     "output_type": "stream",
     "text": [
      " 63%|██████▎   | 313/500 [22:32<17:44,  5.69s/it]"
     ]
    },
    {
     "name": "stdout",
     "output_type": "stream",
     "text": [
      "[314,   100] loss: 0.052\n",
      "[314,   200] loss: 0.107\n",
      "[314,   300] loss: 0.150\n",
      "[314,   400] loss: 0.201\n",
      "[314,   500] loss: 0.248\n",
      "[314,   600] loss: 0.309\n",
      "[314,   700] loss: 0.357\n",
      "[314,   800] loss: 0.408\n",
      "[314,   900] loss: 0.467\n",
      "[314,  1000] loss: 0.535\n",
      "[314,  1100] loss: 0.592\n",
      "[314,  1200] loss: 0.663\n"
     ]
    },
    {
     "name": "stderr",
     "output_type": "stream",
     "text": [
      " 63%|██████▎   | 314/500 [22:37<16:22,  5.28s/it]"
     ]
    },
    {
     "name": "stdout",
     "output_type": "stream",
     "text": [
      "[315,   100] loss: 0.052\n",
      "[315,   200] loss: 0.125\n",
      "[315,   300] loss: 0.186\n",
      "[315,   400] loss: 0.237\n",
      "[315,   500] loss: 0.286\n",
      "[315,   600] loss: 0.336\n",
      "[315,   700] loss: 0.391\n",
      "[315,   800] loss: 0.449\n",
      "[315,   900] loss: 0.515\n",
      "[315,  1000] loss: 0.552\n",
      "[315,  1100] loss: 0.613\n",
      "[315,  1200] loss: 0.656\n"
     ]
    },
    {
     "name": "stderr",
     "output_type": "stream",
     "text": [
      " 63%|██████▎   | 315/500 [22:41<15:09,  4.92s/it]"
     ]
    },
    {
     "name": "stdout",
     "output_type": "stream",
     "text": [
      "[316,   100] loss: 0.058\n",
      "[316,   200] loss: 0.102\n",
      "[316,   300] loss: 0.163\n",
      "[316,   400] loss: 0.197\n",
      "[316,   500] loss: 0.245\n",
      "[316,   600] loss: 0.283\n",
      "[316,   700] loss: 0.352\n",
      "[316,   800] loss: 0.406\n",
      "[316,   900] loss: 0.480\n",
      "[316,  1000] loss: 0.528\n",
      "[316,  1100] loss: 0.591\n",
      "[316,  1200] loss: 0.641\n"
     ]
    },
    {
     "name": "stderr",
     "output_type": "stream",
     "text": [
      " 63%|██████▎   | 316/500 [22:45<14:51,  4.84s/it]"
     ]
    },
    {
     "name": "stdout",
     "output_type": "stream",
     "text": [
      "[317,   100] loss: 0.057\n",
      "[317,   200] loss: 0.118\n",
      "[317,   300] loss: 0.163\n",
      "[317,   400] loss: 0.225\n",
      "[317,   500] loss: 0.282\n",
      "[317,   600] loss: 0.326\n",
      "[317,   700] loss: 0.380\n",
      "[317,   800] loss: 0.442\n",
      "[317,   900] loss: 0.485\n",
      "[317,  1000] loss: 0.551\n",
      "[317,  1100] loss: 0.610\n",
      "[317,  1200] loss: 0.671\n"
     ]
    },
    {
     "name": "stderr",
     "output_type": "stream",
     "text": [
      " 63%|██████▎   | 317/500 [22:51<15:12,  4.99s/it]"
     ]
    },
    {
     "name": "stdout",
     "output_type": "stream",
     "text": [
      "[318,   100] loss: 0.042\n",
      "[318,   200] loss: 0.095\n",
      "[318,   300] loss: 0.153\n",
      "[318,   400] loss: 0.220\n",
      "[318,   500] loss: 0.275\n",
      "[318,   600] loss: 0.334\n",
      "[318,   700] loss: 0.386\n",
      "[318,   800] loss: 0.455\n",
      "[318,   900] loss: 0.498\n",
      "[318,  1000] loss: 0.540\n",
      "[318,  1100] loss: 0.595\n",
      "[318,  1200] loss: 0.658\n"
     ]
    },
    {
     "name": "stderr",
     "output_type": "stream",
     "text": [
      " 64%|██████▎   | 318/500 [22:57<16:26,  5.42s/it]"
     ]
    },
    {
     "name": "stdout",
     "output_type": "stream",
     "text": [
      "[319,   100] loss: 0.052\n",
      "[319,   200] loss: 0.105\n",
      "[319,   300] loss: 0.146\n",
      "[319,   400] loss: 0.199\n",
      "[319,   500] loss: 0.243\n",
      "[319,   600] loss: 0.288\n",
      "[319,   700] loss: 0.353\n",
      "[319,   800] loss: 0.414\n",
      "[319,   900] loss: 0.461\n",
      "[319,  1000] loss: 0.508\n",
      "[319,  1100] loss: 0.565\n",
      "[319,  1200] loss: 0.610\n"
     ]
    },
    {
     "name": "stderr",
     "output_type": "stream",
     "text": [
      " 64%|██████▍   | 319/500 [23:12<24:31,  8.13s/it]"
     ]
    },
    {
     "name": "stdout",
     "output_type": "stream",
     "text": [
      "[320,   100] loss: 0.056\n",
      "[320,   200] loss: 0.110\n",
      "[320,   300] loss: 0.162\n",
      "[320,   400] loss: 0.215\n",
      "[320,   500] loss: 0.281\n",
      "[320,   600] loss: 0.340\n",
      "[320,   700] loss: 0.407\n",
      "[320,   800] loss: 0.471\n",
      "[320,   900] loss: 0.524\n",
      "[320,  1000] loss: 0.573\n",
      "[320,  1100] loss: 0.626\n",
      "[320,  1200] loss: 0.663\n"
     ]
    },
    {
     "name": "stderr",
     "output_type": "stream",
     "text": [
      " 64%|██████▍   | 320/500 [23:21<25:49,  8.61s/it]"
     ]
    },
    {
     "name": "stdout",
     "output_type": "stream",
     "text": [
      "[321,   100] loss: 0.054\n",
      "[321,   200] loss: 0.087\n",
      "[321,   300] loss: 0.145\n",
      "[321,   400] loss: 0.187\n",
      "[321,   500] loss: 0.250\n",
      "[321,   600] loss: 0.292\n",
      "[321,   700] loss: 0.351\n",
      "[321,   800] loss: 0.403\n",
      "[321,   900] loss: 0.441\n",
      "[321,  1000] loss: 0.487\n",
      "[321,  1100] loss: 0.542\n",
      "[321,  1200] loss: 0.608\n"
     ]
    },
    {
     "name": "stderr",
     "output_type": "stream",
     "text": [
      " 64%|██████▍   | 321/500 [23:28<23:30,  7.88s/it]"
     ]
    },
    {
     "name": "stdout",
     "output_type": "stream",
     "text": [
      "[322,   100] loss: 0.040\n",
      "[322,   200] loss: 0.091\n",
      "[322,   300] loss: 0.135\n",
      "[322,   400] loss: 0.179\n",
      "[322,   500] loss: 0.225\n",
      "[322,   600] loss: 0.283\n",
      "[322,   700] loss: 0.328\n",
      "[322,   800] loss: 0.392\n",
      "[322,   900] loss: 0.447\n",
      "[322,  1000] loss: 0.481\n",
      "[322,  1100] loss: 0.527\n",
      "[322,  1200] loss: 0.591\n"
     ]
    },
    {
     "name": "stderr",
     "output_type": "stream",
     "text": [
      " 64%|██████▍   | 322/500 [23:33<21:23,  7.21s/it]"
     ]
    },
    {
     "name": "stdout",
     "output_type": "stream",
     "text": [
      "[323,   100] loss: 0.056\n",
      "[323,   200] loss: 0.116\n",
      "[323,   300] loss: 0.154\n",
      "[323,   400] loss: 0.212\n",
      "[323,   500] loss: 0.255\n",
      "[323,   600] loss: 0.311\n",
      "[323,   700] loss: 0.370\n",
      "[323,   800] loss: 0.419\n",
      "[323,   900] loss: 0.472\n",
      "[323,  1000] loss: 0.513\n",
      "[323,  1100] loss: 0.571\n",
      "[323,  1200] loss: 0.624\n"
     ]
    },
    {
     "name": "stderr",
     "output_type": "stream",
     "text": [
      " 65%|██████▍   | 323/500 [23:40<20:30,  6.95s/it]"
     ]
    },
    {
     "name": "stdout",
     "output_type": "stream",
     "text": [
      "[324,   100] loss: 0.050\n",
      "[324,   200] loss: 0.090\n",
      "[324,   300] loss: 0.140\n",
      "[324,   400] loss: 0.201\n",
      "[324,   500] loss: 0.274\n",
      "[324,   600] loss: 0.329\n",
      "[324,   700] loss: 0.371\n",
      "[324,   800] loss: 0.414\n",
      "[324,   900] loss: 0.456\n",
      "[324,  1000] loss: 0.504\n",
      "[324,  1100] loss: 0.549\n",
      "[324,  1200] loss: 0.612\n"
     ]
    },
    {
     "name": "stderr",
     "output_type": "stream",
     "text": [
      " 65%|██████▍   | 324/500 [23:45<18:38,  6.36s/it]"
     ]
    },
    {
     "name": "stdout",
     "output_type": "stream",
     "text": [
      "[325,   100] loss: 0.054\n",
      "[325,   200] loss: 0.104\n",
      "[325,   300] loss: 0.150\n",
      "[325,   400] loss: 0.212\n",
      "[325,   500] loss: 0.262\n",
      "[325,   600] loss: 0.318\n",
      "[325,   700] loss: 0.369\n",
      "[325,   800] loss: 0.420\n",
      "[325,   900] loss: 0.464\n",
      "[325,  1000] loss: 0.547\n",
      "[325,  1100] loss: 0.622\n",
      "[325,  1200] loss: 0.667\n"
     ]
    },
    {
     "name": "stderr",
     "output_type": "stream",
     "text": [
      " 65%|██████▌   | 325/500 [23:50<17:24,  5.97s/it]"
     ]
    },
    {
     "name": "stdout",
     "output_type": "stream",
     "text": [
      "[326,   100] loss: 0.062\n",
      "[326,   200] loss: 0.111\n",
      "[326,   300] loss: 0.173\n",
      "[326,   400] loss: 0.220\n",
      "[326,   500] loss: 0.276\n",
      "[326,   600] loss: 0.323\n",
      "[326,   700] loss: 0.378\n",
      "[326,   800] loss: 0.444\n",
      "[326,   900] loss: 0.488\n",
      "[326,  1000] loss: 0.559\n",
      "[326,  1100] loss: 0.595\n"
     ]
    },
    {
     "name": "stderr",
     "output_type": "stream",
     "text": [
      " 65%|██████▌   | 326/500 [23:53<15:25,  5.32s/it]"
     ]
    },
    {
     "name": "stdout",
     "output_type": "stream",
     "text": [
      "[326,  1200] loss: 0.650\n",
      "[327,   100] loss: 0.057\n",
      "[327,   200] loss: 0.097\n",
      "[327,   300] loss: 0.143\n",
      "[327,   400] loss: 0.206\n",
      "[327,   500] loss: 0.256\n",
      "[327,   600] loss: 0.303\n",
      "[327,   700] loss: 0.345\n",
      "[327,   800] loss: 0.399\n",
      "[327,   900] loss: 0.459\n",
      "[327,  1000] loss: 0.500\n",
      "[327,  1100] loss: 0.557\n",
      "[327,  1200] loss: 0.602\n"
     ]
    },
    {
     "name": "stderr",
     "output_type": "stream",
     "text": [
      " 65%|██████▌   | 327/500 [23:57<13:35,  4.71s/it]"
     ]
    },
    {
     "name": "stdout",
     "output_type": "stream",
     "text": [
      "[328,   100] loss: 0.047\n",
      "[328,   200] loss: 0.088\n",
      "[328,   300] loss: 0.136\n",
      "[328,   400] loss: 0.190\n",
      "[328,   500] loss: 0.232\n",
      "[328,   600] loss: 0.293\n",
      "[328,   700] loss: 0.353\n",
      "[328,   800] loss: 0.402\n",
      "[328,   900] loss: 0.452\n",
      "[328,  1000] loss: 0.495\n",
      "[328,  1100] loss: 0.546\n",
      "[328,  1200] loss: 0.599\n"
     ]
    },
    {
     "name": "stderr",
     "output_type": "stream",
     "text": [
      " 66%|██████▌   | 328/500 [24:01<12:46,  4.46s/it]"
     ]
    },
    {
     "name": "stdout",
     "output_type": "stream",
     "text": [
      "[329,   100] loss: 0.037\n",
      "[329,   200] loss: 0.081\n",
      "[329,   300] loss: 0.135\n",
      "[329,   400] loss: 0.189\n",
      "[329,   500] loss: 0.236\n",
      "[329,   600] loss: 0.296\n",
      "[329,   700] loss: 0.334\n",
      "[329,   800] loss: 0.394\n",
      "[329,   900] loss: 0.444\n",
      "[329,  1000] loss: 0.503\n",
      "[329,  1100] loss: 0.557\n"
     ]
    },
    {
     "name": "stderr",
     "output_type": "stream",
     "text": [
      " 66%|██████▌   | 329/500 [24:05<12:27,  4.37s/it]"
     ]
    },
    {
     "name": "stdout",
     "output_type": "stream",
     "text": [
      "[329,  1200] loss: 0.612\n",
      "[330,   100] loss: 0.045\n",
      "[330,   200] loss: 0.103\n",
      "[330,   300] loss: 0.150\n",
      "[330,   400] loss: 0.203\n",
      "[330,   500] loss: 0.252\n",
      "[330,   600] loss: 0.298\n",
      "[330,   700] loss: 0.334\n",
      "[330,   800] loss: 0.370\n",
      "[330,   900] loss: 0.430\n",
      "[330,  1000] loss: 0.474\n",
      "[330,  1100] loss: 0.535\n",
      "[330,  1200] loss: 0.581\n"
     ]
    },
    {
     "name": "stderr",
     "output_type": "stream",
     "text": [
      " 66%|██████▌   | 330/500 [24:08<11:49,  4.17s/it]"
     ]
    },
    {
     "name": "stdout",
     "output_type": "stream",
     "text": [
      "[331,   100] loss: 0.047\n",
      "[331,   200] loss: 0.097\n",
      "[331,   300] loss: 0.142\n",
      "[331,   400] loss: 0.213\n",
      "[331,   500] loss: 0.255\n",
      "[331,   600] loss: 0.309\n",
      "[331,   700] loss: 0.345\n",
      "[331,   800] loss: 0.384\n",
      "[331,   900] loss: 0.449\n",
      "[331,  1000] loss: 0.488\n",
      "[331,  1100] loss: 0.548\n",
      "[331,  1200] loss: 0.593\n"
     ]
    },
    {
     "name": "stderr",
     "output_type": "stream",
     "text": [
      " 66%|██████▌   | 331/500 [24:13<12:06,  4.30s/it]"
     ]
    },
    {
     "name": "stdout",
     "output_type": "stream",
     "text": [
      "[332,   100] loss: 0.043\n",
      "[332,   200] loss: 0.094\n",
      "[332,   300] loss: 0.149\n",
      "[332,   400] loss: 0.191\n",
      "[332,   500] loss: 0.248\n",
      "[332,   600] loss: 0.300\n",
      "[332,   700] loss: 0.346\n",
      "[332,   800] loss: 0.392\n",
      "[332,   900] loss: 0.448\n",
      "[332,  1000] loss: 0.500\n",
      "[332,  1100] loss: 0.542\n"
     ]
    },
    {
     "name": "stderr",
     "output_type": "stream",
     "text": [
      " 66%|██████▋   | 332/500 [24:17<11:40,  4.17s/it]"
     ]
    },
    {
     "name": "stdout",
     "output_type": "stream",
     "text": [
      "[332,  1200] loss: 0.605\n",
      "[333,   100] loss: 0.052\n",
      "[333,   200] loss: 0.110\n",
      "[333,   300] loss: 0.169\n",
      "[333,   400] loss: 0.218\n",
      "[333,   500] loss: 0.261\n",
      "[333,   600] loss: 0.313\n",
      "[333,   700] loss: 0.347\n",
      "[333,   800] loss: 0.400\n",
      "[333,   900] loss: 0.439\n",
      "[333,  1000] loss: 0.491\n",
      "[333,  1100] loss: 0.526\n",
      "[333,  1200] loss: 0.571\n"
     ]
    },
    {
     "name": "stderr",
     "output_type": "stream",
     "text": [
      " 67%|██████▋   | 333/500 [24:20<10:36,  3.81s/it]"
     ]
    },
    {
     "name": "stdout",
     "output_type": "stream",
     "text": [
      "[334,   100] loss: 0.041\n",
      "[334,   200] loss: 0.079\n",
      "[334,   300] loss: 0.139\n",
      "[334,   400] loss: 0.195\n",
      "[334,   500] loss: 0.261\n",
      "[334,   600] loss: 0.309\n",
      "[334,   700] loss: 0.348\n",
      "[334,   800] loss: 0.399\n",
      "[334,   900] loss: 0.477\n",
      "[334,  1000] loss: 0.522\n",
      "[334,  1100] loss: 0.581\n"
     ]
    },
    {
     "name": "stderr",
     "output_type": "stream",
     "text": [
      " 67%|██████▋   | 334/500 [24:23<10:12,  3.69s/it]"
     ]
    },
    {
     "name": "stdout",
     "output_type": "stream",
     "text": [
      "[334,  1200] loss: 0.620\n",
      "[335,   100] loss: 0.049\n",
      "[335,   200] loss: 0.102\n",
      "[335,   300] loss: 0.147\n",
      "[335,   400] loss: 0.202\n",
      "[335,   500] loss: 0.249\n",
      "[335,   600] loss: 0.307\n",
      "[335,   700] loss: 0.366\n",
      "[335,   800] loss: 0.417\n",
      "[335,   900] loss: 0.474\n",
      "[335,  1000] loss: 0.529\n",
      "[335,  1100] loss: 0.580\n",
      "[335,  1200] loss: 0.631\n"
     ]
    },
    {
     "name": "stderr",
     "output_type": "stream",
     "text": [
      " 67%|██████▋   | 335/500 [24:28<10:49,  3.94s/it]"
     ]
    },
    {
     "name": "stdout",
     "output_type": "stream",
     "text": [
      "[336,   100] loss: 0.041\n",
      "[336,   200] loss: 0.108\n",
      "[336,   300] loss: 0.167\n",
      "[336,   400] loss: 0.217\n",
      "[336,   500] loss: 0.259\n",
      "[336,   600] loss: 0.333\n",
      "[336,   700] loss: 0.382\n",
      "[336,   800] loss: 0.421\n",
      "[336,   900] loss: 0.473\n",
      "[336,  1000] loss: 0.512\n",
      "[336,  1100] loss: 0.566\n"
     ]
    },
    {
     "name": "stderr",
     "output_type": "stream",
     "text": [
      " 67%|██████▋   | 336/500 [24:32<10:32,  3.86s/it]"
     ]
    },
    {
     "name": "stdout",
     "output_type": "stream",
     "text": [
      "[336,  1200] loss: 0.610\n",
      "[337,   100] loss: 0.057\n",
      "[337,   200] loss: 0.098\n",
      "[337,   300] loss: 0.156\n",
      "[337,   400] loss: 0.203\n",
      "[337,   500] loss: 0.237\n",
      "[337,   600] loss: 0.289\n",
      "[337,   700] loss: 0.343\n",
      "[337,   800] loss: 0.383\n",
      "[337,   900] loss: 0.445\n",
      "[337,  1000] loss: 0.489\n",
      "[337,  1100] loss: 0.534\n",
      "[337,  1200] loss: 0.603\n"
     ]
    },
    {
     "name": "stderr",
     "output_type": "stream",
     "text": [
      " 67%|██████▋   | 337/500 [24:37<11:36,  4.27s/it]"
     ]
    },
    {
     "name": "stdout",
     "output_type": "stream",
     "text": [
      "[338,   100] loss: 0.053\n",
      "[338,   200] loss: 0.116\n",
      "[338,   300] loss: 0.174\n",
      "[338,   400] loss: 0.222\n",
      "[338,   500] loss: 0.286\n",
      "[338,   600] loss: 0.342\n",
      "[338,   700] loss: 0.389\n",
      "[338,   800] loss: 0.440\n",
      "[338,   900] loss: 0.490\n",
      "[338,  1000] loss: 0.535\n",
      "[338,  1100] loss: 0.597\n",
      "[338,  1200] loss: 0.639\n"
     ]
    },
    {
     "name": "stderr",
     "output_type": "stream",
     "text": [
      " 68%|██████▊   | 338/500 [24:41<11:33,  4.28s/it]"
     ]
    },
    {
     "name": "stdout",
     "output_type": "stream",
     "text": [
      "[339,   100] loss: 0.044\n",
      "[339,   200] loss: 0.095\n",
      "[339,   300] loss: 0.158\n",
      "[339,   400] loss: 0.207\n",
      "[339,   500] loss: 0.246\n",
      "[339,   600] loss: 0.303\n",
      "[339,   700] loss: 0.356\n",
      "[339,   800] loss: 0.395\n",
      "[339,   900] loss: 0.450\n",
      "[339,  1000] loss: 0.497\n",
      "[339,  1100] loss: 0.549\n",
      "[339,  1200] loss: 0.594\n"
     ]
    },
    {
     "name": "stderr",
     "output_type": "stream",
     "text": [
      " 68%|██████▊   | 339/500 [24:44<10:48,  4.03s/it]"
     ]
    },
    {
     "name": "stdout",
     "output_type": "stream",
     "text": [
      "[340,   100] loss: 0.056\n",
      "[340,   200] loss: 0.114\n",
      "[340,   300] loss: 0.170\n",
      "[340,   400] loss: 0.215\n",
      "[340,   500] loss: 0.267\n",
      "[340,   600] loss: 0.309\n",
      "[340,   700] loss: 0.364\n",
      "[340,   800] loss: 0.402\n",
      "[340,   900] loss: 0.463\n",
      "[340,  1000] loss: 0.527\n",
      "[340,  1100] loss: 0.576\n",
      "[340,  1200] loss: 0.619\n"
     ]
    },
    {
     "name": "stderr",
     "output_type": "stream",
     "text": [
      " 68%|██████▊   | 340/500 [24:50<11:50,  4.44s/it]"
     ]
    },
    {
     "name": "stdout",
     "output_type": "stream",
     "text": [
      "[341,   100] loss: 0.048\n",
      "[341,   200] loss: 0.097\n",
      "[341,   300] loss: 0.144\n",
      "[341,   400] loss: 0.196\n",
      "[341,   500] loss: 0.231\n",
      "[341,   600] loss: 0.285\n",
      "[341,   700] loss: 0.332\n",
      "[341,   800] loss: 0.391\n",
      "[341,   900] loss: 0.440\n",
      "[341,  1000] loss: 0.481\n",
      "[341,  1100] loss: 0.522\n",
      "[341,  1200] loss: 0.561\n"
     ]
    },
    {
     "name": "stderr",
     "output_type": "stream",
     "text": [
      " 68%|██████▊   | 341/500 [24:57<13:30,  5.10s/it]"
     ]
    },
    {
     "name": "stdout",
     "output_type": "stream",
     "text": [
      "[342,   100] loss: 0.061\n",
      "[342,   200] loss: 0.109\n",
      "[342,   300] loss: 0.168\n",
      "[342,   400] loss: 0.216\n",
      "[342,   500] loss: 0.281\n",
      "[342,   600] loss: 0.323\n",
      "[342,   700] loss: 0.388\n",
      "[342,   800] loss: 0.432\n",
      "[342,   900] loss: 0.483\n",
      "[342,  1000] loss: 0.535\n",
      "[342,  1100] loss: 0.576\n",
      "[342,  1200] loss: 0.611\n"
     ]
    },
    {
     "name": "stderr",
     "output_type": "stream",
     "text": [
      " 68%|██████▊   | 342/500 [25:00<11:56,  4.54s/it]"
     ]
    },
    {
     "name": "stdout",
     "output_type": "stream",
     "text": [
      "[343,   100] loss: 0.046\n",
      "[343,   200] loss: 0.089\n",
      "[343,   300] loss: 0.140\n",
      "[343,   400] loss: 0.182\n",
      "[343,   500] loss: 0.224\n",
      "[343,   600] loss: 0.269\n",
      "[343,   700] loss: 0.322\n",
      "[343,   800] loss: 0.358\n",
      "[343,   900] loss: 0.398\n",
      "[343,  1000] loss: 0.445\n",
      "[343,  1100] loss: 0.495\n",
      "[343,  1200] loss: 0.549\n"
     ]
    },
    {
     "name": "stderr",
     "output_type": "stream",
     "text": [
      " 69%|██████▊   | 343/500 [25:03<11:06,  4.24s/it]"
     ]
    },
    {
     "name": "stdout",
     "output_type": "stream",
     "text": [
      "[344,   100] loss: 0.045\n",
      "[344,   200] loss: 0.086\n",
      "[344,   300] loss: 0.147\n",
      "[344,   400] loss: 0.195\n",
      "[344,   500] loss: 0.242\n",
      "[344,   600] loss: 0.296\n",
      "[344,   700] loss: 0.361\n",
      "[344,   800] loss: 0.409\n",
      "[344,   900] loss: 0.459\n",
      "[344,  1000] loss: 0.522\n",
      "[344,  1100] loss: 0.569\n",
      "[344,  1200] loss: 0.619\n"
     ]
    },
    {
     "name": "stderr",
     "output_type": "stream",
     "text": [
      " 69%|██████▉   | 344/500 [25:07<10:47,  4.15s/it]"
     ]
    },
    {
     "name": "stdout",
     "output_type": "stream",
     "text": [
      "[345,   100] loss: 0.045\n",
      "[345,   200] loss: 0.083\n",
      "[345,   300] loss: 0.118\n",
      "[345,   400] loss: 0.180\n",
      "[345,   500] loss: 0.225\n",
      "[345,   600] loss: 0.274\n",
      "[345,   700] loss: 0.326\n",
      "[345,   800] loss: 0.393\n",
      "[345,   900] loss: 0.447\n",
      "[345,  1000] loss: 0.506\n",
      "[345,  1100] loss: 0.537\n",
      "[345,  1200] loss: 0.589\n"
     ]
    },
    {
     "name": "stderr",
     "output_type": "stream",
     "text": [
      " 69%|██████▉   | 345/500 [25:10<09:47,  3.79s/it]"
     ]
    },
    {
     "name": "stdout",
     "output_type": "stream",
     "text": [
      "[346,   100] loss: 0.046\n",
      "[346,   200] loss: 0.098\n",
      "[346,   300] loss: 0.132\n",
      "[346,   400] loss: 0.193\n",
      "[346,   500] loss: 0.248\n",
      "[346,   600] loss: 0.291\n",
      "[346,   700] loss: 0.337\n",
      "[346,   800] loss: 0.389\n",
      "[346,   900] loss: 0.439\n",
      "[346,  1000] loss: 0.527\n",
      "[346,  1100] loss: 0.592\n",
      "[346,  1200] loss: 0.643\n"
     ]
    },
    {
     "name": "stderr",
     "output_type": "stream",
     "text": [
      " 69%|██████▉   | 346/500 [25:15<10:14,  3.99s/it]"
     ]
    },
    {
     "name": "stdout",
     "output_type": "stream",
     "text": [
      "[347,   100] loss: 0.057\n",
      "[347,   200] loss: 0.111\n",
      "[347,   300] loss: 0.179\n",
      "[347,   400] loss: 0.233\n",
      "[347,   500] loss: 0.293\n",
      "[347,   600] loss: 0.336\n",
      "[347,   700] loss: 0.381\n",
      "[347,   800] loss: 0.440\n",
      "[347,   900] loss: 0.483\n",
      "[347,  1000] loss: 0.549\n",
      "[347,  1100] loss: 0.593\n",
      "[347,  1200] loss: 0.637\n"
     ]
    },
    {
     "name": "stderr",
     "output_type": "stream",
     "text": [
      " 69%|██████▉   | 347/500 [25:19<10:06,  3.97s/it]"
     ]
    },
    {
     "name": "stdout",
     "output_type": "stream",
     "text": [
      "[348,   100] loss: 0.047\n",
      "[348,   200] loss: 0.089\n",
      "[348,   300] loss: 0.139\n",
      "[348,   400] loss: 0.185\n",
      "[348,   500] loss: 0.252\n",
      "[348,   600] loss: 0.305\n",
      "[348,   700] loss: 0.352\n",
      "[348,   800] loss: 0.400\n",
      "[348,   900] loss: 0.457\n",
      "[348,  1000] loss: 0.510\n",
      "[348,  1100] loss: 0.582\n",
      "[348,  1200] loss: 0.630\n"
     ]
    },
    {
     "name": "stderr",
     "output_type": "stream",
     "text": [
      " 70%|██████▉   | 348/500 [25:22<09:26,  3.73s/it]"
     ]
    },
    {
     "name": "stdout",
     "output_type": "stream",
     "text": [
      "[349,   100] loss: 0.055\n",
      "[349,   200] loss: 0.115\n",
      "[349,   300] loss: 0.159\n",
      "[349,   400] loss: 0.195\n",
      "[349,   500] loss: 0.247\n",
      "[349,   600] loss: 0.292\n",
      "[349,   700] loss: 0.334\n",
      "[349,   800] loss: 0.391\n",
      "[349,   900] loss: 0.438\n",
      "[349,  1000] loss: 0.491\n",
      "[349,  1100] loss: 0.549\n",
      "[349,  1200] loss: 0.619\n"
     ]
    },
    {
     "name": "stderr",
     "output_type": "stream",
     "text": [
      " 70%|██████▉   | 349/500 [25:25<09:05,  3.61s/it]"
     ]
    },
    {
     "name": "stdout",
     "output_type": "stream",
     "text": [
      "[350,   100] loss: 0.062\n",
      "[350,   200] loss: 0.129\n",
      "[350,   300] loss: 0.164\n",
      "[350,   400] loss: 0.207\n",
      "[350,   500] loss: 0.256\n",
      "[350,   600] loss: 0.299\n",
      "[350,   700] loss: 0.359\n",
      "[350,   800] loss: 0.416\n",
      "[350,   900] loss: 0.460\n",
      "[350,  1000] loss: 0.509\n",
      "[350,  1100] loss: 0.569\n"
     ]
    },
    {
     "name": "stderr",
     "output_type": "stream",
     "text": [
      " 70%|███████   | 350/500 [25:29<09:07,  3.65s/it]"
     ]
    },
    {
     "name": "stdout",
     "output_type": "stream",
     "text": [
      "[350,  1200] loss: 0.607\n",
      "[351,   100] loss: 0.057\n",
      "[351,   200] loss: 0.113\n",
      "[351,   300] loss: 0.158\n",
      "[351,   400] loss: 0.201\n",
      "[351,   500] loss: 0.241\n",
      "[351,   600] loss: 0.289\n",
      "[351,   700] loss: 0.337\n",
      "[351,   800] loss: 0.386\n",
      "[351,   900] loss: 0.452\n",
      "[351,  1000] loss: 0.497\n",
      "[351,  1100] loss: 0.539\n"
     ]
    },
    {
     "name": "stderr",
     "output_type": "stream",
     "text": [
      " 70%|███████   | 351/500 [25:32<08:48,  3.55s/it]"
     ]
    },
    {
     "name": "stdout",
     "output_type": "stream",
     "text": [
      "[351,  1200] loss: 0.601\n",
      "[352,   100] loss: 0.055\n",
      "[352,   200] loss: 0.097\n",
      "[352,   300] loss: 0.138\n",
      "[352,   400] loss: 0.196\n",
      "[352,   500] loss: 0.264\n",
      "[352,   600] loss: 0.326\n",
      "[352,   700] loss: 0.385\n",
      "[352,   800] loss: 0.446\n",
      "[352,   900] loss: 0.487\n",
      "[352,  1000] loss: 0.533\n",
      "[352,  1100] loss: 0.586\n",
      "[352,  1200] loss: 0.625\n"
     ]
    },
    {
     "name": "stderr",
     "output_type": "stream",
     "text": [
      " 70%|███████   | 352/500 [25:35<08:24,  3.41s/it]"
     ]
    },
    {
     "name": "stdout",
     "output_type": "stream",
     "text": [
      "[353,   100] loss: 0.051\n",
      "[353,   200] loss: 0.089\n",
      "[353,   300] loss: 0.146\n",
      "[353,   400] loss: 0.196\n",
      "[353,   500] loss: 0.236\n",
      "[353,   600] loss: 0.296\n",
      "[353,   700] loss: 0.342\n",
      "[353,   800] loss: 0.396\n",
      "[353,   900] loss: 0.451\n",
      "[353,  1000] loss: 0.494\n",
      "[353,  1100] loss: 0.555\n",
      "[353,  1200] loss: 0.605\n"
     ]
    },
    {
     "name": "stderr",
     "output_type": "stream",
     "text": [
      " 71%|███████   | 353/500 [25:39<08:27,  3.45s/it]"
     ]
    },
    {
     "name": "stdout",
     "output_type": "stream",
     "text": [
      "[354,   100] loss: 0.065\n",
      "[354,   200] loss: 0.117\n",
      "[354,   300] loss: 0.180\n",
      "[354,   400] loss: 0.236\n",
      "[354,   500] loss: 0.272\n",
      "[354,   600] loss: 0.326\n",
      "[354,   700] loss: 0.367\n",
      "[354,   800] loss: 0.430\n",
      "[354,   900] loss: 0.486\n",
      "[354,  1000] loss: 0.536\n",
      "[354,  1100] loss: 0.580\n"
     ]
    },
    {
     "name": "stderr",
     "output_type": "stream",
     "text": [
      " 71%|███████   | 354/500 [25:42<08:13,  3.38s/it]"
     ]
    },
    {
     "name": "stdout",
     "output_type": "stream",
     "text": [
      "[354,  1200] loss: 0.621\n",
      "[355,   100] loss: 0.043\n",
      "[355,   200] loss: 0.087\n",
      "[355,   300] loss: 0.134\n",
      "[355,   400] loss: 0.196\n",
      "[355,   500] loss: 0.240\n",
      "[355,   600] loss: 0.304\n",
      "[355,   700] loss: 0.357\n",
      "[355,   800] loss: 0.416\n",
      "[355,   900] loss: 0.480\n",
      "[355,  1000] loss: 0.528\n",
      "[355,  1100] loss: 0.579\n",
      "[355,  1200] loss: 0.615\n"
     ]
    },
    {
     "name": "stderr",
     "output_type": "stream",
     "text": [
      " 71%|███████   | 355/500 [25:45<07:53,  3.27s/it]"
     ]
    },
    {
     "name": "stdout",
     "output_type": "stream",
     "text": [
      "[356,   100] loss: 0.044\n",
      "[356,   200] loss: 0.088\n",
      "[356,   300] loss: 0.141\n",
      "[356,   400] loss: 0.174\n",
      "[356,   500] loss: 0.219\n",
      "[356,   600] loss: 0.284\n",
      "[356,   700] loss: 0.335\n",
      "[356,   800] loss: 0.412\n",
      "[356,   900] loss: 0.474\n",
      "[356,  1000] loss: 0.539\n",
      "[356,  1100] loss: 0.586\n",
      "[356,  1200] loss: 0.636\n"
     ]
    },
    {
     "name": "stderr",
     "output_type": "stream",
     "text": [
      " 71%|███████   | 356/500 [25:49<08:43,  3.64s/it]"
     ]
    },
    {
     "name": "stdout",
     "output_type": "stream",
     "text": [
      "[357,   100] loss: 0.032\n",
      "[357,   200] loss: 0.069\n",
      "[357,   300] loss: 0.104\n",
      "[357,   400] loss: 0.153\n",
      "[357,   500] loss: 0.208\n",
      "[357,   600] loss: 0.260\n",
      "[357,   700] loss: 0.299\n",
      "[357,   800] loss: 0.350\n",
      "[357,   900] loss: 0.401\n",
      "[357,  1000] loss: 0.452\n",
      "[357,  1100] loss: 0.488\n",
      "[357,  1200] loss: 0.557\n"
     ]
    },
    {
     "name": "stderr",
     "output_type": "stream",
     "text": [
      " 71%|███████▏  | 357/500 [25:53<08:53,  3.73s/it]"
     ]
    },
    {
     "name": "stdout",
     "output_type": "stream",
     "text": [
      "[358,   100] loss: 0.041\n",
      "[358,   200] loss: 0.092\n",
      "[358,   300] loss: 0.138\n",
      "[358,   400] loss: 0.184\n",
      "[358,   500] loss: 0.245\n",
      "[358,   600] loss: 0.294\n",
      "[358,   700] loss: 0.334\n",
      "[358,   800] loss: 0.404\n",
      "[358,   900] loss: 0.444\n",
      "[358,  1000] loss: 0.498\n",
      "[358,  1100] loss: 0.551\n",
      "[358,  1200] loss: 0.615\n"
     ]
    },
    {
     "name": "stderr",
     "output_type": "stream",
     "text": [
      " 72%|███████▏  | 358/500 [25:56<08:20,  3.52s/it]"
     ]
    },
    {
     "name": "stdout",
     "output_type": "stream",
     "text": [
      "[359,   100] loss: 0.053\n",
      "[359,   200] loss: 0.100\n",
      "[359,   300] loss: 0.155\n",
      "[359,   400] loss: 0.221\n",
      "[359,   500] loss: 0.272\n",
      "[359,   600] loss: 0.320\n",
      "[359,   700] loss: 0.365\n",
      "[359,   800] loss: 0.408\n",
      "[359,   900] loss: 0.452\n",
      "[359,  1000] loss: 0.490\n",
      "[359,  1100] loss: 0.526\n",
      "[359,  1200] loss: 0.584\n"
     ]
    },
    {
     "name": "stderr",
     "output_type": "stream",
     "text": [
      " 72%|███████▏  | 359/500 [26:01<08:54,  3.79s/it]"
     ]
    },
    {
     "name": "stdout",
     "output_type": "stream",
     "text": [
      "[360,   100] loss: 0.042\n",
      "[360,   200] loss: 0.106\n",
      "[360,   300] loss: 0.152\n",
      "[360,   400] loss: 0.194\n",
      "[360,   500] loss: 0.246\n",
      "[360,   600] loss: 0.307\n",
      "[360,   700] loss: 0.375\n",
      "[360,   800] loss: 0.430\n",
      "[360,   900] loss: 0.473\n",
      "[360,  1000] loss: 0.537\n",
      "[360,  1100] loss: 0.593\n",
      "[360,  1200] loss: 0.653\n"
     ]
    },
    {
     "name": "stderr",
     "output_type": "stream",
     "text": [
      " 72%|███████▏  | 360/500 [26:05<08:51,  3.79s/it]"
     ]
    },
    {
     "name": "stdout",
     "output_type": "stream",
     "text": [
      "[361,   100] loss: 0.041\n",
      "[361,   200] loss: 0.091\n",
      "[361,   300] loss: 0.154\n",
      "[361,   400] loss: 0.197\n",
      "[361,   500] loss: 0.241\n",
      "[361,   600] loss: 0.298\n",
      "[361,   700] loss: 0.347\n",
      "[361,   800] loss: 0.395\n",
      "[361,   900] loss: 0.449\n",
      "[361,  1000] loss: 0.502\n",
      "[361,  1100] loss: 0.569\n",
      "[361,  1200] loss: 0.621\n"
     ]
    },
    {
     "name": "stderr",
     "output_type": "stream",
     "text": [
      " 72%|███████▏  | 361/500 [26:08<08:10,  3.53s/it]"
     ]
    },
    {
     "name": "stdout",
     "output_type": "stream",
     "text": [
      "[362,   100] loss: 0.049\n",
      "[362,   200] loss: 0.091\n",
      "[362,   300] loss: 0.129\n",
      "[362,   400] loss: 0.179\n",
      "[362,   500] loss: 0.235\n",
      "[362,   600] loss: 0.286\n",
      "[362,   700] loss: 0.338\n",
      "[362,   800] loss: 0.388\n",
      "[362,   900] loss: 0.457\n",
      "[362,  1000] loss: 0.501\n",
      "[362,  1100] loss: 0.561\n",
      "[362,  1200] loss: 0.611\n"
     ]
    },
    {
     "name": "stderr",
     "output_type": "stream",
     "text": [
      " 72%|███████▏  | 362/500 [26:12<08:38,  3.76s/it]"
     ]
    },
    {
     "name": "stdout",
     "output_type": "stream",
     "text": [
      "[363,   100] loss: 0.054\n",
      "[363,   200] loss: 0.105\n",
      "[363,   300] loss: 0.156\n",
      "[363,   400] loss: 0.212\n",
      "[363,   500] loss: 0.250\n",
      "[363,   600] loss: 0.309\n",
      "[363,   700] loss: 0.362\n",
      "[363,   800] loss: 0.429\n",
      "[363,   900] loss: 0.501\n",
      "[363,  1000] loss: 0.550\n",
      "[363,  1100] loss: 0.616\n",
      "[363,  1200] loss: 0.662\n"
     ]
    },
    {
     "name": "stderr",
     "output_type": "stream",
     "text": [
      " 73%|███████▎  | 363/500 [26:16<08:47,  3.85s/it]"
     ]
    },
    {
     "name": "stdout",
     "output_type": "stream",
     "text": [
      "[364,   100] loss: 0.054\n",
      "[364,   200] loss: 0.098\n",
      "[364,   300] loss: 0.155\n",
      "[364,   400] loss: 0.182\n",
      "[364,   500] loss: 0.226\n",
      "[364,   600] loss: 0.277\n",
      "[364,   700] loss: 0.324\n",
      "[364,   800] loss: 0.373\n",
      "[364,   900] loss: 0.424\n",
      "[364,  1000] loss: 0.495\n",
      "[364,  1100] loss: 0.547\n",
      "[364,  1200] loss: 0.607\n"
     ]
    },
    {
     "name": "stderr",
     "output_type": "stream",
     "text": [
      " 73%|███████▎  | 364/500 [26:19<08:20,  3.68s/it]"
     ]
    },
    {
     "name": "stdout",
     "output_type": "stream",
     "text": [
      "[365,   100] loss: 0.049\n",
      "[365,   200] loss: 0.105\n",
      "[365,   300] loss: 0.146\n",
      "[365,   400] loss: 0.196\n",
      "[365,   500] loss: 0.252\n",
      "[365,   600] loss: 0.321\n",
      "[365,   700] loss: 0.365\n",
      "[365,   800] loss: 0.416\n",
      "[365,   900] loss: 0.471\n",
      "[365,  1000] loss: 0.536\n",
      "[365,  1100] loss: 0.585\n",
      "[365,  1200] loss: 0.627\n"
     ]
    },
    {
     "name": "stderr",
     "output_type": "stream",
     "text": [
      " 73%|███████▎  | 365/500 [26:24<08:59,  3.99s/it]"
     ]
    },
    {
     "name": "stdout",
     "output_type": "stream",
     "text": [
      "[366,   100] loss: 0.047\n",
      "[366,   200] loss: 0.093\n",
      "[366,   300] loss: 0.147\n",
      "[366,   400] loss: 0.209\n",
      "[366,   500] loss: 0.260\n",
      "[366,   600] loss: 0.312\n",
      "[366,   700] loss: 0.368\n",
      "[366,   800] loss: 0.413\n",
      "[366,   900] loss: 0.455\n",
      "[366,  1000] loss: 0.496\n",
      "[366,  1100] loss: 0.570\n",
      "[366,  1200] loss: 0.623\n"
     ]
    },
    {
     "name": "stderr",
     "output_type": "stream",
     "text": [
      " 73%|███████▎  | 366/500 [26:29<09:27,  4.24s/it]"
     ]
    },
    {
     "name": "stdout",
     "output_type": "stream",
     "text": [
      "[367,   100] loss: 0.033\n",
      "[367,   200] loss: 0.095\n",
      "[367,   300] loss: 0.149\n",
      "[367,   400] loss: 0.193\n",
      "[367,   500] loss: 0.254\n",
      "[367,   600] loss: 0.302\n",
      "[367,   700] loss: 0.348\n",
      "[367,   800] loss: 0.397\n",
      "[367,   900] loss: 0.459\n",
      "[367,  1000] loss: 0.504\n",
      "[367,  1100] loss: 0.561\n",
      "[367,  1200] loss: 0.617\n"
     ]
    },
    {
     "name": "stderr",
     "output_type": "stream",
     "text": [
      " 73%|███████▎  | 367/500 [26:32<08:59,  4.06s/it]"
     ]
    },
    {
     "name": "stdout",
     "output_type": "stream",
     "text": [
      "[368,   100] loss: 0.056\n",
      "[368,   200] loss: 0.112\n",
      "[368,   300] loss: 0.139\n",
      "[368,   400] loss: 0.183\n",
      "[368,   500] loss: 0.229\n",
      "[368,   600] loss: 0.283\n",
      "[368,   700] loss: 0.336\n",
      "[368,   800] loss: 0.399\n",
      "[368,   900] loss: 0.448\n",
      "[368,  1000] loss: 0.511\n",
      "[368,  1100] loss: 0.544\n",
      "[368,  1200] loss: 0.602\n"
     ]
    },
    {
     "name": "stderr",
     "output_type": "stream",
     "text": [
      " 74%|███████▎  | 368/500 [26:36<08:30,  3.87s/it]"
     ]
    },
    {
     "name": "stdout",
     "output_type": "stream",
     "text": [
      "[369,   100] loss: 0.051\n",
      "[369,   200] loss: 0.102\n",
      "[369,   300] loss: 0.142\n",
      "[369,   400] loss: 0.202\n",
      "[369,   500] loss: 0.254\n",
      "[369,   600] loss: 0.292\n",
      "[369,   700] loss: 0.334\n",
      "[369,   800] loss: 0.399\n",
      "[369,   900] loss: 0.452\n",
      "[369,  1000] loss: 0.495\n",
      "[369,  1100] loss: 0.535\n",
      "[369,  1200] loss: 0.605\n"
     ]
    },
    {
     "name": "stderr",
     "output_type": "stream",
     "text": [
      " 74%|███████▍  | 369/500 [26:40<08:44,  4.00s/it]"
     ]
    },
    {
     "name": "stdout",
     "output_type": "stream",
     "text": [
      "[370,   100] loss: 0.048\n",
      "[370,   200] loss: 0.098\n",
      "[370,   300] loss: 0.154\n",
      "[370,   400] loss: 0.200\n",
      "[370,   500] loss: 0.257\n",
      "[370,   600] loss: 0.313\n",
      "[370,   700] loss: 0.368\n",
      "[370,   800] loss: 0.421\n",
      "[370,   900] loss: 0.478\n",
      "[370,  1000] loss: 0.526\n",
      "[370,  1100] loss: 0.572\n",
      "[370,  1200] loss: 0.606\n"
     ]
    },
    {
     "name": "stderr",
     "output_type": "stream",
     "text": [
      " 74%|███████▍  | 370/500 [26:44<08:21,  3.86s/it]"
     ]
    },
    {
     "name": "stdout",
     "output_type": "stream",
     "text": [
      "[371,   100] loss: 0.056\n",
      "[371,   200] loss: 0.102\n",
      "[371,   300] loss: 0.151\n",
      "[371,   400] loss: 0.200\n",
      "[371,   500] loss: 0.252\n",
      "[371,   600] loss: 0.317\n",
      "[371,   700] loss: 0.372\n",
      "[371,   800] loss: 0.422\n",
      "[371,   900] loss: 0.468\n",
      "[371,  1000] loss: 0.527\n",
      "[371,  1100] loss: 0.587\n"
     ]
    },
    {
     "name": "stderr",
     "output_type": "stream",
     "text": [
      " 74%|███████▍  | 371/500 [26:47<08:01,  3.73s/it]"
     ]
    },
    {
     "name": "stdout",
     "output_type": "stream",
     "text": [
      "[371,  1200] loss: 0.631\n",
      "[372,   100] loss: 0.066\n",
      "[372,   200] loss: 0.110\n",
      "[372,   300] loss: 0.155\n",
      "[372,   400] loss: 0.200\n",
      "[372,   500] loss: 0.260\n",
      "[372,   600] loss: 0.309\n",
      "[372,   700] loss: 0.339\n",
      "[372,   800] loss: 0.387\n",
      "[372,   900] loss: 0.434\n",
      "[372,  1000] loss: 0.487\n",
      "[372,  1100] loss: 0.526\n",
      "[372,  1200] loss: 0.572\n"
     ]
    },
    {
     "name": "stderr",
     "output_type": "stream",
     "text": [
      " 74%|███████▍  | 372/500 [26:51<08:11,  3.84s/it]"
     ]
    },
    {
     "name": "stdout",
     "output_type": "stream",
     "text": [
      "[373,   100] loss: 0.047\n",
      "[373,   200] loss: 0.100\n",
      "[373,   300] loss: 0.161\n",
      "[373,   400] loss: 0.215\n",
      "[373,   500] loss: 0.256\n",
      "[373,   600] loss: 0.309\n",
      "[373,   700] loss: 0.348\n",
      "[373,   800] loss: 0.397\n",
      "[373,   900] loss: 0.450\n",
      "[373,  1000] loss: 0.488\n",
      "[373,  1100] loss: 0.535\n",
      "[373,  1200] loss: 0.578\n"
     ]
    },
    {
     "name": "stderr",
     "output_type": "stream",
     "text": [
      " 75%|███████▍  | 373/500 [26:55<07:58,  3.77s/it]"
     ]
    },
    {
     "name": "stdout",
     "output_type": "stream",
     "text": [
      "[374,   100] loss: 0.060\n",
      "[374,   200] loss: 0.115\n",
      "[374,   300] loss: 0.158\n",
      "[374,   400] loss: 0.220\n",
      "[374,   500] loss: 0.278\n",
      "[374,   600] loss: 0.337\n",
      "[374,   700] loss: 0.381\n",
      "[374,   800] loss: 0.434\n",
      "[374,   900] loss: 0.492\n",
      "[374,  1000] loss: 0.530\n",
      "[374,  1100] loss: 0.582\n",
      "[374,  1200] loss: 0.619\n"
     ]
    },
    {
     "name": "stderr",
     "output_type": "stream",
     "text": [
      " 75%|███████▍  | 374/500 [26:59<07:56,  3.78s/it]"
     ]
    },
    {
     "name": "stdout",
     "output_type": "stream",
     "text": [
      "[375,   100] loss: 0.048\n",
      "[375,   200] loss: 0.092\n",
      "[375,   300] loss: 0.134\n",
      "[375,   400] loss: 0.176\n",
      "[375,   500] loss: 0.229\n",
      "[375,   600] loss: 0.272\n",
      "[375,   700] loss: 0.332\n",
      "[375,   800] loss: 0.386\n",
      "[375,   900] loss: 0.456\n",
      "[375,  1000] loss: 0.521\n",
      "[375,  1100] loss: 0.591\n",
      "[375,  1200] loss: 0.634\n"
     ]
    },
    {
     "name": "stderr",
     "output_type": "stream",
     "text": [
      " 75%|███████▌  | 375/500 [27:02<07:49,  3.76s/it]"
     ]
    },
    {
     "name": "stdout",
     "output_type": "stream",
     "text": [
      "[376,   100] loss: 0.057\n",
      "[376,   200] loss: 0.100\n",
      "[376,   300] loss: 0.162\n",
      "[376,   400] loss: 0.216\n",
      "[376,   500] loss: 0.288\n",
      "[376,   600] loss: 0.329\n",
      "[376,   700] loss: 0.371\n",
      "[376,   800] loss: 0.418\n",
      "[376,   900] loss: 0.468\n",
      "[376,  1000] loss: 0.504\n",
      "[376,  1100] loss: 0.552\n",
      "[376,  1200] loss: 0.600\n"
     ]
    },
    {
     "name": "stderr",
     "output_type": "stream",
     "text": [
      " 75%|███████▌  | 376/500 [27:06<07:51,  3.80s/it]"
     ]
    },
    {
     "name": "stdout",
     "output_type": "stream",
     "text": [
      "[377,   100] loss: 0.070\n",
      "[377,   200] loss: 0.114\n",
      "[377,   300] loss: 0.158\n",
      "[377,   400] loss: 0.213\n",
      "[377,   500] loss: 0.262\n",
      "[377,   600] loss: 0.322\n",
      "[377,   700] loss: 0.368\n",
      "[377,   800] loss: 0.412\n",
      "[377,   900] loss: 0.458\n",
      "[377,  1000] loss: 0.507\n",
      "[377,  1100] loss: 0.565\n",
      "[377,  1200] loss: 0.614\n"
     ]
    },
    {
     "name": "stderr",
     "output_type": "stream",
     "text": [
      " 75%|███████▌  | 377/500 [27:11<08:08,  3.97s/it]"
     ]
    },
    {
     "name": "stdout",
     "output_type": "stream",
     "text": [
      "[378,   100] loss: 0.051\n",
      "[378,   200] loss: 0.098\n",
      "[378,   300] loss: 0.156\n",
      "[378,   400] loss: 0.213\n",
      "[378,   500] loss: 0.257\n",
      "[378,   600] loss: 0.309\n",
      "[378,   700] loss: 0.355\n",
      "[378,   800] loss: 0.413\n",
      "[378,   900] loss: 0.463\n",
      "[378,  1000] loss: 0.519\n",
      "[378,  1100] loss: 0.563\n",
      "[378,  1200] loss: 0.627\n"
     ]
    },
    {
     "name": "stderr",
     "output_type": "stream",
     "text": [
      " 76%|███████▌  | 378/500 [27:16<09:01,  4.44s/it]"
     ]
    },
    {
     "name": "stdout",
     "output_type": "stream",
     "text": [
      "[379,   100] loss: 0.033\n",
      "[379,   200] loss: 0.077\n",
      "[379,   300] loss: 0.122\n",
      "[379,   400] loss: 0.173\n",
      "[379,   500] loss: 0.245\n",
      "[379,   600] loss: 0.315\n",
      "[379,   700] loss: 0.372\n",
      "[379,   800] loss: 0.424\n",
      "[379,   900] loss: 0.484\n",
      "[379,  1000] loss: 0.538\n",
      "[379,  1100] loss: 0.590\n",
      "[379,  1200] loss: 0.637\n"
     ]
    },
    {
     "name": "stderr",
     "output_type": "stream",
     "text": [
      " 76%|███████▌  | 379/500 [27:20<08:38,  4.28s/it]"
     ]
    },
    {
     "name": "stdout",
     "output_type": "stream",
     "text": [
      "[380,   100] loss: 0.049\n",
      "[380,   200] loss: 0.112\n",
      "[380,   300] loss: 0.168\n",
      "[380,   400] loss: 0.223\n",
      "[380,   500] loss: 0.288\n",
      "[380,   600] loss: 0.357\n",
      "[380,   700] loss: 0.397\n",
      "[380,   800] loss: 0.447\n",
      "[380,   900] loss: 0.495\n",
      "[380,  1000] loss: 0.543\n",
      "[380,  1100] loss: 0.611\n",
      "[380,  1200] loss: 0.679\n"
     ]
    },
    {
     "name": "stderr",
     "output_type": "stream",
     "text": [
      " 76%|███████▌  | 380/500 [27:24<08:18,  4.15s/it]"
     ]
    },
    {
     "name": "stdout",
     "output_type": "stream",
     "text": [
      "[381,   100] loss: 0.054\n",
      "[381,   200] loss: 0.113\n",
      "[381,   300] loss: 0.155\n",
      "[381,   400] loss: 0.213\n",
      "[381,   500] loss: 0.273\n",
      "[381,   600] loss: 0.325\n",
      "[381,   700] loss: 0.371\n",
      "[381,   800] loss: 0.415\n",
      "[381,   900] loss: 0.477\n",
      "[381,  1000] loss: 0.552\n",
      "[381,  1100] loss: 0.605\n",
      "[381,  1200] loss: 0.671\n"
     ]
    },
    {
     "name": "stderr",
     "output_type": "stream",
     "text": [
      " 76%|███████▌  | 381/500 [27:28<08:04,  4.07s/it]"
     ]
    },
    {
     "name": "stdout",
     "output_type": "stream",
     "text": [
      "[382,   100] loss: 0.038\n",
      "[382,   200] loss: 0.105\n",
      "[382,   300] loss: 0.162\n",
      "[382,   400] loss: 0.213\n",
      "[382,   500] loss: 0.252\n",
      "[382,   600] loss: 0.306\n",
      "[382,   700] loss: 0.352\n",
      "[382,   800] loss: 0.395\n",
      "[382,   900] loss: 0.464\n",
      "[382,  1000] loss: 0.519\n",
      "[382,  1100] loss: 0.561\n",
      "[382,  1200] loss: 0.610\n"
     ]
    },
    {
     "name": "stderr",
     "output_type": "stream",
     "text": [
      " 76%|███████▋  | 382/500 [27:31<07:26,  3.79s/it]"
     ]
    },
    {
     "name": "stdout",
     "output_type": "stream",
     "text": [
      "[383,   100] loss: 0.042\n",
      "[383,   200] loss: 0.095\n",
      "[383,   300] loss: 0.154\n",
      "[383,   400] loss: 0.217\n",
      "[383,   500] loss: 0.256\n",
      "[383,   600] loss: 0.303\n",
      "[383,   700] loss: 0.350\n",
      "[383,   800] loss: 0.399\n",
      "[383,   900] loss: 0.441\n",
      "[383,  1000] loss: 0.509\n",
      "[383,  1100] loss: 0.553\n",
      "[383,  1200] loss: 0.605\n"
     ]
    },
    {
     "name": "stderr",
     "output_type": "stream",
     "text": [
      " 77%|███████▋  | 383/500 [27:34<07:15,  3.73s/it]"
     ]
    },
    {
     "name": "stdout",
     "output_type": "stream",
     "text": [
      "[384,   100] loss: 0.056\n",
      "[384,   200] loss: 0.107\n",
      "[384,   300] loss: 0.173\n",
      "[384,   400] loss: 0.217\n",
      "[384,   500] loss: 0.253\n",
      "[384,   600] loss: 0.302\n",
      "[384,   700] loss: 0.367\n",
      "[384,   800] loss: 0.438\n",
      "[384,   900] loss: 0.499\n",
      "[384,  1000] loss: 0.539\n",
      "[384,  1100] loss: 0.584\n"
     ]
    },
    {
     "name": "stderr",
     "output_type": "stream",
     "text": [
      " 77%|███████▋  | 384/500 [27:38<07:20,  3.80s/it]"
     ]
    },
    {
     "name": "stdout",
     "output_type": "stream",
     "text": [
      "[384,  1200] loss: 0.641\n",
      "[385,   100] loss: 0.039\n",
      "[385,   200] loss: 0.082\n",
      "[385,   300] loss: 0.128\n",
      "[385,   400] loss: 0.182\n",
      "[385,   500] loss: 0.224\n",
      "[385,   600] loss: 0.263\n",
      "[385,   700] loss: 0.326\n",
      "[385,   800] loss: 0.377\n",
      "[385,   900] loss: 0.434\n",
      "[385,  1000] loss: 0.498\n",
      "[385,  1100] loss: 0.551\n",
      "[385,  1200] loss: 0.604\n"
     ]
    },
    {
     "name": "stderr",
     "output_type": "stream",
     "text": [
      " 77%|███████▋  | 385/500 [27:42<07:11,  3.75s/it]"
     ]
    },
    {
     "name": "stdout",
     "output_type": "stream",
     "text": [
      "[386,   100] loss: 0.045\n",
      "[386,   200] loss: 0.105\n",
      "[386,   300] loss: 0.152\n",
      "[386,   400] loss: 0.206\n",
      "[386,   500] loss: 0.260\n",
      "[386,   600] loss: 0.311\n",
      "[386,   700] loss: 0.357\n",
      "[386,   800] loss: 0.397\n",
      "[386,   900] loss: 0.440\n",
      "[386,  1000] loss: 0.488\n",
      "[386,  1100] loss: 0.550\n",
      "[386,  1200] loss: 0.593\n"
     ]
    },
    {
     "name": "stderr",
     "output_type": "stream",
     "text": [
      " 77%|███████▋  | 386/500 [27:45<06:57,  3.66s/it]"
     ]
    },
    {
     "name": "stdout",
     "output_type": "stream",
     "text": [
      "[387,   100] loss: 0.047\n",
      "[387,   200] loss: 0.103\n",
      "[387,   300] loss: 0.177\n",
      "[387,   400] loss: 0.234\n",
      "[387,   500] loss: 0.289\n",
      "[387,   600] loss: 0.356\n",
      "[387,   700] loss: 0.402\n",
      "[387,   800] loss: 0.440\n",
      "[387,   900] loss: 0.495\n",
      "[387,  1000] loss: 0.540\n",
      "[387,  1100] loss: 0.597\n",
      "[387,  1200] loss: 0.646\n"
     ]
    },
    {
     "name": "stderr",
     "output_type": "stream",
     "text": [
      " 77%|███████▋  | 387/500 [27:49<06:50,  3.63s/it]"
     ]
    },
    {
     "name": "stdout",
     "output_type": "stream",
     "text": [
      "[388,   100] loss: 0.061\n",
      "[388,   200] loss: 0.089\n",
      "[388,   300] loss: 0.130\n",
      "[388,   400] loss: 0.165\n",
      "[388,   500] loss: 0.242\n",
      "[388,   600] loss: 0.294\n",
      "[388,   700] loss: 0.364\n",
      "[388,   800] loss: 0.424\n",
      "[388,   900] loss: 0.478\n",
      "[388,  1000] loss: 0.540\n",
      "[388,  1100] loss: 0.586\n"
     ]
    },
    {
     "name": "stderr",
     "output_type": "stream",
     "text": [
      " 78%|███████▊  | 388/500 [27:53<06:59,  3.74s/it]"
     ]
    },
    {
     "name": "stdout",
     "output_type": "stream",
     "text": [
      "[388,  1200] loss: 0.655\n",
      "[389,   100] loss: 0.047\n",
      "[389,   200] loss: 0.115\n",
      "[389,   300] loss: 0.170\n",
      "[389,   400] loss: 0.206\n",
      "[389,   500] loss: 0.268\n",
      "[389,   600] loss: 0.316\n",
      "[389,   700] loss: 0.384\n",
      "[389,   800] loss: 0.440\n",
      "[389,   900] loss: 0.503\n",
      "[389,  1000] loss: 0.566\n",
      "[389,  1100] loss: 0.618\n",
      "[389,  1200] loss: 0.671\n"
     ]
    },
    {
     "name": "stderr",
     "output_type": "stream",
     "text": [
      " 78%|███████▊  | 389/500 [27:56<06:25,  3.47s/it]"
     ]
    },
    {
     "name": "stdout",
     "output_type": "stream",
     "text": [
      "[390,   100] loss: 0.045\n",
      "[390,   200] loss: 0.122\n",
      "[390,   300] loss: 0.159\n",
      "[390,   400] loss: 0.212\n",
      "[390,   500] loss: 0.250\n",
      "[390,   600] loss: 0.307\n",
      "[390,   700] loss: 0.348\n",
      "[390,   800] loss: 0.403\n",
      "[390,   900] loss: 0.459\n",
      "[390,  1000] loss: 0.509\n",
      "[390,  1100] loss: 0.563\n"
     ]
    },
    {
     "name": "stderr",
     "output_type": "stream",
     "text": [
      " 78%|███████▊  | 390/500 [28:00<06:31,  3.56s/it]"
     ]
    },
    {
     "name": "stdout",
     "output_type": "stream",
     "text": [
      "[390,  1200] loss: 0.612\n",
      "[391,   100] loss: 0.048\n",
      "[391,   200] loss: 0.099\n",
      "[391,   300] loss: 0.134\n",
      "[391,   400] loss: 0.182\n",
      "[391,   500] loss: 0.240\n",
      "[391,   600] loss: 0.292\n",
      "[391,   700] loss: 0.341\n",
      "[391,   800] loss: 0.402\n",
      "[391,   900] loss: 0.441\n",
      "[391,  1000] loss: 0.502\n",
      "[391,  1100] loss: 0.547\n",
      "[391,  1200] loss: 0.627\n"
     ]
    },
    {
     "name": "stderr",
     "output_type": "stream",
     "text": [
      " 78%|███████▊  | 391/500 [28:04<06:45,  3.72s/it]"
     ]
    },
    {
     "name": "stdout",
     "output_type": "stream",
     "text": [
      "[392,   100] loss: 0.046\n",
      "[392,   200] loss: 0.104\n",
      "[392,   300] loss: 0.186\n",
      "[392,   400] loss: 0.238\n",
      "[392,   500] loss: 0.293\n",
      "[392,   600] loss: 0.338\n",
      "[392,   700] loss: 0.382\n",
      "[392,   800] loss: 0.434\n",
      "[392,   900] loss: 0.500\n",
      "[392,  1000] loss: 0.546\n",
      "[392,  1100] loss: 0.589\n"
     ]
    },
    {
     "name": "stderr",
     "output_type": "stream",
     "text": [
      " 78%|███████▊  | 392/500 [28:07<06:33,  3.64s/it]"
     ]
    },
    {
     "name": "stdout",
     "output_type": "stream",
     "text": [
      "[392,  1200] loss: 0.637\n",
      "[393,   100] loss: 0.049\n",
      "[393,   200] loss: 0.107\n",
      "[393,   300] loss: 0.159\n",
      "[393,   400] loss: 0.201\n",
      "[393,   500] loss: 0.238\n",
      "[393,   600] loss: 0.280\n",
      "[393,   700] loss: 0.356\n",
      "[393,   800] loss: 0.413\n",
      "[393,   900] loss: 0.452\n",
      "[393,  1000] loss: 0.487\n",
      "[393,  1100] loss: 0.547\n",
      "[393,  1200] loss: 0.605\n"
     ]
    },
    {
     "name": "stderr",
     "output_type": "stream",
     "text": [
      " 79%|███████▊  | 393/500 [28:11<06:49,  3.83s/it]"
     ]
    },
    {
     "name": "stdout",
     "output_type": "stream",
     "text": [
      "[394,   100] loss: 0.048\n",
      "[394,   200] loss: 0.120\n",
      "[394,   300] loss: 0.187\n",
      "[394,   400] loss: 0.233\n",
      "[394,   500] loss: 0.273\n",
      "[394,   600] loss: 0.318\n",
      "[394,   700] loss: 0.370\n",
      "[394,   800] loss: 0.445\n",
      "[394,   900] loss: 0.494\n",
      "[394,  1000] loss: 0.564\n",
      "[394,  1100] loss: 0.635\n",
      "[394,  1200] loss: 0.700\n"
     ]
    },
    {
     "name": "stderr",
     "output_type": "stream",
     "text": [
      " 79%|███████▉  | 394/500 [28:16<07:12,  4.08s/it]"
     ]
    },
    {
     "name": "stdout",
     "output_type": "stream",
     "text": [
      "[395,   100] loss: 0.053\n",
      "[395,   200] loss: 0.091\n",
      "[395,   300] loss: 0.144\n",
      "[395,   400] loss: 0.188\n",
      "[395,   500] loss: 0.251\n",
      "[395,   600] loss: 0.301\n",
      "[395,   700] loss: 0.351\n",
      "[395,   800] loss: 0.421\n",
      "[395,   900] loss: 0.475\n",
      "[395,  1000] loss: 0.520\n",
      "[395,  1100] loss: 0.579\n",
      "[395,  1200] loss: 0.620\n"
     ]
    },
    {
     "name": "stderr",
     "output_type": "stream",
     "text": [
      " 79%|███████▉  | 395/500 [28:19<06:43,  3.84s/it]"
     ]
    },
    {
     "name": "stdout",
     "output_type": "stream",
     "text": [
      "[396,   100] loss: 0.072\n",
      "[396,   200] loss: 0.116\n",
      "[396,   300] loss: 0.164\n",
      "[396,   400] loss: 0.208\n",
      "[396,   500] loss: 0.265\n",
      "[396,   600] loss: 0.313\n",
      "[396,   700] loss: 0.368\n",
      "[396,   800] loss: 0.425\n",
      "[396,   900] loss: 0.473\n",
      "[396,  1000] loss: 0.542\n",
      "[396,  1100] loss: 0.601\n",
      "[396,  1200] loss: 0.631\n"
     ]
    },
    {
     "name": "stderr",
     "output_type": "stream",
     "text": [
      " 79%|███████▉  | 396/500 [28:24<06:52,  3.97s/it]"
     ]
    },
    {
     "name": "stdout",
     "output_type": "stream",
     "text": [
      "[397,   100] loss: 0.056\n",
      "[397,   200] loss: 0.118\n",
      "[397,   300] loss: 0.172\n",
      "[397,   400] loss: 0.223\n",
      "[397,   500] loss: 0.272\n",
      "[397,   600] loss: 0.317\n",
      "[397,   700] loss: 0.376\n",
      "[397,   800] loss: 0.423\n",
      "[397,   900] loss: 0.472\n",
      "[397,  1000] loss: 0.515\n",
      "[397,  1100] loss: 0.576\n",
      "[397,  1200] loss: 0.617\n"
     ]
    },
    {
     "name": "stderr",
     "output_type": "stream",
     "text": [
      " 79%|███████▉  | 397/500 [28:28<06:47,  3.95s/it]"
     ]
    },
    {
     "name": "stdout",
     "output_type": "stream",
     "text": [
      "[398,   100] loss: 0.063\n",
      "[398,   200] loss: 0.110\n",
      "[398,   300] loss: 0.174\n",
      "[398,   400] loss: 0.223\n",
      "[398,   500] loss: 0.274\n",
      "[398,   600] loss: 0.322\n",
      "[398,   700] loss: 0.379\n",
      "[398,   800] loss: 0.431\n",
      "[398,   900] loss: 0.498\n",
      "[398,  1000] loss: 0.547\n",
      "[398,  1100] loss: 0.610\n",
      "[398,  1200] loss: 0.663\n"
     ]
    },
    {
     "name": "stderr",
     "output_type": "stream",
     "text": [
      " 80%|███████▉  | 398/500 [28:31<06:26,  3.79s/it]"
     ]
    },
    {
     "name": "stdout",
     "output_type": "stream",
     "text": [
      "[399,   100] loss: 0.047\n",
      "[399,   200] loss: 0.091\n",
      "[399,   300] loss: 0.138\n",
      "[399,   400] loss: 0.189\n",
      "[399,   500] loss: 0.255\n",
      "[399,   600] loss: 0.302\n",
      "[399,   700] loss: 0.378\n",
      "[399,   800] loss: 0.434\n",
      "[399,   900] loss: 0.492\n",
      "[399,  1000] loss: 0.543\n",
      "[399,  1100] loss: 0.590\n",
      "[399,  1200] loss: 0.642\n"
     ]
    },
    {
     "name": "stderr",
     "output_type": "stream",
     "text": [
      " 80%|███████▉  | 399/500 [28:36<06:44,  4.00s/it]"
     ]
    },
    {
     "name": "stdout",
     "output_type": "stream",
     "text": [
      "[400,   100] loss: 0.063\n",
      "[400,   200] loss: 0.114\n",
      "[400,   300] loss: 0.164\n",
      "[400,   400] loss: 0.208\n",
      "[400,   500] loss: 0.270\n",
      "[400,   600] loss: 0.326\n",
      "[400,   700] loss: 0.368\n",
      "[400,   800] loss: 0.423\n",
      "[400,   900] loss: 0.480\n",
      "[400,  1000] loss: 0.542\n",
      "[400,  1100] loss: 0.588\n",
      "[400,  1200] loss: 0.639\n"
     ]
    },
    {
     "name": "stderr",
     "output_type": "stream",
     "text": [
      " 80%|████████  | 400/500 [28:39<06:24,  3.85s/it]"
     ]
    },
    {
     "name": "stdout",
     "output_type": "stream",
     "text": [
      "[401,   100] loss: 0.050\n",
      "[401,   200] loss: 0.100\n",
      "[401,   300] loss: 0.148\n",
      "[401,   400] loss: 0.205\n",
      "[401,   500] loss: 0.254\n",
      "[401,   600] loss: 0.303\n",
      "[401,   700] loss: 0.359\n",
      "[401,   800] loss: 0.426\n",
      "[401,   900] loss: 0.484\n",
      "[401,  1000] loss: 0.536\n",
      "[401,  1100] loss: 0.587\n",
      "[401,  1200] loss: 0.620\n"
     ]
    },
    {
     "name": "stderr",
     "output_type": "stream",
     "text": [
      " 80%|████████  | 401/500 [28:42<05:54,  3.58s/it]"
     ]
    },
    {
     "name": "stdout",
     "output_type": "stream",
     "text": [
      "[402,   100] loss: 0.040\n",
      "[402,   200] loss: 0.087\n",
      "[402,   300] loss: 0.144\n",
      "[402,   400] loss: 0.193\n",
      "[402,   500] loss: 0.239\n",
      "[402,   600] loss: 0.304\n",
      "[402,   700] loss: 0.358\n",
      "[402,   800] loss: 0.421\n",
      "[402,   900] loss: 0.465\n",
      "[402,  1000] loss: 0.521\n",
      "[402,  1100] loss: 0.573\n",
      "[402,  1200] loss: 0.633\n"
     ]
    },
    {
     "name": "stderr",
     "output_type": "stream",
     "text": [
      " 80%|████████  | 402/500 [28:45<05:46,  3.54s/it]"
     ]
    },
    {
     "name": "stdout",
     "output_type": "stream",
     "text": [
      "[403,   100] loss: 0.052\n",
      "[403,   200] loss: 0.095\n",
      "[403,   300] loss: 0.160\n",
      "[403,   400] loss: 0.206\n",
      "[403,   500] loss: 0.255\n",
      "[403,   600] loss: 0.307\n",
      "[403,   700] loss: 0.354\n",
      "[403,   800] loss: 0.412\n",
      "[403,   900] loss: 0.466\n",
      "[403,  1000] loss: 0.512\n",
      "[403,  1100] loss: 0.566\n",
      "[403,  1200] loss: 0.634\n"
     ]
    },
    {
     "name": "stderr",
     "output_type": "stream",
     "text": [
      " 81%|████████  | 403/500 [28:49<05:50,  3.61s/it]"
     ]
    },
    {
     "name": "stdout",
     "output_type": "stream",
     "text": [
      "[404,   100] loss: 0.058\n",
      "[404,   200] loss: 0.097\n",
      "[404,   300] loss: 0.144\n",
      "[404,   400] loss: 0.191\n",
      "[404,   500] loss: 0.256\n",
      "[404,   600] loss: 0.317\n",
      "[404,   700] loss: 0.359\n",
      "[404,   800] loss: 0.400\n",
      "[404,   900] loss: 0.453\n",
      "[404,  1000] loss: 0.511\n",
      "[404,  1100] loss: 0.579\n",
      "[404,  1200] loss: 0.621\n"
     ]
    },
    {
     "name": "stderr",
     "output_type": "stream",
     "text": [
      " 81%|████████  | 404/500 [28:53<06:00,  3.75s/it]"
     ]
    },
    {
     "name": "stdout",
     "output_type": "stream",
     "text": [
      "[405,   100] loss: 0.056\n",
      "[405,   200] loss: 0.108\n",
      "[405,   300] loss: 0.155\n",
      "[405,   400] loss: 0.207\n",
      "[405,   500] loss: 0.252\n",
      "[405,   600] loss: 0.318\n",
      "[405,   700] loss: 0.370\n",
      "[405,   800] loss: 0.426\n",
      "[405,   900] loss: 0.483\n",
      "[405,  1000] loss: 0.527\n",
      "[405,  1100] loss: 0.576\n",
      "[405,  1200] loss: 0.632\n"
     ]
    },
    {
     "name": "stderr",
     "output_type": "stream",
     "text": [
      " 81%|████████  | 405/500 [28:58<06:19,  4.00s/it]"
     ]
    },
    {
     "name": "stdout",
     "output_type": "stream",
     "text": [
      "[406,   100] loss: 0.061\n",
      "[406,   200] loss: 0.117\n",
      "[406,   300] loss: 0.176\n",
      "[406,   400] loss: 0.232\n",
      "[406,   500] loss: 0.282\n",
      "[406,   600] loss: 0.335\n",
      "[406,   700] loss: 0.374\n",
      "[406,   800] loss: 0.421\n",
      "[406,   900] loss: 0.480\n",
      "[406,  1000] loss: 0.562\n",
      "[406,  1100] loss: 0.608\n"
     ]
    },
    {
     "name": "stderr",
     "output_type": "stream",
     "text": [
      " 81%|████████  | 406/500 [29:01<06:01,  3.85s/it]"
     ]
    },
    {
     "name": "stdout",
     "output_type": "stream",
     "text": [
      "[406,  1200] loss: 0.680\n",
      "[407,   100] loss: 0.063\n",
      "[407,   200] loss: 0.110\n",
      "[407,   300] loss: 0.172\n",
      "[407,   400] loss: 0.225\n",
      "[407,   500] loss: 0.270\n",
      "[407,   600] loss: 0.315\n",
      "[407,   700] loss: 0.379\n",
      "[407,   800] loss: 0.411\n",
      "[407,   900] loss: 0.450\n",
      "[407,  1000] loss: 0.491\n",
      "[407,  1100] loss: 0.544\n",
      "[407,  1200] loss: 0.601\n"
     ]
    },
    {
     "name": "stderr",
     "output_type": "stream",
     "text": [
      " 81%|████████▏ | 407/500 [29:05<05:42,  3.68s/it]"
     ]
    },
    {
     "name": "stdout",
     "output_type": "stream",
     "text": [
      "[408,   100] loss: 0.052\n",
      "[408,   200] loss: 0.104\n",
      "[408,   300] loss: 0.164\n",
      "[408,   400] loss: 0.210\n",
      "[408,   500] loss: 0.249\n",
      "[408,   600] loss: 0.307\n",
      "[408,   700] loss: 0.378\n",
      "[408,   800] loss: 0.410\n",
      "[408,   900] loss: 0.443\n",
      "[408,  1000] loss: 0.494\n",
      "[408,  1100] loss: 0.550\n",
      "[408,  1200] loss: 0.604\n"
     ]
    },
    {
     "name": "stderr",
     "output_type": "stream",
     "text": [
      " 82%|████████▏ | 408/500 [29:08<05:24,  3.52s/it]"
     ]
    },
    {
     "name": "stdout",
     "output_type": "stream",
     "text": [
      "[409,   100] loss: 0.043\n",
      "[409,   200] loss: 0.104\n",
      "[409,   300] loss: 0.157\n",
      "[409,   400] loss: 0.214\n",
      "[409,   500] loss: 0.260\n",
      "[409,   600] loss: 0.310\n",
      "[409,   700] loss: 0.367\n",
      "[409,   800] loss: 0.430\n",
      "[409,   900] loss: 0.501\n",
      "[409,  1000] loss: 0.547\n",
      "[409,  1100] loss: 0.590\n",
      "[409,  1200] loss: 0.630\n"
     ]
    },
    {
     "name": "stderr",
     "output_type": "stream",
     "text": [
      " 82%|████████▏ | 409/500 [29:11<05:18,  3.50s/it]"
     ]
    },
    {
     "name": "stdout",
     "output_type": "stream",
     "text": [
      "[410,   100] loss: 0.051\n",
      "[410,   200] loss: 0.105\n",
      "[410,   300] loss: 0.148\n",
      "[410,   400] loss: 0.198\n",
      "[410,   500] loss: 0.244\n",
      "[410,   600] loss: 0.294\n",
      "[410,   700] loss: 0.339\n",
      "[410,   800] loss: 0.388\n",
      "[410,   900] loss: 0.446\n",
      "[410,  1000] loss: 0.508\n",
      "[410,  1100] loss: 0.561\n",
      "[410,  1200] loss: 0.621\n"
     ]
    },
    {
     "name": "stderr",
     "output_type": "stream",
     "text": [
      " 82%|████████▏ | 410/500 [29:15<05:31,  3.68s/it]"
     ]
    },
    {
     "name": "stdout",
     "output_type": "stream",
     "text": [
      "[411,   100] loss: 0.045\n",
      "[411,   200] loss: 0.093\n",
      "[411,   300] loss: 0.141\n",
      "[411,   400] loss: 0.200\n",
      "[411,   500] loss: 0.261\n",
      "[411,   600] loss: 0.303\n",
      "[411,   700] loss: 0.373\n",
      "[411,   800] loss: 0.425\n",
      "[411,   900] loss: 0.471\n",
      "[411,  1000] loss: 0.520\n",
      "[411,  1100] loss: 0.577\n",
      "[411,  1200] loss: 0.635\n"
     ]
    },
    {
     "name": "stderr",
     "output_type": "stream",
     "text": [
      " 82%|████████▏ | 411/500 [29:18<05:04,  3.43s/it]"
     ]
    },
    {
     "name": "stdout",
     "output_type": "stream",
     "text": [
      "[412,   100] loss: 0.049\n",
      "[412,   200] loss: 0.088\n",
      "[412,   300] loss: 0.136\n",
      "[412,   400] loss: 0.190\n",
      "[412,   500] loss: 0.230\n",
      "[412,   600] loss: 0.284\n",
      "[412,   700] loss: 0.333\n",
      "[412,   800] loss: 0.393\n",
      "[412,   900] loss: 0.442\n",
      "[412,  1000] loss: 0.491\n",
      "[412,  1100] loss: 0.534\n",
      "[412,  1200] loss: 0.599\n"
     ]
    },
    {
     "name": "stderr",
     "output_type": "stream",
     "text": [
      " 82%|████████▏ | 412/500 [29:22<05:07,  3.49s/it]"
     ]
    },
    {
     "name": "stdout",
     "output_type": "stream",
     "text": [
      "[413,   100] loss: 0.043\n",
      "[413,   200] loss: 0.095\n",
      "[413,   300] loss: 0.155\n",
      "[413,   400] loss: 0.203\n",
      "[413,   500] loss: 0.251\n",
      "[413,   600] loss: 0.304\n",
      "[413,   700] loss: 0.354\n",
      "[413,   800] loss: 0.395\n",
      "[413,   900] loss: 0.453\n",
      "[413,  1000] loss: 0.510\n",
      "[413,  1100] loss: 0.555\n"
     ]
    },
    {
     "name": "stderr",
     "output_type": "stream",
     "text": [
      " 83%|████████▎ | 413/500 [29:25<04:58,  3.43s/it]"
     ]
    },
    {
     "name": "stdout",
     "output_type": "stream",
     "text": [
      "[413,  1200] loss: 0.619\n",
      "[414,   100] loss: 0.050\n",
      "[414,   200] loss: 0.101\n",
      "[414,   300] loss: 0.158\n",
      "[414,   400] loss: 0.200\n",
      "[414,   500] loss: 0.257\n",
      "[414,   600] loss: 0.308\n",
      "[414,   700] loss: 0.365\n",
      "[414,   800] loss: 0.404\n",
      "[414,   900] loss: 0.454\n",
      "[414,  1000] loss: 0.501\n",
      "[414,  1100] loss: 0.561\n",
      "[414,  1200] loss: 0.594\n"
     ]
    },
    {
     "name": "stderr",
     "output_type": "stream",
     "text": [
      " 83%|████████▎ | 414/500 [29:29<05:00,  3.49s/it]"
     ]
    },
    {
     "name": "stdout",
     "output_type": "stream",
     "text": [
      "[415,   100] loss: 0.063\n",
      "[415,   200] loss: 0.118\n",
      "[415,   300] loss: 0.163\n",
      "[415,   400] loss: 0.229\n",
      "[415,   500] loss: 0.288\n",
      "[415,   600] loss: 0.329\n",
      "[415,   700] loss: 0.384\n",
      "[415,   800] loss: 0.442\n",
      "[415,   900] loss: 0.496\n",
      "[415,  1000] loss: 0.556\n",
      "[415,  1100] loss: 0.601\n",
      "[415,  1200] loss: 0.652\n"
     ]
    },
    {
     "name": "stderr",
     "output_type": "stream",
     "text": [
      " 83%|████████▎ | 415/500 [29:32<04:37,  3.27s/it]"
     ]
    },
    {
     "name": "stdout",
     "output_type": "stream",
     "text": [
      "[416,   100] loss: 0.053\n",
      "[416,   200] loss: 0.091\n",
      "[416,   300] loss: 0.134\n",
      "[416,   400] loss: 0.191\n",
      "[416,   500] loss: 0.235\n",
      "[416,   600] loss: 0.298\n",
      "[416,   700] loss: 0.364\n",
      "[416,   800] loss: 0.414\n",
      "[416,   900] loss: 0.451\n",
      "[416,  1000] loss: 0.486\n",
      "[416,  1100] loss: 0.529\n",
      "[416,  1200] loss: 0.589\n"
     ]
    },
    {
     "name": "stderr",
     "output_type": "stream",
     "text": [
      " 83%|████████▎ | 416/500 [29:34<04:18,  3.08s/it]"
     ]
    },
    {
     "name": "stdout",
     "output_type": "stream",
     "text": [
      "[417,   100] loss: 0.045\n",
      "[417,   200] loss: 0.081\n",
      "[417,   300] loss: 0.142\n",
      "[417,   400] loss: 0.191\n",
      "[417,   500] loss: 0.242\n",
      "[417,   600] loss: 0.306\n",
      "[417,   700] loss: 0.355\n",
      "[417,   800] loss: 0.399\n",
      "[417,   900] loss: 0.452\n",
      "[417,  1000] loss: 0.487\n",
      "[417,  1100] loss: 0.534\n",
      "[417,  1200] loss: 0.588\n"
     ]
    },
    {
     "name": "stderr",
     "output_type": "stream",
     "text": [
      " 83%|████████▎ | 417/500 [29:37<03:58,  2.87s/it]"
     ]
    },
    {
     "name": "stdout",
     "output_type": "stream",
     "text": [
      "[418,   100] loss: 0.053\n",
      "[418,   200] loss: 0.110\n",
      "[418,   300] loss: 0.175\n",
      "[418,   400] loss: 0.221\n",
      "[418,   500] loss: 0.262\n",
      "[418,   600] loss: 0.299\n",
      "[418,   700] loss: 0.335\n",
      "[418,   800] loss: 0.407\n",
      "[418,   900] loss: 0.453\n",
      "[418,  1000] loss: 0.507\n",
      "[418,  1100] loss: 0.554\n",
      "[418,  1200] loss: 0.594\n"
     ]
    },
    {
     "name": "stderr",
     "output_type": "stream",
     "text": [
      " 84%|████████▎ | 418/500 [29:39<03:47,  2.78s/it]"
     ]
    },
    {
     "name": "stdout",
     "output_type": "stream",
     "text": [
      "[419,   100] loss: 0.070\n",
      "[419,   200] loss: 0.124\n",
      "[419,   300] loss: 0.179\n",
      "[419,   400] loss: 0.214\n",
      "[419,   500] loss: 0.258\n",
      "[419,   600] loss: 0.310\n",
      "[419,   700] loss: 0.354\n",
      "[419,   800] loss: 0.416\n",
      "[419,   900] loss: 0.469\n",
      "[419,  1000] loss: 0.522\n",
      "[419,  1100] loss: 0.583\n"
     ]
    },
    {
     "name": "stderr",
     "output_type": "stream",
     "text": [
      " 84%|████████▍ | 419/500 [29:42<03:42,  2.74s/it]"
     ]
    },
    {
     "name": "stdout",
     "output_type": "stream",
     "text": [
      "[419,  1200] loss: 0.648\n",
      "[420,   100] loss: 0.050\n",
      "[420,   200] loss: 0.106\n",
      "[420,   300] loss: 0.156\n",
      "[420,   400] loss: 0.201\n",
      "[420,   500] loss: 0.257\n",
      "[420,   600] loss: 0.301\n",
      "[420,   700] loss: 0.363\n",
      "[420,   800] loss: 0.393\n",
      "[420,   900] loss: 0.429\n",
      "[420,  1000] loss: 0.467\n",
      "[420,  1100] loss: 0.526\n",
      "[420,  1200] loss: 0.574\n"
     ]
    },
    {
     "name": "stderr",
     "output_type": "stream",
     "text": [
      " 84%|████████▍ | 420/500 [29:44<03:34,  2.69s/it]"
     ]
    },
    {
     "name": "stdout",
     "output_type": "stream",
     "text": [
      "[421,   100] loss: 0.070\n",
      "[421,   200] loss: 0.109\n",
      "[421,   300] loss: 0.156\n",
      "[421,   400] loss: 0.210\n",
      "[421,   500] loss: 0.270\n",
      "[421,   600] loss: 0.332\n",
      "[421,   700] loss: 0.389\n",
      "[421,   800] loss: 0.453\n",
      "[421,   900] loss: 0.499\n",
      "[421,  1000] loss: 0.540\n",
      "[421,  1100] loss: 0.596\n",
      "[421,  1200] loss: 0.641\n"
     ]
    },
    {
     "name": "stderr",
     "output_type": "stream",
     "text": [
      " 84%|████████▍ | 421/500 [29:48<03:58,  3.01s/it]"
     ]
    },
    {
     "name": "stdout",
     "output_type": "stream",
     "text": [
      "[422,   100] loss: 0.043\n",
      "[422,   200] loss: 0.085\n",
      "[422,   300] loss: 0.124\n",
      "[422,   400] loss: 0.172\n",
      "[422,   500] loss: 0.202\n",
      "[422,   600] loss: 0.240\n",
      "[422,   700] loss: 0.303\n",
      "[422,   800] loss: 0.339\n",
      "[422,   900] loss: 0.400\n",
      "[422,  1000] loss: 0.450\n",
      "[422,  1100] loss: 0.503\n",
      "[422,  1200] loss: 0.542\n"
     ]
    },
    {
     "name": "stderr",
     "output_type": "stream",
     "text": [
      " 84%|████████▍ | 422/500 [29:52<04:11,  3.22s/it]"
     ]
    },
    {
     "name": "stdout",
     "output_type": "stream",
     "text": [
      "[423,   100] loss: 0.055\n",
      "[423,   200] loss: 0.103\n",
      "[423,   300] loss: 0.146\n",
      "[423,   400] loss: 0.187\n",
      "[423,   500] loss: 0.248\n",
      "[423,   600] loss: 0.290\n",
      "[423,   700] loss: 0.328\n",
      "[423,   800] loss: 0.388\n",
      "[423,   900] loss: 0.423\n",
      "[423,  1000] loss: 0.465\n",
      "[423,  1100] loss: 0.524\n",
      "[423,  1200] loss: 0.584\n"
     ]
    },
    {
     "name": "stderr",
     "output_type": "stream",
     "text": [
      " 85%|████████▍ | 423/500 [29:54<03:51,  3.01s/it]"
     ]
    },
    {
     "name": "stdout",
     "output_type": "stream",
     "text": [
      "[424,   100] loss: 0.049\n",
      "[424,   200] loss: 0.106\n",
      "[424,   300] loss: 0.156\n",
      "[424,   400] loss: 0.200\n",
      "[424,   500] loss: 0.266\n",
      "[424,   600] loss: 0.295\n",
      "[424,   700] loss: 0.335\n",
      "[424,   800] loss: 0.409\n",
      "[424,   900] loss: 0.461\n",
      "[424,  1000] loss: 0.489\n",
      "[424,  1100] loss: 0.521\n",
      "[424,  1200] loss: 0.588\n"
     ]
    },
    {
     "name": "stderr",
     "output_type": "stream",
     "text": [
      " 85%|████████▍ | 424/500 [29:58<04:03,  3.20s/it]"
     ]
    },
    {
     "name": "stdout",
     "output_type": "stream",
     "text": [
      "[425,   100] loss: 0.060\n",
      "[425,   200] loss: 0.113\n",
      "[425,   300] loss: 0.145\n",
      "[425,   400] loss: 0.185\n",
      "[425,   500] loss: 0.228\n",
      "[425,   600] loss: 0.294\n",
      "[425,   700] loss: 0.347\n",
      "[425,   800] loss: 0.390\n",
      "[425,   900] loss: 0.445\n",
      "[425,  1000] loss: 0.499\n",
      "[425,  1100] loss: 0.550\n",
      "[425,  1200] loss: 0.600\n"
     ]
    },
    {
     "name": "stderr",
     "output_type": "stream",
     "text": [
      " 85%|████████▌ | 425/500 [30:01<03:48,  3.04s/it]"
     ]
    },
    {
     "name": "stdout",
     "output_type": "stream",
     "text": [
      "[426,   100] loss: 0.042\n",
      "[426,   200] loss: 0.085\n",
      "[426,   300] loss: 0.127\n",
      "[426,   400] loss: 0.171\n",
      "[426,   500] loss: 0.223\n",
      "[426,   600] loss: 0.266\n",
      "[426,   700] loss: 0.322\n",
      "[426,   800] loss: 0.367\n",
      "[426,   900] loss: 0.427\n",
      "[426,  1000] loss: 0.484\n",
      "[426,  1100] loss: 0.550\n",
      "[426,  1200] loss: 0.614\n"
     ]
    },
    {
     "name": "stderr",
     "output_type": "stream",
     "text": [
      " 85%|████████▌ | 426/500 [30:03<03:38,  2.95s/it]"
     ]
    },
    {
     "name": "stdout",
     "output_type": "stream",
     "text": [
      "[427,   100] loss: 0.052\n",
      "[427,   200] loss: 0.091\n",
      "[427,   300] loss: 0.145\n",
      "[427,   400] loss: 0.214\n",
      "[427,   500] loss: 0.261\n",
      "[427,   600] loss: 0.315\n",
      "[427,   700] loss: 0.361\n",
      "[427,   800] loss: 0.421\n",
      "[427,   900] loss: 0.476\n",
      "[427,  1000] loss: 0.539\n",
      "[427,  1100] loss: 0.579\n",
      "[427,  1200] loss: 0.624\n"
     ]
    },
    {
     "name": "stderr",
     "output_type": "stream",
     "text": [
      " 85%|████████▌ | 427/500 [30:06<03:32,  2.91s/it]"
     ]
    },
    {
     "name": "stdout",
     "output_type": "stream",
     "text": [
      "[428,   100] loss: 0.039\n",
      "[428,   200] loss: 0.107\n",
      "[428,   300] loss: 0.153\n",
      "[428,   400] loss: 0.212\n",
      "[428,   500] loss: 0.271\n",
      "[428,   600] loss: 0.322\n",
      "[428,   700] loss: 0.384\n",
      "[428,   800] loss: 0.427\n",
      "[428,   900] loss: 0.473\n",
      "[428,  1000] loss: 0.536\n",
      "[428,  1100] loss: 0.587\n"
     ]
    },
    {
     "name": "stderr",
     "output_type": "stream",
     "text": [
      " 86%|████████▌ | 428/500 [30:09<03:37,  3.02s/it]"
     ]
    },
    {
     "name": "stdout",
     "output_type": "stream",
     "text": [
      "[428,  1200] loss: 0.641\n",
      "[429,   100] loss: 0.049\n",
      "[429,   200] loss: 0.097\n",
      "[429,   300] loss: 0.143\n",
      "[429,   400] loss: 0.193\n",
      "[429,   500] loss: 0.220\n",
      "[429,   600] loss: 0.257\n",
      "[429,   700] loss: 0.290\n",
      "[429,   800] loss: 0.362\n",
      "[429,   900] loss: 0.421\n",
      "[429,  1000] loss: 0.477\n",
      "[429,  1100] loss: 0.526\n"
     ]
    },
    {
     "name": "stderr",
     "output_type": "stream",
     "text": [
      " 86%|████████▌ | 429/500 [30:12<03:34,  3.02s/it]"
     ]
    },
    {
     "name": "stdout",
     "output_type": "stream",
     "text": [
      "[429,  1200] loss: 0.584\n",
      "[430,   100] loss: 0.043\n",
      "[430,   200] loss: 0.084\n",
      "[430,   300] loss: 0.135\n",
      "[430,   400] loss: 0.200\n",
      "[430,   500] loss: 0.240\n",
      "[430,   600] loss: 0.286\n",
      "[430,   700] loss: 0.349\n",
      "[430,   800] loss: 0.401\n",
      "[430,   900] loss: 0.456\n",
      "[430,  1000] loss: 0.499\n",
      "[430,  1100] loss: 0.540\n"
     ]
    },
    {
     "name": "stderr",
     "output_type": "stream",
     "text": [
      " 86%|████████▌ | 430/500 [30:15<03:25,  2.93s/it]"
     ]
    },
    {
     "name": "stdout",
     "output_type": "stream",
     "text": [
      "[430,  1200] loss: 0.595\n",
      "[431,   100] loss: 0.060\n",
      "[431,   200] loss: 0.114\n",
      "[431,   300] loss: 0.172\n",
      "[431,   400] loss: 0.213\n",
      "[431,   500] loss: 0.263\n",
      "[431,   600] loss: 0.301\n",
      "[431,   700] loss: 0.352\n",
      "[431,   800] loss: 0.413\n",
      "[431,   900] loss: 0.470\n",
      "[431,  1000] loss: 0.539\n",
      "[431,  1100] loss: 0.580\n",
      "[431,  1200] loss: 0.639\n"
     ]
    },
    {
     "name": "stderr",
     "output_type": "stream",
     "text": [
      " 86%|████████▌ | 431/500 [30:18<03:13,  2.81s/it]"
     ]
    },
    {
     "name": "stdout",
     "output_type": "stream",
     "text": [
      "[432,   100] loss: 0.053\n",
      "[432,   200] loss: 0.102\n",
      "[432,   300] loss: 0.165\n",
      "[432,   400] loss: 0.216\n",
      "[432,   500] loss: 0.265\n",
      "[432,   600] loss: 0.310\n",
      "[432,   700] loss: 0.346\n",
      "[432,   800] loss: 0.396\n",
      "[432,   900] loss: 0.463\n",
      "[432,  1000] loss: 0.510\n",
      "[432,  1100] loss: 0.575\n"
     ]
    },
    {
     "name": "stderr",
     "output_type": "stream",
     "text": [
      " 86%|████████▋ | 432/500 [30:20<03:05,  2.72s/it]"
     ]
    },
    {
     "name": "stdout",
     "output_type": "stream",
     "text": [
      "[432,  1200] loss: 0.625\n",
      "[433,   100] loss: 0.069\n",
      "[433,   200] loss: 0.139\n",
      "[433,   300] loss: 0.194\n",
      "[433,   400] loss: 0.238\n",
      "[433,   500] loss: 0.283\n",
      "[433,   600] loss: 0.334\n",
      "[433,   700] loss: 0.382\n",
      "[433,   800] loss: 0.441\n",
      "[433,   900] loss: 0.487\n",
      "[433,  1000] loss: 0.529\n",
      "[433,  1100] loss: 0.571\n"
     ]
    },
    {
     "name": "stderr",
     "output_type": "stream",
     "text": [
      " 87%|████████▋ | 433/500 [30:23<03:01,  2.71s/it]"
     ]
    },
    {
     "name": "stdout",
     "output_type": "stream",
     "text": [
      "[433,  1200] loss: 0.628\n",
      "[434,   100] loss: 0.054\n",
      "[434,   200] loss: 0.105\n",
      "[434,   300] loss: 0.162\n",
      "[434,   400] loss: 0.209\n",
      "[434,   500] loss: 0.255\n",
      "[434,   600] loss: 0.311\n",
      "[434,   700] loss: 0.348\n",
      "[434,   800] loss: 0.386\n",
      "[434,   900] loss: 0.448\n",
      "[434,  1000] loss: 0.493\n",
      "[434,  1100] loss: 0.554\n",
      "[434,  1200] loss: 0.602\n"
     ]
    },
    {
     "name": "stderr",
     "output_type": "stream",
     "text": [
      " 87%|████████▋ | 434/500 [30:25<02:53,  2.64s/it]"
     ]
    },
    {
     "name": "stdout",
     "output_type": "stream",
     "text": [
      "[435,   100] loss: 0.057\n",
      "[435,   200] loss: 0.094\n",
      "[435,   300] loss: 0.135\n",
      "[435,   400] loss: 0.184\n",
      "[435,   500] loss: 0.231\n",
      "[435,   600] loss: 0.301\n",
      "[435,   700] loss: 0.357\n",
      "[435,   800] loss: 0.425\n",
      "[435,   900] loss: 0.475\n",
      "[435,  1000] loss: 0.518\n",
      "[435,  1100] loss: 0.572\n",
      "[435,  1200] loss: 0.627\n"
     ]
    },
    {
     "name": "stderr",
     "output_type": "stream",
     "text": [
      " 87%|████████▋ | 435/500 [30:28<02:48,  2.60s/it]"
     ]
    },
    {
     "name": "stdout",
     "output_type": "stream",
     "text": [
      "[436,   100] loss: 0.041\n",
      "[436,   200] loss: 0.093\n",
      "[436,   300] loss: 0.147\n",
      "[436,   400] loss: 0.206\n",
      "[436,   500] loss: 0.256\n",
      "[436,   600] loss: 0.307\n",
      "[436,   700] loss: 0.349\n",
      "[436,   800] loss: 0.397\n",
      "[436,   900] loss: 0.447\n",
      "[436,  1000] loss: 0.492\n",
      "[436,  1100] loss: 0.550\n",
      "[436,  1200] loss: 0.609\n"
     ]
    },
    {
     "name": "stderr",
     "output_type": "stream",
     "text": [
      " 87%|████████▋ | 436/500 [30:31<02:48,  2.64s/it]"
     ]
    },
    {
     "name": "stdout",
     "output_type": "stream",
     "text": [
      "[437,   100] loss: 0.049\n",
      "[437,   200] loss: 0.098\n",
      "[437,   300] loss: 0.140\n",
      "[437,   400] loss: 0.197\n",
      "[437,   500] loss: 0.258\n",
      "[437,   600] loss: 0.298\n",
      "[437,   700] loss: 0.360\n",
      "[437,   800] loss: 0.409\n",
      "[437,   900] loss: 0.458\n",
      "[437,  1000] loss: 0.514\n",
      "[437,  1100] loss: 0.577\n"
     ]
    },
    {
     "name": "stderr",
     "output_type": "stream",
     "text": [
      " 87%|████████▋ | 437/500 [30:33<02:44,  2.61s/it]"
     ]
    },
    {
     "name": "stdout",
     "output_type": "stream",
     "text": [
      "[437,  1200] loss: 0.627\n",
      "[438,   100] loss: 0.044\n",
      "[438,   200] loss: 0.093\n",
      "[438,   300] loss: 0.135\n",
      "[438,   400] loss: 0.183\n",
      "[438,   500] loss: 0.239\n",
      "[438,   600] loss: 0.295\n",
      "[438,   700] loss: 0.344\n",
      "[438,   800] loss: 0.396\n",
      "[438,   900] loss: 0.451\n",
      "[438,  1000] loss: 0.490\n",
      "[438,  1100] loss: 0.526\n"
     ]
    },
    {
     "name": "stderr",
     "output_type": "stream",
     "text": [
      " 88%|████████▊ | 438/500 [30:36<02:39,  2.57s/it]"
     ]
    },
    {
     "name": "stdout",
     "output_type": "stream",
     "text": [
      "[438,  1200] loss: 0.575\n",
      "[439,   100] loss: 0.054\n",
      "[439,   200] loss: 0.098\n",
      "[439,   300] loss: 0.136\n",
      "[439,   400] loss: 0.184\n",
      "[439,   500] loss: 0.247\n",
      "[439,   600] loss: 0.313\n",
      "[439,   700] loss: 0.375\n",
      "[439,   800] loss: 0.414\n",
      "[439,   900] loss: 0.462\n",
      "[439,  1000] loss: 0.509\n",
      "[439,  1100] loss: 0.557\n",
      "[439,  1200] loss: 0.617\n"
     ]
    },
    {
     "name": "stderr",
     "output_type": "stream",
     "text": [
      " 88%|████████▊ | 439/500 [30:38<02:35,  2.55s/it]"
     ]
    },
    {
     "name": "stdout",
     "output_type": "stream",
     "text": [
      "[440,   100] loss: 0.052\n",
      "[440,   200] loss: 0.099\n",
      "[440,   300] loss: 0.152\n",
      "[440,   400] loss: 0.185\n",
      "[440,   500] loss: 0.222\n",
      "[440,   600] loss: 0.261\n",
      "[440,   700] loss: 0.321\n",
      "[440,   800] loss: 0.379\n",
      "[440,   900] loss: 0.441\n",
      "[440,  1000] loss: 0.498\n",
      "[440,  1100] loss: 0.544\n",
      "[440,  1200] loss: 0.588\n"
     ]
    },
    {
     "name": "stderr",
     "output_type": "stream",
     "text": [
      " 88%|████████▊ | 440/500 [30:41<02:31,  2.53s/it]"
     ]
    },
    {
     "name": "stdout",
     "output_type": "stream",
     "text": [
      "[441,   100] loss: 0.068\n",
      "[441,   200] loss: 0.113\n",
      "[441,   300] loss: 0.152\n",
      "[441,   400] loss: 0.200\n",
      "[441,   500] loss: 0.246\n",
      "[441,   600] loss: 0.303\n",
      "[441,   700] loss: 0.350\n",
      "[441,   800] loss: 0.393\n",
      "[441,   900] loss: 0.433\n",
      "[441,  1000] loss: 0.476\n",
      "[441,  1100] loss: 0.530\n",
      "[441,  1200] loss: 0.586\n"
     ]
    },
    {
     "name": "stderr",
     "output_type": "stream",
     "text": [
      " 88%|████████▊ | 441/500 [30:44<02:48,  2.86s/it]"
     ]
    },
    {
     "name": "stdout",
     "output_type": "stream",
     "text": [
      "[442,   100] loss: 0.041\n",
      "[442,   200] loss: 0.081\n",
      "[442,   300] loss: 0.125\n",
      "[442,   400] loss: 0.187\n",
      "[442,   500] loss: 0.234\n",
      "[442,   600] loss: 0.281\n",
      "[442,   700] loss: 0.326\n",
      "[442,   800] loss: 0.366\n",
      "[442,   900] loss: 0.413\n",
      "[442,  1000] loss: 0.450\n",
      "[442,  1100] loss: 0.498\n",
      "[442,  1200] loss: 0.570\n"
     ]
    },
    {
     "name": "stderr",
     "output_type": "stream",
     "text": [
      " 88%|████████▊ | 442/500 [30:53<04:20,  4.49s/it]"
     ]
    },
    {
     "name": "stdout",
     "output_type": "stream",
     "text": [
      "[443,   100] loss: 0.036\n",
      "[443,   200] loss: 0.097\n",
      "[443,   300] loss: 0.153\n",
      "[443,   400] loss: 0.209\n",
      "[443,   500] loss: 0.265\n",
      "[443,   600] loss: 0.307\n",
      "[443,   700] loss: 0.366\n",
      "[443,   800] loss: 0.422\n",
      "[443,   900] loss: 0.474\n",
      "[443,  1000] loss: 0.513\n",
      "[443,  1100] loss: 0.563\n",
      "[443,  1200] loss: 0.608\n"
     ]
    },
    {
     "name": "stderr",
     "output_type": "stream",
     "text": [
      " 89%|████████▊ | 443/500 [31:01<05:17,  5.56s/it]"
     ]
    },
    {
     "name": "stdout",
     "output_type": "stream",
     "text": [
      "[444,   100] loss: 0.058\n",
      "[444,   200] loss: 0.104\n",
      "[444,   300] loss: 0.150\n",
      "[444,   400] loss: 0.193\n",
      "[444,   500] loss: 0.252\n",
      "[444,   600] loss: 0.313\n",
      "[444,   700] loss: 0.355\n",
      "[444,   800] loss: 0.410\n",
      "[444,   900] loss: 0.453\n",
      "[444,  1000] loss: 0.498\n",
      "[444,  1100] loss: 0.542\n",
      "[444,  1200] loss: 0.583\n"
     ]
    },
    {
     "name": "stderr",
     "output_type": "stream",
     "text": [
      " 89%|████████▉ | 444/500 [31:08<05:48,  6.22s/it]"
     ]
    },
    {
     "name": "stdout",
     "output_type": "stream",
     "text": [
      "[445,   100] loss: 0.054\n",
      "[445,   200] loss: 0.111\n",
      "[445,   300] loss: 0.158\n",
      "[445,   400] loss: 0.190\n",
      "[445,   500] loss: 0.243\n",
      "[445,   600] loss: 0.289\n",
      "[445,   700] loss: 0.336\n",
      "[445,   800] loss: 0.395\n",
      "[445,   900] loss: 0.430\n",
      "[445,  1000] loss: 0.490\n",
      "[445,  1100] loss: 0.539\n",
      "[445,  1200] loss: 0.595\n"
     ]
    },
    {
     "name": "stderr",
     "output_type": "stream",
     "text": [
      " 89%|████████▉ | 445/500 [31:18<06:30,  7.10s/it]"
     ]
    },
    {
     "name": "stdout",
     "output_type": "stream",
     "text": [
      "[446,   100] loss: 0.035\n",
      "[446,   200] loss: 0.090\n",
      "[446,   300] loss: 0.135\n",
      "[446,   400] loss: 0.189\n",
      "[446,   500] loss: 0.234\n",
      "[446,   600] loss: 0.292\n",
      "[446,   700] loss: 0.332\n",
      "[446,   800] loss: 0.381\n",
      "[446,   900] loss: 0.416\n",
      "[446,  1000] loss: 0.459\n",
      "[446,  1100] loss: 0.517\n",
      "[446,  1200] loss: 0.566\n"
     ]
    },
    {
     "name": "stderr",
     "output_type": "stream",
     "text": [
      " 89%|████████▉ | 446/500 [31:25<06:32,  7.27s/it]"
     ]
    },
    {
     "name": "stdout",
     "output_type": "stream",
     "text": [
      "[447,   100] loss: 0.038\n",
      "[447,   200] loss: 0.090\n",
      "[447,   300] loss: 0.131\n",
      "[447,   400] loss: 0.181\n",
      "[447,   500] loss: 0.223\n",
      "[447,   600] loss: 0.260\n",
      "[447,   700] loss: 0.325\n",
      "[447,   800] loss: 0.383\n",
      "[447,   900] loss: 0.429\n",
      "[447,  1000] loss: 0.479\n",
      "[447,  1100] loss: 0.532\n",
      "[447,  1200] loss: 0.590\n"
     ]
    },
    {
     "name": "stderr",
     "output_type": "stream",
     "text": [
      " 89%|████████▉ | 447/500 [31:34<06:43,  7.61s/it]"
     ]
    },
    {
     "name": "stdout",
     "output_type": "stream",
     "text": [
      "[448,   100] loss: 0.053\n",
      "[448,   200] loss: 0.098\n",
      "[448,   300] loss: 0.146\n",
      "[448,   400] loss: 0.190\n",
      "[448,   500] loss: 0.242\n",
      "[448,   600] loss: 0.302\n",
      "[448,   700] loss: 0.358\n",
      "[448,   800] loss: 0.411\n",
      "[448,   900] loss: 0.467\n",
      "[448,  1000] loss: 0.506\n",
      "[448,  1100] loss: 0.569\n",
      "[448,  1200] loss: 0.608\n"
     ]
    },
    {
     "name": "stderr",
     "output_type": "stream",
     "text": [
      " 90%|████████▉ | 448/500 [31:42<06:44,  7.78s/it]"
     ]
    },
    {
     "name": "stdout",
     "output_type": "stream",
     "text": [
      "[449,   100] loss: 0.052\n",
      "[449,   200] loss: 0.110\n",
      "[449,   300] loss: 0.161\n",
      "[449,   400] loss: 0.209\n",
      "[449,   500] loss: 0.259\n",
      "[449,   600] loss: 0.311\n",
      "[449,   700] loss: 0.371\n",
      "[449,   800] loss: 0.415\n",
      "[449,   900] loss: 0.473\n",
      "[449,  1000] loss: 0.513\n",
      "[449,  1100] loss: 0.579\n",
      "[449,  1200] loss: 0.635\n"
     ]
    },
    {
     "name": "stderr",
     "output_type": "stream",
     "text": [
      " 90%|████████▉ | 449/500 [31:50<06:41,  7.88s/it]"
     ]
    },
    {
     "name": "stdout",
     "output_type": "stream",
     "text": [
      "[450,   100] loss: 0.064\n",
      "[450,   200] loss: 0.101\n",
      "[450,   300] loss: 0.145\n",
      "[450,   400] loss: 0.199\n",
      "[450,   500] loss: 0.249\n",
      "[450,   600] loss: 0.301\n",
      "[450,   700] loss: 0.335\n",
      "[450,   800] loss: 0.382\n",
      "[450,   900] loss: 0.452\n",
      "[450,  1000] loss: 0.510\n",
      "[450,  1100] loss: 0.565\n",
      "[450,  1200] loss: 0.619\n"
     ]
    },
    {
     "name": "stderr",
     "output_type": "stream",
     "text": [
      " 90%|█████████ | 450/500 [31:58<06:37,  7.95s/it]"
     ]
    },
    {
     "name": "stdout",
     "output_type": "stream",
     "text": [
      "[451,   100] loss: 0.042\n",
      "[451,   200] loss: 0.082\n",
      "[451,   300] loss: 0.138\n",
      "[451,   400] loss: 0.191\n",
      "[451,   500] loss: 0.242\n",
      "[451,   600] loss: 0.293\n",
      "[451,   700] loss: 0.366\n",
      "[451,   800] loss: 0.407\n",
      "[451,   900] loss: 0.461\n",
      "[451,  1000] loss: 0.501\n",
      "[451,  1100] loss: 0.552\n",
      "[451,  1200] loss: 0.619\n"
     ]
    },
    {
     "name": "stderr",
     "output_type": "stream",
     "text": [
      " 90%|█████████ | 451/500 [32:06<06:28,  7.93s/it]"
     ]
    },
    {
     "name": "stdout",
     "output_type": "stream",
     "text": [
      "[452,   100] loss: 0.067\n",
      "[452,   200] loss: 0.123\n",
      "[452,   300] loss: 0.165\n",
      "[452,   400] loss: 0.226\n",
      "[452,   500] loss: 0.282\n",
      "[452,   600] loss: 0.319\n",
      "[452,   700] loss: 0.373\n",
      "[452,   800] loss: 0.412\n",
      "[452,   900] loss: 0.462\n",
      "[452,  1000] loss: 0.516\n",
      "[452,  1100] loss: 0.573\n",
      "[452,  1200] loss: 0.620\n"
     ]
    },
    {
     "name": "stderr",
     "output_type": "stream",
     "text": [
      " 90%|█████████ | 452/500 [32:14<06:24,  8.01s/it]"
     ]
    },
    {
     "name": "stdout",
     "output_type": "stream",
     "text": [
      "[453,   100] loss: 0.057\n",
      "[453,   200] loss: 0.118\n",
      "[453,   300] loss: 0.156\n",
      "[453,   400] loss: 0.217\n",
      "[453,   500] loss: 0.274\n",
      "[453,   600] loss: 0.320\n",
      "[453,   700] loss: 0.388\n",
      "[453,   800] loss: 0.419\n",
      "[453,   900] loss: 0.465\n",
      "[453,  1000] loss: 0.508\n",
      "[453,  1100] loss: 0.546\n"
     ]
    },
    {
     "name": "stderr",
     "output_type": "stream",
     "text": [
      " 91%|█████████ | 453/500 [32:19<05:31,  7.06s/it]"
     ]
    },
    {
     "name": "stdout",
     "output_type": "stream",
     "text": [
      "[453,  1200] loss: 0.595\n",
      "[454,   100] loss: 0.046\n",
      "[454,   200] loss: 0.096\n",
      "[454,   300] loss: 0.152\n",
      "[454,   400] loss: 0.208\n",
      "[454,   500] loss: 0.270\n",
      "[454,   600] loss: 0.314\n",
      "[454,   700] loss: 0.346\n",
      "[454,   800] loss: 0.376\n",
      "[454,   900] loss: 0.410\n",
      "[454,  1000] loss: 0.445\n",
      "[454,  1100] loss: 0.486\n"
     ]
    },
    {
     "name": "stderr",
     "output_type": "stream",
     "text": [
      " 91%|█████████ | 454/500 [32:22<04:27,  5.82s/it]"
     ]
    },
    {
     "name": "stdout",
     "output_type": "stream",
     "text": [
      "[454,  1200] loss: 0.577\n",
      "[455,   100] loss: 0.057\n",
      "[455,   200] loss: 0.109\n",
      "[455,   300] loss: 0.147\n",
      "[455,   400] loss: 0.214\n",
      "[455,   500] loss: 0.271\n",
      "[455,   600] loss: 0.326\n",
      "[455,   700] loss: 0.383\n",
      "[455,   800] loss: 0.437\n",
      "[455,   900] loss: 0.484\n",
      "[455,  1000] loss: 0.551\n",
      "[455,  1100] loss: 0.607\n",
      "[455,  1200] loss: 0.659\n"
     ]
    },
    {
     "name": "stderr",
     "output_type": "stream",
     "text": [
      " 91%|█████████ | 455/500 [32:25<03:44,  4.99s/it]"
     ]
    },
    {
     "name": "stdout",
     "output_type": "stream",
     "text": [
      "[456,   100] loss: 0.047\n",
      "[456,   200] loss: 0.103\n",
      "[456,   300] loss: 0.155\n",
      "[456,   400] loss: 0.202\n",
      "[456,   500] loss: 0.251\n",
      "[456,   600] loss: 0.311\n",
      "[456,   700] loss: 0.360\n",
      "[456,   800] loss: 0.384\n",
      "[456,   900] loss: 0.436\n",
      "[456,  1000] loss: 0.491\n",
      "[456,  1100] loss: 0.555\n",
      "[456,  1200] loss: 0.613\n"
     ]
    },
    {
     "name": "stderr",
     "output_type": "stream",
     "text": [
      " 91%|█████████ | 456/500 [32:29<03:21,  4.58s/it]"
     ]
    },
    {
     "name": "stdout",
     "output_type": "stream",
     "text": [
      "[457,   100] loss: 0.046\n",
      "[457,   200] loss: 0.099\n",
      "[457,   300] loss: 0.152\n",
      "[457,   400] loss: 0.205\n",
      "[457,   500] loss: 0.257\n",
      "[457,   600] loss: 0.316\n",
      "[457,   700] loss: 0.374\n",
      "[457,   800] loss: 0.422\n",
      "[457,   900] loss: 0.457\n",
      "[457,  1000] loss: 0.494\n",
      "[457,  1100] loss: 0.535\n"
     ]
    },
    {
     "name": "stderr",
     "output_type": "stream",
     "text": [
      " 91%|█████████▏| 457/500 [32:32<03:04,  4.28s/it]"
     ]
    },
    {
     "name": "stdout",
     "output_type": "stream",
     "text": [
      "[457,  1200] loss: 0.607\n",
      "[458,   100] loss: 0.044\n",
      "[458,   200] loss: 0.085\n",
      "[458,   300] loss: 0.136\n",
      "[458,   400] loss: 0.184\n",
      "[458,   500] loss: 0.233\n",
      "[458,   600] loss: 0.267\n",
      "[458,   700] loss: 0.336\n",
      "[458,   800] loss: 0.385\n",
      "[458,   900] loss: 0.442\n",
      "[458,  1000] loss: 0.494\n",
      "[458,  1100] loss: 0.562\n",
      "[458,  1200] loss: 0.611\n"
     ]
    },
    {
     "name": "stderr",
     "output_type": "stream",
     "text": [
      " 92%|█████████▏| 458/500 [32:37<03:01,  4.32s/it]"
     ]
    },
    {
     "name": "stdout",
     "output_type": "stream",
     "text": [
      "[459,   100] loss: 0.053\n",
      "[459,   200] loss: 0.110\n",
      "[459,   300] loss: 0.159\n",
      "[459,   400] loss: 0.210\n",
      "[459,   500] loss: 0.256\n",
      "[459,   600] loss: 0.333\n",
      "[459,   700] loss: 0.384\n",
      "[459,   800] loss: 0.422\n",
      "[459,   900] loss: 0.478\n",
      "[459,  1000] loss: 0.537\n",
      "[459,  1100] loss: 0.598\n"
     ]
    },
    {
     "name": "stderr",
     "output_type": "stream",
     "text": [
      " 92%|█████████▏| 459/500 [32:40<02:40,  3.93s/it]"
     ]
    },
    {
     "name": "stdout",
     "output_type": "stream",
     "text": [
      "[459,  1200] loss: 0.641\n",
      "[460,   100] loss: 0.056\n",
      "[460,   200] loss: 0.106\n",
      "[460,   300] loss: 0.160\n",
      "[460,   400] loss: 0.198\n",
      "[460,   500] loss: 0.260\n",
      "[460,   600] loss: 0.296\n",
      "[460,   700] loss: 0.357\n",
      "[460,   800] loss: 0.409\n",
      "[460,   900] loss: 0.453\n",
      "[460,  1000] loss: 0.512\n",
      "[460,  1100] loss: 0.566\n",
      "[460,  1200] loss: 0.626\n"
     ]
    },
    {
     "name": "stderr",
     "output_type": "stream",
     "text": [
      " 92%|█████████▏| 460/500 [32:42<02:24,  3.62s/it]"
     ]
    },
    {
     "name": "stdout",
     "output_type": "stream",
     "text": [
      "[461,   100] loss: 0.051\n",
      "[461,   200] loss: 0.093\n",
      "[461,   300] loss: 0.147\n",
      "[461,   400] loss: 0.199\n",
      "[461,   500] loss: 0.230\n",
      "[461,   600] loss: 0.276\n",
      "[461,   700] loss: 0.334\n",
      "[461,   800] loss: 0.390\n",
      "[461,   900] loss: 0.430\n",
      "[461,  1000] loss: 0.491\n",
      "[461,  1100] loss: 0.537\n",
      "[461,  1200] loss: 0.604\n"
     ]
    },
    {
     "name": "stderr",
     "output_type": "stream",
     "text": [
      " 92%|█████████▏| 461/500 [32:46<02:18,  3.56s/it]"
     ]
    },
    {
     "name": "stdout",
     "output_type": "stream",
     "text": [
      "[462,   100] loss: 0.037\n",
      "[462,   200] loss: 0.087\n",
      "[462,   300] loss: 0.136\n",
      "[462,   400] loss: 0.194\n",
      "[462,   500] loss: 0.259\n",
      "[462,   600] loss: 0.319\n",
      "[462,   700] loss: 0.370\n",
      "[462,   800] loss: 0.423\n",
      "[462,   900] loss: 0.461\n",
      "[462,  1000] loss: 0.510\n",
      "[462,  1100] loss: 0.553\n",
      "[462,  1200] loss: 0.595\n"
     ]
    },
    {
     "name": "stderr",
     "output_type": "stream",
     "text": [
      " 92%|█████████▏| 462/500 [32:50<02:17,  3.62s/it]"
     ]
    },
    {
     "name": "stdout",
     "output_type": "stream",
     "text": [
      "[463,   100] loss: 0.055\n",
      "[463,   200] loss: 0.112\n",
      "[463,   300] loss: 0.177\n",
      "[463,   400] loss: 0.219\n",
      "[463,   500] loss: 0.273\n",
      "[463,   600] loss: 0.312\n",
      "[463,   700] loss: 0.359\n",
      "[463,   800] loss: 0.417\n",
      "[463,   900] loss: 0.487\n",
      "[463,  1000] loss: 0.533\n",
      "[463,  1100] loss: 0.594\n"
     ]
    },
    {
     "name": "stderr",
     "output_type": "stream",
     "text": [
      " 93%|█████████▎| 463/500 [32:53<02:13,  3.60s/it]"
     ]
    },
    {
     "name": "stdout",
     "output_type": "stream",
     "text": [
      "[463,  1200] loss: 0.639\n",
      "[464,   100] loss: 0.038\n",
      "[464,   200] loss: 0.080\n",
      "[464,   300] loss: 0.126\n",
      "[464,   400] loss: 0.166\n",
      "[464,   500] loss: 0.231\n",
      "[464,   600] loss: 0.268\n",
      "[464,   700] loss: 0.326\n",
      "[464,   800] loss: 0.380\n",
      "[464,   900] loss: 0.437\n",
      "[464,  1000] loss: 0.482\n",
      "[464,  1100] loss: 0.543\n",
      "[464,  1200] loss: 0.607\n"
     ]
    },
    {
     "name": "stderr",
     "output_type": "stream",
     "text": [
      " 93%|█████████▎| 464/500 [32:56<02:05,  3.48s/it]"
     ]
    },
    {
     "name": "stdout",
     "output_type": "stream",
     "text": [
      "[465,   100] loss: 0.048\n",
      "[465,   200] loss: 0.093\n",
      "[465,   300] loss: 0.146\n",
      "[465,   400] loss: 0.194\n",
      "[465,   500] loss: 0.237\n",
      "[465,   600] loss: 0.284\n",
      "[465,   700] loss: 0.337\n",
      "[465,   800] loss: 0.402\n",
      "[465,   900] loss: 0.439\n",
      "[465,  1000] loss: 0.484\n",
      "[465,  1100] loss: 0.555\n",
      "[465,  1200] loss: 0.635\n"
     ]
    },
    {
     "name": "stderr",
     "output_type": "stream",
     "text": [
      " 93%|█████████▎| 465/500 [33:01<02:18,  3.95s/it]"
     ]
    },
    {
     "name": "stdout",
     "output_type": "stream",
     "text": [
      "[466,   100] loss: 0.051\n",
      "[466,   200] loss: 0.089\n",
      "[466,   300] loss: 0.141\n",
      "[466,   400] loss: 0.199\n",
      "[466,   500] loss: 0.237\n",
      "[466,   600] loss: 0.304\n",
      "[466,   700] loss: 0.361\n",
      "[466,   800] loss: 0.409\n",
      "[466,   900] loss: 0.463\n",
      "[466,  1000] loss: 0.509\n",
      "[466,  1100] loss: 0.569\n",
      "[466,  1200] loss: 0.619\n"
     ]
    },
    {
     "name": "stderr",
     "output_type": "stream",
     "text": [
      " 93%|█████████▎| 466/500 [33:05<02:15,  3.98s/it]"
     ]
    },
    {
     "name": "stdout",
     "output_type": "stream",
     "text": [
      "[467,   100] loss: 0.049\n",
      "[467,   200] loss: 0.101\n",
      "[467,   300] loss: 0.146\n",
      "[467,   400] loss: 0.200\n",
      "[467,   500] loss: 0.240\n",
      "[467,   600] loss: 0.294\n",
      "[467,   700] loss: 0.343\n",
      "[467,   800] loss: 0.409\n",
      "[467,   900] loss: 0.463\n",
      "[467,  1000] loss: 0.509\n",
      "[467,  1100] loss: 0.556\n",
      "[467,  1200] loss: 0.592\n"
     ]
    },
    {
     "name": "stderr",
     "output_type": "stream",
     "text": [
      " 93%|█████████▎| 467/500 [33:10<02:17,  4.18s/it]"
     ]
    },
    {
     "name": "stdout",
     "output_type": "stream",
     "text": [
      "[468,   100] loss: 0.054\n",
      "[468,   200] loss: 0.119\n",
      "[468,   300] loss: 0.176\n",
      "[468,   400] loss: 0.217\n",
      "[468,   500] loss: 0.278\n",
      "[468,   600] loss: 0.312\n",
      "[468,   700] loss: 0.370\n",
      "[468,   800] loss: 0.414\n",
      "[468,   900] loss: 0.471\n",
      "[468,  1000] loss: 0.518\n",
      "[468,  1100] loss: 0.568\n",
      "[468,  1200] loss: 0.617\n"
     ]
    },
    {
     "name": "stderr",
     "output_type": "stream",
     "text": [
      " 94%|█████████▎| 468/500 [33:15<02:18,  4.32s/it]"
     ]
    },
    {
     "name": "stdout",
     "output_type": "stream",
     "text": [
      "[469,   100] loss: 0.043\n",
      "[469,   200] loss: 0.096\n",
      "[469,   300] loss: 0.152\n",
      "[469,   400] loss: 0.222\n",
      "[469,   500] loss: 0.272\n",
      "[469,   600] loss: 0.316\n",
      "[469,   700] loss: 0.351\n",
      "[469,   800] loss: 0.407\n",
      "[469,   900] loss: 0.455\n",
      "[469,  1000] loss: 0.517\n",
      "[469,  1100] loss: 0.577\n",
      "[469,  1200] loss: 0.630\n"
     ]
    },
    {
     "name": "stderr",
     "output_type": "stream",
     "text": [
      " 94%|█████████▍| 469/500 [33:18<02:07,  4.10s/it]"
     ]
    },
    {
     "name": "stdout",
     "output_type": "stream",
     "text": [
      "[470,   100] loss: 0.056\n",
      "[470,   200] loss: 0.090\n",
      "[470,   300] loss: 0.140\n",
      "[470,   400] loss: 0.189\n",
      "[470,   500] loss: 0.242\n",
      "[470,   600] loss: 0.287\n",
      "[470,   700] loss: 0.339\n",
      "[470,   800] loss: 0.381\n",
      "[470,   900] loss: 0.420\n",
      "[470,  1000] loss: 0.466\n",
      "[470,  1100] loss: 0.527\n"
     ]
    },
    {
     "name": "stderr",
     "output_type": "stream",
     "text": [
      " 94%|█████████▍| 470/500 [33:22<01:58,  3.95s/it]"
     ]
    },
    {
     "name": "stdout",
     "output_type": "stream",
     "text": [
      "[470,  1200] loss: 0.586\n",
      "[471,   100] loss: 0.059\n",
      "[471,   200] loss: 0.104\n",
      "[471,   300] loss: 0.149\n",
      "[471,   400] loss: 0.207\n",
      "[471,   500] loss: 0.252\n",
      "[471,   600] loss: 0.301\n",
      "[471,   700] loss: 0.347\n",
      "[471,   800] loss: 0.396\n",
      "[471,   900] loss: 0.455\n",
      "[471,  1000] loss: 0.516\n",
      "[471,  1100] loss: 0.557\n",
      "[471,  1200] loss: 0.628\n"
     ]
    },
    {
     "name": "stderr",
     "output_type": "stream",
     "text": [
      " 94%|█████████▍| 471/500 [33:27<02:00,  4.15s/it]"
     ]
    },
    {
     "name": "stdout",
     "output_type": "stream",
     "text": [
      "[472,   100] loss: 0.046\n",
      "[472,   200] loss: 0.085\n",
      "[472,   300] loss: 0.119\n",
      "[472,   400] loss: 0.181\n",
      "[472,   500] loss: 0.231\n",
      "[472,   600] loss: 0.271\n",
      "[472,   700] loss: 0.315\n",
      "[472,   800] loss: 0.372\n",
      "[472,   900] loss: 0.412\n",
      "[472,  1000] loss: 0.452\n",
      "[472,  1100] loss: 0.507\n",
      "[472,  1200] loss: 0.566\n"
     ]
    },
    {
     "name": "stderr",
     "output_type": "stream",
     "text": [
      " 94%|█████████▍| 472/500 [33:31<01:58,  4.23s/it]"
     ]
    },
    {
     "name": "stdout",
     "output_type": "stream",
     "text": [
      "[473,   100] loss: 0.060\n",
      "[473,   200] loss: 0.100\n",
      "[473,   300] loss: 0.141\n",
      "[473,   400] loss: 0.196\n",
      "[473,   500] loss: 0.263\n",
      "[473,   600] loss: 0.311\n",
      "[473,   700] loss: 0.354\n",
      "[473,   800] loss: 0.406\n",
      "[473,   900] loss: 0.459\n",
      "[473,  1000] loss: 0.508\n",
      "[473,  1100] loss: 0.579\n"
     ]
    },
    {
     "name": "stderr",
     "output_type": "stream",
     "text": [
      " 95%|█████████▍| 473/500 [33:35<01:48,  4.03s/it]"
     ]
    },
    {
     "name": "stdout",
     "output_type": "stream",
     "text": [
      "[473,  1200] loss: 0.638\n",
      "[474,   100] loss: 0.060\n",
      "[474,   200] loss: 0.108\n",
      "[474,   300] loss: 0.156\n",
      "[474,   400] loss: 0.202\n",
      "[474,   500] loss: 0.251\n",
      "[474,   600] loss: 0.317\n",
      "[474,   700] loss: 0.370\n",
      "[474,   800] loss: 0.422\n",
      "[474,   900] loss: 0.460\n",
      "[474,  1000] loss: 0.512\n",
      "[474,  1100] loss: 0.572\n",
      "[474,  1200] loss: 0.630\n"
     ]
    },
    {
     "name": "stderr",
     "output_type": "stream",
     "text": [
      " 95%|█████████▍| 474/500 [33:38<01:36,  3.73s/it]"
     ]
    },
    {
     "name": "stdout",
     "output_type": "stream",
     "text": [
      "[475,   100] loss: 0.050\n",
      "[475,   200] loss: 0.102\n",
      "[475,   300] loss: 0.163\n",
      "[475,   400] loss: 0.211\n",
      "[475,   500] loss: 0.263\n",
      "[475,   600] loss: 0.301\n",
      "[475,   700] loss: 0.348\n",
      "[475,   800] loss: 0.386\n",
      "[475,   900] loss: 0.447\n",
      "[475,  1000] loss: 0.502\n",
      "[475,  1100] loss: 0.537\n"
     ]
    },
    {
     "name": "stderr",
     "output_type": "stream",
     "text": [
      " 95%|█████████▌| 475/500 [33:41<01:27,  3.50s/it]"
     ]
    },
    {
     "name": "stdout",
     "output_type": "stream",
     "text": [
      "[475,  1200] loss: 0.588\n",
      "[476,   100] loss: 0.054\n",
      "[476,   200] loss: 0.101\n",
      "[476,   300] loss: 0.159\n",
      "[476,   400] loss: 0.210\n",
      "[476,   500] loss: 0.275\n",
      "[476,   600] loss: 0.328\n",
      "[476,   700] loss: 0.368\n",
      "[476,   800] loss: 0.413\n",
      "[476,   900] loss: 0.482\n",
      "[476,  1000] loss: 0.533\n",
      "[476,  1100] loss: 0.593\n",
      "[476,  1200] loss: 0.642\n"
     ]
    },
    {
     "name": "stderr",
     "output_type": "stream",
     "text": [
      " 95%|█████████▌| 476/500 [33:45<01:28,  3.71s/it]"
     ]
    },
    {
     "name": "stdout",
     "output_type": "stream",
     "text": [
      "[477,   100] loss: 0.059\n",
      "[477,   200] loss: 0.122\n",
      "[477,   300] loss: 0.165\n",
      "[477,   400] loss: 0.220\n",
      "[477,   500] loss: 0.265\n",
      "[477,   600] loss: 0.333\n",
      "[477,   700] loss: 0.373\n",
      "[477,   800] loss: 0.414\n",
      "[477,   900] loss: 0.481\n",
      "[477,  1000] loss: 0.525\n",
      "[477,  1100] loss: 0.569\n",
      "[477,  1200] loss: 0.632\n"
     ]
    },
    {
     "name": "stderr",
     "output_type": "stream",
     "text": [
      " 95%|█████████▌| 477/500 [33:51<01:42,  4.45s/it]"
     ]
    },
    {
     "name": "stdout",
     "output_type": "stream",
     "text": [
      "[478,   100] loss: 0.036\n",
      "[478,   200] loss: 0.079\n",
      "[478,   300] loss: 0.131\n",
      "[478,   400] loss: 0.195\n",
      "[478,   500] loss: 0.239\n",
      "[478,   600] loss: 0.296\n",
      "[478,   700] loss: 0.354\n",
      "[478,   800] loss: 0.403\n",
      "[478,   900] loss: 0.464\n",
      "[478,  1000] loss: 0.538\n",
      "[478,  1100] loss: 0.605\n"
     ]
    },
    {
     "name": "stderr",
     "output_type": "stream",
     "text": [
      " 96%|█████████▌| 478/500 [33:55<01:36,  4.40s/it]"
     ]
    },
    {
     "name": "stdout",
     "output_type": "stream",
     "text": [
      "[478,  1200] loss: 0.670\n",
      "[479,   100] loss: 0.057\n",
      "[479,   200] loss: 0.128\n",
      "[479,   300] loss: 0.179\n",
      "[479,   400] loss: 0.238\n",
      "[479,   500] loss: 0.283\n",
      "[479,   600] loss: 0.337\n",
      "[479,   700] loss: 0.398\n",
      "[479,   800] loss: 0.437\n",
      "[479,   900] loss: 0.489\n",
      "[479,  1000] loss: 0.539\n",
      "[479,  1100] loss: 0.595\n",
      "[479,  1200] loss: 0.639\n"
     ]
    },
    {
     "name": "stderr",
     "output_type": "stream",
     "text": [
      " 96%|█████████▌| 479/500 [33:59<01:26,  4.12s/it]"
     ]
    },
    {
     "name": "stdout",
     "output_type": "stream",
     "text": [
      "[480,   100] loss: 0.067\n",
      "[480,   200] loss: 0.112\n",
      "[480,   300] loss: 0.172\n",
      "[480,   400] loss: 0.237\n",
      "[480,   500] loss: 0.285\n",
      "[480,   600] loss: 0.355\n",
      "[480,   700] loss: 0.406\n",
      "[480,   800] loss: 0.447\n",
      "[480,   900] loss: 0.500\n",
      "[480,  1000] loss: 0.553\n",
      "[480,  1100] loss: 0.607\n",
      "[480,  1200] loss: 0.667\n"
     ]
    },
    {
     "name": "stderr",
     "output_type": "stream",
     "text": [
      " 96%|█████████▌| 480/500 [34:02<01:17,  3.88s/it]"
     ]
    },
    {
     "name": "stdout",
     "output_type": "stream",
     "text": [
      "[481,   100] loss: 0.038\n",
      "[481,   200] loss: 0.093\n",
      "[481,   300] loss: 0.158\n",
      "[481,   400] loss: 0.206\n",
      "[481,   500] loss: 0.283\n",
      "[481,   600] loss: 0.356\n",
      "[481,   700] loss: 0.406\n",
      "[481,   800] loss: 0.455\n",
      "[481,   900] loss: 0.492\n",
      "[481,  1000] loss: 0.549\n",
      "[481,  1100] loss: 0.599\n",
      "[481,  1200] loss: 0.648\n"
     ]
    },
    {
     "name": "stderr",
     "output_type": "stream",
     "text": [
      " 96%|█████████▌| 481/500 [34:05<01:11,  3.76s/it]"
     ]
    },
    {
     "name": "stdout",
     "output_type": "stream",
     "text": [
      "[482,   100] loss: 0.049\n",
      "[482,   200] loss: 0.110\n",
      "[482,   300] loss: 0.153\n",
      "[482,   400] loss: 0.204\n",
      "[482,   500] loss: 0.258\n",
      "[482,   600] loss: 0.316\n",
      "[482,   700] loss: 0.386\n",
      "[482,   800] loss: 0.442\n",
      "[482,   900] loss: 0.491\n",
      "[482,  1000] loss: 0.539\n",
      "[482,  1100] loss: 0.577\n",
      "[482,  1200] loss: 0.627\n"
     ]
    },
    {
     "name": "stderr",
     "output_type": "stream",
     "text": [
      " 96%|█████████▋| 482/500 [34:09<01:07,  3.77s/it]"
     ]
    },
    {
     "name": "stdout",
     "output_type": "stream",
     "text": [
      "[483,   100] loss: 0.037\n",
      "[483,   200] loss: 0.104\n",
      "[483,   300] loss: 0.152\n",
      "[483,   400] loss: 0.201\n",
      "[483,   500] loss: 0.254\n",
      "[483,   600] loss: 0.303\n",
      "[483,   700] loss: 0.349\n",
      "[483,   800] loss: 0.414\n",
      "[483,   900] loss: 0.470\n",
      "[483,  1000] loss: 0.509\n",
      "[483,  1100] loss: 0.560\n"
     ]
    },
    {
     "name": "stderr",
     "output_type": "stream",
     "text": [
      " 97%|█████████▋| 483/500 [34:13<01:05,  3.84s/it]"
     ]
    },
    {
     "name": "stdout",
     "output_type": "stream",
     "text": [
      "[483,  1200] loss: 0.619\n",
      "[484,   100] loss: 0.057\n",
      "[484,   200] loss: 0.102\n",
      "[484,   300] loss: 0.146\n",
      "[484,   400] loss: 0.197\n",
      "[484,   500] loss: 0.247\n",
      "[484,   600] loss: 0.298\n",
      "[484,   700] loss: 0.337\n",
      "[484,   800] loss: 0.380\n",
      "[484,   900] loss: 0.451\n",
      "[484,  1000] loss: 0.488\n",
      "[484,  1100] loss: 0.557\n",
      "[484,  1200] loss: 0.605\n"
     ]
    },
    {
     "name": "stderr",
     "output_type": "stream",
     "text": [
      " 97%|█████████▋| 484/500 [34:17<00:59,  3.73s/it]"
     ]
    },
    {
     "name": "stdout",
     "output_type": "stream",
     "text": [
      "[485,   100] loss: 0.053\n",
      "[485,   200] loss: 0.103\n",
      "[485,   300] loss: 0.159\n",
      "[485,   400] loss: 0.193\n",
      "[485,   500] loss: 0.251\n",
      "[485,   600] loss: 0.292\n",
      "[485,   700] loss: 0.345\n",
      "[485,   800] loss: 0.388\n",
      "[485,   900] loss: 0.443\n",
      "[485,  1000] loss: 0.482\n",
      "[485,  1100] loss: 0.548\n",
      "[485,  1200] loss: 0.609\n"
     ]
    },
    {
     "name": "stderr",
     "output_type": "stream",
     "text": [
      " 97%|█████████▋| 485/500 [34:20<00:55,  3.71s/it]"
     ]
    },
    {
     "name": "stdout",
     "output_type": "stream",
     "text": [
      "[486,   100] loss: 0.041\n",
      "[486,   200] loss: 0.079\n",
      "[486,   300] loss: 0.121\n",
      "[486,   400] loss: 0.170\n",
      "[486,   500] loss: 0.229\n",
      "[486,   600] loss: 0.293\n",
      "[486,   700] loss: 0.354\n",
      "[486,   800] loss: 0.403\n",
      "[486,   900] loss: 0.467\n",
      "[486,  1000] loss: 0.525\n",
      "[486,  1100] loss: 0.572\n",
      "[486,  1200] loss: 0.633\n"
     ]
    },
    {
     "name": "stderr",
     "output_type": "stream",
     "text": [
      " 97%|█████████▋| 486/500 [34:24<00:50,  3.61s/it]"
     ]
    },
    {
     "name": "stdout",
     "output_type": "stream",
     "text": [
      "[487,   100] loss: 0.043\n",
      "[487,   200] loss: 0.092\n",
      "[487,   300] loss: 0.143\n",
      "[487,   400] loss: 0.186\n",
      "[487,   500] loss: 0.230\n",
      "[487,   600] loss: 0.284\n",
      "[487,   700] loss: 0.323\n",
      "[487,   800] loss: 0.371\n",
      "[487,   900] loss: 0.418\n",
      "[487,  1000] loss: 0.470\n",
      "[487,  1100] loss: 0.535\n",
      "[487,  1200] loss: 0.593\n"
     ]
    },
    {
     "name": "stderr",
     "output_type": "stream",
     "text": [
      " 97%|█████████▋| 487/500 [34:28<00:48,  3.73s/it]"
     ]
    },
    {
     "name": "stdout",
     "output_type": "stream",
     "text": [
      "[488,   100] loss: 0.057\n",
      "[488,   200] loss: 0.102\n",
      "[488,   300] loss: 0.156\n",
      "[488,   400] loss: 0.211\n",
      "[488,   500] loss: 0.271\n",
      "[488,   600] loss: 0.317\n",
      "[488,   700] loss: 0.378\n",
      "[488,   800] loss: 0.433\n",
      "[488,   900] loss: 0.479\n",
      "[488,  1000] loss: 0.523\n",
      "[488,  1100] loss: 0.579\n",
      "[488,  1200] loss: 0.639\n"
     ]
    },
    {
     "name": "stderr",
     "output_type": "stream",
     "text": [
      " 98%|█████████▊| 488/500 [34:33<00:49,  4.14s/it]"
     ]
    },
    {
     "name": "stdout",
     "output_type": "stream",
     "text": [
      "[489,   100] loss: 0.041\n",
      "[489,   200] loss: 0.102\n",
      "[489,   300] loss: 0.168\n",
      "[489,   400] loss: 0.225\n",
      "[489,   500] loss: 0.265\n",
      "[489,   600] loss: 0.307\n",
      "[489,   700] loss: 0.348\n",
      "[489,   800] loss: 0.409\n",
      "[489,   900] loss: 0.454\n",
      "[489,  1000] loss: 0.488\n",
      "[489,  1100] loss: 0.537\n"
     ]
    },
    {
     "name": "stderr",
     "output_type": "stream",
     "text": [
      " 98%|█████████▊| 489/500 [34:38<00:48,  4.44s/it]"
     ]
    },
    {
     "name": "stdout",
     "output_type": "stream",
     "text": [
      "[489,  1200] loss: 0.588\n",
      "[490,   100] loss: 0.038\n",
      "[490,   200] loss: 0.084\n",
      "[490,   300] loss: 0.136\n",
      "[490,   400] loss: 0.178\n",
      "[490,   500] loss: 0.219\n",
      "[490,   600] loss: 0.280\n",
      "[490,   700] loss: 0.341\n",
      "[490,   800] loss: 0.376\n",
      "[490,   900] loss: 0.428\n",
      "[490,  1000] loss: 0.480\n",
      "[490,  1100] loss: 0.529\n",
      "[490,  1200] loss: 0.579\n"
     ]
    },
    {
     "name": "stderr",
     "output_type": "stream",
     "text": [
      " 98%|█████████▊| 490/500 [34:42<00:43,  4.39s/it]"
     ]
    },
    {
     "name": "stdout",
     "output_type": "stream",
     "text": [
      "[491,   100] loss: 0.067\n",
      "[491,   200] loss: 0.120\n",
      "[491,   300] loss: 0.166\n",
      "[491,   400] loss: 0.217\n",
      "[491,   500] loss: 0.266\n",
      "[491,   600] loss: 0.318\n",
      "[491,   700] loss: 0.353\n",
      "[491,   800] loss: 0.406\n",
      "[491,   900] loss: 0.449\n",
      "[491,  1000] loss: 0.490\n",
      "[491,  1100] loss: 0.537\n",
      "[491,  1200] loss: 0.573\n"
     ]
    },
    {
     "name": "stderr",
     "output_type": "stream",
     "text": [
      " 98%|█████████▊| 491/500 [34:47<00:40,  4.50s/it]"
     ]
    },
    {
     "name": "stdout",
     "output_type": "stream",
     "text": [
      "[492,   100] loss: 0.048\n",
      "[492,   200] loss: 0.101\n",
      "[492,   300] loss: 0.146\n",
      "[492,   400] loss: 0.195\n",
      "[492,   500] loss: 0.253\n",
      "[492,   600] loss: 0.300\n",
      "[492,   700] loss: 0.351\n",
      "[492,   800] loss: 0.425\n",
      "[492,   900] loss: 0.493\n",
      "[492,  1000] loss: 0.537\n",
      "[492,  1100] loss: 0.601\n",
      "[492,  1200] loss: 0.642\n"
     ]
    },
    {
     "name": "stderr",
     "output_type": "stream",
     "text": [
      " 98%|█████████▊| 492/500 [34:52<00:36,  4.61s/it]"
     ]
    },
    {
     "name": "stdout",
     "output_type": "stream",
     "text": [
      "[493,   100] loss: 0.051\n",
      "[493,   200] loss: 0.108\n",
      "[493,   300] loss: 0.152\n",
      "[493,   400] loss: 0.195\n",
      "[493,   500] loss: 0.243\n",
      "[493,   600] loss: 0.299\n",
      "[493,   700] loss: 0.344\n",
      "[493,   800] loss: 0.390\n",
      "[493,   900] loss: 0.437\n",
      "[493,  1000] loss: 0.496\n",
      "[493,  1100] loss: 0.556\n",
      "[493,  1200] loss: 0.621\n"
     ]
    },
    {
     "name": "stderr",
     "output_type": "stream",
     "text": [
      " 99%|█████████▊| 493/500 [34:56<00:31,  4.56s/it]"
     ]
    },
    {
     "name": "stdout",
     "output_type": "stream",
     "text": [
      "[494,   100] loss: 0.065\n",
      "[494,   200] loss: 0.117\n",
      "[494,   300] loss: 0.166\n",
      "[494,   400] loss: 0.217\n",
      "[494,   500] loss: 0.280\n",
      "[494,   600] loss: 0.342\n",
      "[494,   700] loss: 0.388\n",
      "[494,   800] loss: 0.438\n",
      "[494,   900] loss: 0.484\n",
      "[494,  1000] loss: 0.535\n",
      "[494,  1100] loss: 0.590\n",
      "[494,  1200] loss: 0.627\n"
     ]
    },
    {
     "name": "stderr",
     "output_type": "stream",
     "text": [
      " 99%|█████████▉| 494/500 [35:00<00:26,  4.40s/it]"
     ]
    },
    {
     "name": "stdout",
     "output_type": "stream",
     "text": [
      "[495,   100] loss: 0.043\n",
      "[495,   200] loss: 0.087\n",
      "[495,   300] loss: 0.128\n",
      "[495,   400] loss: 0.187\n",
      "[495,   500] loss: 0.231\n",
      "[495,   600] loss: 0.280\n",
      "[495,   700] loss: 0.323\n",
      "[495,   800] loss: 0.365\n",
      "[495,   900] loss: 0.440\n",
      "[495,  1000] loss: 0.487\n",
      "[495,  1100] loss: 0.550\n",
      "[495,  1200] loss: 0.586\n"
     ]
    },
    {
     "name": "stderr",
     "output_type": "stream",
     "text": [
      " 99%|█████████▉| 495/500 [35:03<00:19,  3.97s/it]"
     ]
    },
    {
     "name": "stdout",
     "output_type": "stream",
     "text": [
      "[496,   100] loss: 0.067\n",
      "[496,   200] loss: 0.115\n",
      "[496,   300] loss: 0.173\n",
      "[496,   400] loss: 0.242\n",
      "[496,   500] loss: 0.304\n",
      "[496,   600] loss: 0.367\n",
      "[496,   700] loss: 0.416\n",
      "[496,   800] loss: 0.476\n",
      "[496,   900] loss: 0.551\n",
      "[496,  1000] loss: 0.594\n",
      "[496,  1100] loss: 0.625\n",
      "[496,  1200] loss: 0.662\n"
     ]
    },
    {
     "name": "stderr",
     "output_type": "stream",
     "text": [
      " 99%|█████████▉| 496/500 [35:06<00:14,  3.69s/it]"
     ]
    },
    {
     "name": "stdout",
     "output_type": "stream",
     "text": [
      "[497,   100] loss: 0.063\n",
      "[497,   200] loss: 0.108\n",
      "[497,   300] loss: 0.138\n",
      "[497,   400] loss: 0.187\n",
      "[497,   500] loss: 0.242\n",
      "[497,   600] loss: 0.301\n",
      "[497,   700] loss: 0.358\n",
      "[497,   800] loss: 0.402\n",
      "[497,   900] loss: 0.447\n",
      "[497,  1000] loss: 0.503\n",
      "[497,  1100] loss: 0.560\n",
      "[497,  1200] loss: 0.615\n"
     ]
    },
    {
     "name": "stderr",
     "output_type": "stream",
     "text": [
      " 99%|█████████▉| 497/500 [35:10<00:11,  3.74s/it]"
     ]
    },
    {
     "name": "stdout",
     "output_type": "stream",
     "text": [
      "[498,   100] loss: 0.045\n",
      "[498,   200] loss: 0.096\n",
      "[498,   300] loss: 0.137\n",
      "[498,   400] loss: 0.179\n",
      "[498,   500] loss: 0.226\n",
      "[498,   600] loss: 0.279\n",
      "[498,   700] loss: 0.325\n",
      "[498,   800] loss: 0.382\n",
      "[498,   900] loss: 0.429\n",
      "[498,  1000] loss: 0.492\n",
      "[498,  1100] loss: 0.525\n",
      "[498,  1200] loss: 0.568\n"
     ]
    },
    {
     "name": "stderr",
     "output_type": "stream",
     "text": [
      "100%|█████████▉| 498/500 [35:15<00:08,  4.08s/it]"
     ]
    },
    {
     "name": "stdout",
     "output_type": "stream",
     "text": [
      "[499,   100] loss: 0.049\n",
      "[499,   200] loss: 0.087\n",
      "[499,   300] loss: 0.151\n",
      "[499,   400] loss: 0.198\n",
      "[499,   500] loss: 0.248\n",
      "[499,   600] loss: 0.306\n",
      "[499,   700] loss: 0.341\n",
      "[499,   800] loss: 0.404\n",
      "[499,   900] loss: 0.453\n",
      "[499,  1000] loss: 0.498\n",
      "[499,  1100] loss: 0.551\n",
      "[499,  1200] loss: 0.610\n"
     ]
    },
    {
     "name": "stderr",
     "output_type": "stream",
     "text": [
      "100%|█████████▉| 499/500 [35:19<00:03,  3.99s/it]"
     ]
    },
    {
     "name": "stdout",
     "output_type": "stream",
     "text": [
      "[500,   100] loss: 0.046\n",
      "[500,   200] loss: 0.093\n",
      "[500,   300] loss: 0.139\n",
      "[500,   400] loss: 0.197\n",
      "[500,   500] loss: 0.261\n",
      "[500,   600] loss: 0.315\n",
      "[500,   700] loss: 0.361\n",
      "[500,   800] loss: 0.424\n",
      "[500,   900] loss: 0.471\n",
      "[500,  1000] loss: 0.514\n",
      "[500,  1100] loss: 0.553\n",
      "[500,  1200] loss: 0.598\n"
     ]
    },
    {
     "name": "stderr",
     "output_type": "stream",
     "text": [
      "100%|██████████| 500/500 [35:23<00:00,  4.25s/it]"
     ]
    },
    {
     "name": "stdout",
     "output_type": "stream",
     "text": [
      "Epoch [500], Train Loss: 0.0494\n",
      "Training time: 2123.254 seconds\n"
     ]
    },
    {
     "name": "stderr",
     "output_type": "stream",
     "text": [
      "\n"
     ]
    }
   ],
   "source": [
    "EPOCH = 500\n",
    "criterion = nn.MSELoss()\n",
    "start_time = time.time()\n",
    "\n",
    "for ep in tqdm(range(EPOCH)):\n",
    "\n",
    "    model.train()\n",
    "    running_loss = 0.0\n",
    "    for i, (inputs, labels) in enumerate(train_loader):\n",
    "        inputs, labels = inputs.to(DEVICE), labels.to(DEVICE)\n",
    "        \n",
    "        # zero the parameter gradients\n",
    "        optimizer.zero_grad()\n",
    "\n",
    "        # forward + backward + optimize\n",
    "        outputs = model(inputs)\n",
    "\n",
    "        loss = criterion(outputs, labels)\n",
    "        \n",
    "        loss.backward()\n",
    "\n",
    "        optimizer.step()\n",
    "\n",
    "        # print statistics\n",
    "        running_loss += loss.item() * inputs.size(0)\n",
    "        if i % 100 == 99:    # print every 100 mini-batches\n",
    "            print(f'[{ep + 1}, {i + 1:5d}] loss: {running_loss / 100:.3f}')\n",
    "\n",
    "\n",
    "train_loss = running_loss  / len(train_loader.dataset)\n",
    "print(f'Epoch [{ep+1}], Train Loss: {train_loss:.4f}')\n",
    "\n",
    "# print out training time\n",
    "elapsed_time = time.time() - start_time\n",
    "print(f\"Training time: {elapsed_time:.3f} seconds\")\n",
    "\n",
    "# save the best model\n",
    "torch.save(model.state_dict(), MODEL_PATH)"
   ]
  },
  {
   "cell_type": "code",
   "execution_count": 39,
   "metadata": {},
   "outputs": [],
   "source": [
    "torch.save(model.state_dict(), MODEL_PATH)"
   ]
  },
  {
   "cell_type": "code",
   "execution_count": 31,
   "metadata": {},
   "outputs": [],
   "source": [
    "torch.cuda.empty_cache()"
   ]
  },
  {
   "cell_type": "code",
   "execution_count": 46,
   "metadata": {},
   "outputs": [
    {
     "name": "stdout",
     "output_type": "stream",
     "text": [
      "Training average mean absolute error: 0.33150047063827515\n",
      "Training average mean absolute percentage error: 4655.685043334961\n",
      "Training average root mean squared error: 0.19017133549491563\n",
      "Training average R2: 0.6666419506072998\n"
     ]
    }
   ],
   "source": [
    "# Testing phase\n",
    "model.eval()\n",
    "# Lists to store predictions and targets\n",
    "all_predictions = []\n",
    "all_targets = []\n",
    "\n",
    "with torch.no_grad():\n",
    "    for inputs, labels in train_loader:\n",
    "        # inputs, labels = inputs.to(DEVICE), labels.to(DEVICE)\n",
    "        \n",
    "        if isinstance(model, nn.DataParallel):\n",
    "            model = model.module  # Unwrap from DataParallel\n",
    "        model = model.to('cpu')\n",
    "        \n",
    "        outputs = model(inputs)\n",
    "        # Collect predictions and targets\n",
    "        all_predictions.extend(outputs.cpu().numpy())\n",
    "        all_targets.extend(labels.cpu().numpy())\n",
    "\n",
    "# Convert to numpy arrays\n",
    "y_pred = np.array(all_predictions)\n",
    "y_true = np.array(all_targets)\n",
    "\n",
    "# save metrics\n",
    "mae, mape, rmse, rsqr = calculate_metric(y_pred, y_true)\n",
    "print(f\"Training average mean absolute error: {mae}\")\n",
    "print(f\"Training average mean absolute percentage error: {mape}\")\n",
    "print(f\"Training average root mean squared error: {rmse}\")\n",
    "print(f\"Training average R2: {rsqr}\")"
   ]
  },
  {
   "cell_type": "code",
   "execution_count": 47,
   "metadata": {},
   "outputs": [
    {
     "name": "stdout",
     "output_type": "stream",
     "text": [
      "Test average mean absolute error: 0.337220162153244\n",
      "Test average mean absolute percentage error: 384.48150157928467\n",
      "Test average root mean squared error: 0.26011602531800193\n",
      "Test average R2: 0.4093068838119507\n"
     ]
    }
   ],
   "source": [
    "# Testing phase\n",
    "model.eval()\n",
    "all_predictions = []\n",
    "all_targets = []\n",
    "\n",
    "with torch.no_grad():\n",
    "    for inputs, labels in test_loader:\n",
    "        # inputs, labels = inputs.to(DEVICE), labels.to(DEVICE)\n",
    "        \n",
    "        if isinstance(model, nn.DataParallel):\n",
    "            model = model.module  # Unwrap from DataParallel\n",
    "        model = model.to('cpu')\n",
    "        \n",
    "        outputs = model(inputs)\n",
    "        # Collect predictions and targets\n",
    "        all_predictions.extend(outputs.cpu().numpy())\n",
    "        all_targets.extend(labels.cpu().numpy())\n",
    "\n",
    "# Convert to numpy arrays\n",
    "y_test_pred = np.array(all_predictions)\n",
    "y_test_true = np.array(all_targets)\n",
    "\n",
    "# save metrics\n",
    "mae, mape, rmse, rsqr = calculate_metric(y_test_pred, y_test_true)\n",
    "print(f\"Test average mean absolute error: {mae}\")\n",
    "print(f\"Test average mean absolute percentage error: {mape}\")\n",
    "print(f\"Test average root mean squared error: {rmse}\")\n",
    "print(f\"Test average R2: {rsqr}\")"
   ]
  },
  {
   "cell_type": "code",
   "execution_count": 49,
   "metadata": {},
   "outputs": [],
   "source": [
    "# save train predictions\n",
    "train_predictions_df = pd.DataFrame({\"predictions\": y_pred.ravel()})\n",
    "with pd.ExcelWriter(TRAINING_OUTPUT_FILE, mode='a', engine='openpyxl', if_sheet_exists='replace') as writer:\n",
    "    # Write the new DataFrame to a new sheet\n",
    "    train_predictions_df.to_excel(writer, sheet_name=SHEET_NAME, index=False)\n",
    "    \n",
    "# save test predictions\n",
    "test_predictions_df = pd.DataFrame({\"predictions\": y_test_pred.ravel()})\n",
    "with pd.ExcelWriter(TEST_OUTPUT_FILE, mode='a', engine='openpyxl', if_sheet_exists='replace') as writer:\n",
    "    # Write the new DataFrame to a new sheet\n",
    "    test_predictions_df.to_excel(writer, sheet_name=SHEET_NAME, index=False)\n"
   ]
  },
  {
   "cell_type": "code",
   "execution_count": 24,
   "metadata": {},
   "outputs": [
    {
     "name": "stderr",
     "output_type": "stream",
     "text": [
      "/var/folders/gc/mln0kg89025flmz65rqz4qn40000gn/T/ipykernel_79046/4150849819.py:3: FutureWarning: You are using `torch.load` with `weights_only=False` (the current default value), which uses the default pickle module implicitly. It is possible to construct malicious pickle data which will execute arbitrary code during unpickling (See https://github.com/pytorch/pytorch/blob/main/SECURITY.md#untrusted-models for more details). In a future release, the default value for `weights_only` will be flipped to `True`. This limits the functions that could be executed during unpickling. Arbitrary objects will no longer be allowed to be loaded via this mode unless they are explicitly allowlisted by the user via `torch.serialization.add_safe_globals`. We recommend you start setting `weights_only=True` for any use case where you don't have full control of the loaded file. Please open an issue on GitHub for any issues related to this experimental feature.\n",
      "  model.load_state_dict(torch.load(MODEL_PATH))\n"
     ]
    },
    {
     "data": {
      "text/plain": [
       "<All keys matched successfully>"
      ]
     },
     "execution_count": 24,
     "metadata": {},
     "output_type": "execute_result"
    }
   ],
   "source": [
    "# let’s load back in our saved model\n",
    "# model = MLP()\n",
    "# model.load_state_dict(torch.load(MODEL_PATH))"
   ]
  },
  {
   "cell_type": "markdown",
   "metadata": {},
   "source": [
    "RUN 5-fold"
   ]
  },
  {
   "cell_type": "code",
   "execution_count": 15,
   "metadata": {},
   "outputs": [
    {
     "data": {
      "text/html": [
       "<div>\n",
       "<style scoped>\n",
       "    .dataframe tbody tr th:only-of-type {\n",
       "        vertical-align: middle;\n",
       "    }\n",
       "\n",
       "    .dataframe tbody tr th {\n",
       "        vertical-align: top;\n",
       "    }\n",
       "\n",
       "    .dataframe thead th {\n",
       "        text-align: right;\n",
       "    }\n",
       "</style>\n",
       "<table border=\"1\" class=\"dataframe\">\n",
       "  <thead>\n",
       "    <tr style=\"text-align: right;\">\n",
       "      <th></th>\n",
       "      <th>coupon rate</th>\n",
       "      <th>SP500 MD</th>\n",
       "      <th>Average daily 1-year SP500 return</th>\n",
       "      <th>Ratio to MA</th>\n",
       "      <th>US Corporate Bond Yield Spread</th>\n",
       "      <th>US Corporate Bond Yield Spread(3-5 year)</th>\n",
       "      <th>US Corporate Bond Yield Spread(5-7 year)</th>\n",
       "      <th>US Corporate Bond Yield Spread(7-10 year)</th>\n",
       "      <th>US Corporate Bond Yield Spread(10+ year)</th>\n",
       "      <th>US Generic Govt 3 Month Yield</th>\n",
       "      <th>...</th>\n",
       "      <th>event_type_subcategory_sum_Missing Coupon payment only</th>\n",
       "      <th>event_type_subcategory_sum_Missing Interest payment</th>\n",
       "      <th>event_type_subcategory_sum_Missing Loan payment</th>\n",
       "      <th>event_type_subcategory_sum_Missing Principal payment</th>\n",
       "      <th>event_type_subcategory_sum_Others</th>\n",
       "      <th>event_type_subcategory_sum_Pre-Negotiated Chapter 11</th>\n",
       "      <th>event_type_subcategory_sum_Protection</th>\n",
       "      <th>event_type_subcategory_sum_Receivership</th>\n",
       "      <th>event_type_subcategory_sum_Rehabilitation</th>\n",
       "      <th>event_type_subcategory_sum_Restructuring</th>\n",
       "    </tr>\n",
       "  </thead>\n",
       "  <tbody>\n",
       "    <tr>\n",
       "      <th>0</th>\n",
       "      <td>7.500</td>\n",
       "      <td>-117.46020</td>\n",
       "      <td>-0.000189</td>\n",
       "      <td>125.407139</td>\n",
       "      <td>177.213028</td>\n",
       "      <td>134.012054</td>\n",
       "      <td>198.8153</td>\n",
       "      <td>191.364395</td>\n",
       "      <td>223.346344</td>\n",
       "      <td>0.1983</td>\n",
       "      <td>...</td>\n",
       "      <td>True</td>\n",
       "      <td>False</td>\n",
       "      <td>False</td>\n",
       "      <td>False</td>\n",
       "      <td>False</td>\n",
       "      <td>False</td>\n",
       "      <td>False</td>\n",
       "      <td>False</td>\n",
       "      <td>False</td>\n",
       "      <td>False</td>\n",
       "    </tr>\n",
       "    <tr>\n",
       "      <th>1</th>\n",
       "      <td>6.000</td>\n",
       "      <td>166.38276</td>\n",
       "      <td>0.000768</td>\n",
       "      <td>-4.603446</td>\n",
       "      <td>101.613617</td>\n",
       "      <td>77.032829</td>\n",
       "      <td>123.3998</td>\n",
       "      <td>105.932022</td>\n",
       "      <td>139.111115</td>\n",
       "      <td>0.0355</td>\n",
       "      <td>...</td>\n",
       "      <td>False</td>\n",
       "      <td>False</td>\n",
       "      <td>False</td>\n",
       "      <td>False</td>\n",
       "      <td>False</td>\n",
       "      <td>False</td>\n",
       "      <td>False</td>\n",
       "      <td>False</td>\n",
       "      <td>False</td>\n",
       "      <td>False</td>\n",
       "    </tr>\n",
       "    <tr>\n",
       "      <th>2</th>\n",
       "      <td>11.000</td>\n",
       "      <td>119.85752</td>\n",
       "      <td>0.000678</td>\n",
       "      <td>-11.950380</td>\n",
       "      <td>104.545959</td>\n",
       "      <td>77.416649</td>\n",
       "      <td>129.4317</td>\n",
       "      <td>111.818001</td>\n",
       "      <td>139.717407</td>\n",
       "      <td>0.0101</td>\n",
       "      <td>...</td>\n",
       "      <td>False</td>\n",
       "      <td>False</td>\n",
       "      <td>False</td>\n",
       "      <td>False</td>\n",
       "      <td>False</td>\n",
       "      <td>False</td>\n",
       "      <td>False</td>\n",
       "      <td>False</td>\n",
       "      <td>False</td>\n",
       "      <td>False</td>\n",
       "    </tr>\n",
       "    <tr>\n",
       "      <th>3</th>\n",
       "      <td>9.125</td>\n",
       "      <td>653.51208</td>\n",
       "      <td>0.001638</td>\n",
       "      <td>-2.494861</td>\n",
       "      <td>90.736633</td>\n",
       "      <td>64.654129</td>\n",
       "      <td>95.3731</td>\n",
       "      <td>92.141212</td>\n",
       "      <td>121.666237</td>\n",
       "      <td>0.0152</td>\n",
       "      <td>...</td>\n",
       "      <td>False</td>\n",
       "      <td>False</td>\n",
       "      <td>False</td>\n",
       "      <td>False</td>\n",
       "      <td>False</td>\n",
       "      <td>False</td>\n",
       "      <td>False</td>\n",
       "      <td>False</td>\n",
       "      <td>False</td>\n",
       "      <td>False</td>\n",
       "    </tr>\n",
       "    <tr>\n",
       "      <th>4</th>\n",
       "      <td>9.250</td>\n",
       "      <td>231.89472</td>\n",
       "      <td>0.000664</td>\n",
       "      <td>4.823413</td>\n",
       "      <td>98.533821</td>\n",
       "      <td>68.759308</td>\n",
       "      <td>93.4174</td>\n",
       "      <td>107.424469</td>\n",
       "      <td>139.741165</td>\n",
       "      <td>1.2865</td>\n",
       "      <td>...</td>\n",
       "      <td>False</td>\n",
       "      <td>False</td>\n",
       "      <td>False</td>\n",
       "      <td>False</td>\n",
       "      <td>True</td>\n",
       "      <td>False</td>\n",
       "      <td>False</td>\n",
       "      <td>False</td>\n",
       "      <td>False</td>\n",
       "      <td>False</td>\n",
       "    </tr>\n",
       "    <tr>\n",
       "      <th>...</th>\n",
       "      <td>...</td>\n",
       "      <td>...</td>\n",
       "      <td>...</td>\n",
       "      <td>...</td>\n",
       "      <td>...</td>\n",
       "      <td>...</td>\n",
       "      <td>...</td>\n",
       "      <td>...</td>\n",
       "      <td>...</td>\n",
       "      <td>...</td>\n",
       "      <td>...</td>\n",
       "      <td>...</td>\n",
       "      <td>...</td>\n",
       "      <td>...</td>\n",
       "      <td>...</td>\n",
       "      <td>...</td>\n",
       "      <td>...</td>\n",
       "      <td>...</td>\n",
       "      <td>...</td>\n",
       "      <td>...</td>\n",
       "      <td>...</td>\n",
       "    </tr>\n",
       "    <tr>\n",
       "      <th>1720</th>\n",
       "      <td>3.250</td>\n",
       "      <td>147.33344</td>\n",
       "      <td>0.000556</td>\n",
       "      <td>3.538252</td>\n",
       "      <td>128.976395</td>\n",
       "      <td>95.360374</td>\n",
       "      <td>138.8445</td>\n",
       "      <td>138.946106</td>\n",
       "      <td>172.733887</td>\n",
       "      <td>0.0000</td>\n",
       "      <td>...</td>\n",
       "      <td>False</td>\n",
       "      <td>False</td>\n",
       "      <td>False</td>\n",
       "      <td>False</td>\n",
       "      <td>False</td>\n",
       "      <td>False</td>\n",
       "      <td>False</td>\n",
       "      <td>False</td>\n",
       "      <td>False</td>\n",
       "      <td>False</td>\n",
       "    </tr>\n",
       "    <tr>\n",
       "      <th>1721</th>\n",
       "      <td>10.000</td>\n",
       "      <td>175.31656</td>\n",
       "      <td>0.000554</td>\n",
       "      <td>-4.067337</td>\n",
       "      <td>121.170998</td>\n",
       "      <td>92.879501</td>\n",
       "      <td>123.2500</td>\n",
       "      <td>131.104904</td>\n",
       "      <td>162.916901</td>\n",
       "      <td>0.7516</td>\n",
       "      <td>...</td>\n",
       "      <td>False</td>\n",
       "      <td>True</td>\n",
       "      <td>False</td>\n",
       "      <td>False</td>\n",
       "      <td>False</td>\n",
       "      <td>False</td>\n",
       "      <td>False</td>\n",
       "      <td>False</td>\n",
       "      <td>False</td>\n",
       "      <td>False</td>\n",
       "    </tr>\n",
       "    <tr>\n",
       "      <th>1722</th>\n",
       "      <td>7.450</td>\n",
       "      <td>315.81748</td>\n",
       "      <td>0.000747</td>\n",
       "      <td>8.604100</td>\n",
       "      <td>126.786606</td>\n",
       "      <td>89.018188</td>\n",
       "      <td>114.9728</td>\n",
       "      <td>131.522430</td>\n",
       "      <td>171.701096</td>\n",
       "      <td>0.0864</td>\n",
       "      <td>...</td>\n",
       "      <td>False</td>\n",
       "      <td>False</td>\n",
       "      <td>False</td>\n",
       "      <td>False</td>\n",
       "      <td>False</td>\n",
       "      <td>False</td>\n",
       "      <td>False</td>\n",
       "      <td>False</td>\n",
       "      <td>False</td>\n",
       "      <td>False</td>\n",
       "    </tr>\n",
       "    <tr>\n",
       "      <th>1723</th>\n",
       "      <td>0.500</td>\n",
       "      <td>31.75120</td>\n",
       "      <td>-0.000157</td>\n",
       "      <td>-4.373852</td>\n",
       "      <td>126.595230</td>\n",
       "      <td>105.460007</td>\n",
       "      <td>121.6212</td>\n",
       "      <td>147.382416</td>\n",
       "      <td>163.772141</td>\n",
       "      <td>4.8375</td>\n",
       "      <td>...</td>\n",
       "      <td>False</td>\n",
       "      <td>False</td>\n",
       "      <td>False</td>\n",
       "      <td>False</td>\n",
       "      <td>False</td>\n",
       "      <td>False</td>\n",
       "      <td>False</td>\n",
       "      <td>False</td>\n",
       "      <td>False</td>\n",
       "      <td>False</td>\n",
       "    </tr>\n",
       "    <tr>\n",
       "      <th>1724</th>\n",
       "      <td>12.000</td>\n",
       "      <td>-19.05864</td>\n",
       "      <td>-0.000058</td>\n",
       "      <td>31.582513</td>\n",
       "      <td>175.199493</td>\n",
       "      <td>142.421204</td>\n",
       "      <td>183.6181</td>\n",
       "      <td>182.215195</td>\n",
       "      <td>222.939301</td>\n",
       "      <td>0.3307</td>\n",
       "      <td>...</td>\n",
       "      <td>False</td>\n",
       "      <td>False</td>\n",
       "      <td>False</td>\n",
       "      <td>False</td>\n",
       "      <td>False</td>\n",
       "      <td>False</td>\n",
       "      <td>False</td>\n",
       "      <td>False</td>\n",
       "      <td>False</td>\n",
       "      <td>False</td>\n",
       "    </tr>\n",
       "  </tbody>\n",
       "</table>\n",
       "<p>1725 rows × 317 columns</p>\n",
       "</div>"
      ],
      "text/plain": [
       "      coupon rate   SP500 MD  Average daily 1-year SP500 return  Ratio to MA  \\\n",
       "0           7.500 -117.46020                          -0.000189   125.407139   \n",
       "1           6.000  166.38276                           0.000768    -4.603446   \n",
       "2          11.000  119.85752                           0.000678   -11.950380   \n",
       "3           9.125  653.51208                           0.001638    -2.494861   \n",
       "4           9.250  231.89472                           0.000664     4.823413   \n",
       "...           ...        ...                                ...          ...   \n",
       "1720        3.250  147.33344                           0.000556     3.538252   \n",
       "1721       10.000  175.31656                           0.000554    -4.067337   \n",
       "1722        7.450  315.81748                           0.000747     8.604100   \n",
       "1723        0.500   31.75120                          -0.000157    -4.373852   \n",
       "1724       12.000  -19.05864                          -0.000058    31.582513   \n",
       "\n",
       "      US Corporate Bond Yield Spread  \\\n",
       "0                         177.213028   \n",
       "1                         101.613617   \n",
       "2                         104.545959   \n",
       "3                          90.736633   \n",
       "4                          98.533821   \n",
       "...                              ...   \n",
       "1720                      128.976395   \n",
       "1721                      121.170998   \n",
       "1722                      126.786606   \n",
       "1723                      126.595230   \n",
       "1724                      175.199493   \n",
       "\n",
       "      US Corporate Bond Yield Spread(3-5 year)  \\\n",
       "0                                   134.012054   \n",
       "1                                    77.032829   \n",
       "2                                    77.416649   \n",
       "3                                    64.654129   \n",
       "4                                    68.759308   \n",
       "...                                        ...   \n",
       "1720                                 95.360374   \n",
       "1721                                 92.879501   \n",
       "1722                                 89.018188   \n",
       "1723                                105.460007   \n",
       "1724                                142.421204   \n",
       "\n",
       "      US Corporate Bond Yield Spread(5-7 year)  \\\n",
       "0                                     198.8153   \n",
       "1                                     123.3998   \n",
       "2                                     129.4317   \n",
       "3                                      95.3731   \n",
       "4                                      93.4174   \n",
       "...                                        ...   \n",
       "1720                                  138.8445   \n",
       "1721                                  123.2500   \n",
       "1722                                  114.9728   \n",
       "1723                                  121.6212   \n",
       "1724                                  183.6181   \n",
       "\n",
       "      US Corporate Bond Yield Spread(7-10 year)  \\\n",
       "0                                    191.364395   \n",
       "1                                    105.932022   \n",
       "2                                    111.818001   \n",
       "3                                     92.141212   \n",
       "4                                    107.424469   \n",
       "...                                         ...   \n",
       "1720                                 138.946106   \n",
       "1721                                 131.104904   \n",
       "1722                                 131.522430   \n",
       "1723                                 147.382416   \n",
       "1724                                 182.215195   \n",
       "\n",
       "      US Corporate Bond Yield Spread(10+ year)  US Generic Govt 3 Month Yield  \\\n",
       "0                                   223.346344                         0.1983   \n",
       "1                                   139.111115                         0.0355   \n",
       "2                                   139.717407                         0.0101   \n",
       "3                                   121.666237                         0.0152   \n",
       "4                                   139.741165                         1.2865   \n",
       "...                                        ...                            ...   \n",
       "1720                                172.733887                         0.0000   \n",
       "1721                                162.916901                         0.7516   \n",
       "1722                                171.701096                         0.0864   \n",
       "1723                                163.772141                         4.8375   \n",
       "1724                                222.939301                         0.3307   \n",
       "\n",
       "      ...  event_type_subcategory_sum_Missing Coupon payment only  \\\n",
       "0     ...                                               True        \n",
       "1     ...                                              False        \n",
       "2     ...                                              False        \n",
       "3     ...                                              False        \n",
       "4     ...                                              False        \n",
       "...   ...                                                ...        \n",
       "1720  ...                                              False        \n",
       "1721  ...                                              False        \n",
       "1722  ...                                              False        \n",
       "1723  ...                                              False        \n",
       "1724  ...                                              False        \n",
       "\n",
       "      event_type_subcategory_sum_Missing Interest payment  \\\n",
       "0                                                 False     \n",
       "1                                                 False     \n",
       "2                                                 False     \n",
       "3                                                 False     \n",
       "4                                                 False     \n",
       "...                                                 ...     \n",
       "1720                                              False     \n",
       "1721                                               True     \n",
       "1722                                              False     \n",
       "1723                                              False     \n",
       "1724                                              False     \n",
       "\n",
       "      event_type_subcategory_sum_Missing Loan payment  \\\n",
       "0                                               False   \n",
       "1                                               False   \n",
       "2                                               False   \n",
       "3                                               False   \n",
       "4                                               False   \n",
       "...                                               ...   \n",
       "1720                                            False   \n",
       "1721                                            False   \n",
       "1722                                            False   \n",
       "1723                                            False   \n",
       "1724                                            False   \n",
       "\n",
       "      event_type_subcategory_sum_Missing Principal payment  \\\n",
       "0                                                 False      \n",
       "1                                                 False      \n",
       "2                                                 False      \n",
       "3                                                 False      \n",
       "4                                                 False      \n",
       "...                                                 ...      \n",
       "1720                                              False      \n",
       "1721                                              False      \n",
       "1722                                              False      \n",
       "1723                                              False      \n",
       "1724                                              False      \n",
       "\n",
       "      event_type_subcategory_sum_Others  \\\n",
       "0                                 False   \n",
       "1                                 False   \n",
       "2                                 False   \n",
       "3                                 False   \n",
       "4                                  True   \n",
       "...                                 ...   \n",
       "1720                              False   \n",
       "1721                              False   \n",
       "1722                              False   \n",
       "1723                              False   \n",
       "1724                              False   \n",
       "\n",
       "      event_type_subcategory_sum_Pre-Negotiated Chapter 11  \\\n",
       "0                                                 False      \n",
       "1                                                 False      \n",
       "2                                                 False      \n",
       "3                                                 False      \n",
       "4                                                 False      \n",
       "...                                                 ...      \n",
       "1720                                              False      \n",
       "1721                                              False      \n",
       "1722                                              False      \n",
       "1723                                              False      \n",
       "1724                                              False      \n",
       "\n",
       "      event_type_subcategory_sum_Protection  \\\n",
       "0                                     False   \n",
       "1                                     False   \n",
       "2                                     False   \n",
       "3                                     False   \n",
       "4                                     False   \n",
       "...                                     ...   \n",
       "1720                                  False   \n",
       "1721                                  False   \n",
       "1722                                  False   \n",
       "1723                                  False   \n",
       "1724                                  False   \n",
       "\n",
       "      event_type_subcategory_sum_Receivership  \\\n",
       "0                                       False   \n",
       "1                                       False   \n",
       "2                                       False   \n",
       "3                                       False   \n",
       "4                                       False   \n",
       "...                                       ...   \n",
       "1720                                    False   \n",
       "1721                                    False   \n",
       "1722                                    False   \n",
       "1723                                    False   \n",
       "1724                                    False   \n",
       "\n",
       "      event_type_subcategory_sum_Rehabilitation  \\\n",
       "0                                         False   \n",
       "1                                         False   \n",
       "2                                         False   \n",
       "3                                         False   \n",
       "4                                         False   \n",
       "...                                         ...   \n",
       "1720                                      False   \n",
       "1721                                      False   \n",
       "1722                                      False   \n",
       "1723                                      False   \n",
       "1724                                      False   \n",
       "\n",
       "      event_type_subcategory_sum_Restructuring  \n",
       "0                                        False  \n",
       "1                                        False  \n",
       "2                                        False  \n",
       "3                                        False  \n",
       "4                                        False  \n",
       "...                                        ...  \n",
       "1720                                     False  \n",
       "1721                                     False  \n",
       "1722                                     False  \n",
       "1723                                     False  \n",
       "1724                                     False  \n",
       "\n",
       "[1725 rows x 317 columns]"
      ]
     },
     "execution_count": 15,
     "metadata": {},
     "output_type": "execute_result"
    }
   ],
   "source": [
    "features = pd.concat([train_feature_df, test_feature_df], axis=0, ignore_index=True)\n",
    "features"
   ]
  },
  {
   "cell_type": "code",
   "execution_count": 16,
   "metadata": {},
   "outputs": [
    {
     "data": {
      "text/html": [
       "<div>\n",
       "<style scoped>\n",
       "    .dataframe tbody tr th:only-of-type {\n",
       "        vertical-align: middle;\n",
       "    }\n",
       "\n",
       "    .dataframe tbody tr th {\n",
       "        vertical-align: top;\n",
       "    }\n",
       "\n",
       "    .dataframe thead th {\n",
       "        text-align: right;\n",
       "    }\n",
       "</style>\n",
       "<table border=\"1\" class=\"dataframe\">\n",
       "  <thead>\n",
       "    <tr style=\"text-align: right;\">\n",
       "      <th></th>\n",
       "      <th>rr1_30</th>\n",
       "    </tr>\n",
       "  </thead>\n",
       "  <tbody>\n",
       "    <tr>\n",
       "      <th>0</th>\n",
       "      <td>0.082481</td>\n",
       "    </tr>\n",
       "    <tr>\n",
       "      <th>1</th>\n",
       "      <td>0.378845</td>\n",
       "    </tr>\n",
       "    <tr>\n",
       "      <th>2</th>\n",
       "      <td>0.836149</td>\n",
       "    </tr>\n",
       "    <tr>\n",
       "      <th>3</th>\n",
       "      <td>0.987208</td>\n",
       "    </tr>\n",
       "    <tr>\n",
       "      <th>4</th>\n",
       "      <td>1.021458</td>\n",
       "    </tr>\n",
       "    <tr>\n",
       "      <th>...</th>\n",
       "      <td>...</td>\n",
       "    </tr>\n",
       "    <tr>\n",
       "      <th>1720</th>\n",
       "      <td>0.471411</td>\n",
       "    </tr>\n",
       "    <tr>\n",
       "      <th>1721</th>\n",
       "      <td>0.823750</td>\n",
       "    </tr>\n",
       "    <tr>\n",
       "      <th>1722</th>\n",
       "      <td>0.241612</td>\n",
       "    </tr>\n",
       "    <tr>\n",
       "      <th>1723</th>\n",
       "      <td>0.762054</td>\n",
       "    </tr>\n",
       "    <tr>\n",
       "      <th>1724</th>\n",
       "      <td>0.199981</td>\n",
       "    </tr>\n",
       "  </tbody>\n",
       "</table>\n",
       "<p>1725 rows × 1 columns</p>\n",
       "</div>"
      ],
      "text/plain": [
       "        rr1_30\n",
       "0     0.082481\n",
       "1     0.378845\n",
       "2     0.836149\n",
       "3     0.987208\n",
       "4     1.021458\n",
       "...        ...\n",
       "1720  0.471411\n",
       "1721  0.823750\n",
       "1722  0.241612\n",
       "1723  0.762054\n",
       "1724  0.199981\n",
       "\n",
       "[1725 rows x 1 columns]"
      ]
     },
     "execution_count": 16,
     "metadata": {},
     "output_type": "execute_result"
    }
   ],
   "source": [
    "labels = pd.concat([train_label_df, test_label_df], axis=0, ignore_index=True)\n",
    "labels"
   ]
  },
  {
   "cell_type": "code",
   "execution_count": 29,
   "metadata": {},
   "outputs": [
    {
     "name": "stderr",
     "output_type": "stream",
     "text": [
      "/home/nguyenhoa/miniconda3/envs/.henv/lib/python3.12/site-packages/torch/nn/modules/loss.py:535: UserWarning: Using a target size (torch.Size([1, 1])) that is different to the input size (torch.Size([1])). This will likely lead to incorrect results due to broadcasting. Please ensure they have the same size.\n",
      "  return F.mse_loss(input, target, reduction=self.reduction)\n",
      "/home/nguyenhoa/miniconda3/envs/.henv/lib/python3.12/site-packages/torch/nn/modules/loss.py:535: UserWarning: Using a target size (torch.Size([1, 1])) that is different to the input size (torch.Size([1])). This will likely lead to incorrect results due to broadcasting. Please ensure they have the same size.\n",
      "  return F.mse_loss(input, target, reduction=self.reduction)\n",
      "/home/nguyenhoa/miniconda3/envs/.henv/lib/python3.12/site-packages/torch/nn/modules/loss.py:535: UserWarning: Using a target size (torch.Size([1, 1])) that is different to the input size (torch.Size([1])). This will likely lead to incorrect results due to broadcasting. Please ensure they have the same size.\n",
      "  return F.mse_loss(input, target, reduction=self.reduction)\n",
      "/home/nguyenhoa/miniconda3/envs/.henv/lib/python3.12/site-packages/torch/nn/modules/loss.py:535: UserWarning: Using a target size (torch.Size([1, 1])) that is different to the input size (torch.Size([1])). This will likely lead to incorrect results due to broadcasting. Please ensure they have the same size.\n",
      "  return F.mse_loss(input, target, reduction=self.reduction)\n",
      "/home/nguyenhoa/miniconda3/envs/.henv/lib/python3.12/site-packages/torch/nn/modules/loss.py:535: UserWarning: Using a target size (torch.Size([1, 1])) that is different to the input size (torch.Size([1])). This will likely lead to incorrect results due to broadcasting. Please ensure they have the same size.\n",
      "  return F.mse_loss(input, target, reduction=self.reduction)\n"
     ]
    }
   ],
   "source": [
    "# Define cross-validation setup\n",
    "kf = KFold(n_splits=5, shuffle=True, random_state=42)\n",
    "val_mae = []\n",
    "val_mape = []\n",
    "val_rmse = []\n",
    "val_rsqr = []\n",
    "oof_predictions = np.zeros(labels.shape[0])\n",
    "\n",
    "\n",
    "\n",
    "for train_idx, val_idx in kf.split(features):\n",
    "    all_predictions = []\n",
    "    all_targets = []\n",
    "    \n",
    "    # Create training and validation datasets for the current fold\n",
    "    X_train_fold, X_val_fold = features.iloc[train_idx], features.iloc[val_idx]\n",
    "    y_train_fold, y_val_fold = labels.iloc[train_idx], labels.iloc[val_idx]\n",
    "    \n",
    "    # scaling features\n",
    "    X_train_fold = scaler.fit_transform(X_train_fold)\n",
    "    X_val_fold = scaler.transform(X_val_fold)\n",
    "        \n",
    "    # Initialize the model for this fold\n",
    "    model = MLP(d_in=train_features.shape[1], d_layers=MODEL_CONFIG[\"linear\"], dropout=MODEL_CONFIG[\"dropout\"], d_out=1, activation_name=MODEL_CONFIG[\"activation_name\"], negative_slope=MODEL_CONFIG['negative_slope'])\n",
    "    model = nn.DataParallel(model, device_ids = DEVICE_LIST)\n",
    "    model.to(DEVICE)\n",
    "    \n",
    "    # define optimizer\n",
    "    optimizer = getattr(optim, MODEL_CONFIG[\"optimizer\"][\"optimizer\"])(model.parameters(), **optim_config)\n",
    "    \n",
    "    # Define the loss function and optimizer\n",
    "    criterion = nn.MSELoss()\n",
    "    \n",
    "    # Prepare DataLoader for training\n",
    "    train_dataset = CustomDataset(X_train_fold, y_train_fold.to_numpy())\n",
    "    val_dataset = CustomDataset(X_val_fold, y_val_fold.to_numpy())\n",
    "    train_loader = DataLoader(train_dataset, batch_size=BATCH_SIZE, shuffle=False)\n",
    "    val_loader = DataLoader(val_dataset, batch_size=val_dataset.features.shape[0], shuffle=False)\n",
    "        \n",
    "    # Training of the model.\n",
    "    model.train()\n",
    "    for epoch in range(EPOCHS):\n",
    "        for batch_idx, (data, target) in enumerate(train_loader):\n",
    "            data, target = data.to(DEVICE), target.to(DEVICE)\n",
    "\n",
    "            optimizer.zero_grad()\n",
    "            output = model(data)\n",
    "            \n",
    "            loss = criterion(output, target)\n",
    "            loss.backward()\n",
    "            optimizer.step()\n",
    "            # print(f'Epoch [{ep+1}], Train Loss: {train_loss:.4f}')\n",
    "\n",
    "    # Validation of the model.\n",
    "    model.eval()\n",
    "    with torch.no_grad():\n",
    "        for batch_idx, (data, target) in enumerate(val_loader):\n",
    "            # data, target = data.to(DEVICE), target.to(DEVICE)\n",
    "            if isinstance(model, nn.DataParallel):\n",
    "                model = model.module  # Unwrap from DataParallel\n",
    "            model = model.to('cpu')\n",
    "            outputs = model(data)\n",
    "            \n",
    "            # Collect predictions and targets\n",
    "        all_predictions.extend(outputs.cpu().numpy())\n",
    "        all_targets.extend(target.cpu().numpy())\n",
    "\n",
    "    # Convert to numpy arrays\n",
    "    y_test_pred = np.array(all_predictions)\n",
    "    y_test_true = np.array(all_targets)\n",
    "    oof_predictions[val_idx] = y_test_pred\n",
    "\n",
    "    # save metrics\n",
    "    mae, mape, rmse, rsqr = calculate_metric(y_test_pred, y_test_true)\n",
    "    val_mae.append(mae)\n",
    "    val_mape.append(mape)\n",
    "    val_rmse.append(rmse)\n",
    "    val_rsqr.append(rsqr)\n",
    "      "
   ]
  },
  {
   "cell_type": "code",
   "execution_count": 30,
   "metadata": {},
   "outputs": [
    {
     "name": "stdout",
     "output_type": "stream",
     "text": [
      "Test average mean absolute error: 0.347619891166687\n",
      "Test average mean absolute percentage error: 3588.8164806365967\n",
      "Test average root mean squared error: 0.2669967007013232\n",
      "Test average R2: 0.34573233127593994\n"
     ]
    }
   ],
   "source": [
    "print(f\"Test average mean absolute error: {statistics.mean(val_mae)}\")\n",
    "print(f\"Test average mean absolute percentage error: {statistics.mean(val_mape)}\")\n",
    "print(f\"Test average root mean squared error: {statistics.mean(val_rmse)}\")\n",
    "print(f\"Test average R2: {statistics.mean(val_rsqr)}\")"
   ]
  },
  {
   "cell_type": "markdown",
   "metadata": {},
   "source": []
  },
  {
   "cell_type": "code",
   "execution_count": 33,
   "metadata": {},
   "outputs": [],
   "source": [
    "oof_predictions_df = pd.DataFrame({\"predictions\": oof_predictions.ravel()})\n",
    "with pd.ExcelWriter(OOF_PREDICTIONS_FILE, mode='a', engine='openpyxl', if_sheet_exists='replace') as writer:\n",
    "    # Write the new DataFrame to a new sheet\n",
    "    oof_predictions_df.to_excel(writer, sheet_name=SHEET_NAME, index=False)"
   ]
  }
 ],
 "metadata": {
  "kernelspec": {
   "display_name": ".henv",
   "language": "python",
   "name": "python3"
  },
  "language_info": {
   "codemirror_mode": {
    "name": "ipython",
    "version": 3
   },
   "file_extension": ".py",
   "mimetype": "text/x-python",
   "name": "python",
   "nbconvert_exporter": "python",
   "pygments_lexer": "ipython3",
   "version": "3.12.3"
  }
 },
 "nbformat": 4,
 "nbformat_minor": 2
}
