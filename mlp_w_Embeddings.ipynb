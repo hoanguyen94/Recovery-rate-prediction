{
 "cells": [
  {
   "cell_type": "code",
   "execution_count": 224,
   "metadata": {},
   "outputs": [],
   "source": [
    "import math\n",
    "from typing import List\n",
    "import sys\n",
    "import os\n",
    "from pathlib import Path\n",
    "import numpy as np\n",
    "import torch\n",
    "import torch.nn as nn\n",
    "import torch.nn.functional as F\n",
    "from tqdm import tqdm\n",
    "from torch.utils.data import DataLoader, Dataset\n",
    "import pandas as pd\n",
    "from sklearn.compose import ColumnTransformer\n",
    "from sklearn.discriminant_analysis import StandardScaler\n",
    "from sklearn.model_selection import train_test_split\n",
    "from copy import deepcopy\n",
    "import torch.optim as optim\n",
    "from transformers import AutoTokenizer, AutoModel\n",
    "import optuna\n",
    "from optuna.trial import TrialState\n",
    "from sklearn.model_selection import KFold\n",
    "import statistics"
   ]
  },
  {
   "cell_type": "code",
   "execution_count": 225,
   "metadata": {},
   "outputs": [],
   "source": [
    "sys.path.insert(0, os.path.abspath(os.path.join(os.getcwd(), \"..\")))"
   ]
  },
  {
   "cell_type": "code",
   "execution_count": 226,
   "metadata": {},
   "outputs": [],
   "source": [
    "from utils import calculate_metric"
   ]
  },
  {
   "cell_type": "code",
   "execution_count": 338,
   "metadata": {},
   "outputs": [],
   "source": [
    "INPUT = \"../data/data_removing_na.xlsx\"\n",
    "\n",
    "MODEL_PATH = 'best_mlp_emb_model.pth'\n",
    "BATCH_SIZE = 1\n",
    "\n",
    "DEVICE = torch.device('cuda:2' if torch.cuda.is_available() else 'cpu')\n",
    "DEVICE_LIST = [2, 1, 3, 0]\n",
    "\n",
    "MODEL = 'ProsusAI/finbert' #'AdaptLLM/finance-LLM'"
   ]
  },
  {
   "cell_type": "code",
   "execution_count": 228,
   "metadata": {},
   "outputs": [
    {
     "data": {
      "text/plain": [
       "device(type='cuda', index=2)"
      ]
     },
     "execution_count": 228,
     "metadata": {},
     "output_type": "execute_result"
    }
   ],
   "source": [
    "DEVICE"
   ]
  },
  {
   "cell_type": "code",
   "execution_count": 229,
   "metadata": {},
   "outputs": [],
   "source": [
    "df = pd.read_excel(INPUT)"
   ]
  },
  {
   "cell_type": "code",
   "execution_count": 230,
   "metadata": {},
   "outputs": [
    {
     "data": {
      "text/html": [
       "<div>\n",
       "<style scoped>\n",
       "    .dataframe tbody tr th:only-of-type {\n",
       "        vertical-align: middle;\n",
       "    }\n",
       "\n",
       "    .dataframe tbody tr th {\n",
       "        vertical-align: top;\n",
       "    }\n",
       "\n",
       "    .dataframe thead th {\n",
       "        text-align: right;\n",
       "    }\n",
       "</style>\n",
       "<table border=\"1\" class=\"dataframe\">\n",
       "  <thead>\n",
       "    <tr style=\"text-align: right;\">\n",
       "      <th></th>\n",
       "      <th>rr1_30</th>\n",
       "      <th>currency</th>\n",
       "      <th>seniorioty_adj</th>\n",
       "      <th>coupon rate</th>\n",
       "      <th>domicile_country</th>\n",
       "      <th>exchange_country</th>\n",
       "      <th>Industry_sector</th>\n",
       "      <th>Industry_group</th>\n",
       "      <th>Industry_subgroup</th>\n",
       "      <th>event_type</th>\n",
       "      <th>...</th>\n",
       "      <th>PD_55_pd</th>\n",
       "      <th>PD_56_pd</th>\n",
       "      <th>PD_57_pd</th>\n",
       "      <th>PD_58_pd</th>\n",
       "      <th>PD_59_pd</th>\n",
       "      <th>PD_60_pd</th>\n",
       "      <th>DTD</th>\n",
       "      <th>NI_Over_TA</th>\n",
       "      <th>Size</th>\n",
       "      <th>defaulted_in_last_6_months</th>\n",
       "    </tr>\n",
       "  </thead>\n",
       "  <tbody>\n",
       "    <tr>\n",
       "      <th>0</th>\n",
       "      <td>0.259908</td>\n",
       "      <td>USD</td>\n",
       "      <td>Senior Subordinated Unsecured</td>\n",
       "      <td>9.000</td>\n",
       "      <td>United States</td>\n",
       "      <td>United States</td>\n",
       "      <td>Consumer Discretionary</td>\n",
       "      <td>Retail &amp; Whsle - Discretionary</td>\n",
       "      <td>E-Commerce Discretionary</td>\n",
       "      <td>Bankruptcy Filing</td>\n",
       "      <td>...</td>\n",
       "      <td>0.396731</td>\n",
       "      <td>0.397453</td>\n",
       "      <td>0.398148</td>\n",
       "      <td>0.398819</td>\n",
       "      <td>0.399467</td>\n",
       "      <td>0.400092</td>\n",
       "      <td>-0.732815</td>\n",
       "      <td>-0.007137</td>\n",
       "      <td>-0.852484</td>\n",
       "      <td>False</td>\n",
       "    </tr>\n",
       "    <tr>\n",
       "      <th>1</th>\n",
       "      <td>0.032729</td>\n",
       "      <td>USD</td>\n",
       "      <td>Senior Subordinated Unsecured</td>\n",
       "      <td>5.750</td>\n",
       "      <td>United States</td>\n",
       "      <td>United States</td>\n",
       "      <td>Health Care</td>\n",
       "      <td>Health Care</td>\n",
       "      <td>Health Care Facilities &amp; Svcs</td>\n",
       "      <td>Default Corp Action</td>\n",
       "      <td>...</td>\n",
       "      <td>0.957454</td>\n",
       "      <td>0.957467</td>\n",
       "      <td>0.957480</td>\n",
       "      <td>0.957492</td>\n",
       "      <td>0.957503</td>\n",
       "      <td>0.957514</td>\n",
       "      <td>-1.666262</td>\n",
       "      <td>-0.000286</td>\n",
       "      <td>-1.186347</td>\n",
       "      <td>False</td>\n",
       "    </tr>\n",
       "    <tr>\n",
       "      <th>2</th>\n",
       "      <td>0.972400</td>\n",
       "      <td>USD</td>\n",
       "      <td>Unsecured</td>\n",
       "      <td>5.675</td>\n",
       "      <td>South Korea</td>\n",
       "      <td>South Korea</td>\n",
       "      <td>Consumer Discretionary</td>\n",
       "      <td>Retail &amp; Whsle - Discretionary</td>\n",
       "      <td>Wholesale - Discretionary</td>\n",
       "      <td>Default Corp Action</td>\n",
       "      <td>...</td>\n",
       "      <td>0.568169</td>\n",
       "      <td>0.568693</td>\n",
       "      <td>0.569197</td>\n",
       "      <td>0.569682</td>\n",
       "      <td>0.570150</td>\n",
       "      <td>0.570600</td>\n",
       "      <td>-1.853366</td>\n",
       "      <td>0.000191</td>\n",
       "      <td>1.053677</td>\n",
       "      <td>False</td>\n",
       "    </tr>\n",
       "    <tr>\n",
       "      <th>3</th>\n",
       "      <td>1.047416</td>\n",
       "      <td>CHF</td>\n",
       "      <td>Unsecured</td>\n",
       "      <td>0.125</td>\n",
       "      <td>South Korea</td>\n",
       "      <td>South Korea</td>\n",
       "      <td>Consumer Discretionary</td>\n",
       "      <td>Retail &amp; Whsle - Discretionary</td>\n",
       "      <td>Wholesale - Discretionary</td>\n",
       "      <td>Default Corp Action</td>\n",
       "      <td>...</td>\n",
       "      <td>0.568169</td>\n",
       "      <td>0.568693</td>\n",
       "      <td>0.569197</td>\n",
       "      <td>0.569682</td>\n",
       "      <td>0.570150</td>\n",
       "      <td>0.570600</td>\n",
       "      <td>-1.853366</td>\n",
       "      <td>0.000191</td>\n",
       "      <td>1.053677</td>\n",
       "      <td>False</td>\n",
       "    </tr>\n",
       "    <tr>\n",
       "      <th>4</th>\n",
       "      <td>0.848872</td>\n",
       "      <td>JPY</td>\n",
       "      <td>Unsecured</td>\n",
       "      <td>1.750</td>\n",
       "      <td>Japan</td>\n",
       "      <td>Japan</td>\n",
       "      <td>Industrials</td>\n",
       "      <td>Industrial Products</td>\n",
       "      <td>Electrical Equipment</td>\n",
       "      <td>Bankruptcy Filing</td>\n",
       "      <td>...</td>\n",
       "      <td>0.130285</td>\n",
       "      <td>0.130688</td>\n",
       "      <td>0.131081</td>\n",
       "      <td>0.131465</td>\n",
       "      <td>0.131840</td>\n",
       "      <td>0.132206</td>\n",
       "      <td>-0.768857</td>\n",
       "      <td>-0.028058</td>\n",
       "      <td>-1.946507</td>\n",
       "      <td>False</td>\n",
       "    </tr>\n",
       "  </tbody>\n",
       "</table>\n",
       "<p>5 rows × 165 columns</p>\n",
       "</div>"
      ],
      "text/plain": [
       "     rr1_30 currency                 seniorioty_adj  coupon rate  \\\n",
       "0  0.259908      USD  Senior Subordinated Unsecured        9.000   \n",
       "1  0.032729      USD  Senior Subordinated Unsecured        5.750   \n",
       "2  0.972400      USD                      Unsecured        5.675   \n",
       "3  1.047416      CHF                      Unsecured        0.125   \n",
       "4  0.848872      JPY                      Unsecured        1.750   \n",
       "\n",
       "  domicile_country exchange_country         Industry_sector  \\\n",
       "0    United States    United States  Consumer Discretionary   \n",
       "1    United States    United States             Health Care   \n",
       "2      South Korea      South Korea  Consumer Discretionary   \n",
       "3      South Korea      South Korea  Consumer Discretionary   \n",
       "4            Japan            Japan             Industrials   \n",
       "\n",
       "                   Industry_group              Industry_subgroup  \\\n",
       "0  Retail & Whsle - Discretionary       E-Commerce Discretionary   \n",
       "1                     Health Care  Health Care Facilities & Svcs   \n",
       "2  Retail & Whsle - Discretionary      Wholesale - Discretionary   \n",
       "3  Retail & Whsle - Discretionary      Wholesale - Discretionary   \n",
       "4             Industrial Products           Electrical Equipment   \n",
       "\n",
       "            event_type  ...  PD_55_pd  PD_56_pd  PD_57_pd  PD_58_pd  PD_59_pd  \\\n",
       "0    Bankruptcy Filing  ...  0.396731  0.397453  0.398148  0.398819  0.399467   \n",
       "1  Default Corp Action  ...  0.957454  0.957467  0.957480  0.957492  0.957503   \n",
       "2  Default Corp Action  ...  0.568169  0.568693  0.569197  0.569682  0.570150   \n",
       "3  Default Corp Action  ...  0.568169  0.568693  0.569197  0.569682  0.570150   \n",
       "4    Bankruptcy Filing  ...  0.130285  0.130688  0.131081  0.131465  0.131840   \n",
       "\n",
       "   PD_60_pd       DTD  NI_Over_TA      Size  defaulted_in_last_6_months  \n",
       "0  0.400092 -0.732815   -0.007137 -0.852484                       False  \n",
       "1  0.957514 -1.666262   -0.000286 -1.186347                       False  \n",
       "2  0.570600 -1.853366    0.000191  1.053677                       False  \n",
       "3  0.570600 -1.853366    0.000191  1.053677                       False  \n",
       "4  0.132206 -0.768857   -0.028058 -1.946507                       False  \n",
       "\n",
       "[5 rows x 165 columns]"
      ]
     },
     "execution_count": 230,
     "metadata": {},
     "output_type": "execute_result"
    }
   ],
   "source": [
    "df.head()"
   ]
  },
  {
   "cell_type": "code",
   "execution_count": 231,
   "metadata": {},
   "outputs": [
    {
     "data": {
      "text/plain": [
       "(1725, 165)"
      ]
     },
     "execution_count": 231,
     "metadata": {},
     "output_type": "execute_result"
    }
   ],
   "source": [
    "df.shape"
   ]
  },
  {
   "cell_type": "code",
   "execution_count": 232,
   "metadata": {},
   "outputs": [
    {
     "name": "stdout",
     "output_type": "stream",
     "text": [
      "11\n",
      "154\n"
     ]
    }
   ],
   "source": [
    "feature_list = df.columns\n",
    "category_feature_key = ['currency', 'seniorioty', 'domicile_country', 'exchange_country', 'Industry_sector', 'Industry_group', 'Industry_subgroup', 'event_type',\n",
    "                        'event_type_subcategory_sum', 'defaulted_in_last_6_months', 'defaulted_in_last_5_years']\n",
    "category_features = [i for i in feature_list if any(sub in i for sub in category_feature_key)]\n",
    "non_category_features = [i for i in feature_list if i not in category_features]\n",
    "\n",
    "print(len(category_features))\n",
    "print(len(non_category_features))"
   ]
  },
  {
   "cell_type": "code",
   "execution_count": 233,
   "metadata": {},
   "outputs": [],
   "source": [
    "non_category_features.remove('rr1_30')"
   ]
  },
  {
   "cell_type": "code",
   "execution_count": 234,
   "metadata": {},
   "outputs": [
    {
     "data": {
      "text/plain": [
       "['coupon rate',\n",
       " 'SP500 MD',\n",
       " 'Average daily 1-year SP500 return',\n",
       " 'Ratio to MA',\n",
       " 'US Corporate Bond Yield Spread',\n",
       " 'US Corporate Bond Yield Spread(3-5 year)',\n",
       " 'US Corporate Bond Yield Spread(5-7 year)',\n",
       " 'US Corporate Bond Yield Spread(7-10 year)',\n",
       " 'US Corporate Bond Yield Spread(10+ year)',\n",
       " 'US Generic Govt 3 Month Yield',\n",
       " 'US Generic Govt 6 Month Yield',\n",
       " 'US Generic Govt 12 Month Yield',\n",
       " 'US Generic Govt 2 Year Yield',\n",
       " 'US Generic Govt 3 Year Yield',\n",
       " 'US Generic Govt 5 Year Yield',\n",
       " 'US Generic Govt 7 Year Yield',\n",
       " 'US Generic Govt 10 Year Yield',\n",
       " 'marketcap',\n",
       " 'sector_domicile_dtd',\n",
       " 'sector_exchange_dtd',\n",
       " 'sector_dtd',\n",
       " 'PD_1_domicile_sector',\n",
       " 'PD_3_domicile_sector',\n",
       " 'PD_12_domicile_sector',\n",
       " 'PD_1_domicile_subsec',\n",
       " 'PD_3_domicile_subsec',\n",
       " 'PD_12_domicile_subsec',\n",
       " 'PD_1_exch_sector',\n",
       " 'PD_3_exch_sector',\n",
       " 'PD_12_exch_sector',\n",
       " 'PD_1_exch_subsector',\n",
       " 'PD_3_exch_subsector',\n",
       " 'PD_12_exch_subsector',\n",
       " 'PD_1_global_sector',\n",
       " 'PD_3_global_sector',\n",
       " 'PD_12_global_sector',\n",
       " 'PD_1_global_subsector',\n",
       " 'PD_3_global_subsector',\n",
       " 'PD_12_global_subsector',\n",
       " 'domicile_subsec_dtd',\n",
       " 'exch_subsector_dtd',\n",
       " 'subsector_dtd',\n",
       " 'Stock_Index_Return',\n",
       " 'Three_Month_Rate_After_Demean',\n",
       " 'DTD_Level',\n",
       " 'M_Over_B',\n",
       " 'Sigma',\n",
       " '1-year_GDP_growth',\n",
       " '1-year_CPI_growth',\n",
       " '1-year_PPI_growth',\n",
       " '1-year_M1_growth',\n",
       " '1-year_M2_growth',\n",
       " 'employment_rate',\n",
       " 'treasury_rate',\n",
       " 'interest_rate',\n",
       " 'economic_policy_uncertainty',\n",
       " '1-year_housing',\n",
       " 'mktcap_median',\n",
       " 'ROA',\n",
       " 'shares_out_outstanding_shares',\n",
       " 'relative_size',\n",
       " 'current ratio',\n",
       " 'quick_ratio',\n",
       " 'debt_to_equity',\n",
       " 'liquidity_ratio',\n",
       " 'operating_margin',\n",
       " 'duration_in_years',\n",
       " 'ROE',\n",
       " 'Long-term_ratio',\n",
       " 'MA_Index_ratio',\n",
       " 'PD_1_sector_median',\n",
       " 'PD_3_sector_median',\n",
       " 'PD_12_sector_median',\n",
       " 'dtd_sector_median',\n",
       " 'dtd_median_exch',\n",
       " 'PD_1_median_exch',\n",
       " 'PD_3_median_exch',\n",
       " 'PD_12_median_exch',\n",
       " 'PD_1_median_domicile',\n",
       " 'PD_3_median_domicile',\n",
       " 'PD_12_median_domicile',\n",
       " 'equity_market_volatility_tracker_financial_crises',\n",
       " 'equity_market_volatility_tracker_financial_regulation',\n",
       " '1_month_financial_uncertainty',\n",
       " '3_month_financial_certainty',\n",
       " '12_month_financial_certainty',\n",
       " 'consumer_sentiment_index',\n",
       " 'consumer_opinion_confidence_indicator',\n",
       " 'last price_new',\n",
       " 'dtd_sigma',\n",
       " 'PD_1_pd',\n",
       " 'PD_2_pd',\n",
       " 'PD_3_pd',\n",
       " 'PD_4_pd',\n",
       " 'PD_5_pd',\n",
       " 'PD_6_pd',\n",
       " 'PD_7_pd',\n",
       " 'PD_8_pd',\n",
       " 'PD_9_pd',\n",
       " 'PD_10_pd',\n",
       " 'PD_11_pd',\n",
       " 'PD_12_pd',\n",
       " 'PD_13_pd',\n",
       " 'PD_14_pd',\n",
       " 'PD_15_pd',\n",
       " 'PD_16_pd',\n",
       " 'PD_17_pd',\n",
       " 'PD_18_pd',\n",
       " 'PD_19_pd',\n",
       " 'PD_20_pd',\n",
       " 'PD_21_pd',\n",
       " 'PD_22_pd',\n",
       " 'PD_23_pd',\n",
       " 'PD_24_pd',\n",
       " 'PD_25_pd',\n",
       " 'PD_26_pd',\n",
       " 'PD_27_pd',\n",
       " 'PD_28_pd',\n",
       " 'PD_29_pd',\n",
       " 'PD_30_pd',\n",
       " 'PD_31_pd',\n",
       " 'PD_32_pd',\n",
       " 'PD_33_pd',\n",
       " 'PD_34_pd',\n",
       " 'PD_35_pd',\n",
       " 'PD_36_pd',\n",
       " 'PD_37_pd',\n",
       " 'PD_38_pd',\n",
       " 'PD_39_pd',\n",
       " 'PD_40_pd',\n",
       " 'PD_41_pd',\n",
       " 'PD_42_pd',\n",
       " 'PD_43_pd',\n",
       " 'PD_44_pd',\n",
       " 'PD_45_pd',\n",
       " 'PD_46_pd',\n",
       " 'PD_47_pd',\n",
       " 'PD_48_pd',\n",
       " 'PD_49_pd',\n",
       " 'PD_50_pd',\n",
       " 'PD_51_pd',\n",
       " 'PD_52_pd',\n",
       " 'PD_53_pd',\n",
       " 'PD_54_pd',\n",
       " 'PD_55_pd',\n",
       " 'PD_56_pd',\n",
       " 'PD_57_pd',\n",
       " 'PD_58_pd',\n",
       " 'PD_59_pd',\n",
       " 'PD_60_pd',\n",
       " 'DTD',\n",
       " 'NI_Over_TA',\n",
       " 'Size']"
      ]
     },
     "execution_count": 234,
     "metadata": {},
     "output_type": "execute_result"
    }
   ],
   "source": [
    "non_category_features"
   ]
  },
  {
   "cell_type": "code",
   "execution_count": 235,
   "metadata": {},
   "outputs": [
    {
     "data": {
      "text/plain": [
       "['currency',\n",
       " 'seniorioty_adj',\n",
       " 'domicile_country',\n",
       " 'exchange_country',\n",
       " 'Industry_sector',\n",
       " 'Industry_group',\n",
       " 'Industry_subgroup',\n",
       " 'event_type',\n",
       " 'event_type_subcategory_sum',\n",
       " 'defaulted_in_last_5_years',\n",
       " 'defaulted_in_last_6_months']"
      ]
     },
     "execution_count": 235,
     "metadata": {},
     "output_type": "execute_result"
    }
   ],
   "source": [
    "category_features"
   ]
  },
  {
   "cell_type": "code",
   "execution_count": 236,
   "metadata": {},
   "outputs": [],
   "source": [
    "for i in category_features:\n",
    "    if i == \"seniorioty_adj\":\n",
    "        df[i] = df[i] + \" Bond\"\n",
    "    elif i == \"domicile_country\":\n",
    "        df[i] = \"domicile country: \" + df[i]\n",
    "    elif i == \"exchange_country\":\n",
    "        df[i] = \"exchange_country: \" + df[i]\n",
    "    elif i == \"event_type\":\n",
    "        df[i] = \"default reason: \" + df[i]\n",
    "    elif i == \"defaulted_in_last_6_months\":\n",
    "        df[i] = df[i].apply(lambda x: \"The bond has defaulted in the last 6 months\" if x == True else \"The bond has not defaulted in the last 6 months\")\n",
    "    elif i == \"defaulted_in_last_5_years\":\n",
    "        df[i] = df[i].apply(lambda x: \"The bond has defaulted in the last 5 years\" if x == True else \"The bond has not defaulted in the last 5 years\")"
   ]
  },
  {
   "cell_type": "code",
   "execution_count": 237,
   "metadata": {},
   "outputs": [
    {
     "data": {
      "text/html": [
       "<div>\n",
       "<style scoped>\n",
       "    .dataframe tbody tr th:only-of-type {\n",
       "        vertical-align: middle;\n",
       "    }\n",
       "\n",
       "    .dataframe tbody tr th {\n",
       "        vertical-align: top;\n",
       "    }\n",
       "\n",
       "    .dataframe thead th {\n",
       "        text-align: right;\n",
       "    }\n",
       "</style>\n",
       "<table border=\"1\" class=\"dataframe\">\n",
       "  <thead>\n",
       "    <tr style=\"text-align: right;\">\n",
       "      <th></th>\n",
       "      <th>currency</th>\n",
       "      <th>seniorioty_adj</th>\n",
       "      <th>domicile_country</th>\n",
       "      <th>exchange_country</th>\n",
       "      <th>Industry_sector</th>\n",
       "      <th>Industry_group</th>\n",
       "      <th>Industry_subgroup</th>\n",
       "      <th>event_type</th>\n",
       "      <th>event_type_subcategory_sum</th>\n",
       "      <th>defaulted_in_last_5_years</th>\n",
       "      <th>defaulted_in_last_6_months</th>\n",
       "    </tr>\n",
       "  </thead>\n",
       "  <tbody>\n",
       "    <tr>\n",
       "      <th>0</th>\n",
       "      <td>USD</td>\n",
       "      <td>Senior Subordinated Unsecured Bond</td>\n",
       "      <td>domicile country: United States</td>\n",
       "      <td>exchange_country: United States</td>\n",
       "      <td>Consumer Discretionary</td>\n",
       "      <td>Retail &amp; Whsle - Discretionary</td>\n",
       "      <td>E-Commerce Discretionary</td>\n",
       "      <td>default reason: Bankruptcy Filing</td>\n",
       "      <td>Debt Restructuring</td>\n",
       "      <td>The bond has not defaulted in the last 5 years</td>\n",
       "      <td>The bond has not defaulted in the last 6 months</td>\n",
       "    </tr>\n",
       "    <tr>\n",
       "      <th>1</th>\n",
       "      <td>USD</td>\n",
       "      <td>Senior Subordinated Unsecured Bond</td>\n",
       "      <td>domicile country: United States</td>\n",
       "      <td>exchange_country: United States</td>\n",
       "      <td>Health Care</td>\n",
       "      <td>Health Care</td>\n",
       "      <td>Health Care Facilities &amp; Svcs</td>\n",
       "      <td>default reason: Default Corp Action</td>\n",
       "      <td>Missing Coupon payment only</td>\n",
       "      <td>The bond has not defaulted in the last 5 years</td>\n",
       "      <td>The bond has not defaulted in the last 6 months</td>\n",
       "    </tr>\n",
       "    <tr>\n",
       "      <th>2</th>\n",
       "      <td>USD</td>\n",
       "      <td>Unsecured Bond</td>\n",
       "      <td>domicile country: South Korea</td>\n",
       "      <td>exchange_country: South Korea</td>\n",
       "      <td>Consumer Discretionary</td>\n",
       "      <td>Retail &amp; Whsle - Discretionary</td>\n",
       "      <td>Wholesale - Discretionary</td>\n",
       "      <td>default reason: Default Corp Action</td>\n",
       "      <td>Missing Interest payment</td>\n",
       "      <td>The bond has not defaulted in the last 5 years</td>\n",
       "      <td>The bond has not defaulted in the last 6 months</td>\n",
       "    </tr>\n",
       "    <tr>\n",
       "      <th>3</th>\n",
       "      <td>CHF</td>\n",
       "      <td>Unsecured Bond</td>\n",
       "      <td>domicile country: South Korea</td>\n",
       "      <td>exchange_country: South Korea</td>\n",
       "      <td>Consumer Discretionary</td>\n",
       "      <td>Retail &amp; Whsle - Discretionary</td>\n",
       "      <td>Wholesale - Discretionary</td>\n",
       "      <td>default reason: Default Corp Action</td>\n",
       "      <td>Missing Interest payment</td>\n",
       "      <td>The bond has not defaulted in the last 5 years</td>\n",
       "      <td>The bond has not defaulted in the last 6 months</td>\n",
       "    </tr>\n",
       "    <tr>\n",
       "      <th>4</th>\n",
       "      <td>JPY</td>\n",
       "      <td>Unsecured Bond</td>\n",
       "      <td>domicile country: Japan</td>\n",
       "      <td>exchange_country: Japan</td>\n",
       "      <td>Industrials</td>\n",
       "      <td>Industrial Products</td>\n",
       "      <td>Electrical Equipment</td>\n",
       "      <td>default reason: Bankruptcy Filing</td>\n",
       "      <td>Rehabilitation</td>\n",
       "      <td>The bond has not defaulted in the last 5 years</td>\n",
       "      <td>The bond has not defaulted in the last 6 months</td>\n",
       "    </tr>\n",
       "    <tr>\n",
       "      <th>...</th>\n",
       "      <td>...</td>\n",
       "      <td>...</td>\n",
       "      <td>...</td>\n",
       "      <td>...</td>\n",
       "      <td>...</td>\n",
       "      <td>...</td>\n",
       "      <td>...</td>\n",
       "      <td>...</td>\n",
       "      <td>...</td>\n",
       "      <td>...</td>\n",
       "      <td>...</td>\n",
       "    </tr>\n",
       "    <tr>\n",
       "      <th>1720</th>\n",
       "      <td>MYR</td>\n",
       "      <td>Senior Secured Bond</td>\n",
       "      <td>domicile country: Malaysia</td>\n",
       "      <td>exchange_country: Malaysia</td>\n",
       "      <td>Consumer Discretionary</td>\n",
       "      <td>Consumer Discretionary Products</td>\n",
       "      <td>Automotive</td>\n",
       "      <td>default reason: Bankruptcy Filing</td>\n",
       "      <td>Others</td>\n",
       "      <td>The bond has not defaulted in the last 5 years</td>\n",
       "      <td>The bond has not defaulted in the last 6 months</td>\n",
       "    </tr>\n",
       "    <tr>\n",
       "      <th>1721</th>\n",
       "      <td>MYR</td>\n",
       "      <td>Senior Secured Bond</td>\n",
       "      <td>domicile country: Malaysia</td>\n",
       "      <td>exchange_country: Malaysia</td>\n",
       "      <td>Consumer Discretionary</td>\n",
       "      <td>Consumer Discretionary Products</td>\n",
       "      <td>Automotive</td>\n",
       "      <td>default reason: Bankruptcy Filing</td>\n",
       "      <td>Others</td>\n",
       "      <td>The bond has not defaulted in the last 5 years</td>\n",
       "      <td>The bond has not defaulted in the last 6 months</td>\n",
       "    </tr>\n",
       "    <tr>\n",
       "      <th>1722</th>\n",
       "      <td>MYR</td>\n",
       "      <td>Senior Secured Bond</td>\n",
       "      <td>domicile country: Malaysia</td>\n",
       "      <td>exchange_country: Malaysia</td>\n",
       "      <td>Consumer Discretionary</td>\n",
       "      <td>Consumer Discretionary Products</td>\n",
       "      <td>Automotive</td>\n",
       "      <td>default reason: Bankruptcy Filing</td>\n",
       "      <td>Others</td>\n",
       "      <td>The bond has not defaulted in the last 5 years</td>\n",
       "      <td>The bond has not defaulted in the last 6 months</td>\n",
       "    </tr>\n",
       "    <tr>\n",
       "      <th>1723</th>\n",
       "      <td>MYR</td>\n",
       "      <td>Senior Secured Bond</td>\n",
       "      <td>domicile country: Malaysia</td>\n",
       "      <td>exchange_country: Malaysia</td>\n",
       "      <td>Consumer Discretionary</td>\n",
       "      <td>Consumer Discretionary Products</td>\n",
       "      <td>Automotive</td>\n",
       "      <td>default reason: Bankruptcy Filing</td>\n",
       "      <td>Others</td>\n",
       "      <td>The bond has not defaulted in the last 5 years</td>\n",
       "      <td>The bond has not defaulted in the last 6 months</td>\n",
       "    </tr>\n",
       "    <tr>\n",
       "      <th>1724</th>\n",
       "      <td>MYR</td>\n",
       "      <td>Senior Secured Bond</td>\n",
       "      <td>domicile country: Malaysia</td>\n",
       "      <td>exchange_country: Malaysia</td>\n",
       "      <td>Consumer Discretionary</td>\n",
       "      <td>Consumer Discretionary Products</td>\n",
       "      <td>Automotive</td>\n",
       "      <td>default reason: Bankruptcy Filing</td>\n",
       "      <td>Others</td>\n",
       "      <td>The bond has not defaulted in the last 5 years</td>\n",
       "      <td>The bond has not defaulted in the last 6 months</td>\n",
       "    </tr>\n",
       "  </tbody>\n",
       "</table>\n",
       "<p>1725 rows × 11 columns</p>\n",
       "</div>"
      ],
      "text/plain": [
       "     currency                      seniorioty_adj  \\\n",
       "0         USD  Senior Subordinated Unsecured Bond   \n",
       "1         USD  Senior Subordinated Unsecured Bond   \n",
       "2         USD                      Unsecured Bond   \n",
       "3         CHF                      Unsecured Bond   \n",
       "4         JPY                      Unsecured Bond   \n",
       "...       ...                                 ...   \n",
       "1720      MYR                 Senior Secured Bond   \n",
       "1721      MYR                 Senior Secured Bond   \n",
       "1722      MYR                 Senior Secured Bond   \n",
       "1723      MYR                 Senior Secured Bond   \n",
       "1724      MYR                 Senior Secured Bond   \n",
       "\n",
       "                     domicile_country                 exchange_country  \\\n",
       "0     domicile country: United States  exchange_country: United States   \n",
       "1     domicile country: United States  exchange_country: United States   \n",
       "2       domicile country: South Korea    exchange_country: South Korea   \n",
       "3       domicile country: South Korea    exchange_country: South Korea   \n",
       "4             domicile country: Japan          exchange_country: Japan   \n",
       "...                               ...                              ...   \n",
       "1720       domicile country: Malaysia       exchange_country: Malaysia   \n",
       "1721       domicile country: Malaysia       exchange_country: Malaysia   \n",
       "1722       domicile country: Malaysia       exchange_country: Malaysia   \n",
       "1723       domicile country: Malaysia       exchange_country: Malaysia   \n",
       "1724       domicile country: Malaysia       exchange_country: Malaysia   \n",
       "\n",
       "             Industry_sector                   Industry_group  \\\n",
       "0     Consumer Discretionary   Retail & Whsle - Discretionary   \n",
       "1                Health Care                      Health Care   \n",
       "2     Consumer Discretionary   Retail & Whsle - Discretionary   \n",
       "3     Consumer Discretionary   Retail & Whsle - Discretionary   \n",
       "4                Industrials              Industrial Products   \n",
       "...                      ...                              ...   \n",
       "1720  Consumer Discretionary  Consumer Discretionary Products   \n",
       "1721  Consumer Discretionary  Consumer Discretionary Products   \n",
       "1722  Consumer Discretionary  Consumer Discretionary Products   \n",
       "1723  Consumer Discretionary  Consumer Discretionary Products   \n",
       "1724  Consumer Discretionary  Consumer Discretionary Products   \n",
       "\n",
       "                  Industry_subgroup                           event_type  \\\n",
       "0          E-Commerce Discretionary    default reason: Bankruptcy Filing   \n",
       "1     Health Care Facilities & Svcs  default reason: Default Corp Action   \n",
       "2         Wholesale - Discretionary  default reason: Default Corp Action   \n",
       "3         Wholesale - Discretionary  default reason: Default Corp Action   \n",
       "4              Electrical Equipment    default reason: Bankruptcy Filing   \n",
       "...                             ...                                  ...   \n",
       "1720                     Automotive    default reason: Bankruptcy Filing   \n",
       "1721                     Automotive    default reason: Bankruptcy Filing   \n",
       "1722                     Automotive    default reason: Bankruptcy Filing   \n",
       "1723                     Automotive    default reason: Bankruptcy Filing   \n",
       "1724                     Automotive    default reason: Bankruptcy Filing   \n",
       "\n",
       "       event_type_subcategory_sum  \\\n",
       "0              Debt Restructuring   \n",
       "1     Missing Coupon payment only   \n",
       "2        Missing Interest payment   \n",
       "3        Missing Interest payment   \n",
       "4                  Rehabilitation   \n",
       "...                           ...   \n",
       "1720                       Others   \n",
       "1721                       Others   \n",
       "1722                       Others   \n",
       "1723                       Others   \n",
       "1724                       Others   \n",
       "\n",
       "                           defaulted_in_last_5_years  \\\n",
       "0     The bond has not defaulted in the last 5 years   \n",
       "1     The bond has not defaulted in the last 5 years   \n",
       "2     The bond has not defaulted in the last 5 years   \n",
       "3     The bond has not defaulted in the last 5 years   \n",
       "4     The bond has not defaulted in the last 5 years   \n",
       "...                                              ...   \n",
       "1720  The bond has not defaulted in the last 5 years   \n",
       "1721  The bond has not defaulted in the last 5 years   \n",
       "1722  The bond has not defaulted in the last 5 years   \n",
       "1723  The bond has not defaulted in the last 5 years   \n",
       "1724  The bond has not defaulted in the last 5 years   \n",
       "\n",
       "                           defaulted_in_last_6_months  \n",
       "0     The bond has not defaulted in the last 6 months  \n",
       "1     The bond has not defaulted in the last 6 months  \n",
       "2     The bond has not defaulted in the last 6 months  \n",
       "3     The bond has not defaulted in the last 6 months  \n",
       "4     The bond has not defaulted in the last 6 months  \n",
       "...                                               ...  \n",
       "1720  The bond has not defaulted in the last 6 months  \n",
       "1721  The bond has not defaulted in the last 6 months  \n",
       "1722  The bond has not defaulted in the last 6 months  \n",
       "1723  The bond has not defaulted in the last 6 months  \n",
       "1724  The bond has not defaulted in the last 6 months  \n",
       "\n",
       "[1725 rows x 11 columns]"
      ]
     },
     "execution_count": 237,
     "metadata": {},
     "output_type": "execute_result"
    }
   ],
   "source": [
    "df[category_features]"
   ]
  },
  {
   "cell_type": "code",
   "execution_count": 293,
   "metadata": {},
   "outputs": [],
   "source": [
    "labels = df[\"rr1_30\"]\n",
    "features = df.drop(columns=[\"rr1_30\"])"
   ]
  },
  {
   "cell_type": "code",
   "execution_count": 239,
   "metadata": {},
   "outputs": [
    {
     "data": {
      "text/plain": [
       "(1725, 164)"
      ]
     },
     "execution_count": 239,
     "metadata": {},
     "output_type": "execute_result"
    }
   ],
   "source": [
    "features.shape"
   ]
  },
  {
   "cell_type": "code",
   "execution_count": 240,
   "metadata": {},
   "outputs": [
    {
     "name": "stdout",
     "output_type": "stream",
     "text": [
      "Training Features Shape: (1293, 164)\n",
      "Training Labels Shape: (1293,)\n",
      "Val Features Shape: (432, 164)\n",
      "Val Labels Shape: (432,)\n"
     ]
    }
   ],
   "source": [
    "# split data into training and val set\n",
    "test_size = 0.25\n",
    "train_features, test_features, train_labels, test_labels = train_test_split(features, labels, test_size=test_size, random_state=42)\n",
    "\n",
    "print('Training Features Shape:', train_features.shape)\n",
    "print('Training Labels Shape:', train_labels.shape)\n",
    "print('Val Features Shape:', test_features.shape)\n",
    "print('Val Labels Shape:', test_labels.shape)"
   ]
  },
  {
   "cell_type": "code",
   "execution_count": 241,
   "metadata": {},
   "outputs": [],
   "source": [
    "# Normalize the data\n",
    "# Prepare the ColumnTransformer\n",
    "# scaler = ColumnTransformer(\n",
    "#     transformers=[\n",
    "#         ('num', StandardScaler(), non_category_features)   # StandardScaler()\n",
    "#     ],\n",
    "#     remainder='passthrough'  # Leave categorical features untouched\n",
    "# )\n",
    "\n",
    "# Don't cheat - fit only on training data\n",
    "# scaler.fit(features)\n",
    "# train_features = scaler.transform(train_features)\n",
    "# test_features = scaler.transform(test_features)"
   ]
  },
  {
   "cell_type": "code",
   "execution_count": 242,
   "metadata": {},
   "outputs": [],
   "source": [
    "# feature_list = non_category_features + category_features"
   ]
  },
  {
   "cell_type": "code",
   "execution_count": 243,
   "metadata": {},
   "outputs": [],
   "source": [
    "# train_features = pd.DataFrame(train_features, columns=feature_list)\n",
    "# test_features = pd.DataFrame(test_features, columns=feature_list)"
   ]
  },
  {
   "cell_type": "code",
   "execution_count": 244,
   "metadata": {},
   "outputs": [
    {
     "data": {
      "text/html": [
       "<div>\n",
       "<style scoped>\n",
       "    .dataframe tbody tr th:only-of-type {\n",
       "        vertical-align: middle;\n",
       "    }\n",
       "\n",
       "    .dataframe tbody tr th {\n",
       "        vertical-align: top;\n",
       "    }\n",
       "\n",
       "    .dataframe thead th {\n",
       "        text-align: right;\n",
       "    }\n",
       "</style>\n",
       "<table border=\"1\" class=\"dataframe\">\n",
       "  <thead>\n",
       "    <tr style=\"text-align: right;\">\n",
       "      <th></th>\n",
       "      <th>currency</th>\n",
       "      <th>seniorioty_adj</th>\n",
       "      <th>coupon rate</th>\n",
       "      <th>domicile_country</th>\n",
       "      <th>exchange_country</th>\n",
       "      <th>Industry_sector</th>\n",
       "      <th>Industry_group</th>\n",
       "      <th>Industry_subgroup</th>\n",
       "      <th>event_type</th>\n",
       "      <th>event_type_subcategory_sum</th>\n",
       "      <th>...</th>\n",
       "      <th>PD_55_pd</th>\n",
       "      <th>PD_56_pd</th>\n",
       "      <th>PD_57_pd</th>\n",
       "      <th>PD_58_pd</th>\n",
       "      <th>PD_59_pd</th>\n",
       "      <th>PD_60_pd</th>\n",
       "      <th>DTD</th>\n",
       "      <th>NI_Over_TA</th>\n",
       "      <th>Size</th>\n",
       "      <th>defaulted_in_last_6_months</th>\n",
       "    </tr>\n",
       "  </thead>\n",
       "  <tbody>\n",
       "    <tr>\n",
       "      <th>755</th>\n",
       "      <td>USD</td>\n",
       "      <td>Senior Unsecured Bond</td>\n",
       "      <td>7.500</td>\n",
       "      <td>domicile country: United States</td>\n",
       "      <td>exchange_country: United States</td>\n",
       "      <td>Energy</td>\n",
       "      <td>Oil &amp; Gas</td>\n",
       "      <td>Oil &amp; Gas Producers</td>\n",
       "      <td>default reason: Default Corp Action</td>\n",
       "      <td>Missing Coupon payment only</td>\n",
       "      <td>...</td>\n",
       "      <td>0.691011</td>\n",
       "      <td>0.691382</td>\n",
       "      <td>0.691738</td>\n",
       "      <td>0.692080</td>\n",
       "      <td>0.692408</td>\n",
       "      <td>0.692725</td>\n",
       "      <td>-1.084433</td>\n",
       "      <td>-0.052027</td>\n",
       "      <td>-2.074964</td>\n",
       "      <td>The bond has not defaulted in the last 6 months</td>\n",
       "    </tr>\n",
       "    <tr>\n",
       "      <th>588</th>\n",
       "      <td>USD</td>\n",
       "      <td>Unsecured Bond</td>\n",
       "      <td>6.000</td>\n",
       "      <td>domicile country: Indonesia</td>\n",
       "      <td>exchange_country: Indonesia</td>\n",
       "      <td>Materials</td>\n",
       "      <td>Materials</td>\n",
       "      <td>Metals &amp; Mining</td>\n",
       "      <td>default reason: Default Corp Action</td>\n",
       "      <td>Debt Restructuring</td>\n",
       "      <td>...</td>\n",
       "      <td>0.183801</td>\n",
       "      <td>0.184996</td>\n",
       "      <td>0.186167</td>\n",
       "      <td>0.187313</td>\n",
       "      <td>0.188437</td>\n",
       "      <td>0.189539</td>\n",
       "      <td>-0.540409</td>\n",
       "      <td>0.017209</td>\n",
       "      <td>0.864692</td>\n",
       "      <td>The bond has not defaulted in the last 6 months</td>\n",
       "    </tr>\n",
       "    <tr>\n",
       "      <th>585</th>\n",
       "      <td>USD</td>\n",
       "      <td>Senior Secured Bond</td>\n",
       "      <td>11.000</td>\n",
       "      <td>domicile country: United States</td>\n",
       "      <td>exchange_country: United States</td>\n",
       "      <td>Materials</td>\n",
       "      <td>Materials</td>\n",
       "      <td>Metals &amp; Mining</td>\n",
       "      <td>default reason: Default Corp Action</td>\n",
       "      <td>Debt Restructuring</td>\n",
       "      <td>...</td>\n",
       "      <td>0.278774</td>\n",
       "      <td>0.280216</td>\n",
       "      <td>0.281615</td>\n",
       "      <td>0.282972</td>\n",
       "      <td>0.284290</td>\n",
       "      <td>0.285571</td>\n",
       "      <td>0.754647</td>\n",
       "      <td>-0.010395</td>\n",
       "      <td>-0.342209</td>\n",
       "      <td>The bond has not defaulted in the last 6 months</td>\n",
       "    </tr>\n",
       "    <tr>\n",
       "      <th>1329</th>\n",
       "      <td>USD</td>\n",
       "      <td>Senior Secured Bond</td>\n",
       "      <td>9.125</td>\n",
       "      <td>domicile country: United States</td>\n",
       "      <td>exchange_country: United States</td>\n",
       "      <td>Energy</td>\n",
       "      <td>Oil &amp; Gas</td>\n",
       "      <td>Oil &amp; Gas Services &amp; Equip</td>\n",
       "      <td>default reason: Default Corp Action</td>\n",
       "      <td>Missing Coupon &amp; principal payment</td>\n",
       "      <td>...</td>\n",
       "      <td>0.190375</td>\n",
       "      <td>0.191471</td>\n",
       "      <td>0.192544</td>\n",
       "      <td>0.193594</td>\n",
       "      <td>0.194622</td>\n",
       "      <td>0.195628</td>\n",
       "      <td>-0.242080</td>\n",
       "      <td>-0.022618</td>\n",
       "      <td>-2.808528</td>\n",
       "      <td>The bond has not defaulted in the last 6 months</td>\n",
       "    </tr>\n",
       "    <tr>\n",
       "      <th>973</th>\n",
       "      <td>USD</td>\n",
       "      <td>Senior Secured Bond</td>\n",
       "      <td>9.250</td>\n",
       "      <td>domicile country: United States</td>\n",
       "      <td>exchange_country: United States</td>\n",
       "      <td>Energy</td>\n",
       "      <td>Oil &amp; Gas</td>\n",
       "      <td>Oil &amp; Gas Producers</td>\n",
       "      <td>default reason: Default Corp Action</td>\n",
       "      <td>Others</td>\n",
       "      <td>...</td>\n",
       "      <td>0.149501</td>\n",
       "      <td>0.150930</td>\n",
       "      <td>0.152327</td>\n",
       "      <td>0.153692</td>\n",
       "      <td>0.155027</td>\n",
       "      <td>0.156332</td>\n",
       "      <td>1.138686</td>\n",
       "      <td>0.000033</td>\n",
       "      <td>-0.085154</td>\n",
       "      <td>The bond has not defaulted in the last 6 months</td>\n",
       "    </tr>\n",
       "  </tbody>\n",
       "</table>\n",
       "<p>5 rows × 164 columns</p>\n",
       "</div>"
      ],
      "text/plain": [
       "     currency         seniorioty_adj  coupon rate  \\\n",
       "755       USD  Senior Unsecured Bond        7.500   \n",
       "588       USD         Unsecured Bond        6.000   \n",
       "585       USD    Senior Secured Bond       11.000   \n",
       "1329      USD    Senior Secured Bond        9.125   \n",
       "973       USD    Senior Secured Bond        9.250   \n",
       "\n",
       "                     domicile_country                 exchange_country  \\\n",
       "755   domicile country: United States  exchange_country: United States   \n",
       "588       domicile country: Indonesia      exchange_country: Indonesia   \n",
       "585   domicile country: United States  exchange_country: United States   \n",
       "1329  domicile country: United States  exchange_country: United States   \n",
       "973   domicile country: United States  exchange_country: United States   \n",
       "\n",
       "     Industry_sector Industry_group           Industry_subgroup  \\\n",
       "755           Energy      Oil & Gas         Oil & Gas Producers   \n",
       "588        Materials      Materials             Metals & Mining   \n",
       "585        Materials      Materials             Metals & Mining   \n",
       "1329          Energy      Oil & Gas  Oil & Gas Services & Equip   \n",
       "973           Energy      Oil & Gas         Oil & Gas Producers   \n",
       "\n",
       "                               event_type          event_type_subcategory_sum  \\\n",
       "755   default reason: Default Corp Action         Missing Coupon payment only   \n",
       "588   default reason: Default Corp Action                  Debt Restructuring   \n",
       "585   default reason: Default Corp Action                  Debt Restructuring   \n",
       "1329  default reason: Default Corp Action  Missing Coupon & principal payment   \n",
       "973   default reason: Default Corp Action                              Others   \n",
       "\n",
       "      ...  PD_55_pd  PD_56_pd  PD_57_pd  PD_58_pd  PD_59_pd  PD_60_pd  \\\n",
       "755   ...  0.691011  0.691382  0.691738  0.692080  0.692408  0.692725   \n",
       "588   ...  0.183801  0.184996  0.186167  0.187313  0.188437  0.189539   \n",
       "585   ...  0.278774  0.280216  0.281615  0.282972  0.284290  0.285571   \n",
       "1329  ...  0.190375  0.191471  0.192544  0.193594  0.194622  0.195628   \n",
       "973   ...  0.149501  0.150930  0.152327  0.153692  0.155027  0.156332   \n",
       "\n",
       "           DTD  NI_Over_TA      Size  \\\n",
       "755  -1.084433   -0.052027 -2.074964   \n",
       "588  -0.540409    0.017209  0.864692   \n",
       "585   0.754647   -0.010395 -0.342209   \n",
       "1329 -0.242080   -0.022618 -2.808528   \n",
       "973   1.138686    0.000033 -0.085154   \n",
       "\n",
       "                           defaulted_in_last_6_months  \n",
       "755   The bond has not defaulted in the last 6 months  \n",
       "588   The bond has not defaulted in the last 6 months  \n",
       "585   The bond has not defaulted in the last 6 months  \n",
       "1329  The bond has not defaulted in the last 6 months  \n",
       "973   The bond has not defaulted in the last 6 months  \n",
       "\n",
       "[5 rows x 164 columns]"
      ]
     },
     "execution_count": 244,
     "metadata": {},
     "output_type": "execute_result"
    }
   ],
   "source": [
    "train_features.head()"
   ]
  },
  {
   "cell_type": "code",
   "execution_count": 246,
   "metadata": {},
   "outputs": [
    {
     "data": {
      "text/plain": [
       "BertModel(\n",
       "  (embeddings): BertEmbeddings(\n",
       "    (word_embeddings): Embedding(30522, 768, padding_idx=0)\n",
       "    (position_embeddings): Embedding(512, 768)\n",
       "    (token_type_embeddings): Embedding(2, 768)\n",
       "    (LayerNorm): LayerNorm((768,), eps=1e-12, elementwise_affine=True)\n",
       "    (dropout): Dropout(p=0.1, inplace=False)\n",
       "  )\n",
       "  (encoder): BertEncoder(\n",
       "    (layer): ModuleList(\n",
       "      (0-11): 12 x BertLayer(\n",
       "        (attention): BertAttention(\n",
       "          (self): BertSdpaSelfAttention(\n",
       "            (query): Linear(in_features=768, out_features=768, bias=True)\n",
       "            (key): Linear(in_features=768, out_features=768, bias=True)\n",
       "            (value): Linear(in_features=768, out_features=768, bias=True)\n",
       "            (dropout): Dropout(p=0.1, inplace=False)\n",
       "          )\n",
       "          (output): BertSelfOutput(\n",
       "            (dense): Linear(in_features=768, out_features=768, bias=True)\n",
       "            (LayerNorm): LayerNorm((768,), eps=1e-12, elementwise_affine=True)\n",
       "            (dropout): Dropout(p=0.1, inplace=False)\n",
       "          )\n",
       "        )\n",
       "        (intermediate): BertIntermediate(\n",
       "          (dense): Linear(in_features=768, out_features=3072, bias=True)\n",
       "          (intermediate_act_fn): GELUActivation()\n",
       "        )\n",
       "        (output): BertOutput(\n",
       "          (dense): Linear(in_features=3072, out_features=768, bias=True)\n",
       "          (LayerNorm): LayerNorm((768,), eps=1e-12, elementwise_affine=True)\n",
       "          (dropout): Dropout(p=0.1, inplace=False)\n",
       "        )\n",
       "      )\n",
       "    )\n",
       "  )\n",
       "  (pooler): BertPooler(\n",
       "    (dense): Linear(in_features=768, out_features=768, bias=True)\n",
       "    (activation): Tanh()\n",
       "  )\n",
       ")"
      ]
     },
     "execution_count": 246,
     "metadata": {},
     "output_type": "execute_result"
    }
   ],
   "source": [
    "# Load tokenizer and model\n",
    "tokenizer = AutoTokenizer.from_pretrained(MODEL)\n",
    "model = AutoModel.from_pretrained(MODEL)\n",
    "model.eval()"
   ]
  },
  {
   "cell_type": "code",
   "execution_count": 247,
   "metadata": {},
   "outputs": [],
   "source": [
    "# empty cache first\n",
    "torch.cuda.empty_cache()"
   ]
  },
  {
   "cell_type": "code",
   "execution_count": 248,
   "metadata": {},
   "outputs": [
    {
     "data": {
      "text/plain": [
       "DataParallel(\n",
       "  (module): BertModel(\n",
       "    (embeddings): BertEmbeddings(\n",
       "      (word_embeddings): Embedding(30522, 768, padding_idx=0)\n",
       "      (position_embeddings): Embedding(512, 768)\n",
       "      (token_type_embeddings): Embedding(2, 768)\n",
       "      (LayerNorm): LayerNorm((768,), eps=1e-12, elementwise_affine=True)\n",
       "      (dropout): Dropout(p=0.1, inplace=False)\n",
       "    )\n",
       "    (encoder): BertEncoder(\n",
       "      (layer): ModuleList(\n",
       "        (0-11): 12 x BertLayer(\n",
       "          (attention): BertAttention(\n",
       "            (self): BertSdpaSelfAttention(\n",
       "              (query): Linear(in_features=768, out_features=768, bias=True)\n",
       "              (key): Linear(in_features=768, out_features=768, bias=True)\n",
       "              (value): Linear(in_features=768, out_features=768, bias=True)\n",
       "              (dropout): Dropout(p=0.1, inplace=False)\n",
       "            )\n",
       "            (output): BertSelfOutput(\n",
       "              (dense): Linear(in_features=768, out_features=768, bias=True)\n",
       "              (LayerNorm): LayerNorm((768,), eps=1e-12, elementwise_affine=True)\n",
       "              (dropout): Dropout(p=0.1, inplace=False)\n",
       "            )\n",
       "          )\n",
       "          (intermediate): BertIntermediate(\n",
       "            (dense): Linear(in_features=768, out_features=3072, bias=True)\n",
       "            (intermediate_act_fn): GELUActivation()\n",
       "          )\n",
       "          (output): BertOutput(\n",
       "            (dense): Linear(in_features=3072, out_features=768, bias=True)\n",
       "            (LayerNorm): LayerNorm((768,), eps=1e-12, elementwise_affine=True)\n",
       "            (dropout): Dropout(p=0.1, inplace=False)\n",
       "          )\n",
       "        )\n",
       "      )\n",
       "    )\n",
       "    (pooler): BertPooler(\n",
       "      (dense): Linear(in_features=768, out_features=768, bias=True)\n",
       "      (activation): Tanh()\n",
       "    )\n",
       "  )\n",
       ")"
      ]
     },
     "execution_count": 248,
     "metadata": {},
     "output_type": "execute_result"
    }
   ],
   "source": [
    "model = nn.DataParallel(model, device_ids = DEVICE_LIST)\n",
    "model.to(DEVICE)"
   ]
  },
  {
   "cell_type": "code",
   "execution_count": 249,
   "metadata": {},
   "outputs": [],
   "source": [
    "# Function to create batches\n",
    "def create_batches(inputs, batch_size):\n",
    "    input_ids = inputs[\"input_ids\"]\n",
    "    attention_mask = inputs[\"attention_mask\"]\n",
    "    \n",
    "    for i in range(0, len(input_ids), batch_size):\n",
    "        input_batch = {\n",
    "            \"input_ids\": input_ids[i:i + batch_size].to(DEVICE),\n",
    "            \"attention_mask\": attention_mask[i:i + batch_size].to(DEVICE),\n",
    "        }\n",
    "        yield input_batch"
   ]
  },
  {
   "cell_type": "code",
   "execution_count": 252,
   "metadata": {},
   "outputs": [],
   "source": [
    "# Convert the non-categorical columns to tensors\n",
    "train_features_np = train_features[non_category_features].values.astype('float32')\n",
    "train_features_tensors = torch.tensor(train_features_np, dtype=torch.float32)\n",
    "\n",
    "test_features_np = test_features[non_category_features].values.astype('float32')\n",
    "test_features_tensors = torch.tensor(test_features_np, dtype=torch.float32)"
   ]
  },
  {
   "cell_type": "code",
   "execution_count": 255,
   "metadata": {},
   "outputs": [
    {
     "data": {
      "text/plain": [
       "torch.Size([1293, 153])"
      ]
     },
     "execution_count": 255,
     "metadata": {},
     "output_type": "execute_result"
    }
   ],
   "source": [
    "train_features_tensors.shape"
   ]
  },
  {
   "cell_type": "code",
   "execution_count": 256,
   "metadata": {},
   "outputs": [
    {
     "name": "stdout",
     "output_type": "stream",
     "text": [
      "Shape of train_category_tensors: torch.Size([1293, 768]) for feature currency\n",
      "Shape of train_feature_tensors: torch.Size([1293, 921])\n",
      "Shape of test_category_tensors: torch.Size([432, 768]) for feature currency\n",
      "Shape of test_feature_tensors: torch.Size([432, 921])\n",
      "Shape of train_category_tensors: torch.Size([1293, 768]) for feature seniorioty_adj\n",
      "Shape of train_feature_tensors: torch.Size([1293, 1689])\n",
      "Shape of test_category_tensors: torch.Size([432, 768]) for feature seniorioty_adj\n",
      "Shape of test_feature_tensors: torch.Size([432, 1689])\n",
      "Shape of train_category_tensors: torch.Size([1293, 768]) for feature domicile_country\n",
      "Shape of train_feature_tensors: torch.Size([1293, 2457])\n",
      "Shape of test_category_tensors: torch.Size([432, 768]) for feature domicile_country\n",
      "Shape of test_feature_tensors: torch.Size([432, 2457])\n",
      "Shape of train_category_tensors: torch.Size([1293, 768]) for feature exchange_country\n",
      "Shape of train_feature_tensors: torch.Size([1293, 3225])\n",
      "Shape of test_category_tensors: torch.Size([432, 768]) for feature exchange_country\n",
      "Shape of test_feature_tensors: torch.Size([432, 3225])\n",
      "Shape of train_category_tensors: torch.Size([1293, 768]) for feature Industry_sector\n",
      "Shape of train_feature_tensors: torch.Size([1293, 3993])\n",
      "Shape of test_category_tensors: torch.Size([432, 768]) for feature Industry_sector\n",
      "Shape of test_feature_tensors: torch.Size([432, 3993])\n",
      "Shape of train_category_tensors: torch.Size([1293, 768]) for feature Industry_group\n",
      "Shape of train_feature_tensors: torch.Size([1293, 4761])\n",
      "Shape of test_category_tensors: torch.Size([432, 768]) for feature Industry_group\n",
      "Shape of test_feature_tensors: torch.Size([432, 4761])\n",
      "Shape of train_category_tensors: torch.Size([1293, 768]) for feature Industry_subgroup\n",
      "Shape of train_feature_tensors: torch.Size([1293, 5529])\n",
      "Shape of test_category_tensors: torch.Size([432, 768]) for feature Industry_subgroup\n",
      "Shape of test_feature_tensors: torch.Size([432, 5529])\n",
      "Shape of train_category_tensors: torch.Size([1293, 768]) for feature event_type\n",
      "Shape of train_feature_tensors: torch.Size([1293, 6297])\n",
      "Shape of test_category_tensors: torch.Size([432, 768]) for feature event_type\n",
      "Shape of test_feature_tensors: torch.Size([432, 6297])\n",
      "Shape of train_category_tensors: torch.Size([1293, 768]) for feature event_type_subcategory_sum\n",
      "Shape of train_feature_tensors: torch.Size([1293, 7065])\n",
      "Shape of test_category_tensors: torch.Size([432, 768]) for feature event_type_subcategory_sum\n",
      "Shape of test_feature_tensors: torch.Size([432, 7065])\n",
      "Shape of train_category_tensors: torch.Size([1293, 768]) for feature defaulted_in_last_5_years\n",
      "Shape of train_feature_tensors: torch.Size([1293, 7833])\n",
      "Shape of test_category_tensors: torch.Size([432, 768]) for feature defaulted_in_last_5_years\n",
      "Shape of test_feature_tensors: torch.Size([432, 7833])\n",
      "Shape of train_category_tensors: torch.Size([1293, 768]) for feature defaulted_in_last_6_months\n",
      "Shape of train_feature_tensors: torch.Size([1293, 8601])\n",
      "Shape of test_category_tensors: torch.Size([432, 768]) for feature defaulted_in_last_6_months\n",
      "Shape of test_feature_tensors: torch.Size([432, 8601])\n"
     ]
    }
   ],
   "source": [
    "batch_size = 2  # Adjust batch size based on your GPU memory\n",
    "\n",
    "for i in category_features:\n",
    "    # empty cache first\n",
    "    torch.cuda.empty_cache()\n",
    "    \n",
    "    uniqueCats = list(set(df[i]))\n",
    "    \n",
    "    inputs = tokenizer(uniqueCats, return_tensors=\"pt\", padding=True, truncation=True)\n",
    "    inputs = {key: value.to(DEVICE) for key, value in inputs.items()}\n",
    "    \n",
    "    # create input batches\n",
    "    batches = list(create_batches(inputs, batch_size))\n",
    "    \n",
    "    # Get the embeddings\n",
    "    all_embeddings = []\n",
    "\n",
    "    for batch in batches:\n",
    "        with torch.no_grad():\n",
    "            outputs = model(**batch)\n",
    "            embeddings = outputs.last_hidden_state.mean(dim=1)\n",
    "\n",
    "            # The embeddings are in the shape [batch_size, sequence_length, hidden_size]\n",
    "            all_embeddings.append(embeddings)\n",
    "            \n",
    "    \n",
    "    cpu_embeddings = torch.cat(all_embeddings, dim=0).to(\"cpu\")\n",
    "    catDict = {key: value for key, value in zip(uniqueCats, cpu_embeddings)}\n",
    "    \n",
    "    #### map to train_features\n",
    "    train_features[i] = train_features[i].map(catDict)\n",
    "\n",
    "    # Convert the 'category_tensor' column to a list of tensors and stack them\n",
    "    train_category_tensors = torch.stack(train_features[i].tolist())\n",
    "\n",
    "    # Concatenate the tensors along the second dimension (columns)\n",
    "    train_features_tensors = torch.cat((train_features_tensors, train_category_tensors), dim=1)\n",
    "    \n",
    "    print(f\"Shape of train_category_tensors: {train_category_tensors.shape} for feature {i}\")\n",
    "    print(f\"Shape of train_feature_tensors: {train_features_tensors.shape}\")\n",
    "    \n",
    "    #### map to test_features\n",
    "    test_features[i] = test_features[i].map(catDict)\n",
    "\n",
    "    # Convert the 'category_tensor' column to a list of tensors and stack them\n",
    "    test_category_tensors = torch.stack(test_features[i].tolist())\n",
    "\n",
    "    # Concatenate the tensors along the second dimension (columns)\n",
    "    test_features_tensors = torch.cat((test_features_tensors, test_category_tensors), dim=1)\n",
    "    \n",
    "    print(f\"Shape of test_category_tensors: {test_category_tensors.shape} for feature {i}\")\n",
    "    print(f\"Shape of test_feature_tensors: {test_features_tensors.shape}\")"
   ]
  },
  {
   "cell_type": "code",
   "execution_count": 257,
   "metadata": {},
   "outputs": [
    {
     "data": {
      "text/plain": [
       "torch.Size([1293, 8601])"
      ]
     },
     "execution_count": 257,
     "metadata": {},
     "output_type": "execute_result"
    }
   ],
   "source": [
    "train_features_tensors.shape"
   ]
  },
  {
   "cell_type": "code",
   "execution_count": 258,
   "metadata": {},
   "outputs": [
    {
     "data": {
      "text/plain": [
       "torch.Size([432, 8601])"
      ]
     },
     "execution_count": 258,
     "metadata": {},
     "output_type": "execute_result"
    }
   ],
   "source": [
    "test_features_tensors.shape"
   ]
  },
  {
   "cell_type": "code",
   "execution_count": 259,
   "metadata": {},
   "outputs": [],
   "source": [
    "# split data into training and val set\n",
    "# test_size = 0.25\n",
    "# train_features_tensors2, val_features_tensors, train_labels2, val_labels = train_test_split(train_features_tensors, train_labels, test_size=test_size, random_state=42)\n",
    "\n",
    "# print('Training Features Shape:', train_features_tensors2.shape)\n",
    "# print('Training Labels Shape:', train_labels2.shape)\n",
    "# print('Val Features Shape:', val_features_tensors.shape)\n",
    "# print('Val Labels Shape:', val_labels.shape)"
   ]
  },
  {
   "cell_type": "code",
   "execution_count": 260,
   "metadata": {},
   "outputs": [],
   "source": [
    "# similarity = F.cosine_similarity(embeddings[0], embeddings[1], dim=0)\n",
    "# print(f\"Cosine Similarity: {similarity.item()}\")"
   ]
  },
  {
   "cell_type": "code",
   "execution_count": 261,
   "metadata": {},
   "outputs": [],
   "source": [
    "class CustomDataset(Dataset):\n",
    "    def __init__(self, features, labels):\n",
    "        self.features = features\n",
    "        self.labels = labels\n",
    "    \n",
    "    def __len__(self):\n",
    "        return len(self.features)\n",
    "    \n",
    "    def __getitem__(self, idx):\n",
    "        feature = self.features[idx]\n",
    "        label = self.labels[idx]\n",
    "        return torch.tensor(feature, dtype=torch.float32), torch.tensor(label, dtype=torch.float32)"
   ]
  },
  {
   "cell_type": "code",
   "execution_count": 262,
   "metadata": {},
   "outputs": [],
   "source": [
    "# Create dataset instances\n",
    "# train_dataset = CustomDataset(train_features_tensors2, train_labels2.to_numpy())\n",
    "# eval_dataset = CustomDataset(val_features_tensors, val_labels.to_numpy())\n",
    "# test_dataset = CustomDataset(test_features_tensors, test_labels.to_numpy())"
   ]
  },
  {
   "cell_type": "code",
   "execution_count": 263,
   "metadata": {},
   "outputs": [],
   "source": [
    "# train_loader = DataLoader(train_dataset, batch_size=BATCH_SIZE, shuffle=True)\n",
    "# eval_loader = DataLoader(eval_dataset, batch_size=BATCH_SIZE, shuffle=False)\n",
    "# test_loader = DataLoader(test_dataset, batch_size=BATCH_SIZE, shuffle=False)"
   ]
  },
  {
   "cell_type": "code",
   "execution_count": 264,
   "metadata": {},
   "outputs": [],
   "source": [
    "# for i, (inputs, labels) in enumerate(train_loader):\n",
    "#     print(i, inputs.shape, labels.shape)\n",
    "#     # print(inputs.size(0), inputs.view(inputs.size(0), -1).shape)"
   ]
  },
  {
   "cell_type": "markdown",
   "metadata": {},
   "source": [
    "TUNING PARAMETERS"
   ]
  },
  {
   "cell_type": "code",
   "execution_count": 265,
   "metadata": {},
   "outputs": [],
   "source": [
    "# !pip install optuna"
   ]
  },
  {
   "cell_type": "code",
   "execution_count": 266,
   "metadata": {},
   "outputs": [],
   "source": [
    "class MLP(nn.Module):\n",
    "    def __init__(\n",
    "        self,\n",
    "        *,\n",
    "        d_in: int,\n",
    "        d_layers: List[int],\n",
    "        dropout: float,\n",
    "        d_out: int,\n",
    "        activation_name='ReLU',\n",
    "        negative_slope=0.01\n",
    "    ) -> None:\n",
    "        super().__init__()\n",
    "\n",
    "        self.linear_layers = nn.ModuleList([\n",
    "            nn.Linear(d_layers[i - 1] if i else d_in, x)\n",
    "            for i, x in enumerate(d_layers)\n",
    "            ])\n",
    "        \n",
    "        # self.dropout_layer = nn.ModuleList([nn.Dropout(p) for p in dropout])\n",
    "        self.dropout_layer = nn.Dropout(dropout)\n",
    "        self.head = nn.Linear(d_layers[-1] if d_layers else d_in, d_out)\n",
    "        self.activation_layer = getattr(nn, activation_name)()\n",
    "        \n",
    "        if self.activation_layer == nn.LeakyReLU:\n",
    "            self.activation_layer = self.activation_layer(negative_slope)\n",
    "     \n",
    "\n",
    "    def forward(self, inputs):\n",
    "\n",
    "        x = inputs\n",
    "        for linear_layer in self.linear_layers:\n",
    "            x = linear_layer(x)\n",
    "            x = self.activation_layer(x)\n",
    "            x = self.dropout_layer(x)\n",
    "        x = self.head(x)\n",
    "        x = x.squeeze(-1)\n",
    "        return x"
   ]
  },
  {
   "cell_type": "code",
   "execution_count": 267,
   "metadata": {},
   "outputs": [],
   "source": [
    "# define loss function\n",
    "criterion = nn.MSELoss()"
   ]
  },
  {
   "cell_type": "code",
   "execution_count": 269,
   "metadata": {},
   "outputs": [],
   "source": [
    "EPOCHS = 100"
   ]
  },
  {
   "cell_type": "code",
   "execution_count": 270,
   "metadata": {},
   "outputs": [],
   "source": [
    "train_features_np = train_features_tensors.numpy()\n",
    "test_features_np = test_features_tensors.numpy()"
   ]
  },
  {
   "cell_type": "code",
   "execution_count": 271,
   "metadata": {},
   "outputs": [],
   "source": [
    "scaler = StandardScaler()"
   ]
  },
  {
   "cell_type": "code",
   "execution_count": 272,
   "metadata": {},
   "outputs": [],
   "source": [
    "def objective(trial):\n",
    "    # Define hyperparameters\n",
    "    num_blocks = trial.suggest_int('num_blocks', 1, 5)\n",
    "    \n",
    "    out_features_list = []\n",
    "    for i in range(num_blocks):\n",
    "        out_features = trial.suggest_int(f'out_features_{i}', 10, 128)\n",
    "        out_features_list.append(out_features)\n",
    "\n",
    "    p = trial.suggest_float(\"dropout_l{}\".format(i), 0, 0.5)\n",
    "    activation_name = trial.suggest_categorical(f'activation_{i}', ['ReLU', 'Tanh', 'LeakyReLU'])\n",
    "    negative_slope = 0.01\n",
    "    if activation_name == 'LeakyReLU':\n",
    "        negative_slope = trial.suggest_float(f\"negative_slope_{i}\", 0.01, 1)\n",
    "\n",
    "    # Generate the optimizers.\n",
    "    optimizer_name = trial.suggest_categorical(\"optimizer\", [\"Adam\", \"RMSprop\", \"SGD\"])\n",
    "    lr = trial.suggest_float(\"lr\", 1e-5, 1e-1, log=True)\n",
    "    weight_decay = trial.suggest_float(\"weight_decay\", 1e-9, 1e-1, log=True)\n",
    "\n",
    "    # Define cross-validation setup\n",
    "    kf = KFold(n_splits=5, shuffle=True, random_state=42)\n",
    "    val_losses = []\n",
    "\n",
    "    for train_idx, val_idx in kf.split(train_features_np):\n",
    "        # Create training and validation datasets for the current fold\n",
    "        X_train_fold, X_val_fold = train_features_np[train_idx], train_features_np[val_idx]\n",
    "        y_train_fold, y_val_fold = train_labels.iloc[train_idx], train_labels.iloc[val_idx]\n",
    "        \n",
    "        # scaling features\n",
    "        X_train_fold[:, :len(non_category_features)] = scaler.fit_transform(X_train_fold[:, :len(non_category_features)])\n",
    "        X_val_fold[:, :len(non_category_features)] = scaler.transform(X_val_fold[:, :len(non_category_features)])\n",
    "            \n",
    "        # Initialize the model for this fold\n",
    "        model = MLP(d_in=X_train_fold.shape[1], d_layers=out_features_list, dropout=p, d_out=1, activation_name=activation_name, negative_slope=negative_slope)\n",
    "        model = nn.DataParallel(model, device_ids = DEVICE_LIST)\n",
    "        model.to(DEVICE)\n",
    "        \n",
    "        # define optimizer\n",
    "        if optimizer_name == \"Adam\":\n",
    "         optimizer = getattr(optim, optimizer_name)(model.parameters(), lr=lr, weight_decay=weight_decay)\n",
    "        else:\n",
    "            momentum = trial.suggest_float(\"momentum\", 1e-9, 0.95, log=True)\n",
    "            optimizer = getattr(optim, optimizer_name)(model.parameters(), lr=lr, weight_decay=weight_decay, momentum=momentum)\n",
    "        \n",
    "        # Define the loss function and optimizer\n",
    "        criterion = nn.MSELoss()\n",
    "        \n",
    "        # Prepare DataLoader for training\n",
    "        train_dataset = CustomDataset(X_train_fold, y_train_fold.to_numpy())\n",
    "        val_dataset = CustomDataset(X_val_fold, y_val_fold.to_numpy())\n",
    "        train_loader = DataLoader(train_dataset, batch_size=BATCH_SIZE, shuffle=True)\n",
    "        val_loader = DataLoader(val_dataset, batch_size=BATCH_SIZE, shuffle=True)\n",
    "            \n",
    "        # Training of the model.\n",
    "        model.train()\n",
    "        for epoch in range(EPOCHS):\n",
    "            for batch_idx, (data, target) in enumerate(train_loader):\n",
    "                data, target = data.to(DEVICE), target.to(DEVICE)\n",
    "\n",
    "                optimizer.zero_grad()\n",
    "                output = model(data)\n",
    "                # print(\"shape\", output.shape, target.shape)\n",
    "                loss = criterion(output, target)\n",
    "                loss.backward()\n",
    "                optimizer.step()\n",
    "\n",
    "        # Validation of the model.\n",
    "        model.eval()\n",
    "        val_loss = 0\n",
    "        with torch.no_grad():\n",
    "            for batch_idx, (data, target) in enumerate(val_loader):\n",
    "                data, target = data.to(DEVICE), target.to(DEVICE)\n",
    "                output = model(data)\n",
    "                val_loss = criterion(output, target).item()\n",
    "                val_losses.append(val_loss**0.5) #rmse\n",
    "\n",
    "        trial.report(val_loss, epoch)\n",
    "\n",
    "    # Return the average validation loss across all folds\n",
    "    # return torch.stack(val_losses).mean()\n",
    "    return np.mean(val_losses)\n"
   ]
  },
  {
   "cell_type": "code",
   "execution_count": 274,
   "metadata": {},
   "outputs": [
    {
     "name": "stderr",
     "output_type": "stream",
     "text": [
      "[I 2024-08-28 07:49:22,856] A new study created in memory with name: no-name-211e8e25-35c8-4cfd-b1fb-e2e31a751665\n",
      "/home/nguyenhoa/miniconda3/envs/.henv/lib/python3.12/site-packages/optuna/trial/_trial.py:493: UserWarning: The reported value is ignored because this `step` 99 is already reported.\n",
      "  warnings.warn(\n",
      "/home/nguyenhoa/miniconda3/envs/.henv/lib/python3.12/site-packages/optuna/trial/_trial.py:493: UserWarning: The reported value is ignored because this `step` 99 is already reported.\n",
      "  warnings.warn(\n",
      "/home/nguyenhoa/miniconda3/envs/.henv/lib/python3.12/site-packages/optuna/trial/_trial.py:493: UserWarning: The reported value is ignored because this `step` 99 is already reported.\n",
      "  warnings.warn(\n",
      "/home/nguyenhoa/miniconda3/envs/.henv/lib/python3.12/site-packages/optuna/trial/_trial.py:493: UserWarning: The reported value is ignored because this `step` 99 is already reported.\n",
      "  warnings.warn(\n",
      "[I 2024-08-28 08:07:06,566] Trial 0 finished with value: 0.20382025131928802 and parameters: {'num_blocks': 5, 'out_features_0': 21, 'out_features_1': 111, 'out_features_2': 103, 'out_features_3': 113, 'out_features_4': 25, 'dropout_l4': 0.2291005622500366, 'activation_4': 'Tanh', 'optimizer': 'RMSprop', 'lr': 1.6553025287544413e-05, 'weight_decay': 1.5600765342073137e-05, 'momentum': 4.508246992366513e-06}. Best is trial 0 with value: 0.20382025131928802.\n"
     ]
    },
    {
     "name": "stdout",
     "output_type": "stream",
     "text": [
      "Study statistics: \n",
      "  Number of finished trials:  1\n",
      "  Number of pruned trials:  0\n",
      "  Number of complete trials:  1\n",
      "Best trial:\n",
      "  Value:  0.20382025131928802\n",
      "  Params: \n",
      "    num_blocks: 5\n",
      "    out_features_0: 21\n",
      "    out_features_1: 111\n",
      "    out_features_2: 103\n",
      "    out_features_3: 113\n",
      "    out_features_4: 25\n",
      "    dropout_l4: 0.2291005622500366\n",
      "    activation_4: Tanh\n",
      "    optimizer: RMSprop\n",
      "    lr: 1.6553025287544413e-05\n",
      "    weight_decay: 1.5600765342073137e-05\n",
      "    momentum: 4.508246992366513e-06\n"
     ]
    }
   ],
   "source": [
    "# 3. Create a study object and optimize the objective function.\n",
    "study = optuna.create_study(direction=\"minimize\")\n",
    "study.optimize(objective, n_trials=100, timeout=600)\n",
    "\n",
    "pruned_trials = study.get_trials(deepcopy=False, states=[TrialState.PRUNED])\n",
    "complete_trials = study.get_trials(deepcopy=False, states=[TrialState.COMPLETE])\n",
    "\n",
    "print(\"Study statistics: \")\n",
    "print(\"  Number of finished trials: \", len(study.trials))\n",
    "print(\"  Number of pruned trials: \", len(pruned_trials))\n",
    "print(\"  Number of complete trials: \", len(complete_trials))\n",
    "\n",
    "print(\"Best trial:\")\n",
    "trial = study.best_trial\n",
    "\n",
    "print(\"  Value: \", trial.value)\n",
    "\n",
    "print(\"  Params: \")\n",
    "for key, value in trial.params.items():\n",
    "    print(\"    {}: {}\".format(key, value))\n"
   ]
  },
  {
   "cell_type": "code",
   "execution_count": 275,
   "metadata": {},
   "outputs": [
    {
     "data": {
      "text/plain": [
       "{'num_blocks': 5,\n",
       " 'out_features_0': 21,\n",
       " 'out_features_1': 111,\n",
       " 'out_features_2': 103,\n",
       " 'out_features_3': 113,\n",
       " 'out_features_4': 25,\n",
       " 'dropout_l4': 0.2291005622500366,\n",
       " 'activation_4': 'Tanh',\n",
       " 'optimizer': 'RMSprop',\n",
       " 'lr': 1.6553025287544413e-05,\n",
       " 'weight_decay': 1.5600765342073137e-05,\n",
       " 'momentum': 4.508246992366513e-06}"
      ]
     },
     "execution_count": 275,
     "metadata": {},
     "output_type": "execute_result"
    }
   ],
   "source": [
    "trial.params"
   ]
  },
  {
   "cell_type": "code",
   "execution_count": 276,
   "metadata": {},
   "outputs": [],
   "source": [
    "MODEL_CONFIG = {\"linear\": [], \"dropout\": 0, \"optimizer\": {}, \"negative_slope\": 0.01, \"activation_name\": \"\"}\n",
    "\n",
    "for key, value in trial.params.items():\n",
    "    if \"out_features\" in key:\n",
    "        MODEL_CONFIG[\"linear\"].append(value)\n",
    "    elif \"dropout\" in key:\n",
    "        MODEL_CONFIG[\"dropout\"] = value\n",
    "    elif \"negative_slope\" in key:\n",
    "        MODEL_CONFIG[\"negative_slope\"] = value\n",
    "    elif \"activation\" in key:\n",
    "        MODEL_CONFIG[\"activation_name\"] = value\n",
    "    elif \"num_blocks\" in key:\n",
    "        continue\n",
    "    else:\n",
    "        MODEL_CONFIG[\"optimizer\"][key] = value"
   ]
  },
  {
   "cell_type": "code",
   "execution_count": 277,
   "metadata": {},
   "outputs": [
    {
     "data": {
      "text/plain": [
       "{'linear': [21, 111, 103, 113, 25],\n",
       " 'dropout': 0.2291005622500366,\n",
       " 'optimizer': {'optimizer': 'RMSprop',\n",
       "  'lr': 1.6553025287544413e-05,\n",
       "  'weight_decay': 1.5600765342073137e-05,\n",
       "  'momentum': 4.508246992366513e-06},\n",
       " 'negative_slope': 0.01,\n",
       " 'activation_name': 'Tanh'}"
      ]
     },
     "execution_count": 277,
     "metadata": {},
     "output_type": "execute_result"
    }
   ],
   "source": [
    "MODEL_CONFIG"
   ]
  },
  {
   "cell_type": "markdown",
   "metadata": {},
   "source": [
    "RUNNING THE MODEL"
   ]
  },
  {
   "cell_type": "code",
   "execution_count": 278,
   "metadata": {},
   "outputs": [],
   "source": [
    "# empty cache first\n",
    "torch.cuda.empty_cache()"
   ]
  },
  {
   "cell_type": "code",
   "execution_count": 279,
   "metadata": {},
   "outputs": [],
   "source": [
    "# scaling features\n",
    "train_features_np[:,:len(non_category_features)] = scaler.fit_transform(train_features_np[:,:len(non_category_features)])\n",
    "test_features_np[:,:len(non_category_features)] = scaler.transform(test_features_np[:,:len(non_category_features)])\n",
    "            \n",
    "# Create dataset instances\n",
    "train_dataset = CustomDataset(train_features_np, train_labels.to_numpy())\n",
    "test_dataset = CustomDataset(test_features_np, test_labels.to_numpy())\n",
    "\n",
    "train_loader = DataLoader(train_dataset, batch_size=BATCH_SIZE, shuffle=True)\n",
    "test_loader = DataLoader(test_dataset, batch_size=test_features_np.shape[0], shuffle=True)"
   ]
  },
  {
   "cell_type": "code",
   "execution_count": 280,
   "metadata": {},
   "outputs": [
    {
     "data": {
      "text/plain": [
       "MLP(\n",
       "  (linear_layers): ModuleList(\n",
       "    (0): Linear(in_features=8601, out_features=21, bias=True)\n",
       "    (1): Linear(in_features=21, out_features=111, bias=True)\n",
       "    (2): Linear(in_features=111, out_features=103, bias=True)\n",
       "    (3): Linear(in_features=103, out_features=113, bias=True)\n",
       "    (4): Linear(in_features=113, out_features=25, bias=True)\n",
       "  )\n",
       "  (dropout_layer): Dropout(p=0.2291005622500366, inplace=False)\n",
       "  (head): Linear(in_features=25, out_features=1, bias=True)\n",
       "  (activation_layer): Tanh()\n",
       ")"
      ]
     },
     "execution_count": 280,
     "metadata": {},
     "output_type": "execute_result"
    }
   ],
   "source": [
    "model = MLP(d_in=train_features_np.shape[1], d_layers=MODEL_CONFIG[\"linear\"], dropout=MODEL_CONFIG[\"dropout\"], d_out=1, activation_name=MODEL_CONFIG[\"activation_name\"], negative_slope=MODEL_CONFIG['negative_slope'])\n",
    "model"
   ]
  },
  {
   "cell_type": "code",
   "execution_count": 281,
   "metadata": {},
   "outputs": [
    {
     "data": {
      "text/plain": [
       "DataParallel(\n",
       "  (module): MLP(\n",
       "    (linear_layers): ModuleList(\n",
       "      (0): Linear(in_features=8601, out_features=21, bias=True)\n",
       "      (1): Linear(in_features=21, out_features=111, bias=True)\n",
       "      (2): Linear(in_features=111, out_features=103, bias=True)\n",
       "      (3): Linear(in_features=103, out_features=113, bias=True)\n",
       "      (4): Linear(in_features=113, out_features=25, bias=True)\n",
       "    )\n",
       "    (dropout_layer): Dropout(p=0.2291005622500366, inplace=False)\n",
       "    (head): Linear(in_features=25, out_features=1, bias=True)\n",
       "    (activation_layer): Tanh()\n",
       "  )\n",
       ")"
      ]
     },
     "execution_count": 281,
     "metadata": {},
     "output_type": "execute_result"
    }
   ],
   "source": [
    "model = nn.DataParallel(model, device_ids = DEVICE_LIST)\n",
    "model.to(DEVICE)"
   ]
  },
  {
   "cell_type": "code",
   "execution_count": 282,
   "metadata": {},
   "outputs": [
    {
     "data": {
      "text/plain": [
       "RMSprop (\n",
       "Parameter Group 0\n",
       "    alpha: 0.99\n",
       "    centered: False\n",
       "    differentiable: False\n",
       "    eps: 1e-08\n",
       "    foreach: None\n",
       "    lr: 1.6553025287544413e-05\n",
       "    maximize: False\n",
       "    momentum: 4.508246992366513e-06\n",
       "    weight_decay: 1.5600765342073137e-05\n",
       ")"
      ]
     },
     "execution_count": 282,
     "metadata": {},
     "output_type": "execute_result"
    }
   ],
   "source": [
    "# define optimizer\n",
    "optim_config = deepcopy(MODEL_CONFIG[\"optimizer\"])\n",
    "del optim_config[\"optimizer\"]\n",
    "\n",
    "optimizer = getattr(optim, MODEL_CONFIG[\"optimizer\"][\"optimizer\"])(model.parameters(), **optim_config)\n",
    "optimizer"
   ]
  },
  {
   "cell_type": "code",
   "execution_count": 283,
   "metadata": {},
   "outputs": [
    {
     "name": "stderr",
     "output_type": "stream",
     "text": [
      "  0%|          | 0/200 [00:00<?, ?it/s]"
     ]
    },
    {
     "name": "stdout",
     "output_type": "stream",
     "text": [
      "[1,   100] loss: 0.178\n",
      "[1,   200] loss: 0.327\n",
      "[1,   300] loss: 0.455\n",
      "[1,   400] loss: 0.594\n",
      "[1,   500] loss: 0.727\n",
      "[1,   600] loss: 0.860\n",
      "[1,   700] loss: 0.994\n",
      "[1,   800] loss: 1.139\n",
      "[1,   900] loss: 1.236\n",
      "[1,  1000] loss: 1.355\n",
      "[1,  1100] loss: 1.479\n"
     ]
    },
    {
     "name": "stderr",
     "output_type": "stream",
     "text": [
      "  0%|          | 1/200 [00:02<09:06,  2.75s/it]"
     ]
    },
    {
     "name": "stdout",
     "output_type": "stream",
     "text": [
      "[1,  1200] loss: 1.585\n",
      "Epoch [1], Train Loss: 0.1292\n",
      "[2,   100] loss: 0.124\n",
      "[2,   200] loss: 0.235\n",
      "[2,   300] loss: 0.337\n",
      "[2,   400] loss: 0.427\n",
      "[2,   500] loss: 0.528\n",
      "[2,   600] loss: 0.627\n",
      "[2,   700] loss: 0.728\n",
      "[2,   800] loss: 0.836\n",
      "[2,   900] loss: 0.948\n",
      "[2,  1000] loss: 1.039\n",
      "[2,  1100] loss: 1.156\n"
     ]
    },
    {
     "name": "stderr",
     "output_type": "stream",
     "text": [
      "  1%|          | 2/200 [00:05<09:04,  2.75s/it]"
     ]
    },
    {
     "name": "stdout",
     "output_type": "stream",
     "text": [
      "[2,  1200] loss: 1.276\n",
      "Epoch [2], Train Loss: 0.1067\n",
      "[3,   100] loss: 0.099\n",
      "[3,   200] loss: 0.198\n",
      "[3,   300] loss: 0.301\n",
      "[3,   400] loss: 0.406\n",
      "[3,   500] loss: 0.509\n",
      "[3,   600] loss: 0.625\n",
      "[3,   700] loss: 0.725\n",
      "[3,   800] loss: 0.832\n",
      "[3,   900] loss: 0.912\n",
      "[3,  1000] loss: 0.985\n",
      "[3,  1100] loss: 1.105\n"
     ]
    },
    {
     "name": "stderr",
     "output_type": "stream",
     "text": [
      "  2%|▏         | 3/200 [00:08<09:01,  2.75s/it]"
     ]
    },
    {
     "name": "stdout",
     "output_type": "stream",
     "text": [
      "[3,  1200] loss: 1.200\n",
      "Epoch [3], Train Loss: 0.0993\n",
      "[4,   100] loss: 0.107\n",
      "[4,   200] loss: 0.209\n",
      "[4,   300] loss: 0.322\n",
      "[4,   400] loss: 0.413\n",
      "[4,   500] loss: 0.519\n",
      "[4,   600] loss: 0.613\n",
      "[4,   700] loss: 0.718\n",
      "[4,   800] loss: 0.828\n",
      "[4,   900] loss: 0.942\n",
      "[4,  1000] loss: 1.046\n",
      "[4,  1100] loss: 1.122\n"
     ]
    },
    {
     "name": "stderr",
     "output_type": "stream",
     "text": [
      "  2%|▏         | 4/200 [00:11<09:29,  2.91s/it]"
     ]
    },
    {
     "name": "stdout",
     "output_type": "stream",
     "text": [
      "[4,  1200] loss: 1.198\n",
      "Epoch [4], Train Loss: 0.0995\n",
      "[5,   100] loss: 0.091\n",
      "[5,   200] loss: 0.215\n",
      "[5,   300] loss: 0.303\n",
      "[5,   400] loss: 0.376\n",
      "[5,   500] loss: 0.475\n",
      "[5,   600] loss: 0.567\n",
      "[5,   700] loss: 0.657\n",
      "[5,   800] loss: 0.745\n",
      "[5,   900] loss: 0.847\n",
      "[5,  1000] loss: 0.936\n",
      "[5,  1100] loss: 1.035\n"
     ]
    },
    {
     "name": "stderr",
     "output_type": "stream",
     "text": [
      "  2%|▎         | 5/200 [00:14<09:14,  2.84s/it]"
     ]
    },
    {
     "name": "stdout",
     "output_type": "stream",
     "text": [
      "[5,  1200] loss: 1.126\n",
      "Epoch [5], Train Loss: 0.0940\n",
      "[6,   100] loss: 0.103\n",
      "[6,   200] loss: 0.204\n",
      "[6,   300] loss: 0.284\n",
      "[6,   400] loss: 0.399\n",
      "[6,   500] loss: 0.508\n",
      "[6,   600] loss: 0.610\n",
      "[6,   700] loss: 0.691\n",
      "[6,   800] loss: 0.766\n",
      "[6,   900] loss: 0.863\n",
      "[6,  1000] loss: 0.950\n",
      "[6,  1100] loss: 1.039\n"
     ]
    },
    {
     "name": "stderr",
     "output_type": "stream",
     "text": [
      "  3%|▎         | 6/200 [00:16<09:04,  2.81s/it]"
     ]
    },
    {
     "name": "stdout",
     "output_type": "stream",
     "text": [
      "[6,  1200] loss: 1.122\n",
      "Epoch [6], Train Loss: 0.0940\n",
      "[7,   100] loss: 0.105\n",
      "[7,   200] loss: 0.187\n",
      "[7,   300] loss: 0.279\n",
      "[7,   400] loss: 0.368\n",
      "[7,   500] loss: 0.475\n",
      "[7,   600] loss: 0.558\n",
      "[7,   700] loss: 0.656\n",
      "[7,   800] loss: 0.752\n",
      "[7,   900] loss: 0.858\n",
      "[7,  1000] loss: 0.946\n",
      "[7,  1100] loss: 1.027\n"
     ]
    },
    {
     "name": "stderr",
     "output_type": "stream",
     "text": [
      "  4%|▎         | 7/200 [00:19<09:02,  2.81s/it]"
     ]
    },
    {
     "name": "stdout",
     "output_type": "stream",
     "text": [
      "[7,  1200] loss: 1.117\n",
      "Epoch [7], Train Loss: 0.0938\n",
      "[8,   100] loss: 0.106\n",
      "[8,   200] loss: 0.178\n",
      "[8,   300] loss: 0.287\n",
      "[8,   400] loss: 0.374\n",
      "[8,   500] loss: 0.461\n",
      "[8,   600] loss: 0.548\n",
      "[8,   700] loss: 0.640\n",
      "[8,   800] loss: 0.738\n",
      "[8,   900] loss: 0.848\n",
      "[8,  1000] loss: 0.936\n",
      "[8,  1100] loss: 1.025\n"
     ]
    },
    {
     "name": "stderr",
     "output_type": "stream",
     "text": [
      "  4%|▍         | 8/200 [00:22<08:56,  2.80s/it]"
     ]
    },
    {
     "name": "stdout",
     "output_type": "stream",
     "text": [
      "[8,  1200] loss: 1.128\n",
      "Epoch [8], Train Loss: 0.0930\n",
      "[9,   100] loss: 0.111\n",
      "[9,   200] loss: 0.190\n",
      "[9,   300] loss: 0.287\n",
      "[9,   400] loss: 0.364\n",
      "[9,   500] loss: 0.465\n",
      "[9,   600] loss: 0.550\n",
      "[9,   700] loss: 0.634\n",
      "[9,   800] loss: 0.729\n",
      "[9,   900] loss: 0.828\n",
      "[9,  1000] loss: 0.895\n",
      "[9,  1100] loss: 0.989\n"
     ]
    },
    {
     "name": "stderr",
     "output_type": "stream",
     "text": [
      "  4%|▍         | 9/200 [00:25<08:49,  2.77s/it]"
     ]
    },
    {
     "name": "stdout",
     "output_type": "stream",
     "text": [
      "[9,  1200] loss: 1.079\n",
      "Epoch [9], Train Loss: 0.0884\n",
      "[10,   100] loss: 0.068\n",
      "[10,   200] loss: 0.165\n",
      "[10,   300] loss: 0.234\n",
      "[10,   400] loss: 0.326\n",
      "[10,   500] loss: 0.398\n",
      "[10,   600] loss: 0.479\n",
      "[10,   700] loss: 0.559\n",
      "[10,   800] loss: 0.640\n",
      "[10,   900] loss: 0.727\n",
      "[10,  1000] loss: 0.817\n",
      "[10,  1100] loss: 0.923\n"
     ]
    },
    {
     "name": "stderr",
     "output_type": "stream",
     "text": [
      "  5%|▌         | 10/200 [00:27<08:45,  2.77s/it]"
     ]
    },
    {
     "name": "stdout",
     "output_type": "stream",
     "text": [
      "[10,  1200] loss: 1.025\n",
      "Epoch [10], Train Loss: 0.0865\n",
      "[11,   100] loss: 0.096\n",
      "[11,   200] loss: 0.173\n",
      "[11,   300] loss: 0.271\n",
      "[11,   400] loss: 0.342\n",
      "[11,   500] loss: 0.428\n",
      "[11,   600] loss: 0.511\n",
      "[11,   700] loss: 0.619\n",
      "[11,   800] loss: 0.700\n",
      "[11,   900] loss: 0.785\n",
      "[11,  1000] loss: 0.874\n",
      "[11,  1100] loss: 0.962\n",
      "[11,  1200] loss: 1.037\n"
     ]
    },
    {
     "name": "stderr",
     "output_type": "stream",
     "text": [
      "  6%|▌         | 11/200 [00:30<08:42,  2.77s/it]"
     ]
    },
    {
     "name": "stdout",
     "output_type": "stream",
     "text": [
      "Epoch [11], Train Loss: 0.0852\n",
      "[12,   100] loss: 0.078\n",
      "[12,   200] loss: 0.168\n",
      "[12,   300] loss: 0.249\n",
      "[12,   400] loss: 0.332\n",
      "[12,   500] loss: 0.419\n",
      "[12,   600] loss: 0.509\n",
      "[12,   700] loss: 0.589\n",
      "[12,   800] loss: 0.664\n",
      "[12,   900] loss: 0.758\n",
      "[12,  1000] loss: 0.833\n",
      "[12,  1100] loss: 0.920\n"
     ]
    },
    {
     "name": "stderr",
     "output_type": "stream",
     "text": [
      "  6%|▌         | 12/200 [00:33<08:38,  2.76s/it]"
     ]
    },
    {
     "name": "stdout",
     "output_type": "stream",
     "text": [
      "[12,  1200] loss: 1.009\n",
      "Epoch [12], Train Loss: 0.0834\n",
      "[13,   100] loss: 0.095\n",
      "[13,   200] loss: 0.159\n",
      "[13,   300] loss: 0.237\n",
      "[13,   400] loss: 0.326\n",
      "[13,   500] loss: 0.390\n",
      "[13,   600] loss: 0.482\n",
      "[13,   700] loss: 0.562\n",
      "[13,   800] loss: 0.645\n",
      "[13,   900] loss: 0.760\n",
      "[13,  1000] loss: 0.862\n",
      "[13,  1100] loss: 0.941\n"
     ]
    },
    {
     "name": "stderr",
     "output_type": "stream",
     "text": [
      "  6%|▋         | 13/200 [00:36<08:35,  2.75s/it]"
     ]
    },
    {
     "name": "stdout",
     "output_type": "stream",
     "text": [
      "[13,  1200] loss: 1.048\n",
      "Epoch [13], Train Loss: 0.0874\n",
      "[14,   100] loss: 0.074\n",
      "[14,   200] loss: 0.156\n",
      "[14,   300] loss: 0.244\n",
      "[14,   400] loss: 0.313\n",
      "[14,   500] loss: 0.391\n",
      "[14,   600] loss: 0.484\n",
      "[14,   700] loss: 0.591\n",
      "[14,   800] loss: 0.651\n",
      "[14,   900] loss: 0.729\n",
      "[14,  1000] loss: 0.826\n",
      "[14,  1100] loss: 0.925\n"
     ]
    },
    {
     "name": "stderr",
     "output_type": "stream",
     "text": [
      "  7%|▋         | 14/200 [00:38<08:31,  2.75s/it]"
     ]
    },
    {
     "name": "stdout",
     "output_type": "stream",
     "text": [
      "[14,  1200] loss: 1.009\n",
      "Epoch [14], Train Loss: 0.0856\n",
      "[15,   100] loss: 0.090\n",
      "[15,   200] loss: 0.167\n",
      "[15,   300] loss: 0.232\n",
      "[15,   400] loss: 0.324\n",
      "[15,   500] loss: 0.397\n",
      "[15,   600] loss: 0.485\n",
      "[15,   700] loss: 0.560\n",
      "[15,   800] loss: 0.661\n",
      "[15,   900] loss: 0.749\n",
      "[15,  1000] loss: 0.822\n",
      "[15,  1100] loss: 0.924\n",
      "[15,  1200] loss: 0.990\n"
     ]
    },
    {
     "name": "stderr",
     "output_type": "stream",
     "text": [
      "  8%|▊         | 15/200 [00:41<08:28,  2.75s/it]"
     ]
    },
    {
     "name": "stdout",
     "output_type": "stream",
     "text": [
      "Epoch [15], Train Loss: 0.0832\n",
      "[16,   100] loss: 0.076\n",
      "[16,   200] loss: 0.161\n",
      "[16,   300] loss: 0.240\n",
      "[16,   400] loss: 0.326\n",
      "[16,   500] loss: 0.413\n",
      "[16,   600] loss: 0.491\n",
      "[16,   700] loss: 0.574\n",
      "[16,   800] loss: 0.651\n",
      "[16,   900] loss: 0.743\n",
      "[16,  1000] loss: 0.825\n",
      "[16,  1100] loss: 0.920\n"
     ]
    },
    {
     "name": "stderr",
     "output_type": "stream",
     "text": [
      "  8%|▊         | 16/200 [00:44<08:26,  2.75s/it]"
     ]
    },
    {
     "name": "stdout",
     "output_type": "stream",
     "text": [
      "[16,  1200] loss: 1.013\n",
      "Epoch [16], Train Loss: 0.0838\n",
      "[17,   100] loss: 0.083\n",
      "[17,   200] loss: 0.178\n",
      "[17,   300] loss: 0.255\n",
      "[17,   400] loss: 0.342\n",
      "[17,   500] loss: 0.419\n",
      "[17,   600] loss: 0.525\n",
      "[17,   700] loss: 0.599\n",
      "[17,   800] loss: 0.669\n",
      "[17,   900] loss: 0.770\n",
      "[17,  1000] loss: 0.837\n",
      "[17,  1100] loss: 0.934\n"
     ]
    },
    {
     "name": "stderr",
     "output_type": "stream",
     "text": [
      "  8%|▊         | 17/200 [00:47<08:23,  2.75s/it]"
     ]
    },
    {
     "name": "stdout",
     "output_type": "stream",
     "text": [
      "[17,  1200] loss: 1.014\n",
      "Epoch [17], Train Loss: 0.0835\n",
      "[18,   100] loss: 0.086\n",
      "[18,   200] loss: 0.162\n",
      "[18,   300] loss: 0.235\n",
      "[18,   400] loss: 0.329\n",
      "[18,   500] loss: 0.414\n",
      "[18,   600] loss: 0.472\n",
      "[18,   700] loss: 0.557\n",
      "[18,   800] loss: 0.647\n",
      "[18,   900] loss: 0.734\n",
      "[18,  1000] loss: 0.836\n",
      "[18,  1100] loss: 0.918\n",
      "[18,  1200] loss: 1.004\n"
     ]
    },
    {
     "name": "stderr",
     "output_type": "stream",
     "text": [
      "  9%|▉         | 18/200 [00:49<08:21,  2.76s/it]"
     ]
    },
    {
     "name": "stdout",
     "output_type": "stream",
     "text": [
      "Epoch [18], Train Loss: 0.0832\n",
      "[19,   100] loss: 0.075\n",
      "[19,   200] loss: 0.140\n",
      "[19,   300] loss: 0.230\n",
      "[19,   400] loss: 0.318\n",
      "[19,   500] loss: 0.389\n",
      "[19,   600] loss: 0.475\n",
      "[19,   700] loss: 0.554\n",
      "[19,   800] loss: 0.642\n",
      "[19,   900] loss: 0.727\n",
      "[19,  1000] loss: 0.818\n",
      "[19,  1100] loss: 0.918\n",
      "[19,  1200] loss: 1.007\n"
     ]
    },
    {
     "name": "stderr",
     "output_type": "stream",
     "text": [
      " 10%|▉         | 19/200 [00:52<08:21,  2.77s/it]"
     ]
    },
    {
     "name": "stdout",
     "output_type": "stream",
     "text": [
      "Epoch [19], Train Loss: 0.0842\n",
      "[20,   100] loss: 0.087\n",
      "[20,   200] loss: 0.164\n",
      "[20,   300] loss: 0.234\n",
      "[20,   400] loss: 0.325\n",
      "[20,   500] loss: 0.400\n",
      "[20,   600] loss: 0.477\n",
      "[20,   700] loss: 0.557\n",
      "[20,   800] loss: 0.628\n",
      "[20,   900] loss: 0.727\n",
      "[20,  1000] loss: 0.815\n",
      "[20,  1100] loss: 0.887\n"
     ]
    },
    {
     "name": "stderr",
     "output_type": "stream",
     "text": [
      " 10%|█         | 20/200 [00:55<08:18,  2.77s/it]"
     ]
    },
    {
     "name": "stdout",
     "output_type": "stream",
     "text": [
      "[20,  1200] loss: 0.962\n",
      "Epoch [20], Train Loss: 0.0802\n",
      "[21,   100] loss: 0.073\n",
      "[21,   200] loss: 0.146\n",
      "[21,   300] loss: 0.216\n",
      "[21,   400] loss: 0.300\n",
      "[21,   500] loss: 0.364\n",
      "[21,   600] loss: 0.455\n",
      "[21,   700] loss: 0.546\n",
      "[21,   800] loss: 0.611\n",
      "[21,   900] loss: 0.683\n",
      "[21,  1000] loss: 0.746\n",
      "[21,  1100] loss: 0.840\n"
     ]
    },
    {
     "name": "stderr",
     "output_type": "stream",
     "text": [
      " 10%|█         | 21/200 [00:58<08:14,  2.76s/it]"
     ]
    },
    {
     "name": "stdout",
     "output_type": "stream",
     "text": [
      "[21,  1200] loss: 0.921\n",
      "Epoch [21], Train Loss: 0.0779\n",
      "[22,   100] loss: 0.102\n",
      "[22,   200] loss: 0.197\n",
      "[22,   300] loss: 0.255\n",
      "[22,   400] loss: 0.321\n",
      "[22,   500] loss: 0.412\n",
      "[22,   600] loss: 0.493\n",
      "[22,   700] loss: 0.590\n",
      "[22,   800] loss: 0.662\n",
      "[22,   900] loss: 0.752\n",
      "[22,  1000] loss: 0.825\n",
      "[22,  1100] loss: 0.914\n"
     ]
    },
    {
     "name": "stderr",
     "output_type": "stream",
     "text": [
      " 11%|█         | 22/200 [01:01<08:12,  2.77s/it]"
     ]
    },
    {
     "name": "stdout",
     "output_type": "stream",
     "text": [
      "[22,  1200] loss: 0.972\n",
      "Epoch [22], Train Loss: 0.0806\n",
      "[23,   100] loss: 0.082\n",
      "[23,   200] loss: 0.147\n",
      "[23,   300] loss: 0.219\n",
      "[23,   400] loss: 0.297\n",
      "[23,   500] loss: 0.369\n",
      "[23,   600] loss: 0.443\n",
      "[23,   700] loss: 0.518\n",
      "[23,   800] loss: 0.596\n",
      "[23,   900] loss: 0.672\n",
      "[23,  1000] loss: 0.740\n",
      "[23,  1100] loss: 0.833\n"
     ]
    },
    {
     "name": "stderr",
     "output_type": "stream",
     "text": [
      " 12%|█▏        | 23/200 [01:03<08:08,  2.76s/it]"
     ]
    },
    {
     "name": "stdout",
     "output_type": "stream",
     "text": [
      "[23,  1200] loss: 0.915\n",
      "Epoch [23], Train Loss: 0.0769\n",
      "[24,   100] loss: 0.097\n",
      "[24,   200] loss: 0.168\n",
      "[24,   300] loss: 0.252\n",
      "[24,   400] loss: 0.329\n",
      "[24,   500] loss: 0.418\n",
      "[24,   600] loss: 0.505\n",
      "[24,   700] loss: 0.576\n",
      "[24,   800] loss: 0.637\n",
      "[24,   900] loss: 0.718\n",
      "[24,  1000] loss: 0.783\n",
      "[24,  1100] loss: 0.871\n"
     ]
    },
    {
     "name": "stderr",
     "output_type": "stream",
     "text": [
      " 12%|█▏        | 24/200 [01:06<08:06,  2.76s/it]"
     ]
    },
    {
     "name": "stdout",
     "output_type": "stream",
     "text": [
      "[24,  1200] loss: 0.947\n",
      "Epoch [24], Train Loss: 0.0783\n",
      "[25,   100] loss: 0.084\n",
      "[25,   200] loss: 0.148\n",
      "[25,   300] loss: 0.254\n",
      "[25,   400] loss: 0.336\n",
      "[25,   500] loss: 0.418\n",
      "[25,   600] loss: 0.480\n",
      "[25,   700] loss: 0.556\n",
      "[25,   800] loss: 0.652\n",
      "[25,   900] loss: 0.734\n",
      "[25,  1000] loss: 0.794\n",
      "[25,  1100] loss: 0.862\n"
     ]
    },
    {
     "name": "stderr",
     "output_type": "stream",
     "text": [
      " 12%|█▎        | 25/200 [01:09<08:02,  2.76s/it]"
     ]
    },
    {
     "name": "stdout",
     "output_type": "stream",
     "text": [
      "[25,  1200] loss: 0.946\n",
      "Epoch [25], Train Loss: 0.0793\n",
      "[26,   100] loss: 0.097\n",
      "[26,   200] loss: 0.183\n",
      "[26,   300] loss: 0.268\n",
      "[26,   400] loss: 0.339\n",
      "[26,   500] loss: 0.409\n",
      "[26,   600] loss: 0.488\n",
      "[26,   700] loss: 0.551\n",
      "[26,   800] loss: 0.611\n",
      "[26,   900] loss: 0.703\n",
      "[26,  1000] loss: 0.773\n",
      "[26,  1100] loss: 0.851\n"
     ]
    },
    {
     "name": "stderr",
     "output_type": "stream",
     "text": [
      " 13%|█▎        | 26/200 [01:12<07:59,  2.76s/it]"
     ]
    },
    {
     "name": "stdout",
     "output_type": "stream",
     "text": [
      "[26,  1200] loss: 0.938\n",
      "Epoch [26], Train Loss: 0.0780\n",
      "[27,   100] loss: 0.085\n",
      "[27,   200] loss: 0.160\n",
      "[27,   300] loss: 0.248\n",
      "[27,   400] loss: 0.336\n",
      "[27,   500] loss: 0.418\n",
      "[27,   600] loss: 0.479\n",
      "[27,   700] loss: 0.569\n",
      "[27,   800] loss: 0.640\n",
      "[27,   900] loss: 0.700\n",
      "[27,  1000] loss: 0.796\n",
      "[27,  1100] loss: 0.867\n"
     ]
    },
    {
     "name": "stderr",
     "output_type": "stream",
     "text": [
      " 14%|█▎        | 27/200 [01:14<07:56,  2.76s/it]"
     ]
    },
    {
     "name": "stdout",
     "output_type": "stream",
     "text": [
      "[27,  1200] loss: 0.931\n",
      "Epoch [27], Train Loss: 0.0774\n",
      "[28,   100] loss: 0.067\n",
      "[28,   200] loss: 0.139\n",
      "[28,   300] loss: 0.210\n",
      "[28,   400] loss: 0.298\n",
      "[28,   500] loss: 0.358\n",
      "[28,   600] loss: 0.427\n",
      "[28,   700] loss: 0.507\n",
      "[28,   800] loss: 0.585\n",
      "[28,   900] loss: 0.678\n",
      "[28,  1000] loss: 0.757\n",
      "[28,  1100] loss: 0.832\n"
     ]
    },
    {
     "name": "stderr",
     "output_type": "stream",
     "text": [
      " 14%|█▍        | 28/200 [01:17<07:54,  2.76s/it]"
     ]
    },
    {
     "name": "stdout",
     "output_type": "stream",
     "text": [
      "[28,  1200] loss: 0.896\n",
      "Epoch [28], Train Loss: 0.0759\n",
      "[29,   100] loss: 0.079\n",
      "[29,   200] loss: 0.151\n",
      "[29,   300] loss: 0.231\n",
      "[29,   400] loss: 0.307\n",
      "[29,   500] loss: 0.374\n",
      "[29,   600] loss: 0.444\n",
      "[29,   700] loss: 0.526\n",
      "[29,   800] loss: 0.581\n",
      "[29,   900] loss: 0.669\n",
      "[29,  1000] loss: 0.730\n",
      "[29,  1100] loss: 0.815\n"
     ]
    },
    {
     "name": "stderr",
     "output_type": "stream",
     "text": [
      " 14%|█▍        | 29/200 [01:20<07:51,  2.76s/it]"
     ]
    },
    {
     "name": "stdout",
     "output_type": "stream",
     "text": [
      "[29,  1200] loss: 0.893\n",
      "Epoch [29], Train Loss: 0.0746\n",
      "[30,   100] loss: 0.063\n",
      "[30,   200] loss: 0.154\n",
      "[30,   300] loss: 0.224\n",
      "[30,   400] loss: 0.321\n",
      "[30,   500] loss: 0.390\n",
      "[30,   600] loss: 0.450\n",
      "[30,   700] loss: 0.524\n",
      "[30,   800] loss: 0.611\n",
      "[30,   900] loss: 0.677\n",
      "[30,  1000] loss: 0.760\n",
      "[30,  1100] loss: 0.834\n",
      "[30,  1200] loss: 0.912\n"
     ]
    },
    {
     "name": "stderr",
     "output_type": "stream",
     "text": [
      " 15%|█▌        | 30/200 [01:23<07:48,  2.76s/it]"
     ]
    },
    {
     "name": "stdout",
     "output_type": "stream",
     "text": [
      "Epoch [30], Train Loss: 0.0768\n",
      "[31,   100] loss: 0.088\n",
      "[31,   200] loss: 0.179\n",
      "[31,   300] loss: 0.248\n",
      "[31,   400] loss: 0.341\n",
      "[31,   500] loss: 0.422\n",
      "[31,   600] loss: 0.492\n",
      "[31,   700] loss: 0.566\n",
      "[31,   800] loss: 0.629\n",
      "[31,   900] loss: 0.706\n",
      "[31,  1000] loss: 0.776\n",
      "[31,  1100] loss: 0.847\n"
     ]
    },
    {
     "name": "stderr",
     "output_type": "stream",
     "text": [
      " 16%|█▌        | 31/200 [01:25<07:48,  2.77s/it]"
     ]
    },
    {
     "name": "stdout",
     "output_type": "stream",
     "text": [
      "[31,  1200] loss: 0.932\n",
      "Epoch [31], Train Loss: 0.0776\n",
      "[32,   100] loss: 0.074\n",
      "[32,   200] loss: 0.152\n",
      "[32,   300] loss: 0.212\n",
      "[32,   400] loss: 0.279\n",
      "[32,   500] loss: 0.362\n",
      "[32,   600] loss: 0.449\n",
      "[32,   700] loss: 0.527\n",
      "[32,   800] loss: 0.607\n",
      "[32,   900] loss: 0.711\n",
      "[32,  1000] loss: 0.779\n",
      "[32,  1100] loss: 0.846\n",
      "[32,  1200] loss: 0.930\n"
     ]
    },
    {
     "name": "stderr",
     "output_type": "stream",
     "text": [
      " 16%|█▌        | 32/200 [01:29<08:07,  2.90s/it]"
     ]
    },
    {
     "name": "stdout",
     "output_type": "stream",
     "text": [
      "Epoch [32], Train Loss: 0.0771\n",
      "[33,   100] loss: 0.062\n",
      "[33,   200] loss: 0.156\n",
      "[33,   300] loss: 0.217\n",
      "[33,   400] loss: 0.284\n",
      "[33,   500] loss: 0.380\n",
      "[33,   600] loss: 0.466\n",
      "[33,   700] loss: 0.540\n",
      "[33,   800] loss: 0.607\n",
      "[33,   900] loss: 0.680\n",
      "[33,  1000] loss: 0.764\n",
      "[33,  1100] loss: 0.824\n"
     ]
    },
    {
     "name": "stderr",
     "output_type": "stream",
     "text": [
      " 16%|█▋        | 33/200 [01:31<07:57,  2.86s/it]"
     ]
    },
    {
     "name": "stdout",
     "output_type": "stream",
     "text": [
      "[33,  1200] loss: 0.889\n",
      "Epoch [33], Train Loss: 0.0736\n",
      "[34,   100] loss: 0.080\n",
      "[34,   200] loss: 0.161\n",
      "[34,   300] loss: 0.249\n",
      "[34,   400] loss: 0.324\n",
      "[34,   500] loss: 0.406\n",
      "[34,   600] loss: 0.483\n",
      "[34,   700] loss: 0.551\n",
      "[34,   800] loss: 0.604\n",
      "[34,   900] loss: 0.678\n",
      "[34,  1000] loss: 0.769\n",
      "[34,  1100] loss: 0.847\n"
     ]
    },
    {
     "name": "stderr",
     "output_type": "stream",
     "text": [
      " 17%|█▋        | 34/200 [01:34<07:49,  2.83s/it]"
     ]
    },
    {
     "name": "stdout",
     "output_type": "stream",
     "text": [
      "[34,  1200] loss: 0.903\n",
      "Epoch [34], Train Loss: 0.0744\n",
      "[35,   100] loss: 0.067\n",
      "[35,   200] loss: 0.134\n",
      "[35,   300] loss: 0.220\n",
      "[35,   400] loss: 0.286\n",
      "[35,   500] loss: 0.367\n",
      "[35,   600] loss: 0.435\n",
      "[35,   700] loss: 0.525\n",
      "[35,   800] loss: 0.597\n",
      "[35,   900] loss: 0.658\n",
      "[35,  1000] loss: 0.741\n",
      "[35,  1100] loss: 0.840\n"
     ]
    },
    {
     "name": "stderr",
     "output_type": "stream",
     "text": [
      " 18%|█▊        | 35/200 [01:37<07:42,  2.80s/it]"
     ]
    },
    {
     "name": "stdout",
     "output_type": "stream",
     "text": [
      "[35,  1200] loss: 0.910\n",
      "Epoch [35], Train Loss: 0.0752\n",
      "[36,   100] loss: 0.070\n",
      "[36,   200] loss: 0.151\n",
      "[36,   300] loss: 0.230\n",
      "[36,   400] loss: 0.316\n",
      "[36,   500] loss: 0.396\n",
      "[36,   600] loss: 0.475\n",
      "[36,   700] loss: 0.559\n",
      "[36,   800] loss: 0.622\n",
      "[36,   900] loss: 0.692\n",
      "[36,  1000] loss: 0.773\n",
      "[36,  1100] loss: 0.864\n"
     ]
    },
    {
     "name": "stderr",
     "output_type": "stream",
     "text": [
      " 18%|█▊        | 36/200 [01:40<07:37,  2.79s/it]"
     ]
    },
    {
     "name": "stdout",
     "output_type": "stream",
     "text": [
      "[36,  1200] loss: 0.931\n",
      "Epoch [36], Train Loss: 0.0771\n",
      "[37,   100] loss: 0.072\n",
      "[37,   200] loss: 0.140\n",
      "[37,   300] loss: 0.210\n",
      "[37,   400] loss: 0.292\n",
      "[37,   500] loss: 0.373\n",
      "[37,   600] loss: 0.449\n",
      "[37,   700] loss: 0.524\n",
      "[37,   800] loss: 0.594\n",
      "[37,   900] loss: 0.667\n",
      "[37,  1000] loss: 0.749\n",
      "[37,  1100] loss: 0.817\n",
      "[37,  1200] loss: 0.900\n",
      "Epoch [37], Train Loss: 0.0739\n"
     ]
    },
    {
     "name": "stderr",
     "output_type": "stream",
     "text": [
      " 18%|█▊        | 37/200 [01:42<07:34,  2.79s/it]"
     ]
    },
    {
     "name": "stdout",
     "output_type": "stream",
     "text": [
      "[38,   100] loss: 0.082\n",
      "[38,   200] loss: 0.152\n",
      "[38,   300] loss: 0.228\n",
      "[38,   400] loss: 0.305\n",
      "[38,   500] loss: 0.364\n",
      "[38,   600] loss: 0.436\n",
      "[38,   700] loss: 0.511\n",
      "[38,   800] loss: 0.595\n",
      "[38,   900] loss: 0.663\n",
      "[38,  1000] loss: 0.736\n",
      "[38,  1100] loss: 0.831\n"
     ]
    },
    {
     "name": "stderr",
     "output_type": "stream",
     "text": [
      " 19%|█▉        | 38/200 [01:45<07:32,  2.79s/it]"
     ]
    },
    {
     "name": "stdout",
     "output_type": "stream",
     "text": [
      "[38,  1200] loss: 0.915\n",
      "Epoch [38], Train Loss: 0.0758\n",
      "[39,   100] loss: 0.066\n",
      "[39,   200] loss: 0.128\n",
      "[39,   300] loss: 0.209\n",
      "[39,   400] loss: 0.272\n",
      "[39,   500] loss: 0.337\n",
      "[39,   600] loss: 0.437\n",
      "[39,   700] loss: 0.510\n",
      "[39,   800] loss: 0.580\n",
      "[39,   900] loss: 0.661\n",
      "[39,  1000] loss: 0.730\n",
      "[39,  1100] loss: 0.811\n"
     ]
    },
    {
     "name": "stderr",
     "output_type": "stream",
     "text": [
      " 20%|█▉        | 39/200 [01:48<07:27,  2.78s/it]"
     ]
    },
    {
     "name": "stdout",
     "output_type": "stream",
     "text": [
      "[39,  1200] loss: 0.877\n",
      "Epoch [39], Train Loss: 0.0731\n",
      "[40,   100] loss: 0.076\n",
      "[40,   200] loss: 0.146\n",
      "[40,   300] loss: 0.205\n",
      "[40,   400] loss: 0.264\n",
      "[40,   500] loss: 0.333\n",
      "[40,   600] loss: 0.406\n",
      "[40,   700] loss: 0.495\n",
      "[40,   800] loss: 0.581\n",
      "[40,   900] loss: 0.649\n",
      "[40,  1000] loss: 0.707\n",
      "[40,  1100] loss: 0.788\n"
     ]
    },
    {
     "name": "stderr",
     "output_type": "stream",
     "text": [
      " 20%|██        | 40/200 [01:51<07:23,  2.77s/it]"
     ]
    },
    {
     "name": "stdout",
     "output_type": "stream",
     "text": [
      "[40,  1200] loss: 0.872\n",
      "Epoch [40], Train Loss: 0.0729\n",
      "[41,   100] loss: 0.072\n",
      "[41,   200] loss: 0.162\n",
      "[41,   300] loss: 0.241\n",
      "[41,   400] loss: 0.311\n",
      "[41,   500] loss: 0.397\n",
      "[41,   600] loss: 0.450\n",
      "[41,   700] loss: 0.516\n",
      "[41,   800] loss: 0.605\n",
      "[41,   900] loss: 0.676\n",
      "[41,  1000] loss: 0.752\n",
      "[41,  1100] loss: 0.829\n"
     ]
    },
    {
     "name": "stderr",
     "output_type": "stream",
     "text": [
      " 20%|██        | 41/200 [01:53<07:20,  2.77s/it]"
     ]
    },
    {
     "name": "stdout",
     "output_type": "stream",
     "text": [
      "[41,  1200] loss: 0.897\n",
      "Epoch [41], Train Loss: 0.0744\n",
      "[42,   100] loss: 0.064\n",
      "[42,   200] loss: 0.143\n",
      "[42,   300] loss: 0.214\n",
      "[42,   400] loss: 0.300\n",
      "[42,   500] loss: 0.372\n",
      "[42,   600] loss: 0.436\n",
      "[42,   700] loss: 0.505\n",
      "[42,   800] loss: 0.574\n",
      "[42,   900] loss: 0.646\n",
      "[42,  1000] loss: 0.712\n",
      "[42,  1100] loss: 0.803\n"
     ]
    },
    {
     "name": "stderr",
     "output_type": "stream",
     "text": [
      " 21%|██        | 42/200 [01:56<07:17,  2.77s/it]"
     ]
    },
    {
     "name": "stdout",
     "output_type": "stream",
     "text": [
      "[42,  1200] loss: 0.865\n",
      "Epoch [42], Train Loss: 0.0718\n",
      "[43,   100] loss: 0.078\n",
      "[43,   200] loss: 0.144\n",
      "[43,   300] loss: 0.223\n",
      "[43,   400] loss: 0.306\n",
      "[43,   500] loss: 0.375\n",
      "[43,   600] loss: 0.446\n",
      "[43,   700] loss: 0.523\n",
      "[43,   800] loss: 0.587\n",
      "[43,   900] loss: 0.645\n",
      "[43,  1000] loss: 0.720\n",
      "[43,  1100] loss: 0.788\n",
      "[43,  1200] loss: 0.859\n"
     ]
    },
    {
     "name": "stderr",
     "output_type": "stream",
     "text": [
      " 22%|██▏       | 43/200 [01:59<07:15,  2.77s/it]"
     ]
    },
    {
     "name": "stdout",
     "output_type": "stream",
     "text": [
      "Epoch [43], Train Loss: 0.0720\n",
      "[44,   100] loss: 0.072\n",
      "[44,   200] loss: 0.137\n",
      "[44,   300] loss: 0.206\n",
      "[44,   400] loss: 0.289\n",
      "[44,   500] loss: 0.363\n",
      "[44,   600] loss: 0.459\n",
      "[44,   700] loss: 0.520\n",
      "[44,   800] loss: 0.579\n",
      "[44,   900] loss: 0.639\n",
      "[44,  1000] loss: 0.710\n",
      "[44,  1100] loss: 0.786\n"
     ]
    },
    {
     "name": "stderr",
     "output_type": "stream",
     "text": [
      " 22%|██▏       | 44/200 [02:02<07:25,  2.85s/it]"
     ]
    },
    {
     "name": "stdout",
     "output_type": "stream",
     "text": [
      "[44,  1200] loss: 0.865\n",
      "Epoch [44], Train Loss: 0.0725\n",
      "[45,   100] loss: 0.081\n",
      "[45,   200] loss: 0.158\n",
      "[45,   300] loss: 0.248\n",
      "[45,   400] loss: 0.304\n",
      "[45,   500] loss: 0.379\n",
      "[45,   600] loss: 0.438\n",
      "[45,   700] loss: 0.493\n",
      "[45,   800] loss: 0.567\n",
      "[45,   900] loss: 0.644\n",
      "[45,  1000] loss: 0.719\n",
      "[45,  1100] loss: 0.780\n"
     ]
    },
    {
     "name": "stderr",
     "output_type": "stream",
     "text": [
      " 22%|██▎       | 45/200 [02:05<07:18,  2.83s/it]"
     ]
    },
    {
     "name": "stdout",
     "output_type": "stream",
     "text": [
      "[45,  1200] loss: 0.857\n",
      "Epoch [45], Train Loss: 0.0719\n",
      "[46,   100] loss: 0.066\n",
      "[46,   200] loss: 0.153\n",
      "[46,   300] loss: 0.230\n",
      "[46,   400] loss: 0.307\n",
      "[46,   500] loss: 0.368\n",
      "[46,   600] loss: 0.446\n",
      "[46,   700] loss: 0.522\n",
      "[46,   800] loss: 0.600\n",
      "[46,   900] loss: 0.663\n",
      "[46,  1000] loss: 0.724\n",
      "[46,  1100] loss: 0.797\n"
     ]
    },
    {
     "name": "stderr",
     "output_type": "stream",
     "text": [
      " 23%|██▎       | 46/200 [02:08<07:18,  2.85s/it]"
     ]
    },
    {
     "name": "stdout",
     "output_type": "stream",
     "text": [
      "[46,  1200] loss: 0.858\n",
      "Epoch [46], Train Loss: 0.0720\n",
      "[47,   100] loss: 0.060\n",
      "[47,   200] loss: 0.134\n",
      "[47,   300] loss: 0.216\n",
      "[47,   400] loss: 0.295\n",
      "[47,   500] loss: 0.357\n",
      "[47,   600] loss: 0.437\n",
      "[47,   700] loss: 0.493\n",
      "[47,   800] loss: 0.555\n",
      "[47,   900] loss: 0.625\n",
      "[47,  1000] loss: 0.701\n",
      "[47,  1100] loss: 0.781\n"
     ]
    },
    {
     "name": "stderr",
     "output_type": "stream",
     "text": [
      " 24%|██▎       | 47/200 [02:11<07:16,  2.86s/it]"
     ]
    },
    {
     "name": "stdout",
     "output_type": "stream",
     "text": [
      "[47,  1200] loss: 0.850\n",
      "Epoch [47], Train Loss: 0.0708\n",
      "[48,   100] loss: 0.072\n",
      "[48,   200] loss: 0.148\n",
      "[48,   300] loss: 0.231\n",
      "[48,   400] loss: 0.299\n",
      "[48,   500] loss: 0.365\n",
      "[48,   600] loss: 0.456\n",
      "[48,   700] loss: 0.527\n",
      "[48,   800] loss: 0.599\n",
      "[48,   900] loss: 0.649\n",
      "[48,  1000] loss: 0.729\n",
      "[48,  1100] loss: 0.798\n"
     ]
    },
    {
     "name": "stderr",
     "output_type": "stream",
     "text": [
      " 24%|██▍       | 48/200 [02:13<07:10,  2.83s/it]"
     ]
    },
    {
     "name": "stdout",
     "output_type": "stream",
     "text": [
      "[48,  1200] loss: 0.861\n",
      "Epoch [48], Train Loss: 0.0698\n",
      "[49,   100] loss: 0.073\n",
      "[49,   200] loss: 0.138\n",
      "[49,   300] loss: 0.196\n",
      "[49,   400] loss: 0.270\n",
      "[49,   500] loss: 0.356\n",
      "[49,   600] loss: 0.426\n",
      "[49,   700] loss: 0.480\n",
      "[49,   800] loss: 0.558\n",
      "[49,   900] loss: 0.621\n",
      "[49,  1000] loss: 0.698\n",
      "[49,  1100] loss: 0.755\n"
     ]
    },
    {
     "name": "stderr",
     "output_type": "stream",
     "text": [
      " 24%|██▍       | 49/200 [02:16<07:04,  2.81s/it]"
     ]
    },
    {
     "name": "stdout",
     "output_type": "stream",
     "text": [
      "[49,  1200] loss: 0.828\n",
      "Epoch [49], Train Loss: 0.0685\n",
      "[50,   100] loss: 0.074\n",
      "[50,   200] loss: 0.150\n",
      "[50,   300] loss: 0.225\n",
      "[50,   400] loss: 0.277\n",
      "[50,   500] loss: 0.337\n",
      "[50,   600] loss: 0.421\n",
      "[50,   700] loss: 0.507\n",
      "[50,   800] loss: 0.569\n",
      "[50,   900] loss: 0.625\n",
      "[50,  1000] loss: 0.682\n",
      "[50,  1100] loss: 0.735\n"
     ]
    },
    {
     "name": "stderr",
     "output_type": "stream",
     "text": [
      " 25%|██▌       | 50/200 [02:19<06:59,  2.80s/it]"
     ]
    },
    {
     "name": "stdout",
     "output_type": "stream",
     "text": [
      "[50,  1200] loss: 0.817\n",
      "Epoch [50], Train Loss: 0.0691\n",
      "[51,   100] loss: 0.059\n",
      "[51,   200] loss: 0.143\n",
      "[51,   300] loss: 0.207\n",
      "[51,   400] loss: 0.270\n",
      "[51,   500] loss: 0.349\n",
      "[51,   600] loss: 0.422\n",
      "[51,   700] loss: 0.484\n",
      "[51,   800] loss: 0.549\n",
      "[51,   900] loss: 0.635\n",
      "[51,  1000] loss: 0.711\n",
      "[51,  1100] loss: 0.765\n"
     ]
    },
    {
     "name": "stderr",
     "output_type": "stream",
     "text": [
      " 26%|██▌       | 51/200 [02:22<06:55,  2.79s/it]"
     ]
    },
    {
     "name": "stdout",
     "output_type": "stream",
     "text": [
      "[51,  1200] loss: 0.844\n",
      "Epoch [51], Train Loss: 0.0700\n",
      "[52,   100] loss: 0.095\n",
      "[52,   200] loss: 0.159\n",
      "[52,   300] loss: 0.224\n",
      "[52,   400] loss: 0.296\n",
      "[52,   500] loss: 0.361\n",
      "[52,   600] loss: 0.426\n",
      "[52,   700] loss: 0.482\n",
      "[52,   800] loss: 0.565\n",
      "[52,   900] loss: 0.627\n",
      "[52,  1000] loss: 0.704\n",
      "[52,  1100] loss: 0.793\n"
     ]
    },
    {
     "name": "stderr",
     "output_type": "stream",
     "text": [
      " 26%|██▌       | 52/200 [02:24<06:51,  2.78s/it]"
     ]
    },
    {
     "name": "stdout",
     "output_type": "stream",
     "text": [
      "[52,  1200] loss: 0.859\n",
      "Epoch [52], Train Loss: 0.0717\n",
      "[53,   100] loss: 0.063\n",
      "[53,   200] loss: 0.144\n",
      "[53,   300] loss: 0.223\n",
      "[53,   400] loss: 0.278\n",
      "[53,   500] loss: 0.337\n",
      "[53,   600] loss: 0.399\n",
      "[53,   700] loss: 0.464\n",
      "[53,   800] loss: 0.532\n",
      "[53,   900] loss: 0.599\n",
      "[53,  1000] loss: 0.659\n",
      "[53,  1100] loss: 0.725\n"
     ]
    },
    {
     "name": "stderr",
     "output_type": "stream",
     "text": [
      " 26%|██▋       | 53/200 [02:27<06:48,  2.78s/it]"
     ]
    },
    {
     "name": "stdout",
     "output_type": "stream",
     "text": [
      "[53,  1200] loss: 0.804\n",
      "Epoch [53], Train Loss: 0.0673\n",
      "[54,   100] loss: 0.069\n",
      "[54,   200] loss: 0.132\n",
      "[54,   300] loss: 0.181\n",
      "[54,   400] loss: 0.274\n",
      "[54,   500] loss: 0.337\n",
      "[54,   600] loss: 0.415\n",
      "[54,   700] loss: 0.479\n",
      "[54,   800] loss: 0.546\n",
      "[54,   900] loss: 0.617\n",
      "[54,  1000] loss: 0.687\n",
      "[54,  1100] loss: 0.755\n"
     ]
    },
    {
     "name": "stderr",
     "output_type": "stream",
     "text": [
      " 27%|██▋       | 54/200 [02:30<06:45,  2.78s/it]"
     ]
    },
    {
     "name": "stdout",
     "output_type": "stream",
     "text": [
      "[54,  1200] loss: 0.833\n",
      "Epoch [54], Train Loss: 0.0696\n",
      "[55,   100] loss: 0.059\n",
      "[55,   200] loss: 0.123\n",
      "[55,   300] loss: 0.189\n",
      "[55,   400] loss: 0.264\n",
      "[55,   500] loss: 0.330\n",
      "[55,   600] loss: 0.400\n",
      "[55,   700] loss: 0.476\n",
      "[55,   800] loss: 0.553\n",
      "[55,   900] loss: 0.611\n",
      "[55,  1000] loss: 0.688\n",
      "[55,  1100] loss: 0.754\n",
      "[55,  1200] loss: 0.824\n"
     ]
    },
    {
     "name": "stderr",
     "output_type": "stream",
     "text": [
      " 28%|██▊       | 55/200 [02:33<06:46,  2.80s/it]"
     ]
    },
    {
     "name": "stdout",
     "output_type": "stream",
     "text": [
      "Epoch [55], Train Loss: 0.0689\n",
      "[56,   100] loss: 0.064\n",
      "[56,   200] loss: 0.134\n",
      "[56,   300] loss: 0.201\n",
      "[56,   400] loss: 0.258\n",
      "[56,   500] loss: 0.340\n",
      "[56,   600] loss: 0.406\n",
      "[56,   700] loss: 0.468\n",
      "[56,   800] loss: 0.545\n",
      "[56,   900] loss: 0.605\n",
      "[56,  1000] loss: 0.676\n",
      "[56,  1100] loss: 0.751\n"
     ]
    },
    {
     "name": "stderr",
     "output_type": "stream",
     "text": [
      " 28%|██▊       | 56/200 [02:36<06:49,  2.84s/it]"
     ]
    },
    {
     "name": "stdout",
     "output_type": "stream",
     "text": [
      "[56,  1200] loss: 0.824\n",
      "Epoch [56], Train Loss: 0.0689\n",
      "[57,   100] loss: 0.068\n",
      "[57,   200] loss: 0.135\n",
      "[57,   300] loss: 0.202\n",
      "[57,   400] loss: 0.276\n",
      "[57,   500] loss: 0.346\n",
      "[57,   600] loss: 0.410\n",
      "[57,   700] loss: 0.453\n",
      "[57,   800] loss: 0.533\n",
      "[57,   900] loss: 0.596\n",
      "[57,  1000] loss: 0.668\n",
      "[57,  1100] loss: 0.730\n"
     ]
    },
    {
     "name": "stderr",
     "output_type": "stream",
     "text": [
      " 28%|██▊       | 57/200 [02:39<06:43,  2.82s/it]"
     ]
    },
    {
     "name": "stdout",
     "output_type": "stream",
     "text": [
      "[57,  1200] loss: 0.794\n",
      "Epoch [57], Train Loss: 0.0661\n",
      "[58,   100] loss: 0.076\n",
      "[58,   200] loss: 0.149\n",
      "[58,   300] loss: 0.218\n",
      "[58,   400] loss: 0.283\n",
      "[58,   500] loss: 0.339\n",
      "[58,   600] loss: 0.413\n",
      "[58,   700] loss: 0.478\n",
      "[58,   800] loss: 0.559\n",
      "[58,   900] loss: 0.622\n",
      "[58,  1000] loss: 0.692\n",
      "[58,  1100] loss: 0.750\n"
     ]
    },
    {
     "name": "stderr",
     "output_type": "stream",
     "text": [
      " 29%|██▉       | 58/200 [02:41<06:38,  2.81s/it]"
     ]
    },
    {
     "name": "stdout",
     "output_type": "stream",
     "text": [
      "[58,  1200] loss: 0.806\n",
      "Epoch [58], Train Loss: 0.0678\n",
      "[59,   100] loss: 0.063\n",
      "[59,   200] loss: 0.128\n",
      "[59,   300] loss: 0.211\n",
      "[59,   400] loss: 0.289\n",
      "[59,   500] loss: 0.348\n",
      "[59,   600] loss: 0.405\n",
      "[59,   700] loss: 0.477\n",
      "[59,   800] loss: 0.539\n",
      "[59,   900] loss: 0.622\n",
      "[59,  1000] loss: 0.691\n",
      "[59,  1100] loss: 0.768\n",
      "[59,  1200] loss: 0.829\n"
     ]
    },
    {
     "name": "stderr",
     "output_type": "stream",
     "text": [
      " 30%|██▉       | 59/200 [02:44<06:33,  2.79s/it]"
     ]
    },
    {
     "name": "stdout",
     "output_type": "stream",
     "text": [
      "Epoch [59], Train Loss: 0.0687\n",
      "[60,   100] loss: 0.059\n",
      "[60,   200] loss: 0.125\n",
      "[60,   300] loss: 0.177\n",
      "[60,   400] loss: 0.220\n",
      "[60,   500] loss: 0.276\n",
      "[60,   600] loss: 0.334\n",
      "[60,   700] loss: 0.386\n",
      "[60,   800] loss: 0.447\n",
      "[60,   900] loss: 0.528\n",
      "[60,  1000] loss: 0.596\n",
      "[60,  1100] loss: 0.676\n"
     ]
    },
    {
     "name": "stderr",
     "output_type": "stream",
     "text": [
      " 30%|███       | 60/200 [02:47<06:29,  2.78s/it]"
     ]
    },
    {
     "name": "stdout",
     "output_type": "stream",
     "text": [
      "[60,  1200] loss: 0.747\n",
      "Epoch [60], Train Loss: 0.0643\n",
      "[61,   100] loss: 0.053\n",
      "[61,   200] loss: 0.143\n",
      "[61,   300] loss: 0.216\n",
      "[61,   400] loss: 0.296\n",
      "[61,   500] loss: 0.354\n",
      "[61,   600] loss: 0.418\n",
      "[61,   700] loss: 0.484\n",
      "[61,   800] loss: 0.550\n",
      "[61,   900] loss: 0.600\n",
      "[61,  1000] loss: 0.661\n",
      "[61,  1100] loss: 0.727\n"
     ]
    },
    {
     "name": "stderr",
     "output_type": "stream",
     "text": [
      " 30%|███       | 61/200 [02:50<06:25,  2.77s/it]"
     ]
    },
    {
     "name": "stdout",
     "output_type": "stream",
     "text": [
      "[61,  1200] loss: 0.783\n",
      "Epoch [61], Train Loss: 0.0664\n",
      "[62,   100] loss: 0.068\n",
      "[62,   200] loss: 0.138\n",
      "[62,   300] loss: 0.223\n",
      "[62,   400] loss: 0.288\n",
      "[62,   500] loss: 0.338\n",
      "[62,   600] loss: 0.404\n",
      "[62,   700] loss: 0.469\n",
      "[62,   800] loss: 0.521\n",
      "[62,   900] loss: 0.585\n",
      "[62,  1000] loss: 0.645\n",
      "[62,  1100] loss: 0.716\n"
     ]
    },
    {
     "name": "stderr",
     "output_type": "stream",
     "text": [
      " 31%|███       | 62/200 [02:52<06:22,  2.77s/it]"
     ]
    },
    {
     "name": "stdout",
     "output_type": "stream",
     "text": [
      "[62,  1200] loss: 0.776\n",
      "Epoch [62], Train Loss: 0.0654\n",
      "[63,   100] loss: 0.063\n",
      "[63,   200] loss: 0.121\n",
      "[63,   300] loss: 0.185\n",
      "[63,   400] loss: 0.243\n",
      "[63,   500] loss: 0.330\n",
      "[63,   600] loss: 0.398\n",
      "[63,   700] loss: 0.463\n",
      "[63,   800] loss: 0.541\n",
      "[63,   900] loss: 0.612\n",
      "[63,  1000] loss: 0.681\n",
      "[63,  1100] loss: 0.739\n"
     ]
    },
    {
     "name": "stderr",
     "output_type": "stream",
     "text": [
      " 32%|███▏      | 63/200 [02:55<06:18,  2.77s/it]"
     ]
    },
    {
     "name": "stdout",
     "output_type": "stream",
     "text": [
      "[63,  1200] loss: 0.806\n",
      "Epoch [63], Train Loss: 0.0671\n",
      "[64,   100] loss: 0.066\n",
      "[64,   200] loss: 0.133\n",
      "[64,   300] loss: 0.210\n",
      "[64,   400] loss: 0.266\n",
      "[64,   500] loss: 0.350\n",
      "[64,   600] loss: 0.420\n",
      "[64,   700] loss: 0.496\n",
      "[64,   800] loss: 0.551\n",
      "[64,   900] loss: 0.610\n",
      "[64,  1000] loss: 0.668\n",
      "[64,  1100] loss: 0.733\n"
     ]
    },
    {
     "name": "stderr",
     "output_type": "stream",
     "text": [
      " 32%|███▏      | 64/200 [02:58<06:15,  2.76s/it]"
     ]
    },
    {
     "name": "stdout",
     "output_type": "stream",
     "text": [
      "[64,  1200] loss: 0.788\n",
      "Epoch [64], Train Loss: 0.0654\n",
      "[65,   100] loss: 0.058\n",
      "[65,   200] loss: 0.122\n",
      "[65,   300] loss: 0.200\n",
      "[65,   400] loss: 0.268\n",
      "[65,   500] loss: 0.341\n",
      "[65,   600] loss: 0.412\n",
      "[65,   700] loss: 0.480\n",
      "[65,   800] loss: 0.540\n",
      "[65,   900] loss: 0.597\n",
      "[65,  1000] loss: 0.649\n",
      "[65,  1100] loss: 0.694\n"
     ]
    },
    {
     "name": "stderr",
     "output_type": "stream",
     "text": [
      " 32%|███▎      | 65/200 [03:01<06:11,  2.75s/it]"
     ]
    },
    {
     "name": "stdout",
     "output_type": "stream",
     "text": [
      "[65,  1200] loss: 0.765\n",
      "Epoch [65], Train Loss: 0.0644\n",
      "[66,   100] loss: 0.080\n",
      "[66,   200] loss: 0.129\n",
      "[66,   300] loss: 0.181\n",
      "[66,   400] loss: 0.248\n",
      "[66,   500] loss: 0.328\n",
      "[66,   600] loss: 0.404\n",
      "[66,   700] loss: 0.470\n",
      "[66,   800] loss: 0.529\n",
      "[66,   900] loss: 0.589\n",
      "[66,  1000] loss: 0.659\n",
      "[66,  1100] loss: 0.725\n"
     ]
    },
    {
     "name": "stderr",
     "output_type": "stream",
     "text": [
      " 33%|███▎      | 66/200 [03:03<06:08,  2.75s/it]"
     ]
    },
    {
     "name": "stdout",
     "output_type": "stream",
     "text": [
      "[66,  1200] loss: 0.800\n",
      "Epoch [66], Train Loss: 0.0663\n",
      "[67,   100] loss: 0.068\n",
      "[67,   200] loss: 0.124\n",
      "[67,   300] loss: 0.206\n",
      "[67,   400] loss: 0.268\n",
      "[67,   500] loss: 0.319\n",
      "[67,   600] loss: 0.391\n",
      "[67,   700] loss: 0.446\n",
      "[67,   800] loss: 0.513\n",
      "[67,   900] loss: 0.584\n",
      "[67,  1000] loss: 0.651\n",
      "[67,  1100] loss: 0.704\n"
     ]
    },
    {
     "name": "stderr",
     "output_type": "stream",
     "text": [
      " 34%|███▎      | 67/200 [03:06<06:05,  2.75s/it]"
     ]
    },
    {
     "name": "stdout",
     "output_type": "stream",
     "text": [
      "[67,  1200] loss: 0.786\n",
      "Epoch [67], Train Loss: 0.0659\n",
      "[68,   100] loss: 0.060\n",
      "[68,   200] loss: 0.106\n",
      "[68,   300] loss: 0.166\n",
      "[68,   400] loss: 0.225\n",
      "[68,   500] loss: 0.299\n",
      "[68,   600] loss: 0.370\n",
      "[68,   700] loss: 0.426\n",
      "[68,   800] loss: 0.509\n",
      "[68,   900] loss: 0.574\n",
      "[68,  1000] loss: 0.653\n",
      "[68,  1100] loss: 0.722\n"
     ]
    },
    {
     "name": "stderr",
     "output_type": "stream",
     "text": [
      " 34%|███▍      | 68/200 [03:09<06:03,  2.75s/it]"
     ]
    },
    {
     "name": "stdout",
     "output_type": "stream",
     "text": [
      "[68,  1200] loss: 0.779\n",
      "Epoch [68], Train Loss: 0.0643\n",
      "[69,   100] loss: 0.067\n",
      "[69,   200] loss: 0.120\n",
      "[69,   300] loss: 0.166\n",
      "[69,   400] loss: 0.235\n",
      "[69,   500] loss: 0.297\n",
      "[69,   600] loss: 0.367\n",
      "[69,   700] loss: 0.430\n",
      "[69,   800] loss: 0.500\n",
      "[69,   900] loss: 0.555\n",
      "[69,  1000] loss: 0.622\n",
      "[69,  1100] loss: 0.706\n"
     ]
    },
    {
     "name": "stderr",
     "output_type": "stream",
     "text": [
      " 34%|███▍      | 69/200 [03:12<06:01,  2.76s/it]"
     ]
    },
    {
     "name": "stdout",
     "output_type": "stream",
     "text": [
      "[69,  1200] loss: 0.780\n",
      "Epoch [69], Train Loss: 0.0649\n",
      "[70,   100] loss: 0.068\n",
      "[70,   200] loss: 0.133\n",
      "[70,   300] loss: 0.181\n",
      "[70,   400] loss: 0.253\n",
      "[70,   500] loss: 0.328\n",
      "[70,   600] loss: 0.401\n",
      "[70,   700] loss: 0.467\n",
      "[70,   800] loss: 0.533\n",
      "[70,   900] loss: 0.600\n",
      "[70,  1000] loss: 0.675\n",
      "[70,  1100] loss: 0.718\n",
      "[70,  1200] loss: 0.787\n"
     ]
    },
    {
     "name": "stderr",
     "output_type": "stream",
     "text": [
      " 35%|███▌      | 70/200 [03:15<06:03,  2.80s/it]"
     ]
    },
    {
     "name": "stdout",
     "output_type": "stream",
     "text": [
      "Epoch [70], Train Loss: 0.0656\n",
      "[71,   100] loss: 0.071\n",
      "[71,   200] loss: 0.142\n",
      "[71,   300] loss: 0.210\n",
      "[71,   400] loss: 0.263\n",
      "[71,   500] loss: 0.341\n",
      "[71,   600] loss: 0.399\n",
      "[71,   700] loss: 0.458\n",
      "[71,   800] loss: 0.522\n",
      "[71,   900] loss: 0.574\n",
      "[71,  1000] loss: 0.640\n",
      "[71,  1100] loss: 0.708\n"
     ]
    },
    {
     "name": "stderr",
     "output_type": "stream",
     "text": [
      " 36%|███▌      | 71/200 [03:17<06:02,  2.81s/it]"
     ]
    },
    {
     "name": "stdout",
     "output_type": "stream",
     "text": [
      "[71,  1200] loss: 0.777\n",
      "Epoch [71], Train Loss: 0.0650\n",
      "[72,   100] loss: 0.072\n",
      "[72,   200] loss: 0.132\n",
      "[72,   300] loss: 0.192\n",
      "[72,   400] loss: 0.256\n",
      "[72,   500] loss: 0.309\n",
      "[72,   600] loss: 0.370\n",
      "[72,   700] loss: 0.433\n",
      "[72,   800] loss: 0.505\n",
      "[72,   900] loss: 0.585\n",
      "[72,  1000] loss: 0.653\n",
      "[72,  1100] loss: 0.719\n",
      "[72,  1200] loss: 0.786\n"
     ]
    },
    {
     "name": "stderr",
     "output_type": "stream",
     "text": [
      " 36%|███▌      | 72/200 [03:20<05:59,  2.81s/it]"
     ]
    },
    {
     "name": "stdout",
     "output_type": "stream",
     "text": [
      "Epoch [72], Train Loss: 0.0650\n",
      "[73,   100] loss: 0.066\n",
      "[73,   200] loss: 0.129\n",
      "[73,   300] loss: 0.192\n",
      "[73,   400] loss: 0.259\n",
      "[73,   500] loss: 0.312\n",
      "[73,   600] loss: 0.385\n",
      "[73,   700] loss: 0.446\n",
      "[73,   800] loss: 0.510\n",
      "[73,   900] loss: 0.576\n",
      "[73,  1000] loss: 0.649\n",
      "[73,  1100] loss: 0.721\n"
     ]
    },
    {
     "name": "stderr",
     "output_type": "stream",
     "text": [
      " 36%|███▋      | 73/200 [03:23<05:54,  2.79s/it]"
     ]
    },
    {
     "name": "stdout",
     "output_type": "stream",
     "text": [
      "[73,  1200] loss: 0.778\n",
      "Epoch [73], Train Loss: 0.0644\n",
      "[74,   100] loss: 0.071\n",
      "[74,   200] loss: 0.139\n",
      "[74,   300] loss: 0.184\n",
      "[74,   400] loss: 0.251\n",
      "[74,   500] loss: 0.311\n",
      "[74,   600] loss: 0.395\n",
      "[74,   700] loss: 0.461\n",
      "[74,   800] loss: 0.519\n",
      "[74,   900] loss: 0.583\n",
      "[74,  1000] loss: 0.654\n",
      "[74,  1100] loss: 0.727\n"
     ]
    },
    {
     "name": "stderr",
     "output_type": "stream",
     "text": [
      " 37%|███▋      | 74/200 [03:26<05:51,  2.79s/it]"
     ]
    },
    {
     "name": "stdout",
     "output_type": "stream",
     "text": [
      "[74,  1200] loss: 0.781\n",
      "Epoch [74], Train Loss: 0.0663\n",
      "[75,   100] loss: 0.066\n",
      "[75,   200] loss: 0.132\n",
      "[75,   300] loss: 0.194\n",
      "[75,   400] loss: 0.249\n",
      "[75,   500] loss: 0.314\n",
      "[75,   600] loss: 0.382\n",
      "[75,   700] loss: 0.460\n",
      "[75,   800] loss: 0.514\n",
      "[75,   900] loss: 0.559\n",
      "[75,  1000] loss: 0.634\n",
      "[75,  1100] loss: 0.696\n"
     ]
    },
    {
     "name": "stderr",
     "output_type": "stream",
     "text": [
      " 38%|███▊      | 75/200 [03:28<05:48,  2.79s/it]"
     ]
    },
    {
     "name": "stdout",
     "output_type": "stream",
     "text": [
      "[75,  1200] loss: 0.762\n",
      "Epoch [75], Train Loss: 0.0635\n",
      "[76,   100] loss: 0.060\n",
      "[76,   200] loss: 0.126\n",
      "[76,   300] loss: 0.191\n",
      "[76,   400] loss: 0.250\n",
      "[76,   500] loss: 0.297\n",
      "[76,   600] loss: 0.362\n",
      "[76,   700] loss: 0.428\n",
      "[76,   800] loss: 0.497\n",
      "[76,   900] loss: 0.566\n",
      "[76,  1000] loss: 0.628\n",
      "[76,  1100] loss: 0.686\n",
      "[76,  1200] loss: 0.735\n"
     ]
    },
    {
     "name": "stderr",
     "output_type": "stream",
     "text": [
      " 38%|███▊      | 76/200 [03:32<06:06,  2.95s/it]"
     ]
    },
    {
     "name": "stdout",
     "output_type": "stream",
     "text": [
      "Epoch [76], Train Loss: 0.0623\n",
      "[77,   100] loss: 0.050\n",
      "[77,   200] loss: 0.131\n",
      "[77,   300] loss: 0.204\n",
      "[77,   400] loss: 0.270\n",
      "[77,   500] loss: 0.328\n",
      "[77,   600] loss: 0.381\n",
      "[77,   700] loss: 0.444\n",
      "[77,   800] loss: 0.510\n",
      "[77,   900] loss: 0.577\n",
      "[77,  1000] loss: 0.635\n",
      "[77,  1100] loss: 0.691\n"
     ]
    },
    {
     "name": "stderr",
     "output_type": "stream",
     "text": [
      " 38%|███▊      | 77/200 [03:35<05:56,  2.90s/it]"
     ]
    },
    {
     "name": "stdout",
     "output_type": "stream",
     "text": [
      "[77,  1200] loss: 0.746\n",
      "Epoch [77], Train Loss: 0.0633\n",
      "[78,   100] loss: 0.066\n",
      "[78,   200] loss: 0.121\n",
      "[78,   300] loss: 0.170\n",
      "[78,   400] loss: 0.231\n",
      "[78,   500] loss: 0.285\n",
      "[78,   600] loss: 0.370\n",
      "[78,   700] loss: 0.433\n",
      "[78,   800] loss: 0.509\n",
      "[78,   900] loss: 0.560\n",
      "[78,  1000] loss: 0.630\n",
      "[78,  1100] loss: 0.697\n"
     ]
    },
    {
     "name": "stderr",
     "output_type": "stream",
     "text": [
      " 39%|███▉      | 78/200 [03:37<05:48,  2.86s/it]"
     ]
    },
    {
     "name": "stdout",
     "output_type": "stream",
     "text": [
      "[78,  1200] loss: 0.758\n",
      "Epoch [78], Train Loss: 0.0622\n",
      "[79,   100] loss: 0.053\n",
      "[79,   200] loss: 0.131\n",
      "[79,   300] loss: 0.178\n",
      "[79,   400] loss: 0.242\n",
      "[79,   500] loss: 0.290\n",
      "[79,   600] loss: 0.337\n",
      "[79,   700] loss: 0.394\n",
      "[79,   800] loss: 0.461\n",
      "[79,   900] loss: 0.521\n",
      "[79,  1000] loss: 0.593\n",
      "[79,  1100] loss: 0.652\n"
     ]
    },
    {
     "name": "stderr",
     "output_type": "stream",
     "text": [
      " 40%|███▉      | 79/200 [03:40<05:41,  2.83s/it]"
     ]
    },
    {
     "name": "stdout",
     "output_type": "stream",
     "text": [
      "[79,  1200] loss: 0.726\n",
      "Epoch [79], Train Loss: 0.0617\n",
      "[80,   100] loss: 0.069\n",
      "[80,   200] loss: 0.129\n",
      "[80,   300] loss: 0.194\n",
      "[80,   400] loss: 0.252\n",
      "[80,   500] loss: 0.312\n",
      "[80,   600] loss: 0.390\n",
      "[80,   700] loss: 0.454\n",
      "[80,   800] loss: 0.536\n",
      "[80,   900] loss: 0.597\n",
      "[80,  1000] loss: 0.647\n",
      "[80,  1100] loss: 0.724\n"
     ]
    },
    {
     "name": "stderr",
     "output_type": "stream",
     "text": [
      " 40%|████      | 80/200 [03:43<05:36,  2.80s/it]"
     ]
    },
    {
     "name": "stdout",
     "output_type": "stream",
     "text": [
      "[80,  1200] loss: 0.789\n",
      "Epoch [80], Train Loss: 0.0654\n",
      "[81,   100] loss: 0.075\n",
      "[81,   200] loss: 0.149\n",
      "[81,   300] loss: 0.223\n",
      "[81,   400] loss: 0.277\n",
      "[81,   500] loss: 0.339\n",
      "[81,   600] loss: 0.391\n",
      "[81,   700] loss: 0.464\n",
      "[81,   800] loss: 0.522\n",
      "[81,   900] loss: 0.575\n",
      "[81,  1000] loss: 0.631\n",
      "[81,  1100] loss: 0.688\n"
     ]
    },
    {
     "name": "stderr",
     "output_type": "stream",
     "text": [
      " 40%|████      | 81/200 [03:46<05:31,  2.79s/it]"
     ]
    },
    {
     "name": "stdout",
     "output_type": "stream",
     "text": [
      "[81,  1200] loss: 0.743\n",
      "Epoch [81], Train Loss: 0.0618\n",
      "[82,   100] loss: 0.066\n",
      "[82,   200] loss: 0.121\n",
      "[82,   300] loss: 0.188\n",
      "[82,   400] loss: 0.249\n",
      "[82,   500] loss: 0.319\n",
      "[82,   600] loss: 0.375\n",
      "[82,   700] loss: 0.442\n",
      "[82,   800] loss: 0.522\n",
      "[82,   900] loss: 0.577\n",
      "[82,  1000] loss: 0.645\n",
      "[82,  1100] loss: 0.695\n"
     ]
    },
    {
     "name": "stderr",
     "output_type": "stream",
     "text": [
      " 41%|████      | 82/200 [03:48<05:28,  2.78s/it]"
     ]
    },
    {
     "name": "stdout",
     "output_type": "stream",
     "text": [
      "[82,  1200] loss: 0.748\n",
      "Epoch [82], Train Loss: 0.0639\n",
      "[83,   100] loss: 0.058\n",
      "[83,   200] loss: 0.121\n",
      "[83,   300] loss: 0.186\n",
      "[83,   400] loss: 0.245\n",
      "[83,   500] loss: 0.317\n",
      "[83,   600] loss: 0.372\n",
      "[83,   700] loss: 0.441\n",
      "[83,   800] loss: 0.508\n",
      "[83,   900] loss: 0.565\n",
      "[83,  1000] loss: 0.629\n",
      "[83,  1100] loss: 0.688\n"
     ]
    },
    {
     "name": "stderr",
     "output_type": "stream",
     "text": [
      " 42%|████▏     | 83/200 [03:51<05:26,  2.79s/it]"
     ]
    },
    {
     "name": "stdout",
     "output_type": "stream",
     "text": [
      "[83,  1200] loss: 0.741\n",
      "Epoch [83], Train Loss: 0.0618\n",
      "[84,   100] loss: 0.060\n",
      "[84,   200] loss: 0.109\n",
      "[84,   300] loss: 0.165\n",
      "[84,   400] loss: 0.227\n",
      "[84,   500] loss: 0.290\n",
      "[84,   600] loss: 0.356\n",
      "[84,   700] loss: 0.411\n",
      "[84,   800] loss: 0.466\n",
      "[84,   900] loss: 0.533\n",
      "[84,  1000] loss: 0.603\n",
      "[84,  1100] loss: 0.690\n"
     ]
    },
    {
     "name": "stderr",
     "output_type": "stream",
     "text": [
      " 42%|████▏     | 84/200 [03:54<05:23,  2.79s/it]"
     ]
    },
    {
     "name": "stdout",
     "output_type": "stream",
     "text": [
      "[84,  1200] loss: 0.749\n",
      "Epoch [84], Train Loss: 0.0632\n",
      "[85,   100] loss: 0.061\n",
      "[85,   200] loss: 0.122\n",
      "[85,   300] loss: 0.179\n",
      "[85,   400] loss: 0.270\n",
      "[85,   500] loss: 0.331\n",
      "[85,   600] loss: 0.388\n",
      "[85,   700] loss: 0.451\n",
      "[85,   800] loss: 0.512\n",
      "[85,   900] loss: 0.577\n",
      "[85,  1000] loss: 0.651\n",
      "[85,  1100] loss: 0.704\n"
     ]
    },
    {
     "name": "stderr",
     "output_type": "stream",
     "text": [
      " 42%|████▎     | 85/200 [03:57<05:19,  2.78s/it]"
     ]
    },
    {
     "name": "stdout",
     "output_type": "stream",
     "text": [
      "[85,  1200] loss: 0.754\n",
      "Epoch [85], Train Loss: 0.0625\n",
      "[86,   100] loss: 0.078\n",
      "[86,   200] loss: 0.154\n",
      "[86,   300] loss: 0.209\n",
      "[86,   400] loss: 0.276\n",
      "[86,   500] loss: 0.337\n",
      "[86,   600] loss: 0.395\n",
      "[86,   700] loss: 0.451\n",
      "[86,   800] loss: 0.523\n",
      "[86,   900] loss: 0.581\n",
      "[86,  1000] loss: 0.627\n",
      "[86,  1100] loss: 0.708\n"
     ]
    },
    {
     "name": "stderr",
     "output_type": "stream",
     "text": [
      " 43%|████▎     | 86/200 [03:59<05:16,  2.78s/it]"
     ]
    },
    {
     "name": "stdout",
     "output_type": "stream",
     "text": [
      "[86,  1200] loss: 0.764\n",
      "Epoch [86], Train Loss: 0.0635\n",
      "[87,   100] loss: 0.051\n",
      "[87,   200] loss: 0.101\n",
      "[87,   300] loss: 0.168\n",
      "[87,   400] loss: 0.224\n",
      "[87,   500] loss: 0.280\n",
      "[87,   600] loss: 0.344\n",
      "[87,   700] loss: 0.426\n",
      "[87,   800] loss: 0.492\n",
      "[87,   900] loss: 0.566\n",
      "[87,  1000] loss: 0.627\n",
      "[87,  1100] loss: 0.690\n"
     ]
    },
    {
     "name": "stderr",
     "output_type": "stream",
     "text": [
      " 44%|████▎     | 87/200 [04:02<05:13,  2.77s/it]"
     ]
    },
    {
     "name": "stdout",
     "output_type": "stream",
     "text": [
      "[87,  1200] loss: 0.751\n",
      "Epoch [87], Train Loss: 0.0622\n",
      "[88,   100] loss: 0.044\n",
      "[88,   200] loss: 0.130\n",
      "[88,   300] loss: 0.175\n",
      "[88,   400] loss: 0.230\n",
      "[88,   500] loss: 0.292\n",
      "[88,   600] loss: 0.352\n",
      "[88,   700] loss: 0.419\n",
      "[88,   800] loss: 0.492\n",
      "[88,   900] loss: 0.559\n",
      "[88,  1000] loss: 0.621\n",
      "[88,  1100] loss: 0.675\n"
     ]
    },
    {
     "name": "stderr",
     "output_type": "stream",
     "text": [
      " 44%|████▍     | 88/200 [04:05<05:11,  2.78s/it]"
     ]
    },
    {
     "name": "stdout",
     "output_type": "stream",
     "text": [
      "[88,  1200] loss: 0.726\n",
      "Epoch [88], Train Loss: 0.0598\n",
      "[89,   100] loss: 0.062\n",
      "[89,   200] loss: 0.127\n",
      "[89,   300] loss: 0.187\n",
      "[89,   400] loss: 0.244\n",
      "[89,   500] loss: 0.313\n",
      "[89,   600] loss: 0.363\n",
      "[89,   700] loss: 0.411\n",
      "[89,   800] loss: 0.462\n",
      "[89,   900] loss: 0.524\n",
      "[89,  1000] loss: 0.584\n",
      "[89,  1100] loss: 0.647\n"
     ]
    },
    {
     "name": "stderr",
     "output_type": "stream",
     "text": [
      " 44%|████▍     | 89/200 [04:08<05:09,  2.79s/it]"
     ]
    },
    {
     "name": "stdout",
     "output_type": "stream",
     "text": [
      "[89,  1200] loss: 0.715\n",
      "Epoch [89], Train Loss: 0.0594\n",
      "[90,   100] loss: 0.059\n",
      "[90,   200] loss: 0.111\n",
      "[90,   300] loss: 0.175\n",
      "[90,   400] loss: 0.225\n",
      "[90,   500] loss: 0.295\n",
      "[90,   600] loss: 0.377\n",
      "[90,   700] loss: 0.434\n",
      "[90,   800] loss: 0.496\n",
      "[90,   900] loss: 0.553\n",
      "[90,  1000] loss: 0.625\n",
      "[90,  1100] loss: 0.675\n"
     ]
    },
    {
     "name": "stderr",
     "output_type": "stream",
     "text": [
      " 45%|████▌     | 90/200 [04:11<05:05,  2.78s/it]"
     ]
    },
    {
     "name": "stdout",
     "output_type": "stream",
     "text": [
      "[90,  1200] loss: 0.741\n",
      "Epoch [90], Train Loss: 0.0626\n",
      "[91,   100] loss: 0.057\n",
      "[91,   200] loss: 0.127\n",
      "[91,   300] loss: 0.186\n",
      "[91,   400] loss: 0.249\n",
      "[91,   500] loss: 0.314\n",
      "[91,   600] loss: 0.368\n",
      "[91,   700] loss: 0.419\n",
      "[91,   800] loss: 0.494\n",
      "[91,   900] loss: 0.560\n",
      "[91,  1000] loss: 0.612\n",
      "[91,  1100] loss: 0.663\n"
     ]
    },
    {
     "name": "stderr",
     "output_type": "stream",
     "text": [
      " 46%|████▌     | 91/200 [04:13<05:02,  2.78s/it]"
     ]
    },
    {
     "name": "stdout",
     "output_type": "stream",
     "text": [
      "[91,  1200] loss: 0.714\n",
      "Epoch [91], Train Loss: 0.0595\n",
      "[92,   100] loss: 0.057\n",
      "[92,   200] loss: 0.114\n",
      "[92,   300] loss: 0.187\n",
      "[92,   400] loss: 0.250\n",
      "[92,   500] loss: 0.305\n",
      "[92,   600] loss: 0.366\n",
      "[92,   700] loss: 0.419\n",
      "[92,   800] loss: 0.481\n",
      "[92,   900] loss: 0.536\n",
      "[92,  1000] loss: 0.606\n",
      "[92,  1100] loss: 0.667\n"
     ]
    },
    {
     "name": "stderr",
     "output_type": "stream",
     "text": [
      " 46%|████▌     | 92/200 [04:16<04:59,  2.77s/it]"
     ]
    },
    {
     "name": "stdout",
     "output_type": "stream",
     "text": [
      "[92,  1200] loss: 0.718\n",
      "Epoch [92], Train Loss: 0.0618\n",
      "[93,   100] loss: 0.061\n",
      "[93,   200] loss: 0.105\n",
      "[93,   300] loss: 0.155\n",
      "[93,   400] loss: 0.225\n",
      "[93,   500] loss: 0.289\n",
      "[93,   600] loss: 0.342\n",
      "[93,   700] loss: 0.419\n",
      "[93,   800] loss: 0.488\n",
      "[93,   900] loss: 0.555\n",
      "[93,  1000] loss: 0.620\n",
      "[93,  1100] loss: 0.682\n"
     ]
    },
    {
     "name": "stderr",
     "output_type": "stream",
     "text": [
      " 46%|████▋     | 93/200 [04:19<04:55,  2.76s/it]"
     ]
    },
    {
     "name": "stdout",
     "output_type": "stream",
     "text": [
      "[93,  1200] loss: 0.746\n",
      "Epoch [93], Train Loss: 0.0628\n",
      "[94,   100] loss: 0.055\n",
      "[94,   200] loss: 0.121\n",
      "[94,   300] loss: 0.176\n",
      "[94,   400] loss: 0.243\n",
      "[94,   500] loss: 0.288\n",
      "[94,   600] loss: 0.338\n",
      "[94,   700] loss: 0.393\n",
      "[94,   800] loss: 0.452\n",
      "[94,   900] loss: 0.524\n",
      "[94,  1000] loss: 0.575\n",
      "[94,  1100] loss: 0.629\n"
     ]
    },
    {
     "name": "stderr",
     "output_type": "stream",
     "text": [
      " 47%|████▋     | 94/200 [04:22<04:53,  2.76s/it]"
     ]
    },
    {
     "name": "stdout",
     "output_type": "stream",
     "text": [
      "[94,  1200] loss: 0.692\n",
      "Epoch [94], Train Loss: 0.0585\n",
      "[95,   100] loss: 0.061\n",
      "[95,   200] loss: 0.109\n",
      "[95,   300] loss: 0.170\n",
      "[95,   400] loss: 0.233\n",
      "[95,   500] loss: 0.274\n",
      "[95,   600] loss: 0.339\n",
      "[95,   700] loss: 0.395\n",
      "[95,   800] loss: 0.474\n",
      "[95,   900] loss: 0.549\n",
      "[95,  1000] loss: 0.607\n",
      "[95,  1100] loss: 0.669\n"
     ]
    },
    {
     "name": "stderr",
     "output_type": "stream",
     "text": [
      " 48%|████▊     | 95/200 [04:24<04:50,  2.76s/it]"
     ]
    },
    {
     "name": "stdout",
     "output_type": "stream",
     "text": [
      "[95,  1200] loss: 0.743\n",
      "Epoch [95], Train Loss: 0.0613\n",
      "[96,   100] loss: 0.056\n",
      "[96,   200] loss: 0.114\n",
      "[96,   300] loss: 0.177\n",
      "[96,   400] loss: 0.231\n",
      "[96,   500] loss: 0.296\n",
      "[96,   600] loss: 0.348\n",
      "[96,   700] loss: 0.413\n",
      "[96,   800] loss: 0.481\n",
      "[96,   900] loss: 0.532\n",
      "[96,  1000] loss: 0.611\n",
      "[96,  1100] loss: 0.666\n"
     ]
    },
    {
     "name": "stderr",
     "output_type": "stream",
     "text": [
      " 48%|████▊     | 96/200 [04:27<04:48,  2.77s/it]"
     ]
    },
    {
     "name": "stdout",
     "output_type": "stream",
     "text": [
      "[96,  1200] loss: 0.723\n",
      "Epoch [96], Train Loss: 0.0606\n",
      "[97,   100] loss: 0.070\n",
      "[97,   200] loss: 0.124\n",
      "[97,   300] loss: 0.188\n",
      "[97,   400] loss: 0.239\n",
      "[97,   500] loss: 0.320\n",
      "[97,   600] loss: 0.392\n",
      "[97,   700] loss: 0.447\n",
      "[97,   800] loss: 0.497\n",
      "[97,   900] loss: 0.561\n",
      "[97,  1000] loss: 0.626\n",
      "[97,  1100] loss: 0.691\n"
     ]
    },
    {
     "name": "stderr",
     "output_type": "stream",
     "text": [
      " 48%|████▊     | 97/200 [04:30<04:45,  2.77s/it]"
     ]
    },
    {
     "name": "stdout",
     "output_type": "stream",
     "text": [
      "[97,  1200] loss: 0.741\n",
      "Epoch [97], Train Loss: 0.0600\n",
      "[98,   100] loss: 0.056\n",
      "[98,   200] loss: 0.113\n",
      "[98,   300] loss: 0.182\n",
      "[98,   400] loss: 0.247\n",
      "[98,   500] loss: 0.316\n",
      "[98,   600] loss: 0.362\n",
      "[98,   700] loss: 0.422\n",
      "[98,   800] loss: 0.475\n",
      "[98,   900] loss: 0.532\n",
      "[98,  1000] loss: 0.608\n",
      "[98,  1100] loss: 0.657\n"
     ]
    },
    {
     "name": "stderr",
     "output_type": "stream",
     "text": [
      " 49%|████▉     | 98/200 [04:33<04:41,  2.76s/it]"
     ]
    },
    {
     "name": "stdout",
     "output_type": "stream",
     "text": [
      "[98,  1200] loss: 0.704\n",
      "Epoch [98], Train Loss: 0.0590\n",
      "[99,   100] loss: 0.058\n",
      "[99,   200] loss: 0.118\n",
      "[99,   300] loss: 0.180\n",
      "[99,   400] loss: 0.232\n",
      "[99,   500] loss: 0.290\n",
      "[99,   600] loss: 0.341\n",
      "[99,   700] loss: 0.395\n",
      "[99,   800] loss: 0.472\n",
      "[99,   900] loss: 0.549\n",
      "[99,  1000] loss: 0.631\n",
      "[99,  1100] loss: 0.701\n"
     ]
    },
    {
     "name": "stderr",
     "output_type": "stream",
     "text": [
      " 50%|████▉     | 99/200 [04:36<04:39,  2.77s/it]"
     ]
    },
    {
     "name": "stdout",
     "output_type": "stream",
     "text": [
      "[99,  1200] loss: 0.753\n",
      "Epoch [99], Train Loss: 0.0619\n",
      "[100,   100] loss: 0.072\n",
      "[100,   200] loss: 0.124\n",
      "[100,   300] loss: 0.187\n",
      "[100,   400] loss: 0.235\n",
      "[100,   500] loss: 0.297\n",
      "[100,   600] loss: 0.356\n",
      "[100,   700] loss: 0.422\n",
      "[100,   800] loss: 0.467\n",
      "[100,   900] loss: 0.541\n",
      "[100,  1000] loss: 0.606\n",
      "[100,  1100] loss: 0.649\n"
     ]
    },
    {
     "name": "stderr",
     "output_type": "stream",
     "text": [
      " 50%|█████     | 100/200 [04:38<04:36,  2.76s/it]"
     ]
    },
    {
     "name": "stdout",
     "output_type": "stream",
     "text": [
      "[100,  1200] loss: 0.707\n",
      "Epoch [100], Train Loss: 0.0588\n",
      "[101,   100] loss: 0.050\n",
      "[101,   200] loss: 0.114\n",
      "[101,   300] loss: 0.157\n",
      "[101,   400] loss: 0.235\n",
      "[101,   500] loss: 0.299\n",
      "[101,   600] loss: 0.352\n",
      "[101,   700] loss: 0.409\n",
      "[101,   800] loss: 0.466\n",
      "[101,   900] loss: 0.527\n",
      "[101,  1000] loss: 0.584\n",
      "[101,  1100] loss: 0.641\n"
     ]
    },
    {
     "name": "stderr",
     "output_type": "stream",
     "text": [
      " 50%|█████     | 101/200 [04:41<04:33,  2.76s/it]"
     ]
    },
    {
     "name": "stdout",
     "output_type": "stream",
     "text": [
      "[101,  1200] loss: 0.698\n",
      "Epoch [101], Train Loss: 0.0571\n",
      "[102,   100] loss: 0.061\n",
      "[102,   200] loss: 0.117\n",
      "[102,   300] loss: 0.179\n",
      "[102,   400] loss: 0.248\n",
      "[102,   500] loss: 0.307\n",
      "[102,   600] loss: 0.365\n",
      "[102,   700] loss: 0.431\n",
      "[102,   800] loss: 0.485\n",
      "[102,   900] loss: 0.540\n",
      "[102,  1000] loss: 0.596\n",
      "[102,  1100] loss: 0.642\n"
     ]
    },
    {
     "name": "stderr",
     "output_type": "stream",
     "text": [
      " 51%|█████     | 102/200 [04:44<04:30,  2.76s/it]"
     ]
    },
    {
     "name": "stdout",
     "output_type": "stream",
     "text": [
      "[102,  1200] loss: 0.704\n",
      "Epoch [102], Train Loss: 0.0583\n",
      "[103,   100] loss: 0.056\n",
      "[103,   200] loss: 0.118\n",
      "[103,   300] loss: 0.162\n",
      "[103,   400] loss: 0.228\n",
      "[103,   500] loss: 0.305\n",
      "[103,   600] loss: 0.360\n",
      "[103,   700] loss: 0.427\n",
      "[103,   800] loss: 0.481\n",
      "[103,   900] loss: 0.536\n",
      "[103,  1000] loss: 0.597\n",
      "[103,  1100] loss: 0.655\n"
     ]
    },
    {
     "name": "stderr",
     "output_type": "stream",
     "text": [
      " 52%|█████▏    | 103/200 [04:47<04:27,  2.76s/it]"
     ]
    },
    {
     "name": "stdout",
     "output_type": "stream",
     "text": [
      "[103,  1200] loss: 0.719\n",
      "Epoch [103], Train Loss: 0.0596\n",
      "[104,   100] loss: 0.064\n",
      "[104,   200] loss: 0.137\n",
      "[104,   300] loss: 0.182\n",
      "[104,   400] loss: 0.243\n",
      "[104,   500] loss: 0.306\n",
      "[104,   600] loss: 0.375\n",
      "[104,   700] loss: 0.442\n",
      "[104,   800] loss: 0.507\n",
      "[104,   900] loss: 0.568\n",
      "[104,  1000] loss: 0.617\n",
      "[104,  1100] loss: 0.664\n"
     ]
    },
    {
     "name": "stderr",
     "output_type": "stream",
     "text": [
      " 52%|█████▏    | 104/200 [04:49<04:24,  2.76s/it]"
     ]
    },
    {
     "name": "stdout",
     "output_type": "stream",
     "text": [
      "[104,  1200] loss: 0.728\n",
      "Epoch [104], Train Loss: 0.0600\n",
      "[105,   100] loss: 0.056\n",
      "[105,   200] loss: 0.104\n",
      "[105,   300] loss: 0.164\n",
      "[105,   400] loss: 0.211\n",
      "[105,   500] loss: 0.268\n",
      "[105,   600] loss: 0.345\n",
      "[105,   700] loss: 0.413\n",
      "[105,   800] loss: 0.481\n",
      "[105,   900] loss: 0.548\n",
      "[105,  1000] loss: 0.598\n",
      "[105,  1100] loss: 0.670\n",
      "[105,  1200] loss: 0.718\n",
      "Epoch [105], Train Loss: 0.0589\n"
     ]
    },
    {
     "name": "stderr",
     "output_type": "stream",
     "text": [
      " 52%|█████▎    | 105/200 [04:52<04:22,  2.76s/it]"
     ]
    },
    {
     "name": "stdout",
     "output_type": "stream",
     "text": [
      "[106,   100] loss: 0.040\n",
      "[106,   200] loss: 0.098\n",
      "[106,   300] loss: 0.150\n",
      "[106,   400] loss: 0.208\n",
      "[106,   500] loss: 0.274\n",
      "[106,   600] loss: 0.322\n",
      "[106,   700] loss: 0.380\n",
      "[106,   800] loss: 0.433\n",
      "[106,   900] loss: 0.488\n",
      "[106,  1000] loss: 0.557\n",
      "[106,  1100] loss: 0.614\n"
     ]
    },
    {
     "name": "stderr",
     "output_type": "stream",
     "text": [
      " 53%|█████▎    | 106/200 [04:55<04:19,  2.76s/it]"
     ]
    },
    {
     "name": "stdout",
     "output_type": "stream",
     "text": [
      "[106,  1200] loss: 0.674\n",
      "Epoch [106], Train Loss: 0.0572\n",
      "[107,   100] loss: 0.061\n",
      "[107,   200] loss: 0.118\n",
      "[107,   300] loss: 0.160\n",
      "[107,   400] loss: 0.226\n",
      "[107,   500] loss: 0.282\n",
      "[107,   600] loss: 0.353\n",
      "[107,   700] loss: 0.422\n",
      "[107,   800] loss: 0.472\n",
      "[107,   900] loss: 0.528\n",
      "[107,  1000] loss: 0.584\n",
      "[107,  1100] loss: 0.648\n"
     ]
    },
    {
     "name": "stderr",
     "output_type": "stream",
     "text": [
      " 54%|█████▎    | 107/200 [04:58<04:16,  2.76s/it]"
     ]
    },
    {
     "name": "stdout",
     "output_type": "stream",
     "text": [
      "[107,  1200] loss: 0.692\n",
      "Epoch [107], Train Loss: 0.0571\n",
      "[108,   100] loss: 0.070\n",
      "[108,   200] loss: 0.129\n",
      "[108,   300] loss: 0.174\n",
      "[108,   400] loss: 0.230\n",
      "[108,   500] loss: 0.290\n",
      "[108,   600] loss: 0.336\n",
      "[108,   700] loss: 0.382\n",
      "[108,   800] loss: 0.440\n",
      "[108,   900] loss: 0.492\n",
      "[108,  1000] loss: 0.550\n",
      "[108,  1100] loss: 0.618\n"
     ]
    },
    {
     "name": "stderr",
     "output_type": "stream",
     "text": [
      " 54%|█████▍    | 108/200 [05:00<04:14,  2.76s/it]"
     ]
    },
    {
     "name": "stdout",
     "output_type": "stream",
     "text": [
      "[108,  1200] loss: 0.672\n",
      "Epoch [108], Train Loss: 0.0564\n",
      "[109,   100] loss: 0.056\n",
      "[109,   200] loss: 0.103\n",
      "[109,   300] loss: 0.166\n",
      "[109,   400] loss: 0.232\n",
      "[109,   500] loss: 0.282\n",
      "[109,   600] loss: 0.326\n",
      "[109,   700] loss: 0.387\n",
      "[109,   800] loss: 0.451\n",
      "[109,   900] loss: 0.507\n",
      "[109,  1000] loss: 0.561\n",
      "[109,  1100] loss: 0.633\n",
      "[109,  1200] loss: 0.690\n"
     ]
    },
    {
     "name": "stderr",
     "output_type": "stream",
     "text": [
      " 55%|█████▍    | 109/200 [05:03<04:13,  2.78s/it]"
     ]
    },
    {
     "name": "stdout",
     "output_type": "stream",
     "text": [
      "Epoch [109], Train Loss: 0.0577\n",
      "[110,   100] loss: 0.055\n",
      "[110,   200] loss: 0.116\n",
      "[110,   300] loss: 0.186\n",
      "[110,   400] loss: 0.234\n",
      "[110,   500] loss: 0.289\n",
      "[110,   600] loss: 0.355\n",
      "[110,   700] loss: 0.410\n",
      "[110,   800] loss: 0.473\n",
      "[110,   900] loss: 0.537\n",
      "[110,  1000] loss: 0.591\n",
      "[110,  1100] loss: 0.646\n",
      "[110,  1200] loss: 0.706\n"
     ]
    },
    {
     "name": "stderr",
     "output_type": "stream",
     "text": [
      " 55%|█████▌    | 110/200 [05:06<04:15,  2.84s/it]"
     ]
    },
    {
     "name": "stdout",
     "output_type": "stream",
     "text": [
      "Epoch [110], Train Loss: 0.0585\n",
      "[111,   100] loss: 0.044\n",
      "[111,   200] loss: 0.099\n",
      "[111,   300] loss: 0.143\n",
      "[111,   400] loss: 0.199\n",
      "[111,   500] loss: 0.259\n",
      "[111,   600] loss: 0.310\n",
      "[111,   700] loss: 0.362\n",
      "[111,   800] loss: 0.421\n",
      "[111,   900] loss: 0.497\n",
      "[111,  1000] loss: 0.553\n",
      "[111,  1100] loss: 0.619\n"
     ]
    },
    {
     "name": "stderr",
     "output_type": "stream",
     "text": [
      " 56%|█████▌    | 111/200 [05:09<04:14,  2.87s/it]"
     ]
    },
    {
     "name": "stdout",
     "output_type": "stream",
     "text": [
      "[111,  1200] loss: 0.673\n",
      "Epoch [111], Train Loss: 0.0569\n",
      "[112,   100] loss: 0.058\n",
      "[112,   200] loss: 0.127\n",
      "[112,   300] loss: 0.177\n",
      "[112,   400] loss: 0.223\n",
      "[112,   500] loss: 0.271\n",
      "[112,   600] loss: 0.318\n",
      "[112,   700] loss: 0.386\n",
      "[112,   800] loss: 0.445\n",
      "[112,   900] loss: 0.508\n",
      "[112,  1000] loss: 0.554\n",
      "[112,  1100] loss: 0.615\n"
     ]
    },
    {
     "name": "stderr",
     "output_type": "stream",
     "text": [
      " 56%|█████▌    | 112/200 [05:12<04:09,  2.83s/it]"
     ]
    },
    {
     "name": "stdout",
     "output_type": "stream",
     "text": [
      "[112,  1200] loss: 0.665\n",
      "Epoch [112], Train Loss: 0.0574\n",
      "[113,   100] loss: 0.088\n",
      "[113,   200] loss: 0.147\n",
      "[113,   300] loss: 0.197\n",
      "[113,   400] loss: 0.253\n",
      "[113,   500] loss: 0.299\n",
      "[113,   600] loss: 0.352\n",
      "[113,   700] loss: 0.409\n",
      "[113,   800] loss: 0.482\n",
      "[113,   900] loss: 0.537\n",
      "[113,  1000] loss: 0.594\n",
      "[113,  1100] loss: 0.635\n"
     ]
    },
    {
     "name": "stderr",
     "output_type": "stream",
     "text": [
      " 56%|█████▋    | 113/200 [05:15<04:04,  2.81s/it]"
     ]
    },
    {
     "name": "stdout",
     "output_type": "stream",
     "text": [
      "[113,  1200] loss: 0.701\n",
      "Epoch [113], Train Loss: 0.0578\n",
      "[114,   100] loss: 0.056\n",
      "[114,   200] loss: 0.105\n",
      "[114,   300] loss: 0.155\n",
      "[114,   400] loss: 0.217\n",
      "[114,   500] loss: 0.269\n",
      "[114,   600] loss: 0.330\n",
      "[114,   700] loss: 0.380\n",
      "[114,   800] loss: 0.446\n",
      "[114,   900] loss: 0.527\n",
      "[114,  1000] loss: 0.567\n",
      "[114,  1100] loss: 0.617\n"
     ]
    },
    {
     "name": "stderr",
     "output_type": "stream",
     "text": [
      " 57%|█████▋    | 114/200 [05:17<04:00,  2.79s/it]"
     ]
    },
    {
     "name": "stdout",
     "output_type": "stream",
     "text": [
      "[114,  1200] loss: 0.681\n",
      "Epoch [114], Train Loss: 0.0568\n",
      "[115,   100] loss: 0.049\n",
      "[115,   200] loss: 0.115\n",
      "[115,   300] loss: 0.173\n",
      "[115,   400] loss: 0.227\n",
      "[115,   500] loss: 0.282\n",
      "[115,   600] loss: 0.339\n",
      "[115,   700] loss: 0.399\n",
      "[115,   800] loss: 0.450\n",
      "[115,   900] loss: 0.505\n",
      "[115,  1000] loss: 0.560\n",
      "[115,  1100] loss: 0.629\n"
     ]
    },
    {
     "name": "stderr",
     "output_type": "stream",
     "text": [
      " 57%|█████▊    | 115/200 [05:20<03:56,  2.78s/it]"
     ]
    },
    {
     "name": "stdout",
     "output_type": "stream",
     "text": [
      "[115,  1200] loss: 0.685\n",
      "Epoch [115], Train Loss: 0.0571\n",
      "[116,   100] loss: 0.060\n",
      "[116,   200] loss: 0.119\n",
      "[116,   300] loss: 0.170\n",
      "[116,   400] loss: 0.233\n",
      "[116,   500] loss: 0.280\n",
      "[116,   600] loss: 0.331\n",
      "[116,   700] loss: 0.393\n",
      "[116,   800] loss: 0.461\n",
      "[116,   900] loss: 0.516\n",
      "[116,  1000] loss: 0.573\n",
      "[116,  1100] loss: 0.645\n"
     ]
    },
    {
     "name": "stderr",
     "output_type": "stream",
     "text": [
      " 58%|█████▊    | 116/200 [05:23<03:53,  2.77s/it]"
     ]
    },
    {
     "name": "stdout",
     "output_type": "stream",
     "text": [
      "[116,  1200] loss: 0.690\n",
      "Epoch [116], Train Loss: 0.0567\n",
      "[117,   100] loss: 0.039\n",
      "[117,   200] loss: 0.090\n",
      "[117,   300] loss: 0.142\n",
      "[117,   400] loss: 0.202\n",
      "[117,   500] loss: 0.268\n",
      "[117,   600] loss: 0.323\n",
      "[117,   700] loss: 0.379\n",
      "[117,   800] loss: 0.442\n",
      "[117,   900] loss: 0.513\n",
      "[117,  1000] loss: 0.581\n",
      "[117,  1100] loss: 0.626\n",
      "[117,  1200] loss: 0.685\n"
     ]
    },
    {
     "name": "stderr",
     "output_type": "stream",
     "text": [
      " 58%|█████▊    | 117/200 [05:26<03:49,  2.77s/it]"
     ]
    },
    {
     "name": "stdout",
     "output_type": "stream",
     "text": [
      "Epoch [117], Train Loss: 0.0571\n",
      "[118,   100] loss: 0.058\n",
      "[118,   200] loss: 0.121\n",
      "[118,   300] loss: 0.191\n",
      "[118,   400] loss: 0.235\n",
      "[118,   500] loss: 0.293\n",
      "[118,   600] loss: 0.355\n",
      "[118,   700] loss: 0.404\n",
      "[118,   800] loss: 0.445\n",
      "[118,   900] loss: 0.508\n",
      "[118,  1000] loss: 0.586\n",
      "[118,  1100] loss: 0.623\n"
     ]
    },
    {
     "name": "stderr",
     "output_type": "stream",
     "text": [
      " 59%|█████▉    | 118/200 [05:28<03:46,  2.77s/it]"
     ]
    },
    {
     "name": "stdout",
     "output_type": "stream",
     "text": [
      "[118,  1200] loss: 0.689\n",
      "Epoch [118], Train Loss: 0.0577\n",
      "[119,   100] loss: 0.065\n",
      "[119,   200] loss: 0.126\n",
      "[119,   300] loss: 0.189\n",
      "[119,   400] loss: 0.247\n",
      "[119,   500] loss: 0.313\n",
      "[119,   600] loss: 0.372\n",
      "[119,   700] loss: 0.425\n",
      "[119,   800] loss: 0.484\n",
      "[119,   900] loss: 0.528\n",
      "[119,  1000] loss: 0.581\n",
      "[119,  1100] loss: 0.643\n"
     ]
    },
    {
     "name": "stderr",
     "output_type": "stream",
     "text": [
      " 60%|█████▉    | 119/200 [05:31<03:43,  2.76s/it]"
     ]
    },
    {
     "name": "stdout",
     "output_type": "stream",
     "text": [
      "[119,  1200] loss: 0.687\n",
      "Epoch [119], Train Loss: 0.0580\n",
      "[120,   100] loss: 0.049\n",
      "[120,   200] loss: 0.108\n",
      "[120,   300] loss: 0.173\n",
      "[120,   400] loss: 0.226\n",
      "[120,   500] loss: 0.300\n",
      "[120,   600] loss: 0.364\n",
      "[120,   700] loss: 0.404\n",
      "[120,   800] loss: 0.461\n",
      "[120,   900] loss: 0.517\n",
      "[120,  1000] loss: 0.579\n",
      "[120,  1100] loss: 0.638\n"
     ]
    },
    {
     "name": "stderr",
     "output_type": "stream",
     "text": [
      " 60%|██████    | 120/200 [05:34<03:41,  2.77s/it]"
     ]
    },
    {
     "name": "stdout",
     "output_type": "stream",
     "text": [
      "[120,  1200] loss: 0.689\n",
      "Epoch [120], Train Loss: 0.0582\n",
      "[121,   100] loss: 0.049\n",
      "[121,   200] loss: 0.105\n",
      "[121,   300] loss: 0.157\n",
      "[121,   400] loss: 0.209\n",
      "[121,   500] loss: 0.268\n",
      "[121,   600] loss: 0.314\n",
      "[121,   700] loss: 0.386\n",
      "[121,   800] loss: 0.444\n",
      "[121,   900] loss: 0.481\n",
      "[121,  1000] loss: 0.548\n",
      "[121,  1100] loss: 0.607\n"
     ]
    },
    {
     "name": "stderr",
     "output_type": "stream",
     "text": [
      " 60%|██████    | 121/200 [05:37<03:38,  2.77s/it]"
     ]
    },
    {
     "name": "stdout",
     "output_type": "stream",
     "text": [
      "[121,  1200] loss: 0.677\n",
      "Epoch [121], Train Loss: 0.0560\n",
      "[122,   100] loss: 0.048\n",
      "[122,   200] loss: 0.102\n",
      "[122,   300] loss: 0.166\n",
      "[122,   400] loss: 0.224\n",
      "[122,   500] loss: 0.290\n",
      "[122,   600] loss: 0.344\n",
      "[122,   700] loss: 0.394\n",
      "[122,   800] loss: 0.449\n",
      "[122,   900] loss: 0.517\n",
      "[122,  1000] loss: 0.583\n",
      "[122,  1100] loss: 0.643\n"
     ]
    },
    {
     "name": "stderr",
     "output_type": "stream",
     "text": [
      " 61%|██████    | 122/200 [05:39<03:35,  2.77s/it]"
     ]
    },
    {
     "name": "stdout",
     "output_type": "stream",
     "text": [
      "[122,  1200] loss: 0.696\n",
      "Epoch [122], Train Loss: 0.0578\n",
      "[123,   100] loss: 0.055\n",
      "[123,   200] loss: 0.110\n",
      "[123,   300] loss: 0.165\n",
      "[123,   400] loss: 0.222\n",
      "[123,   500] loss: 0.272\n",
      "[123,   600] loss: 0.335\n",
      "[123,   700] loss: 0.381\n",
      "[123,   800] loss: 0.438\n",
      "[123,   900] loss: 0.504\n",
      "[123,  1000] loss: 0.552\n",
      "[123,  1100] loss: 0.608\n"
     ]
    },
    {
     "name": "stderr",
     "output_type": "stream",
     "text": [
      " 62%|██████▏   | 123/200 [05:42<03:32,  2.76s/it]"
     ]
    },
    {
     "name": "stdout",
     "output_type": "stream",
     "text": [
      "[123,  1200] loss: 0.653\n",
      "Epoch [123], Train Loss: 0.0547\n",
      "[124,   100] loss: 0.049\n",
      "[124,   200] loss: 0.109\n",
      "[124,   300] loss: 0.165\n",
      "[124,   400] loss: 0.209\n",
      "[124,   500] loss: 0.275\n",
      "[124,   600] loss: 0.326\n",
      "[124,   700] loss: 0.377\n",
      "[124,   800] loss: 0.444\n",
      "[124,   900] loss: 0.508\n",
      "[124,  1000] loss: 0.569\n",
      "[124,  1100] loss: 0.609\n"
     ]
    },
    {
     "name": "stderr",
     "output_type": "stream",
     "text": [
      " 62%|██████▏   | 124/200 [05:45<03:29,  2.76s/it]"
     ]
    },
    {
     "name": "stdout",
     "output_type": "stream",
     "text": [
      "[124,  1200] loss: 0.668\n",
      "Epoch [124], Train Loss: 0.0556\n",
      "[125,   100] loss: 0.056\n",
      "[125,   200] loss: 0.094\n",
      "[125,   300] loss: 0.163\n",
      "[125,   400] loss: 0.212\n",
      "[125,   500] loss: 0.272\n",
      "[125,   600] loss: 0.339\n",
      "[125,   700] loss: 0.388\n",
      "[125,   800] loss: 0.462\n",
      "[125,   900] loss: 0.519\n",
      "[125,  1000] loss: 0.579\n",
      "[125,  1100] loss: 0.637\n"
     ]
    },
    {
     "name": "stderr",
     "output_type": "stream",
     "text": [
      " 62%|██████▎   | 125/200 [05:48<03:26,  2.76s/it]"
     ]
    },
    {
     "name": "stdout",
     "output_type": "stream",
     "text": [
      "[125,  1200] loss: 0.693\n",
      "Epoch [125], Train Loss: 0.0569\n",
      "[126,   100] loss: 0.046\n",
      "[126,   200] loss: 0.107\n",
      "[126,   300] loss: 0.153\n",
      "[126,   400] loss: 0.218\n",
      "[126,   500] loss: 0.263\n",
      "[126,   600] loss: 0.324\n",
      "[126,   700] loss: 0.389\n",
      "[126,   800] loss: 0.450\n",
      "[126,   900] loss: 0.495\n",
      "[126,  1000] loss: 0.556\n",
      "[126,  1100] loss: 0.612\n"
     ]
    },
    {
     "name": "stderr",
     "output_type": "stream",
     "text": [
      " 63%|██████▎   | 126/200 [05:50<03:24,  2.76s/it]"
     ]
    },
    {
     "name": "stdout",
     "output_type": "stream",
     "text": [
      "[126,  1200] loss: 0.674\n",
      "Epoch [126], Train Loss: 0.0559\n",
      "[127,   100] loss: 0.038\n",
      "[127,   200] loss: 0.098\n",
      "[127,   300] loss: 0.164\n",
      "[127,   400] loss: 0.213\n",
      "[127,   500] loss: 0.282\n",
      "[127,   600] loss: 0.351\n",
      "[127,   700] loss: 0.395\n",
      "[127,   800] loss: 0.465\n",
      "[127,   900] loss: 0.510\n",
      "[127,  1000] loss: 0.561\n",
      "[127,  1100] loss: 0.607\n",
      "[127,  1200] loss: 0.656\n"
     ]
    },
    {
     "name": "stderr",
     "output_type": "stream",
     "text": [
      " 64%|██████▎   | 127/200 [05:53<03:22,  2.77s/it]"
     ]
    },
    {
     "name": "stdout",
     "output_type": "stream",
     "text": [
      "Epoch [127], Train Loss: 0.0539\n",
      "[128,   100] loss: 0.048\n",
      "[128,   200] loss: 0.112\n",
      "[128,   300] loss: 0.189\n",
      "[128,   400] loss: 0.250\n",
      "[128,   500] loss: 0.301\n",
      "[128,   600] loss: 0.347\n",
      "[128,   700] loss: 0.402\n",
      "[128,   800] loss: 0.445\n",
      "[128,   900] loss: 0.502\n",
      "[128,  1000] loss: 0.549\n",
      "[128,  1100] loss: 0.621\n",
      "[128,  1200] loss: 0.677\n"
     ]
    },
    {
     "name": "stderr",
     "output_type": "stream",
     "text": [
      " 64%|██████▍   | 128/200 [05:56<03:25,  2.85s/it]"
     ]
    },
    {
     "name": "stdout",
     "output_type": "stream",
     "text": [
      "Epoch [128], Train Loss: 0.0574\n",
      "[129,   100] loss: 0.058\n",
      "[129,   200] loss: 0.105\n",
      "[129,   300] loss: 0.157\n",
      "[129,   400] loss: 0.206\n",
      "[129,   500] loss: 0.255\n",
      "[129,   600] loss: 0.324\n",
      "[129,   700] loss: 0.392\n",
      "[129,   800] loss: 0.461\n",
      "[129,   900] loss: 0.516\n",
      "[129,  1000] loss: 0.575\n",
      "[129,  1100] loss: 0.623\n"
     ]
    },
    {
     "name": "stderr",
     "output_type": "stream",
     "text": [
      " 64%|██████▍   | 129/200 [05:59<03:20,  2.82s/it]"
     ]
    },
    {
     "name": "stdout",
     "output_type": "stream",
     "text": [
      "[129,  1200] loss: 0.675\n",
      "Epoch [129], Train Loss: 0.0572\n",
      "[130,   100] loss: 0.052\n",
      "[130,   200] loss: 0.109\n",
      "[130,   300] loss: 0.169\n",
      "[130,   400] loss: 0.228\n",
      "[130,   500] loss: 0.287\n",
      "[130,   600] loss: 0.344\n",
      "[130,   700] loss: 0.414\n",
      "[130,   800] loss: 0.473\n",
      "[130,   900] loss: 0.531\n",
      "[130,  1000] loss: 0.583\n",
      "[130,  1100] loss: 0.620\n"
     ]
    },
    {
     "name": "stderr",
     "output_type": "stream",
     "text": [
      " 65%|██████▌   | 130/200 [06:02<03:16,  2.80s/it]"
     ]
    },
    {
     "name": "stdout",
     "output_type": "stream",
     "text": [
      "[130,  1200] loss: 0.674\n",
      "Epoch [130], Train Loss: 0.0558\n",
      "[131,   100] loss: 0.066\n",
      "[131,   200] loss: 0.110\n",
      "[131,   300] loss: 0.160\n",
      "[131,   400] loss: 0.229\n",
      "[131,   500] loss: 0.284\n",
      "[131,   600] loss: 0.338\n",
      "[131,   700] loss: 0.379\n",
      "[131,   800] loss: 0.421\n",
      "[131,   900] loss: 0.495\n",
      "[131,  1000] loss: 0.569\n",
      "[131,  1100] loss: 0.627\n"
     ]
    },
    {
     "name": "stderr",
     "output_type": "stream",
     "text": [
      " 66%|██████▌   | 131/200 [06:05<03:12,  2.79s/it]"
     ]
    },
    {
     "name": "stdout",
     "output_type": "stream",
     "text": [
      "[131,  1200] loss: 0.687\n",
      "Epoch [131], Train Loss: 0.0565\n",
      "[132,   100] loss: 0.048\n",
      "[132,   200] loss: 0.094\n",
      "[132,   300] loss: 0.156\n",
      "[132,   400] loss: 0.217\n",
      "[132,   500] loss: 0.281\n",
      "[132,   600] loss: 0.364\n",
      "[132,   700] loss: 0.424\n",
      "[132,   800] loss: 0.483\n",
      "[132,   900] loss: 0.533\n",
      "[132,  1000] loss: 0.595\n",
      "[132,  1100] loss: 0.653\n"
     ]
    },
    {
     "name": "stderr",
     "output_type": "stream",
     "text": [
      " 66%|██████▌   | 132/200 [06:07<03:08,  2.78s/it]"
     ]
    },
    {
     "name": "stdout",
     "output_type": "stream",
     "text": [
      "[132,  1200] loss: 0.691\n",
      "Epoch [132], Train Loss: 0.0577\n",
      "[133,   100] loss: 0.052\n",
      "[133,   200] loss: 0.123\n",
      "[133,   300] loss: 0.178\n",
      "[133,   400] loss: 0.243\n",
      "[133,   500] loss: 0.294\n",
      "[133,   600] loss: 0.346\n",
      "[133,   700] loss: 0.423\n",
      "[133,   800] loss: 0.476\n",
      "[133,   900] loss: 0.525\n",
      "[133,  1000] loss: 0.575\n",
      "[133,  1100] loss: 0.616\n"
     ]
    },
    {
     "name": "stderr",
     "output_type": "stream",
     "text": [
      " 66%|██████▋   | 133/200 [06:10<03:06,  2.78s/it]"
     ]
    },
    {
     "name": "stdout",
     "output_type": "stream",
     "text": [
      "[133,  1200] loss: 0.658\n",
      "Epoch [133], Train Loss: 0.0553\n",
      "[134,   100] loss: 0.058\n",
      "[134,   200] loss: 0.111\n",
      "[134,   300] loss: 0.175\n",
      "[134,   400] loss: 0.244\n",
      "[134,   500] loss: 0.303\n",
      "[134,   600] loss: 0.353\n",
      "[134,   700] loss: 0.403\n",
      "[134,   800] loss: 0.446\n",
      "[134,   900] loss: 0.491\n",
      "[134,  1000] loss: 0.547\n",
      "[134,  1100] loss: 0.612\n"
     ]
    },
    {
     "name": "stderr",
     "output_type": "stream",
     "text": [
      " 67%|██████▋   | 134/200 [06:13<03:02,  2.77s/it]"
     ]
    },
    {
     "name": "stdout",
     "output_type": "stream",
     "text": [
      "[134,  1200] loss: 0.677\n",
      "Epoch [134], Train Loss: 0.0564\n",
      "[135,   100] loss: 0.046\n",
      "[135,   200] loss: 0.097\n",
      "[135,   300] loss: 0.154\n",
      "[135,   400] loss: 0.215\n",
      "[135,   500] loss: 0.277\n",
      "[135,   600] loss: 0.340\n",
      "[135,   700] loss: 0.382\n",
      "[135,   800] loss: 0.447\n",
      "[135,   900] loss: 0.512\n",
      "[135,  1000] loss: 0.541\n",
      "[135,  1100] loss: 0.601\n"
     ]
    },
    {
     "name": "stderr",
     "output_type": "stream",
     "text": [
      " 68%|██████▊   | 135/200 [06:16<02:59,  2.76s/it]"
     ]
    },
    {
     "name": "stdout",
     "output_type": "stream",
     "text": [
      "[135,  1200] loss: 0.649\n",
      "Epoch [135], Train Loss: 0.0551\n",
      "[136,   100] loss: 0.083\n",
      "[136,   200] loss: 0.130\n",
      "[136,   300] loss: 0.189\n",
      "[136,   400] loss: 0.233\n",
      "[136,   500] loss: 0.293\n",
      "[136,   600] loss: 0.359\n",
      "[136,   700] loss: 0.412\n",
      "[136,   800] loss: 0.460\n",
      "[136,   900] loss: 0.507\n",
      "[136,  1000] loss: 0.563\n",
      "[136,  1100] loss: 0.623\n",
      "[136,  1200] loss: 0.677\n"
     ]
    },
    {
     "name": "stderr",
     "output_type": "stream",
     "text": [
      " 68%|██████▊   | 136/200 [06:18<02:56,  2.75s/it]"
     ]
    },
    {
     "name": "stdout",
     "output_type": "stream",
     "text": [
      "Epoch [136], Train Loss: 0.0568\n",
      "[137,   100] loss: 0.045\n",
      "[137,   200] loss: 0.096\n",
      "[137,   300] loss: 0.149\n",
      "[137,   400] loss: 0.210\n",
      "[137,   500] loss: 0.258\n",
      "[137,   600] loss: 0.318\n",
      "[137,   700] loss: 0.387\n",
      "[137,   800] loss: 0.436\n",
      "[137,   900] loss: 0.500\n",
      "[137,  1000] loss: 0.555\n",
      "[137,  1100] loss: 0.605\n"
     ]
    },
    {
     "name": "stderr",
     "output_type": "stream",
     "text": [
      " 68%|██████▊   | 137/200 [06:21<02:53,  2.76s/it]"
     ]
    },
    {
     "name": "stdout",
     "output_type": "stream",
     "text": [
      "[137,  1200] loss: 0.655\n",
      "Epoch [137], Train Loss: 0.0549\n",
      "[138,   100] loss: 0.044\n",
      "[138,   200] loss: 0.090\n",
      "[138,   300] loss: 0.139\n",
      "[138,   400] loss: 0.208\n",
      "[138,   500] loss: 0.267\n",
      "[138,   600] loss: 0.329\n",
      "[138,   700] loss: 0.378\n",
      "[138,   800] loss: 0.430\n",
      "[138,   900] loss: 0.489\n",
      "[138,  1000] loss: 0.529\n",
      "[138,  1100] loss: 0.588\n"
     ]
    },
    {
     "name": "stderr",
     "output_type": "stream",
     "text": [
      " 69%|██████▉   | 138/200 [06:24<02:50,  2.76s/it]"
     ]
    },
    {
     "name": "stdout",
     "output_type": "stream",
     "text": [
      "[138,  1200] loss: 0.635\n",
      "Epoch [138], Train Loss: 0.0537\n",
      "[139,   100] loss: 0.052\n",
      "[139,   200] loss: 0.118\n",
      "[139,   300] loss: 0.163\n",
      "[139,   400] loss: 0.218\n",
      "[139,   500] loss: 0.267\n",
      "[139,   600] loss: 0.331\n",
      "[139,   700] loss: 0.379\n",
      "[139,   800] loss: 0.445\n",
      "[139,   900] loss: 0.501\n",
      "[139,  1000] loss: 0.562\n",
      "[139,  1100] loss: 0.611\n"
     ]
    },
    {
     "name": "stderr",
     "output_type": "stream",
     "text": [
      " 70%|██████▉   | 139/200 [06:27<02:48,  2.76s/it]"
     ]
    },
    {
     "name": "stdout",
     "output_type": "stream",
     "text": [
      "[139,  1200] loss: 0.673\n",
      "Epoch [139], Train Loss: 0.0560\n",
      "[140,   100] loss: 0.047\n",
      "[140,   200] loss: 0.120\n",
      "[140,   300] loss: 0.173\n",
      "[140,   400] loss: 0.230\n",
      "[140,   500] loss: 0.289\n",
      "[140,   600] loss: 0.337\n",
      "[140,   700] loss: 0.394\n",
      "[140,   800] loss: 0.449\n",
      "[140,   900] loss: 0.509\n",
      "[140,  1000] loss: 0.580\n",
      "[140,  1100] loss: 0.624\n"
     ]
    },
    {
     "name": "stderr",
     "output_type": "stream",
     "text": [
      " 70%|███████   | 140/200 [06:29<02:45,  2.75s/it]"
     ]
    },
    {
     "name": "stdout",
     "output_type": "stream",
     "text": [
      "[140,  1200] loss: 0.673\n",
      "Epoch [140], Train Loss: 0.0553\n",
      "[141,   100] loss: 0.049\n",
      "[141,   200] loss: 0.091\n",
      "[141,   300] loss: 0.148\n",
      "[141,   400] loss: 0.215\n",
      "[141,   500] loss: 0.280\n",
      "[141,   600] loss: 0.355\n",
      "[141,   700] loss: 0.399\n",
      "[141,   800] loss: 0.440\n",
      "[141,   900] loss: 0.501\n",
      "[141,  1000] loss: 0.550\n",
      "[141,  1100] loss: 0.601\n"
     ]
    },
    {
     "name": "stderr",
     "output_type": "stream",
     "text": [
      " 70%|███████   | 141/200 [06:32<02:42,  2.75s/it]"
     ]
    },
    {
     "name": "stdout",
     "output_type": "stream",
     "text": [
      "[141,  1200] loss: 0.656\n",
      "Epoch [141], Train Loss: 0.0546\n",
      "[142,   100] loss: 0.041\n",
      "[142,   200] loss: 0.087\n",
      "[142,   300] loss: 0.133\n",
      "[142,   400] loss: 0.201\n",
      "[142,   500] loss: 0.272\n",
      "[142,   600] loss: 0.317\n",
      "[142,   700] loss: 0.374\n",
      "[142,   800] loss: 0.419\n",
      "[142,   900] loss: 0.473\n",
      "[142,  1000] loss: 0.526\n",
      "[142,  1100] loss: 0.585\n"
     ]
    },
    {
     "name": "stderr",
     "output_type": "stream",
     "text": [
      " 71%|███████   | 142/200 [06:35<02:39,  2.75s/it]"
     ]
    },
    {
     "name": "stdout",
     "output_type": "stream",
     "text": [
      "[142,  1200] loss: 0.643\n",
      "Epoch [142], Train Loss: 0.0536\n",
      "[143,   100] loss: 0.044\n",
      "[143,   200] loss: 0.091\n",
      "[143,   300] loss: 0.139\n",
      "[143,   400] loss: 0.196\n",
      "[143,   500] loss: 0.246\n",
      "[143,   600] loss: 0.289\n",
      "[143,   700] loss: 0.351\n",
      "[143,   800] loss: 0.415\n",
      "[143,   900] loss: 0.466\n",
      "[143,  1000] loss: 0.532\n",
      "[143,  1100] loss: 0.573\n"
     ]
    },
    {
     "name": "stderr",
     "output_type": "stream",
     "text": [
      " 72%|███████▏  | 143/200 [06:38<02:36,  2.75s/it]"
     ]
    },
    {
     "name": "stdout",
     "output_type": "stream",
     "text": [
      "[143,  1200] loss: 0.641\n",
      "Epoch [143], Train Loss: 0.0533\n",
      "[144,   100] loss: 0.045\n",
      "[144,   200] loss: 0.089\n",
      "[144,   300] loss: 0.159\n",
      "[144,   400] loss: 0.206\n",
      "[144,   500] loss: 0.257\n",
      "[144,   600] loss: 0.316\n",
      "[144,   700] loss: 0.385\n",
      "[144,   800] loss: 0.428\n",
      "[144,   900] loss: 0.489\n",
      "[144,  1000] loss: 0.542\n",
      "[144,  1100] loss: 0.597\n"
     ]
    },
    {
     "name": "stderr",
     "output_type": "stream",
     "text": [
      " 72%|███████▏  | 144/200 [06:40<02:33,  2.75s/it]"
     ]
    },
    {
     "name": "stdout",
     "output_type": "stream",
     "text": [
      "[144,  1200] loss: 0.650\n",
      "Epoch [144], Train Loss: 0.0547\n",
      "[145,   100] loss: 0.053\n",
      "[145,   200] loss: 0.106\n",
      "[145,   300] loss: 0.168\n",
      "[145,   400] loss: 0.219\n",
      "[145,   500] loss: 0.275\n",
      "[145,   600] loss: 0.331\n",
      "[145,   700] loss: 0.383\n",
      "[145,   800] loss: 0.444\n",
      "[145,   900] loss: 0.496\n",
      "[145,  1000] loss: 0.539\n",
      "[145,  1100] loss: 0.585\n"
     ]
    },
    {
     "name": "stderr",
     "output_type": "stream",
     "text": [
      " 72%|███████▎  | 145/200 [06:43<02:31,  2.75s/it]"
     ]
    },
    {
     "name": "stdout",
     "output_type": "stream",
     "text": [
      "[145,  1200] loss: 0.618\n",
      "Epoch [145], Train Loss: 0.0513\n",
      "[146,   100] loss: 0.045\n",
      "[146,   200] loss: 0.096\n",
      "[146,   300] loss: 0.153\n",
      "[146,   400] loss: 0.203\n",
      "[146,   500] loss: 0.255\n",
      "[146,   600] loss: 0.317\n",
      "[146,   700] loss: 0.369\n",
      "[146,   800] loss: 0.422\n",
      "[146,   900] loss: 0.474\n",
      "[146,  1000] loss: 0.533\n",
      "[146,  1100] loss: 0.578\n"
     ]
    },
    {
     "name": "stderr",
     "output_type": "stream",
     "text": [
      " 73%|███████▎  | 146/200 [06:46<02:28,  2.75s/it]"
     ]
    },
    {
     "name": "stdout",
     "output_type": "stream",
     "text": [
      "[146,  1200] loss: 0.628\n",
      "Epoch [146], Train Loss: 0.0530\n",
      "[147,   100] loss: 0.048\n",
      "[147,   200] loss: 0.102\n",
      "[147,   300] loss: 0.158\n",
      "[147,   400] loss: 0.204\n",
      "[147,   500] loss: 0.254\n",
      "[147,   600] loss: 0.303\n",
      "[147,   700] loss: 0.357\n",
      "[147,   800] loss: 0.416\n",
      "[147,   900] loss: 0.476\n",
      "[147,  1000] loss: 0.515\n",
      "[147,  1100] loss: 0.572\n"
     ]
    },
    {
     "name": "stderr",
     "output_type": "stream",
     "text": [
      " 74%|███████▎  | 147/200 [06:49<02:25,  2.75s/it]"
     ]
    },
    {
     "name": "stdout",
     "output_type": "stream",
     "text": [
      "[147,  1200] loss: 0.631\n",
      "Epoch [147], Train Loss: 0.0534\n",
      "[148,   100] loss: 0.050\n",
      "[148,   200] loss: 0.091\n",
      "[148,   300] loss: 0.143\n",
      "[148,   400] loss: 0.187\n",
      "[148,   500] loss: 0.236\n",
      "[148,   600] loss: 0.295\n",
      "[148,   700] loss: 0.354\n",
      "[148,   800] loss: 0.406\n",
      "[148,   900] loss: 0.454\n",
      "[148,  1000] loss: 0.518\n",
      "[148,  1100] loss: 0.585\n"
     ]
    },
    {
     "name": "stderr",
     "output_type": "stream",
     "text": [
      " 74%|███████▍  | 148/200 [06:51<02:22,  2.75s/it]"
     ]
    },
    {
     "name": "stdout",
     "output_type": "stream",
     "text": [
      "[148,  1200] loss: 0.634\n",
      "Epoch [148], Train Loss: 0.0523\n",
      "[149,   100] loss: 0.056\n",
      "[149,   200] loss: 0.101\n",
      "[149,   300] loss: 0.159\n",
      "[149,   400] loss: 0.222\n",
      "[149,   500] loss: 0.278\n",
      "[149,   600] loss: 0.327\n",
      "[149,   700] loss: 0.388\n",
      "[149,   800] loss: 0.422\n",
      "[149,   900] loss: 0.463\n",
      "[149,  1000] loss: 0.515\n",
      "[149,  1100] loss: 0.569\n"
     ]
    },
    {
     "name": "stderr",
     "output_type": "stream",
     "text": [
      " 74%|███████▍  | 149/200 [06:54<02:20,  2.75s/it]"
     ]
    },
    {
     "name": "stdout",
     "output_type": "stream",
     "text": [
      "[149,  1200] loss: 0.633\n",
      "Epoch [149], Train Loss: 0.0531\n",
      "[150,   100] loss: 0.041\n",
      "[150,   200] loss: 0.092\n",
      "[150,   300] loss: 0.148\n",
      "[150,   400] loss: 0.198\n",
      "[150,   500] loss: 0.258\n",
      "[150,   600] loss: 0.310\n",
      "[150,   700] loss: 0.366\n",
      "[150,   800] loss: 0.408\n",
      "[150,   900] loss: 0.464\n",
      "[150,  1000] loss: 0.510\n",
      "[150,  1100] loss: 0.566\n",
      "[150,  1200] loss: 0.620\n"
     ]
    },
    {
     "name": "stderr",
     "output_type": "stream",
     "text": [
      " 75%|███████▌  | 150/200 [06:57<02:17,  2.75s/it]"
     ]
    },
    {
     "name": "stdout",
     "output_type": "stream",
     "text": [
      "Epoch [150], Train Loss: 0.0520\n",
      "[151,   100] loss: 0.061\n",
      "[151,   200] loss: 0.114\n",
      "[151,   300] loss: 0.154\n",
      "[151,   400] loss: 0.212\n",
      "[151,   500] loss: 0.260\n",
      "[151,   600] loss: 0.315\n",
      "[151,   700] loss: 0.362\n",
      "[151,   800] loss: 0.423\n",
      "[151,   900] loss: 0.477\n",
      "[151,  1000] loss: 0.532\n",
      "[151,  1100] loss: 0.579\n",
      "[151,  1200] loss: 0.626\n"
     ]
    },
    {
     "name": "stderr",
     "output_type": "stream",
     "text": [
      " 76%|███████▌  | 151/200 [07:00<02:15,  2.77s/it]"
     ]
    },
    {
     "name": "stdout",
     "output_type": "stream",
     "text": [
      "Epoch [151], Train Loss: 0.0525\n",
      "[152,   100] loss: 0.052\n",
      "[152,   200] loss: 0.102\n",
      "[152,   300] loss: 0.158\n",
      "[152,   400] loss: 0.206\n",
      "[152,   500] loss: 0.263\n",
      "[152,   600] loss: 0.324\n",
      "[152,   700] loss: 0.382\n",
      "[152,   800] loss: 0.449\n",
      "[152,   900] loss: 0.497\n",
      "[152,  1000] loss: 0.539\n",
      "[152,  1100] loss: 0.587\n",
      "[152,  1200] loss: 0.633\n"
     ]
    },
    {
     "name": "stderr",
     "output_type": "stream",
     "text": [
      " 76%|███████▌  | 152/200 [07:03<02:14,  2.80s/it]"
     ]
    },
    {
     "name": "stdout",
     "output_type": "stream",
     "text": [
      "Epoch [152], Train Loss: 0.0524\n",
      "[153,   100] loss: 0.050\n",
      "[153,   200] loss: 0.097\n",
      "[153,   300] loss: 0.159\n",
      "[153,   400] loss: 0.218\n",
      "[153,   500] loss: 0.269\n",
      "[153,   600] loss: 0.323\n",
      "[153,   700] loss: 0.391\n",
      "[153,   800] loss: 0.458\n",
      "[153,   900] loss: 0.508\n",
      "[153,  1000] loss: 0.565\n",
      "[153,  1100] loss: 0.602\n"
     ]
    },
    {
     "name": "stderr",
     "output_type": "stream",
     "text": [
      " 76%|███████▋  | 153/200 [07:05<02:10,  2.79s/it]"
     ]
    },
    {
     "name": "stdout",
     "output_type": "stream",
     "text": [
      "[153,  1200] loss: 0.650\n",
      "Epoch [153], Train Loss: 0.0559\n",
      "[154,   100] loss: 0.057\n",
      "[154,   200] loss: 0.108\n",
      "[154,   300] loss: 0.153\n",
      "[154,   400] loss: 0.197\n",
      "[154,   500] loss: 0.248\n",
      "[154,   600] loss: 0.295\n",
      "[154,   700] loss: 0.357\n",
      "[154,   800] loss: 0.408\n",
      "[154,   900] loss: 0.464\n",
      "[154,  1000] loss: 0.522\n",
      "[154,  1100] loss: 0.558\n"
     ]
    },
    {
     "name": "stderr",
     "output_type": "stream",
     "text": [
      " 77%|███████▋  | 154/200 [07:08<02:07,  2.77s/it]"
     ]
    },
    {
     "name": "stdout",
     "output_type": "stream",
     "text": [
      "[154,  1200] loss: 0.608\n",
      "Epoch [154], Train Loss: 0.0520\n",
      "[155,   100] loss: 0.051\n",
      "[155,   200] loss: 0.102\n",
      "[155,   300] loss: 0.146\n",
      "[155,   400] loss: 0.199\n",
      "[155,   500] loss: 0.248\n",
      "[155,   600] loss: 0.297\n",
      "[155,   700] loss: 0.352\n",
      "[155,   800] loss: 0.398\n",
      "[155,   900] loss: 0.463\n",
      "[155,  1000] loss: 0.509\n",
      "[155,  1100] loss: 0.578\n"
     ]
    },
    {
     "name": "stderr",
     "output_type": "stream",
     "text": [
      " 78%|███████▊  | 155/200 [07:11<02:04,  2.77s/it]"
     ]
    },
    {
     "name": "stdout",
     "output_type": "stream",
     "text": [
      "[155,  1200] loss: 0.626\n",
      "Epoch [155], Train Loss: 0.0524\n",
      "[156,   100] loss: 0.053\n",
      "[156,   200] loss: 0.114\n",
      "[156,   300] loss: 0.172\n",
      "[156,   400] loss: 0.211\n",
      "[156,   500] loss: 0.276\n",
      "[156,   600] loss: 0.343\n",
      "[156,   700] loss: 0.389\n",
      "[156,   800] loss: 0.439\n",
      "[156,   900] loss: 0.485\n",
      "[156,  1000] loss: 0.532\n",
      "[156,  1100] loss: 0.579\n",
      "[156,  1200] loss: 0.637\n"
     ]
    },
    {
     "name": "stderr",
     "output_type": "stream",
     "text": [
      " 78%|███████▊  | 156/200 [07:14<02:06,  2.86s/it]"
     ]
    },
    {
     "name": "stdout",
     "output_type": "stream",
     "text": [
      "Epoch [156], Train Loss: 0.0533\n",
      "[157,   100] loss: 0.049\n",
      "[157,   200] loss: 0.099\n",
      "[157,   300] loss: 0.154\n",
      "[157,   400] loss: 0.210\n",
      "[157,   500] loss: 0.254\n",
      "[157,   600] loss: 0.294\n",
      "[157,   700] loss: 0.357\n",
      "[157,   800] loss: 0.400\n",
      "[157,   900] loss: 0.450\n",
      "[157,  1000] loss: 0.500\n",
      "[157,  1100] loss: 0.558\n"
     ]
    },
    {
     "name": "stderr",
     "output_type": "stream",
     "text": [
      " 78%|███████▊  | 157/200 [07:17<02:05,  2.91s/it]"
     ]
    },
    {
     "name": "stdout",
     "output_type": "stream",
     "text": [
      "[157,  1200] loss: 0.611\n",
      "Epoch [157], Train Loss: 0.0517\n",
      "[158,   100] loss: 0.047\n",
      "[158,   200] loss: 0.122\n",
      "[158,   300] loss: 0.175\n",
      "[158,   400] loss: 0.228\n",
      "[158,   500] loss: 0.262\n",
      "[158,   600] loss: 0.321\n",
      "[158,   700] loss: 0.381\n",
      "[158,   800] loss: 0.432\n",
      "[158,   900] loss: 0.472\n",
      "[158,  1000] loss: 0.528\n",
      "[158,  1100] loss: 0.577\n"
     ]
    },
    {
     "name": "stderr",
     "output_type": "stream",
     "text": [
      " 79%|███████▉  | 158/200 [07:20<02:00,  2.87s/it]"
     ]
    },
    {
     "name": "stdout",
     "output_type": "stream",
     "text": [
      "[158,  1200] loss: 0.630\n",
      "Epoch [158], Train Loss: 0.0518\n",
      "[159,   100] loss: 0.048\n",
      "[159,   200] loss: 0.093\n",
      "[159,   300] loss: 0.155\n",
      "[159,   400] loss: 0.208\n",
      "[159,   500] loss: 0.261\n",
      "[159,   600] loss: 0.317\n",
      "[159,   700] loss: 0.373\n",
      "[159,   800] loss: 0.425\n",
      "[159,   900] loss: 0.462\n",
      "[159,  1000] loss: 0.514\n",
      "[159,  1100] loss: 0.572\n"
     ]
    },
    {
     "name": "stderr",
     "output_type": "stream",
     "text": [
      " 80%|███████▉  | 159/200 [07:22<01:56,  2.85s/it]"
     ]
    },
    {
     "name": "stdout",
     "output_type": "stream",
     "text": [
      "[159,  1200] loss: 0.632\n",
      "Epoch [159], Train Loss: 0.0533\n",
      "[160,   100] loss: 0.045\n",
      "[160,   200] loss: 0.094\n",
      "[160,   300] loss: 0.145\n",
      "[160,   400] loss: 0.204\n",
      "[160,   500] loss: 0.258\n",
      "[160,   600] loss: 0.312\n",
      "[160,   700] loss: 0.351\n",
      "[160,   800] loss: 0.390\n",
      "[160,   900] loss: 0.447\n",
      "[160,  1000] loss: 0.496\n",
      "[160,  1100] loss: 0.572\n"
     ]
    },
    {
     "name": "stderr",
     "output_type": "stream",
     "text": [
      " 80%|████████  | 160/200 [07:25<01:53,  2.83s/it]"
     ]
    },
    {
     "name": "stdout",
     "output_type": "stream",
     "text": [
      "[160,  1200] loss: 0.614\n",
      "Epoch [160], Train Loss: 0.0503\n",
      "[161,   100] loss: 0.059\n",
      "[161,   200] loss: 0.111\n",
      "[161,   300] loss: 0.147\n",
      "[161,   400] loss: 0.202\n",
      "[161,   500] loss: 0.245\n",
      "[161,   600] loss: 0.295\n",
      "[161,   700] loss: 0.352\n",
      "[161,   800] loss: 0.401\n",
      "[161,   900] loss: 0.468\n",
      "[161,  1000] loss: 0.528\n",
      "[161,  1100] loss: 0.577\n"
     ]
    },
    {
     "name": "stderr",
     "output_type": "stream",
     "text": [
      " 80%|████████  | 161/200 [07:28<01:49,  2.81s/it]"
     ]
    },
    {
     "name": "stdout",
     "output_type": "stream",
     "text": [
      "[161,  1200] loss: 0.637\n",
      "Epoch [161], Train Loss: 0.0526\n",
      "[162,   100] loss: 0.044\n",
      "[162,   200] loss: 0.100\n",
      "[162,   300] loss: 0.146\n",
      "[162,   400] loss: 0.189\n",
      "[162,   500] loss: 0.232\n",
      "[162,   600] loss: 0.289\n",
      "[162,   700] loss: 0.346\n",
      "[162,   800] loss: 0.412\n",
      "[162,   900] loss: 0.459\n",
      "[162,  1000] loss: 0.511\n",
      "[162,  1100] loss: 0.566\n"
     ]
    },
    {
     "name": "stderr",
     "output_type": "stream",
     "text": [
      " 81%|████████  | 162/200 [07:31<01:46,  2.79s/it]"
     ]
    },
    {
     "name": "stdout",
     "output_type": "stream",
     "text": [
      "[162,  1200] loss: 0.606\n",
      "Epoch [162], Train Loss: 0.0515\n",
      "[163,   100] loss: 0.054\n",
      "[163,   200] loss: 0.092\n",
      "[163,   300] loss: 0.157\n",
      "[163,   400] loss: 0.205\n",
      "[163,   500] loss: 0.257\n",
      "[163,   600] loss: 0.304\n",
      "[163,   700] loss: 0.351\n",
      "[163,   800] loss: 0.408\n",
      "[163,   900] loss: 0.454\n",
      "[163,  1000] loss: 0.504\n",
      "[163,  1100] loss: 0.550\n",
      "[163,  1200] loss: 0.592\n"
     ]
    },
    {
     "name": "stderr",
     "output_type": "stream",
     "text": [
      " 82%|████████▏ | 163/200 [07:34<01:44,  2.82s/it]"
     ]
    },
    {
     "name": "stdout",
     "output_type": "stream",
     "text": [
      "Epoch [163], Train Loss: 0.0498\n",
      "[164,   100] loss: 0.052\n",
      "[164,   200] loss: 0.098\n",
      "[164,   300] loss: 0.142\n",
      "[164,   400] loss: 0.188\n",
      "[164,   500] loss: 0.237\n",
      "[164,   600] loss: 0.278\n",
      "[164,   700] loss: 0.317\n",
      "[164,   800] loss: 0.379\n",
      "[164,   900] loss: 0.437\n",
      "[164,  1000] loss: 0.492\n",
      "[164,  1100] loss: 0.536\n",
      "[164,  1200] loss: 0.601\n"
     ]
    },
    {
     "name": "stderr",
     "output_type": "stream",
     "text": [
      " 82%|████████▏ | 164/200 [07:36<01:41,  2.82s/it]"
     ]
    },
    {
     "name": "stdout",
     "output_type": "stream",
     "text": [
      "Epoch [164], Train Loss: 0.0497\n",
      "[165,   100] loss: 0.045\n",
      "[165,   200] loss: 0.088\n",
      "[165,   300] loss: 0.136\n",
      "[165,   400] loss: 0.196\n",
      "[165,   500] loss: 0.246\n",
      "[165,   600] loss: 0.282\n",
      "[165,   700] loss: 0.342\n",
      "[165,   800] loss: 0.393\n",
      "[165,   900] loss: 0.438\n",
      "[165,  1000] loss: 0.474\n",
      "[165,  1100] loss: 0.520\n"
     ]
    },
    {
     "name": "stderr",
     "output_type": "stream",
     "text": [
      " 82%|████████▎ | 165/200 [07:39<01:38,  2.81s/it]"
     ]
    },
    {
     "name": "stdout",
     "output_type": "stream",
     "text": [
      "[165,  1200] loss: 0.558\n",
      "Epoch [165], Train Loss: 0.0480\n",
      "[166,   100] loss: 0.034\n",
      "[166,   200] loss: 0.102\n",
      "[166,   300] loss: 0.154\n",
      "[166,   400] loss: 0.222\n",
      "[166,   500] loss: 0.277\n",
      "[166,   600] loss: 0.327\n",
      "[166,   700] loss: 0.380\n",
      "[166,   800] loss: 0.427\n",
      "[166,   900] loss: 0.493\n",
      "[166,  1000] loss: 0.529\n",
      "[166,  1100] loss: 0.583\n"
     ]
    },
    {
     "name": "stderr",
     "output_type": "stream",
     "text": [
      " 83%|████████▎ | 166/200 [07:42<01:34,  2.79s/it]"
     ]
    },
    {
     "name": "stdout",
     "output_type": "stream",
     "text": [
      "[166,  1200] loss: 0.619\n",
      "Epoch [166], Train Loss: 0.0521\n",
      "[167,   100] loss: 0.044\n",
      "[167,   200] loss: 0.093\n",
      "[167,   300] loss: 0.145\n",
      "[167,   400] loss: 0.188\n",
      "[167,   500] loss: 0.250\n",
      "[167,   600] loss: 0.310\n",
      "[167,   700] loss: 0.368\n",
      "[167,   800] loss: 0.428\n",
      "[167,   900] loss: 0.499\n",
      "[167,  1000] loss: 0.551\n",
      "[167,  1100] loss: 0.586\n",
      "[167,  1200] loss: 0.628\n"
     ]
    },
    {
     "name": "stderr",
     "output_type": "stream",
     "text": [
      " 84%|████████▎ | 167/200 [07:45<01:31,  2.78s/it]"
     ]
    },
    {
     "name": "stdout",
     "output_type": "stream",
     "text": [
      "Epoch [167], Train Loss: 0.0535\n",
      "[168,   100] loss: 0.044\n",
      "[168,   200] loss: 0.092\n",
      "[168,   300] loss: 0.137\n",
      "[168,   400] loss: 0.186\n",
      "[168,   500] loss: 0.244\n",
      "[168,   600] loss: 0.289\n",
      "[168,   700] loss: 0.334\n",
      "[168,   800] loss: 0.392\n",
      "[168,   900] loss: 0.434\n",
      "[168,  1000] loss: 0.482\n",
      "[168,  1100] loss: 0.555\n"
     ]
    },
    {
     "name": "stderr",
     "output_type": "stream",
     "text": [
      " 84%|████████▍ | 168/200 [07:48<01:28,  2.78s/it]"
     ]
    },
    {
     "name": "stdout",
     "output_type": "stream",
     "text": [
      "[168,  1200] loss: 0.610\n",
      "Epoch [168], Train Loss: 0.0512\n",
      "[169,   100] loss: 0.037\n",
      "[169,   200] loss: 0.081\n",
      "[169,   300] loss: 0.133\n",
      "[169,   400] loss: 0.183\n",
      "[169,   500] loss: 0.230\n",
      "[169,   600] loss: 0.280\n",
      "[169,   700] loss: 0.343\n",
      "[169,   800] loss: 0.410\n",
      "[169,   900] loss: 0.457\n",
      "[169,  1000] loss: 0.510\n",
      "[169,  1100] loss: 0.563\n"
     ]
    },
    {
     "name": "stderr",
     "output_type": "stream",
     "text": [
      " 84%|████████▍ | 169/200 [07:50<01:25,  2.77s/it]"
     ]
    },
    {
     "name": "stdout",
     "output_type": "stream",
     "text": [
      "[169,  1200] loss: 0.624\n",
      "Epoch [169], Train Loss: 0.0513\n",
      "[170,   100] loss: 0.058\n",
      "[170,   200] loss: 0.113\n",
      "[170,   300] loss: 0.148\n",
      "[170,   400] loss: 0.192\n",
      "[170,   500] loss: 0.237\n",
      "[170,   600] loss: 0.304\n",
      "[170,   700] loss: 0.354\n",
      "[170,   800] loss: 0.398\n",
      "[170,   900] loss: 0.450\n",
      "[170,  1000] loss: 0.510\n",
      "[170,  1100] loss: 0.541\n"
     ]
    },
    {
     "name": "stderr",
     "output_type": "stream",
     "text": [
      " 85%|████████▌ | 170/200 [07:53<01:23,  2.77s/it]"
     ]
    },
    {
     "name": "stdout",
     "output_type": "stream",
     "text": [
      "[170,  1200] loss: 0.590\n",
      "Epoch [170], Train Loss: 0.0503\n",
      "[171,   100] loss: 0.048\n",
      "[171,   200] loss: 0.104\n",
      "[171,   300] loss: 0.158\n",
      "[171,   400] loss: 0.223\n",
      "[171,   500] loss: 0.272\n",
      "[171,   600] loss: 0.327\n",
      "[171,   700] loss: 0.381\n",
      "[171,   800] loss: 0.423\n",
      "[171,   900] loss: 0.470\n",
      "[171,  1000] loss: 0.515\n",
      "[171,  1100] loss: 0.572\n",
      "[171,  1200] loss: 0.619\n"
     ]
    },
    {
     "name": "stderr",
     "output_type": "stream",
     "text": [
      " 86%|████████▌ | 171/200 [07:56<01:21,  2.80s/it]"
     ]
    },
    {
     "name": "stdout",
     "output_type": "stream",
     "text": [
      "Epoch [171], Train Loss: 0.0520\n",
      "[172,   100] loss: 0.056\n",
      "[172,   200] loss: 0.111\n",
      "[172,   300] loss: 0.170\n",
      "[172,   400] loss: 0.222\n",
      "[172,   500] loss: 0.268\n",
      "[172,   600] loss: 0.303\n",
      "[172,   700] loss: 0.359\n",
      "[172,   800] loss: 0.397\n",
      "[172,   900] loss: 0.452\n",
      "[172,  1000] loss: 0.498\n",
      "[172,  1100] loss: 0.565\n",
      "[172,  1200] loss: 0.616\n"
     ]
    },
    {
     "name": "stderr",
     "output_type": "stream",
     "text": [
      " 86%|████████▌ | 172/200 [07:59<01:17,  2.79s/it]"
     ]
    },
    {
     "name": "stdout",
     "output_type": "stream",
     "text": [
      "Epoch [172], Train Loss: 0.0517\n",
      "[173,   100] loss: 0.037\n",
      "[173,   200] loss: 0.087\n",
      "[173,   300] loss: 0.156\n",
      "[173,   400] loss: 0.220\n",
      "[173,   500] loss: 0.259\n",
      "[173,   600] loss: 0.300\n",
      "[173,   700] loss: 0.333\n",
      "[173,   800] loss: 0.390\n",
      "[173,   900] loss: 0.437\n",
      "[173,  1000] loss: 0.491\n",
      "[173,  1100] loss: 0.541\n",
      "[173,  1200] loss: 0.597\n"
     ]
    },
    {
     "name": "stderr",
     "output_type": "stream",
     "text": [
      " 86%|████████▋ | 173/200 [08:01<01:15,  2.78s/it]"
     ]
    },
    {
     "name": "stdout",
     "output_type": "stream",
     "text": [
      "Epoch [173], Train Loss: 0.0502\n",
      "[174,   100] loss: 0.039\n",
      "[174,   200] loss: 0.086\n",
      "[174,   300] loss: 0.124\n",
      "[174,   400] loss: 0.178\n",
      "[174,   500] loss: 0.227\n",
      "[174,   600] loss: 0.281\n",
      "[174,   700] loss: 0.331\n",
      "[174,   800] loss: 0.383\n",
      "[174,   900] loss: 0.446\n",
      "[174,  1000] loss: 0.496\n",
      "[174,  1100] loss: 0.544\n",
      "[174,  1200] loss: 0.602\n"
     ]
    },
    {
     "name": "stderr",
     "output_type": "stream",
     "text": [
      " 87%|████████▋ | 174/200 [08:04<01:12,  2.78s/it]"
     ]
    },
    {
     "name": "stdout",
     "output_type": "stream",
     "text": [
      "Epoch [174], Train Loss: 0.0517\n",
      "[175,   100] loss: 0.052\n",
      "[175,   200] loss: 0.088\n",
      "[175,   300] loss: 0.126\n",
      "[175,   400] loss: 0.179\n",
      "[175,   500] loss: 0.237\n",
      "[175,   600] loss: 0.284\n",
      "[175,   700] loss: 0.332\n",
      "[175,   800] loss: 0.378\n",
      "[175,   900] loss: 0.449\n",
      "[175,  1000] loss: 0.501\n",
      "[175,  1100] loss: 0.549\n"
     ]
    },
    {
     "name": "stderr",
     "output_type": "stream",
     "text": [
      " 88%|████████▊ | 175/200 [08:07<01:09,  2.78s/it]"
     ]
    },
    {
     "name": "stdout",
     "output_type": "stream",
     "text": [
      "[175,  1200] loss: 0.595\n",
      "Epoch [175], Train Loss: 0.0496\n",
      "[176,   100] loss: 0.048\n",
      "[176,   200] loss: 0.095\n",
      "[176,   300] loss: 0.152\n",
      "[176,   400] loss: 0.200\n",
      "[176,   500] loss: 0.246\n",
      "[176,   600] loss: 0.295\n",
      "[176,   700] loss: 0.337\n",
      "[176,   800] loss: 0.401\n",
      "[176,   900] loss: 0.458\n",
      "[176,  1000] loss: 0.494\n",
      "[176,  1100] loss: 0.550\n",
      "[176,  1200] loss: 0.611\n"
     ]
    },
    {
     "name": "stderr",
     "output_type": "stream",
     "text": [
      " 88%|████████▊ | 176/200 [08:10<01:06,  2.78s/it]"
     ]
    },
    {
     "name": "stdout",
     "output_type": "stream",
     "text": [
      "Epoch [176], Train Loss: 0.0511\n",
      "[177,   100] loss: 0.051\n",
      "[177,   200] loss: 0.095\n",
      "[177,   300] loss: 0.140\n",
      "[177,   400] loss: 0.190\n",
      "[177,   500] loss: 0.239\n",
      "[177,   600] loss: 0.294\n",
      "[177,   700] loss: 0.353\n",
      "[177,   800] loss: 0.400\n",
      "[177,   900] loss: 0.458\n",
      "[177,  1000] loss: 0.511\n",
      "[177,  1100] loss: 0.558\n"
     ]
    },
    {
     "name": "stderr",
     "output_type": "stream",
     "text": [
      " 88%|████████▊ | 177/200 [08:13<01:04,  2.81s/it]"
     ]
    },
    {
     "name": "stdout",
     "output_type": "stream",
     "text": [
      "[177,  1200] loss: 0.599\n",
      "Epoch [177], Train Loss: 0.0499\n",
      "[178,   100] loss: 0.055\n",
      "[178,   200] loss: 0.110\n",
      "[178,   300] loss: 0.161\n",
      "[178,   400] loss: 0.210\n",
      "[178,   500] loss: 0.266\n",
      "[178,   600] loss: 0.322\n",
      "[178,   700] loss: 0.370\n",
      "[178,   800] loss: 0.414\n",
      "[178,   900] loss: 0.465\n",
      "[178,  1000] loss: 0.508\n",
      "[178,  1100] loss: 0.557\n"
     ]
    },
    {
     "name": "stderr",
     "output_type": "stream",
     "text": [
      " 89%|████████▉ | 178/200 [08:15<01:01,  2.80s/it]"
     ]
    },
    {
     "name": "stdout",
     "output_type": "stream",
     "text": [
      "[178,  1200] loss: 0.611\n",
      "Epoch [178], Train Loss: 0.0502\n",
      "[179,   100] loss: 0.053\n",
      "[179,   200] loss: 0.099\n",
      "[179,   300] loss: 0.147\n",
      "[179,   400] loss: 0.179\n",
      "[179,   500] loss: 0.238\n",
      "[179,   600] loss: 0.286\n",
      "[179,   700] loss: 0.331\n",
      "[179,   800] loss: 0.376\n",
      "[179,   900] loss: 0.423\n",
      "[179,  1000] loss: 0.496\n",
      "[179,  1100] loss: 0.536\n"
     ]
    },
    {
     "name": "stderr",
     "output_type": "stream",
     "text": [
      " 90%|████████▉ | 179/200 [08:18<00:58,  2.78s/it]"
     ]
    },
    {
     "name": "stdout",
     "output_type": "stream",
     "text": [
      "[179,  1200] loss: 0.588\n",
      "Epoch [179], Train Loss: 0.0496\n",
      "[180,   100] loss: 0.044\n",
      "[180,   200] loss: 0.085\n",
      "[180,   300] loss: 0.132\n",
      "[180,   400] loss: 0.169\n",
      "[180,   500] loss: 0.219\n",
      "[180,   600] loss: 0.277\n",
      "[180,   700] loss: 0.326\n",
      "[180,   800] loss: 0.390\n",
      "[180,   900] loss: 0.441\n",
      "[180,  1000] loss: 0.486\n",
      "[180,  1100] loss: 0.530\n"
     ]
    },
    {
     "name": "stderr",
     "output_type": "stream",
     "text": [
      " 90%|█████████ | 180/200 [08:21<00:55,  2.78s/it]"
     ]
    },
    {
     "name": "stdout",
     "output_type": "stream",
     "text": [
      "[180,  1200] loss: 0.587\n",
      "Epoch [180], Train Loss: 0.0506\n",
      "[181,   100] loss: 0.061\n",
      "[181,   200] loss: 0.113\n",
      "[181,   300] loss: 0.183\n",
      "[181,   400] loss: 0.234\n",
      "[181,   500] loss: 0.277\n",
      "[181,   600] loss: 0.333\n",
      "[181,   700] loss: 0.367\n",
      "[181,   800] loss: 0.425\n",
      "[181,   900] loss: 0.490\n",
      "[181,  1000] loss: 0.529\n",
      "[181,  1100] loss: 0.578\n"
     ]
    },
    {
     "name": "stderr",
     "output_type": "stream",
     "text": [
      " 90%|█████████ | 181/200 [08:24<00:52,  2.78s/it]"
     ]
    },
    {
     "name": "stdout",
     "output_type": "stream",
     "text": [
      "[181,  1200] loss: 0.625\n",
      "Epoch [181], Train Loss: 0.0511\n",
      "[182,   100] loss: 0.045\n",
      "[182,   200] loss: 0.110\n",
      "[182,   300] loss: 0.157\n",
      "[182,   400] loss: 0.217\n",
      "[182,   500] loss: 0.273\n",
      "[182,   600] loss: 0.323\n",
      "[182,   700] loss: 0.364\n",
      "[182,   800] loss: 0.406\n",
      "[182,   900] loss: 0.453\n",
      "[182,  1000] loss: 0.506\n",
      "[182,  1100] loss: 0.555\n",
      "[182,  1200] loss: 0.599\n"
     ]
    },
    {
     "name": "stderr",
     "output_type": "stream",
     "text": [
      " 91%|█████████ | 182/200 [08:27<00:50,  2.79s/it]"
     ]
    },
    {
     "name": "stdout",
     "output_type": "stream",
     "text": [
      "Epoch [182], Train Loss: 0.0495\n",
      "[183,   100] loss: 0.037\n",
      "[183,   200] loss: 0.091\n",
      "[183,   300] loss: 0.141\n",
      "[183,   400] loss: 0.191\n",
      "[183,   500] loss: 0.235\n",
      "[183,   600] loss: 0.279\n",
      "[183,   700] loss: 0.329\n",
      "[183,   800] loss: 0.377\n",
      "[183,   900] loss: 0.431\n",
      "[183,  1000] loss: 0.472\n",
      "[183,  1100] loss: 0.530\n"
     ]
    },
    {
     "name": "stderr",
     "output_type": "stream",
     "text": [
      " 92%|█████████▏| 183/200 [08:29<00:47,  2.78s/it]"
     ]
    },
    {
     "name": "stdout",
     "output_type": "stream",
     "text": [
      "[183,  1200] loss: 0.593\n",
      "Epoch [183], Train Loss: 0.0495\n",
      "[184,   100] loss: 0.057\n",
      "[184,   200] loss: 0.107\n",
      "[184,   300] loss: 0.158\n",
      "[184,   400] loss: 0.203\n",
      "[184,   500] loss: 0.243\n",
      "[184,   600] loss: 0.291\n",
      "[184,   700] loss: 0.353\n",
      "[184,   800] loss: 0.401\n",
      "[184,   900] loss: 0.453\n",
      "[184,  1000] loss: 0.501\n",
      "[184,  1100] loss: 0.553\n"
     ]
    },
    {
     "name": "stderr",
     "output_type": "stream",
     "text": [
      " 92%|█████████▏| 184/200 [08:32<00:44,  2.79s/it]"
     ]
    },
    {
     "name": "stdout",
     "output_type": "stream",
     "text": [
      "[184,  1200] loss: 0.594\n",
      "Epoch [184], Train Loss: 0.0501\n",
      "[185,   100] loss: 0.050\n",
      "[185,   200] loss: 0.116\n",
      "[185,   300] loss: 0.163\n",
      "[185,   400] loss: 0.217\n",
      "[185,   500] loss: 0.267\n",
      "[185,   600] loss: 0.316\n",
      "[185,   700] loss: 0.351\n",
      "[185,   800] loss: 0.401\n",
      "[185,   900] loss: 0.442\n",
      "[185,  1000] loss: 0.502\n",
      "[185,  1100] loss: 0.551\n",
      "[185,  1200] loss: 0.608\n"
     ]
    },
    {
     "name": "stderr",
     "output_type": "stream",
     "text": [
      " 92%|█████████▎| 185/200 [08:35<00:41,  2.79s/it]"
     ]
    },
    {
     "name": "stdout",
     "output_type": "stream",
     "text": [
      "Epoch [185], Train Loss: 0.0505\n",
      "[186,   100] loss: 0.055\n",
      "[186,   200] loss: 0.101\n",
      "[186,   300] loss: 0.145\n",
      "[186,   400] loss: 0.205\n",
      "[186,   500] loss: 0.256\n",
      "[186,   600] loss: 0.314\n",
      "[186,   700] loss: 0.351\n",
      "[186,   800] loss: 0.409\n",
      "[186,   900] loss: 0.455\n",
      "[186,  1000] loss: 0.512\n",
      "[186,  1100] loss: 0.553\n"
     ]
    },
    {
     "name": "stderr",
     "output_type": "stream",
     "text": [
      " 93%|█████████▎| 186/200 [08:38<00:38,  2.78s/it]"
     ]
    },
    {
     "name": "stdout",
     "output_type": "stream",
     "text": [
      "[186,  1200] loss: 0.601\n",
      "Epoch [186], Train Loss: 0.0500\n",
      "[187,   100] loss: 0.033\n",
      "[187,   200] loss: 0.080\n",
      "[187,   300] loss: 0.130\n",
      "[187,   400] loss: 0.173\n",
      "[187,   500] loss: 0.214\n",
      "[187,   600] loss: 0.276\n",
      "[187,   700] loss: 0.329\n",
      "[187,   800] loss: 0.370\n",
      "[187,   900] loss: 0.422\n",
      "[187,  1000] loss: 0.501\n",
      "[187,  1100] loss: 0.543\n"
     ]
    },
    {
     "name": "stderr",
     "output_type": "stream",
     "text": [
      " 94%|█████████▎| 187/200 [08:40<00:36,  2.77s/it]"
     ]
    },
    {
     "name": "stdout",
     "output_type": "stream",
     "text": [
      "[187,  1200] loss: 0.586\n",
      "Epoch [187], Train Loss: 0.0498\n",
      "[188,   100] loss: 0.052\n",
      "[188,   200] loss: 0.098\n",
      "[188,   300] loss: 0.155\n",
      "[188,   400] loss: 0.190\n",
      "[188,   500] loss: 0.235\n",
      "[188,   600] loss: 0.287\n",
      "[188,   700] loss: 0.348\n",
      "[188,   800] loss: 0.392\n",
      "[188,   900] loss: 0.449\n",
      "[188,  1000] loss: 0.509\n",
      "[188,  1100] loss: 0.556\n"
     ]
    },
    {
     "name": "stderr",
     "output_type": "stream",
     "text": [
      " 94%|█████████▍| 188/200 [08:43<00:33,  2.78s/it]"
     ]
    },
    {
     "name": "stdout",
     "output_type": "stream",
     "text": [
      "[188,  1200] loss: 0.608\n",
      "Epoch [188], Train Loss: 0.0508\n",
      "[189,   100] loss: 0.051\n",
      "[189,   200] loss: 0.099\n",
      "[189,   300] loss: 0.160\n",
      "[189,   400] loss: 0.203\n",
      "[189,   500] loss: 0.259\n",
      "[189,   600] loss: 0.328\n",
      "[189,   700] loss: 0.371\n",
      "[189,   800] loss: 0.409\n",
      "[189,   900] loss: 0.461\n",
      "[189,  1000] loss: 0.507\n",
      "[189,  1100] loss: 0.557\n"
     ]
    },
    {
     "name": "stderr",
     "output_type": "stream",
     "text": [
      " 94%|█████████▍| 189/200 [08:46<00:30,  2.78s/it]"
     ]
    },
    {
     "name": "stdout",
     "output_type": "stream",
     "text": [
      "[189,  1200] loss: 0.602\n",
      "Epoch [189], Train Loss: 0.0504\n",
      "[190,   100] loss: 0.073\n",
      "[190,   200] loss: 0.124\n",
      "[190,   300] loss: 0.175\n",
      "[190,   400] loss: 0.216\n",
      "[190,   500] loss: 0.259\n",
      "[190,   600] loss: 0.307\n",
      "[190,   700] loss: 0.347\n",
      "[190,   800] loss: 0.406\n",
      "[190,   900] loss: 0.452\n",
      "[190,  1000] loss: 0.491\n",
      "[190,  1100] loss: 0.537\n"
     ]
    },
    {
     "name": "stderr",
     "output_type": "stream",
     "text": [
      " 95%|█████████▌| 190/200 [08:49<00:27,  2.77s/it]"
     ]
    },
    {
     "name": "stdout",
     "output_type": "stream",
     "text": [
      "[190,  1200] loss: 0.598\n",
      "Epoch [190], Train Loss: 0.0504\n",
      "[191,   100] loss: 0.047\n",
      "[191,   200] loss: 0.109\n",
      "[191,   300] loss: 0.145\n",
      "[191,   400] loss: 0.197\n",
      "[191,   500] loss: 0.237\n",
      "[191,   600] loss: 0.279\n",
      "[191,   700] loss: 0.328\n",
      "[191,   800] loss: 0.374\n",
      "[191,   900] loss: 0.444\n",
      "[191,  1000] loss: 0.486\n",
      "[191,  1100] loss: 0.546\n"
     ]
    },
    {
     "name": "stderr",
     "output_type": "stream",
     "text": [
      " 96%|█████████▌| 191/200 [08:51<00:24,  2.76s/it]"
     ]
    },
    {
     "name": "stdout",
     "output_type": "stream",
     "text": [
      "[191,  1200] loss: 0.599\n",
      "Epoch [191], Train Loss: 0.0498\n",
      "[192,   100] loss: 0.050\n",
      "[192,   200] loss: 0.103\n",
      "[192,   300] loss: 0.146\n",
      "[192,   400] loss: 0.206\n",
      "[192,   500] loss: 0.259\n",
      "[192,   600] loss: 0.301\n",
      "[192,   700] loss: 0.360\n",
      "[192,   800] loss: 0.412\n",
      "[192,   900] loss: 0.456\n",
      "[192,  1000] loss: 0.515\n",
      "[192,  1100] loss: 0.570\n"
     ]
    },
    {
     "name": "stderr",
     "output_type": "stream",
     "text": [
      " 96%|█████████▌| 192/200 [08:54<00:22,  2.76s/it]"
     ]
    },
    {
     "name": "stdout",
     "output_type": "stream",
     "text": [
      "[192,  1200] loss: 0.621\n",
      "Epoch [192], Train Loss: 0.0507\n",
      "[193,   100] loss: 0.066\n",
      "[193,   200] loss: 0.130\n",
      "[193,   300] loss: 0.183\n",
      "[193,   400] loss: 0.222\n",
      "[193,   500] loss: 0.273\n",
      "[193,   600] loss: 0.317\n",
      "[193,   700] loss: 0.363\n",
      "[193,   800] loss: 0.404\n",
      "[193,   900] loss: 0.453\n",
      "[193,  1000] loss: 0.500\n",
      "[193,  1100] loss: 0.547\n"
     ]
    },
    {
     "name": "stderr",
     "output_type": "stream",
     "text": [
      " 96%|█████████▋| 193/200 [08:57<00:19,  2.75s/it]"
     ]
    },
    {
     "name": "stdout",
     "output_type": "stream",
     "text": [
      "[193,  1200] loss: 0.594\n",
      "Epoch [193], Train Loss: 0.0490\n",
      "[194,   100] loss: 0.051\n",
      "[194,   200] loss: 0.098\n",
      "[194,   300] loss: 0.154\n",
      "[194,   400] loss: 0.204\n",
      "[194,   500] loss: 0.249\n",
      "[194,   600] loss: 0.283\n",
      "[194,   700] loss: 0.323\n",
      "[194,   800] loss: 0.391\n",
      "[194,   900] loss: 0.449\n",
      "[194,  1000] loss: 0.496\n",
      "[194,  1100] loss: 0.539\n"
     ]
    },
    {
     "name": "stderr",
     "output_type": "stream",
     "text": [
      " 97%|█████████▋| 194/200 [09:00<00:16,  2.75s/it]"
     ]
    },
    {
     "name": "stdout",
     "output_type": "stream",
     "text": [
      "[194,  1200] loss: 0.606\n",
      "Epoch [194], Train Loss: 0.0505\n",
      "[195,   100] loss: 0.054\n",
      "[195,   200] loss: 0.093\n",
      "[195,   300] loss: 0.125\n",
      "[195,   400] loss: 0.189\n",
      "[195,   500] loss: 0.241\n",
      "[195,   600] loss: 0.270\n",
      "[195,   700] loss: 0.327\n",
      "[195,   800] loss: 0.375\n",
      "[195,   900] loss: 0.428\n",
      "[195,  1000] loss: 0.483\n",
      "[195,  1100] loss: 0.519\n"
     ]
    },
    {
     "name": "stderr",
     "output_type": "stream",
     "text": [
      " 98%|█████████▊| 195/200 [09:02<00:13,  2.75s/it]"
     ]
    },
    {
     "name": "stdout",
     "output_type": "stream",
     "text": [
      "[195,  1200] loss: 0.569\n",
      "Epoch [195], Train Loss: 0.0484\n",
      "[196,   100] loss: 0.043\n",
      "[196,   200] loss: 0.088\n",
      "[196,   300] loss: 0.137\n",
      "[196,   400] loss: 0.178\n",
      "[196,   500] loss: 0.230\n",
      "[196,   600] loss: 0.282\n",
      "[196,   700] loss: 0.340\n",
      "[196,   800] loss: 0.396\n",
      "[196,   900] loss: 0.440\n",
      "[196,  1000] loss: 0.482\n",
      "[196,  1100] loss: 0.526\n",
      "[196,  1200] loss: 0.570\n"
     ]
    },
    {
     "name": "stderr",
     "output_type": "stream",
     "text": [
      " 98%|█████████▊| 196/200 [09:05<00:11,  2.77s/it]"
     ]
    },
    {
     "name": "stdout",
     "output_type": "stream",
     "text": [
      "Epoch [196], Train Loss: 0.0478\n",
      "[197,   100] loss: 0.057\n",
      "[197,   200] loss: 0.109\n",
      "[197,   300] loss: 0.144\n",
      "[197,   400] loss: 0.199\n",
      "[197,   500] loss: 0.252\n",
      "[197,   600] loss: 0.316\n",
      "[197,   700] loss: 0.365\n",
      "[197,   800] loss: 0.418\n",
      "[197,   900] loss: 0.459\n",
      "[197,  1000] loss: 0.501\n",
      "[197,  1100] loss: 0.545\n",
      "[197,  1200] loss: 0.590\n"
     ]
    },
    {
     "name": "stderr",
     "output_type": "stream",
     "text": [
      " 98%|█████████▊| 197/200 [09:08<00:08,  2.80s/it]"
     ]
    },
    {
     "name": "stdout",
     "output_type": "stream",
     "text": [
      "Epoch [197], Train Loss: 0.0501\n",
      "[198,   100] loss: 0.066\n",
      "[198,   200] loss: 0.113\n",
      "[198,   300] loss: 0.155\n",
      "[198,   400] loss: 0.215\n",
      "[198,   500] loss: 0.259\n",
      "[198,   600] loss: 0.295\n",
      "[198,   700] loss: 0.343\n",
      "[198,   800] loss: 0.404\n",
      "[198,   900] loss: 0.452\n",
      "[198,  1000] loss: 0.510\n",
      "[198,  1100] loss: 0.550\n"
     ]
    },
    {
     "name": "stderr",
     "output_type": "stream",
     "text": [
      " 99%|█████████▉| 198/200 [09:11<00:05,  2.79s/it]"
     ]
    },
    {
     "name": "stdout",
     "output_type": "stream",
     "text": [
      "[198,  1200] loss: 0.584\n",
      "Epoch [198], Train Loss: 0.0485\n",
      "[199,   100] loss: 0.054\n",
      "[199,   200] loss: 0.100\n",
      "[199,   300] loss: 0.157\n",
      "[199,   400] loss: 0.213\n",
      "[199,   500] loss: 0.267\n",
      "[199,   600] loss: 0.314\n",
      "[199,   700] loss: 0.373\n",
      "[199,   800] loss: 0.421\n",
      "[199,   900] loss: 0.459\n",
      "[199,  1000] loss: 0.513\n",
      "[199,  1100] loss: 0.557\n"
     ]
    },
    {
     "name": "stderr",
     "output_type": "stream",
     "text": [
      "100%|█████████▉| 199/200 [09:14<00:02,  2.79s/it]"
     ]
    },
    {
     "name": "stdout",
     "output_type": "stream",
     "text": [
      "[199,  1200] loss: 0.601\n",
      "Epoch [199], Train Loss: 0.0514\n",
      "[200,   100] loss: 0.045\n",
      "[200,   200] loss: 0.089\n",
      "[200,   300] loss: 0.124\n",
      "[200,   400] loss: 0.170\n",
      "[200,   500] loss: 0.209\n",
      "[200,   600] loss: 0.264\n",
      "[200,   700] loss: 0.310\n",
      "[200,   800] loss: 0.357\n",
      "[200,   900] loss: 0.405\n",
      "[200,  1000] loss: 0.449\n",
      "[200,  1100] loss: 0.496\n"
     ]
    },
    {
     "name": "stderr",
     "output_type": "stream",
     "text": [
      "100%|██████████| 200/200 [09:16<00:00,  2.78s/it]"
     ]
    },
    {
     "name": "stdout",
     "output_type": "stream",
     "text": [
      "[200,  1200] loss: 0.541\n",
      "Epoch [200], Train Loss: 0.0451\n"
     ]
    },
    {
     "name": "stderr",
     "output_type": "stream",
     "text": [
      "\n"
     ]
    }
   ],
   "source": [
    "EPOCH = 200\n",
    "criterion = nn.MSELoss()\n",
    "\n",
    "for ep in tqdm(range(EPOCH)):\n",
    "\n",
    "    model.train()\n",
    "    running_loss = 0.0\n",
    "    for i, (inputs, targets) in enumerate(train_loader):\n",
    "        inputs, targets = inputs.to(DEVICE), targets.to(DEVICE)\n",
    "        \n",
    "        # zero the parameter gradients\n",
    "        optimizer.zero_grad()\n",
    "\n",
    "        # forward + backward + optimize\n",
    "        outputs = model(inputs)\n",
    "\n",
    "        loss = criterion(outputs, targets)\n",
    "        \n",
    "        loss.backward()\n",
    "\n",
    "        optimizer.step()\n",
    "\n",
    "        # print statistics\n",
    "        running_loss += loss.item() * inputs.size(0)\n",
    "        if i % 100 == 99:    # print every 100 mini-batches\n",
    "            print(f'[{ep + 1}, {i + 1:5d}] loss: {running_loss / 100:.3f}')\n",
    "\n",
    "\n",
    "    train_loss = running_loss  / len(train_loader.dataset)\n",
    "    print(f'Epoch [{ep+1}], Train Loss: {train_loss:.4f}')\n",
    "\n",
    "# save the best model\n",
    "torch.save(model.state_dict(), MODEL_PATH)"
   ]
  },
  {
   "cell_type": "code",
   "execution_count": 285,
   "metadata": {},
   "outputs": [],
   "source": [
    "torch.cuda.empty_cache()"
   ]
  },
  {
   "cell_type": "code",
   "execution_count": 287,
   "metadata": {},
   "outputs": [
    {
     "name": "stdout",
     "output_type": "stream",
     "text": [
      "Training average mean absolute error: 0.18328002095222473\n",
      "Training average mean absolute percentage error: 400.52638053894043\n",
      "Training average root mean squared error: 0.24551226020856826\n",
      "Training average R2: 0.473771870136261\n"
     ]
    }
   ],
   "source": [
    "# Testing phase\n",
    "model.eval()\n",
    "test_loss = 0.0\n",
    "\n",
    "with torch.no_grad():\n",
    "    for inputs, targets in test_loader:\n",
    "        # inputs, labels = inputs.to(DEVICE), labels.to(DEVICE)\n",
    "        \n",
    "        if isinstance(model, nn.DataParallel):\n",
    "            model = model.module  # Unwrap from DataParallel\n",
    "        model = model.to('cpu')\n",
    "        \n",
    "        outputs = model(inputs)\n",
    "\n",
    "        # save metrics\n",
    "        mae, mape, rmse, rsqr = calculate_metric(outputs.numpy(), targets.numpy())\n",
    "        print(f\"Training average mean absolute error: {mae}\")\n",
    "        print(f\"Training average mean absolute percentage error: {mape}\")\n",
    "        print(f\"Training average root mean squared error: {rmse}\")\n",
    "        print(f\"Training average R2: {rsqr}\")"
   ]
  },
  {
   "cell_type": "code",
   "execution_count": 288,
   "metadata": {},
   "outputs": [],
   "source": [
    "# let’s load back in our saved model\n",
    "# model = MLP()\n",
    "# model.load_state_dict(torch.load(MODEL_PATH))"
   ]
  },
  {
   "cell_type": "markdown",
   "metadata": {},
   "source": [
    "RUN 5-fold"
   ]
  },
  {
   "cell_type": "code",
   "execution_count": 305,
   "metadata": {},
   "outputs": [],
   "source": [
    "torch.cuda.empty_cache()"
   ]
  },
  {
   "cell_type": "code",
   "execution_count": 294,
   "metadata": {},
   "outputs": [
    {
     "data": {
      "text/plain": [
       "array([[ 0.0765418 , -0.6170648 , -0.54855525, ..., -0.25331536,\n",
       "        -0.20173293,  0.32425982],\n",
       "       [-0.42837855,  0.5031553 ,  0.8686651 , ..., -0.25331536,\n",
       "        -0.20173293,  0.32425982],\n",
       "       [ 1.2546893 ,  0.31953788,  0.73418504, ..., -0.25331536,\n",
       "        -0.20173293,  0.32425982],\n",
       "       ...,\n",
       "       [ 0.05971107,  1.0929172 ,  0.8371482 , ..., -0.25331536,\n",
       "        -0.20173293,  0.32425982],\n",
       "       [-2.2797532 , -0.02818421, -0.5013583 , ..., -0.25331536,\n",
       "        -0.20173293,  0.32425982],\n",
       "       [ 1.591303  , -0.22871129, -0.3548853 , ..., -0.25331536,\n",
       "        -0.20173293,  0.32425982]], dtype=float32)"
      ]
     },
     "execution_count": 294,
     "metadata": {},
     "output_type": "execute_result"
    }
   ],
   "source": [
    "features = np.concatenate([train_features_np, test_features_np], axis=0)\n",
    "features"
   ]
  },
  {
   "cell_type": "code",
   "execution_count": 340,
   "metadata": {},
   "outputs": [
    {
     "data": {
      "text/plain": [
       "0       0.082481\n",
       "1       0.378845\n",
       "2       0.836149\n",
       "3       0.987208\n",
       "4       1.021458\n",
       "          ...   \n",
       "1720    0.471411\n",
       "1721    0.823750\n",
       "1722    0.241612\n",
       "1723    0.762054\n",
       "1724    0.199981\n",
       "Name: rr1_30, Length: 1725, dtype: float64"
      ]
     },
     "execution_count": 340,
     "metadata": {},
     "output_type": "execute_result"
    }
   ],
   "source": [
    "labels = pd.concat([train_labels, test_labels], axis=0, ignore_index=True)\n",
    "labels"
   ]
  },
  {
   "cell_type": "code",
   "execution_count": 295,
   "metadata": {},
   "outputs": [
    {
     "data": {
      "text/plain": [
       "(1725, 8601)"
      ]
     },
     "execution_count": 295,
     "metadata": {},
     "output_type": "execute_result"
    }
   ],
   "source": [
    "features.shape"
   ]
  },
  {
   "cell_type": "code",
   "execution_count": 342,
   "metadata": {},
   "outputs": [
    {
     "data": {
      "text/plain": [
       "(1725,)"
      ]
     },
     "execution_count": 342,
     "metadata": {},
     "output_type": "execute_result"
    }
   ],
   "source": [
    "labels.shape"
   ]
  },
  {
   "cell_type": "code",
   "execution_count": 344,
   "metadata": {},
   "outputs": [],
   "source": [
    "DEVICE = \"cpu\""
   ]
  },
  {
   "cell_type": "code",
   "execution_count": 347,
   "metadata": {},
   "outputs": [
    {
     "name": "stdout",
     "output_type": "stream",
     "text": [
      "Epoch [200], Train Loss: 7334.2948\n",
      "Epoch [200], Train Loss: 7288.8388\n",
      "Epoch [200], Train Loss: 7247.8600\n",
      "Epoch [200], Train Loss: 7344.0239\n",
      "Epoch [200], Train Loss: 7367.6819\n"
     ]
    }
   ],
   "source": [
    "# Define cross-validation setup\n",
    "kf = KFold(n_splits=5, shuffle=True, random_state=42)\n",
    "EPOCHS = 300\n",
    "val_mae = []\n",
    "val_mape = []\n",
    "val_rmse = []\n",
    "val_rsqr = []\n",
    "\n",
    "\n",
    "for train_idx, val_idx in kf.split(features):\n",
    "    # Create training and validation datasets for the current fold\n",
    "    X_train_fold, X_val_fold = features[train_idx], features[val_idx]\n",
    "    y_train_fold, y_val_fold = labels.iloc[train_idx], labels.iloc[val_idx]\n",
    "    \n",
    "    # scaling features\n",
    "    X_train_fold[:,:len(non_category_features)] = scaler.fit_transform(X_train_fold[:,:len(non_category_features)])\n",
    "    X_val_fold[:,:len(non_category_features)] = scaler.transform(X_val_fold[:,:len(non_category_features)])\n",
    "        \n",
    "    # Initialize the model for this fold\n",
    "    model = MLP(d_in=X_train_fold.shape[1], d_layers=MODEL_CONFIG[\"linear\"], dropout=MODEL_CONFIG[\"dropout\"], d_out=1, activation_name=MODEL_CONFIG[\"activation_name\"], negative_slope=MODEL_CONFIG['negative_slope'])\n",
    "    # model = nn.DataParallel(model, device_ids = DEVICE_LIST)\n",
    "    model.to(DEVICE)\n",
    "    \n",
    "    # define optimizer\n",
    "    optimizer = getattr(optim, MODEL_CONFIG[\"optimizer\"][\"optimizer\"])(model.parameters(), **optim_config)\n",
    "    \n",
    "    # Define the loss function and optimizer\n",
    "    criterion = nn.MSELoss()\n",
    "    \n",
    "    # Prepare DataLoader for training\n",
    "    train_dataset = CustomDataset(X_train_fold, y_train_fold.to_numpy())\n",
    "    val_dataset = CustomDataset(X_val_fold, y_val_fold.to_numpy())\n",
    "    train_loader = DataLoader(train_dataset, batch_size=BATCH_SIZE, shuffle=True)\n",
    "    val_loader = DataLoader(val_dataset, batch_size=val_dataset.features.shape[0], shuffle=True)\n",
    "        \n",
    "    # Training of the model.\n",
    "    model.train()\n",
    "    running_loss = 0\n",
    "    for epoch in range(EPOCHS):\n",
    "        for batch_idx, (data, target) in enumerate(train_loader):\n",
    "            data, target = data.to(DEVICE), target.to(DEVICE)\n",
    "\n",
    "            optimizer.zero_grad()\n",
    "            output = model(data)\n",
    "            \n",
    "            loss = criterion(output, target)\n",
    "            loss.backward()\n",
    "            optimizer.step()\n",
    "            \n",
    "            # print statistics\n",
    "            running_loss += loss.item() * data.size(0)\n",
    "            if i % 100 == 99:    # print every 100 mini-batches\n",
    "                print(f'[{ep + 1}, {i + 1:5d}] loss: {running_loss / 100:.3f}')\n",
    "\n",
    "\n",
    "    train_loss = running_loss  / len(train_loader.dataset)\n",
    "    print(f'Epoch [{ep+1}], Train Loss: {train_loss:.4f}')\n",
    "            # print(f'Epoch [{ep+1}], Train Loss: {train_loss:.4f}')\n",
    "\n",
    "    # Validation of the model.\n",
    "    model.eval()\n",
    "    with torch.no_grad():\n",
    "        for batch_idx, (data, target) in enumerate(val_loader):\n",
    "            # data, target = data.to(DEVICE), target.to(DEVICE)\n",
    "            if isinstance(model, nn.DataParallel):\n",
    "                model = model.module  # Unwrap from DataParallel\n",
    "            model = model.to('cpu')\n",
    "            outputs = model(data)\n",
    "            \n",
    "            # save metrics\n",
    "            mae, mape, rmse, rsqr = calculate_metric(outputs.numpy(), target.numpy())\n",
    "            val_mae.append(mae)\n",
    "            val_mape.append(mape)\n",
    "            val_rmse.append(rmse)\n",
    "            val_rsqr.append(rsqr)\n",
    "            "
   ]
  },
  {
   "cell_type": "code",
   "execution_count": 348,
   "metadata": {},
   "outputs": [
    {
     "name": "stdout",
     "output_type": "stream",
     "text": [
      "Test average mean absolute error: 0.16954633593559265\n",
      "Test average mean absolute percentage error: 3544.4460558891296\n",
      "Test average root mean squared error: 0.23661047059014853\n",
      "Test average R2: 0.48723597526550294\n"
     ]
    }
   ],
   "source": [
    "print(f\"Test average mean absolute error: {statistics.mean(val_mae)}\")\n",
    "print(f\"Test average mean absolute percentage error: {statistics.mean(val_mape)}\")\n",
    "print(f\"Test average root mean squared error: {statistics.mean(val_rmse)}\")\n",
    "print(f\"Test average R2: {statistics.mean(val_rsqr)}\")"
   ]
  },
  {
   "cell_type": "code",
   "execution_count": 349,
   "metadata": {},
   "outputs": [
    {
     "data": {
      "text/plain": [
       "[0.23308723643692,\n",
       " 0.24839541960561307,\n",
       " 0.2511300830867783,\n",
       " 0.22129581841764218,\n",
       " 0.22914379540378904]"
      ]
     },
     "execution_count": 349,
     "metadata": {},
     "output_type": "execute_result"
    }
   ],
   "source": [
    "val_rmse"
   ]
  }
 ],
 "metadata": {
  "kernelspec": {
   "display_name": ".venv",
   "language": "python",
   "name": "python3"
  },
  "language_info": {
   "codemirror_mode": {
    "name": "ipython",
    "version": 3
   },
   "file_extension": ".py",
   "mimetype": "text/x-python",
   "name": "python",
   "nbconvert_exporter": "python",
   "pygments_lexer": "ipython3",
   "version": "3.12.3"
  }
 },
 "nbformat": 4,
 "nbformat_minor": 2
}
